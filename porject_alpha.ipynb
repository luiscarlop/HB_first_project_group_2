{
 "cells": [
  {
   "cell_type": "markdown",
   "metadata": {},
   "source": [
    "# Project Group 2"
   ]
  },
  {
   "cell_type": "markdown",
   "metadata": {},
   "source": [
    "## Import libraries"
   ]
  },
  {
   "cell_type": "code",
   "execution_count": 1,
   "metadata": {},
   "outputs": [],
   "source": [
    "import pandas as pd\n",
    "import numpy as np\n",
    "from pathlib import Path\n",
    "\n",
    "import requests\n",
    "from bs4 import BeautifulSoup\n",
    "\n",
    "from selenium import webdriver\n",
    "from selenium.webdriver.common.by import By\n",
    "\n",
    "from time import sleep\n",
    "\n",
    "import matplotlib.pyplot as plt\n",
    "import seaborn as sns"
   ]
  },
  {
   "cell_type": "code",
   "execution_count": 21,
   "metadata": {},
   "outputs": [],
   "source": [
    "driver = webdriver.Chrome()  # Instances WebDriver for Chrome\n",
    "\n",
    "driver.get(\"https://airbnb.com\")  # Opens Airbnb website\n",
    "\n",
    "sleep(5)  # Waits for 5 seconds\n",
    "\n",
    "# Clicks on the Accept button for cookies if it appears\n",
    "try:\n",
    "    driver.find_element(\n",
    "        By.XPATH,\n",
    "        value=\"/html/body/div[5]/div/div/div[1]/div/div[6]/section/div[2]/div[2]/button\",\n",
    "    ).click()\n",
    "except:\n",
    "    pass"
   ]
  },
  {
   "cell_type": "code",
   "execution_count": 22,
   "metadata": {},
   "outputs": [],
   "source": [
    "city = \"Valencia\"  # City to search for"
   ]
  },
  {
   "cell_type": "code",
   "execution_count": 23,
   "metadata": {},
   "outputs": [],
   "source": [
    "# Finds the search input and types the city\n",
    "\n",
    "driver.find_element(\n",
    "    By.ID,\n",
    "    value=\"bigsearch-query-location-input\",\n",
    ").send_keys(city)\n",
    "\n",
    "sleep(1)  # Waits for 1 second\n",
    "\n",
    "# Clicks on the search button\n",
    "\n",
    "driver.find_element(By.CLASS_NAME, value=\"bhtghtc\").click()"
   ]
  },
  {
   "cell_type": "code",
   "execution_count": 24,
   "metadata": {},
   "outputs": [],
   "source": [
    "# Store the ID of the original window\n",
    "original_window = driver.current_window_handle"
   ]
  },
  {
   "cell_type": "code",
   "execution_count": 26,
   "metadata": {},
   "outputs": [],
   "source": [
    "# Iterates over the listings and opens each one in a new tab. Then, it closes the tab and goes back to the original window\n",
    "\n",
    "listings = driver.find_elements(\n",
    "    By.CLASS_NAME, value=\"c4mnd7m\"\n",
    ")  # Finds all the listings\n",
    "\n",
    "for listing in listings:\n",
    "    listing.click()  # Clicks on the listing\n",
    "    sleep(2)\n",
    "    driver.switch_to.window(driver.window_handles[1])  # Switches to the new tab\n",
    "\n",
    "    # Sometimes, a pop-up appears. This code closes it if it does\n",
    "    try:\n",
    "        driver.find_element(\n",
    "            By.XPATH,\n",
    "            value=\"/html/body/div[9]/div/div/section/div/div/div[2]/div/div[1]/button\",\n",
    "        ).click()\n",
    "    except:\n",
    "        pass\n",
    "\n",
    "    \"\"\"\n",
    "    Here is it supposed to scrape the data from the listing.\n",
    "    \"\"\"\n",
    "\n",
    "    sleep(2)\n",
    "\n",
    "    driver.close()\n",
    "    sleep(1)\n",
    "    driver.switch_to.window(original_window)"
   ]
  },
  {
   "cell_type": "code",
   "execution_count": null,
   "metadata": {},
   "outputs": [],
   "source": [
    "# # Clicks on the first result\n",
    "\n",
    "# driver.find_element(\n",
    "#     By.XPATH,\n",
    "#     value=\"/html/body/div[5]/div/div/div[1]/div/div[3]/div[2]/main/div[2]/div/div[2]/div/div/div/div/div[1]/div[1]\",\n",
    "# ).click()\n",
    "\n",
    "# # As the result opens in a new tab, we need to switch to it\n",
    "\n",
    "# driver.switch_to.window(driver.window_handles[1])\n",
    "\n",
    "# sleep(5)  # Waits for 5 seconds\n",
    "\n",
    "# # Sometimes a pop-up appears, so we need to close it\n",
    "# try:\n",
    "#     driver.find_element(\n",
    "#         By.XPATH,\n",
    "#         value=\"/html/body/div[9]/div/div/section/div/div/div[2]/div/div[1]/button\",\n",
    "#     ).click()\n",
    "# except:\n",
    "#     pass"
   ]
  },
  {
   "cell_type": "code",
   "execution_count": null,
   "metadata": {},
   "outputs": [],
   "source": [
    "# Initializes the lists to store the data\n",
    "\n",
    "name = list()\n",
    "type = list()\n",
    "price_per_night = list()\n",
    "host = list()\n",
    "rating = list()\n",
    "reviews = list()\n",
    "\n",
    "# Getting the data\n",
    "\n",
    "# Name of the listing\n",
    "try:\n",
    "    name.append(\n",
    "        driver.find_element(\n",
    "            By.XPATH,\n",
    "            value=\"/html/body/div[5]/div/div/div[1]/div/div[2]/div/div/div/div[1]/main/div/div[1]/div[1]/div[1]/div/div/div/div/div/section/div/div[1]/span/h1\",\n",
    "        ).text\n",
    "    )\n",
    "except:\n",
    "    name.append(np.nan)\n",
    "\n",
    "# -------------------------\n",
    "# Type of accommodation\n",
    "\n",
    "try:\n",
    "    type.append(\n",
    "        driver.find_element(\n",
    "            By.XPATH,\n",
    "            value=\"/html/body/div[5]/div/div/div[1]/div/div[2]/div/div/div/div[1]/main/div/div[1]/div[3]/div/div[1]/div/div[1]/div/div/div/section/div[1]/h2\",\n",
    "        ).text\n",
    "    )\n",
    "except:\n",
    "    type.append(np.nan)\n",
    "\n",
    "# -------------------------\n",
    "# Price per night\n",
    "\n",
    "try:\n",
    "    price_per_night.append(\n",
    "        driver.find_elements(By.CLASS_NAME, value=\"_tyxjp1\")[1].text.split(\" \")[0]\n",
    "    )\n",
    "except:\n",
    "    price_per_night.append(np.nan)\n",
    "\n",
    "# -------------------------\n",
    "# Host name\n",
    "\n",
    "try:\n",
    "    host.append(\n",
    "        driver.find_element(\n",
    "            By.XPATH,\n",
    "            value=\"/html/body/div[5]/div/div/div[1]/div/div[2]/div/div/div/div[1]/main/div/div[1]/div[3]/div/div[1]/div/div[2]/div[2]/div/div/div/div[2]/div[1]\",\n",
    "        ).text.split(\" \")[1]\n",
    "    )\n",
    "except:\n",
    "    host.append(np.nan)\n",
    "\n",
    "# -------------------------\n",
    "# Rating\n",
    "\n",
    "try:\n",
    "    rating.append(\n",
    "        driver.find_element(\n",
    "            By.XPATH,\n",
    "            value=\"/html/body/div[5]/div/div/div[1]/div/div[2]/div/div/div/div[1]/main/div/div[1]/div[3]/div/div[1]/div/div[1]/div/div/div/section/div[3]/div[2]\",\n",
    "        ).text\n",
    "    )\n",
    "except:\n",
    "    rating.append(np.nan)\n",
    "\n",
    "# -------------------------\n",
    "# Reviews\n",
    "\n",
    "try:\n",
    "    reviews.append(\n",
    "        driver.find_element(\n",
    "            By.XPATH,\n",
    "            value=\"/html/body/div[5]/div/div/div[1]/div/div[2]/div/div/div/div[1]/main/div/div[1]/div[3]/div/div[1]/div/div[1]/div/div/div/section/div[3]/a\",\n",
    "        ).text.split(\" \")[0]\n",
    "    )\n",
    "except:\n",
    "    reviews.append(np.nan)"
   ]
  },
  {
   "cell_type": "code",
   "execution_count": null,
   "metadata": {},
   "outputs": [],
   "source": [
    "name, type, price_per_night, host, rating, reviews"
   ]
  },
  {
   "cell_type": "code",
   "execution_count": null,
   "metadata": {},
   "outputs": [],
   "source": []
  },
  {
   "cell_type": "code",
   "execution_count": null,
   "metadata": {},
   "outputs": [],
   "source": [
    "# Close the tab or window\n",
    "driver.close()"
   ]
  },
  {
   "cell_type": "code",
   "execution_count": null,
   "metadata": {},
   "outputs": [],
   "source": []
  }
 ],
 "metadata": {
  "kernelspec": {
   "display_name": "Python 3",
   "language": "python",
   "name": "python3"
  },
  "language_info": {
   "codemirror_mode": {
    "name": "ipython",
    "version": 3
   },
   "file_extension": ".py",
   "mimetype": "text/x-python",
   "name": "python",
   "nbconvert_exporter": "python",
   "pygments_lexer": "ipython3",
   "version": "3.9.12"
  }
 },
 "nbformat": 4,
 "nbformat_minor": 2
}

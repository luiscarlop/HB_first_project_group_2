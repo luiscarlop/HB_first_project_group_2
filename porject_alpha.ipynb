{
 "cells": [
  {
   "cell_type": "markdown",
   "metadata": {},
   "source": [
    "# Project Group 2"
   ]
  },
  {
   "cell_type": "markdown",
   "metadata": {},
   "source": [
    "## Import libraries"
   ]
  },
  {
   "cell_type": "code",
   "execution_count": 142,
   "metadata": {},
   "outputs": [],
   "source": [
    "import pandas as pd\n",
    "import numpy as np\n",
    "from pathlib import Path\n",
    "\n",
    "import requests\n",
    "from bs4 import BeautifulSoup\n",
    "\n",
    "from selenium import webdriver\n",
    "from selenium.webdriver.common.by import By\n",
    "\n",
    "from time import sleep\n",
    "\n",
    "import matplotlib.pyplot as plt\n",
    "import seaborn as sns"
   ]
  },
  {
   "cell_type": "code",
   "execution_count": 250,
   "metadata": {},
   "outputs": [],
   "source": [
    "driver = webdriver.Chrome()  # Instances WebDriver for Chrome\n",
    "\n",
    "driver.get(\"https://airbnb.com\")  # Opens Airbnb website\n",
    "\n",
    "sleep(5)  # Waits for 5 seconds\n",
    "\n",
    "# Clicks on the Accept button for cookies if it appears\n",
    "try:\n",
    "    driver.find_element(\n",
    "        By.XPATH,\n",
    "        value=\"/html/body/div[5]/div/div/div[1]/div/div[6]/section/div[2]/div[2]/button\",\n",
    "    ).click()\n",
    "except:\n",
    "    pass"
   ]
  },
  {
   "cell_type": "code",
   "execution_count": 251,
   "metadata": {},
   "outputs": [],
   "source": [
    "city = \"Valencia\"  # City to search for"
   ]
  },
  {
   "cell_type": "code",
   "execution_count": 252,
   "metadata": {},
   "outputs": [],
   "source": [
    "# Finds the search input and types the city\n",
    "\n",
    "driver.find_element(\n",
    "    By.ID,\n",
    "    value=\"bigsearch-query-location-input\",\n",
    ").send_keys(city)"
   ]
  },
  {
   "cell_type": "code",
   "execution_count": 253,
   "metadata": {},
   "outputs": [],
   "source": [
    "# Clicks on the search button\n",
    "\n",
    "driver.find_element(\n",
    "    By.CLASS_NAME,\n",
    "    value=\"bhtghtc\",\n",
    ").click()"
   ]
  },
  {
   "cell_type": "code",
   "execution_count": 254,
   "metadata": {},
   "outputs": [],
   "source": [
    "# Store the ID of the original window\n",
    "original_window = driver.current_window_handle"
   ]
  },
  {
   "cell_type": "code",
   "execution_count": 255,
   "metadata": {},
   "outputs": [],
   "source": [
    "# Clicks on the first result\n",
    "\n",
    "driver.find_element(\n",
    "    By.XPATH,\n",
    "    value=\"/html/body/div[5]/div/div/div[1]/div/div[3]/div[2]/main/div[2]/div/div[2]/div/div/div/div/div[1]/div[1]\",\n",
    ").click()\n",
    "\n",
    "# As the result opens in a new tab, we need to switch to it\n",
    "\n",
    "driver.switch_to.window(driver.window_handles[1])\n",
    "\n",
    "sleep(5)  # Waits for 5 seconds\n",
    "\n",
    "# Sometimes a pop-up appears, so we need to close it\n",
    "try:\n",
    "    driver.find_element(\n",
    "        By.XPATH,\n",
    "        value=\"/html/body/div[9]/div/div/section/div/div/div[2]/div/div[1]/button\",\n",
    "    ).click()\n",
    "except:\n",
    "    pass"
   ]
  },
  {
   "cell_type": "code",
   "execution_count": 256,
   "metadata": {},
   "outputs": [],
   "source": [
    "# Initializes the lists to store the data\n",
    "\n",
    "name = list()\n",
    "type = list()\n",
    "price_per_night = list()\n",
    "host = list()\n",
    "rating = list()\n",
    "reviews = list()"
   ]
  },
  {
   "cell_type": "code",
   "execution_count": 257,
   "metadata": {},
   "outputs": [],
   "source": [
    "name.append(\n",
    "    driver.find_element(\n",
    "        By.XPATH,\n",
    "        value=\"/html/body/div[5]/div/div/div[1]/div/div[2]/div/div/div/div[1]/main/div/div[1]/div[1]/div[1]/div/div/div/div/div/section/div/div[1]/span/h1\",\n",
    "    ).text\n",
    ")"
   ]
  },
  {
   "cell_type": "code",
   "execution_count": 258,
   "metadata": {},
   "outputs": [],
   "source": [
    "type.append(\n",
    "    driver.find_element(\n",
    "        By.XPATH,\n",
    "        value=\"/html/body/div[5]/div/div/div[1]/div/div[2]/div/div/div/div[1]/main/div/div[1]/div[3]/div/div[1]/div/div[1]/div/div/div/section/div[1]/h2\",\n",
    "    ).text\n",
    ")"
   ]
  },
  {
   "cell_type": "code",
   "execution_count": 259,
   "metadata": {},
   "outputs": [],
   "source": [
    "price_per_night.append(\n",
    "    driver.find_elements(By.CLASS_NAME, value=\"_tyxjp1\")[1].text.split(\" \")[0]\n",
    ")"
   ]
  },
  {
   "cell_type": "code",
   "execution_count": 260,
   "metadata": {},
   "outputs": [],
   "source": [
    "host.append(\n",
    "    driver.find_element(\n",
    "        By.XPATH,\n",
    "        value=\"/html/body/div[5]/div/div/div[1]/div/div[2]/div/div/div/div[1]/main/div/div[1]/div[3]/div/div[1]/div/div[2]/div[2]/div/div/div/div[2]/div[1]\",\n",
    "    ).text.split(\" \")[1]\n",
    ")"
   ]
  },
  {
   "cell_type": "code",
   "execution_count": 261,
   "metadata": {},
   "outputs": [],
   "source": [
    "rating.append(\n",
    "    driver.find_element(\n",
    "        By.XPATH,\n",
    "        value=\"/html/body/div[5]/div/div/div[1]/div/div[2]/div/div/div/div[1]/main/div/div[1]/div[3]/div/div[1]/div/div[1]/div/div/div/section/div[3]/div[2]\",\n",
    "    ).text\n",
    ")"
   ]
  },
  {
   "cell_type": "code",
   "execution_count": 262,
   "metadata": {},
   "outputs": [],
   "source": [
    "try:\n",
    "    reviews.append(\n",
    "        driver.find_element(\n",
    "            By.XPATH,\n",
    "            value=\"/html/body/div[5]/div/div/div[1]/div/div[2]/div/div/div/div[1]/main/div/div[1]/div[3]/div/div[1]/div/div[1]/div/div/div/section/div[3]/a\",\n",
    "        ).text.split(\" \")[0]\n",
    "    )\n",
    "except:\n",
    "    pass"
   ]
  },
  {
   "cell_type": "code",
   "execution_count": 263,
   "metadata": {},
   "outputs": [
    {
     "data": {
      "text/plain": [
       "(['Bajo a estrenar en pleno centro'],\n",
       " ['Alojamiento entero: piso en València, España'],\n",
       " ['225'],\n",
       " ['Federico'],\n",
       " ['Nuevo'],\n",
       " ['1'])"
      ]
     },
     "execution_count": 263,
     "metadata": {},
     "output_type": "execute_result"
    }
   ],
   "source": [
    "name, type, price_per_night, host, rating, reviews"
   ]
  },
  {
   "cell_type": "code",
   "execution_count": null,
   "metadata": {},
   "outputs": [],
   "source": []
  },
  {
   "cell_type": "code",
   "execution_count": 141,
   "metadata": {},
   "outputs": [],
   "source": [
    "# Close the tab or window\n",
    "driver.close()"
   ]
  },
  {
   "cell_type": "code",
   "execution_count": null,
   "metadata": {},
   "outputs": [],
   "source": []
  }
 ],
 "metadata": {
  "kernelspec": {
   "display_name": "Python 3",
   "language": "python",
   "name": "python3"
  },
  "language_info": {
   "codemirror_mode": {
    "name": "ipython",
    "version": 3
   },
   "file_extension": ".py",
   "mimetype": "text/x-python",
   "name": "python",
   "nbconvert_exporter": "python",
   "pygments_lexer": "ipython3",
   "version": "3.9.12"
  }
 },
 "nbformat": 4,
 "nbformat_minor": 2
}

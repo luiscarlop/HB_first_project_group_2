{
 "cells": [
  {
   "cell_type": "code",
   "execution_count": 40,
   "metadata": {},
   "outputs": [],
   "source": [
    "import pandas as pd\n",
    "import numpy as np\n",
    "\n",
    "import matplotlib.pyplot as plt\n",
    "import seaborn as sns\n",
    "import plotly.express as px\n",
    "\n",
    "from pathlib import Path"
   ]
  },
  {
   "cell_type": "markdown",
   "metadata": {},
   "source": [
    "***DATA CLEANING***\n"
   ]
  },
  {
   "cell_type": "code",
   "execution_count": 41,
   "metadata": {},
   "outputs": [],
   "source": [
    "# Load the data\n",
    "\n",
    "DATA_DIR = Path(\"..\") / \"data\"\n",
    "FIG_DIR = Path(\"..\") / \"figures\"\n",
    "\n",
    "airbnb_data = pd.read_csv(DATA_DIR / \"airbnb_data.csv\")"
   ]
  },
  {
   "cell_type": "code",
   "execution_count": 42,
   "metadata": {},
   "outputs": [
    {
     "name": "stdout",
     "output_type": "stream",
     "text": [
      "<class 'pandas.core.frame.DataFrame'>\n",
      "RangeIndex: 756 entries, 0 to 755\n",
      "Data columns (total 7 columns):\n",
      " #   Column           Non-Null Count  Dtype  \n",
      "---  ------           --------------  -----  \n",
      " 0   Name             755 non-null    object \n",
      " 1   Type             756 non-null    object \n",
      " 2   Price per night  749 non-null    float64\n",
      " 3   Host             756 non-null    object \n",
      " 4   Rating           623 non-null    object \n",
      " 5   Reviews          531 non-null    float64\n",
      " 6   City             756 non-null    object \n",
      "dtypes: float64(2), object(5)\n",
      "memory usage: 41.5+ KB\n"
     ]
    }
   ],
   "source": [
    "airbnb_data.info()"
   ]
  },
  {
   "cell_type": "code",
   "execution_count": 43,
   "metadata": {},
   "outputs": [
    {
     "data": {
      "text/html": [
       "<div>\n",
       "<style scoped>\n",
       "    .dataframe tbody tr th:only-of-type {\n",
       "        vertical-align: middle;\n",
       "    }\n",
       "\n",
       "    .dataframe tbody tr th {\n",
       "        vertical-align: top;\n",
       "    }\n",
       "\n",
       "    .dataframe thead th {\n",
       "        text-align: right;\n",
       "    }\n",
       "</style>\n",
       "<table border=\"1\" class=\"dataframe\">\n",
       "  <thead>\n",
       "    <tr style=\"text-align: right;\">\n",
       "      <th></th>\n",
       "      <th>Name</th>\n",
       "      <th>Type</th>\n",
       "      <th>Price per night</th>\n",
       "      <th>Host</th>\n",
       "      <th>Rating</th>\n",
       "      <th>Reviews</th>\n",
       "      <th>City</th>\n",
       "    </tr>\n",
       "  </thead>\n",
       "  <tbody>\n",
       "    <tr>\n",
       "      <th>0</th>\n",
       "      <td>Acogedor apartamento privado en el centro de B...</td>\n",
       "      <td>Alojamiento entero: piso en Bern, Suiza</td>\n",
       "      <td>43.0</td>\n",
       "      <td>Anfitrión: Marcos</td>\n",
       "      <td>4,68</td>\n",
       "      <td>19.0</td>\n",
       "      <td>bern</td>\n",
       "    </tr>\n",
       "    <tr>\n",
       "      <th>1</th>\n",
       "      <td>Exclusivo departamento urbano</td>\n",
       "      <td>Alojamiento entero: piso en Bern, Suiza</td>\n",
       "      <td>473.0</td>\n",
       "      <td>Anfitrión: Stephan</td>\n",
       "      <td>NaN</td>\n",
       "      <td>NaN</td>\n",
       "      <td>bern</td>\n",
       "    </tr>\n",
       "    <tr>\n",
       "      <th>2</th>\n",
       "      <td>Sala de estar en Berna</td>\n",
       "      <td>Habitación en Bern, Suiza</td>\n",
       "      <td>36.0</td>\n",
       "      <td>Quédate con Arwen</td>\n",
       "      <td>5,0</td>\n",
       "      <td>5.0</td>\n",
       "      <td>bern</td>\n",
       "    </tr>\n",
       "    <tr>\n",
       "      <th>3</th>\n",
       "      <td>Apartamento en el casco antiguo</td>\n",
       "      <td>Alojamiento entero: piso en Bern, Suiza</td>\n",
       "      <td>125.0</td>\n",
       "      <td>Anfitrión: Kai</td>\n",
       "      <td>4,84</td>\n",
       "      <td>339.0</td>\n",
       "      <td>bern</td>\n",
       "    </tr>\n",
       "    <tr>\n",
       "      <th>4</th>\n",
       "      <td>Habitación en Freimettigen</td>\n",
       "      <td>Habitación en Freimettigen, Suiza</td>\n",
       "      <td>36.0</td>\n",
       "      <td>Anfitrión: Urs</td>\n",
       "      <td>NaN</td>\n",
       "      <td>NaN</td>\n",
       "      <td>bern</td>\n",
       "    </tr>\n",
       "  </tbody>\n",
       "</table>\n",
       "</div>"
      ],
      "text/plain": [
       "                                                Name  \\\n",
       "0  Acogedor apartamento privado en el centro de B...   \n",
       "1                      Exclusivo departamento urbano   \n",
       "2                             Sala de estar en Berna   \n",
       "3                    Apartamento en el casco antiguo   \n",
       "4                         Habitación en Freimettigen   \n",
       "\n",
       "                                      Type  Price per night  \\\n",
       "0  Alojamiento entero: piso en Bern, Suiza             43.0   \n",
       "1  Alojamiento entero: piso en Bern, Suiza            473.0   \n",
       "2                Habitación en Bern, Suiza             36.0   \n",
       "3  Alojamiento entero: piso en Bern, Suiza            125.0   \n",
       "4        Habitación en Freimettigen, Suiza             36.0   \n",
       "\n",
       "                 Host Rating  Reviews  City  \n",
       "0   Anfitrión: Marcos   4,68     19.0  bern  \n",
       "1  Anfitrión: Stephan    NaN      NaN  bern  \n",
       "2   Quédate con Arwen    5,0      5.0  bern  \n",
       "3      Anfitrión: Kai   4,84    339.0  bern  \n",
       "4      Anfitrión: Urs    NaN      NaN  bern  "
      ]
     },
     "execution_count": 43,
     "metadata": {},
     "output_type": "execute_result"
    }
   ],
   "source": [
    "airbnb_data.head()"
   ]
  },
  {
   "cell_type": "code",
   "execution_count": 44,
   "metadata": {},
   "outputs": [],
   "source": [
    "# Define a function to format the category column\n",
    "\n",
    "\n",
    "def category(value):\n",
    "    if \"Alojamiento entero\" in value:\n",
    "        return \"Alojamiento entero\"\n",
    "    elif \"Habitación\" in value:\n",
    "        return \"Habitación\"\n",
    "    else:\n",
    "        return \"otro\""
   ]
  },
  {
   "cell_type": "code",
   "execution_count": 45,
   "metadata": {},
   "outputs": [],
   "source": [
    "# Creamos la columna Country en funcion a \"Type\"\n",
    "airbnb_data[\"Country\"] = airbnb_data[\"Type\"].str.split(\",\").str[-1].str.strip()\n",
    "\n",
    "# agregar columna \"categoria\" en funcion a Type\n",
    "airbnb_data[\"Type\"] = airbnb_data[\"Type\"].apply(category)\n",
    "airbnb_data.rename(columns={\"Type\": \"Category\"}, inplace=True)"
   ]
  },
  {
   "cell_type": "code",
   "execution_count": 46,
   "metadata": {},
   "outputs": [
    {
     "data": {
      "text/html": [
       "<div>\n",
       "<style scoped>\n",
       "    .dataframe tbody tr th:only-of-type {\n",
       "        vertical-align: middle;\n",
       "    }\n",
       "\n",
       "    .dataframe tbody tr th {\n",
       "        vertical-align: top;\n",
       "    }\n",
       "\n",
       "    .dataframe thead th {\n",
       "        text-align: right;\n",
       "    }\n",
       "</style>\n",
       "<table border=\"1\" class=\"dataframe\">\n",
       "  <thead>\n",
       "    <tr style=\"text-align: right;\">\n",
       "      <th></th>\n",
       "      <th>Name</th>\n",
       "      <th>Category</th>\n",
       "      <th>Price per night</th>\n",
       "      <th>Host</th>\n",
       "      <th>Rating</th>\n",
       "      <th>Reviews</th>\n",
       "      <th>City</th>\n",
       "      <th>Country</th>\n",
       "    </tr>\n",
       "  </thead>\n",
       "  <tbody>\n",
       "    <tr>\n",
       "      <th>0</th>\n",
       "      <td>Acogedor apartamento privado en el centro de B...</td>\n",
       "      <td>Alojamiento entero</td>\n",
       "      <td>43.0</td>\n",
       "      <td>Anfitrión: Marcos</td>\n",
       "      <td>4,68</td>\n",
       "      <td>19.0</td>\n",
       "      <td>bern</td>\n",
       "      <td>Suiza</td>\n",
       "    </tr>\n",
       "    <tr>\n",
       "      <th>1</th>\n",
       "      <td>Exclusivo departamento urbano</td>\n",
       "      <td>Alojamiento entero</td>\n",
       "      <td>473.0</td>\n",
       "      <td>Anfitrión: Stephan</td>\n",
       "      <td>NaN</td>\n",
       "      <td>NaN</td>\n",
       "      <td>bern</td>\n",
       "      <td>Suiza</td>\n",
       "    </tr>\n",
       "    <tr>\n",
       "      <th>2</th>\n",
       "      <td>Sala de estar en Berna</td>\n",
       "      <td>Habitación</td>\n",
       "      <td>36.0</td>\n",
       "      <td>Quédate con Arwen</td>\n",
       "      <td>5,0</td>\n",
       "      <td>5.0</td>\n",
       "      <td>bern</td>\n",
       "      <td>Suiza</td>\n",
       "    </tr>\n",
       "    <tr>\n",
       "      <th>3</th>\n",
       "      <td>Apartamento en el casco antiguo</td>\n",
       "      <td>Alojamiento entero</td>\n",
       "      <td>125.0</td>\n",
       "      <td>Anfitrión: Kai</td>\n",
       "      <td>4,84</td>\n",
       "      <td>339.0</td>\n",
       "      <td>bern</td>\n",
       "      <td>Suiza</td>\n",
       "    </tr>\n",
       "    <tr>\n",
       "      <th>4</th>\n",
       "      <td>Habitación en Freimettigen</td>\n",
       "      <td>Habitación</td>\n",
       "      <td>36.0</td>\n",
       "      <td>Anfitrión: Urs</td>\n",
       "      <td>NaN</td>\n",
       "      <td>NaN</td>\n",
       "      <td>bern</td>\n",
       "      <td>Suiza</td>\n",
       "    </tr>\n",
       "    <tr>\n",
       "      <th>5</th>\n",
       "      <td>Ice Attic-Apt, casco antiguo, a 3 minutos de l...</td>\n",
       "      <td>Habitación</td>\n",
       "      <td>113.0</td>\n",
       "      <td>Anfitrión: Kai</td>\n",
       "      <td>4,84</td>\n",
       "      <td>218.0</td>\n",
       "      <td>bern</td>\n",
       "      <td>Suiza</td>\n",
       "    </tr>\n",
       "    <tr>\n",
       "      <th>6</th>\n",
       "      <td>N.º 2 apartamento acogedor y céntrico</td>\n",
       "      <td>Alojamiento entero</td>\n",
       "      <td>71.0</td>\n",
       "      <td>Anfitrión: Bess</td>\n",
       "      <td>4,87</td>\n",
       "      <td>NaN</td>\n",
       "      <td>bern</td>\n",
       "      <td>Suiza</td>\n",
       "    </tr>\n",
       "    <tr>\n",
       "      <th>7</th>\n",
       "      <td>Habitación en el espejo BE, a 10 de Berna</td>\n",
       "      <td>Alojamiento entero</td>\n",
       "      <td>62.0</td>\n",
       "      <td>Anfitrión: Chantal</td>\n",
       "      <td>5,0</td>\n",
       "      <td>13.0</td>\n",
       "      <td>bern</td>\n",
       "      <td>Suiza</td>\n",
       "    </tr>\n",
       "    <tr>\n",
       "      <th>8</th>\n",
       "      <td>Habitación soleada, súper central, estación de...</td>\n",
       "      <td>Habitación</td>\n",
       "      <td>68.0</td>\n",
       "      <td>Quédate con Kai</td>\n",
       "      <td>4,93</td>\n",
       "      <td>877.0</td>\n",
       "      <td>bern</td>\n",
       "      <td>Suiza</td>\n",
       "    </tr>\n",
       "    <tr>\n",
       "      <th>9</th>\n",
       "      <td>Como si estuvieras en casa</td>\n",
       "      <td>Habitación</td>\n",
       "      <td>42.0</td>\n",
       "      <td>Quédate con Aline Karina</td>\n",
       "      <td>NaN</td>\n",
       "      <td>NaN</td>\n",
       "      <td>bern</td>\n",
       "      <td>Suiza</td>\n",
       "    </tr>\n",
       "  </tbody>\n",
       "</table>\n",
       "</div>"
      ],
      "text/plain": [
       "                                                Name            Category  \\\n",
       "0  Acogedor apartamento privado en el centro de B...  Alojamiento entero   \n",
       "1                      Exclusivo departamento urbano  Alojamiento entero   \n",
       "2                             Sala de estar en Berna          Habitación   \n",
       "3                    Apartamento en el casco antiguo  Alojamiento entero   \n",
       "4                         Habitación en Freimettigen          Habitación   \n",
       "5  Ice Attic-Apt, casco antiguo, a 3 minutos de l...          Habitación   \n",
       "6              N.º 2 apartamento acogedor y céntrico  Alojamiento entero   \n",
       "7          Habitación en el espejo BE, a 10 de Berna  Alojamiento entero   \n",
       "8  Habitación soleada, súper central, estación de...          Habitación   \n",
       "9                         Como si estuvieras en casa          Habitación   \n",
       "\n",
       "   Price per night                      Host Rating  Reviews  City Country  \n",
       "0             43.0         Anfitrión: Marcos   4,68     19.0  bern   Suiza  \n",
       "1            473.0        Anfitrión: Stephan    NaN      NaN  bern   Suiza  \n",
       "2             36.0         Quédate con Arwen    5,0      5.0  bern   Suiza  \n",
       "3            125.0            Anfitrión: Kai   4,84    339.0  bern   Suiza  \n",
       "4             36.0            Anfitrión: Urs    NaN      NaN  bern   Suiza  \n",
       "5            113.0            Anfitrión: Kai   4,84    218.0  bern   Suiza  \n",
       "6             71.0           Anfitrión: Bess   4,87      NaN  bern   Suiza  \n",
       "7             62.0        Anfitrión: Chantal    5,0     13.0  bern   Suiza  \n",
       "8             68.0           Quédate con Kai   4,93    877.0  bern   Suiza  \n",
       "9             42.0  Quédate con Aline Karina    NaN      NaN  bern   Suiza  "
      ]
     },
     "execution_count": 46,
     "metadata": {},
     "output_type": "execute_result"
    }
   ],
   "source": [
    "airbnb_data.head(10)"
   ]
  },
  {
   "cell_type": "code",
   "execution_count": 47,
   "metadata": {},
   "outputs": [],
   "source": [
    "# Limpiamos los nombres de \"Host\"\n",
    "airbnb_data[\"Host\"] = (\n",
    "    airbnb_data[\"Host\"].str.replace(\"Anfitrión:\", \"\").str.replace(\"Quédate con \", \"\")\n",
    ")\n",
    "\n",
    "# reemplazamos las comas por puntos en Rating\n",
    "airbnb_data[\"Rating\"] = airbnb_data[\"Rating\"].str.replace(\",\", \".\").astype(float)\n",
    "\n",
    "# asignamos 0 a los casos que no tienen ni Rating ni Reviews.\n",
    "airbnb_data[\"Rating\"] = airbnb_data[\"Rating\"].fillna(0).astype(float)\n",
    "airbnb_data[\"Reviews\"] = airbnb_data[\"Reviews\"].fillna(0)\n",
    "\n",
    "\n",
    "# .capitalize() para la columna City\n",
    "airbnb_data[\"City\"] = airbnb_data[\"City\"].str.capitalize()"
   ]
  },
  {
   "cell_type": "code",
   "execution_count": 48,
   "metadata": {},
   "outputs": [],
   "source": [
    "airbnb_data.columns = airbnb_data.columns.str.lower().str.replace(\" \", \"_\")\n",
    "airbnb_data.dropna(inplace=True)"
   ]
  },
  {
   "cell_type": "code",
   "execution_count": 49,
   "metadata": {},
   "outputs": [
    {
     "data": {
      "text/html": [
       "<div>\n",
       "<style scoped>\n",
       "    .dataframe tbody tr th:only-of-type {\n",
       "        vertical-align: middle;\n",
       "    }\n",
       "\n",
       "    .dataframe tbody tr th {\n",
       "        vertical-align: top;\n",
       "    }\n",
       "\n",
       "    .dataframe thead th {\n",
       "        text-align: right;\n",
       "    }\n",
       "</style>\n",
       "<table border=\"1\" class=\"dataframe\">\n",
       "  <thead>\n",
       "    <tr style=\"text-align: right;\">\n",
       "      <th></th>\n",
       "      <th>name</th>\n",
       "      <th>category</th>\n",
       "      <th>price_per_night</th>\n",
       "      <th>host</th>\n",
       "      <th>rating</th>\n",
       "      <th>reviews</th>\n",
       "      <th>city</th>\n",
       "      <th>country</th>\n",
       "    </tr>\n",
       "  </thead>\n",
       "  <tbody>\n",
       "    <tr>\n",
       "      <th>0</th>\n",
       "      <td>Acogedor apartamento privado en el centro de B...</td>\n",
       "      <td>Alojamiento entero</td>\n",
       "      <td>43.0</td>\n",
       "      <td>Marcos</td>\n",
       "      <td>4.68</td>\n",
       "      <td>19.0</td>\n",
       "      <td>Bern</td>\n",
       "      <td>Suiza</td>\n",
       "    </tr>\n",
       "    <tr>\n",
       "      <th>1</th>\n",
       "      <td>Exclusivo departamento urbano</td>\n",
       "      <td>Alojamiento entero</td>\n",
       "      <td>473.0</td>\n",
       "      <td>Stephan</td>\n",
       "      <td>0.00</td>\n",
       "      <td>0.0</td>\n",
       "      <td>Bern</td>\n",
       "      <td>Suiza</td>\n",
       "    </tr>\n",
       "    <tr>\n",
       "      <th>2</th>\n",
       "      <td>Sala de estar en Berna</td>\n",
       "      <td>Habitación</td>\n",
       "      <td>36.0</td>\n",
       "      <td>Arwen</td>\n",
       "      <td>5.00</td>\n",
       "      <td>5.0</td>\n",
       "      <td>Bern</td>\n",
       "      <td>Suiza</td>\n",
       "    </tr>\n",
       "    <tr>\n",
       "      <th>3</th>\n",
       "      <td>Apartamento en el casco antiguo</td>\n",
       "      <td>Alojamiento entero</td>\n",
       "      <td>125.0</td>\n",
       "      <td>Kai</td>\n",
       "      <td>4.84</td>\n",
       "      <td>339.0</td>\n",
       "      <td>Bern</td>\n",
       "      <td>Suiza</td>\n",
       "    </tr>\n",
       "    <tr>\n",
       "      <th>4</th>\n",
       "      <td>Habitación en Freimettigen</td>\n",
       "      <td>Habitación</td>\n",
       "      <td>36.0</td>\n",
       "      <td>Urs</td>\n",
       "      <td>0.00</td>\n",
       "      <td>0.0</td>\n",
       "      <td>Bern</td>\n",
       "      <td>Suiza</td>\n",
       "    </tr>\n",
       "    <tr>\n",
       "      <th>5</th>\n",
       "      <td>Ice Attic-Apt, casco antiguo, a 3 minutos de l...</td>\n",
       "      <td>Habitación</td>\n",
       "      <td>113.0</td>\n",
       "      <td>Kai</td>\n",
       "      <td>4.84</td>\n",
       "      <td>218.0</td>\n",
       "      <td>Bern</td>\n",
       "      <td>Suiza</td>\n",
       "    </tr>\n",
       "    <tr>\n",
       "      <th>6</th>\n",
       "      <td>N.º 2 apartamento acogedor y céntrico</td>\n",
       "      <td>Alojamiento entero</td>\n",
       "      <td>71.0</td>\n",
       "      <td>Bess</td>\n",
       "      <td>4.87</td>\n",
       "      <td>0.0</td>\n",
       "      <td>Bern</td>\n",
       "      <td>Suiza</td>\n",
       "    </tr>\n",
       "    <tr>\n",
       "      <th>7</th>\n",
       "      <td>Habitación en el espejo BE, a 10 de Berna</td>\n",
       "      <td>Alojamiento entero</td>\n",
       "      <td>62.0</td>\n",
       "      <td>Chantal</td>\n",
       "      <td>5.00</td>\n",
       "      <td>13.0</td>\n",
       "      <td>Bern</td>\n",
       "      <td>Suiza</td>\n",
       "    </tr>\n",
       "    <tr>\n",
       "      <th>8</th>\n",
       "      <td>Habitación soleada, súper central, estación de...</td>\n",
       "      <td>Habitación</td>\n",
       "      <td>68.0</td>\n",
       "      <td>Kai</td>\n",
       "      <td>4.93</td>\n",
       "      <td>877.0</td>\n",
       "      <td>Bern</td>\n",
       "      <td>Suiza</td>\n",
       "    </tr>\n",
       "    <tr>\n",
       "      <th>9</th>\n",
       "      <td>Como si estuvieras en casa</td>\n",
       "      <td>Habitación</td>\n",
       "      <td>42.0</td>\n",
       "      <td>Aline Karina</td>\n",
       "      <td>0.00</td>\n",
       "      <td>0.0</td>\n",
       "      <td>Bern</td>\n",
       "      <td>Suiza</td>\n",
       "    </tr>\n",
       "  </tbody>\n",
       "</table>\n",
       "</div>"
      ],
      "text/plain": [
       "                                                name            category  \\\n",
       "0  Acogedor apartamento privado en el centro de B...  Alojamiento entero   \n",
       "1                      Exclusivo departamento urbano  Alojamiento entero   \n",
       "2                             Sala de estar en Berna          Habitación   \n",
       "3                    Apartamento en el casco antiguo  Alojamiento entero   \n",
       "4                         Habitación en Freimettigen          Habitación   \n",
       "5  Ice Attic-Apt, casco antiguo, a 3 minutos de l...          Habitación   \n",
       "6              N.º 2 apartamento acogedor y céntrico  Alojamiento entero   \n",
       "7          Habitación en el espejo BE, a 10 de Berna  Alojamiento entero   \n",
       "8  Habitación soleada, súper central, estación de...          Habitación   \n",
       "9                         Como si estuvieras en casa          Habitación   \n",
       "\n",
       "   price_per_night          host  rating  reviews  city country  \n",
       "0             43.0        Marcos    4.68     19.0  Bern   Suiza  \n",
       "1            473.0       Stephan    0.00      0.0  Bern   Suiza  \n",
       "2             36.0         Arwen    5.00      5.0  Bern   Suiza  \n",
       "3            125.0           Kai    4.84    339.0  Bern   Suiza  \n",
       "4             36.0           Urs    0.00      0.0  Bern   Suiza  \n",
       "5            113.0           Kai    4.84    218.0  Bern   Suiza  \n",
       "6             71.0          Bess    4.87      0.0  Bern   Suiza  \n",
       "7             62.0       Chantal    5.00     13.0  Bern   Suiza  \n",
       "8             68.0           Kai    4.93    877.0  Bern   Suiza  \n",
       "9             42.0  Aline Karina    0.00      0.0  Bern   Suiza  "
      ]
     },
     "execution_count": 49,
     "metadata": {},
     "output_type": "execute_result"
    }
   ],
   "source": [
    "airbnb_data.head(10)"
   ]
  },
  {
   "cell_type": "code",
   "execution_count": 50,
   "metadata": {},
   "outputs": [],
   "source": [
    "# Guardamos en un nuevo csv\n",
    "airbnb_data.to_csv(DATA_DIR / \"airbnb_limpio.csv\", sep=\";\", index=False)"
   ]
  },
  {
   "cell_type": "markdown",
   "metadata": {},
   "source": [
    "***VISUALIZATIONS***"
   ]
  },
  {
   "cell_type": "code",
   "execution_count": 81,
   "metadata": {},
   "outputs": [
    {
     "data": {
      "application/vnd.plotly.v1+json": {
       "config": {
        "plotlyServerURL": "https://plot.ly"
       },
       "data": [
        {
         "hovertemplate": "category=Alojamiento entero<br>Rating=%{x}<br>Price per night=%{y}<extra></extra>",
         "legendgroup": "Alojamiento entero",
         "marker": {
          "color": "#636efa",
          "opacity": 0.7,
          "symbol": "circle"
         },
         "mode": "markers",
         "name": "Alojamiento entero",
         "orientation": "v",
         "showlegend": true,
         "type": "scatter",
         "x": [
          4.68,
          0,
          4.84,
          4.87,
          5,
          4.86,
          4.91,
          5,
          0,
          4.99,
          4.93,
          4.95,
          4.92,
          4.89,
          5,
          4.76,
          5,
          4.81,
          4.64,
          0,
          4.7,
          4.93,
          0,
          4.7,
          4.68,
          4.75,
          4.81,
          4.73,
          4.82,
          0,
          4.9,
          4.86,
          0,
          0,
          4.68,
          4.98,
          5,
          4.81,
          5,
          4.96,
          4.73,
          4.75,
          4.91,
          4.9,
          4.94,
          5,
          4.97,
          4.91,
          4.98,
          4.95,
          4.95,
          5,
          4.88,
          4.8,
          4.8,
          4.8,
          4.67,
          4.94,
          4.7,
          4.75,
          4.72,
          4.81,
          5,
          4.67,
          4.58,
          4.71,
          4.82,
          4.6,
          4.82,
          5,
          5,
          5,
          5,
          0,
          0,
          5,
          5,
          5,
          5,
          4.99,
          4.99,
          4.98,
          5,
          4.87,
          4.98,
          0,
          4.99,
          4.95,
          0,
          5,
          4.8,
          5,
          5,
          4.94,
          4.94,
          4.98,
          5,
          4.99,
          5,
          5,
          4.94,
          5,
          5,
          4.98,
          4.97,
          4.98,
          4.93,
          4.99,
          4.92,
          4.98,
          4.98,
          5,
          5,
          4.98,
          4.96,
          5,
          4.93,
          4.94,
          4.88,
          5,
          4.98,
          4.98,
          5,
          5,
          4.88,
          5,
          4.98,
          4.98,
          5,
          4.84,
          5,
          5,
          4.96,
          4.82,
          5,
          5,
          5,
          5,
          5,
          5,
          4.8,
          0,
          4.88,
          4.98,
          5,
          4.85,
          5,
          5,
          0,
          4.98,
          5,
          4.91,
          4.83,
          4.96,
          5,
          4.99,
          4.91,
          4.98,
          4.95,
          5,
          4.99,
          4.97,
          4.98,
          4.75,
          0,
          4.94,
          4.96,
          0,
          4.98,
          4.89,
          4.98,
          4.86,
          4.98,
          4.75,
          4.97,
          0,
          5,
          4.99,
          4.74,
          4.96,
          4.95,
          4.94,
          5,
          4.96,
          5,
          4.82,
          4.95,
          4.91,
          4.97,
          0,
          4.97,
          4.78,
          4.97,
          4.89,
          4.96,
          0,
          4.4,
          4.86,
          4.9,
          5,
          4.99,
          0,
          0,
          0,
          4.79,
          4.92,
          4.92,
          0,
          0,
          5,
          5,
          5,
          4.98,
          4.97,
          5,
          4.66,
          5,
          0,
          5,
          0,
          4.96,
          5,
          0,
          4.82,
          0,
          5,
          4.92,
          5,
          4.79,
          4.76,
          4.9,
          4.63,
          0,
          4.93,
          4.8,
          4.9,
          4.95,
          5,
          4.94,
          4.97,
          0,
          5,
          4.99,
          4.87,
          5,
          4.87,
          4.91,
          4.79,
          5,
          4.95,
          4.76,
          4.97,
          4.92,
          5,
          4.9,
          5,
          4.89,
          4.9,
          4.83,
          5,
          4.63,
          4.77,
          4.88,
          0,
          5,
          5,
          4.79,
          4.82,
          4.79,
          0,
          4.87,
          4.59,
          4.75,
          0,
          4.6,
          4.5,
          0,
          4.72,
          4.33,
          0,
          0,
          4.43,
          4.43,
          4.86,
          0,
          0,
          4.44,
          4.5,
          4.2,
          4.32,
          5,
          0,
          0,
          5,
          0,
          5,
          0,
          5,
          5,
          4.95,
          5,
          4.95,
          5,
          0,
          5,
          5,
          5,
          4.95,
          4.97,
          0,
          4.94,
          5,
          5,
          4.91,
          5,
          5,
          5,
          4.92,
          4.91,
          5,
          5,
          5,
          4.92,
          5,
          4.95,
          4.98,
          4.95,
          5,
          5,
          4.99,
          0,
          4.96,
          5,
          4.95,
          4.98,
          5,
          5,
          5,
          5,
          4.94,
          0,
          5,
          5,
          5,
          4.9,
          4.94,
          4.94,
          4.97,
          4.97,
          4.95,
          4.97,
          4.66,
          4.94,
          4.94,
          4.93,
          4.96,
          4.89,
          5,
          4.98,
          4.91,
          5,
          0,
          5,
          4.88,
          0,
          4.89,
          5,
          4.92,
          5,
          4.67,
          5,
          4.91,
          0,
          0,
          4.96,
          5,
          5,
          4.98,
          5,
          4.96,
          0,
          4.96,
          5,
          5,
          4.94,
          4.96,
          5,
          0,
          4.88,
          4.91,
          5,
          4.9,
          4.96,
          4.92,
          4.88,
          4.94,
          4.98,
          4.82,
          4.94,
          4.82,
          0,
          4.84,
          5,
          4.93,
          4.98,
          4.92,
          0,
          0,
          4.96,
          0,
          0,
          5,
          5,
          4.93,
          4.99,
          0,
          4.94,
          4.98,
          4.94,
          0,
          0,
          4.91,
          4.99,
          4.98,
          0,
          0,
          0,
          4.94,
          0,
          5,
          0,
          4.83,
          0,
          0,
          0,
          0,
          5,
          4.92,
          4.97,
          0,
          4.94,
          0,
          5,
          5,
          4.96,
          4.98,
          5,
          5,
          4.97,
          3.67,
          4.94,
          0,
          5,
          5,
          5,
          5,
          5,
          4.98,
          0,
          0,
          0,
          5,
          4.71,
          0,
          0,
          5,
          5,
          0,
          0,
          0,
          4.78,
          4.6,
          5,
          5,
          4.79,
          0,
          5,
          5,
          5,
          5,
          0,
          0,
          0,
          0,
          4.6,
          4.88,
          4.97,
          4.94,
          0,
          0,
          4.94,
          4.96,
          0,
          4.94,
          4.96,
          0,
          4.9,
          4.99,
          4.81,
          0,
          0,
          4.55,
          4.78,
          4.92,
          4.6,
          4.55,
          0,
          0,
          0,
          0,
          0,
          4.89,
          4.89,
          4.69,
          4.56,
          4.27,
          0,
          5,
          0,
          5,
          5,
          5,
          5,
          5,
          4.63,
          4.67,
          5,
          5,
          5,
          0,
          0,
          5,
          5,
          5,
          5,
          5,
          5,
          5,
          5,
          5,
          4.92,
          5,
          4.9,
          5,
          5,
          0,
          4.9,
          5,
          5,
          5,
          4.93,
          4.94,
          0,
          4.94,
          5,
          4.88,
          4.98,
          4.98,
          4.94,
          4.99,
          4.87,
          5,
          4.96,
          4.95,
          4.99,
          5,
          4.86,
          5,
          4.86,
          5,
          5,
          5,
          4.9,
          5,
          4.96,
          0,
          4.99,
          0,
          5,
          0,
          4.88,
          4.85,
          5,
          4.96,
          4.65,
          4.92,
          4.93,
          0,
          4.97,
          4.97,
          4.98,
          4.71,
          4.99,
          4.96,
          4.8,
          4.99,
          0,
          4.83,
          4.94,
          4.89,
          4.91,
          4.95,
          5,
          4.65,
          5,
          0,
          4.98,
          5,
          4.9,
          5,
          5,
          4.88,
          4.86,
          4.92,
          0,
          4.86,
          0,
          5,
          0,
          5,
          5,
          4.76,
          4.92,
          4.96,
          4.88,
          4.96,
          4.95,
          4.92,
          4.92,
          5,
          0,
          4.86,
          0,
          4.94,
          4.75,
          5,
          4.92,
          5,
          5,
          0,
          4.87,
          5,
          5,
          4.85,
          4.95,
          4.91,
          4.85,
          4.95,
          5,
          5,
          4.75,
          4.96,
          0,
          0,
          5,
          4.9,
          0,
          4.94,
          4.86,
          4.88,
          4.96,
          4.94,
          4.82,
          4.8
         ],
         "xaxis": "x",
         "y": [
          43,
          473,
          125,
          71,
          62,
          76,
          83,
          43,
          97,
          98,
          124,
          98,
          100,
          49,
          133,
          111,
          133,
          100,
          83,
          109,
          83,
          130,
          109,
          83,
          102,
          140,
          117,
          103,
          129,
          107,
          98,
          141,
          124,
          124,
          102,
          290,
          77,
          99,
          93,
          54,
          103,
          194,
          94,
          95,
          139,
          124,
          101,
          188,
          379,
          98,
          145,
          194,
          56,
          162,
          114,
          103,
          127,
          169,
          124,
          66,
          121,
          99,
          88,
          127,
          259,
          129,
          161,
          118,
          78,
          168,
          81,
          88,
          206,
          74,
          176,
          168,
          129,
          169,
          169,
          78,
          108,
          98,
          103,
          85,
          82,
          168,
          69,
          181,
          185,
          71,
          179,
          145,
          250,
          189,
          169,
          440,
          114,
          93,
          186,
          88,
          92,
          122,
          117,
          62,
          171,
          54,
          101,
          92,
          114,
          78,
          67,
          202,
          78,
          101,
          128,
          434,
          145,
          78,
          67,
          89,
          103,
          125,
          103,
          83,
          67,
          434,
          125,
          103,
          103,
          83,
          78,
          125,
          78,
          172,
          83,
          153,
          89,
          276,
          103,
          111,
          74,
          78,
          71,
          202,
          78,
          109,
          103,
          202,
          124,
          78,
          89,
          433,
          83,
          233,
          155,
          83,
          433,
          78,
          80,
          103,
          62,
          103,
          359,
          233,
          81,
          67,
          233,
          88,
          150,
          186,
          78,
          251,
          202,
          233,
          103,
          124,
          153,
          62,
          128,
          233,
          80,
          198,
          155,
          111,
          155,
          88,
          80,
          102,
          119,
          81,
          130,
          102,
          114,
          78,
          187,
          123,
          58,
          55,
          61,
          128,
          207,
          53,
          77,
          75,
          214,
          205,
          99,
          190,
          80,
          149,
          92,
          195,
          200,
          89,
          189,
          129,
          131,
          198,
          164,
          228,
          180,
          114,
          139,
          91,
          300,
          90,
          121,
          213,
          61,
          68,
          140,
          108,
          80,
          121,
          123,
          266,
          138,
          194,
          122,
          90,
          97,
          128,
          132,
          134,
          130,
          158,
          95,
          94,
          139,
          149,
          68,
          200,
          89,
          194,
          138,
          88,
          70,
          150,
          76,
          203,
          108,
          87,
          121,
          72,
          125,
          139,
          99,
          115,
          61,
          95,
          122,
          92,
          102,
          181,
          150,
          70,
          84,
          78,
          89,
          249,
          100,
          97,
          97,
          115,
          80,
          76,
          71,
          147,
          91,
          79,
          119,
          222,
          150,
          110,
          112,
          81,
          520,
          220,
          132,
          130,
          114,
          145,
          80,
          159,
          316,
          160,
          110,
          120,
          135,
          124,
          114,
          200,
          230,
          88,
          62,
          154,
          62,
          143,
          88,
          154,
          230,
          99,
          63,
          110,
          191,
          129,
          277,
          160,
          129,
          192,
          134,
          84,
          200,
          80,
          206,
          170,
          141,
          87,
          70,
          77,
          81,
          150,
          140,
          249,
          139,
          81,
          100,
          89,
          112,
          211,
          89,
          115,
          88,
          213,
          249,
          174,
          137,
          110,
          65,
          89,
          150,
          119,
          95,
          90,
          90,
          70,
          118,
          110,
          120,
          71,
          140,
          86,
          104,
          264,
          265,
          245,
          92,
          141,
          231,
          170,
          99,
          104,
          284,
          140,
          238,
          170,
          245,
          141,
          121,
          120,
          231,
          137,
          105,
          86,
          97,
          120,
          141,
          106,
          120,
          115,
          95,
          155,
          129,
          149,
          141,
          240,
          104,
          232,
          104,
          150,
          120,
          86,
          72,
          110,
          78,
          130,
          100,
          149,
          77,
          80,
          249,
          125,
          90,
          225,
          92,
          68,
          174,
          379,
          100,
          89,
          130,
          86,
          86,
          300,
          250,
          240,
          265,
          130,
          110,
          99,
          210,
          164,
          179,
          179,
          308,
          140,
          145,
          138,
          110,
          87,
          180,
          168,
          140,
          191,
          152,
          128,
          190,
          130,
          136,
          261,
          120,
          180,
          188,
          219,
          176,
          67,
          95,
          289,
          220,
          219,
          182,
          196,
          130,
          198,
          160,
          280,
          155,
          196,
          90,
          120,
          117,
          140,
          95,
          176,
          196,
          115,
          140,
          281,
          220,
          164,
          71,
          180,
          220,
          71,
          180,
          160,
          70,
          91,
          247,
          220,
          140,
          179,
          182,
          205,
          214,
          187,
          90,
          223,
          299,
          176,
          223,
          481,
          180,
          251,
          272,
          140,
          70,
          325,
          444,
          114,
          319,
          70,
          135,
          130,
          218,
          184,
          540,
          235,
          54,
          114,
          349,
          120,
          205,
          279,
          220,
          269,
          189,
          110,
          715,
          65,
          68,
          180,
          140,
          165,
          315,
          286,
          140,
          234,
          290,
          350,
          150,
          124,
          124,
          250,
          169,
          100,
          210,
          178,
          140,
          216,
          96,
          378,
          240,
          184,
          216,
          378,
          143,
          110,
          220,
          350,
          280,
          80,
          596,
          82,
          200,
          92,
          124,
          160,
          301,
          150,
          295,
          100,
          135,
          162,
          212,
          150,
          83,
          159,
          75,
          154,
          275,
          180,
          100,
          85,
          170,
          100,
          159,
          96,
          229,
          134,
          72,
          396,
          260,
          212,
          145,
          90,
          250,
          137,
          228,
          138,
          315,
          69,
          150,
          258,
          62,
          110,
          117,
          453,
          144,
          250,
          190,
          130,
          288,
          533,
          125,
          129,
          601,
          120,
          228,
          143,
          86,
          140,
          299,
          191,
          276,
          150,
          408,
          125,
          45,
          240,
          134,
          71,
          130,
          150,
          292,
          426,
          150,
          110,
          325,
          320,
          162,
          180,
          59,
          140,
          100,
          145,
          109,
          200,
          111,
          199,
          107,
          230,
          101,
          190
         ],
         "yaxis": "y"
        },
        {
         "hovertemplate": "category=Habitación<br>Rating=%{x}<br>Price per night=%{y}<extra></extra>",
         "legendgroup": "Habitación",
         "marker": {
          "color": "#EF553B",
          "opacity": 0.7,
          "symbol": "circle"
         },
         "mode": "markers",
         "name": "Habitación",
         "orientation": "v",
         "showlegend": true,
         "type": "scatter",
         "x": [
          5,
          0,
          4.84,
          4.93,
          0,
          4.94,
          4.82,
          5,
          4.93,
          4.82,
          4.81,
          4.86,
          0,
          4.97,
          4.81,
          4.72,
          4.72,
          4.57,
          4.83,
          4.94,
          4.79,
          4.96,
          4.97,
          0,
          4.82,
          4.93,
          4.94,
          4.88,
          4.82,
          0,
          4.82,
          4.97,
          0,
          5,
          4.98,
          4.88,
          5,
          4.98,
          4.97,
          4.98,
          4.85,
          4.97,
          4.97,
          0,
          4.83,
          4.53,
          4.99,
          4.97,
          0,
          4.77,
          4.57,
          4.97,
          0,
          0,
          4.9,
          5,
          4.97,
          4.92,
          4.94,
          4.94,
          4.92,
          5,
          4.94,
          4.92,
          4.81,
          5,
          4.96,
          5,
          4.9,
          4.95,
          4.97,
          4.97,
          4.9,
          4.95,
          4.98,
          4.98,
          4.92
         ],
         "xaxis": "x",
         "y": [
          36,
          36,
          113,
          68,
          42,
          53,
          55,
          78,
          88,
          60,
          127,
          70,
          55,
          62,
          80,
          73,
          52,
          52,
          46,
          61,
          62,
          78,
          62,
          42,
          60,
          88,
          103,
          166,
          250,
          42,
          52,
          116,
          68,
          69,
          67,
          228,
          39,
          67,
          61,
          67,
          74,
          61,
          61,
          72,
          197,
          117,
          99,
          97,
          65,
          100,
          110,
          97,
          69,
          69,
          44,
          77,
          84,
          55,
          65,
          65,
          55,
          82,
          65,
          55,
          71,
          82,
          120,
          186,
          280,
          130,
          163,
          163,
          150,
          100,
          100,
          100,
          169
         ],
         "yaxis": "y"
        },
        {
         "hovertemplate": "category=otro<br>Rating=%{x}<br>Price per night=%{y}<extra></extra>",
         "legendgroup": "otro",
         "marker": {
          "color": "#00cc96",
          "opacity": 0.7,
          "symbol": "circle"
         },
         "mode": "markers",
         "name": "otro",
         "orientation": "v",
         "showlegend": true,
         "type": "scatter",
         "x": [
          4.95,
          5,
          5,
          5,
          4.98,
          5,
          4.97
         ],
         "xaxis": "x",
         "y": [
          155,
          134,
          157,
          157,
          155,
          72,
          237
         ],
         "yaxis": "y"
        }
       ],
       "layout": {
        "legend": {
         "title": {
          "text": "category"
         },
         "tracegroupgap": 0
        },
        "template": {
         "data": {
          "bar": [
           {
            "error_x": {
             "color": "#2a3f5f"
            },
            "error_y": {
             "color": "#2a3f5f"
            },
            "marker": {
             "line": {
              "color": "#E5ECF6",
              "width": 0.5
             },
             "pattern": {
              "fillmode": "overlay",
              "size": 10,
              "solidity": 0.2
             }
            },
            "type": "bar"
           }
          ],
          "barpolar": [
           {
            "marker": {
             "line": {
              "color": "#E5ECF6",
              "width": 0.5
             },
             "pattern": {
              "fillmode": "overlay",
              "size": 10,
              "solidity": 0.2
             }
            },
            "type": "barpolar"
           }
          ],
          "carpet": [
           {
            "aaxis": {
             "endlinecolor": "#2a3f5f",
             "gridcolor": "white",
             "linecolor": "white",
             "minorgridcolor": "white",
             "startlinecolor": "#2a3f5f"
            },
            "baxis": {
             "endlinecolor": "#2a3f5f",
             "gridcolor": "white",
             "linecolor": "white",
             "minorgridcolor": "white",
             "startlinecolor": "#2a3f5f"
            },
            "type": "carpet"
           }
          ],
          "choropleth": [
           {
            "colorbar": {
             "outlinewidth": 0,
             "ticks": ""
            },
            "type": "choropleth"
           }
          ],
          "contour": [
           {
            "colorbar": {
             "outlinewidth": 0,
             "ticks": ""
            },
            "colorscale": [
             [
              0,
              "#0d0887"
             ],
             [
              0.1111111111111111,
              "#46039f"
             ],
             [
              0.2222222222222222,
              "#7201a8"
             ],
             [
              0.3333333333333333,
              "#9c179e"
             ],
             [
              0.4444444444444444,
              "#bd3786"
             ],
             [
              0.5555555555555556,
              "#d8576b"
             ],
             [
              0.6666666666666666,
              "#ed7953"
             ],
             [
              0.7777777777777778,
              "#fb9f3a"
             ],
             [
              0.8888888888888888,
              "#fdca26"
             ],
             [
              1,
              "#f0f921"
             ]
            ],
            "type": "contour"
           }
          ],
          "contourcarpet": [
           {
            "colorbar": {
             "outlinewidth": 0,
             "ticks": ""
            },
            "type": "contourcarpet"
           }
          ],
          "heatmap": [
           {
            "colorbar": {
             "outlinewidth": 0,
             "ticks": ""
            },
            "colorscale": [
             [
              0,
              "#0d0887"
             ],
             [
              0.1111111111111111,
              "#46039f"
             ],
             [
              0.2222222222222222,
              "#7201a8"
             ],
             [
              0.3333333333333333,
              "#9c179e"
             ],
             [
              0.4444444444444444,
              "#bd3786"
             ],
             [
              0.5555555555555556,
              "#d8576b"
             ],
             [
              0.6666666666666666,
              "#ed7953"
             ],
             [
              0.7777777777777778,
              "#fb9f3a"
             ],
             [
              0.8888888888888888,
              "#fdca26"
             ],
             [
              1,
              "#f0f921"
             ]
            ],
            "type": "heatmap"
           }
          ],
          "heatmapgl": [
           {
            "colorbar": {
             "outlinewidth": 0,
             "ticks": ""
            },
            "colorscale": [
             [
              0,
              "#0d0887"
             ],
             [
              0.1111111111111111,
              "#46039f"
             ],
             [
              0.2222222222222222,
              "#7201a8"
             ],
             [
              0.3333333333333333,
              "#9c179e"
             ],
             [
              0.4444444444444444,
              "#bd3786"
             ],
             [
              0.5555555555555556,
              "#d8576b"
             ],
             [
              0.6666666666666666,
              "#ed7953"
             ],
             [
              0.7777777777777778,
              "#fb9f3a"
             ],
             [
              0.8888888888888888,
              "#fdca26"
             ],
             [
              1,
              "#f0f921"
             ]
            ],
            "type": "heatmapgl"
           }
          ],
          "histogram": [
           {
            "marker": {
             "pattern": {
              "fillmode": "overlay",
              "size": 10,
              "solidity": 0.2
             }
            },
            "type": "histogram"
           }
          ],
          "histogram2d": [
           {
            "colorbar": {
             "outlinewidth": 0,
             "ticks": ""
            },
            "colorscale": [
             [
              0,
              "#0d0887"
             ],
             [
              0.1111111111111111,
              "#46039f"
             ],
             [
              0.2222222222222222,
              "#7201a8"
             ],
             [
              0.3333333333333333,
              "#9c179e"
             ],
             [
              0.4444444444444444,
              "#bd3786"
             ],
             [
              0.5555555555555556,
              "#d8576b"
             ],
             [
              0.6666666666666666,
              "#ed7953"
             ],
             [
              0.7777777777777778,
              "#fb9f3a"
             ],
             [
              0.8888888888888888,
              "#fdca26"
             ],
             [
              1,
              "#f0f921"
             ]
            ],
            "type": "histogram2d"
           }
          ],
          "histogram2dcontour": [
           {
            "colorbar": {
             "outlinewidth": 0,
             "ticks": ""
            },
            "colorscale": [
             [
              0,
              "#0d0887"
             ],
             [
              0.1111111111111111,
              "#46039f"
             ],
             [
              0.2222222222222222,
              "#7201a8"
             ],
             [
              0.3333333333333333,
              "#9c179e"
             ],
             [
              0.4444444444444444,
              "#bd3786"
             ],
             [
              0.5555555555555556,
              "#d8576b"
             ],
             [
              0.6666666666666666,
              "#ed7953"
             ],
             [
              0.7777777777777778,
              "#fb9f3a"
             ],
             [
              0.8888888888888888,
              "#fdca26"
             ],
             [
              1,
              "#f0f921"
             ]
            ],
            "type": "histogram2dcontour"
           }
          ],
          "mesh3d": [
           {
            "colorbar": {
             "outlinewidth": 0,
             "ticks": ""
            },
            "type": "mesh3d"
           }
          ],
          "parcoords": [
           {
            "line": {
             "colorbar": {
              "outlinewidth": 0,
              "ticks": ""
             }
            },
            "type": "parcoords"
           }
          ],
          "pie": [
           {
            "automargin": true,
            "type": "pie"
           }
          ],
          "scatter": [
           {
            "marker": {
             "colorbar": {
              "outlinewidth": 0,
              "ticks": ""
             }
            },
            "type": "scatter"
           }
          ],
          "scatter3d": [
           {
            "line": {
             "colorbar": {
              "outlinewidth": 0,
              "ticks": ""
             }
            },
            "marker": {
             "colorbar": {
              "outlinewidth": 0,
              "ticks": ""
             }
            },
            "type": "scatter3d"
           }
          ],
          "scattercarpet": [
           {
            "marker": {
             "colorbar": {
              "outlinewidth": 0,
              "ticks": ""
             }
            },
            "type": "scattercarpet"
           }
          ],
          "scattergeo": [
           {
            "marker": {
             "colorbar": {
              "outlinewidth": 0,
              "ticks": ""
             }
            },
            "type": "scattergeo"
           }
          ],
          "scattergl": [
           {
            "marker": {
             "colorbar": {
              "outlinewidth": 0,
              "ticks": ""
             }
            },
            "type": "scattergl"
           }
          ],
          "scattermapbox": [
           {
            "marker": {
             "colorbar": {
              "outlinewidth": 0,
              "ticks": ""
             }
            },
            "type": "scattermapbox"
           }
          ],
          "scatterpolar": [
           {
            "marker": {
             "colorbar": {
              "outlinewidth": 0,
              "ticks": ""
             }
            },
            "type": "scatterpolar"
           }
          ],
          "scatterpolargl": [
           {
            "marker": {
             "colorbar": {
              "outlinewidth": 0,
              "ticks": ""
             }
            },
            "type": "scatterpolargl"
           }
          ],
          "scatterternary": [
           {
            "marker": {
             "colorbar": {
              "outlinewidth": 0,
              "ticks": ""
             }
            },
            "type": "scatterternary"
           }
          ],
          "surface": [
           {
            "colorbar": {
             "outlinewidth": 0,
             "ticks": ""
            },
            "colorscale": [
             [
              0,
              "#0d0887"
             ],
             [
              0.1111111111111111,
              "#46039f"
             ],
             [
              0.2222222222222222,
              "#7201a8"
             ],
             [
              0.3333333333333333,
              "#9c179e"
             ],
             [
              0.4444444444444444,
              "#bd3786"
             ],
             [
              0.5555555555555556,
              "#d8576b"
             ],
             [
              0.6666666666666666,
              "#ed7953"
             ],
             [
              0.7777777777777778,
              "#fb9f3a"
             ],
             [
              0.8888888888888888,
              "#fdca26"
             ],
             [
              1,
              "#f0f921"
             ]
            ],
            "type": "surface"
           }
          ],
          "table": [
           {
            "cells": {
             "fill": {
              "color": "#EBF0F8"
             },
             "line": {
              "color": "white"
             }
            },
            "header": {
             "fill": {
              "color": "#C8D4E3"
             },
             "line": {
              "color": "white"
             }
            },
            "type": "table"
           }
          ]
         },
         "layout": {
          "annotationdefaults": {
           "arrowcolor": "#2a3f5f",
           "arrowhead": 0,
           "arrowwidth": 1
          },
          "autotypenumbers": "strict",
          "coloraxis": {
           "colorbar": {
            "outlinewidth": 0,
            "ticks": ""
           }
          },
          "colorscale": {
           "diverging": [
            [
             0,
             "#8e0152"
            ],
            [
             0.1,
             "#c51b7d"
            ],
            [
             0.2,
             "#de77ae"
            ],
            [
             0.3,
             "#f1b6da"
            ],
            [
             0.4,
             "#fde0ef"
            ],
            [
             0.5,
             "#f7f7f7"
            ],
            [
             0.6,
             "#e6f5d0"
            ],
            [
             0.7,
             "#b8e186"
            ],
            [
             0.8,
             "#7fbc41"
            ],
            [
             0.9,
             "#4d9221"
            ],
            [
             1,
             "#276419"
            ]
           ],
           "sequential": [
            [
             0,
             "#0d0887"
            ],
            [
             0.1111111111111111,
             "#46039f"
            ],
            [
             0.2222222222222222,
             "#7201a8"
            ],
            [
             0.3333333333333333,
             "#9c179e"
            ],
            [
             0.4444444444444444,
             "#bd3786"
            ],
            [
             0.5555555555555556,
             "#d8576b"
            ],
            [
             0.6666666666666666,
             "#ed7953"
            ],
            [
             0.7777777777777778,
             "#fb9f3a"
            ],
            [
             0.8888888888888888,
             "#fdca26"
            ],
            [
             1,
             "#f0f921"
            ]
           ],
           "sequentialminus": [
            [
             0,
             "#0d0887"
            ],
            [
             0.1111111111111111,
             "#46039f"
            ],
            [
             0.2222222222222222,
             "#7201a8"
            ],
            [
             0.3333333333333333,
             "#9c179e"
            ],
            [
             0.4444444444444444,
             "#bd3786"
            ],
            [
             0.5555555555555556,
             "#d8576b"
            ],
            [
             0.6666666666666666,
             "#ed7953"
            ],
            [
             0.7777777777777778,
             "#fb9f3a"
            ],
            [
             0.8888888888888888,
             "#fdca26"
            ],
            [
             1,
             "#f0f921"
            ]
           ]
          },
          "colorway": [
           "#636efa",
           "#EF553B",
           "#00cc96",
           "#ab63fa",
           "#FFA15A",
           "#19d3f3",
           "#FF6692",
           "#B6E880",
           "#FF97FF",
           "#FECB52"
          ],
          "font": {
           "color": "#2a3f5f"
          },
          "geo": {
           "bgcolor": "white",
           "lakecolor": "white",
           "landcolor": "#E5ECF6",
           "showlakes": true,
           "showland": true,
           "subunitcolor": "white"
          },
          "hoverlabel": {
           "align": "left"
          },
          "hovermode": "closest",
          "mapbox": {
           "style": "light"
          },
          "paper_bgcolor": "white",
          "plot_bgcolor": "#E5ECF6",
          "polar": {
           "angularaxis": {
            "gridcolor": "white",
            "linecolor": "white",
            "ticks": ""
           },
           "bgcolor": "#E5ECF6",
           "radialaxis": {
            "gridcolor": "white",
            "linecolor": "white",
            "ticks": ""
           }
          },
          "scene": {
           "xaxis": {
            "backgroundcolor": "#E5ECF6",
            "gridcolor": "white",
            "gridwidth": 2,
            "linecolor": "white",
            "showbackground": true,
            "ticks": "",
            "zerolinecolor": "white"
           },
           "yaxis": {
            "backgroundcolor": "#E5ECF6",
            "gridcolor": "white",
            "gridwidth": 2,
            "linecolor": "white",
            "showbackground": true,
            "ticks": "",
            "zerolinecolor": "white"
           },
           "zaxis": {
            "backgroundcolor": "#E5ECF6",
            "gridcolor": "white",
            "gridwidth": 2,
            "linecolor": "white",
            "showbackground": true,
            "ticks": "",
            "zerolinecolor": "white"
           }
          },
          "shapedefaults": {
           "line": {
            "color": "#2a3f5f"
           }
          },
          "ternary": {
           "aaxis": {
            "gridcolor": "white",
            "linecolor": "white",
            "ticks": ""
           },
           "baxis": {
            "gridcolor": "white",
            "linecolor": "white",
            "ticks": ""
           },
           "bgcolor": "#E5ECF6",
           "caxis": {
            "gridcolor": "white",
            "linecolor": "white",
            "ticks": ""
           }
          },
          "title": {
           "x": 0.05
          },
          "xaxis": {
           "automargin": true,
           "gridcolor": "white",
           "linecolor": "white",
           "ticks": "",
           "title": {
            "standoff": 15
           },
           "zerolinecolor": "white",
           "zerolinewidth": 2
          },
          "yaxis": {
           "automargin": true,
           "gridcolor": "white",
           "linecolor": "white",
           "ticks": "",
           "title": {
            "standoff": 15
           },
           "zerolinecolor": "white",
           "zerolinewidth": 2
          }
         }
        },
        "title": {
         "text": "Price and rating distribution by accomodation type"
        },
        "xaxis": {
         "anchor": "y",
         "domain": [
          0,
          1
         ],
         "title": {
          "text": "Rating"
         }
        },
        "yaxis": {
         "anchor": "x",
         "domain": [
          0,
          1
         ],
         "title": {
          "text": "Price per night"
         }
        }
       }
      }
     },
     "metadata": {},
     "output_type": "display_data"
    }
   ],
   "source": [
    "price_rating_distribution = px.scatter(\n",
    "    data_frame=airbnb_data,\n",
    "    x=\"rating\",\n",
    "    y=\"price_per_night\",\n",
    "    color=\"category\",\n",
    "    opacity=0.7,\n",
    "    title=\"Price and rating distribution by accomodation type\",\n",
    "    labels={\"rating\": \"Rating\", \"price_per_night\": \"Price per night\"},\n",
    ")\n",
    "\n",
    "price_rating_distribution.write_html(FIG_DIR / \"price_rating_distribution.html\")\n",
    "price_rating_distribution.write_image(FIG_DIR / \"price_rating_distribution.png\")\n",
    "\n",
    "price_rating_distribution.show()"
   ]
  },
  {
   "cell_type": "code",
   "execution_count": 84,
   "metadata": {},
   "outputs": [
    {
     "data": {
      "application/vnd.plotly.v1+json": {
       "config": {
        "plotlyServerURL": "https://plot.ly"
       },
       "data": [
        {
         "hovertemplate": "category=Alojamiento entero<br>Rating (log scale)=%{x}<br>Price per night=%{y}<extra></extra>",
         "legendgroup": "Alojamiento entero",
         "marker": {
          "color": "#636efa",
          "symbol": "circle"
         },
         "mode": "markers",
         "name": "Alojamiento entero",
         "orientation": "v",
         "showlegend": true,
         "type": "scatter",
         "x": [
          4.68,
          0,
          4.84,
          4.87,
          5,
          4.86,
          4.91,
          5,
          0,
          4.99,
          4.93,
          4.95,
          4.92,
          4.89,
          5,
          4.76,
          5,
          4.81,
          4.64,
          0,
          4.7,
          4.93,
          0,
          4.7,
          4.68,
          4.75,
          4.81,
          4.73,
          4.82,
          0,
          4.9,
          4.86,
          0,
          0,
          4.68,
          4.98,
          5,
          4.81,
          5,
          4.96,
          4.73,
          4.75,
          4.91,
          4.9,
          4.94,
          5,
          4.97,
          4.91,
          4.98,
          4.95,
          4.95,
          5,
          4.88,
          4.8,
          4.8,
          4.8,
          4.67,
          4.94,
          4.7,
          4.75,
          4.72,
          4.81,
          5,
          4.67,
          4.58,
          4.71,
          4.82,
          4.6,
          4.82,
          5,
          5,
          5,
          5,
          0,
          0,
          5,
          5,
          5,
          5,
          4.99,
          4.99,
          4.98,
          5,
          4.87,
          4.98,
          0,
          4.99,
          4.95,
          0,
          5,
          4.8,
          5,
          5,
          4.94,
          4.94,
          4.98,
          5,
          4.99,
          5,
          5,
          4.94,
          5,
          5,
          4.98,
          4.97,
          4.98,
          4.93,
          4.99,
          4.92,
          4.98,
          4.98,
          5,
          5,
          4.98,
          4.96,
          5,
          4.93,
          4.94,
          4.88,
          5,
          4.98,
          4.98,
          5,
          5,
          4.88,
          5,
          4.98,
          4.98,
          5,
          4.84,
          5,
          5,
          4.96,
          4.82,
          5,
          5,
          5,
          5,
          5,
          5,
          4.8,
          0,
          4.88,
          4.98,
          5,
          4.85,
          5,
          5,
          0,
          4.98,
          5,
          4.91,
          4.83,
          4.96,
          5,
          4.99,
          4.91,
          4.98,
          4.95,
          5,
          4.99,
          4.97,
          4.98,
          4.75,
          0,
          4.94,
          4.96,
          0,
          4.98,
          4.89,
          4.98,
          4.86,
          4.98,
          4.75,
          4.97,
          0,
          5,
          4.99,
          4.74,
          4.96,
          4.95,
          4.94,
          5,
          4.96,
          5,
          4.82,
          4.95,
          4.91,
          4.97,
          0,
          4.97,
          4.78,
          4.97,
          4.89,
          4.96,
          0,
          4.4,
          4.86,
          4.9,
          5,
          4.99,
          0,
          0,
          0,
          4.79,
          4.92,
          4.92,
          0,
          0,
          5,
          5,
          5,
          4.98,
          4.97,
          5,
          4.66,
          5,
          0,
          5,
          0,
          4.96,
          5,
          0,
          4.82,
          0,
          5,
          4.92,
          5,
          4.79,
          4.76,
          4.9,
          4.63,
          0,
          4.93,
          4.8,
          4.9,
          4.95,
          5,
          4.94,
          4.97,
          0,
          5,
          4.99,
          4.87,
          5,
          4.87,
          4.91,
          4.79,
          5,
          4.95,
          4.76,
          4.97,
          4.92,
          5,
          4.9,
          5,
          4.89,
          4.9,
          4.83,
          5,
          4.63,
          4.77,
          4.88,
          0,
          5,
          5,
          4.79,
          4.82,
          4.79,
          0,
          4.87,
          4.59,
          4.75,
          0,
          4.6,
          4.5,
          0,
          4.72,
          4.33,
          0,
          0,
          4.43,
          4.43,
          4.86,
          0,
          0,
          4.44,
          4.5,
          4.2,
          4.32,
          5,
          0,
          0,
          5,
          0,
          5,
          0,
          5,
          5,
          4.95,
          5,
          4.95,
          5,
          0,
          5,
          5,
          5,
          4.95,
          4.97,
          0,
          4.94,
          5,
          5,
          4.91,
          5,
          5,
          5,
          4.92,
          4.91,
          5,
          5,
          5,
          4.92,
          5,
          4.95,
          4.98,
          4.95,
          5,
          5,
          4.99,
          0,
          4.96,
          5,
          4.95,
          4.98,
          5,
          5,
          5,
          5,
          4.94,
          0,
          5,
          5,
          5,
          4.9,
          4.94,
          4.94,
          4.97,
          4.97,
          4.95,
          4.97,
          4.66,
          4.94,
          4.94,
          4.93,
          4.96,
          4.89,
          5,
          4.98,
          4.91,
          5,
          0,
          5,
          4.88,
          0,
          4.89,
          5,
          4.92,
          5,
          4.67,
          5,
          4.91,
          0,
          0,
          4.96,
          5,
          5,
          4.98,
          5,
          4.96,
          0,
          4.96,
          5,
          5,
          4.94,
          4.96,
          5,
          0,
          4.88,
          4.91,
          5,
          4.9,
          4.96,
          4.92,
          4.88,
          4.94,
          4.98,
          4.82,
          4.94,
          4.82,
          0,
          4.84,
          5,
          4.93,
          4.98,
          4.92,
          0,
          0,
          4.96,
          0,
          0,
          5,
          5,
          4.93,
          4.99,
          0,
          4.94,
          4.98,
          4.94,
          0,
          0,
          4.91,
          4.99,
          4.98,
          0,
          0,
          0,
          4.94,
          0,
          5,
          0,
          4.83,
          0,
          0,
          0,
          0,
          5,
          4.92,
          4.97,
          0,
          4.94,
          0,
          5,
          5,
          4.96,
          4.98,
          5,
          5,
          4.97,
          3.67,
          4.94,
          0,
          5,
          5,
          5,
          5,
          5,
          4.98,
          0,
          0,
          0,
          5,
          4.71,
          0,
          0,
          5,
          5,
          0,
          0,
          0,
          4.78,
          4.6,
          5,
          5,
          4.79,
          0,
          5,
          5,
          5,
          5,
          0,
          0,
          0,
          0,
          4.6,
          4.88,
          4.97,
          4.94,
          0,
          0,
          4.94,
          4.96,
          0,
          4.94,
          4.96,
          0,
          4.9,
          4.99,
          4.81,
          0,
          0,
          4.55,
          4.78,
          4.92,
          4.6,
          4.55,
          0,
          0,
          0,
          0,
          0,
          4.89,
          4.89,
          4.69,
          4.56,
          4.27,
          0,
          5,
          0,
          5,
          5,
          5,
          5,
          5,
          4.63,
          4.67,
          5,
          5,
          5,
          0,
          0,
          5,
          5,
          5,
          5,
          5,
          5,
          5,
          5,
          5,
          4.92,
          5,
          4.9,
          5,
          5,
          0,
          4.9,
          5,
          5,
          5,
          4.93,
          4.94,
          0,
          4.94,
          5,
          4.88,
          4.98,
          4.98,
          4.94,
          4.99,
          4.87,
          5,
          4.96,
          4.95,
          4.99,
          5,
          4.86,
          5,
          4.86,
          5,
          5,
          5,
          4.9,
          5,
          4.96,
          0,
          4.99,
          0,
          5,
          0,
          4.88,
          4.85,
          5,
          4.96,
          4.65,
          4.92,
          4.93,
          0,
          4.97,
          4.97,
          4.98,
          4.71,
          4.99,
          4.96,
          4.8,
          4.99,
          0,
          4.83,
          4.94,
          4.89,
          4.91,
          4.95,
          5,
          4.65,
          5,
          0,
          4.98,
          5,
          4.9,
          5,
          5,
          4.88,
          4.86,
          4.92,
          0,
          4.86,
          0,
          5,
          0,
          5,
          5,
          4.76,
          4.92,
          4.96,
          4.88,
          4.96,
          4.95,
          4.92,
          4.92,
          5,
          0,
          4.86,
          0,
          4.94,
          4.75,
          5,
          4.92,
          5,
          5,
          0,
          4.87,
          5,
          5,
          4.85,
          4.95,
          4.91,
          4.85,
          4.95,
          5,
          5,
          4.75,
          4.96,
          0,
          0,
          5,
          4.9,
          0,
          4.94,
          4.86,
          4.88,
          4.96,
          4.94,
          4.82,
          4.8
         ],
         "xaxis": "x",
         "y": [
          43,
          473,
          125,
          71,
          62,
          76,
          83,
          43,
          97,
          98,
          124,
          98,
          100,
          49,
          133,
          111,
          133,
          100,
          83,
          109,
          83,
          130,
          109,
          83,
          102,
          140,
          117,
          103,
          129,
          107,
          98,
          141,
          124,
          124,
          102,
          290,
          77,
          99,
          93,
          54,
          103,
          194,
          94,
          95,
          139,
          124,
          101,
          188,
          379,
          98,
          145,
          194,
          56,
          162,
          114,
          103,
          127,
          169,
          124,
          66,
          121,
          99,
          88,
          127,
          259,
          129,
          161,
          118,
          78,
          168,
          81,
          88,
          206,
          74,
          176,
          168,
          129,
          169,
          169,
          78,
          108,
          98,
          103,
          85,
          82,
          168,
          69,
          181,
          185,
          71,
          179,
          145,
          250,
          189,
          169,
          440,
          114,
          93,
          186,
          88,
          92,
          122,
          117,
          62,
          171,
          54,
          101,
          92,
          114,
          78,
          67,
          202,
          78,
          101,
          128,
          434,
          145,
          78,
          67,
          89,
          103,
          125,
          103,
          83,
          67,
          434,
          125,
          103,
          103,
          83,
          78,
          125,
          78,
          172,
          83,
          153,
          89,
          276,
          103,
          111,
          74,
          78,
          71,
          202,
          78,
          109,
          103,
          202,
          124,
          78,
          89,
          433,
          83,
          233,
          155,
          83,
          433,
          78,
          80,
          103,
          62,
          103,
          359,
          233,
          81,
          67,
          233,
          88,
          150,
          186,
          78,
          251,
          202,
          233,
          103,
          124,
          153,
          62,
          128,
          233,
          80,
          198,
          155,
          111,
          155,
          88,
          80,
          102,
          119,
          81,
          130,
          102,
          114,
          78,
          187,
          123,
          58,
          55,
          61,
          128,
          207,
          53,
          77,
          75,
          214,
          205,
          99,
          190,
          80,
          149,
          92,
          195,
          200,
          89,
          189,
          129,
          131,
          198,
          164,
          228,
          180,
          114,
          139,
          91,
          300,
          90,
          121,
          213,
          61,
          68,
          140,
          108,
          80,
          121,
          123,
          266,
          138,
          194,
          122,
          90,
          97,
          128,
          132,
          134,
          130,
          158,
          95,
          94,
          139,
          149,
          68,
          200,
          89,
          194,
          138,
          88,
          70,
          150,
          76,
          203,
          108,
          87,
          121,
          72,
          125,
          139,
          99,
          115,
          61,
          95,
          122,
          92,
          102,
          181,
          150,
          70,
          84,
          78,
          89,
          249,
          100,
          97,
          97,
          115,
          80,
          76,
          71,
          147,
          91,
          79,
          119,
          222,
          150,
          110,
          112,
          81,
          520,
          220,
          132,
          130,
          114,
          145,
          80,
          159,
          316,
          160,
          110,
          120,
          135,
          124,
          114,
          200,
          230,
          88,
          62,
          154,
          62,
          143,
          88,
          154,
          230,
          99,
          63,
          110,
          191,
          129,
          277,
          160,
          129,
          192,
          134,
          84,
          200,
          80,
          206,
          170,
          141,
          87,
          70,
          77,
          81,
          150,
          140,
          249,
          139,
          81,
          100,
          89,
          112,
          211,
          89,
          115,
          88,
          213,
          249,
          174,
          137,
          110,
          65,
          89,
          150,
          119,
          95,
          90,
          90,
          70,
          118,
          110,
          120,
          71,
          140,
          86,
          104,
          264,
          265,
          245,
          92,
          141,
          231,
          170,
          99,
          104,
          284,
          140,
          238,
          170,
          245,
          141,
          121,
          120,
          231,
          137,
          105,
          86,
          97,
          120,
          141,
          106,
          120,
          115,
          95,
          155,
          129,
          149,
          141,
          240,
          104,
          232,
          104,
          150,
          120,
          86,
          72,
          110,
          78,
          130,
          100,
          149,
          77,
          80,
          249,
          125,
          90,
          225,
          92,
          68,
          174,
          379,
          100,
          89,
          130,
          86,
          86,
          300,
          250,
          240,
          265,
          130,
          110,
          99,
          210,
          164,
          179,
          179,
          308,
          140,
          145,
          138,
          110,
          87,
          180,
          168,
          140,
          191,
          152,
          128,
          190,
          130,
          136,
          261,
          120,
          180,
          188,
          219,
          176,
          67,
          95,
          289,
          220,
          219,
          182,
          196,
          130,
          198,
          160,
          280,
          155,
          196,
          90,
          120,
          117,
          140,
          95,
          176,
          196,
          115,
          140,
          281,
          220,
          164,
          71,
          180,
          220,
          71,
          180,
          160,
          70,
          91,
          247,
          220,
          140,
          179,
          182,
          205,
          214,
          187,
          90,
          223,
          299,
          176,
          223,
          481,
          180,
          251,
          272,
          140,
          70,
          325,
          444,
          114,
          319,
          70,
          135,
          130,
          218,
          184,
          540,
          235,
          54,
          114,
          349,
          120,
          205,
          279,
          220,
          269,
          189,
          110,
          715,
          65,
          68,
          180,
          140,
          165,
          315,
          286,
          140,
          234,
          290,
          350,
          150,
          124,
          124,
          250,
          169,
          100,
          210,
          178,
          140,
          216,
          96,
          378,
          240,
          184,
          216,
          378,
          143,
          110,
          220,
          350,
          280,
          80,
          596,
          82,
          200,
          92,
          124,
          160,
          301,
          150,
          295,
          100,
          135,
          162,
          212,
          150,
          83,
          159,
          75,
          154,
          275,
          180,
          100,
          85,
          170,
          100,
          159,
          96,
          229,
          134,
          72,
          396,
          260,
          212,
          145,
          90,
          250,
          137,
          228,
          138,
          315,
          69,
          150,
          258,
          62,
          110,
          117,
          453,
          144,
          250,
          190,
          130,
          288,
          533,
          125,
          129,
          601,
          120,
          228,
          143,
          86,
          140,
          299,
          191,
          276,
          150,
          408,
          125,
          45,
          240,
          134,
          71,
          130,
          150,
          292,
          426,
          150,
          110,
          325,
          320,
          162,
          180,
          59,
          140,
          100,
          145,
          109,
          200,
          111,
          199,
          107,
          230,
          101,
          190
         ],
         "yaxis": "y"
        },
        {
         "hovertemplate": "category=Habitación<br>Rating (log scale)=%{x}<br>Price per night=%{y}<extra></extra>",
         "legendgroup": "Habitación",
         "marker": {
          "color": "#EF553B",
          "symbol": "circle"
         },
         "mode": "markers",
         "name": "Habitación",
         "orientation": "v",
         "showlegend": true,
         "type": "scatter",
         "x": [
          5,
          0,
          4.84,
          4.93,
          0,
          4.94,
          4.82,
          5,
          4.93,
          4.82,
          4.81,
          4.86,
          0,
          4.97,
          4.81,
          4.72,
          4.72,
          4.57,
          4.83,
          4.94,
          4.79,
          4.96,
          4.97,
          0,
          4.82,
          4.93,
          4.94,
          4.88,
          4.82,
          0,
          4.82,
          4.97,
          0,
          5,
          4.98,
          4.88,
          5,
          4.98,
          4.97,
          4.98,
          4.85,
          4.97,
          4.97,
          0,
          4.83,
          4.53,
          4.99,
          4.97,
          0,
          4.77,
          4.57,
          4.97,
          0,
          0,
          4.9,
          5,
          4.97,
          4.92,
          4.94,
          4.94,
          4.92,
          5,
          4.94,
          4.92,
          4.81,
          5,
          4.96,
          5,
          4.9,
          4.95,
          4.97,
          4.97,
          4.9,
          4.95,
          4.98,
          4.98,
          4.92
         ],
         "xaxis": "x",
         "y": [
          36,
          36,
          113,
          68,
          42,
          53,
          55,
          78,
          88,
          60,
          127,
          70,
          55,
          62,
          80,
          73,
          52,
          52,
          46,
          61,
          62,
          78,
          62,
          42,
          60,
          88,
          103,
          166,
          250,
          42,
          52,
          116,
          68,
          69,
          67,
          228,
          39,
          67,
          61,
          67,
          74,
          61,
          61,
          72,
          197,
          117,
          99,
          97,
          65,
          100,
          110,
          97,
          69,
          69,
          44,
          77,
          84,
          55,
          65,
          65,
          55,
          82,
          65,
          55,
          71,
          82,
          120,
          186,
          280,
          130,
          163,
          163,
          150,
          100,
          100,
          100,
          169
         ],
         "yaxis": "y"
        },
        {
         "hovertemplate": "category=otro<br>Rating (log scale)=%{x}<br>Price per night=%{y}<extra></extra>",
         "legendgroup": "otro",
         "marker": {
          "color": "#00cc96",
          "symbol": "circle"
         },
         "mode": "markers",
         "name": "otro",
         "orientation": "v",
         "showlegend": true,
         "type": "scatter",
         "x": [
          4.95,
          5,
          5,
          5,
          4.98,
          5,
          4.97
         ],
         "xaxis": "x",
         "y": [
          155,
          134,
          157,
          157,
          155,
          72,
          237
         ],
         "yaxis": "y"
        }
       ],
       "layout": {
        "legend": {
         "title": {
          "text": "category"
         },
         "tracegroupgap": 0
        },
        "template": {
         "data": {
          "bar": [
           {
            "error_x": {
             "color": "#2a3f5f"
            },
            "error_y": {
             "color": "#2a3f5f"
            },
            "marker": {
             "line": {
              "color": "#E5ECF6",
              "width": 0.5
             },
             "pattern": {
              "fillmode": "overlay",
              "size": 10,
              "solidity": 0.2
             }
            },
            "type": "bar"
           }
          ],
          "barpolar": [
           {
            "marker": {
             "line": {
              "color": "#E5ECF6",
              "width": 0.5
             },
             "pattern": {
              "fillmode": "overlay",
              "size": 10,
              "solidity": 0.2
             }
            },
            "type": "barpolar"
           }
          ],
          "carpet": [
           {
            "aaxis": {
             "endlinecolor": "#2a3f5f",
             "gridcolor": "white",
             "linecolor": "white",
             "minorgridcolor": "white",
             "startlinecolor": "#2a3f5f"
            },
            "baxis": {
             "endlinecolor": "#2a3f5f",
             "gridcolor": "white",
             "linecolor": "white",
             "minorgridcolor": "white",
             "startlinecolor": "#2a3f5f"
            },
            "type": "carpet"
           }
          ],
          "choropleth": [
           {
            "colorbar": {
             "outlinewidth": 0,
             "ticks": ""
            },
            "type": "choropleth"
           }
          ],
          "contour": [
           {
            "colorbar": {
             "outlinewidth": 0,
             "ticks": ""
            },
            "colorscale": [
             [
              0,
              "#0d0887"
             ],
             [
              0.1111111111111111,
              "#46039f"
             ],
             [
              0.2222222222222222,
              "#7201a8"
             ],
             [
              0.3333333333333333,
              "#9c179e"
             ],
             [
              0.4444444444444444,
              "#bd3786"
             ],
             [
              0.5555555555555556,
              "#d8576b"
             ],
             [
              0.6666666666666666,
              "#ed7953"
             ],
             [
              0.7777777777777778,
              "#fb9f3a"
             ],
             [
              0.8888888888888888,
              "#fdca26"
             ],
             [
              1,
              "#f0f921"
             ]
            ],
            "type": "contour"
           }
          ],
          "contourcarpet": [
           {
            "colorbar": {
             "outlinewidth": 0,
             "ticks": ""
            },
            "type": "contourcarpet"
           }
          ],
          "heatmap": [
           {
            "colorbar": {
             "outlinewidth": 0,
             "ticks": ""
            },
            "colorscale": [
             [
              0,
              "#0d0887"
             ],
             [
              0.1111111111111111,
              "#46039f"
             ],
             [
              0.2222222222222222,
              "#7201a8"
             ],
             [
              0.3333333333333333,
              "#9c179e"
             ],
             [
              0.4444444444444444,
              "#bd3786"
             ],
             [
              0.5555555555555556,
              "#d8576b"
             ],
             [
              0.6666666666666666,
              "#ed7953"
             ],
             [
              0.7777777777777778,
              "#fb9f3a"
             ],
             [
              0.8888888888888888,
              "#fdca26"
             ],
             [
              1,
              "#f0f921"
             ]
            ],
            "type": "heatmap"
           }
          ],
          "heatmapgl": [
           {
            "colorbar": {
             "outlinewidth": 0,
             "ticks": ""
            },
            "colorscale": [
             [
              0,
              "#0d0887"
             ],
             [
              0.1111111111111111,
              "#46039f"
             ],
             [
              0.2222222222222222,
              "#7201a8"
             ],
             [
              0.3333333333333333,
              "#9c179e"
             ],
             [
              0.4444444444444444,
              "#bd3786"
             ],
             [
              0.5555555555555556,
              "#d8576b"
             ],
             [
              0.6666666666666666,
              "#ed7953"
             ],
             [
              0.7777777777777778,
              "#fb9f3a"
             ],
             [
              0.8888888888888888,
              "#fdca26"
             ],
             [
              1,
              "#f0f921"
             ]
            ],
            "type": "heatmapgl"
           }
          ],
          "histogram": [
           {
            "marker": {
             "pattern": {
              "fillmode": "overlay",
              "size": 10,
              "solidity": 0.2
             }
            },
            "type": "histogram"
           }
          ],
          "histogram2d": [
           {
            "colorbar": {
             "outlinewidth": 0,
             "ticks": ""
            },
            "colorscale": [
             [
              0,
              "#0d0887"
             ],
             [
              0.1111111111111111,
              "#46039f"
             ],
             [
              0.2222222222222222,
              "#7201a8"
             ],
             [
              0.3333333333333333,
              "#9c179e"
             ],
             [
              0.4444444444444444,
              "#bd3786"
             ],
             [
              0.5555555555555556,
              "#d8576b"
             ],
             [
              0.6666666666666666,
              "#ed7953"
             ],
             [
              0.7777777777777778,
              "#fb9f3a"
             ],
             [
              0.8888888888888888,
              "#fdca26"
             ],
             [
              1,
              "#f0f921"
             ]
            ],
            "type": "histogram2d"
           }
          ],
          "histogram2dcontour": [
           {
            "colorbar": {
             "outlinewidth": 0,
             "ticks": ""
            },
            "colorscale": [
             [
              0,
              "#0d0887"
             ],
             [
              0.1111111111111111,
              "#46039f"
             ],
             [
              0.2222222222222222,
              "#7201a8"
             ],
             [
              0.3333333333333333,
              "#9c179e"
             ],
             [
              0.4444444444444444,
              "#bd3786"
             ],
             [
              0.5555555555555556,
              "#d8576b"
             ],
             [
              0.6666666666666666,
              "#ed7953"
             ],
             [
              0.7777777777777778,
              "#fb9f3a"
             ],
             [
              0.8888888888888888,
              "#fdca26"
             ],
             [
              1,
              "#f0f921"
             ]
            ],
            "type": "histogram2dcontour"
           }
          ],
          "mesh3d": [
           {
            "colorbar": {
             "outlinewidth": 0,
             "ticks": ""
            },
            "type": "mesh3d"
           }
          ],
          "parcoords": [
           {
            "line": {
             "colorbar": {
              "outlinewidth": 0,
              "ticks": ""
             }
            },
            "type": "parcoords"
           }
          ],
          "pie": [
           {
            "automargin": true,
            "type": "pie"
           }
          ],
          "scatter": [
           {
            "marker": {
             "colorbar": {
              "outlinewidth": 0,
              "ticks": ""
             }
            },
            "type": "scatter"
           }
          ],
          "scatter3d": [
           {
            "line": {
             "colorbar": {
              "outlinewidth": 0,
              "ticks": ""
             }
            },
            "marker": {
             "colorbar": {
              "outlinewidth": 0,
              "ticks": ""
             }
            },
            "type": "scatter3d"
           }
          ],
          "scattercarpet": [
           {
            "marker": {
             "colorbar": {
              "outlinewidth": 0,
              "ticks": ""
             }
            },
            "type": "scattercarpet"
           }
          ],
          "scattergeo": [
           {
            "marker": {
             "colorbar": {
              "outlinewidth": 0,
              "ticks": ""
             }
            },
            "type": "scattergeo"
           }
          ],
          "scattergl": [
           {
            "marker": {
             "colorbar": {
              "outlinewidth": 0,
              "ticks": ""
             }
            },
            "type": "scattergl"
           }
          ],
          "scattermapbox": [
           {
            "marker": {
             "colorbar": {
              "outlinewidth": 0,
              "ticks": ""
             }
            },
            "type": "scattermapbox"
           }
          ],
          "scatterpolar": [
           {
            "marker": {
             "colorbar": {
              "outlinewidth": 0,
              "ticks": ""
             }
            },
            "type": "scatterpolar"
           }
          ],
          "scatterpolargl": [
           {
            "marker": {
             "colorbar": {
              "outlinewidth": 0,
              "ticks": ""
             }
            },
            "type": "scatterpolargl"
           }
          ],
          "scatterternary": [
           {
            "marker": {
             "colorbar": {
              "outlinewidth": 0,
              "ticks": ""
             }
            },
            "type": "scatterternary"
           }
          ],
          "surface": [
           {
            "colorbar": {
             "outlinewidth": 0,
             "ticks": ""
            },
            "colorscale": [
             [
              0,
              "#0d0887"
             ],
             [
              0.1111111111111111,
              "#46039f"
             ],
             [
              0.2222222222222222,
              "#7201a8"
             ],
             [
              0.3333333333333333,
              "#9c179e"
             ],
             [
              0.4444444444444444,
              "#bd3786"
             ],
             [
              0.5555555555555556,
              "#d8576b"
             ],
             [
              0.6666666666666666,
              "#ed7953"
             ],
             [
              0.7777777777777778,
              "#fb9f3a"
             ],
             [
              0.8888888888888888,
              "#fdca26"
             ],
             [
              1,
              "#f0f921"
             ]
            ],
            "type": "surface"
           }
          ],
          "table": [
           {
            "cells": {
             "fill": {
              "color": "#EBF0F8"
             },
             "line": {
              "color": "white"
             }
            },
            "header": {
             "fill": {
              "color": "#C8D4E3"
             },
             "line": {
              "color": "white"
             }
            },
            "type": "table"
           }
          ]
         },
         "layout": {
          "annotationdefaults": {
           "arrowcolor": "#2a3f5f",
           "arrowhead": 0,
           "arrowwidth": 1
          },
          "autotypenumbers": "strict",
          "coloraxis": {
           "colorbar": {
            "outlinewidth": 0,
            "ticks": ""
           }
          },
          "colorscale": {
           "diverging": [
            [
             0,
             "#8e0152"
            ],
            [
             0.1,
             "#c51b7d"
            ],
            [
             0.2,
             "#de77ae"
            ],
            [
             0.3,
             "#f1b6da"
            ],
            [
             0.4,
             "#fde0ef"
            ],
            [
             0.5,
             "#f7f7f7"
            ],
            [
             0.6,
             "#e6f5d0"
            ],
            [
             0.7,
             "#b8e186"
            ],
            [
             0.8,
             "#7fbc41"
            ],
            [
             0.9,
             "#4d9221"
            ],
            [
             1,
             "#276419"
            ]
           ],
           "sequential": [
            [
             0,
             "#0d0887"
            ],
            [
             0.1111111111111111,
             "#46039f"
            ],
            [
             0.2222222222222222,
             "#7201a8"
            ],
            [
             0.3333333333333333,
             "#9c179e"
            ],
            [
             0.4444444444444444,
             "#bd3786"
            ],
            [
             0.5555555555555556,
             "#d8576b"
            ],
            [
             0.6666666666666666,
             "#ed7953"
            ],
            [
             0.7777777777777778,
             "#fb9f3a"
            ],
            [
             0.8888888888888888,
             "#fdca26"
            ],
            [
             1,
             "#f0f921"
            ]
           ],
           "sequentialminus": [
            [
             0,
             "#0d0887"
            ],
            [
             0.1111111111111111,
             "#46039f"
            ],
            [
             0.2222222222222222,
             "#7201a8"
            ],
            [
             0.3333333333333333,
             "#9c179e"
            ],
            [
             0.4444444444444444,
             "#bd3786"
            ],
            [
             0.5555555555555556,
             "#d8576b"
            ],
            [
             0.6666666666666666,
             "#ed7953"
            ],
            [
             0.7777777777777778,
             "#fb9f3a"
            ],
            [
             0.8888888888888888,
             "#fdca26"
            ],
            [
             1,
             "#f0f921"
            ]
           ]
          },
          "colorway": [
           "#636efa",
           "#EF553B",
           "#00cc96",
           "#ab63fa",
           "#FFA15A",
           "#19d3f3",
           "#FF6692",
           "#B6E880",
           "#FF97FF",
           "#FECB52"
          ],
          "font": {
           "color": "#2a3f5f"
          },
          "geo": {
           "bgcolor": "white",
           "lakecolor": "white",
           "landcolor": "#E5ECF6",
           "showlakes": true,
           "showland": true,
           "subunitcolor": "white"
          },
          "hoverlabel": {
           "align": "left"
          },
          "hovermode": "closest",
          "mapbox": {
           "style": "light"
          },
          "paper_bgcolor": "white",
          "plot_bgcolor": "#E5ECF6",
          "polar": {
           "angularaxis": {
            "gridcolor": "white",
            "linecolor": "white",
            "ticks": ""
           },
           "bgcolor": "#E5ECF6",
           "radialaxis": {
            "gridcolor": "white",
            "linecolor": "white",
            "ticks": ""
           }
          },
          "scene": {
           "xaxis": {
            "backgroundcolor": "#E5ECF6",
            "gridcolor": "white",
            "gridwidth": 2,
            "linecolor": "white",
            "showbackground": true,
            "ticks": "",
            "zerolinecolor": "white"
           },
           "yaxis": {
            "backgroundcolor": "#E5ECF6",
            "gridcolor": "white",
            "gridwidth": 2,
            "linecolor": "white",
            "showbackground": true,
            "ticks": "",
            "zerolinecolor": "white"
           },
           "zaxis": {
            "backgroundcolor": "#E5ECF6",
            "gridcolor": "white",
            "gridwidth": 2,
            "linecolor": "white",
            "showbackground": true,
            "ticks": "",
            "zerolinecolor": "white"
           }
          },
          "shapedefaults": {
           "line": {
            "color": "#2a3f5f"
           }
          },
          "ternary": {
           "aaxis": {
            "gridcolor": "white",
            "linecolor": "white",
            "ticks": ""
           },
           "baxis": {
            "gridcolor": "white",
            "linecolor": "white",
            "ticks": ""
           },
           "bgcolor": "#E5ECF6",
           "caxis": {
            "gridcolor": "white",
            "linecolor": "white",
            "ticks": ""
           }
          },
          "title": {
           "x": 0.05
          },
          "xaxis": {
           "automargin": true,
           "gridcolor": "white",
           "linecolor": "white",
           "ticks": "",
           "title": {
            "standoff": 15
           },
           "zerolinecolor": "white",
           "zerolinewidth": 2
          },
          "yaxis": {
           "automargin": true,
           "gridcolor": "white",
           "linecolor": "white",
           "ticks": "",
           "title": {
            "standoff": 15
           },
           "zerolinecolor": "white",
           "zerolinewidth": 2
          }
         }
        },
        "title": {
         "text": "Price and rating distribution by accomodation type (logarithmic scale)"
        },
        "xaxis": {
         "anchor": "y",
         "domain": [
          0,
          1
         ],
         "title": {
          "text": "Rating (log scale)"
         },
         "type": "log"
        },
        "yaxis": {
         "anchor": "x",
         "domain": [
          0,
          1
         ],
         "title": {
          "text": "Price per night"
         }
        }
       }
      }
     },
     "metadata": {},
     "output_type": "display_data"
    }
   ],
   "source": [
    "price_rating_distr_log = px.scatter(\n",
    "    data_frame=airbnb_data,\n",
    "    x=\"rating\",\n",
    "    y=\"price_per_night\",\n",
    "    log_x=True,\n",
    "    color=\"category\",\n",
    "    title=\"Price and rating distribution by accomodation type (logarithmic scale)\",\n",
    "    labels={\"rating\": \"Rating (log scale)\", \"price_per_night\": \"Price per night\"},\n",
    ")\n",
    "\n",
    "price_rating_distr_log.write_html(FIG_DIR / \"price_rating_distr_log.html\")\n",
    "price_rating_distr_log.write_image(FIG_DIR / \"price_rating_distr_log.png\")\n",
    "\n",
    "price_rating_distr_log.show()"
   ]
  },
  {
   "cell_type": "code",
   "execution_count": 85,
   "metadata": {},
   "outputs": [
    {
     "data": {
      "application/vnd.plotly.v1+json": {
       "config": {
        "plotlyServerURL": "https://plot.ly"
       },
       "data": [
        {
         "hovertemplate": "<b>%{hovertext}</b><br><br>category=Alojamiento entero<br>Rating=%{x}<br>Reviews=%{y}<br>price_per_night=%{marker.size}<extra></extra>",
         "hovertext": [
          "Acogedor apartamento privado en el centro de Berna",
          "Exclusivo departamento urbano",
          "Apartamento en el casco antiguo",
          "N.º 2 apartamento acogedor y céntrico",
          "Habitación en el espejo BE, a 10 de Berna",
          "Precioso apartamento de 1 habitación con terraza y cerca de la Universidad",
          "Acogedor apartamento con patio privado en el corazón de Berna",
          "Habitación, Thörishaus Dorf, \"Kellerstudio\"",
          "cHEaRT de BErn – URBErN Pulse",
          "\"B&B alba\" en loft atmosférico y silencioso",
          "Logotipo céntrico y moderno de 1 habitación",
          "Apartamento entero en Europaplatz",
          "Apartamento de negocios moderno - Insel",
          "Vista al Emmental: habitación con baño",
          "Activo",
          "Apartamento vintage, casco antiguo, a 3 minutos a pie de la estación de Berna",
          "LentulusSkyAppartement",
          "Modern City/ Business Studio",
          "Encantador apartamento en la ciudad de Berna",
          "Apartamento espacioso y silencioso en el centro de la ciudad de Berna",
          "Nuevo apartamento renovado cerca del centro de Berna",
          "Apartamento estudio de diseño en Berna - Breitenrain",
          "Apartamento espacioso y silencioso en el centro de la ciudad de Berna",
          "Nuevo apartamento renovado cerca del centro de Berna",
          "Artista en The Green Park",
          "Attic-Apt & Roof Terrace, OldTown, a 3 minutos de la estación",
          "Diseño de ensueño",
          "Apartamento en Little Park",
          "Fantástico ático en Berna",
          "Apartamento de 1 habitación cerca del centro",
          "Estudio soleado y relajante",
          "Apartamento céntrico en Stadt Bern",
          "la mejor ubicación, moderno apartamento urbano",
          "la mejor ubicación, moderno apartamento urbano",
          "Artista en The Green Park",
          "Luminoso, moderno, con asientos en el jardín,",
          "2.5 habitaciones, ubicación superior, tranquilo, ideal para los usuarios de Apple",
          "Apartamento nuevo totalmente equipado cerca del centro de Berna",
          "Encantador estudio central en Berna",
          "Estilo vintage verde, cerca de la ciudad",
          "Apartamento en Little Park",
          "Bonito apartamento en ático loft con terraza y bañera de hidromasaje",
          "Apartamento en barrio tranquilo y verde",
          "Apartamento de 2,5 habitaciones con patio en Liebewil",
          "Apartamento nuevo a estrenar sobre los techos de Berna",
          "Elegante apartamento en el casco antiguo an der Kramgasse",
          "Apartamento dúplex en el borde del bosque",
          "Tranquilo Ático-Apto., Super céntrico",
          "Apartamento urbano en el corazón de Berna incl. piscina",
          "Acogedor apartamento estudio con patio (terraza)",
          "Apartamento entero de 2 habitaciones (planta baja) en Berna- Bümpliz",
          "Apartamento en el centro de la ciudad",
          "Apartamento en ático de 2 habitaciones Wohlensee",
          "Comfort Apt., casco antiguo, a 3 minutos de la estación de Berna.",
          "El encantador apartamento de Grandy junto al río Aare",
          "Acogedor salón 1,5: Comodidad y Silencio",
          "Apt Estudio completo Centro Berna",
          "Diseña en el antiguo edificio Breitenrain para que te sientas bien",
          "Estudio de la ciudad, casco antiguo, a 3 minutos de la estación de Berna",
          "Tranquilo y elegante apartamento con jardín a 10 minutos del centro",
          "encantador apartamento de 1 habitación en el corazón de Berna",
          "Apartamento nuevo totalmente equipado cerca del centro de Berna",
          "City Center Studio",
          "Apt Estudio completo Centro Berna",
          "Maisonette para 6 personas, ubicación súper céntrica",
          "Top Central Apart en Berna",
          "Piso dulce en el corazón de Berna",
          "Precioso apartamento en la azotea",
          "Apartamento de 2,5 habitaciones con balcón y vistas",
          "Encantador apartamento en el barrio de moda de Länggasse",
          "Apartamento de 1 dormitorio con chimenea y terraza privada",
          "Idílico apartamento de 2 habitaciones en el campo",
          "Loft con estilo en uno de los mejores barrios de Berna",
          "NEB-Thun apartment near Interlaken and Thun",
          "Apartamento de 2 habitaciones en la ciudad más bonita de Suiza",
          "Sweet Retreat con Dreamy Lakeviews",
          "Mountain Lodge *Nature *Queen Beds *Estacionamiento gratis",
          "Estudio con vistas al lago y a la montaña",
          "Estudio con vistas al lago y a la montaña",
          "Schönes Studio en Steffisburg",
          "Hermoso departamento con vista a la montaña y jacuzzi",
          "Bonito estudio con aparcamiento",
          "Cómodo apartamento en el ático en una granja",
          "Loft en el borde verde de Berna cerca del río Aare",
          "Precioso y acogedor apartamento de 2 habitaciones, céntricoy tranquilo",
          "Altbau-Bijou im Breitenrain",
          "(b) (estudio)",
          "Apartamento tranquilo con vistas excepcionales",
          "Apartamento de lujo de un dormitorio",
          "Mi alojamiento es mi castillo",
          "Armotti Friedheim 2 dormitorios y oficina en el hogar",
          "Encantador estudio en el casco antiguo",
          "Arquitectura. Pura. Lujo.",
          "Diseño de apartamentos cerca de la ciudad y la naturaleza",
          "Diseña en el antiguo edificio Breitenrain para que te sientas bien",
          "Casa de campo galardonada de nueva construcción en el lago Thun.",
          "Bonito apartamento cerca del lago",
          "Studio-Apartment \"Lakeland\"",
          "Descansa tranquilo con vistas al lago /a la montaña/aparcamiento gratuito.",
          "Hogar para los amantes",
          "¡Gran apartamento con todo lo que tu corazón desea!",
          "Pequeña casa rural romántica \"Bödeliweidli\"",
          "Estudio moderno con vistas espectaculares",
          "1, 5 Habitaciones Bijou Mittagsfluh",
          "Ático de la parte superior en Berna",
          "Apartamento con vistas bonitas",
          "Hermoso, luminoso y tranquilo apartamento cerca de Berna",
          "Chalet para amantes de la naturaleza",
          "Loft P8: Amplio con esa cosa especial",
          "En el céntrico, tranquilo, cerca de tren y autobús, cerca de la naturaleza",
          "Acogedor apartamento de 1 habitación",
          "Casa céntrica en Zollikofen",
          "2 habitaciones amuebladas en planta baja",
          "Estudio con terraza en Charmey",
          "Chalet con vistas excepcionales",
          "Lujoso apartamento con vistas al lago Panorama, aparcamiento, tranquilo",
          "Thun City Apartment",
          "Ático bien diseñado",
          "Estudio muy cómodo",
          "Apartamento",
          "Chalet en Gruyère, magníficas vistas",
          "Apartamento con luz alpina, piscina climatizada, jardín",
          "Pequeño loft lleno de luz en el campo, edificio nuevo",
          "Hübeli Lodge",
          "Estudio muy cómodo",
          "Lujoso apartamento con vistas al lago Panorama, aparcamiento, tranquilo",
          "Apartamento con luz alpina, piscina climatizada, jardín",
          "Chalet en Gruyère, magníficas vistas",
          "La petite Marie Louise",
          "Estudio Lichtena",
          "2 habitaciones amuebladas en planta baja",
          "Apartamento del casco antiguo en el corazón de Thun con jardín",
          "Apartamento en la habitación con encanto.",
          "chalet wohnspycher blockhaus (sin aire acondicionado)",
          "Hübeli Lodge",
          "Idílica casa de madera en el borde del bosque",
          "Apartamento",
          "Chalet \"ZUM SCHNÜFU\" en el Salwald",
          "Pequeño loft lleno de luz en el campo, edificio nuevo",
          "Apartamento chalet soleado en parque natural",
          "N.º 1 apartamento acogedor y céntrico",
          "Edificio antiguo departamento an der Aare",
          "Acogedora, encantadora y céntrica 3,5 habitaciones en Biel",
          "Casa-Margarita: apartamento de 2,5 habitaciones, buena vista.",
          "2 habitaciones amuebladas en planta baja",
          "Apartamento estudio con estacionamiento y jardín privado",
          "Pequeño loft lleno de luz en el campo, edificio nuevo",
          "Casa céntrica en Zollikofen",
          "En mitad de Berna",
          "Chalet con vistas a la montaña",
          "Apartamento",
          "Lakeview Gem",
          "Maravilloso lugar para relajarse cerca de la ciudad",
          "Armotti: ultra comodidad con la mejor velocidad de internet",
          "\"caroleandclaus\"Precioso apartamento en Berna-Wabern",
          "Apartamento. Acogedor con vistas al parque Chasseral",
          "Lakeview Gem",
          "Chalet con vistas a la montaña",
          "Un paraíso familiar.",
          "Pequeño loft lleno de luz en el campo, edificio nuevo",
          "Villars-sur-Glâne - estudio independiente",
          "Apartamento de 2 habitaciones con vistas a las montañas y al castillo",
          "La casa en azoteas y la casa del lago se vuelve a publicar en la cuenta de los propietarios.",
          "Casa acogedora Natur-/Stadtnah cerca de Berna",
          "Apartamento Wohn(t)raum",
          "Oasis tranquilo, apartamento de 2 dormitorios Suiza, Biel/Bienne",
          "Armotti: ultra comodidad con la mejor velocidad de internet",
          "Pequeño apartamento en Neuchâtel",
          "Cabaña moderna con vistas únicas en Gruyère",
          "Apartamento con vistas al lago en la preciosa Oberhofen",
          "Chalet con vistas a la montaña",
          "Cabaña con encanto",
          "Casa-Margarita: apartamento de 2,5 habitaciones, buena vista.",
          "Casa acogedora Natur-/Stadtnah cerca de Berna",
          "Apartamento de 2 habitaciones con vistas a las montañas y al castillo",
          "Apartamento nuevo entre Berna y Thun",
          "Idílica casa de madera en el borde del bosque",
          "Villars-sur-Glâne - estudio independiente",
          "Barock Departamento",
          "Armotti: ultra comodidad con la mejor velocidad de internet",
          "Un paraíso familiar.",
          "Lujoso,accesible,gran apartamento de 1 dormitorio, ¡vistacompleta del Eiger!",
          "\"caroleandclaus\"Precioso apartamento en Berna-Wabern",
          "Apartamento Sunside Sunside Sun Coast en Thunersee",
          "\"caroleandclaus\"Precioso apartamento en Berna-Wabern",
          "Pipin 's Studio",
          "Un paraíso familiar.",
          "Chalet Gurnigelbad - con jardín y sauna",
          "Apartamento de 2,5 habitaciones en el centro del casco antiguo de Thun.",
          "Apartamento Wohn(t)raum",
          "Gîtes du Gore Virat",
          "Vivir en un entorno histórico en Berna",
          "Te damos la bienvenida a Chalet, cerca de la ciudad de Berna",
          "Moderno y cómodo - Estudio Evasión en Gruyère",
          "SwissHut Amazing Views Alps & Lake Thun",
          "Alojamiento familiar con encanto",
          "Apartamento luminoso de 1 habitación muy acogedor —-",
          "Alojamiento en estudio fotográfico, aseo privado y ducha",
          "Acogedor apartamento de 1,5 habitaciones",
          "Casa de vacaciones independiente en el Emmental",
          "Acogedor, único y elegante junto al lago y las montañas",
          "Hermoso ático cerca del lago Müggelsee",
          "Apartamento de 74 metros cuadrados en Berlín-Charlottenburg",
          "Apartamento doble en Frankfurter Allee",
          "Suite Home Two-Bedroom Apartment",
          "Terraza en el Wintergarten – 86 m²",
          "Piso acogedor y tranquilo en Prenzlauer Berg",
          "Ático en el corazón de Berlín",
          "Hermoso, luminoso, con buenas vistas al campo",
          "Stadtflucht Penthouse 5.2.2",
          "Design-Studio Bergmannkiez",
          "Traum Apartment mit 150 m²",
          "Loft de lujo de nuevo diseño en el moderno Prenzlauer Berg",
          "Apartamento CÉNTRICO Y CÓMODO en Prenzlauer Berg cerca de Mitte",
          "Loft- Mejor ubicación, 90m2, 2 baños, 2 Balcón, tranquilo.",
          "2 encantadores apartamentos de 2 habitaciones en Berlín Mitte",
          "Exquisito 100 metros cuadrados an der Spree",
          "Apartamento de lujo de 2 dormitorios en Mitte",
          "Soleado y diseño en Berlin Mitte",
          "402 * Urban Apartment in top area *",
          "Impresionante loft de diseño en la mejor ubicación de Kreuzberg",
          "Apartamento soleado en la azotea",
          "Apartamento estudio de diseño con balcón, Berlin Mitte",
          "Apartamento tipo estudio en la casa con jardín",
          "The Spree Condo",
          "Apartamento de la ciudad en Wrangelkiez",
          "Hermoso departamento luminoso y luminoso con balcón/10’ Mitte",
          "Berlín Puro: nuevo moderno y elegante/2 habitaciones/pared/centro",
          "Creativo + renovado + Cool Bergmannkiez",
          "Stayery | Estudio moderno cerca de Boxhagener Platz",
          "NIDO DE AVES SOBRE BERLÍN",
          "numa I Suite Espaciosa en Checkpoint Charlie",
          "Apartamento tipo estudio único en el monumento",
          "Apartamento boutique en la azotea de 1237 pies cuadrados en City West",
          "Apartamento de maisonette de 4 habitaciones de Youngster de 50 metros cuadrados cerca del centro",
          "Apartamento ático con terraza en la azotea sobre Berlín",
          "Acogedor y tranquilo cine boutique en Winskiez",
          "Loft tranquilo y espacioso, estacionamiento privado disponible",
          "Bienvenido a tu hogar en Berlín",
          "Habitación tranquila en Berlín en K-Berg",
          "Apartamento luminoso y lujoso en el parque",
          "Penthouse im Graefekiez",
          "Studio nuthetal, nahe Berlin & Potsdam, Parkplatz",
          "Gran loft de 1 habitación",
          "Hermoso departamento con vista a la bahía",
          "Elegante nuevo loft II de Berlin-Wall-Apartments",
          "Precioso apartamento luminoso de 2 habitaciones en el corazón de Friedrichshain",
          "Precioso apartamento antiguo en Kreuzberg",
          "Apartamento estudio de diseño con balcón, Berlin Mitte",
          "Apartamento tranquilo y acogedor en Samarieterviertel con terraza.",
          "Stayery | Estudio moderno cerca de Boxhagener Platz",
          "El oasis escandinavo",
          "Apartamento estudio en planta baja central",
          "Loft tranquilo y espacioso, estacionamiento privado disponible",
          "Elegante apartamento en el Görli",
          "Precioso apartamento en Mitte",
          "Departamento Boutique Ruhiges",
          "794 APARTAMENTO DE LUJO DE UNA HABITACIÓN EN CENTRAL MITTE",
          "Kreuzberger Altbau mit Kachelofen",
          "Kreuzberger Perle: luminoso y cerca del agua",
          "numa I Suite Espaciosa en Checkpoint Charlie",
          "numa | Habitación moderna con registro de entrada digital",
          "Elegante oasis en el corazón de Berlín",
          "Altbau en Berlín-Wilmersdorf",
          "Apartamento de 2 habitaciones en Friedrichshain",
          "Apartamento estudio de diseño con balcón, Berlin Mitte",
          "Piso moderno en Neukölln / Kreuzberg",
          "moderno y céntrico estudio cerca de Alexanderplatz",
          "Creativo + renovado + Cool Bergmannkiez",
          "Apartamento agradable con cama con dosel y terraza",
          "Apartamento de diseño en el corazón de Mitte",
          "Apartamento espacioso/ Kudamm / City West",
          "Berlin Muellerstr. | Suite L",
          "Impresionante ático moderno en Mitte",
          "795 APARTAMENTO DE LUJO CON TERRAZA EN MITTE",
          "Acogedor apartamento tipo estudio en Friedrichshain",
          "Acogedor apartamento en Prenzlauerberg",
          "Apartamento arquitectónico en Kreuzberg",
          "Apartamento de diseño moderno",
          "Apartamento URBANO 2012 * en el centro de la ciudad",
          "Apartamento en Berlín Mitte",
          "limehome Berlin Stresemannstr | Suite",
          "limehome Berlin Stresemannstr | Suite",
          "Lujoso penthouse prémium de 3 habitaciones en Berlín Mitte",
          "habitación plana azul",
          "Bonito y gran sótanoen el canal kreuzberg",
          "Lake Side Park/Historic/BER /Ư",
          "Piso moderno con Homecinema, Netflix, 2 Min. Tranvía",
          "Acogedor apartamento tipo loft en Berlín Wilmersdorf",
          "Apartamento chic, céntrico - Ópera alemana",
          "Apartamento lujoso y con estilo en el aeropuerto DE BER",
          "Apartamento céntrico: a 5 minutos de Alexanderplatz.",
          "Apartamento de diseño en Bergmannkiez",
          "Estudio de diseño luminoso y cómodo en Neukölln",
          "Apartamento artístico en Kreuzkölln",
          "Estudio central en Berlín Friedrichshain",
          "Zliving Penthouse",
          "Enorme apartamento de 3 habitaciones en distrito para 2 personas",
          "Relájate o trabaja +sauna",
          "Piso céntrico, acogedor y luminoso en Berlín Mitte",
          "Apartamento moderno y luminoso con terraza",
          "estudio, amplio y tranquilo balcón",
          "Apartamento tranquilo y acogedor con chimenea y terraza",
          "303 * Increíble apartamento en la mejor zona",
          "Apartamento de lujo de 100 metros cuadrados en excelente ubicación cerca de Ku'Damm",
          "Berlin Friedrichshain Design Loft Apartment + Garden",
          "Apartamento anexo en el sur de Berlín",
          "Apartamento agradable en Prenzlauer Berg",
          "Apartamento con encanto en Schöneberg",
          "Apartamento con estilo en Charlottenburg",
          "Acogedor apartamento Prenzlauer Berg",
          "¡Siéntete como en tu alojamiento en cuestión de segundos!",
          "Precioso apartamento en Berlín, Friedrichshain",
          "Una joya luminosa",
          "Chat, apartamento y balcón en el centro del moderno Berlín",
          "Acogedor apartamento en Charlottenburg",
          "Chat, apartamento y balcón en el centro del moderno Berlín",
          "Apartamento Motzstraße (1000) con habitación independiente",
          "Una joya luminosa",
          "Acogedor apartamento en Charlottenburg",
          "Precioso apartamento en Berlín, Friedrichshain",
          "Paraíso urbano: casa soleada con balcón y gato",
          "Apartamento en Prenzlauer Berg III",
          "Encantador y acogedor apartamento de 1 dormitorio en Neukölln",
          "Precioso dúplex en el corazón de Berlín (Mitte)",
          "Hermoso anexo en el corazón de Falkensee",
          "Casa D'Oro beutiful maisonette Apartment",
          "Chic, Calm + Central Residence",
          "Sala de estar soleada con balcón",
          "Hermoso y gran apartamento cerca de Rosenthaler Platz",
          "Apartamento moderno de 2 habitaciones",
          "Loft (45 mts2) con terraza, Rummelsburg Bay",
          "Luminoso apartamento de 3 habitaciones en Neukölln",
          "Experimenta Berlín 2020",
          "Adorable casa de huéspedes con alberca y sauna en Pankow",
          "Apartamento privado Simon-Dach",
          "Piso único en Schillerkiez",
          "Apartamento estudio moderno",
          "Vivir en el asentamiento forestal",
          "Apartamento acogedor y tranquilo en Berlín cerca del transporte público",
          "Estudio en Prenzlauer Berg",
          "Edificio antiguo de diseño recién reformado",
          "ACOGEDOR ALOJAMIENTO",
          "The Luxury Orchid Home",
          "Soleado balcón loft en la última planta +vista Prenzlauer Berg",
          "La mejor ubicación: Precioso apartamento en Friedrichshain",
          "Apartamento recién renovado en el Castillo de Charlottenburg",
          "Tranquilo apartamento estudio cerca del Mauerpark",
          "Apartamento tranquilo en la casa sueca en medio de Berlín",
          "Apartamento de ensueño en Central Place /Privat Parking",
          "Tranquilo apartamento estudio cerca del Mauerpark",
          "Apartamento estudio elegante y moderno en Berlín-Charlottenburg",
          "Apartamento de 2 habitaciones - muy céntrico - Superview Mitte",
          "Elegante escondite en el corazón de Berlín.",
          "Amplio, mejor ubicación, 2 balcones, moderno!",
          "Con estilo en Berlín",
          "Piso urbano de Kreuzberg con balcón en el patio",
          "Los oasis urbanos junto al agua",
          "Über den Dächern von Berlin",
          "Apartamento en Berlín-Adlershof",
          "Apartamento en un edificio antiguo en Alt-Treptow",
          "Acogedor apartamento en Maisonette cerca de KuDamm",
          "En el corazón de Neuköllner Kiez ;)Real Berlin Feeling!",
          "Acogedor apartamento en Sprengelkiez - Berlín",
          "Acogedora maisonette en el centro de Berlín",
          "Departamento Boutique Ruhiges",
          "En una zona de moda con carácter",
          "Elegante apartamento de 70 m2 en el centro de Berlín (Mitte)",
          "¡Acogedor apartamento en el corazón de la zona más moderna!",
          "Bright + green *15 min to Potsdamer Platz*",
          "Apartamento ejecutivo de 110 metros cuadrados cerca de Museumsinsel",
          "Apartamento Urbanes en F-Hain",
          "apartamento acogedor en friedrichshain",
          "204 * El mejor lugar para estar en el centro de la ciudad *",
          "Acogedor ático con vistas únicas sobre la ciudad",
          "504 * El lugar para estar en la mejor zona, reformado",
          "Apartamento estudio en Berlín Mitte",
          "Maisonette, la mejor ubicación de 2 balcones de Berlín-Mitte",
          "Penthouse de lujo en el corazón de Berlín",
          "Maisonette en la planta superior del corazón de Berlín",
          "Pequeña casa a las afueras del pueblo",
          "Estudio único y tranquilo, excelente ubicación!",
          "Acogedora casa en el maravilloso distrito de Friedrichshain",
          "Apartamento ejecutivo de 110 metros cuadrados cerca de Museumsinsel",
          "Berlín puro:elegante neu2 Zi/Terrasse/Zentrum/Mauer",
          "Maisonette en la planta superior del corazón de Berlín",
          "504 * El lugar para estar en la mejor zona, reformado",
          "Apartamento de lujo en Frankfurter Allee",
          "Elegante oasis en el corazón de Berlín",
          "Estudio de artista en Berlín - Prenzlauer Berg",
          "Penthouse de lujo en el corazón de Berlín",
          "estudio luminoso en Schöneberg junto a la ciudad de Berlín",
          "Waldrand Tiergarten: céntrico, moderno, cómodo",
          "Karo: un oasis de paz en Kreuzberg",
          "TempelCasa",
          "Estudio creativo en Friedrichshain-Boxhagener Platz",
          "Maisonette, la mejor ubicación de 2 balcones de Berlín-Mitte",
          "#505 Sé mi huésped",
          "Estudio creativo en Friedrichshain-Boxhagener Platz",
          "moderno y céntrico estudio cerca de Alexanderplatz",
          "SMARTments - Vida temporal en Prenzlauer Berg",
          "UN GRAN ÁTICO",
          "Apartamento de lujo con carácter en Berlín Kreuzberg-1",
          "Departamento nuevo accesible",
          "Maisonette, la mejor ubicación de 2 balcones de Berlín-Mitte",
          "Industrial-Design Loft de 100 metros cuadrados en Friedrichshain",
          "apartamento acogedor en friedrichshain",
          "2032 * Acogedor apartamento en el corazón de Berlín",
          "Estudio único y tranquilo, excelente ubicación!",
          "Estudio de 60 metros cuadrados en el parque Gleisdreieck",
          "Cervecería renovada en un lago",
          "Apartamento acogedor autónomo",
          "viajar con un perro no es ningún problema con nosotros",
          "FU-Zentral, hermosa parte/departamento en renovado.20er Ja",
          "CASA DE CAMPO EN EL CINTURÓN DE TOCINO DE BERLÍN",
          "Fantástico apartamento en el ático",
          "Departamento de Diseño Prenzlauer Berg",
          "Hermoso ático / ático con terraza",
          "La joya de Neukölln",
          "Apartamento tranquilo de 1 habitación en el parque, a 20 minutos del centro",
          "2021 * Apartamento urbano en el centro de la ciudad",
          "Moderno apartamento de edificio antiguo en Charlottenburg",
          "Elegante y acogedora casa de huéspedes con terraza y piscina",
          "Edificio moderno con jardín vertical y 2 recamaras",
          "Departamento nuevo en Schönefeld",
          "Paraíso en madera",
          "EXCELENTE apartamento de 102 * en el centro de la ciudad",
          "Casa Nina, Suite de excepción",
          "Estudio en la calle la Boëtie",
          "Acogedor apartamento * Puertas de París * Pareja ideal",
          "2 habitaciones en París - Campos de Marte/Torre Eiffel",
          "Estudio con encanto bien situado",
          "Apartamento luminoso con vistas a los tejados",
          "¡Sol en el corazón de Le Marais!",
          "Appart Paris16 Tour Eiffel Troca",
          "La mejor vista de la torre Eiffel.",
          "Elegante art deco a pie de París 16.",
          "Amplio apartamento de 2 habitaciones con terraza",
          "Encantador estudio en un barrio animado",
          "Encanto de 2 habitaciones Montmartre",
          "Encanto y comodidad en el corazón de Batignolles",
          "Balcón | en el corazón del distrito 9",
          "Apartamento tranquilo en Montmartre - EasyHostin'",
          "Apartamento tranquilo en Montmartre - EasyHostin'",
          "Edgar Suites Bouchardon - Studio superior patio",
          "Encantador apartamento - Canal St Martin/République",
          "Apartamento tranquilo Abbesses Montmartre",
          "Increíble apartamento en Montmartre 2/4P",
          "Le Van Gogh Appart • 3'RER • 11'Paris • 23'Disney",
          "Acogedor apartamento para 2 -canal st Martin",
          "Gran apartamento acogedor a orillas del canal",
          "Un increíble 1-Br/1BA en Montmartre",
          "Lac du Panorama* cerca de París* aparcamiento privado *",
          "Impresionante apartamento de lujo moderno y reformado",
          "Escapada a la selva bajo el cielo parisino",
          "Lujoso Apartamento Jacuzzi cerca de París",
          "Apartamento T3 cerca de Montmartre",
          "Apto. 40M² Torre Eiffel - Puerta Versalles",
          "* Apartamento acogedor * Puertas de París*",
          "Acogedor apartamento cerca de Rivoli y del Museo del Louvre",
          "Hermoso apartamento con vistas a la Torre Eiffel",
          "Estudio céntrico +Wifi rápido + Desayuno + Vino",
          "Magnífico Apartamento 1BR/4P - Montorgueil 6",
          "Encantador apartamento en el corazón de París",
          "Un increíble 1-Br/1BA en Montmartre",
          "Luminoso y tranquilo, T2 equipado a 15 minutos de París",
          "Encanto urbano: 2 habitaciones Acogedor cerca de Accor Arena",
          "Luxury & Design Flat 1BR/4P- Bastille",
          "Luxueux 60m² central de Beaubourg",
          "Montmartre Duplex, Sacré-Cœur - Charming Hideaway",
          "Loft chic vintage Paris center",
          "Magnífico Apartamento 1BR/4P - Montorgueil 7",
          "Acogedor apartamento en Montmartre",
          "Suite de 3 habitaciones en París - Nation",
          "Ubicación superior - París/Disney/Montmartre",
          "Apartamento con encanto cerca de los Quais de Seine",
          "Acogedor apartamento en un callejón tranquilo",
          "Apartamento de diseño con vistas a París",
          "Superbe studio vue Tour Eiffel",
          "Encantador Père Lachaise de dos habitaciones",
          "Acogedora casa con terraza cerca del Canal Saint-Martin",
          "Apartamento de 2 habitaciones luminoso",
          "Encantador estudio Montmartre en el último piso tranquilo",
          "Un increíble 1-Br/1BA en Montmartre",
          "Magnífico Apartamento 1BR/4P - Montorgueil 7",
          "París: apartamento tranquilo y luminoso",
          "Tour moderno estudio bail mobilité con vistas a Eiffel",
          "Apartamento recién renovado entre la Ópera y el Louvre",
          "Boisseau, 1Ch/1Sdb, 2 personas",
          "Balcón | en el corazón del distrito 9",
          "Diseño de 44m ² | CDG | París | Disney | Astérix",
          "Apartamento luminoso cerca de la plaza Léon Blum",
          "Boisseau, 1Ch/1Sdb, 2 personas",
          "Diseño de 44m ² | CDG | París | Disney | Astérix",
          "Apartamento luminoso cerca de la plaza Léon Blum",
          "Apartamento elegante en París y terraza",
          "Acogedor T2 con balcón -RER B/París",
          "Loft 52m²+estacionamiento a 15 min del centro de París",
          "Apartamento 1 BR con balcón - Chatelet/ París 2",
          "Luxueux 60m² central de Beaubourg",
          "Apartamento de 2 habitaciones luminoso",
          "LE MARAIS - NUEVO APARTAMENTO DE ALTA GAMA",
          "Loft chic vintage Paris center",
          "Maison Bůoise 1BR/3P con AC en los Campos Elíseos",
          "Magnífico Apartamento 1BR/4P - Montorgueil 4",
          "Precioso apartamento en el corazón del distrito 16",
          "Hermosa vista estudio París 17",
          "El Sorprendente - París",
          "Luxury & Design Flat 1BR/4P- Bastille",
          "Un increíble 1-Br/1BA en Montmartre",
          "El Sorprendente - París",
          "Apartamento de lujo de un dormitorio cerca del Louvre II",
          "1556: Estudio Madeleine en los Juegos Olímpicos de París 2024",
          "Increíble apartamento 1BR/4P - Montorgueil - 3",
          "INCREÍBLE LOFT HISTÓRICO PARISINO JUNTO A LA ZONA DEL LOUVRE! - 4",
          "*Encantador apartamento para 2 en Trocadéro - París 16*",
          "Apartamento de 2 habitaciones «como en casa»",
          "La Maison Kleber, Luxury 1BR Eiffel Champs-Elysées",
          "Piso de estilo con aire acondicionado en Marais en el último piso",
          "CityStay Confort 5 min en metro",
          "Amplio loft reformado con aire acondicionado",
          "Piso a 10 minutos del centro de París",
          "Luminoso apartamento de Batignolles con vistas a la Torre Eiffel",
          "Acogedor apartamento en Montmartre",
          "Magnífico Apartamento 1BR/4P - Montorgueil 5",
          "Ultra Central Historical Parisian Flat - Louvre",
          "Apartamento atípico y encantador en el centro de Le Marais",
          "Apartamento romántico Montmartre & Pigalle",
          "Ambiente acogedor en el barrio superior a 15 minutos de París",
          "Acogedor apartamento con balcón cerca de Montmartre",
          "Marais - République",
          "Estudio Montmartre con balcón",
          "En el corazón de Montmartre",
          "L'Eden - Casa para 12 PERSONAS - París y Disney",
          "¡Airbnb de verdad, bienvenida a casa !",
          "Acogedor apartamento en el corazón de París Bonne Nouvelle",
          "Gran apartamento parisino a dos pasos del pantano",
          "Apartamento de arquitecto con terraza privada",
          "Apartamento parisino chic chic con vistas a la azotea",
          "Mon Boudoir a 10 min de París - 50m2",
          "Metro Line 1: Comfortable flat near La Défense",
          "Estudio Céntrico, Wifi + Desayuno + Vino",
          "Terraza floral, vista, relax asegurado",
          "Escapada romántica en Montmartre",
          "Acogedor encanto y elegancia parisina junto a Canal St. Martin",
          "Fantástico apartamento familiar a 20 minutos del centro",
          "Terraza floral, vista, relax asegurado",
          "Bohème-chic, zona Opéra-Grands Boulevards",
          "Encantador apartamento en el corazón de París",
          "Apartamento luminoso en el 10º",
          "Amplio estudio Montmartre Airco",
          "Elegante burbuja parisina enVillage Jourdain/Pyrénées",
          "Apartamento del arquitecto",
          "Arco de Triunfo ! Champs-Elysées ! Tranquilo y acogedor",
          "República, amplio y lujoso 2 habitaciones",
          "TRANQUILO PISO EN EL CORAZÓN DE PARIS",
          "Gran estudio en el centro de París, cerca del Louvre",
          "Apartment Studio de 25 m²: Le Marais, París.",
          "Apartamento de 2 habitaciones tranquilo en el jardín",
          "Fabuloso estudio en el corazón de Old Montmartre",
          "Estudio Petit - París 12",
          "Amplio y tranquilo apartamento de 2 dormitorios con aire acondicionado y patio",
          "Apartamento acogedor - Sentier",
          "2 habitaciones y balcón en casa de Pauline",
          "Fabuloso estudio en el corazón de Old Montmartre",
          "Amplio y tranquilo apartamento de 2 dormitorios con aire acondicionado y patio",
          "Piso del arquitecto en el canal",
          "Centro histórico Habitación, cocina, baño del estudiante.",
          "Saint-Germain-des-Près rue Échaudé",
          "Increíble apartamento 1BR/4P Le Marais",
          "Jardín secreto/ 75011 París",
          "Apartamento luminoso, cerca del metro, fácil acceso",
          "¡Suite de diseño con terraza privada en el centro de París!",
          "Encantador T2 a las puertas de París",
          "París: apartamento a estrenar en residencia segura",
          "Apartamento con fantásticas vistas en Pantin - Welkeys",
          "#Paris 12 Gare de Lyon Bercy Accor Arena Bastille#",
          "Apartamento acogedor y luminoso",
          "Acogedor apartamento en el corazón de París",
          "Apartamento tranquilo - Barrio Latino Mouftard",
          "Superanfitrión con encanto de 2 dormitorios en el corazón de París",
          "Excelente ubicación Paris Centre",
          "Dos habitaciones con encanto de Notre Dame",
          "Moderno, tranquilo y seguro en la ubicación correcta",
          "Magnífico Apartamento 1BR/4P - Montorgueil 2",
          "Estudio de lujo de clase alta rue Saint-Honoré",
          "Riviera Maya - Estación TGV 3 min a pie - Cerca de París",
          "Appartement Place Vendôme Paris",
          "Estudio o calma",
          "Apartamento 38 m² a Nation - 1 cama queen + 1 sofá cama",
          "Louvre - Acogedor estudio elegante - \"Emily in Paris\"",
          "Rue Vavin",
          "Loft Dúplex Luminoso con vistas + Estufa + Bañera",
          "Impresionante apartamento acogedor entre Disney y París",
          "Apartamento de 2 habitaciones en el centro de París",
          "Loft Dúplex Luminoso con vistas + Estufa + Bañera",
          "Appartement Place Vendôme Paris",
          "Otro lado",
          "Precioso loft en el corazón de París 501",
          "Jacuzzi Versailles - Sauna - C",
          "Encantador Maur Escape Apartment 3 minutos estación",
          "Suite de lujo con jardín privado Sauna y Jaccuzi",
          "Precioso apartamento con balcón, junto al Jardín de plantas.",
          "Magnífico Apartamento 1BR/4P - Montorgueil 2",
          "EL capullo soleado DEL NIDO totalmente equipado, en el centro de la ciudad",
          "Apartamento a 5 minutos de París Metro 7 Aparcamiento gratuito",
          "Vive como un parisino",
          "¡El acogedor del 15!",
          "Acogedor apartamento 4P/1BR - Le Marais",
          "Estudio entre canal st martin y buttes-chaumont",
          "Apartamento en Trocadéro",
          "Dos habitaciones 42 m² reformado con aparcamiento gratuito",
          "Oasis Marais, un jardín en París",
          "Elegante apartamento cerca de los Campos Elíseos 403",
          "Precioso y acogedor de 2 habitaciones",
          "Canal de París Saint Martin 55m2",
          "Acogedora casa con terraza cerca del Canal Saint-Martin",
          "Lavie Maison : aire acondicionado y espacioso y centro de París",
          "Hermoso apartamento - París 11",
          "Apartamento con aire acondicionado, Barrio Latino, 40m2",
          "Precioso apartamento en la Bastilla, cerca de Marais",
          "Acogedor y tranquilo departamento entre el 11/Le Marais",
          "Torre Eiffel EN TU salón",
          "Elegante apartamento en el Palacio Real de RICHELIEU",
          "Encantador 40m2 barrio Saint-Maur",
          "Loft de lujo con aire acondicionado en París",
          "Excepcional 2 hermanos con una fantástica vista a la Torre Eiffel",
          "Nid Cosy proche Arc de Triomphe",
          "Marais: un dormitorio luminoso y decorado con gusto",
          "Estudio - Eiffel - Invalides - Rue Cler",
          "Apartamento luminoso con vistas a los tejados",
          "Loft parisino moderno cerca de varias líneas de metro",
          "Luxury & Design Flat 1BR/4P- Bastille",
          "EL acogedor apartamento con aire acondicionado de PALMERAS en el centro de París",
          "Encantador apartamento cerca de Marais/Sentier",
          "75m2 dúplex luminoso&confortable /habitación grande",
          "Escapada exclusiva: alojamiento Luxe en una ubicación privilegiada A21",
          "El Sagrado Corazón de París: unas vistas perfectas",
          "Casa acogedora - Rer C & A15",
          "Sublim apart «la marquise »paris centterrace 2bh",
          "Apartamento acogedor y encantador au coeur de París",
          "Encantador apartamento a 10 minutos a pie del metro 12 París",
          "Acogedor T2 Barrio de los Campos Elíseos (avenida Hoche)",
          "¡Maravilloso apartamento Saint Germain des Prés !",
          "Amplio apartamento renovado cerca del Louvre",
          "* Louvre Saint-Eustache Opéra * París",
          "¡Maravilloso apartamento Saint Germain des Prés !",
          "Paz - Apartamento luminoso y cómodo",
          "Encantador apartamento recientemente reformado en el día 7",
          "Luminoso apartamento en el corazón de Batignolles",
          "Obelisco de la Bastilla",
          "Estudio parisino cerca de la Torre Eiffel",
          "Luminoso apartamento para 2 personas justo al lado de París",
          "Vista rara, a dos pasos del Sena.",
          "Estudio de 16 m² en el 2º arr.",
          "Apartamento elegante en Montmartre",
          "Precioso Sacré-Cœur",
          "Cálido apartamento Montmartre - EasyHostin'",
          "Aparentemente muy céntrico en el corazón de París 35 m2",
          "PRECIOSO APARTAMENTO EN MONTORGUEIL PARIS",
          "2 habitaciones (43 m²), Place d 'Italie - París 13",
          "Apartamento muy tranquilo Ópera - Pigalle",
          "Apartamento de 2 habitaciones en el Canal Saint Martin",
          "La Diva - Le Haut Marais - With AirCon!"
         ],
         "legendgroup": "Alojamiento entero",
         "marker": {
          "color": "#636efa",
          "opacity": 0.5,
          "size": [
           43,
           473,
           125,
           71,
           62,
           76,
           83,
           43,
           97,
           98,
           124,
           98,
           100,
           49,
           133,
           111,
           133,
           100,
           83,
           109,
           83,
           130,
           109,
           83,
           102,
           140,
           117,
           103,
           129,
           107,
           98,
           141,
           124,
           124,
           102,
           290,
           77,
           99,
           93,
           54,
           103,
           194,
           94,
           95,
           139,
           124,
           101,
           188,
           379,
           98,
           145,
           194,
           56,
           162,
           114,
           103,
           127,
           169,
           124,
           66,
           121,
           99,
           88,
           127,
           259,
           129,
           161,
           118,
           78,
           168,
           81,
           88,
           206,
           74,
           176,
           168,
           129,
           169,
           169,
           78,
           108,
           98,
           103,
           85,
           82,
           168,
           69,
           181,
           185,
           71,
           179,
           145,
           250,
           189,
           169,
           440,
           114,
           93,
           186,
           88,
           92,
           122,
           117,
           62,
           171,
           54,
           101,
           92,
           114,
           78,
           67,
           202,
           78,
           101,
           128,
           434,
           145,
           78,
           67,
           89,
           103,
           125,
           103,
           83,
           67,
           434,
           125,
           103,
           103,
           83,
           78,
           125,
           78,
           172,
           83,
           153,
           89,
           276,
           103,
           111,
           74,
           78,
           71,
           202,
           78,
           109,
           103,
           202,
           124,
           78,
           89,
           433,
           83,
           233,
           155,
           83,
           433,
           78,
           80,
           103,
           62,
           103,
           359,
           233,
           81,
           67,
           233,
           88,
           150,
           186,
           78,
           251,
           202,
           233,
           103,
           124,
           153,
           62,
           128,
           233,
           80,
           198,
           155,
           111,
           155,
           88,
           80,
           102,
           119,
           81,
           130,
           102,
           114,
           78,
           187,
           123,
           58,
           55,
           61,
           128,
           207,
           53,
           77,
           75,
           214,
           205,
           99,
           190,
           80,
           149,
           92,
           195,
           200,
           89,
           189,
           129,
           131,
           198,
           164,
           228,
           180,
           114,
           139,
           91,
           300,
           90,
           121,
           213,
           61,
           68,
           140,
           108,
           80,
           121,
           123,
           266,
           138,
           194,
           122,
           90,
           97,
           128,
           132,
           134,
           130,
           158,
           95,
           94,
           139,
           149,
           68,
           200,
           89,
           194,
           138,
           88,
           70,
           150,
           76,
           203,
           108,
           87,
           121,
           72,
           125,
           139,
           99,
           115,
           61,
           95,
           122,
           92,
           102,
           181,
           150,
           70,
           84,
           78,
           89,
           249,
           100,
           97,
           97,
           115,
           80,
           76,
           71,
           147,
           91,
           79,
           119,
           222,
           150,
           110,
           112,
           81,
           520,
           220,
           132,
           130,
           114,
           145,
           80,
           159,
           316,
           160,
           110,
           120,
           135,
           124,
           114,
           200,
           230,
           88,
           62,
           154,
           62,
           143,
           88,
           154,
           230,
           99,
           63,
           110,
           191,
           129,
           277,
           160,
           129,
           192,
           134,
           84,
           200,
           80,
           206,
           170,
           141,
           87,
           70,
           77,
           81,
           150,
           140,
           249,
           139,
           81,
           100,
           89,
           112,
           211,
           89,
           115,
           88,
           213,
           249,
           174,
           137,
           110,
           65,
           89,
           150,
           119,
           95,
           90,
           90,
           70,
           118,
           110,
           120,
           71,
           140,
           86,
           104,
           264,
           265,
           245,
           92,
           141,
           231,
           170,
           99,
           104,
           284,
           140,
           238,
           170,
           245,
           141,
           121,
           120,
           231,
           137,
           105,
           86,
           97,
           120,
           141,
           106,
           120,
           115,
           95,
           155,
           129,
           149,
           141,
           240,
           104,
           232,
           104,
           150,
           120,
           86,
           72,
           110,
           78,
           130,
           100,
           149,
           77,
           80,
           249,
           125,
           90,
           225,
           92,
           68,
           174,
           379,
           100,
           89,
           130,
           86,
           86,
           300,
           250,
           240,
           265,
           130,
           110,
           99,
           210,
           164,
           179,
           179,
           308,
           140,
           145,
           138,
           110,
           87,
           180,
           168,
           140,
           191,
           152,
           128,
           190,
           130,
           136,
           261,
           120,
           180,
           188,
           219,
           176,
           67,
           95,
           289,
           220,
           219,
           182,
           196,
           130,
           198,
           160,
           280,
           155,
           196,
           90,
           120,
           117,
           140,
           95,
           176,
           196,
           115,
           140,
           281,
           220,
           164,
           71,
           180,
           220,
           71,
           180,
           160,
           70,
           91,
           247,
           220,
           140,
           179,
           182,
           205,
           214,
           187,
           90,
           223,
           299,
           176,
           223,
           481,
           180,
           251,
           272,
           140,
           70,
           325,
           444,
           114,
           319,
           70,
           135,
           130,
           218,
           184,
           540,
           235,
           54,
           114,
           349,
           120,
           205,
           279,
           220,
           269,
           189,
           110,
           715,
           65,
           68,
           180,
           140,
           165,
           315,
           286,
           140,
           234,
           290,
           350,
           150,
           124,
           124,
           250,
           169,
           100,
           210,
           178,
           140,
           216,
           96,
           378,
           240,
           184,
           216,
           378,
           143,
           110,
           220,
           350,
           280,
           80,
           596,
           82,
           200,
           92,
           124,
           160,
           301,
           150,
           295,
           100,
           135,
           162,
           212,
           150,
           83,
           159,
           75,
           154,
           275,
           180,
           100,
           85,
           170,
           100,
           159,
           96,
           229,
           134,
           72,
           396,
           260,
           212,
           145,
           90,
           250,
           137,
           228,
           138,
           315,
           69,
           150,
           258,
           62,
           110,
           117,
           453,
           144,
           250,
           190,
           130,
           288,
           533,
           125,
           129,
           601,
           120,
           228,
           143,
           86,
           140,
           299,
           191,
           276,
           150,
           408,
           125,
           45,
           240,
           134,
           71,
           130,
           150,
           292,
           426,
           150,
           110,
           325,
           320,
           162,
           180,
           59,
           140,
           100,
           145,
           109,
           200,
           111,
           199,
           107,
           230,
           101,
           190
          ],
          "sizemode": "area",
          "sizeref": 3.1777777777777776,
          "symbol": "circle"
         },
         "mode": "markers",
         "name": "Alojamiento entero",
         "orientation": "v",
         "showlegend": true,
         "type": "scatter",
         "x": [
          4.68,
          0,
          4.84,
          4.87,
          5,
          4.86,
          4.91,
          5,
          0,
          4.99,
          4.93,
          4.95,
          4.92,
          4.89,
          5,
          4.76,
          5,
          4.81,
          4.64,
          0,
          4.7,
          4.93,
          0,
          4.7,
          4.68,
          4.75,
          4.81,
          4.73,
          4.82,
          0,
          4.9,
          4.86,
          0,
          0,
          4.68,
          4.98,
          5,
          4.81,
          5,
          4.96,
          4.73,
          4.75,
          4.91,
          4.9,
          4.94,
          5,
          4.97,
          4.91,
          4.98,
          4.95,
          4.95,
          5,
          4.88,
          4.8,
          4.8,
          4.8,
          4.67,
          4.94,
          4.7,
          4.75,
          4.72,
          4.81,
          5,
          4.67,
          4.58,
          4.71,
          4.82,
          4.6,
          4.82,
          5,
          5,
          5,
          5,
          0,
          0,
          5,
          5,
          5,
          5,
          4.99,
          4.99,
          4.98,
          5,
          4.87,
          4.98,
          0,
          4.99,
          4.95,
          0,
          5,
          4.8,
          5,
          5,
          4.94,
          4.94,
          4.98,
          5,
          4.99,
          5,
          5,
          4.94,
          5,
          5,
          4.98,
          4.97,
          4.98,
          4.93,
          4.99,
          4.92,
          4.98,
          4.98,
          5,
          5,
          4.98,
          4.96,
          5,
          4.93,
          4.94,
          4.88,
          5,
          4.98,
          4.98,
          5,
          5,
          4.88,
          5,
          4.98,
          4.98,
          5,
          4.84,
          5,
          5,
          4.96,
          4.82,
          5,
          5,
          5,
          5,
          5,
          5,
          4.8,
          0,
          4.88,
          4.98,
          5,
          4.85,
          5,
          5,
          0,
          4.98,
          5,
          4.91,
          4.83,
          4.96,
          5,
          4.99,
          4.91,
          4.98,
          4.95,
          5,
          4.99,
          4.97,
          4.98,
          4.75,
          0,
          4.94,
          4.96,
          0,
          4.98,
          4.89,
          4.98,
          4.86,
          4.98,
          4.75,
          4.97,
          0,
          5,
          4.99,
          4.74,
          4.96,
          4.95,
          4.94,
          5,
          4.96,
          5,
          4.82,
          4.95,
          4.91,
          4.97,
          0,
          4.97,
          4.78,
          4.97,
          4.89,
          4.96,
          0,
          4.4,
          4.86,
          4.9,
          5,
          4.99,
          0,
          0,
          0,
          4.79,
          4.92,
          4.92,
          0,
          0,
          5,
          5,
          5,
          4.98,
          4.97,
          5,
          4.66,
          5,
          0,
          5,
          0,
          4.96,
          5,
          0,
          4.82,
          0,
          5,
          4.92,
          5,
          4.79,
          4.76,
          4.9,
          4.63,
          0,
          4.93,
          4.8,
          4.9,
          4.95,
          5,
          4.94,
          4.97,
          0,
          5,
          4.99,
          4.87,
          5,
          4.87,
          4.91,
          4.79,
          5,
          4.95,
          4.76,
          4.97,
          4.92,
          5,
          4.9,
          5,
          4.89,
          4.9,
          4.83,
          5,
          4.63,
          4.77,
          4.88,
          0,
          5,
          5,
          4.79,
          4.82,
          4.79,
          0,
          4.87,
          4.59,
          4.75,
          0,
          4.6,
          4.5,
          0,
          4.72,
          4.33,
          0,
          0,
          4.43,
          4.43,
          4.86,
          0,
          0,
          4.44,
          4.5,
          4.2,
          4.32,
          5,
          0,
          0,
          5,
          0,
          5,
          0,
          5,
          5,
          4.95,
          5,
          4.95,
          5,
          0,
          5,
          5,
          5,
          4.95,
          4.97,
          0,
          4.94,
          5,
          5,
          4.91,
          5,
          5,
          5,
          4.92,
          4.91,
          5,
          5,
          5,
          4.92,
          5,
          4.95,
          4.98,
          4.95,
          5,
          5,
          4.99,
          0,
          4.96,
          5,
          4.95,
          4.98,
          5,
          5,
          5,
          5,
          4.94,
          0,
          5,
          5,
          5,
          4.9,
          4.94,
          4.94,
          4.97,
          4.97,
          4.95,
          4.97,
          4.66,
          4.94,
          4.94,
          4.93,
          4.96,
          4.89,
          5,
          4.98,
          4.91,
          5,
          0,
          5,
          4.88,
          0,
          4.89,
          5,
          4.92,
          5,
          4.67,
          5,
          4.91,
          0,
          0,
          4.96,
          5,
          5,
          4.98,
          5,
          4.96,
          0,
          4.96,
          5,
          5,
          4.94,
          4.96,
          5,
          0,
          4.88,
          4.91,
          5,
          4.9,
          4.96,
          4.92,
          4.88,
          4.94,
          4.98,
          4.82,
          4.94,
          4.82,
          0,
          4.84,
          5,
          4.93,
          4.98,
          4.92,
          0,
          0,
          4.96,
          0,
          0,
          5,
          5,
          4.93,
          4.99,
          0,
          4.94,
          4.98,
          4.94,
          0,
          0,
          4.91,
          4.99,
          4.98,
          0,
          0,
          0,
          4.94,
          0,
          5,
          0,
          4.83,
          0,
          0,
          0,
          0,
          5,
          4.92,
          4.97,
          0,
          4.94,
          0,
          5,
          5,
          4.96,
          4.98,
          5,
          5,
          4.97,
          3.67,
          4.94,
          0,
          5,
          5,
          5,
          5,
          5,
          4.98,
          0,
          0,
          0,
          5,
          4.71,
          0,
          0,
          5,
          5,
          0,
          0,
          0,
          4.78,
          4.6,
          5,
          5,
          4.79,
          0,
          5,
          5,
          5,
          5,
          0,
          0,
          0,
          0,
          4.6,
          4.88,
          4.97,
          4.94,
          0,
          0,
          4.94,
          4.96,
          0,
          4.94,
          4.96,
          0,
          4.9,
          4.99,
          4.81,
          0,
          0,
          4.55,
          4.78,
          4.92,
          4.6,
          4.55,
          0,
          0,
          0,
          0,
          0,
          4.89,
          4.89,
          4.69,
          4.56,
          4.27,
          0,
          5,
          0,
          5,
          5,
          5,
          5,
          5,
          4.63,
          4.67,
          5,
          5,
          5,
          0,
          0,
          5,
          5,
          5,
          5,
          5,
          5,
          5,
          5,
          5,
          4.92,
          5,
          4.9,
          5,
          5,
          0,
          4.9,
          5,
          5,
          5,
          4.93,
          4.94,
          0,
          4.94,
          5,
          4.88,
          4.98,
          4.98,
          4.94,
          4.99,
          4.87,
          5,
          4.96,
          4.95,
          4.99,
          5,
          4.86,
          5,
          4.86,
          5,
          5,
          5,
          4.9,
          5,
          4.96,
          0,
          4.99,
          0,
          5,
          0,
          4.88,
          4.85,
          5,
          4.96,
          4.65,
          4.92,
          4.93,
          0,
          4.97,
          4.97,
          4.98,
          4.71,
          4.99,
          4.96,
          4.8,
          4.99,
          0,
          4.83,
          4.94,
          4.89,
          4.91,
          4.95,
          5,
          4.65,
          5,
          0,
          4.98,
          5,
          4.9,
          5,
          5,
          4.88,
          4.86,
          4.92,
          0,
          4.86,
          0,
          5,
          0,
          5,
          5,
          4.76,
          4.92,
          4.96,
          4.88,
          4.96,
          4.95,
          4.92,
          4.92,
          5,
          0,
          4.86,
          0,
          4.94,
          4.75,
          5,
          4.92,
          5,
          5,
          0,
          4.87,
          5,
          5,
          4.85,
          4.95,
          4.91,
          4.85,
          4.95,
          5,
          5,
          4.75,
          4.96,
          0,
          0,
          5,
          4.9,
          0,
          4.94,
          4.86,
          4.88,
          4.96,
          4.94,
          4.82,
          4.8
         ],
         "xaxis": "x",
         "y": [
          19,
          0,
          339,
          0,
          13,
          86,
          145,
          17,
          0,
          199,
          121,
          84,
          87,
          36,
          0,
          592,
          5,
          120,
          14,
          0,
          466,
          337,
          0,
          466,
          95,
          750,
          16,
          169,
          95,
          0,
          10,
          14,
          0,
          0,
          95,
          52,
          21,
          208,
          13,
          70,
          169,
          145,
          65,
          41,
          63,
          4,
          231,
          74,
          52,
          22,
          21,
          3,
          0,
          733,
          10,
          15,
          0,
          0,
          821,
          413,
          53,
          208,
          0,
          0,
          40,
          0,
          17,
          5,
          11,
          4,
          0,
          34,
          56,
          0,
          0,
          31,
          21,
          0,
          0,
          92,
          0,
          54,
          0,
          30,
          255,
          0,
          188,
          22,
          0,
          9,
          35,
          34,
          0,
          0,
          0,
          185,
          6,
          183,
          52,
          66,
          117,
          18,
          17,
          195,
          95,
          200,
          61,
          72,
          86,
          59,
          342,
          7,
          9,
          196,
          53,
          21,
          76,
          160,
          8,
          5,
          163,
          176,
          0,
          52,
          8,
          21,
          176,
          163,
          9,
          43,
          9,
          14,
          25,
          17,
          52,
          11,
          5,
          25,
          0,
          0,
          0,
          0,
          0,
          0,
          9,
          34,
          0,
          7,
          0,
          350,
          5,
          390,
          12,
          53,
          19,
          108,
          390,
          350,
          199,
          0,
          92,
          88,
          44,
          0,
          0,
          104,
          53,
          0,
          121,
          0,
          350,
          0,
          0,
          0,
          88,
          0,
          11,
          92,
          34,
          53,
          199,
          62,
          19,
          82,
          19,
          168,
          199,
          81,
          35,
          0,
          144,
          23,
          106,
          9,
          23,
          0,
          5,
          58,
          41,
          11,
          313,
          0,
          0,
          0,
          419,
          25,
          12,
          0,
          0,
          15,
          30,
          12,
          49,
          276,
          43,
          130,
          10,
          0,
          204,
          0,
          26,
          4,
          0,
          88,
          0,
          24,
          26,
          51,
          327,
          228,
          73,
          0,
          0,
          299,
          44,
          20,
          148,
          3,
          119,
          31,
          0,
          5,
          69,
          0,
          32,
          134,
          70,
          197,
          5,
          21,
          228,
          114,
          97,
          3,
          104,
          8,
          9,
          20,
          60,
          27,
          0,
          0,
          24,
          0,
          0,
          5,
          0,
          324,
          327,
          0,
          79,
          59,
          16,
          0,
          15,
          0,
          0,
          457,
          3,
          0,
          0,
          51,
          51,
          7,
          0,
          0,
          27,
          8,
          0,
          65,
          11,
          0,
          0,
          16,
          0,
          94,
          0,
          0,
          4,
          22,
          0,
          367,
          26,
          0,
          0,
          41,
          48,
          101,
          36,
          0,
          394,
          17,
          17,
          0,
          18,
          17,
          18,
          74,
          0,
          17,
          17,
          41,
          292,
          10,
          99,
          43,
          196,
          4,
          7,
          96,
          0,
          107,
          9,
          37,
          61,
          20,
          37,
          7,
          22,
          100,
          0,
          8,
          7,
          0,
          185,
          0,
          162,
          143,
          140,
          60,
          143,
          44,
          35,
          31,
          28,
          28,
          267,
          10,
          40,
          32,
          15,
          0,
          10,
          8,
          0,
          9,
          0,
          0,
          6,
          3,
          3,
          11,
          0,
          0,
          26,
          9,
          31,
          81,
          21,
          27,
          0,
          74,
          22,
          3,
          52,
          27,
          9,
          0,
          24,
          22,
          21,
          217,
          46,
          157,
          240,
          36,
          81,
          76,
          36,
          324,
          0,
          132,
          5,
          0,
          81,
          89,
          0,
          0,
          74,
          0,
          0,
          11,
          4,
          134,
          142,
          0,
          83,
          43,
          16,
          0,
          0,
          0,
          67,
          112,
          0,
          0,
          0,
          196,
          0,
          0,
          0,
          0,
          0,
          0,
          0,
          0,
          20,
          62,
          174,
          0,
          18,
          0,
          9,
          9,
          24,
          0,
          17,
          0,
          29,
          3,
          17,
          0,
          0,
          4,
          3,
          17,
          3,
          87,
          0,
          0,
          0,
          24,
          0,
          0,
          0,
          5,
          8,
          0,
          0,
          0,
          27,
          0,
          5,
          29,
          14,
          0,
          6,
          31,
          17,
          6,
          0,
          0,
          0,
          0,
          0,
          16,
          91,
          150,
          0,
          0,
          0,
          25,
          0,
          0,
          25,
          0,
          10,
          0,
          132,
          0,
          0,
          121,
          27,
          62,
          0,
          0,
          0,
          0,
          0,
          0,
          0,
          27,
          9,
          0,
          0,
          11,
          0,
          0,
          0,
          6,
          52,
          3,
          3,
          5,
          0,
          0,
          18,
          25,
          18,
          0,
          0,
          7,
          22,
          0,
          3,
          67,
          45,
          12,
          0,
          24,
          257,
          29,
          10,
          3,
          0,
          0,
          10,
          6,
          0,
          8,
          472,
          72,
          0,
          17,
          10,
          416,
          42,
          135,
          16,
          124,
          30,
          0,
          23,
          21,
          124,
          0,
          29,
          10,
          304,
          3,
          21,
          4,
          80,
          0,
          114,
          0,
          99,
          0,
          56,
          0,
          230,
          86,
          3,
          100,
          0,
          97,
          107,
          0,
          32,
          32,
          51,
          7,
          83,
          224,
          20,
          83,
          0,
          47,
          16,
          9,
          23,
          22,
          19,
          0,
          25,
          0,
          148,
          20,
          0,
          10,
          12,
          223,
          29,
          152,
          0,
          0,
          0,
          8,
          0,
          37,
          29,
          29,
          215,
          0,
          32,
          138,
          138,
          13,
          132,
          0,
          0,
          84,
          0,
          154,
          0,
          3,
          0,
          19,
          4,
          0,
          0,
          34,
          34,
          20,
          366,
          99,
          20,
          79,
          0,
          16,
          4,
          26,
          0,
          0,
          0,
          30,
          0,
          18,
          0,
          182,
          0,
          18,
          17,
          241
         ],
         "yaxis": "y"
        },
        {
         "hovertemplate": "<b>%{hovertext}</b><br><br>category=Habitación<br>Rating=%{x}<br>Reviews=%{y}<br>price_per_night=%{marker.size}<extra></extra>",
         "hovertext": [
          "Sala de estar en Berna",
          "Habitación en Freimettigen",
          "Ice Attic-Apt, casco antiguo, a 3 minutos de la estación de tren",
          "Habitación soleada, súper central, estación de Berna a 5 minutos a pie",
          "Como si estuvieras en casa",
          "Habitación ático con vistas increíbles",
          "Hermosa habitación en el casco antiguo de Berna",
          "Cómoda Habitación cerca del centro de Berna",
          "Habitación en el centro de Berna",
          "¡Pequeño pero bonito! ¡Bonito y completo!",
          "Apartamento azul, casco antiguo, a 3 minutos de la estación de tren de Berna.",
          "Habitación tranquila, super céntrica, a 5 minutos de la estación de tren",
          "Encantadora habitación individual tranquila",
          "Cama en un barrio agradable y tranquilo.",
          "Habitaciones con baño y acceso privado",
          "Amplia habitación soleada, casco antiguo, a 3 minutos de la estación de Berna",
          "Acogedor dormitorio privado a 4 minutos del centro de la ciudad",
          "Habitación preciosa cerca de la ciudad de Berna",
          "Cama en dormitorio en el Hostal 77 Berna",
          "habitación cerca del centro",
          "Habitación tranquila con balcón cerca de la estación principal.",
          "Estudio de 1 habitación con cocina",
          "Cama en un barrio agradable y tranquilo.",
          "Como si estuvieras en casa",
          "¡Pequeño pero bonito! ¡Bonito y completo!",
          "Habitación en el centro de Berna",
          "Estancia NONO, ubicación privilegiada",
          "Apartamento rojo, casco antiguo, a 3 minutos de la estación de tren",
          "Orange Apt., casco antiguo, a 3 minutos de la estación de tren de Berna.",
          "Como si estuvieras en casa",
          "Granja",
          "2 habitaciones privadas en una gran casa de los años 20",
          "Acogedora habitación de maisonette cerca del centro de la ciudad",
          "Habitación muy cómoda",
          "1-2 habitaciones, 4 km de Berna en el área recreativa",
          "Lugar mágico de Beatenberg y sala morada",
          "Cama «bir hübelihäx» - Desayuno en Wunsch",
          "1-2 habitaciones, 4 km de Berna en el área recreativa",
          "Habitación tranquila en el centro de Berna",
          "1-2 habitaciones, 4 km de Berna en el área recreativa",
          "Oasis de bienestar entre la capital y la naturaleza",
          "Habitación tranquila en el centro de Berna",
          "Habitación tranquila en el centro de Berna",
          "Habitación en un bonito apartamento de un edificio antiguo",
          "Lugar mágico de Beatenberg y habitación para huéspedes compartida",
          "Nena Apartments Metropolpark \"Studio\"",
          "Loft enorme Berlin-Mitte con baño propio y aire acondicionado",
          "Enorme Loft Berlin-Mitte con baño privado y aire acondicionado",
          "¡Habitación en casa flotante en el centro!",
          "(estudio)",
          "Nena Apartments Moritzplatz \"estudio\"",
          "Amplia habitación en su propio piso + con su propio baño",
          "Habitación: Tranquilo, soleado y con vistas al agua",
          "Habitación: Tranquilo, soleado y con vistas al agua",
          "Típico berlinés",
          "Habitación tranquila en un apartamento queer Friendly",
          "Habitación privada en lujo. Apartamento limpio de 330 m² + sauna.",
          "Hermosa habitación junto al canal (Gräfekiez)",
          "Acogedora habitación con baño adjunto cerca de Mauerpark",
          "Acogedora habitación con baño adjunto cerca de Mauerpark",
          "Hermosa habitación junto al canal (Gräfekiez)",
          "Mucho espacio, dentro del anillo",
          "Acogedora habitación con baño adjunto cerca de Mauerpark",
          "Hermosa habitación junto al canal (Gräfekiez)",
          "Precioso loft, balcón y baño propio",
          "Mucho espacio, dentro del anillo",
          "Sueño para parejas: habitación en el corazón de Kreuzberg",
          "Habitación de huéspedes balneoterapia Limeil-Brévannes",
          "Ático Sky cerca de la torre Eiffel",
          "Cerca de la Torre Eiffel, metro y comercios.",
          "En el muelle, frente al Louvre, muy limpio, buen wifi",
          "En el muelle, frente al Louvre, muy limpio, buen wifi",
          "Suite entera Eiffel Premier",
          "París 12: habitación independiente con patio florido",
          "Amplio estudio en la agradable zona de Gambetta",
          "Amplio estudio en la agradable zona de Gambetta",
          "Escapada parisina"
         ],
         "legendgroup": "Habitación",
         "marker": {
          "color": "#EF553B",
          "opacity": 0.5,
          "size": [
           36,
           36,
           113,
           68,
           42,
           53,
           55,
           78,
           88,
           60,
           127,
           70,
           55,
           62,
           80,
           73,
           52,
           52,
           46,
           61,
           62,
           78,
           62,
           42,
           60,
           88,
           103,
           166,
           250,
           42,
           52,
           116,
           68,
           69,
           67,
           228,
           39,
           67,
           61,
           67,
           74,
           61,
           61,
           72,
           197,
           117,
           99,
           97,
           65,
           100,
           110,
           97,
           69,
           69,
           44,
           77,
           84,
           55,
           65,
           65,
           55,
           82,
           65,
           55,
           71,
           82,
           120,
           186,
           280,
           130,
           163,
           163,
           150,
           100,
           100,
           100,
           169
          ],
          "sizemode": "area",
          "sizeref": 3.1777777777777776,
          "symbol": "circle"
         },
         "mode": "markers",
         "name": "Habitación",
         "orientation": "v",
         "showlegend": true,
         "type": "scatter",
         "x": [
          5,
          0,
          4.84,
          4.93,
          0,
          4.94,
          4.82,
          5,
          4.93,
          4.82,
          4.81,
          4.86,
          0,
          4.97,
          4.81,
          4.72,
          4.72,
          4.57,
          4.83,
          4.94,
          4.79,
          4.96,
          4.97,
          0,
          4.82,
          4.93,
          4.94,
          4.88,
          4.82,
          0,
          4.82,
          4.97,
          0,
          5,
          4.98,
          4.88,
          5,
          4.98,
          4.97,
          4.98,
          4.85,
          4.97,
          4.97,
          0,
          4.83,
          4.53,
          4.99,
          4.97,
          0,
          4.77,
          4.57,
          4.97,
          0,
          0,
          4.9,
          5,
          4.97,
          4.92,
          4.94,
          4.94,
          4.92,
          5,
          4.94,
          4.92,
          4.81,
          5,
          4.96,
          5,
          4.9,
          4.95,
          4.97,
          4.97,
          4.9,
          4.95,
          4.98,
          4.98,
          4.92
         ],
         "xaxis": "x",
         "y": [
          5,
          0,
          218,
          877,
          0,
          16,
          68,
          0,
          15,
          218,
          203,
          212,
          0,
          60,
          477,
          866,
          25,
          7,
          221,
          0,
          304,
          72,
          60,
          0,
          218,
          15,
          17,
          174,
          233,
          0,
          11,
          163,
          0,
          5,
          64,
          206,
          9,
          64,
          30,
          64,
          39,
          30,
          30,
          0,
          570,
          0,
          518,
          445,
          0,
          0,
          0,
          34,
          0,
          0,
          10,
          13,
          31,
          403,
          78,
          78,
          403,
          3,
          78,
          403,
          0,
          3,
          193,
          34,
          230,
          186,
          331,
          331,
          249,
          354,
          60,
          60,
          79
         ],
         "yaxis": "y"
        },
        {
         "hovertemplate": "<b>%{hovertext}</b><br><br>category=otro<br>Rating=%{x}<br>Reviews=%{y}<br>price_per_night=%{marker.size}<extra></extra>",
         "hovertext": [
          "Vacaciones en la finca con una vista única.",
          "Stöckli apto para familias con ollas calientes/alpacas",
          "Tiny de l'Aigle (La Tiny de l' Aigle)",
          "Tiny de l'Aigle (La Tiny de l' Aigle)",
          "Hay lugares, en nuestra tierra, que tienen alma",
          "Estancia en pleno campo en una granja renovada",
          "Fantástica casa flotante en la ciudad de Berlín"
         ],
         "legendgroup": "otro",
         "marker": {
          "color": "#00cc96",
          "opacity": 0.5,
          "size": [
           155,
           134,
           157,
           157,
           155,
           72,
           237
          ],
          "sizemode": "area",
          "sizeref": 3.1777777777777776,
          "symbol": "circle"
         },
         "mode": "markers",
         "name": "otro",
         "orientation": "v",
         "showlegend": true,
         "type": "scatter",
         "x": [
          4.95,
          5,
          5,
          5,
          4.98,
          5,
          4.97
         ],
         "xaxis": "x",
         "y": [
          61,
          33,
          60,
          60,
          179,
          5,
          147
         ],
         "yaxis": "y"
        }
       ],
       "layout": {
        "legend": {
         "itemsizing": "constant",
         "title": {
          "text": "category"
         },
         "tracegroupgap": 0
        },
        "template": {
         "data": {
          "bar": [
           {
            "error_x": {
             "color": "#2a3f5f"
            },
            "error_y": {
             "color": "#2a3f5f"
            },
            "marker": {
             "line": {
              "color": "#E5ECF6",
              "width": 0.5
             },
             "pattern": {
              "fillmode": "overlay",
              "size": 10,
              "solidity": 0.2
             }
            },
            "type": "bar"
           }
          ],
          "barpolar": [
           {
            "marker": {
             "line": {
              "color": "#E5ECF6",
              "width": 0.5
             },
             "pattern": {
              "fillmode": "overlay",
              "size": 10,
              "solidity": 0.2
             }
            },
            "type": "barpolar"
           }
          ],
          "carpet": [
           {
            "aaxis": {
             "endlinecolor": "#2a3f5f",
             "gridcolor": "white",
             "linecolor": "white",
             "minorgridcolor": "white",
             "startlinecolor": "#2a3f5f"
            },
            "baxis": {
             "endlinecolor": "#2a3f5f",
             "gridcolor": "white",
             "linecolor": "white",
             "minorgridcolor": "white",
             "startlinecolor": "#2a3f5f"
            },
            "type": "carpet"
           }
          ],
          "choropleth": [
           {
            "colorbar": {
             "outlinewidth": 0,
             "ticks": ""
            },
            "type": "choropleth"
           }
          ],
          "contour": [
           {
            "colorbar": {
             "outlinewidth": 0,
             "ticks": ""
            },
            "colorscale": [
             [
              0,
              "#0d0887"
             ],
             [
              0.1111111111111111,
              "#46039f"
             ],
             [
              0.2222222222222222,
              "#7201a8"
             ],
             [
              0.3333333333333333,
              "#9c179e"
             ],
             [
              0.4444444444444444,
              "#bd3786"
             ],
             [
              0.5555555555555556,
              "#d8576b"
             ],
             [
              0.6666666666666666,
              "#ed7953"
             ],
             [
              0.7777777777777778,
              "#fb9f3a"
             ],
             [
              0.8888888888888888,
              "#fdca26"
             ],
             [
              1,
              "#f0f921"
             ]
            ],
            "type": "contour"
           }
          ],
          "contourcarpet": [
           {
            "colorbar": {
             "outlinewidth": 0,
             "ticks": ""
            },
            "type": "contourcarpet"
           }
          ],
          "heatmap": [
           {
            "colorbar": {
             "outlinewidth": 0,
             "ticks": ""
            },
            "colorscale": [
             [
              0,
              "#0d0887"
             ],
             [
              0.1111111111111111,
              "#46039f"
             ],
             [
              0.2222222222222222,
              "#7201a8"
             ],
             [
              0.3333333333333333,
              "#9c179e"
             ],
             [
              0.4444444444444444,
              "#bd3786"
             ],
             [
              0.5555555555555556,
              "#d8576b"
             ],
             [
              0.6666666666666666,
              "#ed7953"
             ],
             [
              0.7777777777777778,
              "#fb9f3a"
             ],
             [
              0.8888888888888888,
              "#fdca26"
             ],
             [
              1,
              "#f0f921"
             ]
            ],
            "type": "heatmap"
           }
          ],
          "heatmapgl": [
           {
            "colorbar": {
             "outlinewidth": 0,
             "ticks": ""
            },
            "colorscale": [
             [
              0,
              "#0d0887"
             ],
             [
              0.1111111111111111,
              "#46039f"
             ],
             [
              0.2222222222222222,
              "#7201a8"
             ],
             [
              0.3333333333333333,
              "#9c179e"
             ],
             [
              0.4444444444444444,
              "#bd3786"
             ],
             [
              0.5555555555555556,
              "#d8576b"
             ],
             [
              0.6666666666666666,
              "#ed7953"
             ],
             [
              0.7777777777777778,
              "#fb9f3a"
             ],
             [
              0.8888888888888888,
              "#fdca26"
             ],
             [
              1,
              "#f0f921"
             ]
            ],
            "type": "heatmapgl"
           }
          ],
          "histogram": [
           {
            "marker": {
             "pattern": {
              "fillmode": "overlay",
              "size": 10,
              "solidity": 0.2
             }
            },
            "type": "histogram"
           }
          ],
          "histogram2d": [
           {
            "colorbar": {
             "outlinewidth": 0,
             "ticks": ""
            },
            "colorscale": [
             [
              0,
              "#0d0887"
             ],
             [
              0.1111111111111111,
              "#46039f"
             ],
             [
              0.2222222222222222,
              "#7201a8"
             ],
             [
              0.3333333333333333,
              "#9c179e"
             ],
             [
              0.4444444444444444,
              "#bd3786"
             ],
             [
              0.5555555555555556,
              "#d8576b"
             ],
             [
              0.6666666666666666,
              "#ed7953"
             ],
             [
              0.7777777777777778,
              "#fb9f3a"
             ],
             [
              0.8888888888888888,
              "#fdca26"
             ],
             [
              1,
              "#f0f921"
             ]
            ],
            "type": "histogram2d"
           }
          ],
          "histogram2dcontour": [
           {
            "colorbar": {
             "outlinewidth": 0,
             "ticks": ""
            },
            "colorscale": [
             [
              0,
              "#0d0887"
             ],
             [
              0.1111111111111111,
              "#46039f"
             ],
             [
              0.2222222222222222,
              "#7201a8"
             ],
             [
              0.3333333333333333,
              "#9c179e"
             ],
             [
              0.4444444444444444,
              "#bd3786"
             ],
             [
              0.5555555555555556,
              "#d8576b"
             ],
             [
              0.6666666666666666,
              "#ed7953"
             ],
             [
              0.7777777777777778,
              "#fb9f3a"
             ],
             [
              0.8888888888888888,
              "#fdca26"
             ],
             [
              1,
              "#f0f921"
             ]
            ],
            "type": "histogram2dcontour"
           }
          ],
          "mesh3d": [
           {
            "colorbar": {
             "outlinewidth": 0,
             "ticks": ""
            },
            "type": "mesh3d"
           }
          ],
          "parcoords": [
           {
            "line": {
             "colorbar": {
              "outlinewidth": 0,
              "ticks": ""
             }
            },
            "type": "parcoords"
           }
          ],
          "pie": [
           {
            "automargin": true,
            "type": "pie"
           }
          ],
          "scatter": [
           {
            "marker": {
             "colorbar": {
              "outlinewidth": 0,
              "ticks": ""
             }
            },
            "type": "scatter"
           }
          ],
          "scatter3d": [
           {
            "line": {
             "colorbar": {
              "outlinewidth": 0,
              "ticks": ""
             }
            },
            "marker": {
             "colorbar": {
              "outlinewidth": 0,
              "ticks": ""
             }
            },
            "type": "scatter3d"
           }
          ],
          "scattercarpet": [
           {
            "marker": {
             "colorbar": {
              "outlinewidth": 0,
              "ticks": ""
             }
            },
            "type": "scattercarpet"
           }
          ],
          "scattergeo": [
           {
            "marker": {
             "colorbar": {
              "outlinewidth": 0,
              "ticks": ""
             }
            },
            "type": "scattergeo"
           }
          ],
          "scattergl": [
           {
            "marker": {
             "colorbar": {
              "outlinewidth": 0,
              "ticks": ""
             }
            },
            "type": "scattergl"
           }
          ],
          "scattermapbox": [
           {
            "marker": {
             "colorbar": {
              "outlinewidth": 0,
              "ticks": ""
             }
            },
            "type": "scattermapbox"
           }
          ],
          "scatterpolar": [
           {
            "marker": {
             "colorbar": {
              "outlinewidth": 0,
              "ticks": ""
             }
            },
            "type": "scatterpolar"
           }
          ],
          "scatterpolargl": [
           {
            "marker": {
             "colorbar": {
              "outlinewidth": 0,
              "ticks": ""
             }
            },
            "type": "scatterpolargl"
           }
          ],
          "scatterternary": [
           {
            "marker": {
             "colorbar": {
              "outlinewidth": 0,
              "ticks": ""
             }
            },
            "type": "scatterternary"
           }
          ],
          "surface": [
           {
            "colorbar": {
             "outlinewidth": 0,
             "ticks": ""
            },
            "colorscale": [
             [
              0,
              "#0d0887"
             ],
             [
              0.1111111111111111,
              "#46039f"
             ],
             [
              0.2222222222222222,
              "#7201a8"
             ],
             [
              0.3333333333333333,
              "#9c179e"
             ],
             [
              0.4444444444444444,
              "#bd3786"
             ],
             [
              0.5555555555555556,
              "#d8576b"
             ],
             [
              0.6666666666666666,
              "#ed7953"
             ],
             [
              0.7777777777777778,
              "#fb9f3a"
             ],
             [
              0.8888888888888888,
              "#fdca26"
             ],
             [
              1,
              "#f0f921"
             ]
            ],
            "type": "surface"
           }
          ],
          "table": [
           {
            "cells": {
             "fill": {
              "color": "#EBF0F8"
             },
             "line": {
              "color": "white"
             }
            },
            "header": {
             "fill": {
              "color": "#C8D4E3"
             },
             "line": {
              "color": "white"
             }
            },
            "type": "table"
           }
          ]
         },
         "layout": {
          "annotationdefaults": {
           "arrowcolor": "#2a3f5f",
           "arrowhead": 0,
           "arrowwidth": 1
          },
          "autotypenumbers": "strict",
          "coloraxis": {
           "colorbar": {
            "outlinewidth": 0,
            "ticks": ""
           }
          },
          "colorscale": {
           "diverging": [
            [
             0,
             "#8e0152"
            ],
            [
             0.1,
             "#c51b7d"
            ],
            [
             0.2,
             "#de77ae"
            ],
            [
             0.3,
             "#f1b6da"
            ],
            [
             0.4,
             "#fde0ef"
            ],
            [
             0.5,
             "#f7f7f7"
            ],
            [
             0.6,
             "#e6f5d0"
            ],
            [
             0.7,
             "#b8e186"
            ],
            [
             0.8,
             "#7fbc41"
            ],
            [
             0.9,
             "#4d9221"
            ],
            [
             1,
             "#276419"
            ]
           ],
           "sequential": [
            [
             0,
             "#0d0887"
            ],
            [
             0.1111111111111111,
             "#46039f"
            ],
            [
             0.2222222222222222,
             "#7201a8"
            ],
            [
             0.3333333333333333,
             "#9c179e"
            ],
            [
             0.4444444444444444,
             "#bd3786"
            ],
            [
             0.5555555555555556,
             "#d8576b"
            ],
            [
             0.6666666666666666,
             "#ed7953"
            ],
            [
             0.7777777777777778,
             "#fb9f3a"
            ],
            [
             0.8888888888888888,
             "#fdca26"
            ],
            [
             1,
             "#f0f921"
            ]
           ],
           "sequentialminus": [
            [
             0,
             "#0d0887"
            ],
            [
             0.1111111111111111,
             "#46039f"
            ],
            [
             0.2222222222222222,
             "#7201a8"
            ],
            [
             0.3333333333333333,
             "#9c179e"
            ],
            [
             0.4444444444444444,
             "#bd3786"
            ],
            [
             0.5555555555555556,
             "#d8576b"
            ],
            [
             0.6666666666666666,
             "#ed7953"
            ],
            [
             0.7777777777777778,
             "#fb9f3a"
            ],
            [
             0.8888888888888888,
             "#fdca26"
            ],
            [
             1,
             "#f0f921"
            ]
           ]
          },
          "colorway": [
           "#636efa",
           "#EF553B",
           "#00cc96",
           "#ab63fa",
           "#FFA15A",
           "#19d3f3",
           "#FF6692",
           "#B6E880",
           "#FF97FF",
           "#FECB52"
          ],
          "font": {
           "color": "#2a3f5f"
          },
          "geo": {
           "bgcolor": "white",
           "lakecolor": "white",
           "landcolor": "#E5ECF6",
           "showlakes": true,
           "showland": true,
           "subunitcolor": "white"
          },
          "hoverlabel": {
           "align": "left"
          },
          "hovermode": "closest",
          "mapbox": {
           "style": "light"
          },
          "paper_bgcolor": "white",
          "plot_bgcolor": "#E5ECF6",
          "polar": {
           "angularaxis": {
            "gridcolor": "white",
            "linecolor": "white",
            "ticks": ""
           },
           "bgcolor": "#E5ECF6",
           "radialaxis": {
            "gridcolor": "white",
            "linecolor": "white",
            "ticks": ""
           }
          },
          "scene": {
           "xaxis": {
            "backgroundcolor": "#E5ECF6",
            "gridcolor": "white",
            "gridwidth": 2,
            "linecolor": "white",
            "showbackground": true,
            "ticks": "",
            "zerolinecolor": "white"
           },
           "yaxis": {
            "backgroundcolor": "#E5ECF6",
            "gridcolor": "white",
            "gridwidth": 2,
            "linecolor": "white",
            "showbackground": true,
            "ticks": "",
            "zerolinecolor": "white"
           },
           "zaxis": {
            "backgroundcolor": "#E5ECF6",
            "gridcolor": "white",
            "gridwidth": 2,
            "linecolor": "white",
            "showbackground": true,
            "ticks": "",
            "zerolinecolor": "white"
           }
          },
          "shapedefaults": {
           "line": {
            "color": "#2a3f5f"
           }
          },
          "ternary": {
           "aaxis": {
            "gridcolor": "white",
            "linecolor": "white",
            "ticks": ""
           },
           "baxis": {
            "gridcolor": "white",
            "linecolor": "white",
            "ticks": ""
           },
           "bgcolor": "#E5ECF6",
           "caxis": {
            "gridcolor": "white",
            "linecolor": "white",
            "ticks": ""
           }
          },
          "title": {
           "x": 0.05
          },
          "xaxis": {
           "automargin": true,
           "gridcolor": "white",
           "linecolor": "white",
           "ticks": "",
           "title": {
            "standoff": 15
           },
           "zerolinecolor": "white",
           "zerolinewidth": 2
          },
          "yaxis": {
           "automargin": true,
           "gridcolor": "white",
           "linecolor": "white",
           "ticks": "",
           "title": {
            "standoff": 15
           },
           "zerolinecolor": "white",
           "zerolinewidth": 2
          }
         }
        },
        "title": {
         "text": "Reviews and rating distribution by accomodation type (logarithmic scale)"
        },
        "xaxis": {
         "anchor": "y",
         "domain": [
          0,
          1
         ],
         "title": {
          "text": "Rating"
         },
         "type": "log"
        },
        "yaxis": {
         "anchor": "x",
         "domain": [
          0,
          1
         ],
         "title": {
          "text": "Reviews"
         }
        }
       }
      }
     },
     "metadata": {},
     "output_type": "display_data"
    }
   ],
   "source": [
    "# Plot the scatter plot with fixed 'price_per_night' column\n",
    "reviews_rating_distribution = px.scatter(\n",
    "    data_frame=airbnb_data,\n",
    "    x=\"rating\",\n",
    "    y=\"reviews\",\n",
    "    log_x=True,\n",
    "    color=\"category\",\n",
    "    title=\"Reviews and rating distribution by accomodation type (logarithmic scale)\",\n",
    "    labels={\"rating\": \"Rating\", \"reviews\": \"Reviews\"},\n",
    "    hover_name=\"name\",\n",
    "    opacity=0.5,\n",
    "    size=\"price_per_night\",\n",
    "    size_max=15,\n",
    ")\n",
    "\n",
    "reviews_rating_distribution.write_html(FIG_DIR / \"reviews_rating_distribution.html\")\n",
    "reviews_rating_distribution.write_image(FIG_DIR / \"reviews_rating_distribution.png\")\n",
    "\n",
    "reviews_rating_distribution.show()"
   ]
  },
  {
   "cell_type": "code",
   "execution_count": 98,
   "metadata": {},
   "outputs": [
    {
     "data": {
      "application/vnd.plotly.v1+json": {
       "config": {
        "plotlyServerURL": "https://plot.ly"
       },
       "data": [
        {
         "alignmentgroup": "True",
         "bingroup": "x",
         "hovertemplate": "City=Bern<br>Price per night=%{x}<br>count=%{y}<extra></extra>",
         "legendgroup": "Bern",
         "marker": {
          "color": "#636efa",
          "pattern": {
           "shape": ""
          }
         },
         "name": "Bern",
         "nbinsx": 100,
         "offsetgroup": "Bern",
         "orientation": "v",
         "showlegend": true,
         "type": "histogram",
         "x": [
          43,
          473,
          36,
          125,
          36,
          113,
          71,
          62,
          68,
          42,
          53,
          55,
          76,
          83,
          43,
          97,
          78,
          98,
          124,
          98,
          100,
          88,
          60,
          49,
          133,
          127,
          70,
          111,
          133,
          100,
          55,
          62,
          83,
          80,
          109,
          83,
          130,
          73,
          109,
          83,
          52,
          102,
          140,
          117,
          52,
          103,
          129,
          107,
          46,
          98,
          141,
          61,
          124,
          62,
          124,
          78,
          102,
          290,
          77,
          99,
          93,
          62,
          54,
          103,
          42,
          194,
          60,
          88,
          94,
          95,
          139,
          103,
          124,
          101,
          188,
          379,
          98,
          145,
          166,
          250,
          194,
          56,
          42,
          162,
          114,
          103,
          127,
          169,
          124,
          66,
          121,
          99,
          88,
          127,
          259,
          129,
          161,
          118,
          78,
          168,
          81,
          88,
          206,
          74,
          176,
          168,
          129,
          169,
          169,
          78,
          108,
          98,
          103,
          52,
          85,
          82,
          168,
          69,
          116,
          181,
          185,
          71,
          179,
          145,
          250,
          189,
          169,
          440,
          114,
          93,
          186,
          88,
          92,
          68,
          122,
          117,
          62,
          171,
          54,
          155,
          101,
          92,
          114,
          78,
          67,
          202,
          78,
          101,
          128,
          434,
          69,
          145,
          78,
          67,
          67,
          89,
          103,
          228,
          39,
          125,
          103,
          83,
          67,
          434,
          125,
          103,
          103,
          83,
          78,
          125,
          134,
          78,
          67,
          172,
          83,
          153,
          89,
          276,
          103,
          111,
          74,
          78,
          71,
          202,
          78,
          157,
          61,
          109,
          103,
          67,
          202,
          124,
          78,
          89,
          433,
          83,
          233,
          155,
          83,
          157,
          155,
          74,
          433,
          61,
          78,
          80,
          103,
          62,
          103,
          359,
          233,
          81,
          67,
          233,
          88,
          150,
          61,
          72,
          186,
          78,
          251,
          202,
          233,
          72,
          103,
          124,
          153,
          62,
          128,
          233,
          80,
          198,
          155,
          111,
          155,
          88,
          80,
          102,
          119,
          81,
          130,
          102,
          114,
          78,
          187,
          123,
          58,
          55,
          61,
          197,
          128,
          207
         ],
         "xaxis": "x",
         "yaxis": "y"
        },
        {
         "alignmentgroup": "True",
         "bingroup": "x",
         "hovertemplate": "City=Berlin<br>Price per night=%{x}<br>count=%{y}<extra></extra>",
         "legendgroup": "Berlin",
         "marker": {
          "color": "#EF553B",
          "pattern": {
           "shape": ""
          }
         },
         "name": "Berlin",
         "nbinsx": 100,
         "offsetgroup": "Berlin",
         "orientation": "v",
         "showlegend": true,
         "type": "histogram",
         "x": [
          53,
          77,
          75,
          214,
          117,
          205,
          99,
          190,
          80,
          149,
          92,
          195,
          200,
          89,
          189,
          129,
          131,
          198,
          164,
          228,
          180,
          114,
          99,
          139,
          91,
          300,
          90,
          121,
          213,
          61,
          68,
          140,
          108,
          80,
          121,
          123,
          266,
          138,
          194,
          122,
          90,
          97,
          128,
          132,
          134,
          97,
          237,
          130,
          158,
          95,
          94,
          139,
          149,
          68,
          200,
          89,
          194,
          138,
          88,
          70,
          150,
          76,
          203,
          108,
          87,
          121,
          72,
          125,
          139,
          99,
          115,
          65,
          61,
          95,
          122,
          100,
          92,
          102,
          181,
          150,
          70,
          84,
          78,
          89,
          110,
          249,
          100,
          97,
          97,
          115,
          80,
          76,
          71,
          147,
          91,
          79,
          119,
          222,
          150,
          110,
          112,
          81,
          520,
          220,
          132,
          130,
          114,
          145,
          80,
          159,
          316,
          160,
          110,
          120,
          97,
          135,
          124,
          114,
          200,
          230,
          88,
          62,
          154,
          69,
          62,
          143,
          88,
          154,
          230,
          99,
          69,
          63,
          44,
          110,
          191,
          129,
          277,
          160,
          129,
          192,
          134,
          84,
          200,
          80,
          206,
          170,
          141,
          77,
          87,
          70,
          77,
          81,
          150,
          140,
          249,
          139,
          81,
          100,
          89,
          112,
          211,
          89,
          115,
          88,
          213,
          249,
          174,
          137,
          110,
          65,
          89,
          150,
          119,
          84,
          95,
          90,
          90,
          70,
          118,
          110,
          120,
          71,
          140,
          86,
          104,
          264,
          55,
          265,
          65,
          245,
          92,
          141,
          231,
          170,
          99,
          104,
          284,
          140,
          238,
          170,
          245,
          141,
          121,
          120,
          231,
          137,
          65,
          105,
          55,
          86,
          97,
          120,
          82,
          141,
          106,
          120,
          115,
          95,
          155,
          65,
          129,
          149,
          55,
          71,
          141,
          240,
          104,
          232,
          104,
          150,
          120,
          86,
          72,
          82,
          110,
          78,
          130,
          100,
          149,
          77,
          80,
          249,
          125,
          90,
          120,
          225,
          92,
          68,
          174
         ],
         "xaxis": "x",
         "yaxis": "y"
        },
        {
         "alignmentgroup": "True",
         "bingroup": "x",
         "hovertemplate": "City=Paris<br>Price per night=%{x}<br>count=%{y}<extra></extra>",
         "legendgroup": "Paris",
         "marker": {
          "color": "#00cc96",
          "pattern": {
           "shape": ""
          }
         },
         "name": "Paris",
         "nbinsx": 100,
         "offsetgroup": "Paris",
         "orientation": "v",
         "showlegend": true,
         "type": "histogram",
         "x": [
          186,
          379,
          100,
          89,
          130,
          86,
          86,
          300,
          250,
          240,
          265,
          130,
          110,
          99,
          210,
          164,
          179,
          179,
          308,
          140,
          145,
          138,
          110,
          280,
          87,
          180,
          168,
          140,
          191,
          152,
          128,
          190,
          130,
          136,
          261,
          120,
          180,
          188,
          219,
          176,
          67,
          95,
          289,
          220,
          219,
          182,
          196,
          130,
          198,
          160,
          280,
          155,
          196,
          90,
          120,
          130,
          117,
          163,
          140,
          95,
          176,
          196,
          115,
          140,
          281,
          220,
          164,
          71,
          180,
          220,
          71,
          180,
          160,
          70,
          91,
          247,
          220,
          140,
          179,
          182,
          205,
          214,
          187,
          90,
          223,
          299,
          176,
          223,
          481,
          180,
          251,
          272,
          140,
          70,
          325,
          444,
          114,
          319,
          70,
          135,
          130,
          218,
          184,
          163,
          540,
          235,
          54,
          114,
          349,
          120,
          205,
          279,
          220,
          269,
          189,
          110,
          715,
          65,
          68,
          180,
          140,
          165,
          315,
          286,
          140,
          234,
          290,
          350,
          150,
          124,
          124,
          250,
          169,
          100,
          210,
          178,
          140,
          216,
          96,
          378,
          240,
          184,
          216,
          378,
          143,
          110,
          220,
          350,
          280,
          80,
          596,
          82,
          150,
          200,
          92,
          124,
          160,
          301,
          100,
          150,
          295,
          100,
          135,
          162,
          212,
          150,
          83,
          159,
          75,
          154,
          275,
          180,
          100,
          100,
          85,
          170,
          100,
          159,
          96,
          229,
          134,
          72,
          100,
          396,
          260,
          212,
          145,
          90,
          169,
          250,
          137,
          228,
          138,
          315,
          69,
          150,
          258,
          62,
          110,
          117,
          453,
          144,
          250,
          190,
          130,
          288,
          533,
          125,
          129,
          601,
          120,
          228,
          143,
          86,
          140,
          299,
          191,
          276,
          150,
          408,
          125,
          45,
          240,
          134,
          71,
          130,
          150,
          292,
          426,
          150,
          110,
          325,
          320,
          162,
          180,
          59,
          140,
          100,
          145,
          109,
          200,
          111,
          199,
          107,
          230,
          101,
          190
         ],
         "xaxis": "x",
         "yaxis": "y"
        }
       ],
       "layout": {
        "barmode": "relative",
        "legend": {
         "title": {
          "text": "City"
         },
         "tracegroupgap": 0
        },
        "template": {
         "data": {
          "bar": [
           {
            "error_x": {
             "color": "#2a3f5f"
            },
            "error_y": {
             "color": "#2a3f5f"
            },
            "marker": {
             "line": {
              "color": "#E5ECF6",
              "width": 0.5
             },
             "pattern": {
              "fillmode": "overlay",
              "size": 10,
              "solidity": 0.2
             }
            },
            "type": "bar"
           }
          ],
          "barpolar": [
           {
            "marker": {
             "line": {
              "color": "#E5ECF6",
              "width": 0.5
             },
             "pattern": {
              "fillmode": "overlay",
              "size": 10,
              "solidity": 0.2
             }
            },
            "type": "barpolar"
           }
          ],
          "carpet": [
           {
            "aaxis": {
             "endlinecolor": "#2a3f5f",
             "gridcolor": "white",
             "linecolor": "white",
             "minorgridcolor": "white",
             "startlinecolor": "#2a3f5f"
            },
            "baxis": {
             "endlinecolor": "#2a3f5f",
             "gridcolor": "white",
             "linecolor": "white",
             "minorgridcolor": "white",
             "startlinecolor": "#2a3f5f"
            },
            "type": "carpet"
           }
          ],
          "choropleth": [
           {
            "colorbar": {
             "outlinewidth": 0,
             "ticks": ""
            },
            "type": "choropleth"
           }
          ],
          "contour": [
           {
            "colorbar": {
             "outlinewidth": 0,
             "ticks": ""
            },
            "colorscale": [
             [
              0,
              "#0d0887"
             ],
             [
              0.1111111111111111,
              "#46039f"
             ],
             [
              0.2222222222222222,
              "#7201a8"
             ],
             [
              0.3333333333333333,
              "#9c179e"
             ],
             [
              0.4444444444444444,
              "#bd3786"
             ],
             [
              0.5555555555555556,
              "#d8576b"
             ],
             [
              0.6666666666666666,
              "#ed7953"
             ],
             [
              0.7777777777777778,
              "#fb9f3a"
             ],
             [
              0.8888888888888888,
              "#fdca26"
             ],
             [
              1,
              "#f0f921"
             ]
            ],
            "type": "contour"
           }
          ],
          "contourcarpet": [
           {
            "colorbar": {
             "outlinewidth": 0,
             "ticks": ""
            },
            "type": "contourcarpet"
           }
          ],
          "heatmap": [
           {
            "colorbar": {
             "outlinewidth": 0,
             "ticks": ""
            },
            "colorscale": [
             [
              0,
              "#0d0887"
             ],
             [
              0.1111111111111111,
              "#46039f"
             ],
             [
              0.2222222222222222,
              "#7201a8"
             ],
             [
              0.3333333333333333,
              "#9c179e"
             ],
             [
              0.4444444444444444,
              "#bd3786"
             ],
             [
              0.5555555555555556,
              "#d8576b"
             ],
             [
              0.6666666666666666,
              "#ed7953"
             ],
             [
              0.7777777777777778,
              "#fb9f3a"
             ],
             [
              0.8888888888888888,
              "#fdca26"
             ],
             [
              1,
              "#f0f921"
             ]
            ],
            "type": "heatmap"
           }
          ],
          "heatmapgl": [
           {
            "colorbar": {
             "outlinewidth": 0,
             "ticks": ""
            },
            "colorscale": [
             [
              0,
              "#0d0887"
             ],
             [
              0.1111111111111111,
              "#46039f"
             ],
             [
              0.2222222222222222,
              "#7201a8"
             ],
             [
              0.3333333333333333,
              "#9c179e"
             ],
             [
              0.4444444444444444,
              "#bd3786"
             ],
             [
              0.5555555555555556,
              "#d8576b"
             ],
             [
              0.6666666666666666,
              "#ed7953"
             ],
             [
              0.7777777777777778,
              "#fb9f3a"
             ],
             [
              0.8888888888888888,
              "#fdca26"
             ],
             [
              1,
              "#f0f921"
             ]
            ],
            "type": "heatmapgl"
           }
          ],
          "histogram": [
           {
            "marker": {
             "pattern": {
              "fillmode": "overlay",
              "size": 10,
              "solidity": 0.2
             }
            },
            "type": "histogram"
           }
          ],
          "histogram2d": [
           {
            "colorbar": {
             "outlinewidth": 0,
             "ticks": ""
            },
            "colorscale": [
             [
              0,
              "#0d0887"
             ],
             [
              0.1111111111111111,
              "#46039f"
             ],
             [
              0.2222222222222222,
              "#7201a8"
             ],
             [
              0.3333333333333333,
              "#9c179e"
             ],
             [
              0.4444444444444444,
              "#bd3786"
             ],
             [
              0.5555555555555556,
              "#d8576b"
             ],
             [
              0.6666666666666666,
              "#ed7953"
             ],
             [
              0.7777777777777778,
              "#fb9f3a"
             ],
             [
              0.8888888888888888,
              "#fdca26"
             ],
             [
              1,
              "#f0f921"
             ]
            ],
            "type": "histogram2d"
           }
          ],
          "histogram2dcontour": [
           {
            "colorbar": {
             "outlinewidth": 0,
             "ticks": ""
            },
            "colorscale": [
             [
              0,
              "#0d0887"
             ],
             [
              0.1111111111111111,
              "#46039f"
             ],
             [
              0.2222222222222222,
              "#7201a8"
             ],
             [
              0.3333333333333333,
              "#9c179e"
             ],
             [
              0.4444444444444444,
              "#bd3786"
             ],
             [
              0.5555555555555556,
              "#d8576b"
             ],
             [
              0.6666666666666666,
              "#ed7953"
             ],
             [
              0.7777777777777778,
              "#fb9f3a"
             ],
             [
              0.8888888888888888,
              "#fdca26"
             ],
             [
              1,
              "#f0f921"
             ]
            ],
            "type": "histogram2dcontour"
           }
          ],
          "mesh3d": [
           {
            "colorbar": {
             "outlinewidth": 0,
             "ticks": ""
            },
            "type": "mesh3d"
           }
          ],
          "parcoords": [
           {
            "line": {
             "colorbar": {
              "outlinewidth": 0,
              "ticks": ""
             }
            },
            "type": "parcoords"
           }
          ],
          "pie": [
           {
            "automargin": true,
            "type": "pie"
           }
          ],
          "scatter": [
           {
            "marker": {
             "colorbar": {
              "outlinewidth": 0,
              "ticks": ""
             }
            },
            "type": "scatter"
           }
          ],
          "scatter3d": [
           {
            "line": {
             "colorbar": {
              "outlinewidth": 0,
              "ticks": ""
             }
            },
            "marker": {
             "colorbar": {
              "outlinewidth": 0,
              "ticks": ""
             }
            },
            "type": "scatter3d"
           }
          ],
          "scattercarpet": [
           {
            "marker": {
             "colorbar": {
              "outlinewidth": 0,
              "ticks": ""
             }
            },
            "type": "scattercarpet"
           }
          ],
          "scattergeo": [
           {
            "marker": {
             "colorbar": {
              "outlinewidth": 0,
              "ticks": ""
             }
            },
            "type": "scattergeo"
           }
          ],
          "scattergl": [
           {
            "marker": {
             "colorbar": {
              "outlinewidth": 0,
              "ticks": ""
             }
            },
            "type": "scattergl"
           }
          ],
          "scattermapbox": [
           {
            "marker": {
             "colorbar": {
              "outlinewidth": 0,
              "ticks": ""
             }
            },
            "type": "scattermapbox"
           }
          ],
          "scatterpolar": [
           {
            "marker": {
             "colorbar": {
              "outlinewidth": 0,
              "ticks": ""
             }
            },
            "type": "scatterpolar"
           }
          ],
          "scatterpolargl": [
           {
            "marker": {
             "colorbar": {
              "outlinewidth": 0,
              "ticks": ""
             }
            },
            "type": "scatterpolargl"
           }
          ],
          "scatterternary": [
           {
            "marker": {
             "colorbar": {
              "outlinewidth": 0,
              "ticks": ""
             }
            },
            "type": "scatterternary"
           }
          ],
          "surface": [
           {
            "colorbar": {
             "outlinewidth": 0,
             "ticks": ""
            },
            "colorscale": [
             [
              0,
              "#0d0887"
             ],
             [
              0.1111111111111111,
              "#46039f"
             ],
             [
              0.2222222222222222,
              "#7201a8"
             ],
             [
              0.3333333333333333,
              "#9c179e"
             ],
             [
              0.4444444444444444,
              "#bd3786"
             ],
             [
              0.5555555555555556,
              "#d8576b"
             ],
             [
              0.6666666666666666,
              "#ed7953"
             ],
             [
              0.7777777777777778,
              "#fb9f3a"
             ],
             [
              0.8888888888888888,
              "#fdca26"
             ],
             [
              1,
              "#f0f921"
             ]
            ],
            "type": "surface"
           }
          ],
          "table": [
           {
            "cells": {
             "fill": {
              "color": "#EBF0F8"
             },
             "line": {
              "color": "white"
             }
            },
            "header": {
             "fill": {
              "color": "#C8D4E3"
             },
             "line": {
              "color": "white"
             }
            },
            "type": "table"
           }
          ]
         },
         "layout": {
          "annotationdefaults": {
           "arrowcolor": "#2a3f5f",
           "arrowhead": 0,
           "arrowwidth": 1
          },
          "autotypenumbers": "strict",
          "coloraxis": {
           "colorbar": {
            "outlinewidth": 0,
            "ticks": ""
           }
          },
          "colorscale": {
           "diverging": [
            [
             0,
             "#8e0152"
            ],
            [
             0.1,
             "#c51b7d"
            ],
            [
             0.2,
             "#de77ae"
            ],
            [
             0.3,
             "#f1b6da"
            ],
            [
             0.4,
             "#fde0ef"
            ],
            [
             0.5,
             "#f7f7f7"
            ],
            [
             0.6,
             "#e6f5d0"
            ],
            [
             0.7,
             "#b8e186"
            ],
            [
             0.8,
             "#7fbc41"
            ],
            [
             0.9,
             "#4d9221"
            ],
            [
             1,
             "#276419"
            ]
           ],
           "sequential": [
            [
             0,
             "#0d0887"
            ],
            [
             0.1111111111111111,
             "#46039f"
            ],
            [
             0.2222222222222222,
             "#7201a8"
            ],
            [
             0.3333333333333333,
             "#9c179e"
            ],
            [
             0.4444444444444444,
             "#bd3786"
            ],
            [
             0.5555555555555556,
             "#d8576b"
            ],
            [
             0.6666666666666666,
             "#ed7953"
            ],
            [
             0.7777777777777778,
             "#fb9f3a"
            ],
            [
             0.8888888888888888,
             "#fdca26"
            ],
            [
             1,
             "#f0f921"
            ]
           ],
           "sequentialminus": [
            [
             0,
             "#0d0887"
            ],
            [
             0.1111111111111111,
             "#46039f"
            ],
            [
             0.2222222222222222,
             "#7201a8"
            ],
            [
             0.3333333333333333,
             "#9c179e"
            ],
            [
             0.4444444444444444,
             "#bd3786"
            ],
            [
             0.5555555555555556,
             "#d8576b"
            ],
            [
             0.6666666666666666,
             "#ed7953"
            ],
            [
             0.7777777777777778,
             "#fb9f3a"
            ],
            [
             0.8888888888888888,
             "#fdca26"
            ],
            [
             1,
             "#f0f921"
            ]
           ]
          },
          "colorway": [
           "#636efa",
           "#EF553B",
           "#00cc96",
           "#ab63fa",
           "#FFA15A",
           "#19d3f3",
           "#FF6692",
           "#B6E880",
           "#FF97FF",
           "#FECB52"
          ],
          "font": {
           "color": "#2a3f5f"
          },
          "geo": {
           "bgcolor": "white",
           "lakecolor": "white",
           "landcolor": "#E5ECF6",
           "showlakes": true,
           "showland": true,
           "subunitcolor": "white"
          },
          "hoverlabel": {
           "align": "left"
          },
          "hovermode": "closest",
          "mapbox": {
           "style": "light"
          },
          "paper_bgcolor": "white",
          "plot_bgcolor": "#E5ECF6",
          "polar": {
           "angularaxis": {
            "gridcolor": "white",
            "linecolor": "white",
            "ticks": ""
           },
           "bgcolor": "#E5ECF6",
           "radialaxis": {
            "gridcolor": "white",
            "linecolor": "white",
            "ticks": ""
           }
          },
          "scene": {
           "xaxis": {
            "backgroundcolor": "#E5ECF6",
            "gridcolor": "white",
            "gridwidth": 2,
            "linecolor": "white",
            "showbackground": true,
            "ticks": "",
            "zerolinecolor": "white"
           },
           "yaxis": {
            "backgroundcolor": "#E5ECF6",
            "gridcolor": "white",
            "gridwidth": 2,
            "linecolor": "white",
            "showbackground": true,
            "ticks": "",
            "zerolinecolor": "white"
           },
           "zaxis": {
            "backgroundcolor": "#E5ECF6",
            "gridcolor": "white",
            "gridwidth": 2,
            "linecolor": "white",
            "showbackground": true,
            "ticks": "",
            "zerolinecolor": "white"
           }
          },
          "shapedefaults": {
           "line": {
            "color": "#2a3f5f"
           }
          },
          "ternary": {
           "aaxis": {
            "gridcolor": "white",
            "linecolor": "white",
            "ticks": ""
           },
           "baxis": {
            "gridcolor": "white",
            "linecolor": "white",
            "ticks": ""
           },
           "bgcolor": "#E5ECF6",
           "caxis": {
            "gridcolor": "white",
            "linecolor": "white",
            "ticks": ""
           }
          },
          "title": {
           "x": 0.05
          },
          "xaxis": {
           "automargin": true,
           "gridcolor": "white",
           "linecolor": "white",
           "ticks": "",
           "title": {
            "standoff": 15
           },
           "zerolinecolor": "white",
           "zerolinewidth": 2
          },
          "yaxis": {
           "automargin": true,
           "gridcolor": "white",
           "linecolor": "white",
           "ticks": "",
           "title": {
            "standoff": 15
           },
           "zerolinecolor": "white",
           "zerolinewidth": 2
          }
         }
        },
        "title": {
         "text": "Pricing distribution by city"
        },
        "xaxis": {
         "anchor": "y",
         "domain": [
          0,
          1
         ],
         "title": {
          "text": "Price per night"
         }
        },
        "yaxis": {
         "anchor": "x",
         "domain": [
          0,
          1
         ],
         "title": {
          "text": "count"
         }
        }
       }
      }
     },
     "metadata": {},
     "output_type": "display_data"
    }
   ],
   "source": [
    "pricing_distribution = px.histogram(\n",
    "    airbnb_data,\n",
    "    x=\"price_per_night\",\n",
    "    color=\"city\",\n",
    "    title=\"Pricing distribution by city\",\n",
    "    labels={\"price_per_night\": \"Price per night\", \"city\": \"City\"},\n",
    "    nbins=100,\n",
    ")\n",
    "\n",
    "pricing_distribution.write_html(FIG_DIR / \"pricing_distribution.html\")\n",
    "pricing_distribution.write_image(FIG_DIR / \"pricing_distribution.png\")\n",
    "\n",
    "pricing_distribution.show()"
   ]
  },
  {
   "cell_type": "code",
   "execution_count": 99,
   "metadata": {},
   "outputs": [
    {
     "data": {
      "application/vnd.plotly.v1+json": {
       "config": {
        "plotlyServerURL": "https://plot.ly"
       },
       "data": [
        {
         "alignmentgroup": "True",
         "bingroup": "x",
         "hovertemplate": "City=Bern<br>Price per night=%{x}<br>count=%{y}<extra></extra>",
         "legendgroup": "Bern",
         "marker": {
          "color": "#636efa",
          "pattern": {
           "shape": ""
          }
         },
         "name": "Bern",
         "nbinsx": 100,
         "offsetgroup": "Bern",
         "orientation": "v",
         "showlegend": true,
         "type": "histogram",
         "x": [
          43,
          473,
          36,
          125,
          36,
          113,
          71,
          62,
          68,
          42,
          53,
          55,
          76,
          83,
          43,
          97,
          78,
          98,
          124,
          98,
          100,
          88,
          60,
          49,
          133,
          127,
          70,
          111,
          133,
          100,
          55,
          62,
          83,
          80,
          109,
          83,
          130,
          73,
          109,
          83,
          52,
          102,
          140,
          117,
          52,
          103,
          129,
          107,
          46,
          98,
          141,
          61,
          124,
          62,
          124,
          78,
          102,
          290,
          77,
          99,
          93,
          62,
          54,
          103,
          42,
          194,
          60,
          88,
          94,
          95,
          139,
          103,
          124,
          101,
          188,
          379,
          98,
          145,
          166,
          250,
          194,
          56,
          42,
          162,
          114,
          103,
          127,
          169,
          124,
          66,
          121,
          99,
          88,
          127,
          259,
          129,
          161,
          118,
          78,
          168,
          81,
          88,
          206,
          74,
          176,
          168,
          129,
          169,
          169,
          78,
          108,
          98,
          103,
          52,
          85,
          82,
          168,
          69,
          116,
          181,
          185,
          71,
          179,
          145,
          250,
          189,
          169,
          440,
          114,
          93,
          186,
          88,
          92,
          68,
          122,
          117,
          62,
          171,
          54,
          155,
          101,
          92,
          114,
          78,
          67,
          202,
          78,
          101,
          128,
          434,
          69,
          145,
          78,
          67,
          67,
          89,
          103,
          228,
          39,
          125,
          103,
          83,
          67,
          434,
          125,
          103,
          103,
          83,
          78,
          125,
          134,
          78,
          67,
          172,
          83,
          153,
          89,
          276,
          103,
          111,
          74,
          78,
          71,
          202,
          78,
          157,
          61,
          109,
          103,
          67,
          202,
          124,
          78,
          89,
          433,
          83,
          233,
          155,
          83,
          157,
          155,
          74,
          433,
          61,
          78,
          80,
          103,
          62,
          103,
          359,
          233,
          81,
          67,
          233,
          88,
          150,
          61,
          72,
          186,
          78,
          251,
          202,
          233,
          72,
          103,
          124,
          153,
          62,
          128,
          233,
          80,
          198,
          155,
          111,
          155,
          88,
          80,
          102,
          119,
          81,
          130,
          102,
          114,
          78,
          187,
          123,
          58,
          55,
          61,
          197,
          128,
          207
         ],
         "xaxis": "x",
         "yaxis": "y"
        },
        {
         "alignmentgroup": "True",
         "bingroup": "x",
         "hovertemplate": "City=Berlin<br>Price per night=%{x}<br>count=%{y}<extra></extra>",
         "legendgroup": "Berlin",
         "marker": {
          "color": "#EF553B",
          "pattern": {
           "shape": ""
          }
         },
         "name": "Berlin",
         "nbinsx": 100,
         "offsetgroup": "Berlin",
         "orientation": "v",
         "showlegend": true,
         "type": "histogram",
         "x": [
          53,
          77,
          75,
          214,
          117,
          205,
          99,
          190,
          80,
          149,
          92,
          195,
          200,
          89,
          189,
          129,
          131,
          198,
          164,
          228,
          180,
          114,
          99,
          139,
          91,
          300,
          90,
          121,
          213,
          61,
          68,
          140,
          108,
          80,
          121,
          123,
          266,
          138,
          194,
          122,
          90,
          97,
          128,
          132,
          134,
          97,
          237,
          130,
          158,
          95,
          94,
          139,
          149,
          68,
          200,
          89,
          194,
          138,
          88,
          70,
          150,
          76,
          203,
          108,
          87,
          121,
          72,
          125,
          139,
          99,
          115,
          65,
          61,
          95,
          122,
          100,
          92,
          102,
          181,
          150,
          70,
          84,
          78,
          89,
          110,
          249,
          100,
          97,
          97,
          115,
          80,
          76,
          71,
          147,
          91,
          79,
          119,
          222,
          150,
          110,
          112,
          81,
          520,
          220,
          132,
          130,
          114,
          145,
          80,
          159,
          316,
          160,
          110,
          120,
          97,
          135,
          124,
          114,
          200,
          230,
          88,
          62,
          154,
          69,
          62,
          143,
          88,
          154,
          230,
          99,
          69,
          63,
          44,
          110,
          191,
          129,
          277,
          160,
          129,
          192,
          134,
          84,
          200,
          80,
          206,
          170,
          141,
          77,
          87,
          70,
          77,
          81,
          150,
          140,
          249,
          139,
          81,
          100,
          89,
          112,
          211,
          89,
          115,
          88,
          213,
          249,
          174,
          137,
          110,
          65,
          89,
          150,
          119,
          84,
          95,
          90,
          90,
          70,
          118,
          110,
          120,
          71,
          140,
          86,
          104,
          264,
          55,
          265,
          65,
          245,
          92,
          141,
          231,
          170,
          99,
          104,
          284,
          140,
          238,
          170,
          245,
          141,
          121,
          120,
          231,
          137,
          65,
          105,
          55,
          86,
          97,
          120,
          82,
          141,
          106,
          120,
          115,
          95,
          155,
          65,
          129,
          149,
          55,
          71,
          141,
          240,
          104,
          232,
          104,
          150,
          120,
          86,
          72,
          82,
          110,
          78,
          130,
          100,
          149,
          77,
          80,
          249,
          125,
          90,
          120,
          225,
          92,
          68,
          174
         ],
         "xaxis": "x",
         "yaxis": "y"
        },
        {
         "alignmentgroup": "True",
         "bingroup": "x",
         "hovertemplate": "City=Paris<br>Price per night=%{x}<br>count=%{y}<extra></extra>",
         "legendgroup": "Paris",
         "marker": {
          "color": "#00cc96",
          "pattern": {
           "shape": ""
          }
         },
         "name": "Paris",
         "nbinsx": 100,
         "offsetgroup": "Paris",
         "orientation": "v",
         "showlegend": true,
         "type": "histogram",
         "x": [
          186,
          379,
          100,
          89,
          130,
          86,
          86,
          300,
          250,
          240,
          265,
          130,
          110,
          99,
          210,
          164,
          179,
          179,
          308,
          140,
          145,
          138,
          110,
          280,
          87,
          180,
          168,
          140,
          191,
          152,
          128,
          190,
          130,
          136,
          261,
          120,
          180,
          188,
          219,
          176,
          67,
          95,
          289,
          220,
          219,
          182,
          196,
          130,
          198,
          160,
          280,
          155,
          196,
          90,
          120,
          130,
          117,
          163,
          140,
          95,
          176,
          196,
          115,
          140,
          281,
          220,
          164,
          71,
          180,
          220,
          71,
          180,
          160,
          70,
          91,
          247,
          220,
          140,
          179,
          182,
          205,
          214,
          187,
          90,
          223,
          299,
          176,
          223,
          481,
          180,
          251,
          272,
          140,
          70,
          325,
          444,
          114,
          319,
          70,
          135,
          130,
          218,
          184,
          163,
          540,
          235,
          54,
          114,
          349,
          120,
          205,
          279,
          220,
          269,
          189,
          110,
          715,
          65,
          68,
          180,
          140,
          165,
          315,
          286,
          140,
          234,
          290,
          350,
          150,
          124,
          124,
          250,
          169,
          100,
          210,
          178,
          140,
          216,
          96,
          378,
          240,
          184,
          216,
          378,
          143,
          110,
          220,
          350,
          280,
          80,
          596,
          82,
          150,
          200,
          92,
          124,
          160,
          301,
          100,
          150,
          295,
          100,
          135,
          162,
          212,
          150,
          83,
          159,
          75,
          154,
          275,
          180,
          100,
          100,
          85,
          170,
          100,
          159,
          96,
          229,
          134,
          72,
          100,
          396,
          260,
          212,
          145,
          90,
          169,
          250,
          137,
          228,
          138,
          315,
          69,
          150,
          258,
          62,
          110,
          117,
          453,
          144,
          250,
          190,
          130,
          288,
          533,
          125,
          129,
          601,
          120,
          228,
          143,
          86,
          140,
          299,
          191,
          276,
          150,
          408,
          125,
          45,
          240,
          134,
          71,
          130,
          150,
          292,
          426,
          150,
          110,
          325,
          320,
          162,
          180,
          59,
          140,
          100,
          145,
          109,
          200,
          111,
          199,
          107,
          230,
          101,
          190
         ],
         "xaxis": "x",
         "yaxis": "y"
        }
       ],
       "layout": {
        "barmode": "relative",
        "legend": {
         "title": {
          "text": "City"
         },
         "tracegroupgap": 0
        },
        "template": {
         "data": {
          "bar": [
           {
            "error_x": {
             "color": "#2a3f5f"
            },
            "error_y": {
             "color": "#2a3f5f"
            },
            "marker": {
             "line": {
              "color": "#E5ECF6",
              "width": 0.5
             },
             "pattern": {
              "fillmode": "overlay",
              "size": 10,
              "solidity": 0.2
             }
            },
            "type": "bar"
           }
          ],
          "barpolar": [
           {
            "marker": {
             "line": {
              "color": "#E5ECF6",
              "width": 0.5
             },
             "pattern": {
              "fillmode": "overlay",
              "size": 10,
              "solidity": 0.2
             }
            },
            "type": "barpolar"
           }
          ],
          "carpet": [
           {
            "aaxis": {
             "endlinecolor": "#2a3f5f",
             "gridcolor": "white",
             "linecolor": "white",
             "minorgridcolor": "white",
             "startlinecolor": "#2a3f5f"
            },
            "baxis": {
             "endlinecolor": "#2a3f5f",
             "gridcolor": "white",
             "linecolor": "white",
             "minorgridcolor": "white",
             "startlinecolor": "#2a3f5f"
            },
            "type": "carpet"
           }
          ],
          "choropleth": [
           {
            "colorbar": {
             "outlinewidth": 0,
             "ticks": ""
            },
            "type": "choropleth"
           }
          ],
          "contour": [
           {
            "colorbar": {
             "outlinewidth": 0,
             "ticks": ""
            },
            "colorscale": [
             [
              0,
              "#0d0887"
             ],
             [
              0.1111111111111111,
              "#46039f"
             ],
             [
              0.2222222222222222,
              "#7201a8"
             ],
             [
              0.3333333333333333,
              "#9c179e"
             ],
             [
              0.4444444444444444,
              "#bd3786"
             ],
             [
              0.5555555555555556,
              "#d8576b"
             ],
             [
              0.6666666666666666,
              "#ed7953"
             ],
             [
              0.7777777777777778,
              "#fb9f3a"
             ],
             [
              0.8888888888888888,
              "#fdca26"
             ],
             [
              1,
              "#f0f921"
             ]
            ],
            "type": "contour"
           }
          ],
          "contourcarpet": [
           {
            "colorbar": {
             "outlinewidth": 0,
             "ticks": ""
            },
            "type": "contourcarpet"
           }
          ],
          "heatmap": [
           {
            "colorbar": {
             "outlinewidth": 0,
             "ticks": ""
            },
            "colorscale": [
             [
              0,
              "#0d0887"
             ],
             [
              0.1111111111111111,
              "#46039f"
             ],
             [
              0.2222222222222222,
              "#7201a8"
             ],
             [
              0.3333333333333333,
              "#9c179e"
             ],
             [
              0.4444444444444444,
              "#bd3786"
             ],
             [
              0.5555555555555556,
              "#d8576b"
             ],
             [
              0.6666666666666666,
              "#ed7953"
             ],
             [
              0.7777777777777778,
              "#fb9f3a"
             ],
             [
              0.8888888888888888,
              "#fdca26"
             ],
             [
              1,
              "#f0f921"
             ]
            ],
            "type": "heatmap"
           }
          ],
          "heatmapgl": [
           {
            "colorbar": {
             "outlinewidth": 0,
             "ticks": ""
            },
            "colorscale": [
             [
              0,
              "#0d0887"
             ],
             [
              0.1111111111111111,
              "#46039f"
             ],
             [
              0.2222222222222222,
              "#7201a8"
             ],
             [
              0.3333333333333333,
              "#9c179e"
             ],
             [
              0.4444444444444444,
              "#bd3786"
             ],
             [
              0.5555555555555556,
              "#d8576b"
             ],
             [
              0.6666666666666666,
              "#ed7953"
             ],
             [
              0.7777777777777778,
              "#fb9f3a"
             ],
             [
              0.8888888888888888,
              "#fdca26"
             ],
             [
              1,
              "#f0f921"
             ]
            ],
            "type": "heatmapgl"
           }
          ],
          "histogram": [
           {
            "marker": {
             "pattern": {
              "fillmode": "overlay",
              "size": 10,
              "solidity": 0.2
             }
            },
            "type": "histogram"
           }
          ],
          "histogram2d": [
           {
            "colorbar": {
             "outlinewidth": 0,
             "ticks": ""
            },
            "colorscale": [
             [
              0,
              "#0d0887"
             ],
             [
              0.1111111111111111,
              "#46039f"
             ],
             [
              0.2222222222222222,
              "#7201a8"
             ],
             [
              0.3333333333333333,
              "#9c179e"
             ],
             [
              0.4444444444444444,
              "#bd3786"
             ],
             [
              0.5555555555555556,
              "#d8576b"
             ],
             [
              0.6666666666666666,
              "#ed7953"
             ],
             [
              0.7777777777777778,
              "#fb9f3a"
             ],
             [
              0.8888888888888888,
              "#fdca26"
             ],
             [
              1,
              "#f0f921"
             ]
            ],
            "type": "histogram2d"
           }
          ],
          "histogram2dcontour": [
           {
            "colorbar": {
             "outlinewidth": 0,
             "ticks": ""
            },
            "colorscale": [
             [
              0,
              "#0d0887"
             ],
             [
              0.1111111111111111,
              "#46039f"
             ],
             [
              0.2222222222222222,
              "#7201a8"
             ],
             [
              0.3333333333333333,
              "#9c179e"
             ],
             [
              0.4444444444444444,
              "#bd3786"
             ],
             [
              0.5555555555555556,
              "#d8576b"
             ],
             [
              0.6666666666666666,
              "#ed7953"
             ],
             [
              0.7777777777777778,
              "#fb9f3a"
             ],
             [
              0.8888888888888888,
              "#fdca26"
             ],
             [
              1,
              "#f0f921"
             ]
            ],
            "type": "histogram2dcontour"
           }
          ],
          "mesh3d": [
           {
            "colorbar": {
             "outlinewidth": 0,
             "ticks": ""
            },
            "type": "mesh3d"
           }
          ],
          "parcoords": [
           {
            "line": {
             "colorbar": {
              "outlinewidth": 0,
              "ticks": ""
             }
            },
            "type": "parcoords"
           }
          ],
          "pie": [
           {
            "automargin": true,
            "type": "pie"
           }
          ],
          "scatter": [
           {
            "marker": {
             "colorbar": {
              "outlinewidth": 0,
              "ticks": ""
             }
            },
            "type": "scatter"
           }
          ],
          "scatter3d": [
           {
            "line": {
             "colorbar": {
              "outlinewidth": 0,
              "ticks": ""
             }
            },
            "marker": {
             "colorbar": {
              "outlinewidth": 0,
              "ticks": ""
             }
            },
            "type": "scatter3d"
           }
          ],
          "scattercarpet": [
           {
            "marker": {
             "colorbar": {
              "outlinewidth": 0,
              "ticks": ""
             }
            },
            "type": "scattercarpet"
           }
          ],
          "scattergeo": [
           {
            "marker": {
             "colorbar": {
              "outlinewidth": 0,
              "ticks": ""
             }
            },
            "type": "scattergeo"
           }
          ],
          "scattergl": [
           {
            "marker": {
             "colorbar": {
              "outlinewidth": 0,
              "ticks": ""
             }
            },
            "type": "scattergl"
           }
          ],
          "scattermapbox": [
           {
            "marker": {
             "colorbar": {
              "outlinewidth": 0,
              "ticks": ""
             }
            },
            "type": "scattermapbox"
           }
          ],
          "scatterpolar": [
           {
            "marker": {
             "colorbar": {
              "outlinewidth": 0,
              "ticks": ""
             }
            },
            "type": "scatterpolar"
           }
          ],
          "scatterpolargl": [
           {
            "marker": {
             "colorbar": {
              "outlinewidth": 0,
              "ticks": ""
             }
            },
            "type": "scatterpolargl"
           }
          ],
          "scatterternary": [
           {
            "marker": {
             "colorbar": {
              "outlinewidth": 0,
              "ticks": ""
             }
            },
            "type": "scatterternary"
           }
          ],
          "surface": [
           {
            "colorbar": {
             "outlinewidth": 0,
             "ticks": ""
            },
            "colorscale": [
             [
              0,
              "#0d0887"
             ],
             [
              0.1111111111111111,
              "#46039f"
             ],
             [
              0.2222222222222222,
              "#7201a8"
             ],
             [
              0.3333333333333333,
              "#9c179e"
             ],
             [
              0.4444444444444444,
              "#bd3786"
             ],
             [
              0.5555555555555556,
              "#d8576b"
             ],
             [
              0.6666666666666666,
              "#ed7953"
             ],
             [
              0.7777777777777778,
              "#fb9f3a"
             ],
             [
              0.8888888888888888,
              "#fdca26"
             ],
             [
              1,
              "#f0f921"
             ]
            ],
            "type": "surface"
           }
          ],
          "table": [
           {
            "cells": {
             "fill": {
              "color": "#EBF0F8"
             },
             "line": {
              "color": "white"
             }
            },
            "header": {
             "fill": {
              "color": "#C8D4E3"
             },
             "line": {
              "color": "white"
             }
            },
            "type": "table"
           }
          ]
         },
         "layout": {
          "annotationdefaults": {
           "arrowcolor": "#2a3f5f",
           "arrowhead": 0,
           "arrowwidth": 1
          },
          "autotypenumbers": "strict",
          "coloraxis": {
           "colorbar": {
            "outlinewidth": 0,
            "ticks": ""
           }
          },
          "colorscale": {
           "diverging": [
            [
             0,
             "#8e0152"
            ],
            [
             0.1,
             "#c51b7d"
            ],
            [
             0.2,
             "#de77ae"
            ],
            [
             0.3,
             "#f1b6da"
            ],
            [
             0.4,
             "#fde0ef"
            ],
            [
             0.5,
             "#f7f7f7"
            ],
            [
             0.6,
             "#e6f5d0"
            ],
            [
             0.7,
             "#b8e186"
            ],
            [
             0.8,
             "#7fbc41"
            ],
            [
             0.9,
             "#4d9221"
            ],
            [
             1,
             "#276419"
            ]
           ],
           "sequential": [
            [
             0,
             "#0d0887"
            ],
            [
             0.1111111111111111,
             "#46039f"
            ],
            [
             0.2222222222222222,
             "#7201a8"
            ],
            [
             0.3333333333333333,
             "#9c179e"
            ],
            [
             0.4444444444444444,
             "#bd3786"
            ],
            [
             0.5555555555555556,
             "#d8576b"
            ],
            [
             0.6666666666666666,
             "#ed7953"
            ],
            [
             0.7777777777777778,
             "#fb9f3a"
            ],
            [
             0.8888888888888888,
             "#fdca26"
            ],
            [
             1,
             "#f0f921"
            ]
           ],
           "sequentialminus": [
            [
             0,
             "#0d0887"
            ],
            [
             0.1111111111111111,
             "#46039f"
            ],
            [
             0.2222222222222222,
             "#7201a8"
            ],
            [
             0.3333333333333333,
             "#9c179e"
            ],
            [
             0.4444444444444444,
             "#bd3786"
            ],
            [
             0.5555555555555556,
             "#d8576b"
            ],
            [
             0.6666666666666666,
             "#ed7953"
            ],
            [
             0.7777777777777778,
             "#fb9f3a"
            ],
            [
             0.8888888888888888,
             "#fdca26"
            ],
            [
             1,
             "#f0f921"
            ]
           ]
          },
          "colorway": [
           "#636efa",
           "#EF553B",
           "#00cc96",
           "#ab63fa",
           "#FFA15A",
           "#19d3f3",
           "#FF6692",
           "#B6E880",
           "#FF97FF",
           "#FECB52"
          ],
          "font": {
           "color": "#2a3f5f"
          },
          "geo": {
           "bgcolor": "white",
           "lakecolor": "white",
           "landcolor": "#E5ECF6",
           "showlakes": true,
           "showland": true,
           "subunitcolor": "white"
          },
          "hoverlabel": {
           "align": "left"
          },
          "hovermode": "closest",
          "mapbox": {
           "style": "light"
          },
          "paper_bgcolor": "white",
          "plot_bgcolor": "#E5ECF6",
          "polar": {
           "angularaxis": {
            "gridcolor": "white",
            "linecolor": "white",
            "ticks": ""
           },
           "bgcolor": "#E5ECF6",
           "radialaxis": {
            "gridcolor": "white",
            "linecolor": "white",
            "ticks": ""
           }
          },
          "scene": {
           "xaxis": {
            "backgroundcolor": "#E5ECF6",
            "gridcolor": "white",
            "gridwidth": 2,
            "linecolor": "white",
            "showbackground": true,
            "ticks": "",
            "zerolinecolor": "white"
           },
           "yaxis": {
            "backgroundcolor": "#E5ECF6",
            "gridcolor": "white",
            "gridwidth": 2,
            "linecolor": "white",
            "showbackground": true,
            "ticks": "",
            "zerolinecolor": "white"
           },
           "zaxis": {
            "backgroundcolor": "#E5ECF6",
            "gridcolor": "white",
            "gridwidth": 2,
            "linecolor": "white",
            "showbackground": true,
            "ticks": "",
            "zerolinecolor": "white"
           }
          },
          "shapedefaults": {
           "line": {
            "color": "#2a3f5f"
           }
          },
          "ternary": {
           "aaxis": {
            "gridcolor": "white",
            "linecolor": "white",
            "ticks": ""
           },
           "baxis": {
            "gridcolor": "white",
            "linecolor": "white",
            "ticks": ""
           },
           "bgcolor": "#E5ECF6",
           "caxis": {
            "gridcolor": "white",
            "linecolor": "white",
            "ticks": ""
           }
          },
          "title": {
           "x": 0.05
          },
          "xaxis": {
           "automargin": true,
           "gridcolor": "white",
           "linecolor": "white",
           "ticks": "",
           "title": {
            "standoff": 15
           },
           "zerolinecolor": "white",
           "zerolinewidth": 2
          },
          "yaxis": {
           "automargin": true,
           "gridcolor": "white",
           "linecolor": "white",
           "ticks": "",
           "title": {
            "standoff": 15
           },
           "zerolinecolor": "white",
           "zerolinewidth": 2
          }
         }
        },
        "title": {
         "text": "Pricing distribution by city (logarithmic scale)"
        },
        "xaxis": {
         "anchor": "y",
         "domain": [
          0,
          1
         ],
         "title": {
          "text": "Price per night"
         },
         "type": "log"
        },
        "yaxis": {
         "anchor": "x",
         "domain": [
          0,
          1
         ],
         "title": {
          "text": "count"
         }
        }
       }
      }
     },
     "metadata": {},
     "output_type": "display_data"
    }
   ],
   "source": [
    "pricing_distribution_log = px.histogram(\n",
    "    airbnb_data,\n",
    "    x=\"price_per_night\",\n",
    "    log_x=True,\n",
    "    color=\"city\",\n",
    "    title=\"Pricing distribution by city (logarithmic scale)\",\n",
    "    labels={\"price_per_night\": \"Price per night\", \"city\": \"City\"},\n",
    "    nbins=100,\n",
    ")\n",
    "\n",
    "pricing_distribution_log.write_html(FIG_DIR / \"pricing_distribution_log.html\")\n",
    "pricing_distribution_log.write_image(FIG_DIR / \"pricing_distribution_log.png\")\n",
    "\n",
    "pricing_distribution_log.show()"
   ]
  },
  {
   "cell_type": "code",
   "execution_count": 100,
   "metadata": {},
   "outputs": [
    {
     "data": {
      "application/vnd.plotly.v1+json": {
       "config": {
        "plotlyServerURL": "https://plot.ly"
       },
       "data": [
        {
         "alignmentgroup": "True",
         "boxpoints": "suspectedoutliers",
         "hovertemplate": "<b>%{hovertext}</b><br><br>Accomodation type=Alojamiento entero<br>City=%{x}<br>Price per night=%{y}<extra></extra>",
         "hovertext": [
          "Acogedor apartamento privado en el centro de Berna",
          "Exclusivo departamento urbano",
          "Apartamento en el casco antiguo",
          "N.º 2 apartamento acogedor y céntrico",
          "Habitación en el espejo BE, a 10 de Berna",
          "Precioso apartamento de 1 habitación con terraza y cerca de la Universidad",
          "Acogedor apartamento con patio privado en el corazón de Berna",
          "Habitación, Thörishaus Dorf, \"Kellerstudio\"",
          "cHEaRT de BErn – URBErN Pulse",
          "\"B&B alba\" en loft atmosférico y silencioso",
          "Logotipo céntrico y moderno de 1 habitación",
          "Apartamento entero en Europaplatz",
          "Apartamento de negocios moderno - Insel",
          "Vista al Emmental: habitación con baño",
          "Activo",
          "Apartamento vintage, casco antiguo, a 3 minutos a pie de la estación de Berna",
          "LentulusSkyAppartement",
          "Modern City/ Business Studio",
          "Encantador apartamento en la ciudad de Berna",
          "Apartamento espacioso y silencioso en el centro de la ciudad de Berna",
          "Nuevo apartamento renovado cerca del centro de Berna",
          "Apartamento estudio de diseño en Berna - Breitenrain",
          "Apartamento espacioso y silencioso en el centro de la ciudad de Berna",
          "Nuevo apartamento renovado cerca del centro de Berna",
          "Artista en The Green Park",
          "Attic-Apt & Roof Terrace, OldTown, a 3 minutos de la estación",
          "Diseño de ensueño",
          "Apartamento en Little Park",
          "Fantástico ático en Berna",
          "Apartamento de 1 habitación cerca del centro",
          "Estudio soleado y relajante",
          "Apartamento céntrico en Stadt Bern",
          "la mejor ubicación, moderno apartamento urbano",
          "la mejor ubicación, moderno apartamento urbano",
          "Artista en The Green Park",
          "Luminoso, moderno, con asientos en el jardín,",
          "2.5 habitaciones, ubicación superior, tranquilo, ideal para los usuarios de Apple",
          "Apartamento nuevo totalmente equipado cerca del centro de Berna",
          "Encantador estudio central en Berna",
          "Estilo vintage verde, cerca de la ciudad",
          "Apartamento en Little Park",
          "Bonito apartamento en ático loft con terraza y bañera de hidromasaje",
          "Apartamento en barrio tranquilo y verde",
          "Apartamento de 2,5 habitaciones con patio en Liebewil",
          "Apartamento nuevo a estrenar sobre los techos de Berna",
          "Elegante apartamento en el casco antiguo an der Kramgasse",
          "Apartamento dúplex en el borde del bosque",
          "Tranquilo Ático-Apto., Super céntrico",
          "Apartamento urbano en el corazón de Berna incl. piscina",
          "Acogedor apartamento estudio con patio (terraza)",
          "Apartamento entero de 2 habitaciones (planta baja) en Berna- Bümpliz",
          "Apartamento en el centro de la ciudad",
          "Apartamento en ático de 2 habitaciones Wohlensee",
          "Comfort Apt., casco antiguo, a 3 minutos de la estación de Berna.",
          "El encantador apartamento de Grandy junto al río Aare",
          "Acogedor salón 1,5: Comodidad y Silencio",
          "Apt Estudio completo Centro Berna",
          "Diseña en el antiguo edificio Breitenrain para que te sientas bien",
          "Estudio de la ciudad, casco antiguo, a 3 minutos de la estación de Berna",
          "Tranquilo y elegante apartamento con jardín a 10 minutos del centro",
          "encantador apartamento de 1 habitación en el corazón de Berna",
          "Apartamento nuevo totalmente equipado cerca del centro de Berna",
          "City Center Studio",
          "Apt Estudio completo Centro Berna",
          "Maisonette para 6 personas, ubicación súper céntrica",
          "Top Central Apart en Berna",
          "Piso dulce en el corazón de Berna",
          "Precioso apartamento en la azotea",
          "Apartamento de 2,5 habitaciones con balcón y vistas",
          "Encantador apartamento en el barrio de moda de Länggasse",
          "Apartamento de 1 dormitorio con chimenea y terraza privada",
          "Idílico apartamento de 2 habitaciones en el campo",
          "Loft con estilo en uno de los mejores barrios de Berna",
          "NEB-Thun apartment near Interlaken and Thun",
          "Apartamento de 2 habitaciones en la ciudad más bonita de Suiza",
          "Sweet Retreat con Dreamy Lakeviews",
          "Mountain Lodge *Nature *Queen Beds *Estacionamiento gratis",
          "Estudio con vistas al lago y a la montaña",
          "Estudio con vistas al lago y a la montaña",
          "Schönes Studio en Steffisburg",
          "Hermoso departamento con vista a la montaña y jacuzzi",
          "Bonito estudio con aparcamiento",
          "Cómodo apartamento en el ático en una granja",
          "Loft en el borde verde de Berna cerca del río Aare",
          "Precioso y acogedor apartamento de 2 habitaciones, céntricoy tranquilo",
          "Altbau-Bijou im Breitenrain",
          "(b) (estudio)",
          "Apartamento tranquilo con vistas excepcionales",
          "Apartamento de lujo de un dormitorio",
          "Mi alojamiento es mi castillo",
          "Armotti Friedheim 2 dormitorios y oficina en el hogar",
          "Encantador estudio en el casco antiguo",
          "Arquitectura. Pura. Lujo.",
          "Diseño de apartamentos cerca de la ciudad y la naturaleza",
          "Diseña en el antiguo edificio Breitenrain para que te sientas bien",
          "Casa de campo galardonada de nueva construcción en el lago Thun.",
          "Bonito apartamento cerca del lago",
          "Studio-Apartment \"Lakeland\"",
          "Descansa tranquilo con vistas al lago /a la montaña/aparcamiento gratuito.",
          "Hogar para los amantes",
          "¡Gran apartamento con todo lo que tu corazón desea!",
          "Pequeña casa rural romántica \"Bödeliweidli\"",
          "Estudio moderno con vistas espectaculares",
          "1, 5 Habitaciones Bijou Mittagsfluh",
          "Ático de la parte superior en Berna",
          "Apartamento con vistas bonitas",
          "Hermoso, luminoso y tranquilo apartamento cerca de Berna",
          "Chalet para amantes de la naturaleza",
          "Loft P8: Amplio con esa cosa especial",
          "En el céntrico, tranquilo, cerca de tren y autobús, cerca de la naturaleza",
          "Acogedor apartamento de 1 habitación",
          "Casa céntrica en Zollikofen",
          "2 habitaciones amuebladas en planta baja",
          "Estudio con terraza en Charmey",
          "Chalet con vistas excepcionales",
          "Lujoso apartamento con vistas al lago Panorama, aparcamiento, tranquilo",
          "Thun City Apartment",
          "Ático bien diseñado",
          "Estudio muy cómodo",
          "Apartamento",
          "Chalet en Gruyère, magníficas vistas",
          "Apartamento con luz alpina, piscina climatizada, jardín",
          "Pequeño loft lleno de luz en el campo, edificio nuevo",
          "Hübeli Lodge",
          "Estudio muy cómodo",
          "Lujoso apartamento con vistas al lago Panorama, aparcamiento, tranquilo",
          "Apartamento con luz alpina, piscina climatizada, jardín",
          "Chalet en Gruyère, magníficas vistas",
          "La petite Marie Louise",
          "Estudio Lichtena",
          "2 habitaciones amuebladas en planta baja",
          "Apartamento del casco antiguo en el corazón de Thun con jardín",
          "Apartamento en la habitación con encanto.",
          "chalet wohnspycher blockhaus (sin aire acondicionado)",
          "Hübeli Lodge",
          "Idílica casa de madera en el borde del bosque",
          "Apartamento",
          "Chalet \"ZUM SCHNÜFU\" en el Salwald",
          "Pequeño loft lleno de luz en el campo, edificio nuevo",
          "Apartamento chalet soleado en parque natural",
          "N.º 1 apartamento acogedor y céntrico",
          "Edificio antiguo departamento an der Aare",
          "Acogedora, encantadora y céntrica 3,5 habitaciones en Biel",
          "Casa-Margarita: apartamento de 2,5 habitaciones, buena vista.",
          "2 habitaciones amuebladas en planta baja",
          "Apartamento estudio con estacionamiento y jardín privado",
          "Pequeño loft lleno de luz en el campo, edificio nuevo",
          "Casa céntrica en Zollikofen",
          "En mitad de Berna",
          "Chalet con vistas a la montaña",
          "Apartamento",
          "Lakeview Gem",
          "Maravilloso lugar para relajarse cerca de la ciudad",
          "Armotti: ultra comodidad con la mejor velocidad de internet",
          "\"caroleandclaus\"Precioso apartamento en Berna-Wabern",
          "Apartamento. Acogedor con vistas al parque Chasseral",
          "Lakeview Gem",
          "Chalet con vistas a la montaña",
          "Un paraíso familiar.",
          "Pequeño loft lleno de luz en el campo, edificio nuevo",
          "Villars-sur-Glâne - estudio independiente",
          "Apartamento de 2 habitaciones con vistas a las montañas y al castillo",
          "La casa en azoteas y la casa del lago se vuelve a publicar en la cuenta de los propietarios.",
          "Casa acogedora Natur-/Stadtnah cerca de Berna",
          "Apartamento Wohn(t)raum",
          "Oasis tranquilo, apartamento de 2 dormitorios Suiza, Biel/Bienne",
          "Armotti: ultra comodidad con la mejor velocidad de internet",
          "Pequeño apartamento en Neuchâtel",
          "Cabaña moderna con vistas únicas en Gruyère",
          "Apartamento con vistas al lago en la preciosa Oberhofen",
          "Chalet con vistas a la montaña",
          "Cabaña con encanto",
          "Casa-Margarita: apartamento de 2,5 habitaciones, buena vista.",
          "Casa acogedora Natur-/Stadtnah cerca de Berna",
          "Apartamento de 2 habitaciones con vistas a las montañas y al castillo",
          "Apartamento nuevo entre Berna y Thun",
          "Idílica casa de madera en el borde del bosque",
          "Villars-sur-Glâne - estudio independiente",
          "Barock Departamento",
          "Armotti: ultra comodidad con la mejor velocidad de internet",
          "Un paraíso familiar.",
          "Lujoso,accesible,gran apartamento de 1 dormitorio, ¡vistacompleta del Eiger!",
          "\"caroleandclaus\"Precioso apartamento en Berna-Wabern",
          "Apartamento Sunside Sunside Sun Coast en Thunersee",
          "\"caroleandclaus\"Precioso apartamento en Berna-Wabern",
          "Pipin 's Studio",
          "Un paraíso familiar.",
          "Chalet Gurnigelbad - con jardín y sauna",
          "Apartamento de 2,5 habitaciones en el centro del casco antiguo de Thun.",
          "Apartamento Wohn(t)raum",
          "Gîtes du Gore Virat",
          "Vivir en un entorno histórico en Berna",
          "Te damos la bienvenida a Chalet, cerca de la ciudad de Berna",
          "Moderno y cómodo - Estudio Evasión en Gruyère",
          "SwissHut Amazing Views Alps & Lake Thun",
          "Alojamiento familiar con encanto",
          "Apartamento luminoso de 1 habitación muy acogedor —-",
          "Alojamiento en estudio fotográfico, aseo privado y ducha",
          "Acogedor apartamento de 1,5 habitaciones",
          "Casa de vacaciones independiente en el Emmental",
          "Acogedor, único y elegante junto al lago y las montañas",
          "Hermoso ático cerca del lago Müggelsee",
          "Apartamento de 74 metros cuadrados en Berlín-Charlottenburg",
          "Apartamento doble en Frankfurter Allee",
          "Suite Home Two-Bedroom Apartment",
          "Terraza en el Wintergarten – 86 m²",
          "Piso acogedor y tranquilo en Prenzlauer Berg",
          "Ático en el corazón de Berlín",
          "Hermoso, luminoso, con buenas vistas al campo",
          "Stadtflucht Penthouse 5.2.2",
          "Design-Studio Bergmannkiez",
          "Traum Apartment mit 150 m²",
          "Loft de lujo de nuevo diseño en el moderno Prenzlauer Berg",
          "Apartamento CÉNTRICO Y CÓMODO en Prenzlauer Berg cerca de Mitte",
          "Loft- Mejor ubicación, 90m2, 2 baños, 2 Balcón, tranquilo.",
          "2 encantadores apartamentos de 2 habitaciones en Berlín Mitte",
          "Exquisito 100 metros cuadrados an der Spree",
          "Apartamento de lujo de 2 dormitorios en Mitte",
          "Soleado y diseño en Berlin Mitte",
          "402 * Urban Apartment in top area *",
          "Impresionante loft de diseño en la mejor ubicación de Kreuzberg",
          "Apartamento soleado en la azotea",
          "Apartamento estudio de diseño con balcón, Berlin Mitte",
          "Apartamento tipo estudio en la casa con jardín",
          "The Spree Condo",
          "Apartamento de la ciudad en Wrangelkiez",
          "Hermoso departamento luminoso y luminoso con balcón/10’ Mitte",
          "Berlín Puro: nuevo moderno y elegante/2 habitaciones/pared/centro",
          "Creativo + renovado + Cool Bergmannkiez",
          "Stayery | Estudio moderno cerca de Boxhagener Platz",
          "NIDO DE AVES SOBRE BERLÍN",
          "numa I Suite Espaciosa en Checkpoint Charlie",
          "Apartamento tipo estudio único en el monumento",
          "Apartamento boutique en la azotea de 1237 pies cuadrados en City West",
          "Apartamento de maisonette de 4 habitaciones de Youngster de 50 metros cuadrados cerca del centro",
          "Apartamento ático con terraza en la azotea sobre Berlín",
          "Acogedor y tranquilo cine boutique en Winskiez",
          "Loft tranquilo y espacioso, estacionamiento privado disponible",
          "Bienvenido a tu hogar en Berlín",
          "Habitación tranquila en Berlín en K-Berg",
          "Apartamento luminoso y lujoso en el parque",
          "Penthouse im Graefekiez",
          "Studio nuthetal, nahe Berlin & Potsdam, Parkplatz",
          "Gran loft de 1 habitación",
          "Hermoso departamento con vista a la bahía",
          "Elegante nuevo loft II de Berlin-Wall-Apartments",
          "Precioso apartamento luminoso de 2 habitaciones en el corazón de Friedrichshain",
          "Precioso apartamento antiguo en Kreuzberg",
          "Apartamento estudio de diseño con balcón, Berlin Mitte",
          "Apartamento tranquilo y acogedor en Samarieterviertel con terraza.",
          "Stayery | Estudio moderno cerca de Boxhagener Platz",
          "El oasis escandinavo",
          "Apartamento estudio en planta baja central",
          "Loft tranquilo y espacioso, estacionamiento privado disponible",
          "Elegante apartamento en el Görli",
          "Precioso apartamento en Mitte",
          "Departamento Boutique Ruhiges",
          "794 APARTAMENTO DE LUJO DE UNA HABITACIÓN EN CENTRAL MITTE",
          "Kreuzberger Altbau mit Kachelofen",
          "Kreuzberger Perle: luminoso y cerca del agua",
          "numa I Suite Espaciosa en Checkpoint Charlie",
          "numa | Habitación moderna con registro de entrada digital",
          "Elegante oasis en el corazón de Berlín",
          "Altbau en Berlín-Wilmersdorf",
          "Apartamento de 2 habitaciones en Friedrichshain",
          "Apartamento estudio de diseño con balcón, Berlin Mitte",
          "Piso moderno en Neukölln / Kreuzberg",
          "moderno y céntrico estudio cerca de Alexanderplatz",
          "Creativo + renovado + Cool Bergmannkiez",
          "Apartamento agradable con cama con dosel y terraza",
          "Apartamento de diseño en el corazón de Mitte",
          "Apartamento espacioso/ Kudamm / City West",
          "Berlin Muellerstr. | Suite L",
          "Impresionante ático moderno en Mitte",
          "795 APARTAMENTO DE LUJO CON TERRAZA EN MITTE",
          "Acogedor apartamento tipo estudio en Friedrichshain",
          "Acogedor apartamento en Prenzlauerberg",
          "Apartamento arquitectónico en Kreuzberg",
          "Apartamento de diseño moderno",
          "Apartamento URBANO 2012 * en el centro de la ciudad",
          "Apartamento en Berlín Mitte",
          "limehome Berlin Stresemannstr | Suite",
          "limehome Berlin Stresemannstr | Suite",
          "Lujoso penthouse prémium de 3 habitaciones en Berlín Mitte",
          "habitación plana azul",
          "Bonito y gran sótanoen el canal kreuzberg",
          "Lake Side Park/Historic/BER /Ư",
          "Piso moderno con Homecinema, Netflix, 2 Min. Tranvía",
          "Acogedor apartamento tipo loft en Berlín Wilmersdorf",
          "Apartamento chic, céntrico - Ópera alemana",
          "Apartamento lujoso y con estilo en el aeropuerto DE BER",
          "Apartamento céntrico: a 5 minutos de Alexanderplatz.",
          "Apartamento de diseño en Bergmannkiez",
          "Estudio de diseño luminoso y cómodo en Neukölln",
          "Apartamento artístico en Kreuzkölln",
          "Estudio central en Berlín Friedrichshain",
          "Zliving Penthouse",
          "Enorme apartamento de 3 habitaciones en distrito para 2 personas",
          "Relájate o trabaja +sauna",
          "Piso céntrico, acogedor y luminoso en Berlín Mitte",
          "Apartamento moderno y luminoso con terraza",
          "estudio, amplio y tranquilo balcón",
          "Apartamento tranquilo y acogedor con chimenea y terraza",
          "303 * Increíble apartamento en la mejor zona",
          "Apartamento de lujo de 100 metros cuadrados en excelente ubicación cerca de Ku'Damm",
          "Berlin Friedrichshain Design Loft Apartment + Garden",
          "Apartamento anexo en el sur de Berlín",
          "Apartamento agradable en Prenzlauer Berg",
          "Apartamento con encanto en Schöneberg",
          "Apartamento con estilo en Charlottenburg",
          "Acogedor apartamento Prenzlauer Berg",
          "¡Siéntete como en tu alojamiento en cuestión de segundos!",
          "Precioso apartamento en Berlín, Friedrichshain",
          "Una joya luminosa",
          "Chat, apartamento y balcón en el centro del moderno Berlín",
          "Acogedor apartamento en Charlottenburg",
          "Chat, apartamento y balcón en el centro del moderno Berlín",
          "Apartamento Motzstraße (1000) con habitación independiente",
          "Una joya luminosa",
          "Acogedor apartamento en Charlottenburg",
          "Precioso apartamento en Berlín, Friedrichshain",
          "Paraíso urbano: casa soleada con balcón y gato",
          "Apartamento en Prenzlauer Berg III",
          "Encantador y acogedor apartamento de 1 dormitorio en Neukölln",
          "Precioso dúplex en el corazón de Berlín (Mitte)",
          "Hermoso anexo en el corazón de Falkensee",
          "Casa D'Oro beutiful maisonette Apartment",
          "Chic, Calm + Central Residence",
          "Sala de estar soleada con balcón",
          "Hermoso y gran apartamento cerca de Rosenthaler Platz",
          "Apartamento moderno de 2 habitaciones",
          "Loft (45 mts2) con terraza, Rummelsburg Bay",
          "Luminoso apartamento de 3 habitaciones en Neukölln",
          "Experimenta Berlín 2020",
          "Adorable casa de huéspedes con alberca y sauna en Pankow",
          "Apartamento privado Simon-Dach",
          "Piso único en Schillerkiez",
          "Apartamento estudio moderno",
          "Vivir en el asentamiento forestal",
          "Apartamento acogedor y tranquilo en Berlín cerca del transporte público",
          "Estudio en Prenzlauer Berg",
          "Edificio antiguo de diseño recién reformado",
          "ACOGEDOR ALOJAMIENTO",
          "The Luxury Orchid Home",
          "Soleado balcón loft en la última planta +vista Prenzlauer Berg",
          "La mejor ubicación: Precioso apartamento en Friedrichshain",
          "Apartamento recién renovado en el Castillo de Charlottenburg",
          "Tranquilo apartamento estudio cerca del Mauerpark",
          "Apartamento tranquilo en la casa sueca en medio de Berlín",
          "Apartamento de ensueño en Central Place /Privat Parking",
          "Tranquilo apartamento estudio cerca del Mauerpark",
          "Apartamento estudio elegante y moderno en Berlín-Charlottenburg",
          "Apartamento de 2 habitaciones - muy céntrico - Superview Mitte",
          "Elegante escondite en el corazón de Berlín.",
          "Amplio, mejor ubicación, 2 balcones, moderno!",
          "Con estilo en Berlín",
          "Piso urbano de Kreuzberg con balcón en el patio",
          "Los oasis urbanos junto al agua",
          "Über den Dächern von Berlin",
          "Apartamento en Berlín-Adlershof",
          "Apartamento en un edificio antiguo en Alt-Treptow",
          "Acogedor apartamento en Maisonette cerca de KuDamm",
          "En el corazón de Neuköllner Kiez ;)Real Berlin Feeling!",
          "Acogedor apartamento en Sprengelkiez - Berlín",
          "Acogedora maisonette en el centro de Berlín",
          "Departamento Boutique Ruhiges",
          "En una zona de moda con carácter",
          "Elegante apartamento de 70 m2 en el centro de Berlín (Mitte)",
          "¡Acogedor apartamento en el corazón de la zona más moderna!",
          "Bright + green *15 min to Potsdamer Platz*",
          "Apartamento ejecutivo de 110 metros cuadrados cerca de Museumsinsel",
          "Apartamento Urbanes en F-Hain",
          "apartamento acogedor en friedrichshain",
          "204 * El mejor lugar para estar en el centro de la ciudad *",
          "Acogedor ático con vistas únicas sobre la ciudad",
          "504 * El lugar para estar en la mejor zona, reformado",
          "Apartamento estudio en Berlín Mitte",
          "Maisonette, la mejor ubicación de 2 balcones de Berlín-Mitte",
          "Penthouse de lujo en el corazón de Berlín",
          "Maisonette en la planta superior del corazón de Berlín",
          "Pequeña casa a las afueras del pueblo",
          "Estudio único y tranquilo, excelente ubicación!",
          "Acogedora casa en el maravilloso distrito de Friedrichshain",
          "Apartamento ejecutivo de 110 metros cuadrados cerca de Museumsinsel",
          "Berlín puro:elegante neu2 Zi/Terrasse/Zentrum/Mauer",
          "Maisonette en la planta superior del corazón de Berlín",
          "504 * El lugar para estar en la mejor zona, reformado",
          "Apartamento de lujo en Frankfurter Allee",
          "Elegante oasis en el corazón de Berlín",
          "Estudio de artista en Berlín - Prenzlauer Berg",
          "Penthouse de lujo en el corazón de Berlín",
          "estudio luminoso en Schöneberg junto a la ciudad de Berlín",
          "Waldrand Tiergarten: céntrico, moderno, cómodo",
          "Karo: un oasis de paz en Kreuzberg",
          "TempelCasa",
          "Estudio creativo en Friedrichshain-Boxhagener Platz",
          "Maisonette, la mejor ubicación de 2 balcones de Berlín-Mitte",
          "#505 Sé mi huésped",
          "Estudio creativo en Friedrichshain-Boxhagener Platz",
          "moderno y céntrico estudio cerca de Alexanderplatz",
          "SMARTments - Vida temporal en Prenzlauer Berg",
          "UN GRAN ÁTICO",
          "Apartamento de lujo con carácter en Berlín Kreuzberg-1",
          "Departamento nuevo accesible",
          "Maisonette, la mejor ubicación de 2 balcones de Berlín-Mitte",
          "Industrial-Design Loft de 100 metros cuadrados en Friedrichshain",
          "apartamento acogedor en friedrichshain",
          "2032 * Acogedor apartamento en el corazón de Berlín",
          "Estudio único y tranquilo, excelente ubicación!",
          "Estudio de 60 metros cuadrados en el parque Gleisdreieck",
          "Cervecería renovada en un lago",
          "Apartamento acogedor autónomo",
          "viajar con un perro no es ningún problema con nosotros",
          "FU-Zentral, hermosa parte/departamento en renovado.20er Ja",
          "CASA DE CAMPO EN EL CINTURÓN DE TOCINO DE BERLÍN",
          "Fantástico apartamento en el ático",
          "Departamento de Diseño Prenzlauer Berg",
          "Hermoso ático / ático con terraza",
          "La joya de Neukölln",
          "Apartamento tranquilo de 1 habitación en el parque, a 20 minutos del centro",
          "2021 * Apartamento urbano en el centro de la ciudad",
          "Moderno apartamento de edificio antiguo en Charlottenburg",
          "Elegante y acogedora casa de huéspedes con terraza y piscina",
          "Edificio moderno con jardín vertical y 2 recamaras",
          "Departamento nuevo en Schönefeld",
          "Paraíso en madera",
          "EXCELENTE apartamento de 102 * en el centro de la ciudad",
          "Casa Nina, Suite de excepción",
          "Estudio en la calle la Boëtie",
          "Acogedor apartamento * Puertas de París * Pareja ideal",
          "2 habitaciones en París - Campos de Marte/Torre Eiffel",
          "Estudio con encanto bien situado",
          "Apartamento luminoso con vistas a los tejados",
          "¡Sol en el corazón de Le Marais!",
          "Appart Paris16 Tour Eiffel Troca",
          "La mejor vista de la torre Eiffel.",
          "Elegante art deco a pie de París 16.",
          "Amplio apartamento de 2 habitaciones con terraza",
          "Encantador estudio en un barrio animado",
          "Encanto de 2 habitaciones Montmartre",
          "Encanto y comodidad en el corazón de Batignolles",
          "Balcón | en el corazón del distrito 9",
          "Apartamento tranquilo en Montmartre - EasyHostin'",
          "Apartamento tranquilo en Montmartre - EasyHostin'",
          "Edgar Suites Bouchardon - Studio superior patio",
          "Encantador apartamento - Canal St Martin/République",
          "Apartamento tranquilo Abbesses Montmartre",
          "Increíble apartamento en Montmartre 2/4P",
          "Le Van Gogh Appart • 3'RER • 11'Paris • 23'Disney",
          "Acogedor apartamento para 2 -canal st Martin",
          "Gran apartamento acogedor a orillas del canal",
          "Un increíble 1-Br/1BA en Montmartre",
          "Lac du Panorama* cerca de París* aparcamiento privado *",
          "Impresionante apartamento de lujo moderno y reformado",
          "Escapada a la selva bajo el cielo parisino",
          "Lujoso Apartamento Jacuzzi cerca de París",
          "Apartamento T3 cerca de Montmartre",
          "Apto. 40M² Torre Eiffel - Puerta Versalles",
          "* Apartamento acogedor * Puertas de París*",
          "Acogedor apartamento cerca de Rivoli y del Museo del Louvre",
          "Hermoso apartamento con vistas a la Torre Eiffel",
          "Estudio céntrico +Wifi rápido + Desayuno + Vino",
          "Magnífico Apartamento 1BR/4P - Montorgueil 6",
          "Encantador apartamento en el corazón de París",
          "Un increíble 1-Br/1BA en Montmartre",
          "Luminoso y tranquilo, T2 equipado a 15 minutos de París",
          "Encanto urbano: 2 habitaciones Acogedor cerca de Accor Arena",
          "Luxury & Design Flat 1BR/4P- Bastille",
          "Luxueux 60m² central de Beaubourg",
          "Montmartre Duplex, Sacré-Cœur - Charming Hideaway",
          "Loft chic vintage Paris center",
          "Magnífico Apartamento 1BR/4P - Montorgueil 7",
          "Acogedor apartamento en Montmartre",
          "Suite de 3 habitaciones en París - Nation",
          "Ubicación superior - París/Disney/Montmartre",
          "Apartamento con encanto cerca de los Quais de Seine",
          "Acogedor apartamento en un callejón tranquilo",
          "Apartamento de diseño con vistas a París",
          "Superbe studio vue Tour Eiffel",
          "Encantador Père Lachaise de dos habitaciones",
          "Acogedora casa con terraza cerca del Canal Saint-Martin",
          "Apartamento de 2 habitaciones luminoso",
          "Encantador estudio Montmartre en el último piso tranquilo",
          "Un increíble 1-Br/1BA en Montmartre",
          "Magnífico Apartamento 1BR/4P - Montorgueil 7",
          "París: apartamento tranquilo y luminoso",
          "Tour moderno estudio bail mobilité con vistas a Eiffel",
          "Apartamento recién renovado entre la Ópera y el Louvre",
          "Boisseau, 1Ch/1Sdb, 2 personas",
          "Balcón | en el corazón del distrito 9",
          "Diseño de 44m ² | CDG | París | Disney | Astérix",
          "Apartamento luminoso cerca de la plaza Léon Blum",
          "Boisseau, 1Ch/1Sdb, 2 personas",
          "Diseño de 44m ² | CDG | París | Disney | Astérix",
          "Apartamento luminoso cerca de la plaza Léon Blum",
          "Apartamento elegante en París y terraza",
          "Acogedor T2 con balcón -RER B/París",
          "Loft 52m²+estacionamiento a 15 min del centro de París",
          "Apartamento 1 BR con balcón - Chatelet/ París 2",
          "Luxueux 60m² central de Beaubourg",
          "Apartamento de 2 habitaciones luminoso",
          "LE MARAIS - NUEVO APARTAMENTO DE ALTA GAMA",
          "Loft chic vintage Paris center",
          "Maison Bůoise 1BR/3P con AC en los Campos Elíseos",
          "Magnífico Apartamento 1BR/4P - Montorgueil 4",
          "Precioso apartamento en el corazón del distrito 16",
          "Hermosa vista estudio París 17",
          "El Sorprendente - París",
          "Luxury & Design Flat 1BR/4P- Bastille",
          "Un increíble 1-Br/1BA en Montmartre",
          "El Sorprendente - París",
          "Apartamento de lujo de un dormitorio cerca del Louvre II",
          "1556: Estudio Madeleine en los Juegos Olímpicos de París 2024",
          "Increíble apartamento 1BR/4P - Montorgueil - 3",
          "INCREÍBLE LOFT HISTÓRICO PARISINO JUNTO A LA ZONA DEL LOUVRE! - 4",
          "*Encantador apartamento para 2 en Trocadéro - París 16*",
          "Apartamento de 2 habitaciones «como en casa»",
          "La Maison Kleber, Luxury 1BR Eiffel Champs-Elysées",
          "Piso de estilo con aire acondicionado en Marais en el último piso",
          "CityStay Confort 5 min en metro",
          "Amplio loft reformado con aire acondicionado",
          "Piso a 10 minutos del centro de París",
          "Luminoso apartamento de Batignolles con vistas a la Torre Eiffel",
          "Acogedor apartamento en Montmartre",
          "Magnífico Apartamento 1BR/4P - Montorgueil 5",
          "Ultra Central Historical Parisian Flat - Louvre",
          "Apartamento atípico y encantador en el centro de Le Marais",
          "Apartamento romántico Montmartre & Pigalle",
          "Ambiente acogedor en el barrio superior a 15 minutos de París",
          "Acogedor apartamento con balcón cerca de Montmartre",
          "Marais - République",
          "Estudio Montmartre con balcón",
          "En el corazón de Montmartre",
          "L'Eden - Casa para 12 PERSONAS - París y Disney",
          "¡Airbnb de verdad, bienvenida a casa !",
          "Acogedor apartamento en el corazón de París Bonne Nouvelle",
          "Gran apartamento parisino a dos pasos del pantano",
          "Apartamento de arquitecto con terraza privada",
          "Apartamento parisino chic chic con vistas a la azotea",
          "Mon Boudoir a 10 min de París - 50m2",
          "Metro Line 1: Comfortable flat near La Défense",
          "Estudio Céntrico, Wifi + Desayuno + Vino",
          "Terraza floral, vista, relax asegurado",
          "Escapada romántica en Montmartre",
          "Acogedor encanto y elegancia parisina junto a Canal St. Martin",
          "Fantástico apartamento familiar a 20 minutos del centro",
          "Terraza floral, vista, relax asegurado",
          "Bohème-chic, zona Opéra-Grands Boulevards",
          "Encantador apartamento en el corazón de París",
          "Apartamento luminoso en el 10º",
          "Amplio estudio Montmartre Airco",
          "Elegante burbuja parisina enVillage Jourdain/Pyrénées",
          "Apartamento del arquitecto",
          "Arco de Triunfo ! Champs-Elysées ! Tranquilo y acogedor",
          "República, amplio y lujoso 2 habitaciones",
          "TRANQUILO PISO EN EL CORAZÓN DE PARIS",
          "Gran estudio en el centro de París, cerca del Louvre",
          "Apartment Studio de 25 m²: Le Marais, París.",
          "Apartamento de 2 habitaciones tranquilo en el jardín",
          "Fabuloso estudio en el corazón de Old Montmartre",
          "Estudio Petit - París 12",
          "Amplio y tranquilo apartamento de 2 dormitorios con aire acondicionado y patio",
          "Apartamento acogedor - Sentier",
          "2 habitaciones y balcón en casa de Pauline",
          "Fabuloso estudio en el corazón de Old Montmartre",
          "Amplio y tranquilo apartamento de 2 dormitorios con aire acondicionado y patio",
          "Piso del arquitecto en el canal",
          "Centro histórico Habitación, cocina, baño del estudiante.",
          "Saint-Germain-des-Près rue Échaudé",
          "Increíble apartamento 1BR/4P Le Marais",
          "Jardín secreto/ 75011 París",
          "Apartamento luminoso, cerca del metro, fácil acceso",
          "¡Suite de diseño con terraza privada en el centro de París!",
          "Encantador T2 a las puertas de París",
          "París: apartamento a estrenar en residencia segura",
          "Apartamento con fantásticas vistas en Pantin - Welkeys",
          "#Paris 12 Gare de Lyon Bercy Accor Arena Bastille#",
          "Apartamento acogedor y luminoso",
          "Acogedor apartamento en el corazón de París",
          "Apartamento tranquilo - Barrio Latino Mouftard",
          "Superanfitrión con encanto de 2 dormitorios en el corazón de París",
          "Excelente ubicación Paris Centre",
          "Dos habitaciones con encanto de Notre Dame",
          "Moderno, tranquilo y seguro en la ubicación correcta",
          "Magnífico Apartamento 1BR/4P - Montorgueil 2",
          "Estudio de lujo de clase alta rue Saint-Honoré",
          "Riviera Maya - Estación TGV 3 min a pie - Cerca de París",
          "Appartement Place Vendôme Paris",
          "Estudio o calma",
          "Apartamento 38 m² a Nation - 1 cama queen + 1 sofá cama",
          "Louvre - Acogedor estudio elegante - \"Emily in Paris\"",
          "Rue Vavin",
          "Loft Dúplex Luminoso con vistas + Estufa + Bañera",
          "Impresionante apartamento acogedor entre Disney y París",
          "Apartamento de 2 habitaciones en el centro de París",
          "Loft Dúplex Luminoso con vistas + Estufa + Bañera",
          "Appartement Place Vendôme Paris",
          "Otro lado",
          "Precioso loft en el corazón de París 501",
          "Jacuzzi Versailles - Sauna - C",
          "Encantador Maur Escape Apartment 3 minutos estación",
          "Suite de lujo con jardín privado Sauna y Jaccuzi",
          "Precioso apartamento con balcón, junto al Jardín de plantas.",
          "Magnífico Apartamento 1BR/4P - Montorgueil 2",
          "EL capullo soleado DEL NIDO totalmente equipado, en el centro de la ciudad",
          "Apartamento a 5 minutos de París Metro 7 Aparcamiento gratuito",
          "Vive como un parisino",
          "¡El acogedor del 15!",
          "Acogedor apartamento 4P/1BR - Le Marais",
          "Estudio entre canal st martin y buttes-chaumont",
          "Apartamento en Trocadéro",
          "Dos habitaciones 42 m² reformado con aparcamiento gratuito",
          "Oasis Marais, un jardín en París",
          "Elegante apartamento cerca de los Campos Elíseos 403",
          "Precioso y acogedor de 2 habitaciones",
          "Canal de París Saint Martin 55m2",
          "Acogedora casa con terraza cerca del Canal Saint-Martin",
          "Lavie Maison : aire acondicionado y espacioso y centro de París",
          "Hermoso apartamento - París 11",
          "Apartamento con aire acondicionado, Barrio Latino, 40m2",
          "Precioso apartamento en la Bastilla, cerca de Marais",
          "Acogedor y tranquilo departamento entre el 11/Le Marais",
          "Torre Eiffel EN TU salón",
          "Elegante apartamento en el Palacio Real de RICHELIEU",
          "Encantador 40m2 barrio Saint-Maur",
          "Loft de lujo con aire acondicionado en París",
          "Excepcional 2 hermanos con una fantástica vista a la Torre Eiffel",
          "Nid Cosy proche Arc de Triomphe",
          "Marais: un dormitorio luminoso y decorado con gusto",
          "Estudio - Eiffel - Invalides - Rue Cler",
          "Apartamento luminoso con vistas a los tejados",
          "Loft parisino moderno cerca de varias líneas de metro",
          "Luxury & Design Flat 1BR/4P- Bastille",
          "EL acogedor apartamento con aire acondicionado de PALMERAS en el centro de París",
          "Encantador apartamento cerca de Marais/Sentier",
          "75m2 dúplex luminoso&confortable /habitación grande",
          "Escapada exclusiva: alojamiento Luxe en una ubicación privilegiada A21",
          "El Sagrado Corazón de París: unas vistas perfectas",
          "Casa acogedora - Rer C & A15",
          "Sublim apart «la marquise »paris centterrace 2bh",
          "Apartamento acogedor y encantador au coeur de París",
          "Encantador apartamento a 10 minutos a pie del metro 12 París",
          "Acogedor T2 Barrio de los Campos Elíseos (avenida Hoche)",
          "¡Maravilloso apartamento Saint Germain des Prés !",
          "Amplio apartamento renovado cerca del Louvre",
          "* Louvre Saint-Eustache Opéra * París",
          "¡Maravilloso apartamento Saint Germain des Prés !",
          "Paz - Apartamento luminoso y cómodo",
          "Encantador apartamento recientemente reformado en el día 7",
          "Luminoso apartamento en el corazón de Batignolles",
          "Obelisco de la Bastilla",
          "Estudio parisino cerca de la Torre Eiffel",
          "Luminoso apartamento para 2 personas justo al lado de París",
          "Vista rara, a dos pasos del Sena.",
          "Estudio de 16 m² en el 2º arr.",
          "Apartamento elegante en Montmartre",
          "Precioso Sacré-Cœur",
          "Cálido apartamento Montmartre - EasyHostin'",
          "Aparentemente muy céntrico en el corazón de París 35 m2",
          "PRECIOSO APARTAMENTO EN MONTORGUEIL PARIS",
          "2 habitaciones (43 m²), Place d 'Italie - París 13",
          "Apartamento muy tranquilo Ópera - Pigalle",
          "Apartamento de 2 habitaciones en el Canal Saint Martin",
          "La Diva - Le Haut Marais - With AirCon!"
         ],
         "legendgroup": "Alojamiento entero",
         "marker": {
          "color": "#636efa"
         },
         "name": "Alojamiento entero",
         "notched": false,
         "offsetgroup": "Alojamiento entero",
         "orientation": "v",
         "showlegend": true,
         "type": "box",
         "x": [
          "Bern",
          "Bern",
          "Bern",
          "Bern",
          "Bern",
          "Bern",
          "Bern",
          "Bern",
          "Bern",
          "Bern",
          "Bern",
          "Bern",
          "Bern",
          "Bern",
          "Bern",
          "Bern",
          "Bern",
          "Bern",
          "Bern",
          "Bern",
          "Bern",
          "Bern",
          "Bern",
          "Bern",
          "Bern",
          "Bern",
          "Bern",
          "Bern",
          "Bern",
          "Bern",
          "Bern",
          "Bern",
          "Bern",
          "Bern",
          "Bern",
          "Bern",
          "Bern",
          "Bern",
          "Bern",
          "Bern",
          "Bern",
          "Bern",
          "Bern",
          "Bern",
          "Bern",
          "Bern",
          "Bern",
          "Bern",
          "Bern",
          "Bern",
          "Bern",
          "Bern",
          "Bern",
          "Bern",
          "Bern",
          "Bern",
          "Bern",
          "Bern",
          "Bern",
          "Bern",
          "Bern",
          "Bern",
          "Bern",
          "Bern",
          "Bern",
          "Bern",
          "Bern",
          "Bern",
          "Bern",
          "Bern",
          "Bern",
          "Bern",
          "Bern",
          "Bern",
          "Bern",
          "Bern",
          "Bern",
          "Bern",
          "Bern",
          "Bern",
          "Bern",
          "Bern",
          "Bern",
          "Bern",
          "Bern",
          "Bern",
          "Bern",
          "Bern",
          "Bern",
          "Bern",
          "Bern",
          "Bern",
          "Bern",
          "Bern",
          "Bern",
          "Bern",
          "Bern",
          "Bern",
          "Bern",
          "Bern",
          "Bern",
          "Bern",
          "Bern",
          "Bern",
          "Bern",
          "Bern",
          "Bern",
          "Bern",
          "Bern",
          "Bern",
          "Bern",
          "Bern",
          "Bern",
          "Bern",
          "Bern",
          "Bern",
          "Bern",
          "Bern",
          "Bern",
          "Bern",
          "Bern",
          "Bern",
          "Bern",
          "Bern",
          "Bern",
          "Bern",
          "Bern",
          "Bern",
          "Bern",
          "Bern",
          "Bern",
          "Bern",
          "Bern",
          "Bern",
          "Bern",
          "Bern",
          "Bern",
          "Bern",
          "Bern",
          "Bern",
          "Bern",
          "Bern",
          "Bern",
          "Bern",
          "Bern",
          "Bern",
          "Bern",
          "Bern",
          "Bern",
          "Bern",
          "Bern",
          "Bern",
          "Bern",
          "Bern",
          "Bern",
          "Bern",
          "Bern",
          "Bern",
          "Bern",
          "Bern",
          "Bern",
          "Bern",
          "Bern",
          "Bern",
          "Bern",
          "Bern",
          "Bern",
          "Bern",
          "Bern",
          "Bern",
          "Bern",
          "Bern",
          "Bern",
          "Bern",
          "Bern",
          "Bern",
          "Bern",
          "Bern",
          "Bern",
          "Bern",
          "Bern",
          "Bern",
          "Bern",
          "Bern",
          "Bern",
          "Bern",
          "Bern",
          "Bern",
          "Bern",
          "Bern",
          "Bern",
          "Bern",
          "Bern",
          "Bern",
          "Bern",
          "Bern",
          "Bern",
          "Bern",
          "Bern",
          "Bern",
          "Bern",
          "Berlin",
          "Berlin",
          "Berlin",
          "Berlin",
          "Berlin",
          "Berlin",
          "Berlin",
          "Berlin",
          "Berlin",
          "Berlin",
          "Berlin",
          "Berlin",
          "Berlin",
          "Berlin",
          "Berlin",
          "Berlin",
          "Berlin",
          "Berlin",
          "Berlin",
          "Berlin",
          "Berlin",
          "Berlin",
          "Berlin",
          "Berlin",
          "Berlin",
          "Berlin",
          "Berlin",
          "Berlin",
          "Berlin",
          "Berlin",
          "Berlin",
          "Berlin",
          "Berlin",
          "Berlin",
          "Berlin",
          "Berlin",
          "Berlin",
          "Berlin",
          "Berlin",
          "Berlin",
          "Berlin",
          "Berlin",
          "Berlin",
          "Berlin",
          "Berlin",
          "Berlin",
          "Berlin",
          "Berlin",
          "Berlin",
          "Berlin",
          "Berlin",
          "Berlin",
          "Berlin",
          "Berlin",
          "Berlin",
          "Berlin",
          "Berlin",
          "Berlin",
          "Berlin",
          "Berlin",
          "Berlin",
          "Berlin",
          "Berlin",
          "Berlin",
          "Berlin",
          "Berlin",
          "Berlin",
          "Berlin",
          "Berlin",
          "Berlin",
          "Berlin",
          "Berlin",
          "Berlin",
          "Berlin",
          "Berlin",
          "Berlin",
          "Berlin",
          "Berlin",
          "Berlin",
          "Berlin",
          "Berlin",
          "Berlin",
          "Berlin",
          "Berlin",
          "Berlin",
          "Berlin",
          "Berlin",
          "Berlin",
          "Berlin",
          "Berlin",
          "Berlin",
          "Berlin",
          "Berlin",
          "Berlin",
          "Berlin",
          "Berlin",
          "Berlin",
          "Berlin",
          "Berlin",
          "Berlin",
          "Berlin",
          "Berlin",
          "Berlin",
          "Berlin",
          "Berlin",
          "Berlin",
          "Berlin",
          "Berlin",
          "Berlin",
          "Berlin",
          "Berlin",
          "Berlin",
          "Berlin",
          "Berlin",
          "Berlin",
          "Berlin",
          "Berlin",
          "Berlin",
          "Berlin",
          "Berlin",
          "Berlin",
          "Berlin",
          "Berlin",
          "Berlin",
          "Berlin",
          "Berlin",
          "Berlin",
          "Berlin",
          "Berlin",
          "Berlin",
          "Berlin",
          "Berlin",
          "Berlin",
          "Berlin",
          "Berlin",
          "Berlin",
          "Berlin",
          "Berlin",
          "Berlin",
          "Berlin",
          "Berlin",
          "Berlin",
          "Berlin",
          "Berlin",
          "Berlin",
          "Berlin",
          "Berlin",
          "Berlin",
          "Berlin",
          "Berlin",
          "Berlin",
          "Berlin",
          "Berlin",
          "Berlin",
          "Berlin",
          "Berlin",
          "Berlin",
          "Berlin",
          "Berlin",
          "Berlin",
          "Berlin",
          "Berlin",
          "Berlin",
          "Berlin",
          "Berlin",
          "Berlin",
          "Berlin",
          "Berlin",
          "Berlin",
          "Berlin",
          "Berlin",
          "Berlin",
          "Berlin",
          "Berlin",
          "Berlin",
          "Berlin",
          "Berlin",
          "Berlin",
          "Berlin",
          "Berlin",
          "Berlin",
          "Berlin",
          "Berlin",
          "Berlin",
          "Berlin",
          "Berlin",
          "Berlin",
          "Berlin",
          "Berlin",
          "Berlin",
          "Berlin",
          "Berlin",
          "Berlin",
          "Berlin",
          "Berlin",
          "Berlin",
          "Berlin",
          "Berlin",
          "Berlin",
          "Berlin",
          "Berlin",
          "Berlin",
          "Berlin",
          "Berlin",
          "Berlin",
          "Berlin",
          "Berlin",
          "Berlin",
          "Berlin",
          "Berlin",
          "Berlin",
          "Berlin",
          "Berlin",
          "Berlin",
          "Berlin",
          "Berlin",
          "Berlin",
          "Berlin",
          "Berlin",
          "Berlin",
          "Berlin",
          "Berlin",
          "Berlin",
          "Berlin",
          "Berlin",
          "Berlin",
          "Paris",
          "Paris",
          "Paris",
          "Paris",
          "Paris",
          "Paris",
          "Paris",
          "Paris",
          "Paris",
          "Paris",
          "Paris",
          "Paris",
          "Paris",
          "Paris",
          "Paris",
          "Paris",
          "Paris",
          "Paris",
          "Paris",
          "Paris",
          "Paris",
          "Paris",
          "Paris",
          "Paris",
          "Paris",
          "Paris",
          "Paris",
          "Paris",
          "Paris",
          "Paris",
          "Paris",
          "Paris",
          "Paris",
          "Paris",
          "Paris",
          "Paris",
          "Paris",
          "Paris",
          "Paris",
          "Paris",
          "Paris",
          "Paris",
          "Paris",
          "Paris",
          "Paris",
          "Paris",
          "Paris",
          "Paris",
          "Paris",
          "Paris",
          "Paris",
          "Paris",
          "Paris",
          "Paris",
          "Paris",
          "Paris",
          "Paris",
          "Paris",
          "Paris",
          "Paris",
          "Paris",
          "Paris",
          "Paris",
          "Paris",
          "Paris",
          "Paris",
          "Paris",
          "Paris",
          "Paris",
          "Paris",
          "Paris",
          "Paris",
          "Paris",
          "Paris",
          "Paris",
          "Paris",
          "Paris",
          "Paris",
          "Paris",
          "Paris",
          "Paris",
          "Paris",
          "Paris",
          "Paris",
          "Paris",
          "Paris",
          "Paris",
          "Paris",
          "Paris",
          "Paris",
          "Paris",
          "Paris",
          "Paris",
          "Paris",
          "Paris",
          "Paris",
          "Paris",
          "Paris",
          "Paris",
          "Paris",
          "Paris",
          "Paris",
          "Paris",
          "Paris",
          "Paris",
          "Paris",
          "Paris",
          "Paris",
          "Paris",
          "Paris",
          "Paris",
          "Paris",
          "Paris",
          "Paris",
          "Paris",
          "Paris",
          "Paris",
          "Paris",
          "Paris",
          "Paris",
          "Paris",
          "Paris",
          "Paris",
          "Paris",
          "Paris",
          "Paris",
          "Paris",
          "Paris",
          "Paris",
          "Paris",
          "Paris",
          "Paris",
          "Paris",
          "Paris",
          "Paris",
          "Paris",
          "Paris",
          "Paris",
          "Paris",
          "Paris",
          "Paris",
          "Paris",
          "Paris",
          "Paris",
          "Paris",
          "Paris",
          "Paris",
          "Paris",
          "Paris",
          "Paris",
          "Paris",
          "Paris",
          "Paris",
          "Paris",
          "Paris",
          "Paris",
          "Paris",
          "Paris",
          "Paris",
          "Paris",
          "Paris",
          "Paris",
          "Paris",
          "Paris",
          "Paris",
          "Paris",
          "Paris",
          "Paris",
          "Paris",
          "Paris",
          "Paris",
          "Paris",
          "Paris",
          "Paris",
          "Paris",
          "Paris",
          "Paris",
          "Paris",
          "Paris",
          "Paris",
          "Paris",
          "Paris",
          "Paris",
          "Paris",
          "Paris",
          "Paris",
          "Paris",
          "Paris",
          "Paris",
          "Paris",
          "Paris",
          "Paris",
          "Paris",
          "Paris",
          "Paris",
          "Paris",
          "Paris",
          "Paris",
          "Paris",
          "Paris",
          "Paris",
          "Paris",
          "Paris",
          "Paris",
          "Paris",
          "Paris",
          "Paris",
          "Paris",
          "Paris",
          "Paris",
          "Paris",
          "Paris",
          "Paris",
          "Paris",
          "Paris",
          "Paris",
          "Paris",
          "Paris",
          "Paris",
          "Paris",
          "Paris",
          "Paris",
          "Paris",
          "Paris",
          "Paris",
          "Paris",
          "Paris",
          "Paris",
          "Paris",
          "Paris",
          "Paris",
          "Paris",
          "Paris",
          "Paris",
          "Paris",
          "Paris",
          "Paris"
         ],
         "x0": " ",
         "xaxis": "x",
         "y": [
          43,
          473,
          125,
          71,
          62,
          76,
          83,
          43,
          97,
          98,
          124,
          98,
          100,
          49,
          133,
          111,
          133,
          100,
          83,
          109,
          83,
          130,
          109,
          83,
          102,
          140,
          117,
          103,
          129,
          107,
          98,
          141,
          124,
          124,
          102,
          290,
          77,
          99,
          93,
          54,
          103,
          194,
          94,
          95,
          139,
          124,
          101,
          188,
          379,
          98,
          145,
          194,
          56,
          162,
          114,
          103,
          127,
          169,
          124,
          66,
          121,
          99,
          88,
          127,
          259,
          129,
          161,
          118,
          78,
          168,
          81,
          88,
          206,
          74,
          176,
          168,
          129,
          169,
          169,
          78,
          108,
          98,
          103,
          85,
          82,
          168,
          69,
          181,
          185,
          71,
          179,
          145,
          250,
          189,
          169,
          440,
          114,
          93,
          186,
          88,
          92,
          122,
          117,
          62,
          171,
          54,
          101,
          92,
          114,
          78,
          67,
          202,
          78,
          101,
          128,
          434,
          145,
          78,
          67,
          89,
          103,
          125,
          103,
          83,
          67,
          434,
          125,
          103,
          103,
          83,
          78,
          125,
          78,
          172,
          83,
          153,
          89,
          276,
          103,
          111,
          74,
          78,
          71,
          202,
          78,
          109,
          103,
          202,
          124,
          78,
          89,
          433,
          83,
          233,
          155,
          83,
          433,
          78,
          80,
          103,
          62,
          103,
          359,
          233,
          81,
          67,
          233,
          88,
          150,
          186,
          78,
          251,
          202,
          233,
          103,
          124,
          153,
          62,
          128,
          233,
          80,
          198,
          155,
          111,
          155,
          88,
          80,
          102,
          119,
          81,
          130,
          102,
          114,
          78,
          187,
          123,
          58,
          55,
          61,
          128,
          207,
          53,
          77,
          75,
          214,
          205,
          99,
          190,
          80,
          149,
          92,
          195,
          200,
          89,
          189,
          129,
          131,
          198,
          164,
          228,
          180,
          114,
          139,
          91,
          300,
          90,
          121,
          213,
          61,
          68,
          140,
          108,
          80,
          121,
          123,
          266,
          138,
          194,
          122,
          90,
          97,
          128,
          132,
          134,
          130,
          158,
          95,
          94,
          139,
          149,
          68,
          200,
          89,
          194,
          138,
          88,
          70,
          150,
          76,
          203,
          108,
          87,
          121,
          72,
          125,
          139,
          99,
          115,
          61,
          95,
          122,
          92,
          102,
          181,
          150,
          70,
          84,
          78,
          89,
          249,
          100,
          97,
          97,
          115,
          80,
          76,
          71,
          147,
          91,
          79,
          119,
          222,
          150,
          110,
          112,
          81,
          520,
          220,
          132,
          130,
          114,
          145,
          80,
          159,
          316,
          160,
          110,
          120,
          135,
          124,
          114,
          200,
          230,
          88,
          62,
          154,
          62,
          143,
          88,
          154,
          230,
          99,
          63,
          110,
          191,
          129,
          277,
          160,
          129,
          192,
          134,
          84,
          200,
          80,
          206,
          170,
          141,
          87,
          70,
          77,
          81,
          150,
          140,
          249,
          139,
          81,
          100,
          89,
          112,
          211,
          89,
          115,
          88,
          213,
          249,
          174,
          137,
          110,
          65,
          89,
          150,
          119,
          95,
          90,
          90,
          70,
          118,
          110,
          120,
          71,
          140,
          86,
          104,
          264,
          265,
          245,
          92,
          141,
          231,
          170,
          99,
          104,
          284,
          140,
          238,
          170,
          245,
          141,
          121,
          120,
          231,
          137,
          105,
          86,
          97,
          120,
          141,
          106,
          120,
          115,
          95,
          155,
          129,
          149,
          141,
          240,
          104,
          232,
          104,
          150,
          120,
          86,
          72,
          110,
          78,
          130,
          100,
          149,
          77,
          80,
          249,
          125,
          90,
          225,
          92,
          68,
          174,
          379,
          100,
          89,
          130,
          86,
          86,
          300,
          250,
          240,
          265,
          130,
          110,
          99,
          210,
          164,
          179,
          179,
          308,
          140,
          145,
          138,
          110,
          87,
          180,
          168,
          140,
          191,
          152,
          128,
          190,
          130,
          136,
          261,
          120,
          180,
          188,
          219,
          176,
          67,
          95,
          289,
          220,
          219,
          182,
          196,
          130,
          198,
          160,
          280,
          155,
          196,
          90,
          120,
          117,
          140,
          95,
          176,
          196,
          115,
          140,
          281,
          220,
          164,
          71,
          180,
          220,
          71,
          180,
          160,
          70,
          91,
          247,
          220,
          140,
          179,
          182,
          205,
          214,
          187,
          90,
          223,
          299,
          176,
          223,
          481,
          180,
          251,
          272,
          140,
          70,
          325,
          444,
          114,
          319,
          70,
          135,
          130,
          218,
          184,
          540,
          235,
          54,
          114,
          349,
          120,
          205,
          279,
          220,
          269,
          189,
          110,
          715,
          65,
          68,
          180,
          140,
          165,
          315,
          286,
          140,
          234,
          290,
          350,
          150,
          124,
          124,
          250,
          169,
          100,
          210,
          178,
          140,
          216,
          96,
          378,
          240,
          184,
          216,
          378,
          143,
          110,
          220,
          350,
          280,
          80,
          596,
          82,
          200,
          92,
          124,
          160,
          301,
          150,
          295,
          100,
          135,
          162,
          212,
          150,
          83,
          159,
          75,
          154,
          275,
          180,
          100,
          85,
          170,
          100,
          159,
          96,
          229,
          134,
          72,
          396,
          260,
          212,
          145,
          90,
          250,
          137,
          228,
          138,
          315,
          69,
          150,
          258,
          62,
          110,
          117,
          453,
          144,
          250,
          190,
          130,
          288,
          533,
          125,
          129,
          601,
          120,
          228,
          143,
          86,
          140,
          299,
          191,
          276,
          150,
          408,
          125,
          45,
          240,
          134,
          71,
          130,
          150,
          292,
          426,
          150,
          110,
          325,
          320,
          162,
          180,
          59,
          140,
          100,
          145,
          109,
          200,
          111,
          199,
          107,
          230,
          101,
          190
         ],
         "y0": " ",
         "yaxis": "y"
        },
        {
         "alignmentgroup": "True",
         "boxpoints": "suspectedoutliers",
         "hovertemplate": "<b>%{hovertext}</b><br><br>Accomodation type=Habitación<br>City=%{x}<br>Price per night=%{y}<extra></extra>",
         "hovertext": [
          "Sala de estar en Berna",
          "Habitación en Freimettigen",
          "Ice Attic-Apt, casco antiguo, a 3 minutos de la estación de tren",
          "Habitación soleada, súper central, estación de Berna a 5 minutos a pie",
          "Como si estuvieras en casa",
          "Habitación ático con vistas increíbles",
          "Hermosa habitación en el casco antiguo de Berna",
          "Cómoda Habitación cerca del centro de Berna",
          "Habitación en el centro de Berna",
          "¡Pequeño pero bonito! ¡Bonito y completo!",
          "Apartamento azul, casco antiguo, a 3 minutos de la estación de tren de Berna.",
          "Habitación tranquila, super céntrica, a 5 minutos de la estación de tren",
          "Encantadora habitación individual tranquila",
          "Cama en un barrio agradable y tranquilo.",
          "Habitaciones con baño y acceso privado",
          "Amplia habitación soleada, casco antiguo, a 3 minutos de la estación de Berna",
          "Acogedor dormitorio privado a 4 minutos del centro de la ciudad",
          "Habitación preciosa cerca de la ciudad de Berna",
          "Cama en dormitorio en el Hostal 77 Berna",
          "habitación cerca del centro",
          "Habitación tranquila con balcón cerca de la estación principal.",
          "Estudio de 1 habitación con cocina",
          "Cama en un barrio agradable y tranquilo.",
          "Como si estuvieras en casa",
          "¡Pequeño pero bonito! ¡Bonito y completo!",
          "Habitación en el centro de Berna",
          "Estancia NONO, ubicación privilegiada",
          "Apartamento rojo, casco antiguo, a 3 minutos de la estación de tren",
          "Orange Apt., casco antiguo, a 3 minutos de la estación de tren de Berna.",
          "Como si estuvieras en casa",
          "Granja",
          "2 habitaciones privadas en una gran casa de los años 20",
          "Acogedora habitación de maisonette cerca del centro de la ciudad",
          "Habitación muy cómoda",
          "1-2 habitaciones, 4 km de Berna en el área recreativa",
          "Lugar mágico de Beatenberg y sala morada",
          "Cama «bir hübelihäx» - Desayuno en Wunsch",
          "1-2 habitaciones, 4 km de Berna en el área recreativa",
          "Habitación tranquila en el centro de Berna",
          "1-2 habitaciones, 4 km de Berna en el área recreativa",
          "Oasis de bienestar entre la capital y la naturaleza",
          "Habitación tranquila en el centro de Berna",
          "Habitación tranquila en el centro de Berna",
          "Habitación en un bonito apartamento de un edificio antiguo",
          "Lugar mágico de Beatenberg y habitación para huéspedes compartida",
          "Nena Apartments Metropolpark \"Studio\"",
          "Loft enorme Berlin-Mitte con baño propio y aire acondicionado",
          "Enorme Loft Berlin-Mitte con baño privado y aire acondicionado",
          "¡Habitación en casa flotante en el centro!",
          "(estudio)",
          "Nena Apartments Moritzplatz \"estudio\"",
          "Amplia habitación en su propio piso + con su propio baño",
          "Habitación: Tranquilo, soleado y con vistas al agua",
          "Habitación: Tranquilo, soleado y con vistas al agua",
          "Típico berlinés",
          "Habitación tranquila en un apartamento queer Friendly",
          "Habitación privada en lujo. Apartamento limpio de 330 m² + sauna.",
          "Hermosa habitación junto al canal (Gräfekiez)",
          "Acogedora habitación con baño adjunto cerca de Mauerpark",
          "Acogedora habitación con baño adjunto cerca de Mauerpark",
          "Hermosa habitación junto al canal (Gräfekiez)",
          "Mucho espacio, dentro del anillo",
          "Acogedora habitación con baño adjunto cerca de Mauerpark",
          "Hermosa habitación junto al canal (Gräfekiez)",
          "Precioso loft, balcón y baño propio",
          "Mucho espacio, dentro del anillo",
          "Sueño para parejas: habitación en el corazón de Kreuzberg",
          "Habitación de huéspedes balneoterapia Limeil-Brévannes",
          "Ático Sky cerca de la torre Eiffel",
          "Cerca de la Torre Eiffel, metro y comercios.",
          "En el muelle, frente al Louvre, muy limpio, buen wifi",
          "En el muelle, frente al Louvre, muy limpio, buen wifi",
          "Suite entera Eiffel Premier",
          "París 12: habitación independiente con patio florido",
          "Amplio estudio en la agradable zona de Gambetta",
          "Amplio estudio en la agradable zona de Gambetta",
          "Escapada parisina"
         ],
         "legendgroup": "Habitación",
         "marker": {
          "color": "#EF553B"
         },
         "name": "Habitación",
         "notched": false,
         "offsetgroup": "Habitación",
         "orientation": "v",
         "showlegend": true,
         "type": "box",
         "x": [
          "Bern",
          "Bern",
          "Bern",
          "Bern",
          "Bern",
          "Bern",
          "Bern",
          "Bern",
          "Bern",
          "Bern",
          "Bern",
          "Bern",
          "Bern",
          "Bern",
          "Bern",
          "Bern",
          "Bern",
          "Bern",
          "Bern",
          "Bern",
          "Bern",
          "Bern",
          "Bern",
          "Bern",
          "Bern",
          "Bern",
          "Bern",
          "Bern",
          "Bern",
          "Bern",
          "Bern",
          "Bern",
          "Bern",
          "Bern",
          "Bern",
          "Bern",
          "Bern",
          "Bern",
          "Bern",
          "Bern",
          "Bern",
          "Bern",
          "Bern",
          "Bern",
          "Bern",
          "Berlin",
          "Berlin",
          "Berlin",
          "Berlin",
          "Berlin",
          "Berlin",
          "Berlin",
          "Berlin",
          "Berlin",
          "Berlin",
          "Berlin",
          "Berlin",
          "Berlin",
          "Berlin",
          "Berlin",
          "Berlin",
          "Berlin",
          "Berlin",
          "Berlin",
          "Berlin",
          "Berlin",
          "Berlin",
          "Paris",
          "Paris",
          "Paris",
          "Paris",
          "Paris",
          "Paris",
          "Paris",
          "Paris",
          "Paris",
          "Paris"
         ],
         "x0": " ",
         "xaxis": "x",
         "y": [
          36,
          36,
          113,
          68,
          42,
          53,
          55,
          78,
          88,
          60,
          127,
          70,
          55,
          62,
          80,
          73,
          52,
          52,
          46,
          61,
          62,
          78,
          62,
          42,
          60,
          88,
          103,
          166,
          250,
          42,
          52,
          116,
          68,
          69,
          67,
          228,
          39,
          67,
          61,
          67,
          74,
          61,
          61,
          72,
          197,
          117,
          99,
          97,
          65,
          100,
          110,
          97,
          69,
          69,
          44,
          77,
          84,
          55,
          65,
          65,
          55,
          82,
          65,
          55,
          71,
          82,
          120,
          186,
          280,
          130,
          163,
          163,
          150,
          100,
          100,
          100,
          169
         ],
         "y0": " ",
         "yaxis": "y"
        },
        {
         "alignmentgroup": "True",
         "boxpoints": "suspectedoutliers",
         "hovertemplate": "<b>%{hovertext}</b><br><br>Accomodation type=otro<br>City=%{x}<br>Price per night=%{y}<extra></extra>",
         "hovertext": [
          "Vacaciones en la finca con una vista única.",
          "Stöckli apto para familias con ollas calientes/alpacas",
          "Tiny de l'Aigle (La Tiny de l' Aigle)",
          "Tiny de l'Aigle (La Tiny de l' Aigle)",
          "Hay lugares, en nuestra tierra, que tienen alma",
          "Estancia en pleno campo en una granja renovada",
          "Fantástica casa flotante en la ciudad de Berlín"
         ],
         "legendgroup": "otro",
         "marker": {
          "color": "#00cc96"
         },
         "name": "otro",
         "notched": false,
         "offsetgroup": "otro",
         "orientation": "v",
         "showlegend": true,
         "type": "box",
         "x": [
          "Bern",
          "Bern",
          "Bern",
          "Bern",
          "Bern",
          "Bern",
          "Berlin"
         ],
         "x0": " ",
         "xaxis": "x",
         "y": [
          155,
          134,
          157,
          157,
          155,
          72,
          237
         ],
         "y0": " ",
         "yaxis": "y"
        }
       ],
       "layout": {
        "boxmode": "group",
        "legend": {
         "title": {
          "text": "Accomodation type"
         },
         "tracegroupgap": 0
        },
        "template": {
         "data": {
          "bar": [
           {
            "error_x": {
             "color": "#2a3f5f"
            },
            "error_y": {
             "color": "#2a3f5f"
            },
            "marker": {
             "line": {
              "color": "#E5ECF6",
              "width": 0.5
             },
             "pattern": {
              "fillmode": "overlay",
              "size": 10,
              "solidity": 0.2
             }
            },
            "type": "bar"
           }
          ],
          "barpolar": [
           {
            "marker": {
             "line": {
              "color": "#E5ECF6",
              "width": 0.5
             },
             "pattern": {
              "fillmode": "overlay",
              "size": 10,
              "solidity": 0.2
             }
            },
            "type": "barpolar"
           }
          ],
          "carpet": [
           {
            "aaxis": {
             "endlinecolor": "#2a3f5f",
             "gridcolor": "white",
             "linecolor": "white",
             "minorgridcolor": "white",
             "startlinecolor": "#2a3f5f"
            },
            "baxis": {
             "endlinecolor": "#2a3f5f",
             "gridcolor": "white",
             "linecolor": "white",
             "minorgridcolor": "white",
             "startlinecolor": "#2a3f5f"
            },
            "type": "carpet"
           }
          ],
          "choropleth": [
           {
            "colorbar": {
             "outlinewidth": 0,
             "ticks": ""
            },
            "type": "choropleth"
           }
          ],
          "contour": [
           {
            "colorbar": {
             "outlinewidth": 0,
             "ticks": ""
            },
            "colorscale": [
             [
              0,
              "#0d0887"
             ],
             [
              0.1111111111111111,
              "#46039f"
             ],
             [
              0.2222222222222222,
              "#7201a8"
             ],
             [
              0.3333333333333333,
              "#9c179e"
             ],
             [
              0.4444444444444444,
              "#bd3786"
             ],
             [
              0.5555555555555556,
              "#d8576b"
             ],
             [
              0.6666666666666666,
              "#ed7953"
             ],
             [
              0.7777777777777778,
              "#fb9f3a"
             ],
             [
              0.8888888888888888,
              "#fdca26"
             ],
             [
              1,
              "#f0f921"
             ]
            ],
            "type": "contour"
           }
          ],
          "contourcarpet": [
           {
            "colorbar": {
             "outlinewidth": 0,
             "ticks": ""
            },
            "type": "contourcarpet"
           }
          ],
          "heatmap": [
           {
            "colorbar": {
             "outlinewidth": 0,
             "ticks": ""
            },
            "colorscale": [
             [
              0,
              "#0d0887"
             ],
             [
              0.1111111111111111,
              "#46039f"
             ],
             [
              0.2222222222222222,
              "#7201a8"
             ],
             [
              0.3333333333333333,
              "#9c179e"
             ],
             [
              0.4444444444444444,
              "#bd3786"
             ],
             [
              0.5555555555555556,
              "#d8576b"
             ],
             [
              0.6666666666666666,
              "#ed7953"
             ],
             [
              0.7777777777777778,
              "#fb9f3a"
             ],
             [
              0.8888888888888888,
              "#fdca26"
             ],
             [
              1,
              "#f0f921"
             ]
            ],
            "type": "heatmap"
           }
          ],
          "heatmapgl": [
           {
            "colorbar": {
             "outlinewidth": 0,
             "ticks": ""
            },
            "colorscale": [
             [
              0,
              "#0d0887"
             ],
             [
              0.1111111111111111,
              "#46039f"
             ],
             [
              0.2222222222222222,
              "#7201a8"
             ],
             [
              0.3333333333333333,
              "#9c179e"
             ],
             [
              0.4444444444444444,
              "#bd3786"
             ],
             [
              0.5555555555555556,
              "#d8576b"
             ],
             [
              0.6666666666666666,
              "#ed7953"
             ],
             [
              0.7777777777777778,
              "#fb9f3a"
             ],
             [
              0.8888888888888888,
              "#fdca26"
             ],
             [
              1,
              "#f0f921"
             ]
            ],
            "type": "heatmapgl"
           }
          ],
          "histogram": [
           {
            "marker": {
             "pattern": {
              "fillmode": "overlay",
              "size": 10,
              "solidity": 0.2
             }
            },
            "type": "histogram"
           }
          ],
          "histogram2d": [
           {
            "colorbar": {
             "outlinewidth": 0,
             "ticks": ""
            },
            "colorscale": [
             [
              0,
              "#0d0887"
             ],
             [
              0.1111111111111111,
              "#46039f"
             ],
             [
              0.2222222222222222,
              "#7201a8"
             ],
             [
              0.3333333333333333,
              "#9c179e"
             ],
             [
              0.4444444444444444,
              "#bd3786"
             ],
             [
              0.5555555555555556,
              "#d8576b"
             ],
             [
              0.6666666666666666,
              "#ed7953"
             ],
             [
              0.7777777777777778,
              "#fb9f3a"
             ],
             [
              0.8888888888888888,
              "#fdca26"
             ],
             [
              1,
              "#f0f921"
             ]
            ],
            "type": "histogram2d"
           }
          ],
          "histogram2dcontour": [
           {
            "colorbar": {
             "outlinewidth": 0,
             "ticks": ""
            },
            "colorscale": [
             [
              0,
              "#0d0887"
             ],
             [
              0.1111111111111111,
              "#46039f"
             ],
             [
              0.2222222222222222,
              "#7201a8"
             ],
             [
              0.3333333333333333,
              "#9c179e"
             ],
             [
              0.4444444444444444,
              "#bd3786"
             ],
             [
              0.5555555555555556,
              "#d8576b"
             ],
             [
              0.6666666666666666,
              "#ed7953"
             ],
             [
              0.7777777777777778,
              "#fb9f3a"
             ],
             [
              0.8888888888888888,
              "#fdca26"
             ],
             [
              1,
              "#f0f921"
             ]
            ],
            "type": "histogram2dcontour"
           }
          ],
          "mesh3d": [
           {
            "colorbar": {
             "outlinewidth": 0,
             "ticks": ""
            },
            "type": "mesh3d"
           }
          ],
          "parcoords": [
           {
            "line": {
             "colorbar": {
              "outlinewidth": 0,
              "ticks": ""
             }
            },
            "type": "parcoords"
           }
          ],
          "pie": [
           {
            "automargin": true,
            "type": "pie"
           }
          ],
          "scatter": [
           {
            "marker": {
             "colorbar": {
              "outlinewidth": 0,
              "ticks": ""
             }
            },
            "type": "scatter"
           }
          ],
          "scatter3d": [
           {
            "line": {
             "colorbar": {
              "outlinewidth": 0,
              "ticks": ""
             }
            },
            "marker": {
             "colorbar": {
              "outlinewidth": 0,
              "ticks": ""
             }
            },
            "type": "scatter3d"
           }
          ],
          "scattercarpet": [
           {
            "marker": {
             "colorbar": {
              "outlinewidth": 0,
              "ticks": ""
             }
            },
            "type": "scattercarpet"
           }
          ],
          "scattergeo": [
           {
            "marker": {
             "colorbar": {
              "outlinewidth": 0,
              "ticks": ""
             }
            },
            "type": "scattergeo"
           }
          ],
          "scattergl": [
           {
            "marker": {
             "colorbar": {
              "outlinewidth": 0,
              "ticks": ""
             }
            },
            "type": "scattergl"
           }
          ],
          "scattermapbox": [
           {
            "marker": {
             "colorbar": {
              "outlinewidth": 0,
              "ticks": ""
             }
            },
            "type": "scattermapbox"
           }
          ],
          "scatterpolar": [
           {
            "marker": {
             "colorbar": {
              "outlinewidth": 0,
              "ticks": ""
             }
            },
            "type": "scatterpolar"
           }
          ],
          "scatterpolargl": [
           {
            "marker": {
             "colorbar": {
              "outlinewidth": 0,
              "ticks": ""
             }
            },
            "type": "scatterpolargl"
           }
          ],
          "scatterternary": [
           {
            "marker": {
             "colorbar": {
              "outlinewidth": 0,
              "ticks": ""
             }
            },
            "type": "scatterternary"
           }
          ],
          "surface": [
           {
            "colorbar": {
             "outlinewidth": 0,
             "ticks": ""
            },
            "colorscale": [
             [
              0,
              "#0d0887"
             ],
             [
              0.1111111111111111,
              "#46039f"
             ],
             [
              0.2222222222222222,
              "#7201a8"
             ],
             [
              0.3333333333333333,
              "#9c179e"
             ],
             [
              0.4444444444444444,
              "#bd3786"
             ],
             [
              0.5555555555555556,
              "#d8576b"
             ],
             [
              0.6666666666666666,
              "#ed7953"
             ],
             [
              0.7777777777777778,
              "#fb9f3a"
             ],
             [
              0.8888888888888888,
              "#fdca26"
             ],
             [
              1,
              "#f0f921"
             ]
            ],
            "type": "surface"
           }
          ],
          "table": [
           {
            "cells": {
             "fill": {
              "color": "#EBF0F8"
             },
             "line": {
              "color": "white"
             }
            },
            "header": {
             "fill": {
              "color": "#C8D4E3"
             },
             "line": {
              "color": "white"
             }
            },
            "type": "table"
           }
          ]
         },
         "layout": {
          "annotationdefaults": {
           "arrowcolor": "#2a3f5f",
           "arrowhead": 0,
           "arrowwidth": 1
          },
          "autotypenumbers": "strict",
          "coloraxis": {
           "colorbar": {
            "outlinewidth": 0,
            "ticks": ""
           }
          },
          "colorscale": {
           "diverging": [
            [
             0,
             "#8e0152"
            ],
            [
             0.1,
             "#c51b7d"
            ],
            [
             0.2,
             "#de77ae"
            ],
            [
             0.3,
             "#f1b6da"
            ],
            [
             0.4,
             "#fde0ef"
            ],
            [
             0.5,
             "#f7f7f7"
            ],
            [
             0.6,
             "#e6f5d0"
            ],
            [
             0.7,
             "#b8e186"
            ],
            [
             0.8,
             "#7fbc41"
            ],
            [
             0.9,
             "#4d9221"
            ],
            [
             1,
             "#276419"
            ]
           ],
           "sequential": [
            [
             0,
             "#0d0887"
            ],
            [
             0.1111111111111111,
             "#46039f"
            ],
            [
             0.2222222222222222,
             "#7201a8"
            ],
            [
             0.3333333333333333,
             "#9c179e"
            ],
            [
             0.4444444444444444,
             "#bd3786"
            ],
            [
             0.5555555555555556,
             "#d8576b"
            ],
            [
             0.6666666666666666,
             "#ed7953"
            ],
            [
             0.7777777777777778,
             "#fb9f3a"
            ],
            [
             0.8888888888888888,
             "#fdca26"
            ],
            [
             1,
             "#f0f921"
            ]
           ],
           "sequentialminus": [
            [
             0,
             "#0d0887"
            ],
            [
             0.1111111111111111,
             "#46039f"
            ],
            [
             0.2222222222222222,
             "#7201a8"
            ],
            [
             0.3333333333333333,
             "#9c179e"
            ],
            [
             0.4444444444444444,
             "#bd3786"
            ],
            [
             0.5555555555555556,
             "#d8576b"
            ],
            [
             0.6666666666666666,
             "#ed7953"
            ],
            [
             0.7777777777777778,
             "#fb9f3a"
            ],
            [
             0.8888888888888888,
             "#fdca26"
            ],
            [
             1,
             "#f0f921"
            ]
           ]
          },
          "colorway": [
           "#636efa",
           "#EF553B",
           "#00cc96",
           "#ab63fa",
           "#FFA15A",
           "#19d3f3",
           "#FF6692",
           "#B6E880",
           "#FF97FF",
           "#FECB52"
          ],
          "font": {
           "color": "#2a3f5f"
          },
          "geo": {
           "bgcolor": "white",
           "lakecolor": "white",
           "landcolor": "#E5ECF6",
           "showlakes": true,
           "showland": true,
           "subunitcolor": "white"
          },
          "hoverlabel": {
           "align": "left"
          },
          "hovermode": "closest",
          "mapbox": {
           "style": "light"
          },
          "paper_bgcolor": "white",
          "plot_bgcolor": "#E5ECF6",
          "polar": {
           "angularaxis": {
            "gridcolor": "white",
            "linecolor": "white",
            "ticks": ""
           },
           "bgcolor": "#E5ECF6",
           "radialaxis": {
            "gridcolor": "white",
            "linecolor": "white",
            "ticks": ""
           }
          },
          "scene": {
           "xaxis": {
            "backgroundcolor": "#E5ECF6",
            "gridcolor": "white",
            "gridwidth": 2,
            "linecolor": "white",
            "showbackground": true,
            "ticks": "",
            "zerolinecolor": "white"
           },
           "yaxis": {
            "backgroundcolor": "#E5ECF6",
            "gridcolor": "white",
            "gridwidth": 2,
            "linecolor": "white",
            "showbackground": true,
            "ticks": "",
            "zerolinecolor": "white"
           },
           "zaxis": {
            "backgroundcolor": "#E5ECF6",
            "gridcolor": "white",
            "gridwidth": 2,
            "linecolor": "white",
            "showbackground": true,
            "ticks": "",
            "zerolinecolor": "white"
           }
          },
          "shapedefaults": {
           "line": {
            "color": "#2a3f5f"
           }
          },
          "ternary": {
           "aaxis": {
            "gridcolor": "white",
            "linecolor": "white",
            "ticks": ""
           },
           "baxis": {
            "gridcolor": "white",
            "linecolor": "white",
            "ticks": ""
           },
           "bgcolor": "#E5ECF6",
           "caxis": {
            "gridcolor": "white",
            "linecolor": "white",
            "ticks": ""
           }
          },
          "title": {
           "x": 0.05
          },
          "xaxis": {
           "automargin": true,
           "gridcolor": "white",
           "linecolor": "white",
           "ticks": "",
           "title": {
            "standoff": 15
           },
           "zerolinecolor": "white",
           "zerolinewidth": 2
          },
          "yaxis": {
           "automargin": true,
           "gridcolor": "white",
           "linecolor": "white",
           "ticks": "",
           "title": {
            "standoff": 15
           },
           "zerolinecolor": "white",
           "zerolinewidth": 2
          }
         }
        },
        "title": {
         "text": "Price boxplot by city and accomodation type"
        },
        "xaxis": {
         "anchor": "y",
         "domain": [
          0,
          1
         ],
         "title": {
          "text": "City"
         }
        },
        "yaxis": {
         "anchor": "x",
         "domain": [
          0,
          1
         ],
         "title": {
          "text": "Price per night"
         }
        }
       }
      }
     },
     "metadata": {},
     "output_type": "display_data"
    }
   ],
   "source": [
    "price_boxplot = px.box(\n",
    "    data_frame=airbnb_data,\n",
    "    x=\"city\",\n",
    "    y=\"price_per_night\",\n",
    "    color=\"category\",\n",
    "    points=\"suspectedoutliers\",\n",
    "    hover_name=\"name\",\n",
    "    title=\"Price boxplot by city and accomodation type\",\n",
    "    labels={\n",
    "        \"price_per_night\": \"Price per night\",\n",
    "        \"city\": \"City\",\n",
    "        \"category\": \"Accomodation type\",\n",
    "    },\n",
    ")\n",
    "\n",
    "price_boxplot.write_html(FIG_DIR / \"price_boxplot.html\")\n",
    "price_boxplot.write_image(FIG_DIR / \"price_boxplot.png\")\n",
    "\n",
    "price_boxplot.show()"
   ]
  },
  {
   "cell_type": "code",
   "execution_count": 101,
   "metadata": {},
   "outputs": [
    {
     "data": {
      "application/vnd.plotly.v1+json": {
       "config": {
        "plotlyServerURL": "https://plot.ly"
       },
       "data": [
        {
         "customdata": [
          [
           "Bern",
           4.68,
           "Alojamiento entero"
          ],
          [
           "Bern",
           0,
           "Alojamiento entero"
          ],
          [
           "Bern",
           5,
           "Habitación"
          ],
          [
           "Bern",
           4.84,
           "Alojamiento entero"
          ],
          [
           "Bern",
           0,
           "Habitación"
          ],
          [
           "Bern",
           4.84,
           "Habitación"
          ],
          [
           "Bern",
           4.87,
           "Alojamiento entero"
          ],
          [
           "Bern",
           5,
           "Alojamiento entero"
          ],
          [
           "Bern",
           4.93,
           "Habitación"
          ],
          [
           "Bern",
           0,
           "Habitación"
          ],
          [
           "Bern",
           4.94,
           "Habitación"
          ],
          [
           "Bern",
           4.82,
           "Habitación"
          ],
          [
           "Bern",
           4.86,
           "Alojamiento entero"
          ],
          [
           "Bern",
           4.91,
           "Alojamiento entero"
          ],
          [
           "Bern",
           5,
           "Alojamiento entero"
          ],
          [
           "Bern",
           0,
           "Alojamiento entero"
          ],
          [
           "Bern",
           5,
           "Habitación"
          ],
          [
           "Bern",
           4.99,
           "Alojamiento entero"
          ],
          [
           "Bern",
           4.93,
           "Alojamiento entero"
          ],
          [
           "Bern",
           4.95,
           "Alojamiento entero"
          ],
          [
           "Bern",
           4.92,
           "Alojamiento entero"
          ],
          [
           "Bern",
           4.93,
           "Habitación"
          ],
          [
           "Bern",
           4.82,
           "Habitación"
          ],
          [
           "Bern",
           4.89,
           "Alojamiento entero"
          ],
          [
           "Bern",
           5,
           "Alojamiento entero"
          ],
          [
           "Bern",
           4.81,
           "Habitación"
          ],
          [
           "Bern",
           4.86,
           "Habitación"
          ],
          [
           "Bern",
           4.76,
           "Alojamiento entero"
          ],
          [
           "Bern",
           5,
           "Alojamiento entero"
          ],
          [
           "Bern",
           4.81,
           "Alojamiento entero"
          ],
          [
           "Bern",
           0,
           "Habitación"
          ],
          [
           "Bern",
           4.97,
           "Habitación"
          ],
          [
           "Bern",
           4.64,
           "Alojamiento entero"
          ],
          [
           "Bern",
           4.81,
           "Habitación"
          ],
          [
           "Bern",
           0,
           "Alojamiento entero"
          ],
          [
           "Bern",
           4.7,
           "Alojamiento entero"
          ],
          [
           "Bern",
           4.93,
           "Alojamiento entero"
          ],
          [
           "Bern",
           4.72,
           "Habitación"
          ],
          [
           "Bern",
           0,
           "Alojamiento entero"
          ],
          [
           "Bern",
           4.7,
           "Alojamiento entero"
          ],
          [
           "Bern",
           4.72,
           "Habitación"
          ],
          [
           "Bern",
           4.68,
           "Alojamiento entero"
          ],
          [
           "Bern",
           4.75,
           "Alojamiento entero"
          ],
          [
           "Bern",
           4.81,
           "Alojamiento entero"
          ],
          [
           "Bern",
           4.57,
           "Habitación"
          ],
          [
           "Bern",
           4.73,
           "Alojamiento entero"
          ],
          [
           "Bern",
           4.82,
           "Alojamiento entero"
          ],
          [
           "Bern",
           0,
           "Alojamiento entero"
          ],
          [
           "Bern",
           4.83,
           "Habitación"
          ],
          [
           "Bern",
           4.9,
           "Alojamiento entero"
          ],
          [
           "Bern",
           4.86,
           "Alojamiento entero"
          ],
          [
           "Bern",
           4.94,
           "Habitación"
          ],
          [
           "Bern",
           0,
           "Alojamiento entero"
          ],
          [
           "Bern",
           4.79,
           "Habitación"
          ],
          [
           "Bern",
           0,
           "Alojamiento entero"
          ],
          [
           "Bern",
           4.96,
           "Habitación"
          ],
          [
           "Bern",
           4.68,
           "Alojamiento entero"
          ],
          [
           "Bern",
           4.98,
           "Alojamiento entero"
          ],
          [
           "Bern",
           5,
           "Alojamiento entero"
          ],
          [
           "Bern",
           4.81,
           "Alojamiento entero"
          ],
          [
           "Bern",
           5,
           "Alojamiento entero"
          ],
          [
           "Bern",
           4.97,
           "Habitación"
          ],
          [
           "Bern",
           4.96,
           "Alojamiento entero"
          ],
          [
           "Bern",
           4.73,
           "Alojamiento entero"
          ],
          [
           "Bern",
           0,
           "Habitación"
          ],
          [
           "Bern",
           4.75,
           "Alojamiento entero"
          ],
          [
           "Bern",
           4.82,
           "Habitación"
          ],
          [
           "Bern",
           4.93,
           "Habitación"
          ],
          [
           "Bern",
           4.91,
           "Alojamiento entero"
          ],
          [
           "Bern",
           4.9,
           "Alojamiento entero"
          ],
          [
           "Bern",
           4.94,
           "Alojamiento entero"
          ],
          [
           "Bern",
           4.94,
           "Habitación"
          ],
          [
           "Bern",
           5,
           "Alojamiento entero"
          ],
          [
           "Bern",
           4.97,
           "Alojamiento entero"
          ],
          [
           "Bern",
           4.91,
           "Alojamiento entero"
          ],
          [
           "Bern",
           4.98,
           "Alojamiento entero"
          ],
          [
           "Bern",
           4.95,
           "Alojamiento entero"
          ],
          [
           "Bern",
           4.95,
           "Alojamiento entero"
          ],
          [
           "Bern",
           4.88,
           "Habitación"
          ],
          [
           "Bern",
           4.82,
           "Habitación"
          ],
          [
           "Bern",
           5,
           "Alojamiento entero"
          ],
          [
           "Bern",
           4.88,
           "Alojamiento entero"
          ],
          [
           "Bern",
           0,
           "Habitación"
          ],
          [
           "Bern",
           4.8,
           "Alojamiento entero"
          ],
          [
           "Bern",
           4.8,
           "Alojamiento entero"
          ],
          [
           "Bern",
           4.8,
           "Alojamiento entero"
          ],
          [
           "Bern",
           4.67,
           "Alojamiento entero"
          ],
          [
           "Bern",
           4.94,
           "Alojamiento entero"
          ],
          [
           "Bern",
           4.7,
           "Alojamiento entero"
          ],
          [
           "Bern",
           4.75,
           "Alojamiento entero"
          ],
          [
           "Bern",
           4.72,
           "Alojamiento entero"
          ],
          [
           "Bern",
           4.81,
           "Alojamiento entero"
          ],
          [
           "Bern",
           5,
           "Alojamiento entero"
          ],
          [
           "Bern",
           4.67,
           "Alojamiento entero"
          ],
          [
           "Bern",
           4.58,
           "Alojamiento entero"
          ],
          [
           "Bern",
           4.71,
           "Alojamiento entero"
          ],
          [
           "Bern",
           4.82,
           "Alojamiento entero"
          ],
          [
           "Bern",
           4.6,
           "Alojamiento entero"
          ],
          [
           "Bern",
           4.82,
           "Alojamiento entero"
          ],
          [
           "Bern",
           5,
           "Alojamiento entero"
          ],
          [
           "Bern",
           5,
           "Alojamiento entero"
          ],
          [
           "Bern",
           5,
           "Alojamiento entero"
          ],
          [
           "Bern",
           5,
           "Alojamiento entero"
          ],
          [
           "Bern",
           0,
           "Alojamiento entero"
          ],
          [
           "Bern",
           0,
           "Alojamiento entero"
          ],
          [
           "Bern",
           5,
           "Alojamiento entero"
          ],
          [
           "Bern",
           5,
           "Alojamiento entero"
          ],
          [
           "Bern",
           5,
           "Alojamiento entero"
          ],
          [
           "Bern",
           5,
           "Alojamiento entero"
          ],
          [
           "Bern",
           4.99,
           "Alojamiento entero"
          ],
          [
           "Bern",
           4.99,
           "Alojamiento entero"
          ],
          [
           "Bern",
           4.98,
           "Alojamiento entero"
          ],
          [
           "Bern",
           5,
           "Alojamiento entero"
          ],
          [
           "Bern",
           4.82,
           "Habitación"
          ],
          [
           "Bern",
           4.87,
           "Alojamiento entero"
          ],
          [
           "Bern",
           4.98,
           "Alojamiento entero"
          ],
          [
           "Bern",
           0,
           "Alojamiento entero"
          ],
          [
           "Bern",
           4.99,
           "Alojamiento entero"
          ],
          [
           "Bern",
           4.97,
           "Habitación"
          ],
          [
           "Bern",
           4.95,
           "Alojamiento entero"
          ],
          [
           "Bern",
           0,
           "Alojamiento entero"
          ],
          [
           "Bern",
           5,
           "Alojamiento entero"
          ],
          [
           "Bern",
           4.8,
           "Alojamiento entero"
          ],
          [
           "Bern",
           5,
           "Alojamiento entero"
          ],
          [
           "Bern",
           5,
           "Alojamiento entero"
          ],
          [
           "Bern",
           4.94,
           "Alojamiento entero"
          ],
          [
           "Bern",
           4.94,
           "Alojamiento entero"
          ],
          [
           "Bern",
           4.98,
           "Alojamiento entero"
          ],
          [
           "Bern",
           5,
           "Alojamiento entero"
          ],
          [
           "Bern",
           4.99,
           "Alojamiento entero"
          ],
          [
           "Bern",
           5,
           "Alojamiento entero"
          ],
          [
           "Bern",
           5,
           "Alojamiento entero"
          ],
          [
           "Bern",
           4.94,
           "Alojamiento entero"
          ],
          [
           "Bern",
           0,
           "Habitación"
          ],
          [
           "Bern",
           5,
           "Alojamiento entero"
          ],
          [
           "Bern",
           5,
           "Alojamiento entero"
          ],
          [
           "Bern",
           4.98,
           "Alojamiento entero"
          ],
          [
           "Bern",
           4.97,
           "Alojamiento entero"
          ],
          [
           "Bern",
           4.98,
           "Alojamiento entero"
          ],
          [
           "Bern",
           4.95,
           "otro"
          ],
          [
           "Bern",
           4.93,
           "Alojamiento entero"
          ],
          [
           "Bern",
           4.99,
           "Alojamiento entero"
          ],
          [
           "Bern",
           4.92,
           "Alojamiento entero"
          ],
          [
           "Bern",
           4.98,
           "Alojamiento entero"
          ],
          [
           "Bern",
           4.98,
           "Alojamiento entero"
          ],
          [
           "Bern",
           5,
           "Alojamiento entero"
          ],
          [
           "Bern",
           5,
           "Alojamiento entero"
          ],
          [
           "Bern",
           4.98,
           "Alojamiento entero"
          ],
          [
           "Bern",
           4.96,
           "Alojamiento entero"
          ],
          [
           "Bern",
           5,
           "Alojamiento entero"
          ],
          [
           "Bern",
           5,
           "Habitación"
          ],
          [
           "Bern",
           4.93,
           "Alojamiento entero"
          ],
          [
           "Bern",
           4.94,
           "Alojamiento entero"
          ],
          [
           "Bern",
           4.98,
           "Habitación"
          ],
          [
           "Bern",
           4.88,
           "Alojamiento entero"
          ],
          [
           "Bern",
           5,
           "Alojamiento entero"
          ],
          [
           "Bern",
           4.98,
           "Alojamiento entero"
          ],
          [
           "Bern",
           4.88,
           "Habitación"
          ],
          [
           "Bern",
           5,
           "Habitación"
          ],
          [
           "Bern",
           4.98,
           "Alojamiento entero"
          ],
          [
           "Bern",
           5,
           "Alojamiento entero"
          ],
          [
           "Bern",
           5,
           "Alojamiento entero"
          ],
          [
           "Bern",
           4.88,
           "Alojamiento entero"
          ],
          [
           "Bern",
           5,
           "Alojamiento entero"
          ],
          [
           "Bern",
           4.98,
           "Alojamiento entero"
          ],
          [
           "Bern",
           4.98,
           "Alojamiento entero"
          ],
          [
           "Bern",
           5,
           "Alojamiento entero"
          ],
          [
           "Bern",
           4.84,
           "Alojamiento entero"
          ],
          [
           "Bern",
           5,
           "Alojamiento entero"
          ],
          [
           "Bern",
           5,
           "Alojamiento entero"
          ],
          [
           "Bern",
           5,
           "otro"
          ],
          [
           "Bern",
           4.96,
           "Alojamiento entero"
          ],
          [
           "Bern",
           4.98,
           "Habitación"
          ],
          [
           "Bern",
           4.82,
           "Alojamiento entero"
          ],
          [
           "Bern",
           5,
           "Alojamiento entero"
          ],
          [
           "Bern",
           5,
           "Alojamiento entero"
          ],
          [
           "Bern",
           5,
           "Alojamiento entero"
          ],
          [
           "Bern",
           5,
           "Alojamiento entero"
          ],
          [
           "Bern",
           5,
           "Alojamiento entero"
          ],
          [
           "Bern",
           5,
           "Alojamiento entero"
          ],
          [
           "Bern",
           4.8,
           "Alojamiento entero"
          ],
          [
           "Bern",
           0,
           "Alojamiento entero"
          ],
          [
           "Bern",
           4.88,
           "Alojamiento entero"
          ],
          [
           "Bern",
           4.98,
           "Alojamiento entero"
          ],
          [
           "Bern",
           5,
           "Alojamiento entero"
          ],
          [
           "Bern",
           5,
           "otro"
          ],
          [
           "Bern",
           4.97,
           "Habitación"
          ],
          [
           "Bern",
           4.85,
           "Alojamiento entero"
          ],
          [
           "Bern",
           5,
           "Alojamiento entero"
          ],
          [
           "Bern",
           4.98,
           "Habitación"
          ],
          [
           "Bern",
           5,
           "Alojamiento entero"
          ],
          [
           "Bern",
           0,
           "Alojamiento entero"
          ],
          [
           "Bern",
           4.98,
           "Alojamiento entero"
          ],
          [
           "Bern",
           5,
           "Alojamiento entero"
          ],
          [
           "Bern",
           4.91,
           "Alojamiento entero"
          ],
          [
           "Bern",
           4.83,
           "Alojamiento entero"
          ],
          [
           "Bern",
           4.96,
           "Alojamiento entero"
          ],
          [
           "Bern",
           5,
           "Alojamiento entero"
          ],
          [
           "Bern",
           4.99,
           "Alojamiento entero"
          ],
          [
           "Bern",
           5,
           "otro"
          ],
          [
           "Bern",
           4.98,
           "otro"
          ],
          [
           "Bern",
           4.85,
           "Habitación"
          ],
          [
           "Bern",
           4.91,
           "Alojamiento entero"
          ],
          [
           "Bern",
           4.97,
           "Habitación"
          ],
          [
           "Bern",
           4.98,
           "Alojamiento entero"
          ],
          [
           "Bern",
           4.95,
           "Alojamiento entero"
          ],
          [
           "Bern",
           5,
           "Alojamiento entero"
          ],
          [
           "Bern",
           4.99,
           "Alojamiento entero"
          ],
          [
           "Bern",
           4.97,
           "Alojamiento entero"
          ],
          [
           "Bern",
           4.98,
           "Alojamiento entero"
          ],
          [
           "Bern",
           4.75,
           "Alojamiento entero"
          ],
          [
           "Bern",
           0,
           "Alojamiento entero"
          ],
          [
           "Bern",
           4.94,
           "Alojamiento entero"
          ],
          [
           "Bern",
           4.96,
           "Alojamiento entero"
          ],
          [
           "Bern",
           0,
           "Alojamiento entero"
          ],
          [
           "Bern",
           4.98,
           "Alojamiento entero"
          ],
          [
           "Bern",
           4.97,
           "Habitación"
          ],
          [
           "Bern",
           0,
           "Habitación"
          ],
          [
           "Bern",
           4.89,
           "Alojamiento entero"
          ],
          [
           "Bern",
           4.98,
           "Alojamiento entero"
          ],
          [
           "Bern",
           4.86,
           "Alojamiento entero"
          ],
          [
           "Bern",
           4.98,
           "Alojamiento entero"
          ],
          [
           "Bern",
           4.75,
           "Alojamiento entero"
          ],
          [
           "Bern",
           5,
           "otro"
          ],
          [
           "Bern",
           4.97,
           "Alojamiento entero"
          ],
          [
           "Bern",
           0,
           "Alojamiento entero"
          ],
          [
           "Bern",
           5,
           "Alojamiento entero"
          ],
          [
           "Bern",
           4.99,
           "Alojamiento entero"
          ],
          [
           "Bern",
           4.74,
           "Alojamiento entero"
          ],
          [
           "Bern",
           4.96,
           "Alojamiento entero"
          ],
          [
           "Bern",
           4.95,
           "Alojamiento entero"
          ],
          [
           "Bern",
           4.94,
           "Alojamiento entero"
          ],
          [
           "Bern",
           5,
           "Alojamiento entero"
          ],
          [
           "Bern",
           4.96,
           "Alojamiento entero"
          ],
          [
           "Bern",
           5,
           "Alojamiento entero"
          ],
          [
           "Bern",
           4.82,
           "Alojamiento entero"
          ],
          [
           "Bern",
           4.95,
           "Alojamiento entero"
          ],
          [
           "Bern",
           4.91,
           "Alojamiento entero"
          ],
          [
           "Bern",
           4.97,
           "Alojamiento entero"
          ],
          [
           "Bern",
           0,
           "Alojamiento entero"
          ],
          [
           "Bern",
           4.97,
           "Alojamiento entero"
          ],
          [
           "Bern",
           4.78,
           "Alojamiento entero"
          ],
          [
           "Bern",
           4.97,
           "Alojamiento entero"
          ],
          [
           "Bern",
           4.89,
           "Alojamiento entero"
          ],
          [
           "Bern",
           4.96,
           "Alojamiento entero"
          ],
          [
           "Bern",
           0,
           "Alojamiento entero"
          ],
          [
           "Bern",
           4.4,
           "Alojamiento entero"
          ],
          [
           "Bern",
           4.86,
           "Alojamiento entero"
          ],
          [
           "Bern",
           4.9,
           "Alojamiento entero"
          ],
          [
           "Bern",
           4.83,
           "Habitación"
          ],
          [
           "Bern",
           5,
           "Alojamiento entero"
          ],
          [
           "Bern",
           4.99,
           "Alojamiento entero"
          ]
         ],
         "hovertemplate": "<b>%{hovertext}</b><br><br>City=%{customdata[0]}<br>Price per night=%{x}<br>Reviews=%{y}<br>rating=%{customdata[1]}<br>category=%{customdata[2]}<extra></extra>",
         "hovertext": [
          "Acogedor apartamento privado en el centro de Berna",
          "Exclusivo departamento urbano",
          "Sala de estar en Berna",
          "Apartamento en el casco antiguo",
          "Habitación en Freimettigen",
          "Ice Attic-Apt, casco antiguo, a 3 minutos de la estación de tren",
          "N.º 2 apartamento acogedor y céntrico",
          "Habitación en el espejo BE, a 10 de Berna",
          "Habitación soleada, súper central, estación de Berna a 5 minutos a pie",
          "Como si estuvieras en casa",
          "Habitación ático con vistas increíbles",
          "Hermosa habitación en el casco antiguo de Berna",
          "Precioso apartamento de 1 habitación con terraza y cerca de la Universidad",
          "Acogedor apartamento con patio privado en el corazón de Berna",
          "Habitación, Thörishaus Dorf, \"Kellerstudio\"",
          "cHEaRT de BErn – URBErN Pulse",
          "Cómoda Habitación cerca del centro de Berna",
          "\"B&B alba\" en loft atmosférico y silencioso",
          "Logotipo céntrico y moderno de 1 habitación",
          "Apartamento entero en Europaplatz",
          "Apartamento de negocios moderno - Insel",
          "Habitación en el centro de Berna",
          "¡Pequeño pero bonito! ¡Bonito y completo!",
          "Vista al Emmental: habitación con baño",
          "Activo",
          "Apartamento azul, casco antiguo, a 3 minutos de la estación de tren de Berna.",
          "Habitación tranquila, super céntrica, a 5 minutos de la estación de tren",
          "Apartamento vintage, casco antiguo, a 3 minutos a pie de la estación de Berna",
          "LentulusSkyAppartement",
          "Modern City/ Business Studio",
          "Encantadora habitación individual tranquila",
          "Cama en un barrio agradable y tranquilo.",
          "Encantador apartamento en la ciudad de Berna",
          "Habitaciones con baño y acceso privado",
          "Apartamento espacioso y silencioso en el centro de la ciudad de Berna",
          "Nuevo apartamento renovado cerca del centro de Berna",
          "Apartamento estudio de diseño en Berna - Breitenrain",
          "Amplia habitación soleada, casco antiguo, a 3 minutos de la estación de Berna",
          "Apartamento espacioso y silencioso en el centro de la ciudad de Berna",
          "Nuevo apartamento renovado cerca del centro de Berna",
          "Acogedor dormitorio privado a 4 minutos del centro de la ciudad",
          "Artista en The Green Park",
          "Attic-Apt & Roof Terrace, OldTown, a 3 minutos de la estación",
          "Diseño de ensueño",
          "Habitación preciosa cerca de la ciudad de Berna",
          "Apartamento en Little Park",
          "Fantástico ático en Berna",
          "Apartamento de 1 habitación cerca del centro",
          "Cama en dormitorio en el Hostal 77 Berna",
          "Estudio soleado y relajante",
          "Apartamento céntrico en Stadt Bern",
          "habitación cerca del centro",
          "la mejor ubicación, moderno apartamento urbano",
          "Habitación tranquila con balcón cerca de la estación principal.",
          "la mejor ubicación, moderno apartamento urbano",
          "Estudio de 1 habitación con cocina",
          "Artista en The Green Park",
          "Luminoso, moderno, con asientos en el jardín,",
          "2.5 habitaciones, ubicación superior, tranquilo, ideal para los usuarios de Apple",
          "Apartamento nuevo totalmente equipado cerca del centro de Berna",
          "Encantador estudio central en Berna",
          "Cama en un barrio agradable y tranquilo.",
          "Estilo vintage verde, cerca de la ciudad",
          "Apartamento en Little Park",
          "Como si estuvieras en casa",
          "Bonito apartamento en ático loft con terraza y bañera de hidromasaje",
          "¡Pequeño pero bonito! ¡Bonito y completo!",
          "Habitación en el centro de Berna",
          "Apartamento en barrio tranquilo y verde",
          "Apartamento de 2,5 habitaciones con patio en Liebewil",
          "Apartamento nuevo a estrenar sobre los techos de Berna",
          "Estancia NONO, ubicación privilegiada",
          "Elegante apartamento en el casco antiguo an der Kramgasse",
          "Apartamento dúplex en el borde del bosque",
          "Tranquilo Ático-Apto., Super céntrico",
          "Apartamento urbano en el corazón de Berna incl. piscina",
          "Acogedor apartamento estudio con patio (terraza)",
          "Apartamento entero de 2 habitaciones (planta baja) en Berna- Bümpliz",
          "Apartamento rojo, casco antiguo, a 3 minutos de la estación de tren",
          "Orange Apt., casco antiguo, a 3 minutos de la estación de tren de Berna.",
          "Apartamento en el centro de la ciudad",
          "Apartamento en ático de 2 habitaciones Wohlensee",
          "Como si estuvieras en casa",
          "Comfort Apt., casco antiguo, a 3 minutos de la estación de Berna.",
          "El encantador apartamento de Grandy junto al río Aare",
          "Acogedor salón 1,5: Comodidad y Silencio",
          "Apt Estudio completo Centro Berna",
          "Diseña en el antiguo edificio Breitenrain para que te sientas bien",
          "Estudio de la ciudad, casco antiguo, a 3 minutos de la estación de Berna",
          "Tranquilo y elegante apartamento con jardín a 10 minutos del centro",
          "encantador apartamento de 1 habitación en el corazón de Berna",
          "Apartamento nuevo totalmente equipado cerca del centro de Berna",
          "City Center Studio",
          "Apt Estudio completo Centro Berna",
          "Maisonette para 6 personas, ubicación súper céntrica",
          "Top Central Apart en Berna",
          "Piso dulce en el corazón de Berna",
          "Precioso apartamento en la azotea",
          "Apartamento de 2,5 habitaciones con balcón y vistas",
          "Encantador apartamento en el barrio de moda de Länggasse",
          "Apartamento de 1 dormitorio con chimenea y terraza privada",
          "Idílico apartamento de 2 habitaciones en el campo",
          "Loft con estilo en uno de los mejores barrios de Berna",
          "NEB-Thun apartment near Interlaken and Thun",
          "Apartamento de 2 habitaciones en la ciudad más bonita de Suiza",
          "Sweet Retreat con Dreamy Lakeviews",
          "Mountain Lodge *Nature *Queen Beds *Estacionamiento gratis",
          "Estudio con vistas al lago y a la montaña",
          "Estudio con vistas al lago y a la montaña",
          "Schönes Studio en Steffisburg",
          "Hermoso departamento con vista a la montaña y jacuzzi",
          "Bonito estudio con aparcamiento",
          "Cómodo apartamento en el ático en una granja",
          "Granja",
          "Loft en el borde verde de Berna cerca del río Aare",
          "Precioso y acogedor apartamento de 2 habitaciones, céntricoy tranquilo",
          "Altbau-Bijou im Breitenrain",
          "(b) (estudio)",
          "2 habitaciones privadas en una gran casa de los años 20",
          "Apartamento tranquilo con vistas excepcionales",
          "Apartamento de lujo de un dormitorio",
          "Mi alojamiento es mi castillo",
          "Armotti Friedheim 2 dormitorios y oficina en el hogar",
          "Encantador estudio en el casco antiguo",
          "Arquitectura. Pura. Lujo.",
          "Diseño de apartamentos cerca de la ciudad y la naturaleza",
          "Diseña en el antiguo edificio Breitenrain para que te sientas bien",
          "Casa de campo galardonada de nueva construcción en el lago Thun.",
          "Bonito apartamento cerca del lago",
          "Studio-Apartment \"Lakeland\"",
          "Descansa tranquilo con vistas al lago /a la montaña/aparcamiento gratuito.",
          "Hogar para los amantes",
          "¡Gran apartamento con todo lo que tu corazón desea!",
          "Acogedora habitación de maisonette cerca del centro de la ciudad",
          "Pequeña casa rural romántica \"Bödeliweidli\"",
          "Estudio moderno con vistas espectaculares",
          "1, 5 Habitaciones Bijou Mittagsfluh",
          "Ático de la parte superior en Berna",
          "Apartamento con vistas bonitas",
          "Vacaciones en la finca con una vista única.",
          "Hermoso, luminoso y tranquilo apartamento cerca de Berna",
          "Chalet para amantes de la naturaleza",
          "Loft P8: Amplio con esa cosa especial",
          "En el céntrico, tranquilo, cerca de tren y autobús, cerca de la naturaleza",
          "Acogedor apartamento de 1 habitación",
          "Casa céntrica en Zollikofen",
          "2 habitaciones amuebladas en planta baja",
          "Estudio con terraza en Charmey",
          "Chalet con vistas excepcionales",
          "Lujoso apartamento con vistas al lago Panorama, aparcamiento, tranquilo",
          "Habitación muy cómoda",
          "Thun City Apartment",
          "Ático bien diseñado",
          "1-2 habitaciones, 4 km de Berna en el área recreativa",
          "Estudio muy cómodo",
          "Apartamento",
          "Chalet en Gruyère, magníficas vistas",
          "Lugar mágico de Beatenberg y sala morada",
          "Cama «bir hübelihäx» - Desayuno en Wunsch",
          "Apartamento con luz alpina, piscina climatizada, jardín",
          "Pequeño loft lleno de luz en el campo, edificio nuevo",
          "Hübeli Lodge",
          "Estudio muy cómodo",
          "Lujoso apartamento con vistas al lago Panorama, aparcamiento, tranquilo",
          "Apartamento con luz alpina, piscina climatizada, jardín",
          "Chalet en Gruyère, magníficas vistas",
          "La petite Marie Louise",
          "Estudio Lichtena",
          "2 habitaciones amuebladas en planta baja",
          "Apartamento del casco antiguo en el corazón de Thun con jardín",
          "Stöckli apto para familias con ollas calientes/alpacas",
          "Apartamento en la habitación con encanto.",
          "1-2 habitaciones, 4 km de Berna en el área recreativa",
          "chalet wohnspycher blockhaus (sin aire acondicionado)",
          "Hübeli Lodge",
          "Idílica casa de madera en el borde del bosque",
          "Apartamento",
          "Chalet \"ZUM SCHNÜFU\" en el Salwald",
          "Pequeño loft lleno de luz en el campo, edificio nuevo",
          "Apartamento chalet soleado en parque natural",
          "N.º 1 apartamento acogedor y céntrico",
          "Edificio antiguo departamento an der Aare",
          "Acogedora, encantadora y céntrica 3,5 habitaciones en Biel",
          "Casa-Margarita: apartamento de 2,5 habitaciones, buena vista.",
          "2 habitaciones amuebladas en planta baja",
          "Tiny de l'Aigle (La Tiny de l' Aigle)",
          "Habitación tranquila en el centro de Berna",
          "Apartamento estudio con estacionamiento y jardín privado",
          "Pequeño loft lleno de luz en el campo, edificio nuevo",
          "1-2 habitaciones, 4 km de Berna en el área recreativa",
          "Casa céntrica en Zollikofen",
          "En mitad de Berna",
          "Chalet con vistas a la montaña",
          "Apartamento",
          "Lakeview Gem",
          "Maravilloso lugar para relajarse cerca de la ciudad",
          "Armotti: ultra comodidad con la mejor velocidad de internet",
          "\"caroleandclaus\"Precioso apartamento en Berna-Wabern",
          "Apartamento. Acogedor con vistas al parque Chasseral",
          "Tiny de l'Aigle (La Tiny de l' Aigle)",
          "Hay lugares, en nuestra tierra, que tienen alma",
          "Oasis de bienestar entre la capital y la naturaleza",
          "Lakeview Gem",
          "Habitación tranquila en el centro de Berna",
          "Chalet con vistas a la montaña",
          "Un paraíso familiar.",
          "Pequeño loft lleno de luz en el campo, edificio nuevo",
          "Villars-sur-Glâne - estudio independiente",
          "Apartamento de 2 habitaciones con vistas a las montañas y al castillo",
          "La casa en azoteas y la casa del lago se vuelve a publicar en la cuenta de los propietarios.",
          "Casa acogedora Natur-/Stadtnah cerca de Berna",
          "Apartamento Wohn(t)raum",
          "Oasis tranquilo, apartamento de 2 dormitorios Suiza, Biel/Bienne",
          "Armotti: ultra comodidad con la mejor velocidad de internet",
          "Pequeño apartamento en Neuchâtel",
          "Cabaña moderna con vistas únicas en Gruyère",
          "Habitación tranquila en el centro de Berna",
          "Habitación en un bonito apartamento de un edificio antiguo",
          "Apartamento con vistas al lago en la preciosa Oberhofen",
          "Chalet con vistas a la montaña",
          "Cabaña con encanto",
          "Casa-Margarita: apartamento de 2,5 habitaciones, buena vista.",
          "Casa acogedora Natur-/Stadtnah cerca de Berna",
          "Estancia en pleno campo en una granja renovada",
          "Apartamento de 2 habitaciones con vistas a las montañas y al castillo",
          "Apartamento nuevo entre Berna y Thun",
          "Idílica casa de madera en el borde del bosque",
          "Villars-sur-Glâne - estudio independiente",
          "Barock Departamento",
          "Armotti: ultra comodidad con la mejor velocidad de internet",
          "Un paraíso familiar.",
          "Lujoso,accesible,gran apartamento de 1 dormitorio, ¡vistacompleta del Eiger!",
          "\"caroleandclaus\"Precioso apartamento en Berna-Wabern",
          "Apartamento Sunside Sunside Sun Coast en Thunersee",
          "\"caroleandclaus\"Precioso apartamento en Berna-Wabern",
          "Pipin 's Studio",
          "Un paraíso familiar.",
          "Chalet Gurnigelbad - con jardín y sauna",
          "Apartamento de 2,5 habitaciones en el centro del casco antiguo de Thun.",
          "Apartamento Wohn(t)raum",
          "Gîtes du Gore Virat",
          "Vivir en un entorno histórico en Berna",
          "Te damos la bienvenida a Chalet, cerca de la ciudad de Berna",
          "Moderno y cómodo - Estudio Evasión en Gruyère",
          "SwissHut Amazing Views Alps & Lake Thun",
          "Alojamiento familiar con encanto",
          "Apartamento luminoso de 1 habitación muy acogedor —-",
          "Alojamiento en estudio fotográfico, aseo privado y ducha",
          "Acogedor apartamento de 1,5 habitaciones",
          "Lugar mágico de Beatenberg y habitación para huéspedes compartida",
          "Casa de vacaciones independiente en el Emmental",
          "Acogedor, único y elegante junto al lago y las montañas"
         ],
         "legendgroup": "Bern",
         "marker": {
          "color": "#636efa",
          "opacity": 0.5,
          "symbol": "circle"
         },
         "mode": "markers",
         "name": "Bern",
         "orientation": "v",
         "showlegend": true,
         "type": "scatter",
         "x": [
          43,
          473,
          36,
          125,
          36,
          113,
          71,
          62,
          68,
          42,
          53,
          55,
          76,
          83,
          43,
          97,
          78,
          98,
          124,
          98,
          100,
          88,
          60,
          49,
          133,
          127,
          70,
          111,
          133,
          100,
          55,
          62,
          83,
          80,
          109,
          83,
          130,
          73,
          109,
          83,
          52,
          102,
          140,
          117,
          52,
          103,
          129,
          107,
          46,
          98,
          141,
          61,
          124,
          62,
          124,
          78,
          102,
          290,
          77,
          99,
          93,
          62,
          54,
          103,
          42,
          194,
          60,
          88,
          94,
          95,
          139,
          103,
          124,
          101,
          188,
          379,
          98,
          145,
          166,
          250,
          194,
          56,
          42,
          162,
          114,
          103,
          127,
          169,
          124,
          66,
          121,
          99,
          88,
          127,
          259,
          129,
          161,
          118,
          78,
          168,
          81,
          88,
          206,
          74,
          176,
          168,
          129,
          169,
          169,
          78,
          108,
          98,
          103,
          52,
          85,
          82,
          168,
          69,
          116,
          181,
          185,
          71,
          179,
          145,
          250,
          189,
          169,
          440,
          114,
          93,
          186,
          88,
          92,
          68,
          122,
          117,
          62,
          171,
          54,
          155,
          101,
          92,
          114,
          78,
          67,
          202,
          78,
          101,
          128,
          434,
          69,
          145,
          78,
          67,
          67,
          89,
          103,
          228,
          39,
          125,
          103,
          83,
          67,
          434,
          125,
          103,
          103,
          83,
          78,
          125,
          134,
          78,
          67,
          172,
          83,
          153,
          89,
          276,
          103,
          111,
          74,
          78,
          71,
          202,
          78,
          157,
          61,
          109,
          103,
          67,
          202,
          124,
          78,
          89,
          433,
          83,
          233,
          155,
          83,
          157,
          155,
          74,
          433,
          61,
          78,
          80,
          103,
          62,
          103,
          359,
          233,
          81,
          67,
          233,
          88,
          150,
          61,
          72,
          186,
          78,
          251,
          202,
          233,
          72,
          103,
          124,
          153,
          62,
          128,
          233,
          80,
          198,
          155,
          111,
          155,
          88,
          80,
          102,
          119,
          81,
          130,
          102,
          114,
          78,
          187,
          123,
          58,
          55,
          61,
          197,
          128,
          207
         ],
         "xaxis": "x",
         "y": [
          19,
          0,
          5,
          339,
          0,
          218,
          0,
          13,
          877,
          0,
          16,
          68,
          86,
          145,
          17,
          0,
          0,
          199,
          121,
          84,
          87,
          15,
          218,
          36,
          0,
          203,
          212,
          592,
          5,
          120,
          0,
          60,
          14,
          477,
          0,
          466,
          337,
          866,
          0,
          466,
          25,
          95,
          750,
          16,
          7,
          169,
          95,
          0,
          221,
          10,
          14,
          0,
          0,
          304,
          0,
          72,
          95,
          52,
          21,
          208,
          13,
          60,
          70,
          169,
          0,
          145,
          218,
          15,
          65,
          41,
          63,
          17,
          4,
          231,
          74,
          52,
          22,
          21,
          174,
          233,
          3,
          0,
          0,
          733,
          10,
          15,
          0,
          0,
          821,
          413,
          53,
          208,
          0,
          0,
          40,
          0,
          17,
          5,
          11,
          4,
          0,
          34,
          56,
          0,
          0,
          31,
          21,
          0,
          0,
          92,
          0,
          54,
          0,
          11,
          30,
          255,
          0,
          188,
          163,
          22,
          0,
          9,
          35,
          34,
          0,
          0,
          0,
          185,
          6,
          183,
          52,
          66,
          117,
          0,
          18,
          17,
          195,
          95,
          200,
          61,
          61,
          72,
          86,
          59,
          342,
          7,
          9,
          196,
          53,
          21,
          5,
          76,
          160,
          64,
          8,
          5,
          163,
          206,
          9,
          176,
          0,
          52,
          8,
          21,
          176,
          163,
          9,
          43,
          9,
          14,
          33,
          25,
          64,
          17,
          52,
          11,
          5,
          25,
          0,
          0,
          0,
          0,
          0,
          0,
          9,
          60,
          30,
          34,
          0,
          64,
          7,
          0,
          350,
          5,
          390,
          12,
          53,
          19,
          108,
          60,
          179,
          39,
          390,
          30,
          350,
          199,
          0,
          92,
          88,
          44,
          0,
          0,
          104,
          53,
          0,
          121,
          30,
          0,
          0,
          350,
          0,
          0,
          0,
          5,
          88,
          0,
          11,
          92,
          34,
          53,
          199,
          62,
          19,
          82,
          19,
          168,
          199,
          81,
          35,
          0,
          144,
          23,
          106,
          9,
          23,
          0,
          5,
          58,
          41,
          570,
          11,
          313
         ],
         "yaxis": "y"
        },
        {
         "customdata": [
          [
           "Berlin",
           0,
           "Alojamiento entero"
          ],
          [
           "Berlin",
           0,
           "Alojamiento entero"
          ],
          [
           "Berlin",
           0,
           "Alojamiento entero"
          ],
          [
           "Berlin",
           4.79,
           "Alojamiento entero"
          ],
          [
           "Berlin",
           4.53,
           "Habitación"
          ],
          [
           "Berlin",
           4.92,
           "Alojamiento entero"
          ],
          [
           "Berlin",
           4.92,
           "Alojamiento entero"
          ],
          [
           "Berlin",
           0,
           "Alojamiento entero"
          ],
          [
           "Berlin",
           0,
           "Alojamiento entero"
          ],
          [
           "Berlin",
           5,
           "Alojamiento entero"
          ],
          [
           "Berlin",
           5,
           "Alojamiento entero"
          ],
          [
           "Berlin",
           5,
           "Alojamiento entero"
          ],
          [
           "Berlin",
           4.98,
           "Alojamiento entero"
          ],
          [
           "Berlin",
           4.97,
           "Alojamiento entero"
          ],
          [
           "Berlin",
           5,
           "Alojamiento entero"
          ],
          [
           "Berlin",
           4.66,
           "Alojamiento entero"
          ],
          [
           "Berlin",
           5,
           "Alojamiento entero"
          ],
          [
           "Berlin",
           0,
           "Alojamiento entero"
          ],
          [
           "Berlin",
           5,
           "Alojamiento entero"
          ],
          [
           "Berlin",
           0,
           "Alojamiento entero"
          ],
          [
           "Berlin",
           4.96,
           "Alojamiento entero"
          ],
          [
           "Berlin",
           5,
           "Alojamiento entero"
          ],
          [
           "Berlin",
           4.99,
           "Habitación"
          ],
          [
           "Berlin",
           0,
           "Alojamiento entero"
          ],
          [
           "Berlin",
           4.82,
           "Alojamiento entero"
          ],
          [
           "Berlin",
           0,
           "Alojamiento entero"
          ],
          [
           "Berlin",
           5,
           "Alojamiento entero"
          ],
          [
           "Berlin",
           4.92,
           "Alojamiento entero"
          ],
          [
           "Berlin",
           5,
           "Alojamiento entero"
          ],
          [
           "Berlin",
           4.79,
           "Alojamiento entero"
          ],
          [
           "Berlin",
           4.76,
           "Alojamiento entero"
          ],
          [
           "Berlin",
           4.9,
           "Alojamiento entero"
          ],
          [
           "Berlin",
           4.63,
           "Alojamiento entero"
          ],
          [
           "Berlin",
           0,
           "Alojamiento entero"
          ],
          [
           "Berlin",
           4.93,
           "Alojamiento entero"
          ],
          [
           "Berlin",
           4.8,
           "Alojamiento entero"
          ],
          [
           "Berlin",
           4.9,
           "Alojamiento entero"
          ],
          [
           "Berlin",
           4.95,
           "Alojamiento entero"
          ],
          [
           "Berlin",
           5,
           "Alojamiento entero"
          ],
          [
           "Berlin",
           4.94,
           "Alojamiento entero"
          ],
          [
           "Berlin",
           4.97,
           "Alojamiento entero"
          ],
          [
           "Berlin",
           0,
           "Alojamiento entero"
          ],
          [
           "Berlin",
           5,
           "Alojamiento entero"
          ],
          [
           "Berlin",
           4.99,
           "Alojamiento entero"
          ],
          [
           "Berlin",
           4.87,
           "Alojamiento entero"
          ],
          [
           "Berlin",
           4.97,
           "Habitación"
          ],
          [
           "Berlin",
           4.97,
           "otro"
          ],
          [
           "Berlin",
           5,
           "Alojamiento entero"
          ],
          [
           "Berlin",
           4.87,
           "Alojamiento entero"
          ],
          [
           "Berlin",
           4.91,
           "Alojamiento entero"
          ],
          [
           "Berlin",
           4.79,
           "Alojamiento entero"
          ],
          [
           "Berlin",
           5,
           "Alojamiento entero"
          ],
          [
           "Berlin",
           4.95,
           "Alojamiento entero"
          ],
          [
           "Berlin",
           4.76,
           "Alojamiento entero"
          ],
          [
           "Berlin",
           4.97,
           "Alojamiento entero"
          ],
          [
           "Berlin",
           4.92,
           "Alojamiento entero"
          ],
          [
           "Berlin",
           5,
           "Alojamiento entero"
          ],
          [
           "Berlin",
           4.9,
           "Alojamiento entero"
          ],
          [
           "Berlin",
           5,
           "Alojamiento entero"
          ],
          [
           "Berlin",
           4.89,
           "Alojamiento entero"
          ],
          [
           "Berlin",
           4.9,
           "Alojamiento entero"
          ],
          [
           "Berlin",
           4.83,
           "Alojamiento entero"
          ],
          [
           "Berlin",
           5,
           "Alojamiento entero"
          ],
          [
           "Berlin",
           4.63,
           "Alojamiento entero"
          ],
          [
           "Berlin",
           4.77,
           "Alojamiento entero"
          ],
          [
           "Berlin",
           4.88,
           "Alojamiento entero"
          ],
          [
           "Berlin",
           0,
           "Alojamiento entero"
          ],
          [
           "Berlin",
           5,
           "Alojamiento entero"
          ],
          [
           "Berlin",
           5,
           "Alojamiento entero"
          ],
          [
           "Berlin",
           4.79,
           "Alojamiento entero"
          ],
          [
           "Berlin",
           4.82,
           "Alojamiento entero"
          ],
          [
           "Berlin",
           0,
           "Habitación"
          ],
          [
           "Berlin",
           4.79,
           "Alojamiento entero"
          ],
          [
           "Berlin",
           0,
           "Alojamiento entero"
          ],
          [
           "Berlin",
           4.87,
           "Alojamiento entero"
          ],
          [
           "Berlin",
           4.77,
           "Habitación"
          ],
          [
           "Berlin",
           4.59,
           "Alojamiento entero"
          ],
          [
           "Berlin",
           4.75,
           "Alojamiento entero"
          ],
          [
           "Berlin",
           0,
           "Alojamiento entero"
          ],
          [
           "Berlin",
           4.6,
           "Alojamiento entero"
          ],
          [
           "Berlin",
           4.5,
           "Alojamiento entero"
          ],
          [
           "Berlin",
           0,
           "Alojamiento entero"
          ],
          [
           "Berlin",
           4.72,
           "Alojamiento entero"
          ],
          [
           "Berlin",
           4.33,
           "Alojamiento entero"
          ],
          [
           "Berlin",
           4.57,
           "Habitación"
          ],
          [
           "Berlin",
           0,
           "Alojamiento entero"
          ],
          [
           "Berlin",
           0,
           "Alojamiento entero"
          ],
          [
           "Berlin",
           4.43,
           "Alojamiento entero"
          ],
          [
           "Berlin",
           4.43,
           "Alojamiento entero"
          ],
          [
           "Berlin",
           4.86,
           "Alojamiento entero"
          ],
          [
           "Berlin",
           0,
           "Alojamiento entero"
          ],
          [
           "Berlin",
           0,
           "Alojamiento entero"
          ],
          [
           "Berlin",
           4.44,
           "Alojamiento entero"
          ],
          [
           "Berlin",
           4.5,
           "Alojamiento entero"
          ],
          [
           "Berlin",
           4.2,
           "Alojamiento entero"
          ],
          [
           "Berlin",
           4.32,
           "Alojamiento entero"
          ],
          [
           "Berlin",
           5,
           "Alojamiento entero"
          ],
          [
           "Berlin",
           0,
           "Alojamiento entero"
          ],
          [
           "Berlin",
           0,
           "Alojamiento entero"
          ],
          [
           "Berlin",
           5,
           "Alojamiento entero"
          ],
          [
           "Berlin",
           0,
           "Alojamiento entero"
          ],
          [
           "Berlin",
           5,
           "Alojamiento entero"
          ],
          [
           "Berlin",
           0,
           "Alojamiento entero"
          ],
          [
           "Berlin",
           5,
           "Alojamiento entero"
          ],
          [
           "Berlin",
           5,
           "Alojamiento entero"
          ],
          [
           "Berlin",
           4.95,
           "Alojamiento entero"
          ],
          [
           "Berlin",
           5,
           "Alojamiento entero"
          ],
          [
           "Berlin",
           4.95,
           "Alojamiento entero"
          ],
          [
           "Berlin",
           5,
           "Alojamiento entero"
          ],
          [
           "Berlin",
           0,
           "Alojamiento entero"
          ],
          [
           "Berlin",
           5,
           "Alojamiento entero"
          ],
          [
           "Berlin",
           5,
           "Alojamiento entero"
          ],
          [
           "Berlin",
           5,
           "Alojamiento entero"
          ],
          [
           "Berlin",
           4.95,
           "Alojamiento entero"
          ],
          [
           "Berlin",
           4.97,
           "Habitación"
          ],
          [
           "Berlin",
           4.97,
           "Alojamiento entero"
          ],
          [
           "Berlin",
           0,
           "Alojamiento entero"
          ],
          [
           "Berlin",
           4.94,
           "Alojamiento entero"
          ],
          [
           "Berlin",
           5,
           "Alojamiento entero"
          ],
          [
           "Berlin",
           5,
           "Alojamiento entero"
          ],
          [
           "Berlin",
           4.91,
           "Alojamiento entero"
          ],
          [
           "Berlin",
           5,
           "Alojamiento entero"
          ],
          [
           "Berlin",
           5,
           "Alojamiento entero"
          ],
          [
           "Berlin",
           0,
           "Habitación"
          ],
          [
           "Berlin",
           5,
           "Alojamiento entero"
          ],
          [
           "Berlin",
           4.92,
           "Alojamiento entero"
          ],
          [
           "Berlin",
           4.91,
           "Alojamiento entero"
          ],
          [
           "Berlin",
           5,
           "Alojamiento entero"
          ],
          [
           "Berlin",
           5,
           "Alojamiento entero"
          ],
          [
           "Berlin",
           5,
           "Alojamiento entero"
          ],
          [
           "Berlin",
           0,
           "Habitación"
          ],
          [
           "Berlin",
           4.92,
           "Alojamiento entero"
          ],
          [
           "Berlin",
           4.9,
           "Habitación"
          ],
          [
           "Berlin",
           5,
           "Alojamiento entero"
          ],
          [
           "Berlin",
           4.95,
           "Alojamiento entero"
          ],
          [
           "Berlin",
           4.98,
           "Alojamiento entero"
          ],
          [
           "Berlin",
           4.95,
           "Alojamiento entero"
          ],
          [
           "Berlin",
           5,
           "Alojamiento entero"
          ],
          [
           "Berlin",
           5,
           "Alojamiento entero"
          ],
          [
           "Berlin",
           4.99,
           "Alojamiento entero"
          ],
          [
           "Berlin",
           0,
           "Alojamiento entero"
          ],
          [
           "Berlin",
           4.96,
           "Alojamiento entero"
          ],
          [
           "Berlin",
           5,
           "Alojamiento entero"
          ],
          [
           "Berlin",
           4.95,
           "Alojamiento entero"
          ],
          [
           "Berlin",
           4.98,
           "Alojamiento entero"
          ],
          [
           "Berlin",
           5,
           "Alojamiento entero"
          ],
          [
           "Berlin",
           5,
           "Alojamiento entero"
          ],
          [
           "Berlin",
           5,
           "Habitación"
          ],
          [
           "Berlin",
           5,
           "Alojamiento entero"
          ],
          [
           "Berlin",
           5,
           "Alojamiento entero"
          ],
          [
           "Berlin",
           4.94,
           "Alojamiento entero"
          ],
          [
           "Berlin",
           0,
           "Alojamiento entero"
          ],
          [
           "Berlin",
           5,
           "Alojamiento entero"
          ],
          [
           "Berlin",
           5,
           "Alojamiento entero"
          ],
          [
           "Berlin",
           5,
           "Alojamiento entero"
          ],
          [
           "Berlin",
           4.9,
           "Alojamiento entero"
          ],
          [
           "Berlin",
           4.94,
           "Alojamiento entero"
          ],
          [
           "Berlin",
           4.94,
           "Alojamiento entero"
          ],
          [
           "Berlin",
           4.97,
           "Alojamiento entero"
          ],
          [
           "Berlin",
           4.97,
           "Alojamiento entero"
          ],
          [
           "Berlin",
           4.95,
           "Alojamiento entero"
          ],
          [
           "Berlin",
           4.97,
           "Alojamiento entero"
          ],
          [
           "Berlin",
           4.66,
           "Alojamiento entero"
          ],
          [
           "Berlin",
           4.94,
           "Alojamiento entero"
          ],
          [
           "Berlin",
           4.94,
           "Alojamiento entero"
          ],
          [
           "Berlin",
           4.93,
           "Alojamiento entero"
          ],
          [
           "Berlin",
           4.96,
           "Alojamiento entero"
          ],
          [
           "Berlin",
           4.89,
           "Alojamiento entero"
          ],
          [
           "Berlin",
           5,
           "Alojamiento entero"
          ],
          [
           "Berlin",
           4.98,
           "Alojamiento entero"
          ],
          [
           "Berlin",
           4.91,
           "Alojamiento entero"
          ],
          [
           "Berlin",
           5,
           "Alojamiento entero"
          ],
          [
           "Berlin",
           0,
           "Alojamiento entero"
          ],
          [
           "Berlin",
           4.97,
           "Habitación"
          ],
          [
           "Berlin",
           5,
           "Alojamiento entero"
          ],
          [
           "Berlin",
           4.88,
           "Alojamiento entero"
          ],
          [
           "Berlin",
           0,
           "Alojamiento entero"
          ],
          [
           "Berlin",
           4.89,
           "Alojamiento entero"
          ],
          [
           "Berlin",
           5,
           "Alojamiento entero"
          ],
          [
           "Berlin",
           4.92,
           "Alojamiento entero"
          ],
          [
           "Berlin",
           5,
           "Alojamiento entero"
          ],
          [
           "Berlin",
           4.67,
           "Alojamiento entero"
          ],
          [
           "Berlin",
           5,
           "Alojamiento entero"
          ],
          [
           "Berlin",
           4.91,
           "Alojamiento entero"
          ],
          [
           "Berlin",
           0,
           "Alojamiento entero"
          ],
          [
           "Berlin",
           0,
           "Alojamiento entero"
          ],
          [
           "Berlin",
           4.92,
           "Habitación"
          ],
          [
           "Berlin",
           4.96,
           "Alojamiento entero"
          ],
          [
           "Berlin",
           4.94,
           "Habitación"
          ],
          [
           "Berlin",
           5,
           "Alojamiento entero"
          ],
          [
           "Berlin",
           5,
           "Alojamiento entero"
          ],
          [
           "Berlin",
           4.98,
           "Alojamiento entero"
          ],
          [
           "Berlin",
           5,
           "Alojamiento entero"
          ],
          [
           "Berlin",
           4.96,
           "Alojamiento entero"
          ],
          [
           "Berlin",
           0,
           "Alojamiento entero"
          ],
          [
           "Berlin",
           4.96,
           "Alojamiento entero"
          ],
          [
           "Berlin",
           5,
           "Alojamiento entero"
          ],
          [
           "Berlin",
           5,
           "Alojamiento entero"
          ],
          [
           "Berlin",
           4.94,
           "Alojamiento entero"
          ],
          [
           "Berlin",
           4.96,
           "Alojamiento entero"
          ],
          [
           "Berlin",
           5,
           "Alojamiento entero"
          ],
          [
           "Berlin",
           0,
           "Alojamiento entero"
          ],
          [
           "Berlin",
           4.88,
           "Alojamiento entero"
          ],
          [
           "Berlin",
           4.91,
           "Alojamiento entero"
          ],
          [
           "Berlin",
           5,
           "Alojamiento entero"
          ],
          [
           "Berlin",
           4.9,
           "Alojamiento entero"
          ],
          [
           "Berlin",
           4.94,
           "Habitación"
          ],
          [
           "Berlin",
           4.96,
           "Alojamiento entero"
          ],
          [
           "Berlin",
           4.92,
           "Habitación"
          ],
          [
           "Berlin",
           4.92,
           "Alojamiento entero"
          ],
          [
           "Berlin",
           4.88,
           "Alojamiento entero"
          ],
          [
           "Berlin",
           4.94,
           "Alojamiento entero"
          ],
          [
           "Berlin",
           5,
           "Habitación"
          ],
          [
           "Berlin",
           4.98,
           "Alojamiento entero"
          ],
          [
           "Berlin",
           4.82,
           "Alojamiento entero"
          ],
          [
           "Berlin",
           4.94,
           "Alojamiento entero"
          ],
          [
           "Berlin",
           4.82,
           "Alojamiento entero"
          ],
          [
           "Berlin",
           0,
           "Alojamiento entero"
          ],
          [
           "Berlin",
           4.84,
           "Alojamiento entero"
          ],
          [
           "Berlin",
           4.94,
           "Habitación"
          ],
          [
           "Berlin",
           5,
           "Alojamiento entero"
          ],
          [
           "Berlin",
           4.93,
           "Alojamiento entero"
          ],
          [
           "Berlin",
           4.92,
           "Habitación"
          ],
          [
           "Berlin",
           4.81,
           "Habitación"
          ],
          [
           "Berlin",
           4.98,
           "Alojamiento entero"
          ],
          [
           "Berlin",
           4.92,
           "Alojamiento entero"
          ],
          [
           "Berlin",
           0,
           "Alojamiento entero"
          ],
          [
           "Berlin",
           0,
           "Alojamiento entero"
          ],
          [
           "Berlin",
           4.96,
           "Alojamiento entero"
          ],
          [
           "Berlin",
           0,
           "Alojamiento entero"
          ],
          [
           "Berlin",
           0,
           "Alojamiento entero"
          ],
          [
           "Berlin",
           5,
           "Alojamiento entero"
          ],
          [
           "Berlin",
           5,
           "Alojamiento entero"
          ],
          [
           "Berlin",
           5,
           "Habitación"
          ],
          [
           "Berlin",
           4.93,
           "Alojamiento entero"
          ],
          [
           "Berlin",
           4.99,
           "Alojamiento entero"
          ],
          [
           "Berlin",
           0,
           "Alojamiento entero"
          ],
          [
           "Berlin",
           4.94,
           "Alojamiento entero"
          ],
          [
           "Berlin",
           4.98,
           "Alojamiento entero"
          ],
          [
           "Berlin",
           4.94,
           "Alojamiento entero"
          ],
          [
           "Berlin",
           0,
           "Alojamiento entero"
          ],
          [
           "Berlin",
           0,
           "Alojamiento entero"
          ],
          [
           "Berlin",
           4.91,
           "Alojamiento entero"
          ],
          [
           "Berlin",
           4.99,
           "Alojamiento entero"
          ],
          [
           "Berlin",
           4.96,
           "Habitación"
          ],
          [
           "Berlin",
           4.98,
           "Alojamiento entero"
          ],
          [
           "Berlin",
           0,
           "Alojamiento entero"
          ],
          [
           "Berlin",
           0,
           "Alojamiento entero"
          ],
          [
           "Berlin",
           0,
           "Alojamiento entero"
          ]
         ],
         "hovertemplate": "<b>%{hovertext}</b><br><br>City=%{customdata[0]}<br>Price per night=%{x}<br>Reviews=%{y}<br>rating=%{customdata[1]}<br>category=%{customdata[2]}<extra></extra>",
         "hovertext": [
          "Hermoso ático cerca del lago Müggelsee",
          "Apartamento de 74 metros cuadrados en Berlín-Charlottenburg",
          "Apartamento doble en Frankfurter Allee",
          "Suite Home Two-Bedroom Apartment",
          "Nena Apartments Metropolpark \"Studio\"",
          "Terraza en el Wintergarten – 86 m²",
          "Piso acogedor y tranquilo en Prenzlauer Berg",
          "Ático en el corazón de Berlín",
          "Hermoso, luminoso, con buenas vistas al campo",
          "Stadtflucht Penthouse 5.2.2",
          "Design-Studio Bergmannkiez",
          "Traum Apartment mit 150 m²",
          "Loft de lujo de nuevo diseño en el moderno Prenzlauer Berg",
          "Apartamento CÉNTRICO Y CÓMODO en Prenzlauer Berg cerca de Mitte",
          "Loft- Mejor ubicación, 90m2, 2 baños, 2 Balcón, tranquilo.",
          "2 encantadores apartamentos de 2 habitaciones en Berlín Mitte",
          "Exquisito 100 metros cuadrados an der Spree",
          "Apartamento de lujo de 2 dormitorios en Mitte",
          "Soleado y diseño en Berlin Mitte",
          "402 * Urban Apartment in top area *",
          "Impresionante loft de diseño en la mejor ubicación de Kreuzberg",
          "Apartamento soleado en la azotea",
          "Loft enorme Berlin-Mitte con baño propio y aire acondicionado",
          "Apartamento estudio de diseño con balcón, Berlin Mitte",
          "Apartamento tipo estudio en la casa con jardín",
          "The Spree Condo",
          "Apartamento de la ciudad en Wrangelkiez",
          "Hermoso departamento luminoso y luminoso con balcón/10’ Mitte",
          "Berlín Puro: nuevo moderno y elegante/2 habitaciones/pared/centro",
          "Creativo + renovado + Cool Bergmannkiez",
          "Stayery | Estudio moderno cerca de Boxhagener Platz",
          "NIDO DE AVES SOBRE BERLÍN",
          "numa I Suite Espaciosa en Checkpoint Charlie",
          "Apartamento tipo estudio único en el monumento",
          "Apartamento boutique en la azotea de 1237 pies cuadrados en City West",
          "Apartamento de maisonette de 4 habitaciones de Youngster de 50 metros cuadrados cerca del centro",
          "Apartamento ático con terraza en la azotea sobre Berlín",
          "Acogedor y tranquilo cine boutique en Winskiez",
          "Loft tranquilo y espacioso, estacionamiento privado disponible",
          "Bienvenido a tu hogar en Berlín",
          "Habitación tranquila en Berlín en K-Berg",
          "Apartamento luminoso y lujoso en el parque",
          "Penthouse im Graefekiez",
          "Studio nuthetal, nahe Berlin & Potsdam, Parkplatz",
          "Gran loft de 1 habitación",
          "Enorme Loft Berlin-Mitte con baño privado y aire acondicionado",
          "Fantástica casa flotante en la ciudad de Berlín",
          "Hermoso departamento con vista a la bahía",
          "Elegante nuevo loft II de Berlin-Wall-Apartments",
          "Precioso apartamento luminoso de 2 habitaciones en el corazón de Friedrichshain",
          "Precioso apartamento antiguo en Kreuzberg",
          "Apartamento estudio de diseño con balcón, Berlin Mitte",
          "Apartamento tranquilo y acogedor en Samarieterviertel con terraza.",
          "Stayery | Estudio moderno cerca de Boxhagener Platz",
          "El oasis escandinavo",
          "Apartamento estudio en planta baja central",
          "Loft tranquilo y espacioso, estacionamiento privado disponible",
          "Elegante apartamento en el Görli",
          "Precioso apartamento en Mitte",
          "Departamento Boutique Ruhiges",
          "794 APARTAMENTO DE LUJO DE UNA HABITACIÓN EN CENTRAL MITTE",
          "Kreuzberger Altbau mit Kachelofen",
          "Kreuzberger Perle: luminoso y cerca del agua",
          "numa I Suite Espaciosa en Checkpoint Charlie",
          "numa | Habitación moderna con registro de entrada digital",
          "Elegante oasis en el corazón de Berlín",
          "Altbau en Berlín-Wilmersdorf",
          "Apartamento de 2 habitaciones en Friedrichshain",
          "Apartamento estudio de diseño con balcón, Berlin Mitte",
          "Piso moderno en Neukölln / Kreuzberg",
          "moderno y céntrico estudio cerca de Alexanderplatz",
          "¡Habitación en casa flotante en el centro!",
          "Creativo + renovado + Cool Bergmannkiez",
          "Apartamento agradable con cama con dosel y terraza",
          "Apartamento de diseño en el corazón de Mitte",
          "(estudio)",
          "Apartamento espacioso/ Kudamm / City West",
          "Berlin Muellerstr. | Suite L",
          "Impresionante ático moderno en Mitte",
          "795 APARTAMENTO DE LUJO CON TERRAZA EN MITTE",
          "Acogedor apartamento tipo estudio en Friedrichshain",
          "Acogedor apartamento en Prenzlauerberg",
          "Apartamento arquitectónico en Kreuzberg",
          "Apartamento de diseño moderno",
          "Nena Apartments Moritzplatz \"estudio\"",
          "Apartamento URBANO 2012 * en el centro de la ciudad",
          "Apartamento en Berlín Mitte",
          "limehome Berlin Stresemannstr | Suite",
          "limehome Berlin Stresemannstr | Suite",
          "Lujoso penthouse prémium de 3 habitaciones en Berlín Mitte",
          "habitación plana azul",
          "Bonito y gran sótanoen el canal kreuzberg",
          "Lake Side Park/Historic/BER /Ư",
          "Piso moderno con Homecinema, Netflix, 2 Min. Tranvía",
          "Acogedor apartamento tipo loft en Berlín Wilmersdorf",
          "Apartamento chic, céntrico - Ópera alemana",
          "Apartamento lujoso y con estilo en el aeropuerto DE BER",
          "Apartamento céntrico: a 5 minutos de Alexanderplatz.",
          "Apartamento de diseño en Bergmannkiez",
          "Estudio de diseño luminoso y cómodo en Neukölln",
          "Apartamento artístico en Kreuzkölln",
          "Estudio central en Berlín Friedrichshain",
          "Zliving Penthouse",
          "Enorme apartamento de 3 habitaciones en distrito para 2 personas",
          "Relájate o trabaja +sauna",
          "Piso céntrico, acogedor y luminoso en Berlín Mitte",
          "Apartamento moderno y luminoso con terraza",
          "estudio, amplio y tranquilo balcón",
          "Apartamento tranquilo y acogedor con chimenea y terraza",
          "303 * Increíble apartamento en la mejor zona",
          "Apartamento de lujo de 100 metros cuadrados en excelente ubicación cerca de Ku'Damm",
          "Berlin Friedrichshain Design Loft Apartment + Garden",
          "Apartamento anexo en el sur de Berlín",
          "Apartamento agradable en Prenzlauer Berg",
          "Amplia habitación en su propio piso + con su propio baño",
          "Apartamento con encanto en Schöneberg",
          "Apartamento con estilo en Charlottenburg",
          "Acogedor apartamento Prenzlauer Berg",
          "¡Siéntete como en tu alojamiento en cuestión de segundos!",
          "Precioso apartamento en Berlín, Friedrichshain",
          "Una joya luminosa",
          "Chat, apartamento y balcón en el centro del moderno Berlín",
          "Acogedor apartamento en Charlottenburg",
          "Habitación: Tranquilo, soleado y con vistas al agua",
          "Chat, apartamento y balcón en el centro del moderno Berlín",
          "Apartamento Motzstraße (1000) con habitación independiente",
          "Una joya luminosa",
          "Acogedor apartamento en Charlottenburg",
          "Precioso apartamento en Berlín, Friedrichshain",
          "Paraíso urbano: casa soleada con balcón y gato",
          "Habitación: Tranquilo, soleado y con vistas al agua",
          "Apartamento en Prenzlauer Berg III",
          "Típico berlinés",
          "Encantador y acogedor apartamento de 1 dormitorio en Neukölln",
          "Precioso dúplex en el corazón de Berlín (Mitte)",
          "Hermoso anexo en el corazón de Falkensee",
          "Casa D'Oro beutiful maisonette Apartment",
          "Chic, Calm + Central Residence",
          "Sala de estar soleada con balcón",
          "Hermoso y gran apartamento cerca de Rosenthaler Platz",
          "Apartamento moderno de 2 habitaciones",
          "Loft (45 mts2) con terraza, Rummelsburg Bay",
          "Luminoso apartamento de 3 habitaciones en Neukölln",
          "Experimenta Berlín 2020",
          "Adorable casa de huéspedes con alberca y sauna en Pankow",
          "Apartamento privado Simon-Dach",
          "Piso único en Schillerkiez",
          "Habitación tranquila en un apartamento queer Friendly",
          "Apartamento estudio moderno",
          "Vivir en el asentamiento forestal",
          "Apartamento acogedor y tranquilo en Berlín cerca del transporte público",
          "Estudio en Prenzlauer Berg",
          "Edificio antiguo de diseño recién reformado",
          "ACOGEDOR ALOJAMIENTO",
          "The Luxury Orchid Home",
          "Soleado balcón loft en la última planta +vista Prenzlauer Berg",
          "La mejor ubicación: Precioso apartamento en Friedrichshain",
          "Apartamento recién renovado en el Castillo de Charlottenburg",
          "Tranquilo apartamento estudio cerca del Mauerpark",
          "Apartamento tranquilo en la casa sueca en medio de Berlín",
          "Apartamento de ensueño en Central Place /Privat Parking",
          "Tranquilo apartamento estudio cerca del Mauerpark",
          "Apartamento estudio elegante y moderno en Berlín-Charlottenburg",
          "Apartamento de 2 habitaciones - muy céntrico - Superview Mitte",
          "Elegante escondite en el corazón de Berlín.",
          "Amplio, mejor ubicación, 2 balcones, moderno!",
          "Con estilo en Berlín",
          "Piso urbano de Kreuzberg con balcón en el patio",
          "Los oasis urbanos junto al agua",
          "Über den Dächern von Berlin",
          "Apartamento en Berlín-Adlershof",
          "Apartamento en un edificio antiguo en Alt-Treptow",
          "Acogedor apartamento en Maisonette cerca de KuDamm",
          "Habitación privada en lujo. Apartamento limpio de 330 m² + sauna.",
          "En el corazón de Neuköllner Kiez ;)Real Berlin Feeling!",
          "Acogedor apartamento en Sprengelkiez - Berlín",
          "Acogedora maisonette en el centro de Berlín",
          "Departamento Boutique Ruhiges",
          "En una zona de moda con carácter",
          "Elegante apartamento de 70 m2 en el centro de Berlín (Mitte)",
          "¡Acogedor apartamento en el corazón de la zona más moderna!",
          "Bright + green *15 min to Potsdamer Platz*",
          "Apartamento ejecutivo de 110 metros cuadrados cerca de Museumsinsel",
          "Apartamento Urbanes en F-Hain",
          "apartamento acogedor en friedrichshain",
          "204 * El mejor lugar para estar en el centro de la ciudad *",
          "Hermosa habitación junto al canal (Gräfekiez)",
          "Acogedor ático con vistas únicas sobre la ciudad",
          "Acogedora habitación con baño adjunto cerca de Mauerpark",
          "504 * El lugar para estar en la mejor zona, reformado",
          "Apartamento estudio en Berlín Mitte",
          "Maisonette, la mejor ubicación de 2 balcones de Berlín-Mitte",
          "Penthouse de lujo en el corazón de Berlín",
          "Maisonette en la planta superior del corazón de Berlín",
          "Pequeña casa a las afueras del pueblo",
          "Estudio único y tranquilo, excelente ubicación!",
          "Acogedora casa en el maravilloso distrito de Friedrichshain",
          "Apartamento ejecutivo de 110 metros cuadrados cerca de Museumsinsel",
          "Berlín puro:elegante neu2 Zi/Terrasse/Zentrum/Mauer",
          "Maisonette en la planta superior del corazón de Berlín",
          "504 * El lugar para estar en la mejor zona, reformado",
          "Apartamento de lujo en Frankfurter Allee",
          "Elegante oasis en el corazón de Berlín",
          "Estudio de artista en Berlín - Prenzlauer Berg",
          "Penthouse de lujo en el corazón de Berlín",
          "estudio luminoso en Schöneberg junto a la ciudad de Berlín",
          "Acogedora habitación con baño adjunto cerca de Mauerpark",
          "Waldrand Tiergarten: céntrico, moderno, cómodo",
          "Hermosa habitación junto al canal (Gräfekiez)",
          "Karo: un oasis de paz en Kreuzberg",
          "TempelCasa",
          "Estudio creativo en Friedrichshain-Boxhagener Platz",
          "Mucho espacio, dentro del anillo",
          "Maisonette, la mejor ubicación de 2 balcones de Berlín-Mitte",
          "#505 Sé mi huésped",
          "Estudio creativo en Friedrichshain-Boxhagener Platz",
          "moderno y céntrico estudio cerca de Alexanderplatz",
          "SMARTments - Vida temporal en Prenzlauer Berg",
          "UN GRAN ÁTICO",
          "Acogedora habitación con baño adjunto cerca de Mauerpark",
          "Apartamento de lujo con carácter en Berlín Kreuzberg-1",
          "Departamento nuevo accesible",
          "Hermosa habitación junto al canal (Gräfekiez)",
          "Precioso loft, balcón y baño propio",
          "Maisonette, la mejor ubicación de 2 balcones de Berlín-Mitte",
          "Industrial-Design Loft de 100 metros cuadrados en Friedrichshain",
          "apartamento acogedor en friedrichshain",
          "2032 * Acogedor apartamento en el corazón de Berlín",
          "Estudio único y tranquilo, excelente ubicación!",
          "Estudio de 60 metros cuadrados en el parque Gleisdreieck",
          "Cervecería renovada en un lago",
          "Apartamento acogedor autónomo",
          "viajar con un perro no es ningún problema con nosotros",
          "Mucho espacio, dentro del anillo",
          "FU-Zentral, hermosa parte/departamento en renovado.20er Ja",
          "CASA DE CAMPO EN EL CINTURÓN DE TOCINO DE BERLÍN",
          "Fantástico apartamento en el ático",
          "Departamento de Diseño Prenzlauer Berg",
          "Hermoso ático / ático con terraza",
          "La joya de Neukölln",
          "Apartamento tranquilo de 1 habitación en el parque, a 20 minutos del centro",
          "2021 * Apartamento urbano en el centro de la ciudad",
          "Moderno apartamento de edificio antiguo en Charlottenburg",
          "Elegante y acogedora casa de huéspedes con terraza y piscina",
          "Sueño para parejas: habitación en el corazón de Kreuzberg",
          "Edificio moderno con jardín vertical y 2 recamaras",
          "Departamento nuevo en Schönefeld",
          "Paraíso en madera",
          "EXCELENTE apartamento de 102 * en el centro de la ciudad"
         ],
         "legendgroup": "Berlin",
         "marker": {
          "color": "#EF553B",
          "opacity": 0.5,
          "symbol": "circle"
         },
         "mode": "markers",
         "name": "Berlin",
         "orientation": "v",
         "showlegend": true,
         "type": "scatter",
         "x": [
          53,
          77,
          75,
          214,
          117,
          205,
          99,
          190,
          80,
          149,
          92,
          195,
          200,
          89,
          189,
          129,
          131,
          198,
          164,
          228,
          180,
          114,
          99,
          139,
          91,
          300,
          90,
          121,
          213,
          61,
          68,
          140,
          108,
          80,
          121,
          123,
          266,
          138,
          194,
          122,
          90,
          97,
          128,
          132,
          134,
          97,
          237,
          130,
          158,
          95,
          94,
          139,
          149,
          68,
          200,
          89,
          194,
          138,
          88,
          70,
          150,
          76,
          203,
          108,
          87,
          121,
          72,
          125,
          139,
          99,
          115,
          65,
          61,
          95,
          122,
          100,
          92,
          102,
          181,
          150,
          70,
          84,
          78,
          89,
          110,
          249,
          100,
          97,
          97,
          115,
          80,
          76,
          71,
          147,
          91,
          79,
          119,
          222,
          150,
          110,
          112,
          81,
          520,
          220,
          132,
          130,
          114,
          145,
          80,
          159,
          316,
          160,
          110,
          120,
          97,
          135,
          124,
          114,
          200,
          230,
          88,
          62,
          154,
          69,
          62,
          143,
          88,
          154,
          230,
          99,
          69,
          63,
          44,
          110,
          191,
          129,
          277,
          160,
          129,
          192,
          134,
          84,
          200,
          80,
          206,
          170,
          141,
          77,
          87,
          70,
          77,
          81,
          150,
          140,
          249,
          139,
          81,
          100,
          89,
          112,
          211,
          89,
          115,
          88,
          213,
          249,
          174,
          137,
          110,
          65,
          89,
          150,
          119,
          84,
          95,
          90,
          90,
          70,
          118,
          110,
          120,
          71,
          140,
          86,
          104,
          264,
          55,
          265,
          65,
          245,
          92,
          141,
          231,
          170,
          99,
          104,
          284,
          140,
          238,
          170,
          245,
          141,
          121,
          120,
          231,
          137,
          65,
          105,
          55,
          86,
          97,
          120,
          82,
          141,
          106,
          120,
          115,
          95,
          155,
          65,
          129,
          149,
          55,
          71,
          141,
          240,
          104,
          232,
          104,
          150,
          120,
          86,
          72,
          82,
          110,
          78,
          130,
          100,
          149,
          77,
          80,
          249,
          125,
          90,
          120,
          225,
          92,
          68,
          174
         ],
         "xaxis": "x",
         "y": [
          0,
          0,
          0,
          419,
          0,
          25,
          12,
          0,
          0,
          15,
          30,
          12,
          49,
          276,
          43,
          130,
          10,
          0,
          204,
          0,
          26,
          4,
          518,
          0,
          88,
          0,
          24,
          26,
          51,
          327,
          228,
          73,
          0,
          0,
          299,
          44,
          20,
          148,
          3,
          119,
          31,
          0,
          5,
          69,
          0,
          445,
          147,
          32,
          134,
          70,
          197,
          5,
          21,
          228,
          114,
          97,
          3,
          104,
          8,
          9,
          20,
          60,
          27,
          0,
          0,
          24,
          0,
          0,
          5,
          0,
          324,
          0,
          327,
          0,
          79,
          0,
          59,
          16,
          0,
          15,
          0,
          0,
          457,
          3,
          0,
          0,
          0,
          51,
          51,
          7,
          0,
          0,
          27,
          8,
          0,
          65,
          11,
          0,
          0,
          16,
          0,
          94,
          0,
          0,
          4,
          22,
          0,
          367,
          26,
          0,
          0,
          41,
          48,
          101,
          34,
          36,
          0,
          394,
          17,
          17,
          0,
          18,
          17,
          0,
          18,
          74,
          0,
          17,
          17,
          41,
          0,
          292,
          10,
          10,
          99,
          43,
          196,
          4,
          7,
          96,
          0,
          107,
          9,
          37,
          61,
          20,
          37,
          13,
          7,
          22,
          100,
          0,
          8,
          7,
          0,
          185,
          0,
          162,
          143,
          140,
          60,
          143,
          44,
          35,
          31,
          28,
          28,
          267,
          10,
          40,
          32,
          15,
          0,
          31,
          10,
          8,
          0,
          9,
          0,
          0,
          6,
          3,
          3,
          11,
          0,
          0,
          403,
          26,
          78,
          9,
          31,
          81,
          21,
          27,
          0,
          74,
          22,
          3,
          52,
          27,
          9,
          0,
          24,
          22,
          21,
          217,
          78,
          46,
          403,
          157,
          240,
          36,
          3,
          81,
          76,
          36,
          324,
          0,
          132,
          78,
          5,
          0,
          403,
          0,
          81,
          89,
          0,
          0,
          74,
          0,
          0,
          11,
          4,
          3,
          134,
          142,
          0,
          83,
          43,
          16,
          0,
          0,
          0,
          67,
          193,
          112,
          0,
          0,
          0
         ],
         "yaxis": "y"
        },
        {
         "customdata": [
          [
           "Paris",
           5,
           "Habitación"
          ],
          [
           "Paris",
           4.94,
           "Alojamiento entero"
          ],
          [
           "Paris",
           0,
           "Alojamiento entero"
          ],
          [
           "Paris",
           5,
           "Alojamiento entero"
          ],
          [
           "Paris",
           0,
           "Alojamiento entero"
          ],
          [
           "Paris",
           4.83,
           "Alojamiento entero"
          ],
          [
           "Paris",
           0,
           "Alojamiento entero"
          ],
          [
           "Paris",
           0,
           "Alojamiento entero"
          ],
          [
           "Paris",
           0,
           "Alojamiento entero"
          ],
          [
           "Paris",
           0,
           "Alojamiento entero"
          ],
          [
           "Paris",
           5,
           "Alojamiento entero"
          ],
          [
           "Paris",
           4.92,
           "Alojamiento entero"
          ],
          [
           "Paris",
           4.97,
           "Alojamiento entero"
          ],
          [
           "Paris",
           0,
           "Alojamiento entero"
          ],
          [
           "Paris",
           4.94,
           "Alojamiento entero"
          ],
          [
           "Paris",
           0,
           "Alojamiento entero"
          ],
          [
           "Paris",
           5,
           "Alojamiento entero"
          ],
          [
           "Paris",
           5,
           "Alojamiento entero"
          ],
          [
           "Paris",
           4.96,
           "Alojamiento entero"
          ],
          [
           "Paris",
           4.98,
           "Alojamiento entero"
          ],
          [
           "Paris",
           5,
           "Alojamiento entero"
          ],
          [
           "Paris",
           5,
           "Alojamiento entero"
          ],
          [
           "Paris",
           4.97,
           "Alojamiento entero"
          ],
          [
           "Paris",
           4.9,
           "Habitación"
          ],
          [
           "Paris",
           3.67,
           "Alojamiento entero"
          ],
          [
           "Paris",
           4.94,
           "Alojamiento entero"
          ],
          [
           "Paris",
           0,
           "Alojamiento entero"
          ],
          [
           "Paris",
           5,
           "Alojamiento entero"
          ],
          [
           "Paris",
           5,
           "Alojamiento entero"
          ],
          [
           "Paris",
           5,
           "Alojamiento entero"
          ],
          [
           "Paris",
           5,
           "Alojamiento entero"
          ],
          [
           "Paris",
           5,
           "Alojamiento entero"
          ],
          [
           "Paris",
           4.98,
           "Alojamiento entero"
          ],
          [
           "Paris",
           0,
           "Alojamiento entero"
          ],
          [
           "Paris",
           0,
           "Alojamiento entero"
          ],
          [
           "Paris",
           0,
           "Alojamiento entero"
          ],
          [
           "Paris",
           5,
           "Alojamiento entero"
          ],
          [
           "Paris",
           4.71,
           "Alojamiento entero"
          ],
          [
           "Paris",
           0,
           "Alojamiento entero"
          ],
          [
           "Paris",
           0,
           "Alojamiento entero"
          ],
          [
           "Paris",
           5,
           "Alojamiento entero"
          ],
          [
           "Paris",
           5,
           "Alojamiento entero"
          ],
          [
           "Paris",
           0,
           "Alojamiento entero"
          ],
          [
           "Paris",
           0,
           "Alojamiento entero"
          ],
          [
           "Paris",
           0,
           "Alojamiento entero"
          ],
          [
           "Paris",
           4.78,
           "Alojamiento entero"
          ],
          [
           "Paris",
           4.6,
           "Alojamiento entero"
          ],
          [
           "Paris",
           5,
           "Alojamiento entero"
          ],
          [
           "Paris",
           5,
           "Alojamiento entero"
          ],
          [
           "Paris",
           4.79,
           "Alojamiento entero"
          ],
          [
           "Paris",
           0,
           "Alojamiento entero"
          ],
          [
           "Paris",
           5,
           "Alojamiento entero"
          ],
          [
           "Paris",
           5,
           "Alojamiento entero"
          ],
          [
           "Paris",
           5,
           "Alojamiento entero"
          ],
          [
           "Paris",
           5,
           "Alojamiento entero"
          ],
          [
           "Paris",
           4.95,
           "Habitación"
          ],
          [
           "Paris",
           0,
           "Alojamiento entero"
          ],
          [
           "Paris",
           4.97,
           "Habitación"
          ],
          [
           "Paris",
           0,
           "Alojamiento entero"
          ],
          [
           "Paris",
           0,
           "Alojamiento entero"
          ],
          [
           "Paris",
           0,
           "Alojamiento entero"
          ],
          [
           "Paris",
           4.6,
           "Alojamiento entero"
          ],
          [
           "Paris",
           4.88,
           "Alojamiento entero"
          ],
          [
           "Paris",
           4.97,
           "Alojamiento entero"
          ],
          [
           "Paris",
           4.94,
           "Alojamiento entero"
          ],
          [
           "Paris",
           0,
           "Alojamiento entero"
          ],
          [
           "Paris",
           0,
           "Alojamiento entero"
          ],
          [
           "Paris",
           4.94,
           "Alojamiento entero"
          ],
          [
           "Paris",
           4.96,
           "Alojamiento entero"
          ],
          [
           "Paris",
           0,
           "Alojamiento entero"
          ],
          [
           "Paris",
           4.94,
           "Alojamiento entero"
          ],
          [
           "Paris",
           4.96,
           "Alojamiento entero"
          ],
          [
           "Paris",
           0,
           "Alojamiento entero"
          ],
          [
           "Paris",
           4.9,
           "Alojamiento entero"
          ],
          [
           "Paris",
           4.99,
           "Alojamiento entero"
          ],
          [
           "Paris",
           4.81,
           "Alojamiento entero"
          ],
          [
           "Paris",
           0,
           "Alojamiento entero"
          ],
          [
           "Paris",
           0,
           "Alojamiento entero"
          ],
          [
           "Paris",
           4.55,
           "Alojamiento entero"
          ],
          [
           "Paris",
           4.78,
           "Alojamiento entero"
          ],
          [
           "Paris",
           4.92,
           "Alojamiento entero"
          ],
          [
           "Paris",
           4.6,
           "Alojamiento entero"
          ],
          [
           "Paris",
           4.55,
           "Alojamiento entero"
          ],
          [
           "Paris",
           0,
           "Alojamiento entero"
          ],
          [
           "Paris",
           0,
           "Alojamiento entero"
          ],
          [
           "Paris",
           0,
           "Alojamiento entero"
          ],
          [
           "Paris",
           0,
           "Alojamiento entero"
          ],
          [
           "Paris",
           0,
           "Alojamiento entero"
          ],
          [
           "Paris",
           4.89,
           "Alojamiento entero"
          ],
          [
           "Paris",
           4.89,
           "Alojamiento entero"
          ],
          [
           "Paris",
           4.69,
           "Alojamiento entero"
          ],
          [
           "Paris",
           4.56,
           "Alojamiento entero"
          ],
          [
           "Paris",
           4.27,
           "Alojamiento entero"
          ],
          [
           "Paris",
           0,
           "Alojamiento entero"
          ],
          [
           "Paris",
           5,
           "Alojamiento entero"
          ],
          [
           "Paris",
           0,
           "Alojamiento entero"
          ],
          [
           "Paris",
           5,
           "Alojamiento entero"
          ],
          [
           "Paris",
           5,
           "Alojamiento entero"
          ],
          [
           "Paris",
           5,
           "Alojamiento entero"
          ],
          [
           "Paris",
           5,
           "Alojamiento entero"
          ],
          [
           "Paris",
           5,
           "Alojamiento entero"
          ],
          [
           "Paris",
           4.63,
           "Alojamiento entero"
          ],
          [
           "Paris",
           4.67,
           "Alojamiento entero"
          ],
          [
           "Paris",
           4.97,
           "Habitación"
          ],
          [
           "Paris",
           5,
           "Alojamiento entero"
          ],
          [
           "Paris",
           5,
           "Alojamiento entero"
          ],
          [
           "Paris",
           5,
           "Alojamiento entero"
          ],
          [
           "Paris",
           0,
           "Alojamiento entero"
          ],
          [
           "Paris",
           0,
           "Alojamiento entero"
          ],
          [
           "Paris",
           5,
           "Alojamiento entero"
          ],
          [
           "Paris",
           5,
           "Alojamiento entero"
          ],
          [
           "Paris",
           5,
           "Alojamiento entero"
          ],
          [
           "Paris",
           5,
           "Alojamiento entero"
          ],
          [
           "Paris",
           5,
           "Alojamiento entero"
          ],
          [
           "Paris",
           5,
           "Alojamiento entero"
          ],
          [
           "Paris",
           5,
           "Alojamiento entero"
          ],
          [
           "Paris",
           5,
           "Alojamiento entero"
          ],
          [
           "Paris",
           5,
           "Alojamiento entero"
          ],
          [
           "Paris",
           4.92,
           "Alojamiento entero"
          ],
          [
           "Paris",
           5,
           "Alojamiento entero"
          ],
          [
           "Paris",
           4.9,
           "Alojamiento entero"
          ],
          [
           "Paris",
           5,
           "Alojamiento entero"
          ],
          [
           "Paris",
           5,
           "Alojamiento entero"
          ],
          [
           "Paris",
           0,
           "Alojamiento entero"
          ],
          [
           "Paris",
           4.9,
           "Alojamiento entero"
          ],
          [
           "Paris",
           5,
           "Alojamiento entero"
          ],
          [
           "Paris",
           5,
           "Alojamiento entero"
          ],
          [
           "Paris",
           5,
           "Alojamiento entero"
          ],
          [
           "Paris",
           4.93,
           "Alojamiento entero"
          ],
          [
           "Paris",
           4.94,
           "Alojamiento entero"
          ],
          [
           "Paris",
           0,
           "Alojamiento entero"
          ],
          [
           "Paris",
           4.94,
           "Alojamiento entero"
          ],
          [
           "Paris",
           5,
           "Alojamiento entero"
          ],
          [
           "Paris",
           4.88,
           "Alojamiento entero"
          ],
          [
           "Paris",
           4.98,
           "Alojamiento entero"
          ],
          [
           "Paris",
           4.98,
           "Alojamiento entero"
          ],
          [
           "Paris",
           4.94,
           "Alojamiento entero"
          ],
          [
           "Paris",
           4.99,
           "Alojamiento entero"
          ],
          [
           "Paris",
           4.87,
           "Alojamiento entero"
          ],
          [
           "Paris",
           5,
           "Alojamiento entero"
          ],
          [
           "Paris",
           4.96,
           "Alojamiento entero"
          ],
          [
           "Paris",
           4.95,
           "Alojamiento entero"
          ],
          [
           "Paris",
           4.99,
           "Alojamiento entero"
          ],
          [
           "Paris",
           5,
           "Alojamiento entero"
          ],
          [
           "Paris",
           4.86,
           "Alojamiento entero"
          ],
          [
           "Paris",
           5,
           "Alojamiento entero"
          ],
          [
           "Paris",
           4.86,
           "Alojamiento entero"
          ],
          [
           "Paris",
           5,
           "Alojamiento entero"
          ],
          [
           "Paris",
           5,
           "Alojamiento entero"
          ],
          [
           "Paris",
           5,
           "Alojamiento entero"
          ],
          [
           "Paris",
           4.9,
           "Alojamiento entero"
          ],
          [
           "Paris",
           5,
           "Alojamiento entero"
          ],
          [
           "Paris",
           4.9,
           "Habitación"
          ],
          [
           "Paris",
           4.96,
           "Alojamiento entero"
          ],
          [
           "Paris",
           0,
           "Alojamiento entero"
          ],
          [
           "Paris",
           4.99,
           "Alojamiento entero"
          ],
          [
           "Paris",
           0,
           "Alojamiento entero"
          ],
          [
           "Paris",
           5,
           "Alojamiento entero"
          ],
          [
           "Paris",
           4.95,
           "Habitación"
          ],
          [
           "Paris",
           0,
           "Alojamiento entero"
          ],
          [
           "Paris",
           4.88,
           "Alojamiento entero"
          ],
          [
           "Paris",
           4.85,
           "Alojamiento entero"
          ],
          [
           "Paris",
           5,
           "Alojamiento entero"
          ],
          [
           "Paris",
           4.96,
           "Alojamiento entero"
          ],
          [
           "Paris",
           4.65,
           "Alojamiento entero"
          ],
          [
           "Paris",
           4.92,
           "Alojamiento entero"
          ],
          [
           "Paris",
           4.93,
           "Alojamiento entero"
          ],
          [
           "Paris",
           0,
           "Alojamiento entero"
          ],
          [
           "Paris",
           4.97,
           "Alojamiento entero"
          ],
          [
           "Paris",
           4.97,
           "Alojamiento entero"
          ],
          [
           "Paris",
           4.98,
           "Alojamiento entero"
          ],
          [
           "Paris",
           4.71,
           "Alojamiento entero"
          ],
          [
           "Paris",
           4.98,
           "Habitación"
          ],
          [
           "Paris",
           4.99,
           "Alojamiento entero"
          ],
          [
           "Paris",
           4.96,
           "Alojamiento entero"
          ],
          [
           "Paris",
           4.8,
           "Alojamiento entero"
          ],
          [
           "Paris",
           4.99,
           "Alojamiento entero"
          ],
          [
           "Paris",
           0,
           "Alojamiento entero"
          ],
          [
           "Paris",
           4.83,
           "Alojamiento entero"
          ],
          [
           "Paris",
           4.94,
           "Alojamiento entero"
          ],
          [
           "Paris",
           4.89,
           "Alojamiento entero"
          ],
          [
           "Paris",
           4.91,
           "Alojamiento entero"
          ],
          [
           "Paris",
           4.98,
           "Habitación"
          ],
          [
           "Paris",
           4.95,
           "Alojamiento entero"
          ],
          [
           "Paris",
           5,
           "Alojamiento entero"
          ],
          [
           "Paris",
           4.65,
           "Alojamiento entero"
          ],
          [
           "Paris",
           5,
           "Alojamiento entero"
          ],
          [
           "Paris",
           0,
           "Alojamiento entero"
          ],
          [
           "Paris",
           4.92,
           "Habitación"
          ],
          [
           "Paris",
           4.98,
           "Alojamiento entero"
          ],
          [
           "Paris",
           5,
           "Alojamiento entero"
          ],
          [
           "Paris",
           4.9,
           "Alojamiento entero"
          ],
          [
           "Paris",
           5,
           "Alojamiento entero"
          ],
          [
           "Paris",
           5,
           "Alojamiento entero"
          ],
          [
           "Paris",
           4.88,
           "Alojamiento entero"
          ],
          [
           "Paris",
           4.86,
           "Alojamiento entero"
          ],
          [
           "Paris",
           4.92,
           "Alojamiento entero"
          ],
          [
           "Paris",
           0,
           "Alojamiento entero"
          ],
          [
           "Paris",
           4.86,
           "Alojamiento entero"
          ],
          [
           "Paris",
           0,
           "Alojamiento entero"
          ],
          [
           "Paris",
           5,
           "Alojamiento entero"
          ],
          [
           "Paris",
           0,
           "Alojamiento entero"
          ],
          [
           "Paris",
           5,
           "Alojamiento entero"
          ],
          [
           "Paris",
           5,
           "Alojamiento entero"
          ],
          [
           "Paris",
           4.76,
           "Alojamiento entero"
          ],
          [
           "Paris",
           4.92,
           "Alojamiento entero"
          ],
          [
           "Paris",
           4.96,
           "Alojamiento entero"
          ],
          [
           "Paris",
           4.88,
           "Alojamiento entero"
          ],
          [
           "Paris",
           4.96,
           "Alojamiento entero"
          ],
          [
           "Paris",
           4.95,
           "Alojamiento entero"
          ],
          [
           "Paris",
           4.92,
           "Alojamiento entero"
          ],
          [
           "Paris",
           4.92,
           "Alojamiento entero"
          ],
          [
           "Paris",
           5,
           "Alojamiento entero"
          ],
          [
           "Paris",
           0,
           "Alojamiento entero"
          ],
          [
           "Paris",
           4.86,
           "Alojamiento entero"
          ],
          [
           "Paris",
           0,
           "Alojamiento entero"
          ],
          [
           "Paris",
           4.94,
           "Alojamiento entero"
          ],
          [
           "Paris",
           4.75,
           "Alojamiento entero"
          ],
          [
           "Paris",
           5,
           "Alojamiento entero"
          ],
          [
           "Paris",
           4.92,
           "Alojamiento entero"
          ],
          [
           "Paris",
           5,
           "Alojamiento entero"
          ],
          [
           "Paris",
           5,
           "Alojamiento entero"
          ],
          [
           "Paris",
           0,
           "Alojamiento entero"
          ],
          [
           "Paris",
           4.87,
           "Alojamiento entero"
          ],
          [
           "Paris",
           5,
           "Alojamiento entero"
          ],
          [
           "Paris",
           5,
           "Alojamiento entero"
          ],
          [
           "Paris",
           4.85,
           "Alojamiento entero"
          ],
          [
           "Paris",
           4.95,
           "Alojamiento entero"
          ],
          [
           "Paris",
           4.91,
           "Alojamiento entero"
          ],
          [
           "Paris",
           4.85,
           "Alojamiento entero"
          ],
          [
           "Paris",
           4.95,
           "Alojamiento entero"
          ],
          [
           "Paris",
           5,
           "Alojamiento entero"
          ],
          [
           "Paris",
           5,
           "Alojamiento entero"
          ],
          [
           "Paris",
           4.75,
           "Alojamiento entero"
          ],
          [
           "Paris",
           4.96,
           "Alojamiento entero"
          ],
          [
           "Paris",
           0,
           "Alojamiento entero"
          ],
          [
           "Paris",
           0,
           "Alojamiento entero"
          ],
          [
           "Paris",
           5,
           "Alojamiento entero"
          ],
          [
           "Paris",
           4.9,
           "Alojamiento entero"
          ],
          [
           "Paris",
           0,
           "Alojamiento entero"
          ],
          [
           "Paris",
           4.94,
           "Alojamiento entero"
          ],
          [
           "Paris",
           4.86,
           "Alojamiento entero"
          ],
          [
           "Paris",
           4.88,
           "Alojamiento entero"
          ],
          [
           "Paris",
           4.96,
           "Alojamiento entero"
          ],
          [
           "Paris",
           4.94,
           "Alojamiento entero"
          ],
          [
           "Paris",
           4.82,
           "Alojamiento entero"
          ],
          [
           "Paris",
           4.8,
           "Alojamiento entero"
          ]
         ],
         "hovertemplate": "<b>%{hovertext}</b><br><br>City=%{customdata[0]}<br>Price per night=%{x}<br>Reviews=%{y}<br>rating=%{customdata[1]}<br>category=%{customdata[2]}<extra></extra>",
         "hovertext": [
          "Habitación de huéspedes balneoterapia Limeil-Brévannes",
          "Casa Nina, Suite de excepción",
          "Estudio en la calle la Boëtie",
          "Acogedor apartamento * Puertas de París * Pareja ideal",
          "2 habitaciones en París - Campos de Marte/Torre Eiffel",
          "Estudio con encanto bien situado",
          "Apartamento luminoso con vistas a los tejados",
          "¡Sol en el corazón de Le Marais!",
          "Appart Paris16 Tour Eiffel Troca",
          "La mejor vista de la torre Eiffel.",
          "Elegante art deco a pie de París 16.",
          "Amplio apartamento de 2 habitaciones con terraza",
          "Encantador estudio en un barrio animado",
          "Encanto de 2 habitaciones Montmartre",
          "Encanto y comodidad en el corazón de Batignolles",
          "Balcón | en el corazón del distrito 9",
          "Apartamento tranquilo en Montmartre - EasyHostin'",
          "Apartamento tranquilo en Montmartre - EasyHostin'",
          "Edgar Suites Bouchardon - Studio superior patio",
          "Encantador apartamento - Canal St Martin/République",
          "Apartamento tranquilo Abbesses Montmartre",
          "Increíble apartamento en Montmartre 2/4P",
          "Le Van Gogh Appart • 3'RER • 11'Paris • 23'Disney",
          "Ático Sky cerca de la torre Eiffel",
          "Acogedor apartamento para 2 -canal st Martin",
          "Gran apartamento acogedor a orillas del canal",
          "Un increíble 1-Br/1BA en Montmartre",
          "Lac du Panorama* cerca de París* aparcamiento privado *",
          "Impresionante apartamento de lujo moderno y reformado",
          "Escapada a la selva bajo el cielo parisino",
          "Lujoso Apartamento Jacuzzi cerca de París",
          "Apartamento T3 cerca de Montmartre",
          "Apto. 40M² Torre Eiffel - Puerta Versalles",
          "* Apartamento acogedor * Puertas de París*",
          "Acogedor apartamento cerca de Rivoli y del Museo del Louvre",
          "Hermoso apartamento con vistas a la Torre Eiffel",
          "Estudio céntrico +Wifi rápido + Desayuno + Vino",
          "Magnífico Apartamento 1BR/4P - Montorgueil 6",
          "Encantador apartamento en el corazón de París",
          "Un increíble 1-Br/1BA en Montmartre",
          "Luminoso y tranquilo, T2 equipado a 15 minutos de París",
          "Encanto urbano: 2 habitaciones Acogedor cerca de Accor Arena",
          "Luxury & Design Flat 1BR/4P- Bastille",
          "Luxueux 60m² central de Beaubourg",
          "Montmartre Duplex, Sacré-Cœur - Charming Hideaway",
          "Loft chic vintage Paris center",
          "Magnífico Apartamento 1BR/4P - Montorgueil 7",
          "Acogedor apartamento en Montmartre",
          "Suite de 3 habitaciones en París - Nation",
          "Ubicación superior - París/Disney/Montmartre",
          "Apartamento con encanto cerca de los Quais de Seine",
          "Acogedor apartamento en un callejón tranquilo",
          "Apartamento de diseño con vistas a París",
          "Superbe studio vue Tour Eiffel",
          "Encantador Père Lachaise de dos habitaciones",
          "Cerca de la Torre Eiffel, metro y comercios.",
          "Acogedora casa con terraza cerca del Canal Saint-Martin",
          "En el muelle, frente al Louvre, muy limpio, buen wifi",
          "Apartamento de 2 habitaciones luminoso",
          "Encantador estudio Montmartre en el último piso tranquilo",
          "Un increíble 1-Br/1BA en Montmartre",
          "Magnífico Apartamento 1BR/4P - Montorgueil 7",
          "París: apartamento tranquilo y luminoso",
          "Tour moderno estudio bail mobilité con vistas a Eiffel",
          "Apartamento recién renovado entre la Ópera y el Louvre",
          "Boisseau, 1Ch/1Sdb, 2 personas",
          "Balcón | en el corazón del distrito 9",
          "Diseño de 44m ² | CDG | París | Disney | Astérix",
          "Apartamento luminoso cerca de la plaza Léon Blum",
          "Boisseau, 1Ch/1Sdb, 2 personas",
          "Diseño de 44m ² | CDG | París | Disney | Astérix",
          "Apartamento luminoso cerca de la plaza Léon Blum",
          "Apartamento elegante en París y terraza",
          "Acogedor T2 con balcón -RER B/París",
          "Loft 52m²+estacionamiento a 15 min del centro de París",
          "Apartamento 1 BR con balcón - Chatelet/ París 2",
          "Luxueux 60m² central de Beaubourg",
          "Apartamento de 2 habitaciones luminoso",
          "LE MARAIS - NUEVO APARTAMENTO DE ALTA GAMA",
          "Loft chic vintage Paris center",
          "Maison Bůoise 1BR/3P con AC en los Campos Elíseos",
          "Magnífico Apartamento 1BR/4P - Montorgueil 4",
          "Precioso apartamento en el corazón del distrito 16",
          "Hermosa vista estudio París 17",
          "El Sorprendente - París",
          "Luxury & Design Flat 1BR/4P- Bastille",
          "Un increíble 1-Br/1BA en Montmartre",
          "El Sorprendente - París",
          "Apartamento de lujo de un dormitorio cerca del Louvre II",
          "1556: Estudio Madeleine en los Juegos Olímpicos de París 2024",
          "Increíble apartamento 1BR/4P - Montorgueil - 3",
          "INCREÍBLE LOFT HISTÓRICO PARISINO JUNTO A LA ZONA DEL LOUVRE! - 4",
          "*Encantador apartamento para 2 en Trocadéro - París 16*",
          "Apartamento de 2 habitaciones «como en casa»",
          "La Maison Kleber, Luxury 1BR Eiffel Champs-Elysées",
          "Piso de estilo con aire acondicionado en Marais en el último piso",
          "CityStay Confort 5 min en metro",
          "Amplio loft reformado con aire acondicionado",
          "Piso a 10 minutos del centro de París",
          "Luminoso apartamento de Batignolles con vistas a la Torre Eiffel",
          "Acogedor apartamento en Montmartre",
          "Magnífico Apartamento 1BR/4P - Montorgueil 5",
          "Ultra Central Historical Parisian Flat - Louvre",
          "En el muelle, frente al Louvre, muy limpio, buen wifi",
          "Apartamento atípico y encantador en el centro de Le Marais",
          "Apartamento romántico Montmartre & Pigalle",
          "Ambiente acogedor en el barrio superior a 15 minutos de París",
          "Acogedor apartamento con balcón cerca de Montmartre",
          "Marais - République",
          "Estudio Montmartre con balcón",
          "En el corazón de Montmartre",
          "L'Eden - Casa para 12 PERSONAS - París y Disney",
          "¡Airbnb de verdad, bienvenida a casa !",
          "Acogedor apartamento en el corazón de París Bonne Nouvelle",
          "Gran apartamento parisino a dos pasos del pantano",
          "Apartamento de arquitecto con terraza privada",
          "Apartamento parisino chic chic con vistas a la azotea",
          "Mon Boudoir a 10 min de París - 50m2",
          "Metro Line 1: Comfortable flat near La Défense",
          "Estudio Céntrico, Wifi + Desayuno + Vino",
          "Terraza floral, vista, relax asegurado",
          "Escapada romántica en Montmartre",
          "Acogedor encanto y elegancia parisina junto a Canal St. Martin",
          "Fantástico apartamento familiar a 20 minutos del centro",
          "Terraza floral, vista, relax asegurado",
          "Bohème-chic, zona Opéra-Grands Boulevards",
          "Encantador apartamento en el corazón de París",
          "Apartamento luminoso en el 10º",
          "Amplio estudio Montmartre Airco",
          "Elegante burbuja parisina enVillage Jourdain/Pyrénées",
          "Apartamento del arquitecto",
          "Arco de Triunfo ! Champs-Elysées ! Tranquilo y acogedor",
          "República, amplio y lujoso 2 habitaciones",
          "TRANQUILO PISO EN EL CORAZÓN DE PARIS",
          "Gran estudio en el centro de París, cerca del Louvre",
          "Apartment Studio de 25 m²: Le Marais, París.",
          "Apartamento de 2 habitaciones tranquilo en el jardín",
          "Fabuloso estudio en el corazón de Old Montmartre",
          "Estudio Petit - París 12",
          "Amplio y tranquilo apartamento de 2 dormitorios con aire acondicionado y patio",
          "Apartamento acogedor - Sentier",
          "2 habitaciones y balcón en casa de Pauline",
          "Fabuloso estudio en el corazón de Old Montmartre",
          "Amplio y tranquilo apartamento de 2 dormitorios con aire acondicionado y patio",
          "Piso del arquitecto en el canal",
          "Centro histórico Habitación, cocina, baño del estudiante.",
          "Saint-Germain-des-Près rue Échaudé",
          "Increíble apartamento 1BR/4P Le Marais",
          "Jardín secreto/ 75011 París",
          "Apartamento luminoso, cerca del metro, fácil acceso",
          "¡Suite de diseño con terraza privada en el centro de París!",
          "Encantador T2 a las puertas de París",
          "Suite entera Eiffel Premier",
          "París: apartamento a estrenar en residencia segura",
          "Apartamento con fantásticas vistas en Pantin - Welkeys",
          "#Paris 12 Gare de Lyon Bercy Accor Arena Bastille#",
          "Apartamento acogedor y luminoso",
          "Acogedor apartamento en el corazón de París",
          "París 12: habitación independiente con patio florido",
          "Apartamento tranquilo - Barrio Latino Mouftard",
          "Superanfitrión con encanto de 2 dormitorios en el corazón de París",
          "Excelente ubicación Paris Centre",
          "Dos habitaciones con encanto de Notre Dame",
          "Moderno, tranquilo y seguro en la ubicación correcta",
          "Magnífico Apartamento 1BR/4P - Montorgueil 2",
          "Estudio de lujo de clase alta rue Saint-Honoré",
          "Riviera Maya - Estación TGV 3 min a pie - Cerca de París",
          "Appartement Place Vendôme Paris",
          "Estudio o calma",
          "Apartamento 38 m² a Nation - 1 cama queen + 1 sofá cama",
          "Louvre - Acogedor estudio elegante - \"Emily in Paris\"",
          "Rue Vavin",
          "Amplio estudio en la agradable zona de Gambetta",
          "Loft Dúplex Luminoso con vistas + Estufa + Bañera",
          "Impresionante apartamento acogedor entre Disney y París",
          "Apartamento de 2 habitaciones en el centro de París",
          "Loft Dúplex Luminoso con vistas + Estufa + Bañera",
          "Appartement Place Vendôme Paris",
          "Otro lado",
          "Precioso loft en el corazón de París 501",
          "Jacuzzi Versailles - Sauna - C",
          "Encantador Maur Escape Apartment 3 minutos estación",
          "Amplio estudio en la agradable zona de Gambetta",
          "Suite de lujo con jardín privado Sauna y Jaccuzi",
          "Precioso apartamento con balcón, junto al Jardín de plantas.",
          "Magnífico Apartamento 1BR/4P - Montorgueil 2",
          "EL capullo soleado DEL NIDO totalmente equipado, en el centro de la ciudad",
          "Apartamento a 5 minutos de París Metro 7 Aparcamiento gratuito",
          "Escapada parisina",
          "Vive como un parisino",
          "¡El acogedor del 15!",
          "Acogedor apartamento 4P/1BR - Le Marais",
          "Estudio entre canal st martin y buttes-chaumont",
          "Apartamento en Trocadéro",
          "Dos habitaciones 42 m² reformado con aparcamiento gratuito",
          "Oasis Marais, un jardín en París",
          "Elegante apartamento cerca de los Campos Elíseos 403",
          "Precioso y acogedor de 2 habitaciones",
          "Canal de París Saint Martin 55m2",
          "Acogedora casa con terraza cerca del Canal Saint-Martin",
          "Lavie Maison : aire acondicionado y espacioso y centro de París",
          "Hermoso apartamento - París 11",
          "Apartamento con aire acondicionado, Barrio Latino, 40m2",
          "Precioso apartamento en la Bastilla, cerca de Marais",
          "Acogedor y tranquilo departamento entre el 11/Le Marais",
          "Torre Eiffel EN TU salón",
          "Elegante apartamento en el Palacio Real de RICHELIEU",
          "Encantador 40m2 barrio Saint-Maur",
          "Loft de lujo con aire acondicionado en París",
          "Excepcional 2 hermanos con una fantástica vista a la Torre Eiffel",
          "Nid Cosy proche Arc de Triomphe",
          "Marais: un dormitorio luminoso y decorado con gusto",
          "Estudio - Eiffel - Invalides - Rue Cler",
          "Apartamento luminoso con vistas a los tejados",
          "Loft parisino moderno cerca de varias líneas de metro",
          "Luxury & Design Flat 1BR/4P- Bastille",
          "EL acogedor apartamento con aire acondicionado de PALMERAS en el centro de París",
          "Encantador apartamento cerca de Marais/Sentier",
          "75m2 dúplex luminoso&confortable /habitación grande",
          "Escapada exclusiva: alojamiento Luxe en una ubicación privilegiada A21",
          "El Sagrado Corazón de París: unas vistas perfectas",
          "Casa acogedora - Rer C & A15",
          "Sublim apart «la marquise »paris centterrace 2bh",
          "Apartamento acogedor y encantador au coeur de París",
          "Encantador apartamento a 10 minutos a pie del metro 12 París",
          "Acogedor T2 Barrio de los Campos Elíseos (avenida Hoche)",
          "¡Maravilloso apartamento Saint Germain des Prés !",
          "Amplio apartamento renovado cerca del Louvre",
          "* Louvre Saint-Eustache Opéra * París",
          "¡Maravilloso apartamento Saint Germain des Prés !",
          "Paz - Apartamento luminoso y cómodo",
          "Encantador apartamento recientemente reformado en el día 7",
          "Luminoso apartamento en el corazón de Batignolles",
          "Obelisco de la Bastilla",
          "Estudio parisino cerca de la Torre Eiffel",
          "Luminoso apartamento para 2 personas justo al lado de París",
          "Vista rara, a dos pasos del Sena.",
          "Estudio de 16 m² en el 2º arr.",
          "Apartamento elegante en Montmartre",
          "Precioso Sacré-Cœur",
          "Cálido apartamento Montmartre - EasyHostin'",
          "Aparentemente muy céntrico en el corazón de París 35 m2",
          "PRECIOSO APARTAMENTO EN MONTORGUEIL PARIS",
          "2 habitaciones (43 m²), Place d 'Italie - París 13",
          "Apartamento muy tranquilo Ópera - Pigalle",
          "Apartamento de 2 habitaciones en el Canal Saint Martin",
          "La Diva - Le Haut Marais - With AirCon!"
         ],
         "legendgroup": "Paris",
         "marker": {
          "color": "#00cc96",
          "opacity": 0.5,
          "symbol": "circle"
         },
         "mode": "markers",
         "name": "Paris",
         "orientation": "v",
         "showlegend": true,
         "type": "scatter",
         "x": [
          186,
          379,
          100,
          89,
          130,
          86,
          86,
          300,
          250,
          240,
          265,
          130,
          110,
          99,
          210,
          164,
          179,
          179,
          308,
          140,
          145,
          138,
          110,
          280,
          87,
          180,
          168,
          140,
          191,
          152,
          128,
          190,
          130,
          136,
          261,
          120,
          180,
          188,
          219,
          176,
          67,
          95,
          289,
          220,
          219,
          182,
          196,
          130,
          198,
          160,
          280,
          155,
          196,
          90,
          120,
          130,
          117,
          163,
          140,
          95,
          176,
          196,
          115,
          140,
          281,
          220,
          164,
          71,
          180,
          220,
          71,
          180,
          160,
          70,
          91,
          247,
          220,
          140,
          179,
          182,
          205,
          214,
          187,
          90,
          223,
          299,
          176,
          223,
          481,
          180,
          251,
          272,
          140,
          70,
          325,
          444,
          114,
          319,
          70,
          135,
          130,
          218,
          184,
          163,
          540,
          235,
          54,
          114,
          349,
          120,
          205,
          279,
          220,
          269,
          189,
          110,
          715,
          65,
          68,
          180,
          140,
          165,
          315,
          286,
          140,
          234,
          290,
          350,
          150,
          124,
          124,
          250,
          169,
          100,
          210,
          178,
          140,
          216,
          96,
          378,
          240,
          184,
          216,
          378,
          143,
          110,
          220,
          350,
          280,
          80,
          596,
          82,
          150,
          200,
          92,
          124,
          160,
          301,
          100,
          150,
          295,
          100,
          135,
          162,
          212,
          150,
          83,
          159,
          75,
          154,
          275,
          180,
          100,
          100,
          85,
          170,
          100,
          159,
          96,
          229,
          134,
          72,
          100,
          396,
          260,
          212,
          145,
          90,
          169,
          250,
          137,
          228,
          138,
          315,
          69,
          150,
          258,
          62,
          110,
          117,
          453,
          144,
          250,
          190,
          130,
          288,
          533,
          125,
          129,
          601,
          120,
          228,
          143,
          86,
          140,
          299,
          191,
          276,
          150,
          408,
          125,
          45,
          240,
          134,
          71,
          130,
          150,
          292,
          426,
          150,
          110,
          325,
          320,
          162,
          180,
          59,
          140,
          100,
          145,
          109,
          200,
          111,
          199,
          107,
          230,
          101,
          190
         ],
         "xaxis": "x",
         "y": [
          34,
          196,
          0,
          0,
          0,
          0,
          0,
          0,
          0,
          0,
          20,
          62,
          174,
          0,
          18,
          0,
          9,
          9,
          24,
          0,
          17,
          0,
          29,
          230,
          3,
          17,
          0,
          0,
          4,
          3,
          17,
          3,
          87,
          0,
          0,
          0,
          24,
          0,
          0,
          0,
          5,
          8,
          0,
          0,
          0,
          27,
          0,
          5,
          29,
          14,
          0,
          6,
          31,
          17,
          6,
          186,
          0,
          331,
          0,
          0,
          0,
          0,
          16,
          91,
          150,
          0,
          0,
          0,
          25,
          0,
          0,
          25,
          0,
          10,
          0,
          132,
          0,
          0,
          121,
          27,
          62,
          0,
          0,
          0,
          0,
          0,
          0,
          0,
          27,
          9,
          0,
          0,
          11,
          0,
          0,
          0,
          6,
          52,
          3,
          3,
          5,
          0,
          0,
          331,
          18,
          25,
          18,
          0,
          0,
          7,
          22,
          0,
          3,
          67,
          45,
          12,
          0,
          24,
          257,
          29,
          10,
          3,
          0,
          0,
          10,
          6,
          0,
          8,
          472,
          72,
          0,
          17,
          10,
          416,
          42,
          135,
          16,
          124,
          30,
          0,
          23,
          21,
          124,
          0,
          29,
          10,
          304,
          3,
          21,
          4,
          80,
          0,
          249,
          114,
          0,
          99,
          0,
          56,
          354,
          0,
          230,
          86,
          3,
          100,
          0,
          97,
          107,
          0,
          32,
          32,
          51,
          7,
          60,
          83,
          224,
          20,
          83,
          0,
          47,
          16,
          9,
          23,
          60,
          22,
          19,
          0,
          25,
          0,
          79,
          148,
          20,
          0,
          10,
          12,
          223,
          29,
          152,
          0,
          0,
          0,
          8,
          0,
          37,
          29,
          29,
          215,
          0,
          32,
          138,
          138,
          13,
          132,
          0,
          0,
          84,
          0,
          154,
          0,
          3,
          0,
          19,
          4,
          0,
          0,
          34,
          34,
          20,
          366,
          99,
          20,
          79,
          0,
          16,
          4,
          26,
          0,
          0,
          0,
          30,
          0,
          18,
          0,
          182,
          0,
          18,
          17,
          241
         ],
         "yaxis": "y"
        }
       ],
       "layout": {
        "legend": {
         "title": {
          "text": "City"
         },
         "tracegroupgap": 0
        },
        "template": {
         "data": {
          "bar": [
           {
            "error_x": {
             "color": "#2a3f5f"
            },
            "error_y": {
             "color": "#2a3f5f"
            },
            "marker": {
             "line": {
              "color": "#E5ECF6",
              "width": 0.5
             },
             "pattern": {
              "fillmode": "overlay",
              "size": 10,
              "solidity": 0.2
             }
            },
            "type": "bar"
           }
          ],
          "barpolar": [
           {
            "marker": {
             "line": {
              "color": "#E5ECF6",
              "width": 0.5
             },
             "pattern": {
              "fillmode": "overlay",
              "size": 10,
              "solidity": 0.2
             }
            },
            "type": "barpolar"
           }
          ],
          "carpet": [
           {
            "aaxis": {
             "endlinecolor": "#2a3f5f",
             "gridcolor": "white",
             "linecolor": "white",
             "minorgridcolor": "white",
             "startlinecolor": "#2a3f5f"
            },
            "baxis": {
             "endlinecolor": "#2a3f5f",
             "gridcolor": "white",
             "linecolor": "white",
             "minorgridcolor": "white",
             "startlinecolor": "#2a3f5f"
            },
            "type": "carpet"
           }
          ],
          "choropleth": [
           {
            "colorbar": {
             "outlinewidth": 0,
             "ticks": ""
            },
            "type": "choropleth"
           }
          ],
          "contour": [
           {
            "colorbar": {
             "outlinewidth": 0,
             "ticks": ""
            },
            "colorscale": [
             [
              0,
              "#0d0887"
             ],
             [
              0.1111111111111111,
              "#46039f"
             ],
             [
              0.2222222222222222,
              "#7201a8"
             ],
             [
              0.3333333333333333,
              "#9c179e"
             ],
             [
              0.4444444444444444,
              "#bd3786"
             ],
             [
              0.5555555555555556,
              "#d8576b"
             ],
             [
              0.6666666666666666,
              "#ed7953"
             ],
             [
              0.7777777777777778,
              "#fb9f3a"
             ],
             [
              0.8888888888888888,
              "#fdca26"
             ],
             [
              1,
              "#f0f921"
             ]
            ],
            "type": "contour"
           }
          ],
          "contourcarpet": [
           {
            "colorbar": {
             "outlinewidth": 0,
             "ticks": ""
            },
            "type": "contourcarpet"
           }
          ],
          "heatmap": [
           {
            "colorbar": {
             "outlinewidth": 0,
             "ticks": ""
            },
            "colorscale": [
             [
              0,
              "#0d0887"
             ],
             [
              0.1111111111111111,
              "#46039f"
             ],
             [
              0.2222222222222222,
              "#7201a8"
             ],
             [
              0.3333333333333333,
              "#9c179e"
             ],
             [
              0.4444444444444444,
              "#bd3786"
             ],
             [
              0.5555555555555556,
              "#d8576b"
             ],
             [
              0.6666666666666666,
              "#ed7953"
             ],
             [
              0.7777777777777778,
              "#fb9f3a"
             ],
             [
              0.8888888888888888,
              "#fdca26"
             ],
             [
              1,
              "#f0f921"
             ]
            ],
            "type": "heatmap"
           }
          ],
          "heatmapgl": [
           {
            "colorbar": {
             "outlinewidth": 0,
             "ticks": ""
            },
            "colorscale": [
             [
              0,
              "#0d0887"
             ],
             [
              0.1111111111111111,
              "#46039f"
             ],
             [
              0.2222222222222222,
              "#7201a8"
             ],
             [
              0.3333333333333333,
              "#9c179e"
             ],
             [
              0.4444444444444444,
              "#bd3786"
             ],
             [
              0.5555555555555556,
              "#d8576b"
             ],
             [
              0.6666666666666666,
              "#ed7953"
             ],
             [
              0.7777777777777778,
              "#fb9f3a"
             ],
             [
              0.8888888888888888,
              "#fdca26"
             ],
             [
              1,
              "#f0f921"
             ]
            ],
            "type": "heatmapgl"
           }
          ],
          "histogram": [
           {
            "marker": {
             "pattern": {
              "fillmode": "overlay",
              "size": 10,
              "solidity": 0.2
             }
            },
            "type": "histogram"
           }
          ],
          "histogram2d": [
           {
            "colorbar": {
             "outlinewidth": 0,
             "ticks": ""
            },
            "colorscale": [
             [
              0,
              "#0d0887"
             ],
             [
              0.1111111111111111,
              "#46039f"
             ],
             [
              0.2222222222222222,
              "#7201a8"
             ],
             [
              0.3333333333333333,
              "#9c179e"
             ],
             [
              0.4444444444444444,
              "#bd3786"
             ],
             [
              0.5555555555555556,
              "#d8576b"
             ],
             [
              0.6666666666666666,
              "#ed7953"
             ],
             [
              0.7777777777777778,
              "#fb9f3a"
             ],
             [
              0.8888888888888888,
              "#fdca26"
             ],
             [
              1,
              "#f0f921"
             ]
            ],
            "type": "histogram2d"
           }
          ],
          "histogram2dcontour": [
           {
            "colorbar": {
             "outlinewidth": 0,
             "ticks": ""
            },
            "colorscale": [
             [
              0,
              "#0d0887"
             ],
             [
              0.1111111111111111,
              "#46039f"
             ],
             [
              0.2222222222222222,
              "#7201a8"
             ],
             [
              0.3333333333333333,
              "#9c179e"
             ],
             [
              0.4444444444444444,
              "#bd3786"
             ],
             [
              0.5555555555555556,
              "#d8576b"
             ],
             [
              0.6666666666666666,
              "#ed7953"
             ],
             [
              0.7777777777777778,
              "#fb9f3a"
             ],
             [
              0.8888888888888888,
              "#fdca26"
             ],
             [
              1,
              "#f0f921"
             ]
            ],
            "type": "histogram2dcontour"
           }
          ],
          "mesh3d": [
           {
            "colorbar": {
             "outlinewidth": 0,
             "ticks": ""
            },
            "type": "mesh3d"
           }
          ],
          "parcoords": [
           {
            "line": {
             "colorbar": {
              "outlinewidth": 0,
              "ticks": ""
             }
            },
            "type": "parcoords"
           }
          ],
          "pie": [
           {
            "automargin": true,
            "type": "pie"
           }
          ],
          "scatter": [
           {
            "marker": {
             "colorbar": {
              "outlinewidth": 0,
              "ticks": ""
             }
            },
            "type": "scatter"
           }
          ],
          "scatter3d": [
           {
            "line": {
             "colorbar": {
              "outlinewidth": 0,
              "ticks": ""
             }
            },
            "marker": {
             "colorbar": {
              "outlinewidth": 0,
              "ticks": ""
             }
            },
            "type": "scatter3d"
           }
          ],
          "scattercarpet": [
           {
            "marker": {
             "colorbar": {
              "outlinewidth": 0,
              "ticks": ""
             }
            },
            "type": "scattercarpet"
           }
          ],
          "scattergeo": [
           {
            "marker": {
             "colorbar": {
              "outlinewidth": 0,
              "ticks": ""
             }
            },
            "type": "scattergeo"
           }
          ],
          "scattergl": [
           {
            "marker": {
             "colorbar": {
              "outlinewidth": 0,
              "ticks": ""
             }
            },
            "type": "scattergl"
           }
          ],
          "scattermapbox": [
           {
            "marker": {
             "colorbar": {
              "outlinewidth": 0,
              "ticks": ""
             }
            },
            "type": "scattermapbox"
           }
          ],
          "scatterpolar": [
           {
            "marker": {
             "colorbar": {
              "outlinewidth": 0,
              "ticks": ""
             }
            },
            "type": "scatterpolar"
           }
          ],
          "scatterpolargl": [
           {
            "marker": {
             "colorbar": {
              "outlinewidth": 0,
              "ticks": ""
             }
            },
            "type": "scatterpolargl"
           }
          ],
          "scatterternary": [
           {
            "marker": {
             "colorbar": {
              "outlinewidth": 0,
              "ticks": ""
             }
            },
            "type": "scatterternary"
           }
          ],
          "surface": [
           {
            "colorbar": {
             "outlinewidth": 0,
             "ticks": ""
            },
            "colorscale": [
             [
              0,
              "#0d0887"
             ],
             [
              0.1111111111111111,
              "#46039f"
             ],
             [
              0.2222222222222222,
              "#7201a8"
             ],
             [
              0.3333333333333333,
              "#9c179e"
             ],
             [
              0.4444444444444444,
              "#bd3786"
             ],
             [
              0.5555555555555556,
              "#d8576b"
             ],
             [
              0.6666666666666666,
              "#ed7953"
             ],
             [
              0.7777777777777778,
              "#fb9f3a"
             ],
             [
              0.8888888888888888,
              "#fdca26"
             ],
             [
              1,
              "#f0f921"
             ]
            ],
            "type": "surface"
           }
          ],
          "table": [
           {
            "cells": {
             "fill": {
              "color": "#EBF0F8"
             },
             "line": {
              "color": "white"
             }
            },
            "header": {
             "fill": {
              "color": "#C8D4E3"
             },
             "line": {
              "color": "white"
             }
            },
            "type": "table"
           }
          ]
         },
         "layout": {
          "annotationdefaults": {
           "arrowcolor": "#2a3f5f",
           "arrowhead": 0,
           "arrowwidth": 1
          },
          "autotypenumbers": "strict",
          "coloraxis": {
           "colorbar": {
            "outlinewidth": 0,
            "ticks": ""
           }
          },
          "colorscale": {
           "diverging": [
            [
             0,
             "#8e0152"
            ],
            [
             0.1,
             "#c51b7d"
            ],
            [
             0.2,
             "#de77ae"
            ],
            [
             0.3,
             "#f1b6da"
            ],
            [
             0.4,
             "#fde0ef"
            ],
            [
             0.5,
             "#f7f7f7"
            ],
            [
             0.6,
             "#e6f5d0"
            ],
            [
             0.7,
             "#b8e186"
            ],
            [
             0.8,
             "#7fbc41"
            ],
            [
             0.9,
             "#4d9221"
            ],
            [
             1,
             "#276419"
            ]
           ],
           "sequential": [
            [
             0,
             "#0d0887"
            ],
            [
             0.1111111111111111,
             "#46039f"
            ],
            [
             0.2222222222222222,
             "#7201a8"
            ],
            [
             0.3333333333333333,
             "#9c179e"
            ],
            [
             0.4444444444444444,
             "#bd3786"
            ],
            [
             0.5555555555555556,
             "#d8576b"
            ],
            [
             0.6666666666666666,
             "#ed7953"
            ],
            [
             0.7777777777777778,
             "#fb9f3a"
            ],
            [
             0.8888888888888888,
             "#fdca26"
            ],
            [
             1,
             "#f0f921"
            ]
           ],
           "sequentialminus": [
            [
             0,
             "#0d0887"
            ],
            [
             0.1111111111111111,
             "#46039f"
            ],
            [
             0.2222222222222222,
             "#7201a8"
            ],
            [
             0.3333333333333333,
             "#9c179e"
            ],
            [
             0.4444444444444444,
             "#bd3786"
            ],
            [
             0.5555555555555556,
             "#d8576b"
            ],
            [
             0.6666666666666666,
             "#ed7953"
            ],
            [
             0.7777777777777778,
             "#fb9f3a"
            ],
            [
             0.8888888888888888,
             "#fdca26"
            ],
            [
             1,
             "#f0f921"
            ]
           ]
          },
          "colorway": [
           "#636efa",
           "#EF553B",
           "#00cc96",
           "#ab63fa",
           "#FFA15A",
           "#19d3f3",
           "#FF6692",
           "#B6E880",
           "#FF97FF",
           "#FECB52"
          ],
          "font": {
           "color": "#2a3f5f"
          },
          "geo": {
           "bgcolor": "white",
           "lakecolor": "white",
           "landcolor": "#E5ECF6",
           "showlakes": true,
           "showland": true,
           "subunitcolor": "white"
          },
          "hoverlabel": {
           "align": "left"
          },
          "hovermode": "closest",
          "mapbox": {
           "style": "light"
          },
          "paper_bgcolor": "white",
          "plot_bgcolor": "#E5ECF6",
          "polar": {
           "angularaxis": {
            "gridcolor": "white",
            "linecolor": "white",
            "ticks": ""
           },
           "bgcolor": "#E5ECF6",
           "radialaxis": {
            "gridcolor": "white",
            "linecolor": "white",
            "ticks": ""
           }
          },
          "scene": {
           "xaxis": {
            "backgroundcolor": "#E5ECF6",
            "gridcolor": "white",
            "gridwidth": 2,
            "linecolor": "white",
            "showbackground": true,
            "ticks": "",
            "zerolinecolor": "white"
           },
           "yaxis": {
            "backgroundcolor": "#E5ECF6",
            "gridcolor": "white",
            "gridwidth": 2,
            "linecolor": "white",
            "showbackground": true,
            "ticks": "",
            "zerolinecolor": "white"
           },
           "zaxis": {
            "backgroundcolor": "#E5ECF6",
            "gridcolor": "white",
            "gridwidth": 2,
            "linecolor": "white",
            "showbackground": true,
            "ticks": "",
            "zerolinecolor": "white"
           }
          },
          "shapedefaults": {
           "line": {
            "color": "#2a3f5f"
           }
          },
          "ternary": {
           "aaxis": {
            "gridcolor": "white",
            "linecolor": "white",
            "ticks": ""
           },
           "baxis": {
            "gridcolor": "white",
            "linecolor": "white",
            "ticks": ""
           },
           "bgcolor": "#E5ECF6",
           "caxis": {
            "gridcolor": "white",
            "linecolor": "white",
            "ticks": ""
           }
          },
          "title": {
           "x": 0.05
          },
          "xaxis": {
           "automargin": true,
           "gridcolor": "white",
           "linecolor": "white",
           "ticks": "",
           "title": {
            "standoff": 15
           },
           "zerolinecolor": "white",
           "zerolinewidth": 2
          },
          "yaxis": {
           "automargin": true,
           "gridcolor": "white",
           "linecolor": "white",
           "ticks": "",
           "title": {
            "standoff": 15
           },
           "zerolinecolor": "white",
           "zerolinewidth": 2
          }
         }
        },
        "title": {
         "text": "Reviews and price distribution by city"
        },
        "xaxis": {
         "anchor": "y",
         "domain": [
          0,
          1
         ],
         "title": {
          "text": "Price per night"
         }
        },
        "yaxis": {
         "anchor": "x",
         "domain": [
          0,
          1
         ],
         "title": {
          "text": "Reviews"
         }
        }
       }
      }
     },
     "metadata": {},
     "output_type": "display_data"
    }
   ],
   "source": [
    "reviews_price_distribution = px.scatter(\n",
    "    data_frame=airbnb_data,\n",
    "    x=\"price_per_night\",\n",
    "    y=\"reviews\",\n",
    "    hover_data=[\"city\", \"rating\", \"category\"],\n",
    "    hover_name=\"name\",\n",
    "    color=\"city\",\n",
    "    opacity=0.5,\n",
    "    title=\"Reviews and price distribution by city\",\n",
    "    labels={\"price_per_night\": \"Price per night\", \"reviews\": \"Reviews\", \"city\": \"City\"},\n",
    ")\n",
    "\n",
    "reviews_rating_distribution.write_html(FIG_DIR / \"reviews_price_distribution.html\")\n",
    "reviews_rating_distribution.write_image(FIG_DIR / \"reviews_price_distribution.png\")\n",
    "\n",
    "reviews_price_distribution.show()"
   ]
  },
  {
   "cell_type": "code",
   "execution_count": 102,
   "metadata": {},
   "outputs": [
    {
     "data": {
      "application/vnd.plotly.v1+json": {
       "config": {
        "plotlyServerURL": "https://plot.ly"
       },
       "data": [
        {
         "customdata": [
          [
           "Bern",
           4.68,
           "Alojamiento entero"
          ],
          [
           "Bern",
           0,
           "Alojamiento entero"
          ],
          [
           "Bern",
           5,
           "Habitación"
          ],
          [
           "Bern",
           4.84,
           "Alojamiento entero"
          ],
          [
           "Bern",
           0,
           "Habitación"
          ],
          [
           "Bern",
           4.84,
           "Habitación"
          ],
          [
           "Bern",
           4.87,
           "Alojamiento entero"
          ],
          [
           "Bern",
           5,
           "Alojamiento entero"
          ],
          [
           "Bern",
           4.93,
           "Habitación"
          ],
          [
           "Bern",
           0,
           "Habitación"
          ],
          [
           "Bern",
           4.94,
           "Habitación"
          ],
          [
           "Bern",
           4.82,
           "Habitación"
          ],
          [
           "Bern",
           4.86,
           "Alojamiento entero"
          ],
          [
           "Bern",
           4.91,
           "Alojamiento entero"
          ],
          [
           "Bern",
           5,
           "Alojamiento entero"
          ],
          [
           "Bern",
           0,
           "Alojamiento entero"
          ],
          [
           "Bern",
           5,
           "Habitación"
          ],
          [
           "Bern",
           4.99,
           "Alojamiento entero"
          ],
          [
           "Bern",
           4.93,
           "Alojamiento entero"
          ],
          [
           "Bern",
           4.95,
           "Alojamiento entero"
          ],
          [
           "Bern",
           4.92,
           "Alojamiento entero"
          ],
          [
           "Bern",
           4.93,
           "Habitación"
          ],
          [
           "Bern",
           4.82,
           "Habitación"
          ],
          [
           "Bern",
           4.89,
           "Alojamiento entero"
          ],
          [
           "Bern",
           5,
           "Alojamiento entero"
          ],
          [
           "Bern",
           4.81,
           "Habitación"
          ],
          [
           "Bern",
           4.86,
           "Habitación"
          ],
          [
           "Bern",
           4.76,
           "Alojamiento entero"
          ],
          [
           "Bern",
           5,
           "Alojamiento entero"
          ],
          [
           "Bern",
           4.81,
           "Alojamiento entero"
          ],
          [
           "Bern",
           0,
           "Habitación"
          ],
          [
           "Bern",
           4.97,
           "Habitación"
          ],
          [
           "Bern",
           4.64,
           "Alojamiento entero"
          ],
          [
           "Bern",
           4.81,
           "Habitación"
          ],
          [
           "Bern",
           0,
           "Alojamiento entero"
          ],
          [
           "Bern",
           4.7,
           "Alojamiento entero"
          ],
          [
           "Bern",
           4.93,
           "Alojamiento entero"
          ],
          [
           "Bern",
           4.72,
           "Habitación"
          ],
          [
           "Bern",
           0,
           "Alojamiento entero"
          ],
          [
           "Bern",
           4.7,
           "Alojamiento entero"
          ],
          [
           "Bern",
           4.72,
           "Habitación"
          ],
          [
           "Bern",
           4.68,
           "Alojamiento entero"
          ],
          [
           "Bern",
           4.75,
           "Alojamiento entero"
          ],
          [
           "Bern",
           4.81,
           "Alojamiento entero"
          ],
          [
           "Bern",
           4.57,
           "Habitación"
          ],
          [
           "Bern",
           4.73,
           "Alojamiento entero"
          ],
          [
           "Bern",
           4.82,
           "Alojamiento entero"
          ],
          [
           "Bern",
           0,
           "Alojamiento entero"
          ],
          [
           "Bern",
           4.83,
           "Habitación"
          ],
          [
           "Bern",
           4.9,
           "Alojamiento entero"
          ],
          [
           "Bern",
           4.86,
           "Alojamiento entero"
          ],
          [
           "Bern",
           4.94,
           "Habitación"
          ],
          [
           "Bern",
           0,
           "Alojamiento entero"
          ],
          [
           "Bern",
           4.79,
           "Habitación"
          ],
          [
           "Bern",
           0,
           "Alojamiento entero"
          ],
          [
           "Bern",
           4.96,
           "Habitación"
          ],
          [
           "Bern",
           4.68,
           "Alojamiento entero"
          ],
          [
           "Bern",
           4.98,
           "Alojamiento entero"
          ],
          [
           "Bern",
           5,
           "Alojamiento entero"
          ],
          [
           "Bern",
           4.81,
           "Alojamiento entero"
          ],
          [
           "Bern",
           5,
           "Alojamiento entero"
          ],
          [
           "Bern",
           4.97,
           "Habitación"
          ],
          [
           "Bern",
           4.96,
           "Alojamiento entero"
          ],
          [
           "Bern",
           4.73,
           "Alojamiento entero"
          ],
          [
           "Bern",
           0,
           "Habitación"
          ],
          [
           "Bern",
           4.75,
           "Alojamiento entero"
          ],
          [
           "Bern",
           4.82,
           "Habitación"
          ],
          [
           "Bern",
           4.93,
           "Habitación"
          ],
          [
           "Bern",
           4.91,
           "Alojamiento entero"
          ],
          [
           "Bern",
           4.9,
           "Alojamiento entero"
          ],
          [
           "Bern",
           4.94,
           "Alojamiento entero"
          ],
          [
           "Bern",
           4.94,
           "Habitación"
          ],
          [
           "Bern",
           5,
           "Alojamiento entero"
          ],
          [
           "Bern",
           4.97,
           "Alojamiento entero"
          ],
          [
           "Bern",
           4.91,
           "Alojamiento entero"
          ],
          [
           "Bern",
           4.98,
           "Alojamiento entero"
          ],
          [
           "Bern",
           4.95,
           "Alojamiento entero"
          ],
          [
           "Bern",
           4.95,
           "Alojamiento entero"
          ],
          [
           "Bern",
           4.88,
           "Habitación"
          ],
          [
           "Bern",
           4.82,
           "Habitación"
          ],
          [
           "Bern",
           5,
           "Alojamiento entero"
          ],
          [
           "Bern",
           4.88,
           "Alojamiento entero"
          ],
          [
           "Bern",
           0,
           "Habitación"
          ],
          [
           "Bern",
           4.8,
           "Alojamiento entero"
          ],
          [
           "Bern",
           4.8,
           "Alojamiento entero"
          ],
          [
           "Bern",
           4.8,
           "Alojamiento entero"
          ],
          [
           "Bern",
           4.67,
           "Alojamiento entero"
          ],
          [
           "Bern",
           4.94,
           "Alojamiento entero"
          ],
          [
           "Bern",
           4.7,
           "Alojamiento entero"
          ],
          [
           "Bern",
           4.75,
           "Alojamiento entero"
          ],
          [
           "Bern",
           4.72,
           "Alojamiento entero"
          ],
          [
           "Bern",
           4.81,
           "Alojamiento entero"
          ],
          [
           "Bern",
           5,
           "Alojamiento entero"
          ],
          [
           "Bern",
           4.67,
           "Alojamiento entero"
          ],
          [
           "Bern",
           4.58,
           "Alojamiento entero"
          ],
          [
           "Bern",
           4.71,
           "Alojamiento entero"
          ],
          [
           "Bern",
           4.82,
           "Alojamiento entero"
          ],
          [
           "Bern",
           4.6,
           "Alojamiento entero"
          ],
          [
           "Bern",
           4.82,
           "Alojamiento entero"
          ],
          [
           "Bern",
           5,
           "Alojamiento entero"
          ],
          [
           "Bern",
           5,
           "Alojamiento entero"
          ],
          [
           "Bern",
           5,
           "Alojamiento entero"
          ],
          [
           "Bern",
           5,
           "Alojamiento entero"
          ],
          [
           "Bern",
           0,
           "Alojamiento entero"
          ],
          [
           "Bern",
           0,
           "Alojamiento entero"
          ],
          [
           "Bern",
           5,
           "Alojamiento entero"
          ],
          [
           "Bern",
           5,
           "Alojamiento entero"
          ],
          [
           "Bern",
           5,
           "Alojamiento entero"
          ],
          [
           "Bern",
           5,
           "Alojamiento entero"
          ],
          [
           "Bern",
           4.99,
           "Alojamiento entero"
          ],
          [
           "Bern",
           4.99,
           "Alojamiento entero"
          ],
          [
           "Bern",
           4.98,
           "Alojamiento entero"
          ],
          [
           "Bern",
           5,
           "Alojamiento entero"
          ],
          [
           "Bern",
           4.82,
           "Habitación"
          ],
          [
           "Bern",
           4.87,
           "Alojamiento entero"
          ],
          [
           "Bern",
           4.98,
           "Alojamiento entero"
          ],
          [
           "Bern",
           0,
           "Alojamiento entero"
          ],
          [
           "Bern",
           4.99,
           "Alojamiento entero"
          ],
          [
           "Bern",
           4.97,
           "Habitación"
          ],
          [
           "Bern",
           4.95,
           "Alojamiento entero"
          ],
          [
           "Bern",
           0,
           "Alojamiento entero"
          ],
          [
           "Bern",
           5,
           "Alojamiento entero"
          ],
          [
           "Bern",
           4.8,
           "Alojamiento entero"
          ],
          [
           "Bern",
           5,
           "Alojamiento entero"
          ],
          [
           "Bern",
           5,
           "Alojamiento entero"
          ],
          [
           "Bern",
           4.94,
           "Alojamiento entero"
          ],
          [
           "Bern",
           4.94,
           "Alojamiento entero"
          ],
          [
           "Bern",
           4.98,
           "Alojamiento entero"
          ],
          [
           "Bern",
           5,
           "Alojamiento entero"
          ],
          [
           "Bern",
           4.99,
           "Alojamiento entero"
          ],
          [
           "Bern",
           5,
           "Alojamiento entero"
          ],
          [
           "Bern",
           5,
           "Alojamiento entero"
          ],
          [
           "Bern",
           4.94,
           "Alojamiento entero"
          ],
          [
           "Bern",
           0,
           "Habitación"
          ],
          [
           "Bern",
           5,
           "Alojamiento entero"
          ],
          [
           "Bern",
           5,
           "Alojamiento entero"
          ],
          [
           "Bern",
           4.98,
           "Alojamiento entero"
          ],
          [
           "Bern",
           4.97,
           "Alojamiento entero"
          ],
          [
           "Bern",
           4.98,
           "Alojamiento entero"
          ],
          [
           "Bern",
           4.95,
           "otro"
          ],
          [
           "Bern",
           4.93,
           "Alojamiento entero"
          ],
          [
           "Bern",
           4.99,
           "Alojamiento entero"
          ],
          [
           "Bern",
           4.92,
           "Alojamiento entero"
          ],
          [
           "Bern",
           4.98,
           "Alojamiento entero"
          ],
          [
           "Bern",
           4.98,
           "Alojamiento entero"
          ],
          [
           "Bern",
           5,
           "Alojamiento entero"
          ],
          [
           "Bern",
           5,
           "Alojamiento entero"
          ],
          [
           "Bern",
           4.98,
           "Alojamiento entero"
          ],
          [
           "Bern",
           4.96,
           "Alojamiento entero"
          ],
          [
           "Bern",
           5,
           "Alojamiento entero"
          ],
          [
           "Bern",
           5,
           "Habitación"
          ],
          [
           "Bern",
           4.93,
           "Alojamiento entero"
          ],
          [
           "Bern",
           4.94,
           "Alojamiento entero"
          ],
          [
           "Bern",
           4.98,
           "Habitación"
          ],
          [
           "Bern",
           4.88,
           "Alojamiento entero"
          ],
          [
           "Bern",
           5,
           "Alojamiento entero"
          ],
          [
           "Bern",
           4.98,
           "Alojamiento entero"
          ],
          [
           "Bern",
           4.88,
           "Habitación"
          ],
          [
           "Bern",
           5,
           "Habitación"
          ],
          [
           "Bern",
           4.98,
           "Alojamiento entero"
          ],
          [
           "Bern",
           5,
           "Alojamiento entero"
          ],
          [
           "Bern",
           5,
           "Alojamiento entero"
          ],
          [
           "Bern",
           4.88,
           "Alojamiento entero"
          ],
          [
           "Bern",
           5,
           "Alojamiento entero"
          ],
          [
           "Bern",
           4.98,
           "Alojamiento entero"
          ],
          [
           "Bern",
           4.98,
           "Alojamiento entero"
          ],
          [
           "Bern",
           5,
           "Alojamiento entero"
          ],
          [
           "Bern",
           4.84,
           "Alojamiento entero"
          ],
          [
           "Bern",
           5,
           "Alojamiento entero"
          ],
          [
           "Bern",
           5,
           "Alojamiento entero"
          ],
          [
           "Bern",
           5,
           "otro"
          ],
          [
           "Bern",
           4.96,
           "Alojamiento entero"
          ],
          [
           "Bern",
           4.98,
           "Habitación"
          ],
          [
           "Bern",
           4.82,
           "Alojamiento entero"
          ],
          [
           "Bern",
           5,
           "Alojamiento entero"
          ],
          [
           "Bern",
           5,
           "Alojamiento entero"
          ],
          [
           "Bern",
           5,
           "Alojamiento entero"
          ],
          [
           "Bern",
           5,
           "Alojamiento entero"
          ],
          [
           "Bern",
           5,
           "Alojamiento entero"
          ],
          [
           "Bern",
           5,
           "Alojamiento entero"
          ],
          [
           "Bern",
           4.8,
           "Alojamiento entero"
          ],
          [
           "Bern",
           0,
           "Alojamiento entero"
          ],
          [
           "Bern",
           4.88,
           "Alojamiento entero"
          ],
          [
           "Bern",
           4.98,
           "Alojamiento entero"
          ],
          [
           "Bern",
           5,
           "Alojamiento entero"
          ],
          [
           "Bern",
           5,
           "otro"
          ],
          [
           "Bern",
           4.97,
           "Habitación"
          ],
          [
           "Bern",
           4.85,
           "Alojamiento entero"
          ],
          [
           "Bern",
           5,
           "Alojamiento entero"
          ],
          [
           "Bern",
           4.98,
           "Habitación"
          ],
          [
           "Bern",
           5,
           "Alojamiento entero"
          ],
          [
           "Bern",
           0,
           "Alojamiento entero"
          ],
          [
           "Bern",
           4.98,
           "Alojamiento entero"
          ],
          [
           "Bern",
           5,
           "Alojamiento entero"
          ],
          [
           "Bern",
           4.91,
           "Alojamiento entero"
          ],
          [
           "Bern",
           4.83,
           "Alojamiento entero"
          ],
          [
           "Bern",
           4.96,
           "Alojamiento entero"
          ],
          [
           "Bern",
           5,
           "Alojamiento entero"
          ],
          [
           "Bern",
           4.99,
           "Alojamiento entero"
          ],
          [
           "Bern",
           5,
           "otro"
          ],
          [
           "Bern",
           4.98,
           "otro"
          ],
          [
           "Bern",
           4.85,
           "Habitación"
          ],
          [
           "Bern",
           4.91,
           "Alojamiento entero"
          ],
          [
           "Bern",
           4.97,
           "Habitación"
          ],
          [
           "Bern",
           4.98,
           "Alojamiento entero"
          ],
          [
           "Bern",
           4.95,
           "Alojamiento entero"
          ],
          [
           "Bern",
           5,
           "Alojamiento entero"
          ],
          [
           "Bern",
           4.99,
           "Alojamiento entero"
          ],
          [
           "Bern",
           4.97,
           "Alojamiento entero"
          ],
          [
           "Bern",
           4.98,
           "Alojamiento entero"
          ],
          [
           "Bern",
           4.75,
           "Alojamiento entero"
          ],
          [
           "Bern",
           0,
           "Alojamiento entero"
          ],
          [
           "Bern",
           4.94,
           "Alojamiento entero"
          ],
          [
           "Bern",
           4.96,
           "Alojamiento entero"
          ],
          [
           "Bern",
           0,
           "Alojamiento entero"
          ],
          [
           "Bern",
           4.98,
           "Alojamiento entero"
          ],
          [
           "Bern",
           4.97,
           "Habitación"
          ],
          [
           "Bern",
           0,
           "Habitación"
          ],
          [
           "Bern",
           4.89,
           "Alojamiento entero"
          ],
          [
           "Bern",
           4.98,
           "Alojamiento entero"
          ],
          [
           "Bern",
           4.86,
           "Alojamiento entero"
          ],
          [
           "Bern",
           4.98,
           "Alojamiento entero"
          ],
          [
           "Bern",
           4.75,
           "Alojamiento entero"
          ],
          [
           "Bern",
           5,
           "otro"
          ],
          [
           "Bern",
           4.97,
           "Alojamiento entero"
          ],
          [
           "Bern",
           0,
           "Alojamiento entero"
          ],
          [
           "Bern",
           5,
           "Alojamiento entero"
          ],
          [
           "Bern",
           4.99,
           "Alojamiento entero"
          ],
          [
           "Bern",
           4.74,
           "Alojamiento entero"
          ],
          [
           "Bern",
           4.96,
           "Alojamiento entero"
          ],
          [
           "Bern",
           4.95,
           "Alojamiento entero"
          ],
          [
           "Bern",
           4.94,
           "Alojamiento entero"
          ],
          [
           "Bern",
           5,
           "Alojamiento entero"
          ],
          [
           "Bern",
           4.96,
           "Alojamiento entero"
          ],
          [
           "Bern",
           5,
           "Alojamiento entero"
          ],
          [
           "Bern",
           4.82,
           "Alojamiento entero"
          ],
          [
           "Bern",
           4.95,
           "Alojamiento entero"
          ],
          [
           "Bern",
           4.91,
           "Alojamiento entero"
          ],
          [
           "Bern",
           4.97,
           "Alojamiento entero"
          ],
          [
           "Bern",
           0,
           "Alojamiento entero"
          ],
          [
           "Bern",
           4.97,
           "Alojamiento entero"
          ],
          [
           "Bern",
           4.78,
           "Alojamiento entero"
          ],
          [
           "Bern",
           4.97,
           "Alojamiento entero"
          ],
          [
           "Bern",
           4.89,
           "Alojamiento entero"
          ],
          [
           "Bern",
           4.96,
           "Alojamiento entero"
          ],
          [
           "Bern",
           0,
           "Alojamiento entero"
          ],
          [
           "Bern",
           4.4,
           "Alojamiento entero"
          ],
          [
           "Bern",
           4.86,
           "Alojamiento entero"
          ],
          [
           "Bern",
           4.9,
           "Alojamiento entero"
          ],
          [
           "Bern",
           4.83,
           "Habitación"
          ],
          [
           "Bern",
           5,
           "Alojamiento entero"
          ],
          [
           "Bern",
           4.99,
           "Alojamiento entero"
          ]
         ],
         "hovertemplate": "<b>%{hovertext}</b><br><br>City=%{customdata[0]}<br>Price per night (log scale)=%{x}<br>Reviews (log scale)=%{y}<br>rating=%{customdata[1]}<br>category=%{customdata[2]}<extra></extra>",
         "hovertext": [
          "Acogedor apartamento privado en el centro de Berna",
          "Exclusivo departamento urbano",
          "Sala de estar en Berna",
          "Apartamento en el casco antiguo",
          "Habitación en Freimettigen",
          "Ice Attic-Apt, casco antiguo, a 3 minutos de la estación de tren",
          "N.º 2 apartamento acogedor y céntrico",
          "Habitación en el espejo BE, a 10 de Berna",
          "Habitación soleada, súper central, estación de Berna a 5 minutos a pie",
          "Como si estuvieras en casa",
          "Habitación ático con vistas increíbles",
          "Hermosa habitación en el casco antiguo de Berna",
          "Precioso apartamento de 1 habitación con terraza y cerca de la Universidad",
          "Acogedor apartamento con patio privado en el corazón de Berna",
          "Habitación, Thörishaus Dorf, \"Kellerstudio\"",
          "cHEaRT de BErn – URBErN Pulse",
          "Cómoda Habitación cerca del centro de Berna",
          "\"B&B alba\" en loft atmosférico y silencioso",
          "Logotipo céntrico y moderno de 1 habitación",
          "Apartamento entero en Europaplatz",
          "Apartamento de negocios moderno - Insel",
          "Habitación en el centro de Berna",
          "¡Pequeño pero bonito! ¡Bonito y completo!",
          "Vista al Emmental: habitación con baño",
          "Activo",
          "Apartamento azul, casco antiguo, a 3 minutos de la estación de tren de Berna.",
          "Habitación tranquila, super céntrica, a 5 minutos de la estación de tren",
          "Apartamento vintage, casco antiguo, a 3 minutos a pie de la estación de Berna",
          "LentulusSkyAppartement",
          "Modern City/ Business Studio",
          "Encantadora habitación individual tranquila",
          "Cama en un barrio agradable y tranquilo.",
          "Encantador apartamento en la ciudad de Berna",
          "Habitaciones con baño y acceso privado",
          "Apartamento espacioso y silencioso en el centro de la ciudad de Berna",
          "Nuevo apartamento renovado cerca del centro de Berna",
          "Apartamento estudio de diseño en Berna - Breitenrain",
          "Amplia habitación soleada, casco antiguo, a 3 minutos de la estación de Berna",
          "Apartamento espacioso y silencioso en el centro de la ciudad de Berna",
          "Nuevo apartamento renovado cerca del centro de Berna",
          "Acogedor dormitorio privado a 4 minutos del centro de la ciudad",
          "Artista en The Green Park",
          "Attic-Apt & Roof Terrace, OldTown, a 3 minutos de la estación",
          "Diseño de ensueño",
          "Habitación preciosa cerca de la ciudad de Berna",
          "Apartamento en Little Park",
          "Fantástico ático en Berna",
          "Apartamento de 1 habitación cerca del centro",
          "Cama en dormitorio en el Hostal 77 Berna",
          "Estudio soleado y relajante",
          "Apartamento céntrico en Stadt Bern",
          "habitación cerca del centro",
          "la mejor ubicación, moderno apartamento urbano",
          "Habitación tranquila con balcón cerca de la estación principal.",
          "la mejor ubicación, moderno apartamento urbano",
          "Estudio de 1 habitación con cocina",
          "Artista en The Green Park",
          "Luminoso, moderno, con asientos en el jardín,",
          "2.5 habitaciones, ubicación superior, tranquilo, ideal para los usuarios de Apple",
          "Apartamento nuevo totalmente equipado cerca del centro de Berna",
          "Encantador estudio central en Berna",
          "Cama en un barrio agradable y tranquilo.",
          "Estilo vintage verde, cerca de la ciudad",
          "Apartamento en Little Park",
          "Como si estuvieras en casa",
          "Bonito apartamento en ático loft con terraza y bañera de hidromasaje",
          "¡Pequeño pero bonito! ¡Bonito y completo!",
          "Habitación en el centro de Berna",
          "Apartamento en barrio tranquilo y verde",
          "Apartamento de 2,5 habitaciones con patio en Liebewil",
          "Apartamento nuevo a estrenar sobre los techos de Berna",
          "Estancia NONO, ubicación privilegiada",
          "Elegante apartamento en el casco antiguo an der Kramgasse",
          "Apartamento dúplex en el borde del bosque",
          "Tranquilo Ático-Apto., Super céntrico",
          "Apartamento urbano en el corazón de Berna incl. piscina",
          "Acogedor apartamento estudio con patio (terraza)",
          "Apartamento entero de 2 habitaciones (planta baja) en Berna- Bümpliz",
          "Apartamento rojo, casco antiguo, a 3 minutos de la estación de tren",
          "Orange Apt., casco antiguo, a 3 minutos de la estación de tren de Berna.",
          "Apartamento en el centro de la ciudad",
          "Apartamento en ático de 2 habitaciones Wohlensee",
          "Como si estuvieras en casa",
          "Comfort Apt., casco antiguo, a 3 minutos de la estación de Berna.",
          "El encantador apartamento de Grandy junto al río Aare",
          "Acogedor salón 1,5: Comodidad y Silencio",
          "Apt Estudio completo Centro Berna",
          "Diseña en el antiguo edificio Breitenrain para que te sientas bien",
          "Estudio de la ciudad, casco antiguo, a 3 minutos de la estación de Berna",
          "Tranquilo y elegante apartamento con jardín a 10 minutos del centro",
          "encantador apartamento de 1 habitación en el corazón de Berna",
          "Apartamento nuevo totalmente equipado cerca del centro de Berna",
          "City Center Studio",
          "Apt Estudio completo Centro Berna",
          "Maisonette para 6 personas, ubicación súper céntrica",
          "Top Central Apart en Berna",
          "Piso dulce en el corazón de Berna",
          "Precioso apartamento en la azotea",
          "Apartamento de 2,5 habitaciones con balcón y vistas",
          "Encantador apartamento en el barrio de moda de Länggasse",
          "Apartamento de 1 dormitorio con chimenea y terraza privada",
          "Idílico apartamento de 2 habitaciones en el campo",
          "Loft con estilo en uno de los mejores barrios de Berna",
          "NEB-Thun apartment near Interlaken and Thun",
          "Apartamento de 2 habitaciones en la ciudad más bonita de Suiza",
          "Sweet Retreat con Dreamy Lakeviews",
          "Mountain Lodge *Nature *Queen Beds *Estacionamiento gratis",
          "Estudio con vistas al lago y a la montaña",
          "Estudio con vistas al lago y a la montaña",
          "Schönes Studio en Steffisburg",
          "Hermoso departamento con vista a la montaña y jacuzzi",
          "Bonito estudio con aparcamiento",
          "Cómodo apartamento en el ático en una granja",
          "Granja",
          "Loft en el borde verde de Berna cerca del río Aare",
          "Precioso y acogedor apartamento de 2 habitaciones, céntricoy tranquilo",
          "Altbau-Bijou im Breitenrain",
          "(b) (estudio)",
          "2 habitaciones privadas en una gran casa de los años 20",
          "Apartamento tranquilo con vistas excepcionales",
          "Apartamento de lujo de un dormitorio",
          "Mi alojamiento es mi castillo",
          "Armotti Friedheim 2 dormitorios y oficina en el hogar",
          "Encantador estudio en el casco antiguo",
          "Arquitectura. Pura. Lujo.",
          "Diseño de apartamentos cerca de la ciudad y la naturaleza",
          "Diseña en el antiguo edificio Breitenrain para que te sientas bien",
          "Casa de campo galardonada de nueva construcción en el lago Thun.",
          "Bonito apartamento cerca del lago",
          "Studio-Apartment \"Lakeland\"",
          "Descansa tranquilo con vistas al lago /a la montaña/aparcamiento gratuito.",
          "Hogar para los amantes",
          "¡Gran apartamento con todo lo que tu corazón desea!",
          "Acogedora habitación de maisonette cerca del centro de la ciudad",
          "Pequeña casa rural romántica \"Bödeliweidli\"",
          "Estudio moderno con vistas espectaculares",
          "1, 5 Habitaciones Bijou Mittagsfluh",
          "Ático de la parte superior en Berna",
          "Apartamento con vistas bonitas",
          "Vacaciones en la finca con una vista única.",
          "Hermoso, luminoso y tranquilo apartamento cerca de Berna",
          "Chalet para amantes de la naturaleza",
          "Loft P8: Amplio con esa cosa especial",
          "En el céntrico, tranquilo, cerca de tren y autobús, cerca de la naturaleza",
          "Acogedor apartamento de 1 habitación",
          "Casa céntrica en Zollikofen",
          "2 habitaciones amuebladas en planta baja",
          "Estudio con terraza en Charmey",
          "Chalet con vistas excepcionales",
          "Lujoso apartamento con vistas al lago Panorama, aparcamiento, tranquilo",
          "Habitación muy cómoda",
          "Thun City Apartment",
          "Ático bien diseñado",
          "1-2 habitaciones, 4 km de Berna en el área recreativa",
          "Estudio muy cómodo",
          "Apartamento",
          "Chalet en Gruyère, magníficas vistas",
          "Lugar mágico de Beatenberg y sala morada",
          "Cama «bir hübelihäx» - Desayuno en Wunsch",
          "Apartamento con luz alpina, piscina climatizada, jardín",
          "Pequeño loft lleno de luz en el campo, edificio nuevo",
          "Hübeli Lodge",
          "Estudio muy cómodo",
          "Lujoso apartamento con vistas al lago Panorama, aparcamiento, tranquilo",
          "Apartamento con luz alpina, piscina climatizada, jardín",
          "Chalet en Gruyère, magníficas vistas",
          "La petite Marie Louise",
          "Estudio Lichtena",
          "2 habitaciones amuebladas en planta baja",
          "Apartamento del casco antiguo en el corazón de Thun con jardín",
          "Stöckli apto para familias con ollas calientes/alpacas",
          "Apartamento en la habitación con encanto.",
          "1-2 habitaciones, 4 km de Berna en el área recreativa",
          "chalet wohnspycher blockhaus (sin aire acondicionado)",
          "Hübeli Lodge",
          "Idílica casa de madera en el borde del bosque",
          "Apartamento",
          "Chalet \"ZUM SCHNÜFU\" en el Salwald",
          "Pequeño loft lleno de luz en el campo, edificio nuevo",
          "Apartamento chalet soleado en parque natural",
          "N.º 1 apartamento acogedor y céntrico",
          "Edificio antiguo departamento an der Aare",
          "Acogedora, encantadora y céntrica 3,5 habitaciones en Biel",
          "Casa-Margarita: apartamento de 2,5 habitaciones, buena vista.",
          "2 habitaciones amuebladas en planta baja",
          "Tiny de l'Aigle (La Tiny de l' Aigle)",
          "Habitación tranquila en el centro de Berna",
          "Apartamento estudio con estacionamiento y jardín privado",
          "Pequeño loft lleno de luz en el campo, edificio nuevo",
          "1-2 habitaciones, 4 km de Berna en el área recreativa",
          "Casa céntrica en Zollikofen",
          "En mitad de Berna",
          "Chalet con vistas a la montaña",
          "Apartamento",
          "Lakeview Gem",
          "Maravilloso lugar para relajarse cerca de la ciudad",
          "Armotti: ultra comodidad con la mejor velocidad de internet",
          "\"caroleandclaus\"Precioso apartamento en Berna-Wabern",
          "Apartamento. Acogedor con vistas al parque Chasseral",
          "Tiny de l'Aigle (La Tiny de l' Aigle)",
          "Hay lugares, en nuestra tierra, que tienen alma",
          "Oasis de bienestar entre la capital y la naturaleza",
          "Lakeview Gem",
          "Habitación tranquila en el centro de Berna",
          "Chalet con vistas a la montaña",
          "Un paraíso familiar.",
          "Pequeño loft lleno de luz en el campo, edificio nuevo",
          "Villars-sur-Glâne - estudio independiente",
          "Apartamento de 2 habitaciones con vistas a las montañas y al castillo",
          "La casa en azoteas y la casa del lago se vuelve a publicar en la cuenta de los propietarios.",
          "Casa acogedora Natur-/Stadtnah cerca de Berna",
          "Apartamento Wohn(t)raum",
          "Oasis tranquilo, apartamento de 2 dormitorios Suiza, Biel/Bienne",
          "Armotti: ultra comodidad con la mejor velocidad de internet",
          "Pequeño apartamento en Neuchâtel",
          "Cabaña moderna con vistas únicas en Gruyère",
          "Habitación tranquila en el centro de Berna",
          "Habitación en un bonito apartamento de un edificio antiguo",
          "Apartamento con vistas al lago en la preciosa Oberhofen",
          "Chalet con vistas a la montaña",
          "Cabaña con encanto",
          "Casa-Margarita: apartamento de 2,5 habitaciones, buena vista.",
          "Casa acogedora Natur-/Stadtnah cerca de Berna",
          "Estancia en pleno campo en una granja renovada",
          "Apartamento de 2 habitaciones con vistas a las montañas y al castillo",
          "Apartamento nuevo entre Berna y Thun",
          "Idílica casa de madera en el borde del bosque",
          "Villars-sur-Glâne - estudio independiente",
          "Barock Departamento",
          "Armotti: ultra comodidad con la mejor velocidad de internet",
          "Un paraíso familiar.",
          "Lujoso,accesible,gran apartamento de 1 dormitorio, ¡vistacompleta del Eiger!",
          "\"caroleandclaus\"Precioso apartamento en Berna-Wabern",
          "Apartamento Sunside Sunside Sun Coast en Thunersee",
          "\"caroleandclaus\"Precioso apartamento en Berna-Wabern",
          "Pipin 's Studio",
          "Un paraíso familiar.",
          "Chalet Gurnigelbad - con jardín y sauna",
          "Apartamento de 2,5 habitaciones en el centro del casco antiguo de Thun.",
          "Apartamento Wohn(t)raum",
          "Gîtes du Gore Virat",
          "Vivir en un entorno histórico en Berna",
          "Te damos la bienvenida a Chalet, cerca de la ciudad de Berna",
          "Moderno y cómodo - Estudio Evasión en Gruyère",
          "SwissHut Amazing Views Alps & Lake Thun",
          "Alojamiento familiar con encanto",
          "Apartamento luminoso de 1 habitación muy acogedor —-",
          "Alojamiento en estudio fotográfico, aseo privado y ducha",
          "Acogedor apartamento de 1,5 habitaciones",
          "Lugar mágico de Beatenberg y habitación para huéspedes compartida",
          "Casa de vacaciones independiente en el Emmental",
          "Acogedor, único y elegante junto al lago y las montañas"
         ],
         "legendgroup": "Bern",
         "marker": {
          "color": "#636efa",
          "opacity": 0.5,
          "size": [
           4.68,
           0,
           5,
           4.84,
           0,
           4.84,
           4.87,
           5,
           4.93,
           0,
           4.94,
           4.82,
           4.86,
           4.91,
           5,
           0,
           5,
           4.99,
           4.93,
           4.95,
           4.92,
           4.93,
           4.82,
           4.89,
           5,
           4.81,
           4.86,
           4.76,
           5,
           4.81,
           0,
           4.97,
           4.64,
           4.81,
           0,
           4.7,
           4.93,
           4.72,
           0,
           4.7,
           4.72,
           4.68,
           4.75,
           4.81,
           4.57,
           4.73,
           4.82,
           0,
           4.83,
           4.9,
           4.86,
           4.94,
           0,
           4.79,
           0,
           4.96,
           4.68,
           4.98,
           5,
           4.81,
           5,
           4.97,
           4.96,
           4.73,
           0,
           4.75,
           4.82,
           4.93,
           4.91,
           4.9,
           4.94,
           4.94,
           5,
           4.97,
           4.91,
           4.98,
           4.95,
           4.95,
           4.88,
           4.82,
           5,
           4.88,
           0,
           4.8,
           4.8,
           4.8,
           4.67,
           4.94,
           4.7,
           4.75,
           4.72,
           4.81,
           5,
           4.67,
           4.58,
           4.71,
           4.82,
           4.6,
           4.82,
           5,
           5,
           5,
           5,
           0,
           0,
           5,
           5,
           5,
           5,
           4.99,
           4.99,
           4.98,
           5,
           4.82,
           4.87,
           4.98,
           0,
           4.99,
           4.97,
           4.95,
           0,
           5,
           4.8,
           5,
           5,
           4.94,
           4.94,
           4.98,
           5,
           4.99,
           5,
           5,
           4.94,
           0,
           5,
           5,
           4.98,
           4.97,
           4.98,
           4.95,
           4.93,
           4.99,
           4.92,
           4.98,
           4.98,
           5,
           5,
           4.98,
           4.96,
           5,
           5,
           4.93,
           4.94,
           4.98,
           4.88,
           5,
           4.98,
           4.88,
           5,
           4.98,
           5,
           5,
           4.88,
           5,
           4.98,
           4.98,
           5,
           4.84,
           5,
           5,
           5,
           4.96,
           4.98,
           4.82,
           5,
           5,
           5,
           5,
           5,
           5,
           4.8,
           0,
           4.88,
           4.98,
           5,
           5,
           4.97,
           4.85,
           5,
           4.98,
           5,
           0,
           4.98,
           5,
           4.91,
           4.83,
           4.96,
           5,
           4.99,
           5,
           4.98,
           4.85,
           4.91,
           4.97,
           4.98,
           4.95,
           5,
           4.99,
           4.97,
           4.98,
           4.75,
           0,
           4.94,
           4.96,
           0,
           4.98,
           4.97,
           0,
           4.89,
           4.98,
           4.86,
           4.98,
           4.75,
           5,
           4.97,
           0,
           5,
           4.99,
           4.74,
           4.96,
           4.95,
           4.94,
           5,
           4.96,
           5,
           4.82,
           4.95,
           4.91,
           4.97,
           0,
           4.97,
           4.78,
           4.97,
           4.89,
           4.96,
           0,
           4.4,
           4.86,
           4.9,
           4.83,
           5,
           4.99
          ],
          "sizemode": "area",
          "sizeref": 0.2,
          "symbol": "circle"
         },
         "mode": "markers",
         "name": "Bern",
         "orientation": "v",
         "showlegend": true,
         "type": "scatter",
         "x": [
          43,
          473,
          36,
          125,
          36,
          113,
          71,
          62,
          68,
          42,
          53,
          55,
          76,
          83,
          43,
          97,
          78,
          98,
          124,
          98,
          100,
          88,
          60,
          49,
          133,
          127,
          70,
          111,
          133,
          100,
          55,
          62,
          83,
          80,
          109,
          83,
          130,
          73,
          109,
          83,
          52,
          102,
          140,
          117,
          52,
          103,
          129,
          107,
          46,
          98,
          141,
          61,
          124,
          62,
          124,
          78,
          102,
          290,
          77,
          99,
          93,
          62,
          54,
          103,
          42,
          194,
          60,
          88,
          94,
          95,
          139,
          103,
          124,
          101,
          188,
          379,
          98,
          145,
          166,
          250,
          194,
          56,
          42,
          162,
          114,
          103,
          127,
          169,
          124,
          66,
          121,
          99,
          88,
          127,
          259,
          129,
          161,
          118,
          78,
          168,
          81,
          88,
          206,
          74,
          176,
          168,
          129,
          169,
          169,
          78,
          108,
          98,
          103,
          52,
          85,
          82,
          168,
          69,
          116,
          181,
          185,
          71,
          179,
          145,
          250,
          189,
          169,
          440,
          114,
          93,
          186,
          88,
          92,
          68,
          122,
          117,
          62,
          171,
          54,
          155,
          101,
          92,
          114,
          78,
          67,
          202,
          78,
          101,
          128,
          434,
          69,
          145,
          78,
          67,
          67,
          89,
          103,
          228,
          39,
          125,
          103,
          83,
          67,
          434,
          125,
          103,
          103,
          83,
          78,
          125,
          134,
          78,
          67,
          172,
          83,
          153,
          89,
          276,
          103,
          111,
          74,
          78,
          71,
          202,
          78,
          157,
          61,
          109,
          103,
          67,
          202,
          124,
          78,
          89,
          433,
          83,
          233,
          155,
          83,
          157,
          155,
          74,
          433,
          61,
          78,
          80,
          103,
          62,
          103,
          359,
          233,
          81,
          67,
          233,
          88,
          150,
          61,
          72,
          186,
          78,
          251,
          202,
          233,
          72,
          103,
          124,
          153,
          62,
          128,
          233,
          80,
          198,
          155,
          111,
          155,
          88,
          80,
          102,
          119,
          81,
          130,
          102,
          114,
          78,
          187,
          123,
          58,
          55,
          61,
          197,
          128,
          207
         ],
         "xaxis": "x",
         "y": [
          19,
          0,
          5,
          339,
          0,
          218,
          0,
          13,
          877,
          0,
          16,
          68,
          86,
          145,
          17,
          0,
          0,
          199,
          121,
          84,
          87,
          15,
          218,
          36,
          0,
          203,
          212,
          592,
          5,
          120,
          0,
          60,
          14,
          477,
          0,
          466,
          337,
          866,
          0,
          466,
          25,
          95,
          750,
          16,
          7,
          169,
          95,
          0,
          221,
          10,
          14,
          0,
          0,
          304,
          0,
          72,
          95,
          52,
          21,
          208,
          13,
          60,
          70,
          169,
          0,
          145,
          218,
          15,
          65,
          41,
          63,
          17,
          4,
          231,
          74,
          52,
          22,
          21,
          174,
          233,
          3,
          0,
          0,
          733,
          10,
          15,
          0,
          0,
          821,
          413,
          53,
          208,
          0,
          0,
          40,
          0,
          17,
          5,
          11,
          4,
          0,
          34,
          56,
          0,
          0,
          31,
          21,
          0,
          0,
          92,
          0,
          54,
          0,
          11,
          30,
          255,
          0,
          188,
          163,
          22,
          0,
          9,
          35,
          34,
          0,
          0,
          0,
          185,
          6,
          183,
          52,
          66,
          117,
          0,
          18,
          17,
          195,
          95,
          200,
          61,
          61,
          72,
          86,
          59,
          342,
          7,
          9,
          196,
          53,
          21,
          5,
          76,
          160,
          64,
          8,
          5,
          163,
          206,
          9,
          176,
          0,
          52,
          8,
          21,
          176,
          163,
          9,
          43,
          9,
          14,
          33,
          25,
          64,
          17,
          52,
          11,
          5,
          25,
          0,
          0,
          0,
          0,
          0,
          0,
          9,
          60,
          30,
          34,
          0,
          64,
          7,
          0,
          350,
          5,
          390,
          12,
          53,
          19,
          108,
          60,
          179,
          39,
          390,
          30,
          350,
          199,
          0,
          92,
          88,
          44,
          0,
          0,
          104,
          53,
          0,
          121,
          30,
          0,
          0,
          350,
          0,
          0,
          0,
          5,
          88,
          0,
          11,
          92,
          34,
          53,
          199,
          62,
          19,
          82,
          19,
          168,
          199,
          81,
          35,
          0,
          144,
          23,
          106,
          9,
          23,
          0,
          5,
          58,
          41,
          570,
          11,
          313
         ],
         "yaxis": "y"
        },
        {
         "customdata": [
          [
           "Berlin",
           0,
           "Alojamiento entero"
          ],
          [
           "Berlin",
           0,
           "Alojamiento entero"
          ],
          [
           "Berlin",
           0,
           "Alojamiento entero"
          ],
          [
           "Berlin",
           4.79,
           "Alojamiento entero"
          ],
          [
           "Berlin",
           4.53,
           "Habitación"
          ],
          [
           "Berlin",
           4.92,
           "Alojamiento entero"
          ],
          [
           "Berlin",
           4.92,
           "Alojamiento entero"
          ],
          [
           "Berlin",
           0,
           "Alojamiento entero"
          ],
          [
           "Berlin",
           0,
           "Alojamiento entero"
          ],
          [
           "Berlin",
           5,
           "Alojamiento entero"
          ],
          [
           "Berlin",
           5,
           "Alojamiento entero"
          ],
          [
           "Berlin",
           5,
           "Alojamiento entero"
          ],
          [
           "Berlin",
           4.98,
           "Alojamiento entero"
          ],
          [
           "Berlin",
           4.97,
           "Alojamiento entero"
          ],
          [
           "Berlin",
           5,
           "Alojamiento entero"
          ],
          [
           "Berlin",
           4.66,
           "Alojamiento entero"
          ],
          [
           "Berlin",
           5,
           "Alojamiento entero"
          ],
          [
           "Berlin",
           0,
           "Alojamiento entero"
          ],
          [
           "Berlin",
           5,
           "Alojamiento entero"
          ],
          [
           "Berlin",
           0,
           "Alojamiento entero"
          ],
          [
           "Berlin",
           4.96,
           "Alojamiento entero"
          ],
          [
           "Berlin",
           5,
           "Alojamiento entero"
          ],
          [
           "Berlin",
           4.99,
           "Habitación"
          ],
          [
           "Berlin",
           0,
           "Alojamiento entero"
          ],
          [
           "Berlin",
           4.82,
           "Alojamiento entero"
          ],
          [
           "Berlin",
           0,
           "Alojamiento entero"
          ],
          [
           "Berlin",
           5,
           "Alojamiento entero"
          ],
          [
           "Berlin",
           4.92,
           "Alojamiento entero"
          ],
          [
           "Berlin",
           5,
           "Alojamiento entero"
          ],
          [
           "Berlin",
           4.79,
           "Alojamiento entero"
          ],
          [
           "Berlin",
           4.76,
           "Alojamiento entero"
          ],
          [
           "Berlin",
           4.9,
           "Alojamiento entero"
          ],
          [
           "Berlin",
           4.63,
           "Alojamiento entero"
          ],
          [
           "Berlin",
           0,
           "Alojamiento entero"
          ],
          [
           "Berlin",
           4.93,
           "Alojamiento entero"
          ],
          [
           "Berlin",
           4.8,
           "Alojamiento entero"
          ],
          [
           "Berlin",
           4.9,
           "Alojamiento entero"
          ],
          [
           "Berlin",
           4.95,
           "Alojamiento entero"
          ],
          [
           "Berlin",
           5,
           "Alojamiento entero"
          ],
          [
           "Berlin",
           4.94,
           "Alojamiento entero"
          ],
          [
           "Berlin",
           4.97,
           "Alojamiento entero"
          ],
          [
           "Berlin",
           0,
           "Alojamiento entero"
          ],
          [
           "Berlin",
           5,
           "Alojamiento entero"
          ],
          [
           "Berlin",
           4.99,
           "Alojamiento entero"
          ],
          [
           "Berlin",
           4.87,
           "Alojamiento entero"
          ],
          [
           "Berlin",
           4.97,
           "Habitación"
          ],
          [
           "Berlin",
           4.97,
           "otro"
          ],
          [
           "Berlin",
           5,
           "Alojamiento entero"
          ],
          [
           "Berlin",
           4.87,
           "Alojamiento entero"
          ],
          [
           "Berlin",
           4.91,
           "Alojamiento entero"
          ],
          [
           "Berlin",
           4.79,
           "Alojamiento entero"
          ],
          [
           "Berlin",
           5,
           "Alojamiento entero"
          ],
          [
           "Berlin",
           4.95,
           "Alojamiento entero"
          ],
          [
           "Berlin",
           4.76,
           "Alojamiento entero"
          ],
          [
           "Berlin",
           4.97,
           "Alojamiento entero"
          ],
          [
           "Berlin",
           4.92,
           "Alojamiento entero"
          ],
          [
           "Berlin",
           5,
           "Alojamiento entero"
          ],
          [
           "Berlin",
           4.9,
           "Alojamiento entero"
          ],
          [
           "Berlin",
           5,
           "Alojamiento entero"
          ],
          [
           "Berlin",
           4.89,
           "Alojamiento entero"
          ],
          [
           "Berlin",
           4.9,
           "Alojamiento entero"
          ],
          [
           "Berlin",
           4.83,
           "Alojamiento entero"
          ],
          [
           "Berlin",
           5,
           "Alojamiento entero"
          ],
          [
           "Berlin",
           4.63,
           "Alojamiento entero"
          ],
          [
           "Berlin",
           4.77,
           "Alojamiento entero"
          ],
          [
           "Berlin",
           4.88,
           "Alojamiento entero"
          ],
          [
           "Berlin",
           0,
           "Alojamiento entero"
          ],
          [
           "Berlin",
           5,
           "Alojamiento entero"
          ],
          [
           "Berlin",
           5,
           "Alojamiento entero"
          ],
          [
           "Berlin",
           4.79,
           "Alojamiento entero"
          ],
          [
           "Berlin",
           4.82,
           "Alojamiento entero"
          ],
          [
           "Berlin",
           0,
           "Habitación"
          ],
          [
           "Berlin",
           4.79,
           "Alojamiento entero"
          ],
          [
           "Berlin",
           0,
           "Alojamiento entero"
          ],
          [
           "Berlin",
           4.87,
           "Alojamiento entero"
          ],
          [
           "Berlin",
           4.77,
           "Habitación"
          ],
          [
           "Berlin",
           4.59,
           "Alojamiento entero"
          ],
          [
           "Berlin",
           4.75,
           "Alojamiento entero"
          ],
          [
           "Berlin",
           0,
           "Alojamiento entero"
          ],
          [
           "Berlin",
           4.6,
           "Alojamiento entero"
          ],
          [
           "Berlin",
           4.5,
           "Alojamiento entero"
          ],
          [
           "Berlin",
           0,
           "Alojamiento entero"
          ],
          [
           "Berlin",
           4.72,
           "Alojamiento entero"
          ],
          [
           "Berlin",
           4.33,
           "Alojamiento entero"
          ],
          [
           "Berlin",
           4.57,
           "Habitación"
          ],
          [
           "Berlin",
           0,
           "Alojamiento entero"
          ],
          [
           "Berlin",
           0,
           "Alojamiento entero"
          ],
          [
           "Berlin",
           4.43,
           "Alojamiento entero"
          ],
          [
           "Berlin",
           4.43,
           "Alojamiento entero"
          ],
          [
           "Berlin",
           4.86,
           "Alojamiento entero"
          ],
          [
           "Berlin",
           0,
           "Alojamiento entero"
          ],
          [
           "Berlin",
           0,
           "Alojamiento entero"
          ],
          [
           "Berlin",
           4.44,
           "Alojamiento entero"
          ],
          [
           "Berlin",
           4.5,
           "Alojamiento entero"
          ],
          [
           "Berlin",
           4.2,
           "Alojamiento entero"
          ],
          [
           "Berlin",
           4.32,
           "Alojamiento entero"
          ],
          [
           "Berlin",
           5,
           "Alojamiento entero"
          ],
          [
           "Berlin",
           0,
           "Alojamiento entero"
          ],
          [
           "Berlin",
           0,
           "Alojamiento entero"
          ],
          [
           "Berlin",
           5,
           "Alojamiento entero"
          ],
          [
           "Berlin",
           0,
           "Alojamiento entero"
          ],
          [
           "Berlin",
           5,
           "Alojamiento entero"
          ],
          [
           "Berlin",
           0,
           "Alojamiento entero"
          ],
          [
           "Berlin",
           5,
           "Alojamiento entero"
          ],
          [
           "Berlin",
           5,
           "Alojamiento entero"
          ],
          [
           "Berlin",
           4.95,
           "Alojamiento entero"
          ],
          [
           "Berlin",
           5,
           "Alojamiento entero"
          ],
          [
           "Berlin",
           4.95,
           "Alojamiento entero"
          ],
          [
           "Berlin",
           5,
           "Alojamiento entero"
          ],
          [
           "Berlin",
           0,
           "Alojamiento entero"
          ],
          [
           "Berlin",
           5,
           "Alojamiento entero"
          ],
          [
           "Berlin",
           5,
           "Alojamiento entero"
          ],
          [
           "Berlin",
           5,
           "Alojamiento entero"
          ],
          [
           "Berlin",
           4.95,
           "Alojamiento entero"
          ],
          [
           "Berlin",
           4.97,
           "Habitación"
          ],
          [
           "Berlin",
           4.97,
           "Alojamiento entero"
          ],
          [
           "Berlin",
           0,
           "Alojamiento entero"
          ],
          [
           "Berlin",
           4.94,
           "Alojamiento entero"
          ],
          [
           "Berlin",
           5,
           "Alojamiento entero"
          ],
          [
           "Berlin",
           5,
           "Alojamiento entero"
          ],
          [
           "Berlin",
           4.91,
           "Alojamiento entero"
          ],
          [
           "Berlin",
           5,
           "Alojamiento entero"
          ],
          [
           "Berlin",
           5,
           "Alojamiento entero"
          ],
          [
           "Berlin",
           0,
           "Habitación"
          ],
          [
           "Berlin",
           5,
           "Alojamiento entero"
          ],
          [
           "Berlin",
           4.92,
           "Alojamiento entero"
          ],
          [
           "Berlin",
           4.91,
           "Alojamiento entero"
          ],
          [
           "Berlin",
           5,
           "Alojamiento entero"
          ],
          [
           "Berlin",
           5,
           "Alojamiento entero"
          ],
          [
           "Berlin",
           5,
           "Alojamiento entero"
          ],
          [
           "Berlin",
           0,
           "Habitación"
          ],
          [
           "Berlin",
           4.92,
           "Alojamiento entero"
          ],
          [
           "Berlin",
           4.9,
           "Habitación"
          ],
          [
           "Berlin",
           5,
           "Alojamiento entero"
          ],
          [
           "Berlin",
           4.95,
           "Alojamiento entero"
          ],
          [
           "Berlin",
           4.98,
           "Alojamiento entero"
          ],
          [
           "Berlin",
           4.95,
           "Alojamiento entero"
          ],
          [
           "Berlin",
           5,
           "Alojamiento entero"
          ],
          [
           "Berlin",
           5,
           "Alojamiento entero"
          ],
          [
           "Berlin",
           4.99,
           "Alojamiento entero"
          ],
          [
           "Berlin",
           0,
           "Alojamiento entero"
          ],
          [
           "Berlin",
           4.96,
           "Alojamiento entero"
          ],
          [
           "Berlin",
           5,
           "Alojamiento entero"
          ],
          [
           "Berlin",
           4.95,
           "Alojamiento entero"
          ],
          [
           "Berlin",
           4.98,
           "Alojamiento entero"
          ],
          [
           "Berlin",
           5,
           "Alojamiento entero"
          ],
          [
           "Berlin",
           5,
           "Alojamiento entero"
          ],
          [
           "Berlin",
           5,
           "Habitación"
          ],
          [
           "Berlin",
           5,
           "Alojamiento entero"
          ],
          [
           "Berlin",
           5,
           "Alojamiento entero"
          ],
          [
           "Berlin",
           4.94,
           "Alojamiento entero"
          ],
          [
           "Berlin",
           0,
           "Alojamiento entero"
          ],
          [
           "Berlin",
           5,
           "Alojamiento entero"
          ],
          [
           "Berlin",
           5,
           "Alojamiento entero"
          ],
          [
           "Berlin",
           5,
           "Alojamiento entero"
          ],
          [
           "Berlin",
           4.9,
           "Alojamiento entero"
          ],
          [
           "Berlin",
           4.94,
           "Alojamiento entero"
          ],
          [
           "Berlin",
           4.94,
           "Alojamiento entero"
          ],
          [
           "Berlin",
           4.97,
           "Alojamiento entero"
          ],
          [
           "Berlin",
           4.97,
           "Alojamiento entero"
          ],
          [
           "Berlin",
           4.95,
           "Alojamiento entero"
          ],
          [
           "Berlin",
           4.97,
           "Alojamiento entero"
          ],
          [
           "Berlin",
           4.66,
           "Alojamiento entero"
          ],
          [
           "Berlin",
           4.94,
           "Alojamiento entero"
          ],
          [
           "Berlin",
           4.94,
           "Alojamiento entero"
          ],
          [
           "Berlin",
           4.93,
           "Alojamiento entero"
          ],
          [
           "Berlin",
           4.96,
           "Alojamiento entero"
          ],
          [
           "Berlin",
           4.89,
           "Alojamiento entero"
          ],
          [
           "Berlin",
           5,
           "Alojamiento entero"
          ],
          [
           "Berlin",
           4.98,
           "Alojamiento entero"
          ],
          [
           "Berlin",
           4.91,
           "Alojamiento entero"
          ],
          [
           "Berlin",
           5,
           "Alojamiento entero"
          ],
          [
           "Berlin",
           0,
           "Alojamiento entero"
          ],
          [
           "Berlin",
           4.97,
           "Habitación"
          ],
          [
           "Berlin",
           5,
           "Alojamiento entero"
          ],
          [
           "Berlin",
           4.88,
           "Alojamiento entero"
          ],
          [
           "Berlin",
           0,
           "Alojamiento entero"
          ],
          [
           "Berlin",
           4.89,
           "Alojamiento entero"
          ],
          [
           "Berlin",
           5,
           "Alojamiento entero"
          ],
          [
           "Berlin",
           4.92,
           "Alojamiento entero"
          ],
          [
           "Berlin",
           5,
           "Alojamiento entero"
          ],
          [
           "Berlin",
           4.67,
           "Alojamiento entero"
          ],
          [
           "Berlin",
           5,
           "Alojamiento entero"
          ],
          [
           "Berlin",
           4.91,
           "Alojamiento entero"
          ],
          [
           "Berlin",
           0,
           "Alojamiento entero"
          ],
          [
           "Berlin",
           0,
           "Alojamiento entero"
          ],
          [
           "Berlin",
           4.92,
           "Habitación"
          ],
          [
           "Berlin",
           4.96,
           "Alojamiento entero"
          ],
          [
           "Berlin",
           4.94,
           "Habitación"
          ],
          [
           "Berlin",
           5,
           "Alojamiento entero"
          ],
          [
           "Berlin",
           5,
           "Alojamiento entero"
          ],
          [
           "Berlin",
           4.98,
           "Alojamiento entero"
          ],
          [
           "Berlin",
           5,
           "Alojamiento entero"
          ],
          [
           "Berlin",
           4.96,
           "Alojamiento entero"
          ],
          [
           "Berlin",
           0,
           "Alojamiento entero"
          ],
          [
           "Berlin",
           4.96,
           "Alojamiento entero"
          ],
          [
           "Berlin",
           5,
           "Alojamiento entero"
          ],
          [
           "Berlin",
           5,
           "Alojamiento entero"
          ],
          [
           "Berlin",
           4.94,
           "Alojamiento entero"
          ],
          [
           "Berlin",
           4.96,
           "Alojamiento entero"
          ],
          [
           "Berlin",
           5,
           "Alojamiento entero"
          ],
          [
           "Berlin",
           0,
           "Alojamiento entero"
          ],
          [
           "Berlin",
           4.88,
           "Alojamiento entero"
          ],
          [
           "Berlin",
           4.91,
           "Alojamiento entero"
          ],
          [
           "Berlin",
           5,
           "Alojamiento entero"
          ],
          [
           "Berlin",
           4.9,
           "Alojamiento entero"
          ],
          [
           "Berlin",
           4.94,
           "Habitación"
          ],
          [
           "Berlin",
           4.96,
           "Alojamiento entero"
          ],
          [
           "Berlin",
           4.92,
           "Habitación"
          ],
          [
           "Berlin",
           4.92,
           "Alojamiento entero"
          ],
          [
           "Berlin",
           4.88,
           "Alojamiento entero"
          ],
          [
           "Berlin",
           4.94,
           "Alojamiento entero"
          ],
          [
           "Berlin",
           5,
           "Habitación"
          ],
          [
           "Berlin",
           4.98,
           "Alojamiento entero"
          ],
          [
           "Berlin",
           4.82,
           "Alojamiento entero"
          ],
          [
           "Berlin",
           4.94,
           "Alojamiento entero"
          ],
          [
           "Berlin",
           4.82,
           "Alojamiento entero"
          ],
          [
           "Berlin",
           0,
           "Alojamiento entero"
          ],
          [
           "Berlin",
           4.84,
           "Alojamiento entero"
          ],
          [
           "Berlin",
           4.94,
           "Habitación"
          ],
          [
           "Berlin",
           5,
           "Alojamiento entero"
          ],
          [
           "Berlin",
           4.93,
           "Alojamiento entero"
          ],
          [
           "Berlin",
           4.92,
           "Habitación"
          ],
          [
           "Berlin",
           4.81,
           "Habitación"
          ],
          [
           "Berlin",
           4.98,
           "Alojamiento entero"
          ],
          [
           "Berlin",
           4.92,
           "Alojamiento entero"
          ],
          [
           "Berlin",
           0,
           "Alojamiento entero"
          ],
          [
           "Berlin",
           0,
           "Alojamiento entero"
          ],
          [
           "Berlin",
           4.96,
           "Alojamiento entero"
          ],
          [
           "Berlin",
           0,
           "Alojamiento entero"
          ],
          [
           "Berlin",
           0,
           "Alojamiento entero"
          ],
          [
           "Berlin",
           5,
           "Alojamiento entero"
          ],
          [
           "Berlin",
           5,
           "Alojamiento entero"
          ],
          [
           "Berlin",
           5,
           "Habitación"
          ],
          [
           "Berlin",
           4.93,
           "Alojamiento entero"
          ],
          [
           "Berlin",
           4.99,
           "Alojamiento entero"
          ],
          [
           "Berlin",
           0,
           "Alojamiento entero"
          ],
          [
           "Berlin",
           4.94,
           "Alojamiento entero"
          ],
          [
           "Berlin",
           4.98,
           "Alojamiento entero"
          ],
          [
           "Berlin",
           4.94,
           "Alojamiento entero"
          ],
          [
           "Berlin",
           0,
           "Alojamiento entero"
          ],
          [
           "Berlin",
           0,
           "Alojamiento entero"
          ],
          [
           "Berlin",
           4.91,
           "Alojamiento entero"
          ],
          [
           "Berlin",
           4.99,
           "Alojamiento entero"
          ],
          [
           "Berlin",
           4.96,
           "Habitación"
          ],
          [
           "Berlin",
           4.98,
           "Alojamiento entero"
          ],
          [
           "Berlin",
           0,
           "Alojamiento entero"
          ],
          [
           "Berlin",
           0,
           "Alojamiento entero"
          ],
          [
           "Berlin",
           0,
           "Alojamiento entero"
          ]
         ],
         "hovertemplate": "<b>%{hovertext}</b><br><br>City=%{customdata[0]}<br>Price per night (log scale)=%{x}<br>Reviews (log scale)=%{y}<br>rating=%{customdata[1]}<br>category=%{customdata[2]}<extra></extra>",
         "hovertext": [
          "Hermoso ático cerca del lago Müggelsee",
          "Apartamento de 74 metros cuadrados en Berlín-Charlottenburg",
          "Apartamento doble en Frankfurter Allee",
          "Suite Home Two-Bedroom Apartment",
          "Nena Apartments Metropolpark \"Studio\"",
          "Terraza en el Wintergarten – 86 m²",
          "Piso acogedor y tranquilo en Prenzlauer Berg",
          "Ático en el corazón de Berlín",
          "Hermoso, luminoso, con buenas vistas al campo",
          "Stadtflucht Penthouse 5.2.2",
          "Design-Studio Bergmannkiez",
          "Traum Apartment mit 150 m²",
          "Loft de lujo de nuevo diseño en el moderno Prenzlauer Berg",
          "Apartamento CÉNTRICO Y CÓMODO en Prenzlauer Berg cerca de Mitte",
          "Loft- Mejor ubicación, 90m2, 2 baños, 2 Balcón, tranquilo.",
          "2 encantadores apartamentos de 2 habitaciones en Berlín Mitte",
          "Exquisito 100 metros cuadrados an der Spree",
          "Apartamento de lujo de 2 dormitorios en Mitte",
          "Soleado y diseño en Berlin Mitte",
          "402 * Urban Apartment in top area *",
          "Impresionante loft de diseño en la mejor ubicación de Kreuzberg",
          "Apartamento soleado en la azotea",
          "Loft enorme Berlin-Mitte con baño propio y aire acondicionado",
          "Apartamento estudio de diseño con balcón, Berlin Mitte",
          "Apartamento tipo estudio en la casa con jardín",
          "The Spree Condo",
          "Apartamento de la ciudad en Wrangelkiez",
          "Hermoso departamento luminoso y luminoso con balcón/10’ Mitte",
          "Berlín Puro: nuevo moderno y elegante/2 habitaciones/pared/centro",
          "Creativo + renovado + Cool Bergmannkiez",
          "Stayery | Estudio moderno cerca de Boxhagener Platz",
          "NIDO DE AVES SOBRE BERLÍN",
          "numa I Suite Espaciosa en Checkpoint Charlie",
          "Apartamento tipo estudio único en el monumento",
          "Apartamento boutique en la azotea de 1237 pies cuadrados en City West",
          "Apartamento de maisonette de 4 habitaciones de Youngster de 50 metros cuadrados cerca del centro",
          "Apartamento ático con terraza en la azotea sobre Berlín",
          "Acogedor y tranquilo cine boutique en Winskiez",
          "Loft tranquilo y espacioso, estacionamiento privado disponible",
          "Bienvenido a tu hogar en Berlín",
          "Habitación tranquila en Berlín en K-Berg",
          "Apartamento luminoso y lujoso en el parque",
          "Penthouse im Graefekiez",
          "Studio nuthetal, nahe Berlin & Potsdam, Parkplatz",
          "Gran loft de 1 habitación",
          "Enorme Loft Berlin-Mitte con baño privado y aire acondicionado",
          "Fantástica casa flotante en la ciudad de Berlín",
          "Hermoso departamento con vista a la bahía",
          "Elegante nuevo loft II de Berlin-Wall-Apartments",
          "Precioso apartamento luminoso de 2 habitaciones en el corazón de Friedrichshain",
          "Precioso apartamento antiguo en Kreuzberg",
          "Apartamento estudio de diseño con balcón, Berlin Mitte",
          "Apartamento tranquilo y acogedor en Samarieterviertel con terraza.",
          "Stayery | Estudio moderno cerca de Boxhagener Platz",
          "El oasis escandinavo",
          "Apartamento estudio en planta baja central",
          "Loft tranquilo y espacioso, estacionamiento privado disponible",
          "Elegante apartamento en el Görli",
          "Precioso apartamento en Mitte",
          "Departamento Boutique Ruhiges",
          "794 APARTAMENTO DE LUJO DE UNA HABITACIÓN EN CENTRAL MITTE",
          "Kreuzberger Altbau mit Kachelofen",
          "Kreuzberger Perle: luminoso y cerca del agua",
          "numa I Suite Espaciosa en Checkpoint Charlie",
          "numa | Habitación moderna con registro de entrada digital",
          "Elegante oasis en el corazón de Berlín",
          "Altbau en Berlín-Wilmersdorf",
          "Apartamento de 2 habitaciones en Friedrichshain",
          "Apartamento estudio de diseño con balcón, Berlin Mitte",
          "Piso moderno en Neukölln / Kreuzberg",
          "moderno y céntrico estudio cerca de Alexanderplatz",
          "¡Habitación en casa flotante en el centro!",
          "Creativo + renovado + Cool Bergmannkiez",
          "Apartamento agradable con cama con dosel y terraza",
          "Apartamento de diseño en el corazón de Mitte",
          "(estudio)",
          "Apartamento espacioso/ Kudamm / City West",
          "Berlin Muellerstr. | Suite L",
          "Impresionante ático moderno en Mitte",
          "795 APARTAMENTO DE LUJO CON TERRAZA EN MITTE",
          "Acogedor apartamento tipo estudio en Friedrichshain",
          "Acogedor apartamento en Prenzlauerberg",
          "Apartamento arquitectónico en Kreuzberg",
          "Apartamento de diseño moderno",
          "Nena Apartments Moritzplatz \"estudio\"",
          "Apartamento URBANO 2012 * en el centro de la ciudad",
          "Apartamento en Berlín Mitte",
          "limehome Berlin Stresemannstr | Suite",
          "limehome Berlin Stresemannstr | Suite",
          "Lujoso penthouse prémium de 3 habitaciones en Berlín Mitte",
          "habitación plana azul",
          "Bonito y gran sótanoen el canal kreuzberg",
          "Lake Side Park/Historic/BER /Ư",
          "Piso moderno con Homecinema, Netflix, 2 Min. Tranvía",
          "Acogedor apartamento tipo loft en Berlín Wilmersdorf",
          "Apartamento chic, céntrico - Ópera alemana",
          "Apartamento lujoso y con estilo en el aeropuerto DE BER",
          "Apartamento céntrico: a 5 minutos de Alexanderplatz.",
          "Apartamento de diseño en Bergmannkiez",
          "Estudio de diseño luminoso y cómodo en Neukölln",
          "Apartamento artístico en Kreuzkölln",
          "Estudio central en Berlín Friedrichshain",
          "Zliving Penthouse",
          "Enorme apartamento de 3 habitaciones en distrito para 2 personas",
          "Relájate o trabaja +sauna",
          "Piso céntrico, acogedor y luminoso en Berlín Mitte",
          "Apartamento moderno y luminoso con terraza",
          "estudio, amplio y tranquilo balcón",
          "Apartamento tranquilo y acogedor con chimenea y terraza",
          "303 * Increíble apartamento en la mejor zona",
          "Apartamento de lujo de 100 metros cuadrados en excelente ubicación cerca de Ku'Damm",
          "Berlin Friedrichshain Design Loft Apartment + Garden",
          "Apartamento anexo en el sur de Berlín",
          "Apartamento agradable en Prenzlauer Berg",
          "Amplia habitación en su propio piso + con su propio baño",
          "Apartamento con encanto en Schöneberg",
          "Apartamento con estilo en Charlottenburg",
          "Acogedor apartamento Prenzlauer Berg",
          "¡Siéntete como en tu alojamiento en cuestión de segundos!",
          "Precioso apartamento en Berlín, Friedrichshain",
          "Una joya luminosa",
          "Chat, apartamento y balcón en el centro del moderno Berlín",
          "Acogedor apartamento en Charlottenburg",
          "Habitación: Tranquilo, soleado y con vistas al agua",
          "Chat, apartamento y balcón en el centro del moderno Berlín",
          "Apartamento Motzstraße (1000) con habitación independiente",
          "Una joya luminosa",
          "Acogedor apartamento en Charlottenburg",
          "Precioso apartamento en Berlín, Friedrichshain",
          "Paraíso urbano: casa soleada con balcón y gato",
          "Habitación: Tranquilo, soleado y con vistas al agua",
          "Apartamento en Prenzlauer Berg III",
          "Típico berlinés",
          "Encantador y acogedor apartamento de 1 dormitorio en Neukölln",
          "Precioso dúplex en el corazón de Berlín (Mitte)",
          "Hermoso anexo en el corazón de Falkensee",
          "Casa D'Oro beutiful maisonette Apartment",
          "Chic, Calm + Central Residence",
          "Sala de estar soleada con balcón",
          "Hermoso y gran apartamento cerca de Rosenthaler Platz",
          "Apartamento moderno de 2 habitaciones",
          "Loft (45 mts2) con terraza, Rummelsburg Bay",
          "Luminoso apartamento de 3 habitaciones en Neukölln",
          "Experimenta Berlín 2020",
          "Adorable casa de huéspedes con alberca y sauna en Pankow",
          "Apartamento privado Simon-Dach",
          "Piso único en Schillerkiez",
          "Habitación tranquila en un apartamento queer Friendly",
          "Apartamento estudio moderno",
          "Vivir en el asentamiento forestal",
          "Apartamento acogedor y tranquilo en Berlín cerca del transporte público",
          "Estudio en Prenzlauer Berg",
          "Edificio antiguo de diseño recién reformado",
          "ACOGEDOR ALOJAMIENTO",
          "The Luxury Orchid Home",
          "Soleado balcón loft en la última planta +vista Prenzlauer Berg",
          "La mejor ubicación: Precioso apartamento en Friedrichshain",
          "Apartamento recién renovado en el Castillo de Charlottenburg",
          "Tranquilo apartamento estudio cerca del Mauerpark",
          "Apartamento tranquilo en la casa sueca en medio de Berlín",
          "Apartamento de ensueño en Central Place /Privat Parking",
          "Tranquilo apartamento estudio cerca del Mauerpark",
          "Apartamento estudio elegante y moderno en Berlín-Charlottenburg",
          "Apartamento de 2 habitaciones - muy céntrico - Superview Mitte",
          "Elegante escondite en el corazón de Berlín.",
          "Amplio, mejor ubicación, 2 balcones, moderno!",
          "Con estilo en Berlín",
          "Piso urbano de Kreuzberg con balcón en el patio",
          "Los oasis urbanos junto al agua",
          "Über den Dächern von Berlin",
          "Apartamento en Berlín-Adlershof",
          "Apartamento en un edificio antiguo en Alt-Treptow",
          "Acogedor apartamento en Maisonette cerca de KuDamm",
          "Habitación privada en lujo. Apartamento limpio de 330 m² + sauna.",
          "En el corazón de Neuköllner Kiez ;)Real Berlin Feeling!",
          "Acogedor apartamento en Sprengelkiez - Berlín",
          "Acogedora maisonette en el centro de Berlín",
          "Departamento Boutique Ruhiges",
          "En una zona de moda con carácter",
          "Elegante apartamento de 70 m2 en el centro de Berlín (Mitte)",
          "¡Acogedor apartamento en el corazón de la zona más moderna!",
          "Bright + green *15 min to Potsdamer Platz*",
          "Apartamento ejecutivo de 110 metros cuadrados cerca de Museumsinsel",
          "Apartamento Urbanes en F-Hain",
          "apartamento acogedor en friedrichshain",
          "204 * El mejor lugar para estar en el centro de la ciudad *",
          "Hermosa habitación junto al canal (Gräfekiez)",
          "Acogedor ático con vistas únicas sobre la ciudad",
          "Acogedora habitación con baño adjunto cerca de Mauerpark",
          "504 * El lugar para estar en la mejor zona, reformado",
          "Apartamento estudio en Berlín Mitte",
          "Maisonette, la mejor ubicación de 2 balcones de Berlín-Mitte",
          "Penthouse de lujo en el corazón de Berlín",
          "Maisonette en la planta superior del corazón de Berlín",
          "Pequeña casa a las afueras del pueblo",
          "Estudio único y tranquilo, excelente ubicación!",
          "Acogedora casa en el maravilloso distrito de Friedrichshain",
          "Apartamento ejecutivo de 110 metros cuadrados cerca de Museumsinsel",
          "Berlín puro:elegante neu2 Zi/Terrasse/Zentrum/Mauer",
          "Maisonette en la planta superior del corazón de Berlín",
          "504 * El lugar para estar en la mejor zona, reformado",
          "Apartamento de lujo en Frankfurter Allee",
          "Elegante oasis en el corazón de Berlín",
          "Estudio de artista en Berlín - Prenzlauer Berg",
          "Penthouse de lujo en el corazón de Berlín",
          "estudio luminoso en Schöneberg junto a la ciudad de Berlín",
          "Acogedora habitación con baño adjunto cerca de Mauerpark",
          "Waldrand Tiergarten: céntrico, moderno, cómodo",
          "Hermosa habitación junto al canal (Gräfekiez)",
          "Karo: un oasis de paz en Kreuzberg",
          "TempelCasa",
          "Estudio creativo en Friedrichshain-Boxhagener Platz",
          "Mucho espacio, dentro del anillo",
          "Maisonette, la mejor ubicación de 2 balcones de Berlín-Mitte",
          "#505 Sé mi huésped",
          "Estudio creativo en Friedrichshain-Boxhagener Platz",
          "moderno y céntrico estudio cerca de Alexanderplatz",
          "SMARTments - Vida temporal en Prenzlauer Berg",
          "UN GRAN ÁTICO",
          "Acogedora habitación con baño adjunto cerca de Mauerpark",
          "Apartamento de lujo con carácter en Berlín Kreuzberg-1",
          "Departamento nuevo accesible",
          "Hermosa habitación junto al canal (Gräfekiez)",
          "Precioso loft, balcón y baño propio",
          "Maisonette, la mejor ubicación de 2 balcones de Berlín-Mitte",
          "Industrial-Design Loft de 100 metros cuadrados en Friedrichshain",
          "apartamento acogedor en friedrichshain",
          "2032 * Acogedor apartamento en el corazón de Berlín",
          "Estudio único y tranquilo, excelente ubicación!",
          "Estudio de 60 metros cuadrados en el parque Gleisdreieck",
          "Cervecería renovada en un lago",
          "Apartamento acogedor autónomo",
          "viajar con un perro no es ningún problema con nosotros",
          "Mucho espacio, dentro del anillo",
          "FU-Zentral, hermosa parte/departamento en renovado.20er Ja",
          "CASA DE CAMPO EN EL CINTURÓN DE TOCINO DE BERLÍN",
          "Fantástico apartamento en el ático",
          "Departamento de Diseño Prenzlauer Berg",
          "Hermoso ático / ático con terraza",
          "La joya de Neukölln",
          "Apartamento tranquilo de 1 habitación en el parque, a 20 minutos del centro",
          "2021 * Apartamento urbano en el centro de la ciudad",
          "Moderno apartamento de edificio antiguo en Charlottenburg",
          "Elegante y acogedora casa de huéspedes con terraza y piscina",
          "Sueño para parejas: habitación en el corazón de Kreuzberg",
          "Edificio moderno con jardín vertical y 2 recamaras",
          "Departamento nuevo en Schönefeld",
          "Paraíso en madera",
          "EXCELENTE apartamento de 102 * en el centro de la ciudad"
         ],
         "legendgroup": "Berlin",
         "marker": {
          "color": "#EF553B",
          "opacity": 0.5,
          "size": [
           0,
           0,
           0,
           4.79,
           4.53,
           4.92,
           4.92,
           0,
           0,
           5,
           5,
           5,
           4.98,
           4.97,
           5,
           4.66,
           5,
           0,
           5,
           0,
           4.96,
           5,
           4.99,
           0,
           4.82,
           0,
           5,
           4.92,
           5,
           4.79,
           4.76,
           4.9,
           4.63,
           0,
           4.93,
           4.8,
           4.9,
           4.95,
           5,
           4.94,
           4.97,
           0,
           5,
           4.99,
           4.87,
           4.97,
           4.97,
           5,
           4.87,
           4.91,
           4.79,
           5,
           4.95,
           4.76,
           4.97,
           4.92,
           5,
           4.9,
           5,
           4.89,
           4.9,
           4.83,
           5,
           4.63,
           4.77,
           4.88,
           0,
           5,
           5,
           4.79,
           4.82,
           0,
           4.79,
           0,
           4.87,
           4.77,
           4.59,
           4.75,
           0,
           4.6,
           4.5,
           0,
           4.72,
           4.33,
           4.57,
           0,
           0,
           4.43,
           4.43,
           4.86,
           0,
           0,
           4.44,
           4.5,
           4.2,
           4.32,
           5,
           0,
           0,
           5,
           0,
           5,
           0,
           5,
           5,
           4.95,
           5,
           4.95,
           5,
           0,
           5,
           5,
           5,
           4.95,
           4.97,
           4.97,
           0,
           4.94,
           5,
           5,
           4.91,
           5,
           5,
           0,
           5,
           4.92,
           4.91,
           5,
           5,
           5,
           0,
           4.92,
           4.9,
           5,
           4.95,
           4.98,
           4.95,
           5,
           5,
           4.99,
           0,
           4.96,
           5,
           4.95,
           4.98,
           5,
           5,
           5,
           5,
           5,
           4.94,
           0,
           5,
           5,
           5,
           4.9,
           4.94,
           4.94,
           4.97,
           4.97,
           4.95,
           4.97,
           4.66,
           4.94,
           4.94,
           4.93,
           4.96,
           4.89,
           5,
           4.98,
           4.91,
           5,
           0,
           4.97,
           5,
           4.88,
           0,
           4.89,
           5,
           4.92,
           5,
           4.67,
           5,
           4.91,
           0,
           0,
           4.92,
           4.96,
           4.94,
           5,
           5,
           4.98,
           5,
           4.96,
           0,
           4.96,
           5,
           5,
           4.94,
           4.96,
           5,
           0,
           4.88,
           4.91,
           5,
           4.9,
           4.94,
           4.96,
           4.92,
           4.92,
           4.88,
           4.94,
           5,
           4.98,
           4.82,
           4.94,
           4.82,
           0,
           4.84,
           4.94,
           5,
           4.93,
           4.92,
           4.81,
           4.98,
           4.92,
           0,
           0,
           4.96,
           0,
           0,
           5,
           5,
           5,
           4.93,
           4.99,
           0,
           4.94,
           4.98,
           4.94,
           0,
           0,
           4.91,
           4.99,
           4.96,
           4.98,
           0,
           0,
           0
          ],
          "sizemode": "area",
          "sizeref": 0.2,
          "symbol": "circle"
         },
         "mode": "markers",
         "name": "Berlin",
         "orientation": "v",
         "showlegend": true,
         "type": "scatter",
         "x": [
          53,
          77,
          75,
          214,
          117,
          205,
          99,
          190,
          80,
          149,
          92,
          195,
          200,
          89,
          189,
          129,
          131,
          198,
          164,
          228,
          180,
          114,
          99,
          139,
          91,
          300,
          90,
          121,
          213,
          61,
          68,
          140,
          108,
          80,
          121,
          123,
          266,
          138,
          194,
          122,
          90,
          97,
          128,
          132,
          134,
          97,
          237,
          130,
          158,
          95,
          94,
          139,
          149,
          68,
          200,
          89,
          194,
          138,
          88,
          70,
          150,
          76,
          203,
          108,
          87,
          121,
          72,
          125,
          139,
          99,
          115,
          65,
          61,
          95,
          122,
          100,
          92,
          102,
          181,
          150,
          70,
          84,
          78,
          89,
          110,
          249,
          100,
          97,
          97,
          115,
          80,
          76,
          71,
          147,
          91,
          79,
          119,
          222,
          150,
          110,
          112,
          81,
          520,
          220,
          132,
          130,
          114,
          145,
          80,
          159,
          316,
          160,
          110,
          120,
          97,
          135,
          124,
          114,
          200,
          230,
          88,
          62,
          154,
          69,
          62,
          143,
          88,
          154,
          230,
          99,
          69,
          63,
          44,
          110,
          191,
          129,
          277,
          160,
          129,
          192,
          134,
          84,
          200,
          80,
          206,
          170,
          141,
          77,
          87,
          70,
          77,
          81,
          150,
          140,
          249,
          139,
          81,
          100,
          89,
          112,
          211,
          89,
          115,
          88,
          213,
          249,
          174,
          137,
          110,
          65,
          89,
          150,
          119,
          84,
          95,
          90,
          90,
          70,
          118,
          110,
          120,
          71,
          140,
          86,
          104,
          264,
          55,
          265,
          65,
          245,
          92,
          141,
          231,
          170,
          99,
          104,
          284,
          140,
          238,
          170,
          245,
          141,
          121,
          120,
          231,
          137,
          65,
          105,
          55,
          86,
          97,
          120,
          82,
          141,
          106,
          120,
          115,
          95,
          155,
          65,
          129,
          149,
          55,
          71,
          141,
          240,
          104,
          232,
          104,
          150,
          120,
          86,
          72,
          82,
          110,
          78,
          130,
          100,
          149,
          77,
          80,
          249,
          125,
          90,
          120,
          225,
          92,
          68,
          174
         ],
         "xaxis": "x",
         "y": [
          0,
          0,
          0,
          419,
          0,
          25,
          12,
          0,
          0,
          15,
          30,
          12,
          49,
          276,
          43,
          130,
          10,
          0,
          204,
          0,
          26,
          4,
          518,
          0,
          88,
          0,
          24,
          26,
          51,
          327,
          228,
          73,
          0,
          0,
          299,
          44,
          20,
          148,
          3,
          119,
          31,
          0,
          5,
          69,
          0,
          445,
          147,
          32,
          134,
          70,
          197,
          5,
          21,
          228,
          114,
          97,
          3,
          104,
          8,
          9,
          20,
          60,
          27,
          0,
          0,
          24,
          0,
          0,
          5,
          0,
          324,
          0,
          327,
          0,
          79,
          0,
          59,
          16,
          0,
          15,
          0,
          0,
          457,
          3,
          0,
          0,
          0,
          51,
          51,
          7,
          0,
          0,
          27,
          8,
          0,
          65,
          11,
          0,
          0,
          16,
          0,
          94,
          0,
          0,
          4,
          22,
          0,
          367,
          26,
          0,
          0,
          41,
          48,
          101,
          34,
          36,
          0,
          394,
          17,
          17,
          0,
          18,
          17,
          0,
          18,
          74,
          0,
          17,
          17,
          41,
          0,
          292,
          10,
          10,
          99,
          43,
          196,
          4,
          7,
          96,
          0,
          107,
          9,
          37,
          61,
          20,
          37,
          13,
          7,
          22,
          100,
          0,
          8,
          7,
          0,
          185,
          0,
          162,
          143,
          140,
          60,
          143,
          44,
          35,
          31,
          28,
          28,
          267,
          10,
          40,
          32,
          15,
          0,
          31,
          10,
          8,
          0,
          9,
          0,
          0,
          6,
          3,
          3,
          11,
          0,
          0,
          403,
          26,
          78,
          9,
          31,
          81,
          21,
          27,
          0,
          74,
          22,
          3,
          52,
          27,
          9,
          0,
          24,
          22,
          21,
          217,
          78,
          46,
          403,
          157,
          240,
          36,
          3,
          81,
          76,
          36,
          324,
          0,
          132,
          78,
          5,
          0,
          403,
          0,
          81,
          89,
          0,
          0,
          74,
          0,
          0,
          11,
          4,
          3,
          134,
          142,
          0,
          83,
          43,
          16,
          0,
          0,
          0,
          67,
          193,
          112,
          0,
          0,
          0
         ],
         "yaxis": "y"
        },
        {
         "customdata": [
          [
           "Paris",
           5,
           "Habitación"
          ],
          [
           "Paris",
           4.94,
           "Alojamiento entero"
          ],
          [
           "Paris",
           0,
           "Alojamiento entero"
          ],
          [
           "Paris",
           5,
           "Alojamiento entero"
          ],
          [
           "Paris",
           0,
           "Alojamiento entero"
          ],
          [
           "Paris",
           4.83,
           "Alojamiento entero"
          ],
          [
           "Paris",
           0,
           "Alojamiento entero"
          ],
          [
           "Paris",
           0,
           "Alojamiento entero"
          ],
          [
           "Paris",
           0,
           "Alojamiento entero"
          ],
          [
           "Paris",
           0,
           "Alojamiento entero"
          ],
          [
           "Paris",
           5,
           "Alojamiento entero"
          ],
          [
           "Paris",
           4.92,
           "Alojamiento entero"
          ],
          [
           "Paris",
           4.97,
           "Alojamiento entero"
          ],
          [
           "Paris",
           0,
           "Alojamiento entero"
          ],
          [
           "Paris",
           4.94,
           "Alojamiento entero"
          ],
          [
           "Paris",
           0,
           "Alojamiento entero"
          ],
          [
           "Paris",
           5,
           "Alojamiento entero"
          ],
          [
           "Paris",
           5,
           "Alojamiento entero"
          ],
          [
           "Paris",
           4.96,
           "Alojamiento entero"
          ],
          [
           "Paris",
           4.98,
           "Alojamiento entero"
          ],
          [
           "Paris",
           5,
           "Alojamiento entero"
          ],
          [
           "Paris",
           5,
           "Alojamiento entero"
          ],
          [
           "Paris",
           4.97,
           "Alojamiento entero"
          ],
          [
           "Paris",
           4.9,
           "Habitación"
          ],
          [
           "Paris",
           3.67,
           "Alojamiento entero"
          ],
          [
           "Paris",
           4.94,
           "Alojamiento entero"
          ],
          [
           "Paris",
           0,
           "Alojamiento entero"
          ],
          [
           "Paris",
           5,
           "Alojamiento entero"
          ],
          [
           "Paris",
           5,
           "Alojamiento entero"
          ],
          [
           "Paris",
           5,
           "Alojamiento entero"
          ],
          [
           "Paris",
           5,
           "Alojamiento entero"
          ],
          [
           "Paris",
           5,
           "Alojamiento entero"
          ],
          [
           "Paris",
           4.98,
           "Alojamiento entero"
          ],
          [
           "Paris",
           0,
           "Alojamiento entero"
          ],
          [
           "Paris",
           0,
           "Alojamiento entero"
          ],
          [
           "Paris",
           0,
           "Alojamiento entero"
          ],
          [
           "Paris",
           5,
           "Alojamiento entero"
          ],
          [
           "Paris",
           4.71,
           "Alojamiento entero"
          ],
          [
           "Paris",
           0,
           "Alojamiento entero"
          ],
          [
           "Paris",
           0,
           "Alojamiento entero"
          ],
          [
           "Paris",
           5,
           "Alojamiento entero"
          ],
          [
           "Paris",
           5,
           "Alojamiento entero"
          ],
          [
           "Paris",
           0,
           "Alojamiento entero"
          ],
          [
           "Paris",
           0,
           "Alojamiento entero"
          ],
          [
           "Paris",
           0,
           "Alojamiento entero"
          ],
          [
           "Paris",
           4.78,
           "Alojamiento entero"
          ],
          [
           "Paris",
           4.6,
           "Alojamiento entero"
          ],
          [
           "Paris",
           5,
           "Alojamiento entero"
          ],
          [
           "Paris",
           5,
           "Alojamiento entero"
          ],
          [
           "Paris",
           4.79,
           "Alojamiento entero"
          ],
          [
           "Paris",
           0,
           "Alojamiento entero"
          ],
          [
           "Paris",
           5,
           "Alojamiento entero"
          ],
          [
           "Paris",
           5,
           "Alojamiento entero"
          ],
          [
           "Paris",
           5,
           "Alojamiento entero"
          ],
          [
           "Paris",
           5,
           "Alojamiento entero"
          ],
          [
           "Paris",
           4.95,
           "Habitación"
          ],
          [
           "Paris",
           0,
           "Alojamiento entero"
          ],
          [
           "Paris",
           4.97,
           "Habitación"
          ],
          [
           "Paris",
           0,
           "Alojamiento entero"
          ],
          [
           "Paris",
           0,
           "Alojamiento entero"
          ],
          [
           "Paris",
           0,
           "Alojamiento entero"
          ],
          [
           "Paris",
           4.6,
           "Alojamiento entero"
          ],
          [
           "Paris",
           4.88,
           "Alojamiento entero"
          ],
          [
           "Paris",
           4.97,
           "Alojamiento entero"
          ],
          [
           "Paris",
           4.94,
           "Alojamiento entero"
          ],
          [
           "Paris",
           0,
           "Alojamiento entero"
          ],
          [
           "Paris",
           0,
           "Alojamiento entero"
          ],
          [
           "Paris",
           4.94,
           "Alojamiento entero"
          ],
          [
           "Paris",
           4.96,
           "Alojamiento entero"
          ],
          [
           "Paris",
           0,
           "Alojamiento entero"
          ],
          [
           "Paris",
           4.94,
           "Alojamiento entero"
          ],
          [
           "Paris",
           4.96,
           "Alojamiento entero"
          ],
          [
           "Paris",
           0,
           "Alojamiento entero"
          ],
          [
           "Paris",
           4.9,
           "Alojamiento entero"
          ],
          [
           "Paris",
           4.99,
           "Alojamiento entero"
          ],
          [
           "Paris",
           4.81,
           "Alojamiento entero"
          ],
          [
           "Paris",
           0,
           "Alojamiento entero"
          ],
          [
           "Paris",
           0,
           "Alojamiento entero"
          ],
          [
           "Paris",
           4.55,
           "Alojamiento entero"
          ],
          [
           "Paris",
           4.78,
           "Alojamiento entero"
          ],
          [
           "Paris",
           4.92,
           "Alojamiento entero"
          ],
          [
           "Paris",
           4.6,
           "Alojamiento entero"
          ],
          [
           "Paris",
           4.55,
           "Alojamiento entero"
          ],
          [
           "Paris",
           0,
           "Alojamiento entero"
          ],
          [
           "Paris",
           0,
           "Alojamiento entero"
          ],
          [
           "Paris",
           0,
           "Alojamiento entero"
          ],
          [
           "Paris",
           0,
           "Alojamiento entero"
          ],
          [
           "Paris",
           0,
           "Alojamiento entero"
          ],
          [
           "Paris",
           4.89,
           "Alojamiento entero"
          ],
          [
           "Paris",
           4.89,
           "Alojamiento entero"
          ],
          [
           "Paris",
           4.69,
           "Alojamiento entero"
          ],
          [
           "Paris",
           4.56,
           "Alojamiento entero"
          ],
          [
           "Paris",
           4.27,
           "Alojamiento entero"
          ],
          [
           "Paris",
           0,
           "Alojamiento entero"
          ],
          [
           "Paris",
           5,
           "Alojamiento entero"
          ],
          [
           "Paris",
           0,
           "Alojamiento entero"
          ],
          [
           "Paris",
           5,
           "Alojamiento entero"
          ],
          [
           "Paris",
           5,
           "Alojamiento entero"
          ],
          [
           "Paris",
           5,
           "Alojamiento entero"
          ],
          [
           "Paris",
           5,
           "Alojamiento entero"
          ],
          [
           "Paris",
           5,
           "Alojamiento entero"
          ],
          [
           "Paris",
           4.63,
           "Alojamiento entero"
          ],
          [
           "Paris",
           4.67,
           "Alojamiento entero"
          ],
          [
           "Paris",
           4.97,
           "Habitación"
          ],
          [
           "Paris",
           5,
           "Alojamiento entero"
          ],
          [
           "Paris",
           5,
           "Alojamiento entero"
          ],
          [
           "Paris",
           5,
           "Alojamiento entero"
          ],
          [
           "Paris",
           0,
           "Alojamiento entero"
          ],
          [
           "Paris",
           0,
           "Alojamiento entero"
          ],
          [
           "Paris",
           5,
           "Alojamiento entero"
          ],
          [
           "Paris",
           5,
           "Alojamiento entero"
          ],
          [
           "Paris",
           5,
           "Alojamiento entero"
          ],
          [
           "Paris",
           5,
           "Alojamiento entero"
          ],
          [
           "Paris",
           5,
           "Alojamiento entero"
          ],
          [
           "Paris",
           5,
           "Alojamiento entero"
          ],
          [
           "Paris",
           5,
           "Alojamiento entero"
          ],
          [
           "Paris",
           5,
           "Alojamiento entero"
          ],
          [
           "Paris",
           5,
           "Alojamiento entero"
          ],
          [
           "Paris",
           4.92,
           "Alojamiento entero"
          ],
          [
           "Paris",
           5,
           "Alojamiento entero"
          ],
          [
           "Paris",
           4.9,
           "Alojamiento entero"
          ],
          [
           "Paris",
           5,
           "Alojamiento entero"
          ],
          [
           "Paris",
           5,
           "Alojamiento entero"
          ],
          [
           "Paris",
           0,
           "Alojamiento entero"
          ],
          [
           "Paris",
           4.9,
           "Alojamiento entero"
          ],
          [
           "Paris",
           5,
           "Alojamiento entero"
          ],
          [
           "Paris",
           5,
           "Alojamiento entero"
          ],
          [
           "Paris",
           5,
           "Alojamiento entero"
          ],
          [
           "Paris",
           4.93,
           "Alojamiento entero"
          ],
          [
           "Paris",
           4.94,
           "Alojamiento entero"
          ],
          [
           "Paris",
           0,
           "Alojamiento entero"
          ],
          [
           "Paris",
           4.94,
           "Alojamiento entero"
          ],
          [
           "Paris",
           5,
           "Alojamiento entero"
          ],
          [
           "Paris",
           4.88,
           "Alojamiento entero"
          ],
          [
           "Paris",
           4.98,
           "Alojamiento entero"
          ],
          [
           "Paris",
           4.98,
           "Alojamiento entero"
          ],
          [
           "Paris",
           4.94,
           "Alojamiento entero"
          ],
          [
           "Paris",
           4.99,
           "Alojamiento entero"
          ],
          [
           "Paris",
           4.87,
           "Alojamiento entero"
          ],
          [
           "Paris",
           5,
           "Alojamiento entero"
          ],
          [
           "Paris",
           4.96,
           "Alojamiento entero"
          ],
          [
           "Paris",
           4.95,
           "Alojamiento entero"
          ],
          [
           "Paris",
           4.99,
           "Alojamiento entero"
          ],
          [
           "Paris",
           5,
           "Alojamiento entero"
          ],
          [
           "Paris",
           4.86,
           "Alojamiento entero"
          ],
          [
           "Paris",
           5,
           "Alojamiento entero"
          ],
          [
           "Paris",
           4.86,
           "Alojamiento entero"
          ],
          [
           "Paris",
           5,
           "Alojamiento entero"
          ],
          [
           "Paris",
           5,
           "Alojamiento entero"
          ],
          [
           "Paris",
           5,
           "Alojamiento entero"
          ],
          [
           "Paris",
           4.9,
           "Alojamiento entero"
          ],
          [
           "Paris",
           5,
           "Alojamiento entero"
          ],
          [
           "Paris",
           4.9,
           "Habitación"
          ],
          [
           "Paris",
           4.96,
           "Alojamiento entero"
          ],
          [
           "Paris",
           0,
           "Alojamiento entero"
          ],
          [
           "Paris",
           4.99,
           "Alojamiento entero"
          ],
          [
           "Paris",
           0,
           "Alojamiento entero"
          ],
          [
           "Paris",
           5,
           "Alojamiento entero"
          ],
          [
           "Paris",
           4.95,
           "Habitación"
          ],
          [
           "Paris",
           0,
           "Alojamiento entero"
          ],
          [
           "Paris",
           4.88,
           "Alojamiento entero"
          ],
          [
           "Paris",
           4.85,
           "Alojamiento entero"
          ],
          [
           "Paris",
           5,
           "Alojamiento entero"
          ],
          [
           "Paris",
           4.96,
           "Alojamiento entero"
          ],
          [
           "Paris",
           4.65,
           "Alojamiento entero"
          ],
          [
           "Paris",
           4.92,
           "Alojamiento entero"
          ],
          [
           "Paris",
           4.93,
           "Alojamiento entero"
          ],
          [
           "Paris",
           0,
           "Alojamiento entero"
          ],
          [
           "Paris",
           4.97,
           "Alojamiento entero"
          ],
          [
           "Paris",
           4.97,
           "Alojamiento entero"
          ],
          [
           "Paris",
           4.98,
           "Alojamiento entero"
          ],
          [
           "Paris",
           4.71,
           "Alojamiento entero"
          ],
          [
           "Paris",
           4.98,
           "Habitación"
          ],
          [
           "Paris",
           4.99,
           "Alojamiento entero"
          ],
          [
           "Paris",
           4.96,
           "Alojamiento entero"
          ],
          [
           "Paris",
           4.8,
           "Alojamiento entero"
          ],
          [
           "Paris",
           4.99,
           "Alojamiento entero"
          ],
          [
           "Paris",
           0,
           "Alojamiento entero"
          ],
          [
           "Paris",
           4.83,
           "Alojamiento entero"
          ],
          [
           "Paris",
           4.94,
           "Alojamiento entero"
          ],
          [
           "Paris",
           4.89,
           "Alojamiento entero"
          ],
          [
           "Paris",
           4.91,
           "Alojamiento entero"
          ],
          [
           "Paris",
           4.98,
           "Habitación"
          ],
          [
           "Paris",
           4.95,
           "Alojamiento entero"
          ],
          [
           "Paris",
           5,
           "Alojamiento entero"
          ],
          [
           "Paris",
           4.65,
           "Alojamiento entero"
          ],
          [
           "Paris",
           5,
           "Alojamiento entero"
          ],
          [
           "Paris",
           0,
           "Alojamiento entero"
          ],
          [
           "Paris",
           4.92,
           "Habitación"
          ],
          [
           "Paris",
           4.98,
           "Alojamiento entero"
          ],
          [
           "Paris",
           5,
           "Alojamiento entero"
          ],
          [
           "Paris",
           4.9,
           "Alojamiento entero"
          ],
          [
           "Paris",
           5,
           "Alojamiento entero"
          ],
          [
           "Paris",
           5,
           "Alojamiento entero"
          ],
          [
           "Paris",
           4.88,
           "Alojamiento entero"
          ],
          [
           "Paris",
           4.86,
           "Alojamiento entero"
          ],
          [
           "Paris",
           4.92,
           "Alojamiento entero"
          ],
          [
           "Paris",
           0,
           "Alojamiento entero"
          ],
          [
           "Paris",
           4.86,
           "Alojamiento entero"
          ],
          [
           "Paris",
           0,
           "Alojamiento entero"
          ],
          [
           "Paris",
           5,
           "Alojamiento entero"
          ],
          [
           "Paris",
           0,
           "Alojamiento entero"
          ],
          [
           "Paris",
           5,
           "Alojamiento entero"
          ],
          [
           "Paris",
           5,
           "Alojamiento entero"
          ],
          [
           "Paris",
           4.76,
           "Alojamiento entero"
          ],
          [
           "Paris",
           4.92,
           "Alojamiento entero"
          ],
          [
           "Paris",
           4.96,
           "Alojamiento entero"
          ],
          [
           "Paris",
           4.88,
           "Alojamiento entero"
          ],
          [
           "Paris",
           4.96,
           "Alojamiento entero"
          ],
          [
           "Paris",
           4.95,
           "Alojamiento entero"
          ],
          [
           "Paris",
           4.92,
           "Alojamiento entero"
          ],
          [
           "Paris",
           4.92,
           "Alojamiento entero"
          ],
          [
           "Paris",
           5,
           "Alojamiento entero"
          ],
          [
           "Paris",
           0,
           "Alojamiento entero"
          ],
          [
           "Paris",
           4.86,
           "Alojamiento entero"
          ],
          [
           "Paris",
           0,
           "Alojamiento entero"
          ],
          [
           "Paris",
           4.94,
           "Alojamiento entero"
          ],
          [
           "Paris",
           4.75,
           "Alojamiento entero"
          ],
          [
           "Paris",
           5,
           "Alojamiento entero"
          ],
          [
           "Paris",
           4.92,
           "Alojamiento entero"
          ],
          [
           "Paris",
           5,
           "Alojamiento entero"
          ],
          [
           "Paris",
           5,
           "Alojamiento entero"
          ],
          [
           "Paris",
           0,
           "Alojamiento entero"
          ],
          [
           "Paris",
           4.87,
           "Alojamiento entero"
          ],
          [
           "Paris",
           5,
           "Alojamiento entero"
          ],
          [
           "Paris",
           5,
           "Alojamiento entero"
          ],
          [
           "Paris",
           4.85,
           "Alojamiento entero"
          ],
          [
           "Paris",
           4.95,
           "Alojamiento entero"
          ],
          [
           "Paris",
           4.91,
           "Alojamiento entero"
          ],
          [
           "Paris",
           4.85,
           "Alojamiento entero"
          ],
          [
           "Paris",
           4.95,
           "Alojamiento entero"
          ],
          [
           "Paris",
           5,
           "Alojamiento entero"
          ],
          [
           "Paris",
           5,
           "Alojamiento entero"
          ],
          [
           "Paris",
           4.75,
           "Alojamiento entero"
          ],
          [
           "Paris",
           4.96,
           "Alojamiento entero"
          ],
          [
           "Paris",
           0,
           "Alojamiento entero"
          ],
          [
           "Paris",
           0,
           "Alojamiento entero"
          ],
          [
           "Paris",
           5,
           "Alojamiento entero"
          ],
          [
           "Paris",
           4.9,
           "Alojamiento entero"
          ],
          [
           "Paris",
           0,
           "Alojamiento entero"
          ],
          [
           "Paris",
           4.94,
           "Alojamiento entero"
          ],
          [
           "Paris",
           4.86,
           "Alojamiento entero"
          ],
          [
           "Paris",
           4.88,
           "Alojamiento entero"
          ],
          [
           "Paris",
           4.96,
           "Alojamiento entero"
          ],
          [
           "Paris",
           4.94,
           "Alojamiento entero"
          ],
          [
           "Paris",
           4.82,
           "Alojamiento entero"
          ],
          [
           "Paris",
           4.8,
           "Alojamiento entero"
          ]
         ],
         "hovertemplate": "<b>%{hovertext}</b><br><br>City=%{customdata[0]}<br>Price per night (log scale)=%{x}<br>Reviews (log scale)=%{y}<br>rating=%{customdata[1]}<br>category=%{customdata[2]}<extra></extra>",
         "hovertext": [
          "Habitación de huéspedes balneoterapia Limeil-Brévannes",
          "Casa Nina, Suite de excepción",
          "Estudio en la calle la Boëtie",
          "Acogedor apartamento * Puertas de París * Pareja ideal",
          "2 habitaciones en París - Campos de Marte/Torre Eiffel",
          "Estudio con encanto bien situado",
          "Apartamento luminoso con vistas a los tejados",
          "¡Sol en el corazón de Le Marais!",
          "Appart Paris16 Tour Eiffel Troca",
          "La mejor vista de la torre Eiffel.",
          "Elegante art deco a pie de París 16.",
          "Amplio apartamento de 2 habitaciones con terraza",
          "Encantador estudio en un barrio animado",
          "Encanto de 2 habitaciones Montmartre",
          "Encanto y comodidad en el corazón de Batignolles",
          "Balcón | en el corazón del distrito 9",
          "Apartamento tranquilo en Montmartre - EasyHostin'",
          "Apartamento tranquilo en Montmartre - EasyHostin'",
          "Edgar Suites Bouchardon - Studio superior patio",
          "Encantador apartamento - Canal St Martin/République",
          "Apartamento tranquilo Abbesses Montmartre",
          "Increíble apartamento en Montmartre 2/4P",
          "Le Van Gogh Appart • 3'RER • 11'Paris • 23'Disney",
          "Ático Sky cerca de la torre Eiffel",
          "Acogedor apartamento para 2 -canal st Martin",
          "Gran apartamento acogedor a orillas del canal",
          "Un increíble 1-Br/1BA en Montmartre",
          "Lac du Panorama* cerca de París* aparcamiento privado *",
          "Impresionante apartamento de lujo moderno y reformado",
          "Escapada a la selva bajo el cielo parisino",
          "Lujoso Apartamento Jacuzzi cerca de París",
          "Apartamento T3 cerca de Montmartre",
          "Apto. 40M² Torre Eiffel - Puerta Versalles",
          "* Apartamento acogedor * Puertas de París*",
          "Acogedor apartamento cerca de Rivoli y del Museo del Louvre",
          "Hermoso apartamento con vistas a la Torre Eiffel",
          "Estudio céntrico +Wifi rápido + Desayuno + Vino",
          "Magnífico Apartamento 1BR/4P - Montorgueil 6",
          "Encantador apartamento en el corazón de París",
          "Un increíble 1-Br/1BA en Montmartre",
          "Luminoso y tranquilo, T2 equipado a 15 minutos de París",
          "Encanto urbano: 2 habitaciones Acogedor cerca de Accor Arena",
          "Luxury & Design Flat 1BR/4P- Bastille",
          "Luxueux 60m² central de Beaubourg",
          "Montmartre Duplex, Sacré-Cœur - Charming Hideaway",
          "Loft chic vintage Paris center",
          "Magnífico Apartamento 1BR/4P - Montorgueil 7",
          "Acogedor apartamento en Montmartre",
          "Suite de 3 habitaciones en París - Nation",
          "Ubicación superior - París/Disney/Montmartre",
          "Apartamento con encanto cerca de los Quais de Seine",
          "Acogedor apartamento en un callejón tranquilo",
          "Apartamento de diseño con vistas a París",
          "Superbe studio vue Tour Eiffel",
          "Encantador Père Lachaise de dos habitaciones",
          "Cerca de la Torre Eiffel, metro y comercios.",
          "Acogedora casa con terraza cerca del Canal Saint-Martin",
          "En el muelle, frente al Louvre, muy limpio, buen wifi",
          "Apartamento de 2 habitaciones luminoso",
          "Encantador estudio Montmartre en el último piso tranquilo",
          "Un increíble 1-Br/1BA en Montmartre",
          "Magnífico Apartamento 1BR/4P - Montorgueil 7",
          "París: apartamento tranquilo y luminoso",
          "Tour moderno estudio bail mobilité con vistas a Eiffel",
          "Apartamento recién renovado entre la Ópera y el Louvre",
          "Boisseau, 1Ch/1Sdb, 2 personas",
          "Balcón | en el corazón del distrito 9",
          "Diseño de 44m ² | CDG | París | Disney | Astérix",
          "Apartamento luminoso cerca de la plaza Léon Blum",
          "Boisseau, 1Ch/1Sdb, 2 personas",
          "Diseño de 44m ² | CDG | París | Disney | Astérix",
          "Apartamento luminoso cerca de la plaza Léon Blum",
          "Apartamento elegante en París y terraza",
          "Acogedor T2 con balcón -RER B/París",
          "Loft 52m²+estacionamiento a 15 min del centro de París",
          "Apartamento 1 BR con balcón - Chatelet/ París 2",
          "Luxueux 60m² central de Beaubourg",
          "Apartamento de 2 habitaciones luminoso",
          "LE MARAIS - NUEVO APARTAMENTO DE ALTA GAMA",
          "Loft chic vintage Paris center",
          "Maison Bůoise 1BR/3P con AC en los Campos Elíseos",
          "Magnífico Apartamento 1BR/4P - Montorgueil 4",
          "Precioso apartamento en el corazón del distrito 16",
          "Hermosa vista estudio París 17",
          "El Sorprendente - París",
          "Luxury & Design Flat 1BR/4P- Bastille",
          "Un increíble 1-Br/1BA en Montmartre",
          "El Sorprendente - París",
          "Apartamento de lujo de un dormitorio cerca del Louvre II",
          "1556: Estudio Madeleine en los Juegos Olímpicos de París 2024",
          "Increíble apartamento 1BR/4P - Montorgueil - 3",
          "INCREÍBLE LOFT HISTÓRICO PARISINO JUNTO A LA ZONA DEL LOUVRE! - 4",
          "*Encantador apartamento para 2 en Trocadéro - París 16*",
          "Apartamento de 2 habitaciones «como en casa»",
          "La Maison Kleber, Luxury 1BR Eiffel Champs-Elysées",
          "Piso de estilo con aire acondicionado en Marais en el último piso",
          "CityStay Confort 5 min en metro",
          "Amplio loft reformado con aire acondicionado",
          "Piso a 10 minutos del centro de París",
          "Luminoso apartamento de Batignolles con vistas a la Torre Eiffel",
          "Acogedor apartamento en Montmartre",
          "Magnífico Apartamento 1BR/4P - Montorgueil 5",
          "Ultra Central Historical Parisian Flat - Louvre",
          "En el muelle, frente al Louvre, muy limpio, buen wifi",
          "Apartamento atípico y encantador en el centro de Le Marais",
          "Apartamento romántico Montmartre & Pigalle",
          "Ambiente acogedor en el barrio superior a 15 minutos de París",
          "Acogedor apartamento con balcón cerca de Montmartre",
          "Marais - République",
          "Estudio Montmartre con balcón",
          "En el corazón de Montmartre",
          "L'Eden - Casa para 12 PERSONAS - París y Disney",
          "¡Airbnb de verdad, bienvenida a casa !",
          "Acogedor apartamento en el corazón de París Bonne Nouvelle",
          "Gran apartamento parisino a dos pasos del pantano",
          "Apartamento de arquitecto con terraza privada",
          "Apartamento parisino chic chic con vistas a la azotea",
          "Mon Boudoir a 10 min de París - 50m2",
          "Metro Line 1: Comfortable flat near La Défense",
          "Estudio Céntrico, Wifi + Desayuno + Vino",
          "Terraza floral, vista, relax asegurado",
          "Escapada romántica en Montmartre",
          "Acogedor encanto y elegancia parisina junto a Canal St. Martin",
          "Fantástico apartamento familiar a 20 minutos del centro",
          "Terraza floral, vista, relax asegurado",
          "Bohème-chic, zona Opéra-Grands Boulevards",
          "Encantador apartamento en el corazón de París",
          "Apartamento luminoso en el 10º",
          "Amplio estudio Montmartre Airco",
          "Elegante burbuja parisina enVillage Jourdain/Pyrénées",
          "Apartamento del arquitecto",
          "Arco de Triunfo ! Champs-Elysées ! Tranquilo y acogedor",
          "República, amplio y lujoso 2 habitaciones",
          "TRANQUILO PISO EN EL CORAZÓN DE PARIS",
          "Gran estudio en el centro de París, cerca del Louvre",
          "Apartment Studio de 25 m²: Le Marais, París.",
          "Apartamento de 2 habitaciones tranquilo en el jardín",
          "Fabuloso estudio en el corazón de Old Montmartre",
          "Estudio Petit - París 12",
          "Amplio y tranquilo apartamento de 2 dormitorios con aire acondicionado y patio",
          "Apartamento acogedor - Sentier",
          "2 habitaciones y balcón en casa de Pauline",
          "Fabuloso estudio en el corazón de Old Montmartre",
          "Amplio y tranquilo apartamento de 2 dormitorios con aire acondicionado y patio",
          "Piso del arquitecto en el canal",
          "Centro histórico Habitación, cocina, baño del estudiante.",
          "Saint-Germain-des-Près rue Échaudé",
          "Increíble apartamento 1BR/4P Le Marais",
          "Jardín secreto/ 75011 París",
          "Apartamento luminoso, cerca del metro, fácil acceso",
          "¡Suite de diseño con terraza privada en el centro de París!",
          "Encantador T2 a las puertas de París",
          "Suite entera Eiffel Premier",
          "París: apartamento a estrenar en residencia segura",
          "Apartamento con fantásticas vistas en Pantin - Welkeys",
          "#Paris 12 Gare de Lyon Bercy Accor Arena Bastille#",
          "Apartamento acogedor y luminoso",
          "Acogedor apartamento en el corazón de París",
          "París 12: habitación independiente con patio florido",
          "Apartamento tranquilo - Barrio Latino Mouftard",
          "Superanfitrión con encanto de 2 dormitorios en el corazón de París",
          "Excelente ubicación Paris Centre",
          "Dos habitaciones con encanto de Notre Dame",
          "Moderno, tranquilo y seguro en la ubicación correcta",
          "Magnífico Apartamento 1BR/4P - Montorgueil 2",
          "Estudio de lujo de clase alta rue Saint-Honoré",
          "Riviera Maya - Estación TGV 3 min a pie - Cerca de París",
          "Appartement Place Vendôme Paris",
          "Estudio o calma",
          "Apartamento 38 m² a Nation - 1 cama queen + 1 sofá cama",
          "Louvre - Acogedor estudio elegante - \"Emily in Paris\"",
          "Rue Vavin",
          "Amplio estudio en la agradable zona de Gambetta",
          "Loft Dúplex Luminoso con vistas + Estufa + Bañera",
          "Impresionante apartamento acogedor entre Disney y París",
          "Apartamento de 2 habitaciones en el centro de París",
          "Loft Dúplex Luminoso con vistas + Estufa + Bañera",
          "Appartement Place Vendôme Paris",
          "Otro lado",
          "Precioso loft en el corazón de París 501",
          "Jacuzzi Versailles - Sauna - C",
          "Encantador Maur Escape Apartment 3 minutos estación",
          "Amplio estudio en la agradable zona de Gambetta",
          "Suite de lujo con jardín privado Sauna y Jaccuzi",
          "Precioso apartamento con balcón, junto al Jardín de plantas.",
          "Magnífico Apartamento 1BR/4P - Montorgueil 2",
          "EL capullo soleado DEL NIDO totalmente equipado, en el centro de la ciudad",
          "Apartamento a 5 minutos de París Metro 7 Aparcamiento gratuito",
          "Escapada parisina",
          "Vive como un parisino",
          "¡El acogedor del 15!",
          "Acogedor apartamento 4P/1BR - Le Marais",
          "Estudio entre canal st martin y buttes-chaumont",
          "Apartamento en Trocadéro",
          "Dos habitaciones 42 m² reformado con aparcamiento gratuito",
          "Oasis Marais, un jardín en París",
          "Elegante apartamento cerca de los Campos Elíseos 403",
          "Precioso y acogedor de 2 habitaciones",
          "Canal de París Saint Martin 55m2",
          "Acogedora casa con terraza cerca del Canal Saint-Martin",
          "Lavie Maison : aire acondicionado y espacioso y centro de París",
          "Hermoso apartamento - París 11",
          "Apartamento con aire acondicionado, Barrio Latino, 40m2",
          "Precioso apartamento en la Bastilla, cerca de Marais",
          "Acogedor y tranquilo departamento entre el 11/Le Marais",
          "Torre Eiffel EN TU salón",
          "Elegante apartamento en el Palacio Real de RICHELIEU",
          "Encantador 40m2 barrio Saint-Maur",
          "Loft de lujo con aire acondicionado en París",
          "Excepcional 2 hermanos con una fantástica vista a la Torre Eiffel",
          "Nid Cosy proche Arc de Triomphe",
          "Marais: un dormitorio luminoso y decorado con gusto",
          "Estudio - Eiffel - Invalides - Rue Cler",
          "Apartamento luminoso con vistas a los tejados",
          "Loft parisino moderno cerca de varias líneas de metro",
          "Luxury & Design Flat 1BR/4P- Bastille",
          "EL acogedor apartamento con aire acondicionado de PALMERAS en el centro de París",
          "Encantador apartamento cerca de Marais/Sentier",
          "75m2 dúplex luminoso&confortable /habitación grande",
          "Escapada exclusiva: alojamiento Luxe en una ubicación privilegiada A21",
          "El Sagrado Corazón de París: unas vistas perfectas",
          "Casa acogedora - Rer C & A15",
          "Sublim apart «la marquise »paris centterrace 2bh",
          "Apartamento acogedor y encantador au coeur de París",
          "Encantador apartamento a 10 minutos a pie del metro 12 París",
          "Acogedor T2 Barrio de los Campos Elíseos (avenida Hoche)",
          "¡Maravilloso apartamento Saint Germain des Prés !",
          "Amplio apartamento renovado cerca del Louvre",
          "* Louvre Saint-Eustache Opéra * París",
          "¡Maravilloso apartamento Saint Germain des Prés !",
          "Paz - Apartamento luminoso y cómodo",
          "Encantador apartamento recientemente reformado en el día 7",
          "Luminoso apartamento en el corazón de Batignolles",
          "Obelisco de la Bastilla",
          "Estudio parisino cerca de la Torre Eiffel",
          "Luminoso apartamento para 2 personas justo al lado de París",
          "Vista rara, a dos pasos del Sena.",
          "Estudio de 16 m² en el 2º arr.",
          "Apartamento elegante en Montmartre",
          "Precioso Sacré-Cœur",
          "Cálido apartamento Montmartre - EasyHostin'",
          "Aparentemente muy céntrico en el corazón de París 35 m2",
          "PRECIOSO APARTAMENTO EN MONTORGUEIL PARIS",
          "2 habitaciones (43 m²), Place d 'Italie - París 13",
          "Apartamento muy tranquilo Ópera - Pigalle",
          "Apartamento de 2 habitaciones en el Canal Saint Martin",
          "La Diva - Le Haut Marais - With AirCon!"
         ],
         "legendgroup": "Paris",
         "marker": {
          "color": "#00cc96",
          "opacity": 0.5,
          "size": [
           5,
           4.94,
           0,
           5,
           0,
           4.83,
           0,
           0,
           0,
           0,
           5,
           4.92,
           4.97,
           0,
           4.94,
           0,
           5,
           5,
           4.96,
           4.98,
           5,
           5,
           4.97,
           4.9,
           3.67,
           4.94,
           0,
           5,
           5,
           5,
           5,
           5,
           4.98,
           0,
           0,
           0,
           5,
           4.71,
           0,
           0,
           5,
           5,
           0,
           0,
           0,
           4.78,
           4.6,
           5,
           5,
           4.79,
           0,
           5,
           5,
           5,
           5,
           4.95,
           0,
           4.97,
           0,
           0,
           0,
           4.6,
           4.88,
           4.97,
           4.94,
           0,
           0,
           4.94,
           4.96,
           0,
           4.94,
           4.96,
           0,
           4.9,
           4.99,
           4.81,
           0,
           0,
           4.55,
           4.78,
           4.92,
           4.6,
           4.55,
           0,
           0,
           0,
           0,
           0,
           4.89,
           4.89,
           4.69,
           4.56,
           4.27,
           0,
           5,
           0,
           5,
           5,
           5,
           5,
           5,
           4.63,
           4.67,
           4.97,
           5,
           5,
           5,
           0,
           0,
           5,
           5,
           5,
           5,
           5,
           5,
           5,
           5,
           5,
           4.92,
           5,
           4.9,
           5,
           5,
           0,
           4.9,
           5,
           5,
           5,
           4.93,
           4.94,
           0,
           4.94,
           5,
           4.88,
           4.98,
           4.98,
           4.94,
           4.99,
           4.87,
           5,
           4.96,
           4.95,
           4.99,
           5,
           4.86,
           5,
           4.86,
           5,
           5,
           5,
           4.9,
           5,
           4.9,
           4.96,
           0,
           4.99,
           0,
           5,
           4.95,
           0,
           4.88,
           4.85,
           5,
           4.96,
           4.65,
           4.92,
           4.93,
           0,
           4.97,
           4.97,
           4.98,
           4.71,
           4.98,
           4.99,
           4.96,
           4.8,
           4.99,
           0,
           4.83,
           4.94,
           4.89,
           4.91,
           4.98,
           4.95,
           5,
           4.65,
           5,
           0,
           4.92,
           4.98,
           5,
           4.9,
           5,
           5,
           4.88,
           4.86,
           4.92,
           0,
           4.86,
           0,
           5,
           0,
           5,
           5,
           4.76,
           4.92,
           4.96,
           4.88,
           4.96,
           4.95,
           4.92,
           4.92,
           5,
           0,
           4.86,
           0,
           4.94,
           4.75,
           5,
           4.92,
           5,
           5,
           0,
           4.87,
           5,
           5,
           4.85,
           4.95,
           4.91,
           4.85,
           4.95,
           5,
           5,
           4.75,
           4.96,
           0,
           0,
           5,
           4.9,
           0,
           4.94,
           4.86,
           4.88,
           4.96,
           4.94,
           4.82,
           4.8
          ],
          "sizemode": "area",
          "sizeref": 0.2,
          "symbol": "circle"
         },
         "mode": "markers",
         "name": "Paris",
         "orientation": "v",
         "showlegend": true,
         "type": "scatter",
         "x": [
          186,
          379,
          100,
          89,
          130,
          86,
          86,
          300,
          250,
          240,
          265,
          130,
          110,
          99,
          210,
          164,
          179,
          179,
          308,
          140,
          145,
          138,
          110,
          280,
          87,
          180,
          168,
          140,
          191,
          152,
          128,
          190,
          130,
          136,
          261,
          120,
          180,
          188,
          219,
          176,
          67,
          95,
          289,
          220,
          219,
          182,
          196,
          130,
          198,
          160,
          280,
          155,
          196,
          90,
          120,
          130,
          117,
          163,
          140,
          95,
          176,
          196,
          115,
          140,
          281,
          220,
          164,
          71,
          180,
          220,
          71,
          180,
          160,
          70,
          91,
          247,
          220,
          140,
          179,
          182,
          205,
          214,
          187,
          90,
          223,
          299,
          176,
          223,
          481,
          180,
          251,
          272,
          140,
          70,
          325,
          444,
          114,
          319,
          70,
          135,
          130,
          218,
          184,
          163,
          540,
          235,
          54,
          114,
          349,
          120,
          205,
          279,
          220,
          269,
          189,
          110,
          715,
          65,
          68,
          180,
          140,
          165,
          315,
          286,
          140,
          234,
          290,
          350,
          150,
          124,
          124,
          250,
          169,
          100,
          210,
          178,
          140,
          216,
          96,
          378,
          240,
          184,
          216,
          378,
          143,
          110,
          220,
          350,
          280,
          80,
          596,
          82,
          150,
          200,
          92,
          124,
          160,
          301,
          100,
          150,
          295,
          100,
          135,
          162,
          212,
          150,
          83,
          159,
          75,
          154,
          275,
          180,
          100,
          100,
          85,
          170,
          100,
          159,
          96,
          229,
          134,
          72,
          100,
          396,
          260,
          212,
          145,
          90,
          169,
          250,
          137,
          228,
          138,
          315,
          69,
          150,
          258,
          62,
          110,
          117,
          453,
          144,
          250,
          190,
          130,
          288,
          533,
          125,
          129,
          601,
          120,
          228,
          143,
          86,
          140,
          299,
          191,
          276,
          150,
          408,
          125,
          45,
          240,
          134,
          71,
          130,
          150,
          292,
          426,
          150,
          110,
          325,
          320,
          162,
          180,
          59,
          140,
          100,
          145,
          109,
          200,
          111,
          199,
          107,
          230,
          101,
          190
         ],
         "xaxis": "x",
         "y": [
          34,
          196,
          0,
          0,
          0,
          0,
          0,
          0,
          0,
          0,
          20,
          62,
          174,
          0,
          18,
          0,
          9,
          9,
          24,
          0,
          17,
          0,
          29,
          230,
          3,
          17,
          0,
          0,
          4,
          3,
          17,
          3,
          87,
          0,
          0,
          0,
          24,
          0,
          0,
          0,
          5,
          8,
          0,
          0,
          0,
          27,
          0,
          5,
          29,
          14,
          0,
          6,
          31,
          17,
          6,
          186,
          0,
          331,
          0,
          0,
          0,
          0,
          16,
          91,
          150,
          0,
          0,
          0,
          25,
          0,
          0,
          25,
          0,
          10,
          0,
          132,
          0,
          0,
          121,
          27,
          62,
          0,
          0,
          0,
          0,
          0,
          0,
          0,
          27,
          9,
          0,
          0,
          11,
          0,
          0,
          0,
          6,
          52,
          3,
          3,
          5,
          0,
          0,
          331,
          18,
          25,
          18,
          0,
          0,
          7,
          22,
          0,
          3,
          67,
          45,
          12,
          0,
          24,
          257,
          29,
          10,
          3,
          0,
          0,
          10,
          6,
          0,
          8,
          472,
          72,
          0,
          17,
          10,
          416,
          42,
          135,
          16,
          124,
          30,
          0,
          23,
          21,
          124,
          0,
          29,
          10,
          304,
          3,
          21,
          4,
          80,
          0,
          249,
          114,
          0,
          99,
          0,
          56,
          354,
          0,
          230,
          86,
          3,
          100,
          0,
          97,
          107,
          0,
          32,
          32,
          51,
          7,
          60,
          83,
          224,
          20,
          83,
          0,
          47,
          16,
          9,
          23,
          60,
          22,
          19,
          0,
          25,
          0,
          79,
          148,
          20,
          0,
          10,
          12,
          223,
          29,
          152,
          0,
          0,
          0,
          8,
          0,
          37,
          29,
          29,
          215,
          0,
          32,
          138,
          138,
          13,
          132,
          0,
          0,
          84,
          0,
          154,
          0,
          3,
          0,
          19,
          4,
          0,
          0,
          34,
          34,
          20,
          366,
          99,
          20,
          79,
          0,
          16,
          4,
          26,
          0,
          0,
          0,
          30,
          0,
          18,
          0,
          182,
          0,
          18,
          17,
          241
         ],
         "yaxis": "y"
        }
       ],
       "layout": {
        "legend": {
         "itemsizing": "constant",
         "title": {
          "text": "City"
         },
         "tracegroupgap": 0
        },
        "template": {
         "data": {
          "bar": [
           {
            "error_x": {
             "color": "#2a3f5f"
            },
            "error_y": {
             "color": "#2a3f5f"
            },
            "marker": {
             "line": {
              "color": "#E5ECF6",
              "width": 0.5
             },
             "pattern": {
              "fillmode": "overlay",
              "size": 10,
              "solidity": 0.2
             }
            },
            "type": "bar"
           }
          ],
          "barpolar": [
           {
            "marker": {
             "line": {
              "color": "#E5ECF6",
              "width": 0.5
             },
             "pattern": {
              "fillmode": "overlay",
              "size": 10,
              "solidity": 0.2
             }
            },
            "type": "barpolar"
           }
          ],
          "carpet": [
           {
            "aaxis": {
             "endlinecolor": "#2a3f5f",
             "gridcolor": "white",
             "linecolor": "white",
             "minorgridcolor": "white",
             "startlinecolor": "#2a3f5f"
            },
            "baxis": {
             "endlinecolor": "#2a3f5f",
             "gridcolor": "white",
             "linecolor": "white",
             "minorgridcolor": "white",
             "startlinecolor": "#2a3f5f"
            },
            "type": "carpet"
           }
          ],
          "choropleth": [
           {
            "colorbar": {
             "outlinewidth": 0,
             "ticks": ""
            },
            "type": "choropleth"
           }
          ],
          "contour": [
           {
            "colorbar": {
             "outlinewidth": 0,
             "ticks": ""
            },
            "colorscale": [
             [
              0,
              "#0d0887"
             ],
             [
              0.1111111111111111,
              "#46039f"
             ],
             [
              0.2222222222222222,
              "#7201a8"
             ],
             [
              0.3333333333333333,
              "#9c179e"
             ],
             [
              0.4444444444444444,
              "#bd3786"
             ],
             [
              0.5555555555555556,
              "#d8576b"
             ],
             [
              0.6666666666666666,
              "#ed7953"
             ],
             [
              0.7777777777777778,
              "#fb9f3a"
             ],
             [
              0.8888888888888888,
              "#fdca26"
             ],
             [
              1,
              "#f0f921"
             ]
            ],
            "type": "contour"
           }
          ],
          "contourcarpet": [
           {
            "colorbar": {
             "outlinewidth": 0,
             "ticks": ""
            },
            "type": "contourcarpet"
           }
          ],
          "heatmap": [
           {
            "colorbar": {
             "outlinewidth": 0,
             "ticks": ""
            },
            "colorscale": [
             [
              0,
              "#0d0887"
             ],
             [
              0.1111111111111111,
              "#46039f"
             ],
             [
              0.2222222222222222,
              "#7201a8"
             ],
             [
              0.3333333333333333,
              "#9c179e"
             ],
             [
              0.4444444444444444,
              "#bd3786"
             ],
             [
              0.5555555555555556,
              "#d8576b"
             ],
             [
              0.6666666666666666,
              "#ed7953"
             ],
             [
              0.7777777777777778,
              "#fb9f3a"
             ],
             [
              0.8888888888888888,
              "#fdca26"
             ],
             [
              1,
              "#f0f921"
             ]
            ],
            "type": "heatmap"
           }
          ],
          "heatmapgl": [
           {
            "colorbar": {
             "outlinewidth": 0,
             "ticks": ""
            },
            "colorscale": [
             [
              0,
              "#0d0887"
             ],
             [
              0.1111111111111111,
              "#46039f"
             ],
             [
              0.2222222222222222,
              "#7201a8"
             ],
             [
              0.3333333333333333,
              "#9c179e"
             ],
             [
              0.4444444444444444,
              "#bd3786"
             ],
             [
              0.5555555555555556,
              "#d8576b"
             ],
             [
              0.6666666666666666,
              "#ed7953"
             ],
             [
              0.7777777777777778,
              "#fb9f3a"
             ],
             [
              0.8888888888888888,
              "#fdca26"
             ],
             [
              1,
              "#f0f921"
             ]
            ],
            "type": "heatmapgl"
           }
          ],
          "histogram": [
           {
            "marker": {
             "pattern": {
              "fillmode": "overlay",
              "size": 10,
              "solidity": 0.2
             }
            },
            "type": "histogram"
           }
          ],
          "histogram2d": [
           {
            "colorbar": {
             "outlinewidth": 0,
             "ticks": ""
            },
            "colorscale": [
             [
              0,
              "#0d0887"
             ],
             [
              0.1111111111111111,
              "#46039f"
             ],
             [
              0.2222222222222222,
              "#7201a8"
             ],
             [
              0.3333333333333333,
              "#9c179e"
             ],
             [
              0.4444444444444444,
              "#bd3786"
             ],
             [
              0.5555555555555556,
              "#d8576b"
             ],
             [
              0.6666666666666666,
              "#ed7953"
             ],
             [
              0.7777777777777778,
              "#fb9f3a"
             ],
             [
              0.8888888888888888,
              "#fdca26"
             ],
             [
              1,
              "#f0f921"
             ]
            ],
            "type": "histogram2d"
           }
          ],
          "histogram2dcontour": [
           {
            "colorbar": {
             "outlinewidth": 0,
             "ticks": ""
            },
            "colorscale": [
             [
              0,
              "#0d0887"
             ],
             [
              0.1111111111111111,
              "#46039f"
             ],
             [
              0.2222222222222222,
              "#7201a8"
             ],
             [
              0.3333333333333333,
              "#9c179e"
             ],
             [
              0.4444444444444444,
              "#bd3786"
             ],
             [
              0.5555555555555556,
              "#d8576b"
             ],
             [
              0.6666666666666666,
              "#ed7953"
             ],
             [
              0.7777777777777778,
              "#fb9f3a"
             ],
             [
              0.8888888888888888,
              "#fdca26"
             ],
             [
              1,
              "#f0f921"
             ]
            ],
            "type": "histogram2dcontour"
           }
          ],
          "mesh3d": [
           {
            "colorbar": {
             "outlinewidth": 0,
             "ticks": ""
            },
            "type": "mesh3d"
           }
          ],
          "parcoords": [
           {
            "line": {
             "colorbar": {
              "outlinewidth": 0,
              "ticks": ""
             }
            },
            "type": "parcoords"
           }
          ],
          "pie": [
           {
            "automargin": true,
            "type": "pie"
           }
          ],
          "scatter": [
           {
            "marker": {
             "colorbar": {
              "outlinewidth": 0,
              "ticks": ""
             }
            },
            "type": "scatter"
           }
          ],
          "scatter3d": [
           {
            "line": {
             "colorbar": {
              "outlinewidth": 0,
              "ticks": ""
             }
            },
            "marker": {
             "colorbar": {
              "outlinewidth": 0,
              "ticks": ""
             }
            },
            "type": "scatter3d"
           }
          ],
          "scattercarpet": [
           {
            "marker": {
             "colorbar": {
              "outlinewidth": 0,
              "ticks": ""
             }
            },
            "type": "scattercarpet"
           }
          ],
          "scattergeo": [
           {
            "marker": {
             "colorbar": {
              "outlinewidth": 0,
              "ticks": ""
             }
            },
            "type": "scattergeo"
           }
          ],
          "scattergl": [
           {
            "marker": {
             "colorbar": {
              "outlinewidth": 0,
              "ticks": ""
             }
            },
            "type": "scattergl"
           }
          ],
          "scattermapbox": [
           {
            "marker": {
             "colorbar": {
              "outlinewidth": 0,
              "ticks": ""
             }
            },
            "type": "scattermapbox"
           }
          ],
          "scatterpolar": [
           {
            "marker": {
             "colorbar": {
              "outlinewidth": 0,
              "ticks": ""
             }
            },
            "type": "scatterpolar"
           }
          ],
          "scatterpolargl": [
           {
            "marker": {
             "colorbar": {
              "outlinewidth": 0,
              "ticks": ""
             }
            },
            "type": "scatterpolargl"
           }
          ],
          "scatterternary": [
           {
            "marker": {
             "colorbar": {
              "outlinewidth": 0,
              "ticks": ""
             }
            },
            "type": "scatterternary"
           }
          ],
          "surface": [
           {
            "colorbar": {
             "outlinewidth": 0,
             "ticks": ""
            },
            "colorscale": [
             [
              0,
              "#0d0887"
             ],
             [
              0.1111111111111111,
              "#46039f"
             ],
             [
              0.2222222222222222,
              "#7201a8"
             ],
             [
              0.3333333333333333,
              "#9c179e"
             ],
             [
              0.4444444444444444,
              "#bd3786"
             ],
             [
              0.5555555555555556,
              "#d8576b"
             ],
             [
              0.6666666666666666,
              "#ed7953"
             ],
             [
              0.7777777777777778,
              "#fb9f3a"
             ],
             [
              0.8888888888888888,
              "#fdca26"
             ],
             [
              1,
              "#f0f921"
             ]
            ],
            "type": "surface"
           }
          ],
          "table": [
           {
            "cells": {
             "fill": {
              "color": "#EBF0F8"
             },
             "line": {
              "color": "white"
             }
            },
            "header": {
             "fill": {
              "color": "#C8D4E3"
             },
             "line": {
              "color": "white"
             }
            },
            "type": "table"
           }
          ]
         },
         "layout": {
          "annotationdefaults": {
           "arrowcolor": "#2a3f5f",
           "arrowhead": 0,
           "arrowwidth": 1
          },
          "autotypenumbers": "strict",
          "coloraxis": {
           "colorbar": {
            "outlinewidth": 0,
            "ticks": ""
           }
          },
          "colorscale": {
           "diverging": [
            [
             0,
             "#8e0152"
            ],
            [
             0.1,
             "#c51b7d"
            ],
            [
             0.2,
             "#de77ae"
            ],
            [
             0.3,
             "#f1b6da"
            ],
            [
             0.4,
             "#fde0ef"
            ],
            [
             0.5,
             "#f7f7f7"
            ],
            [
             0.6,
             "#e6f5d0"
            ],
            [
             0.7,
             "#b8e186"
            ],
            [
             0.8,
             "#7fbc41"
            ],
            [
             0.9,
             "#4d9221"
            ],
            [
             1,
             "#276419"
            ]
           ],
           "sequential": [
            [
             0,
             "#0d0887"
            ],
            [
             0.1111111111111111,
             "#46039f"
            ],
            [
             0.2222222222222222,
             "#7201a8"
            ],
            [
             0.3333333333333333,
             "#9c179e"
            ],
            [
             0.4444444444444444,
             "#bd3786"
            ],
            [
             0.5555555555555556,
             "#d8576b"
            ],
            [
             0.6666666666666666,
             "#ed7953"
            ],
            [
             0.7777777777777778,
             "#fb9f3a"
            ],
            [
             0.8888888888888888,
             "#fdca26"
            ],
            [
             1,
             "#f0f921"
            ]
           ],
           "sequentialminus": [
            [
             0,
             "#0d0887"
            ],
            [
             0.1111111111111111,
             "#46039f"
            ],
            [
             0.2222222222222222,
             "#7201a8"
            ],
            [
             0.3333333333333333,
             "#9c179e"
            ],
            [
             0.4444444444444444,
             "#bd3786"
            ],
            [
             0.5555555555555556,
             "#d8576b"
            ],
            [
             0.6666666666666666,
             "#ed7953"
            ],
            [
             0.7777777777777778,
             "#fb9f3a"
            ],
            [
             0.8888888888888888,
             "#fdca26"
            ],
            [
             1,
             "#f0f921"
            ]
           ]
          },
          "colorway": [
           "#636efa",
           "#EF553B",
           "#00cc96",
           "#ab63fa",
           "#FFA15A",
           "#19d3f3",
           "#FF6692",
           "#B6E880",
           "#FF97FF",
           "#FECB52"
          ],
          "font": {
           "color": "#2a3f5f"
          },
          "geo": {
           "bgcolor": "white",
           "lakecolor": "white",
           "landcolor": "#E5ECF6",
           "showlakes": true,
           "showland": true,
           "subunitcolor": "white"
          },
          "hoverlabel": {
           "align": "left"
          },
          "hovermode": "closest",
          "mapbox": {
           "style": "light"
          },
          "paper_bgcolor": "white",
          "plot_bgcolor": "#E5ECF6",
          "polar": {
           "angularaxis": {
            "gridcolor": "white",
            "linecolor": "white",
            "ticks": ""
           },
           "bgcolor": "#E5ECF6",
           "radialaxis": {
            "gridcolor": "white",
            "linecolor": "white",
            "ticks": ""
           }
          },
          "scene": {
           "xaxis": {
            "backgroundcolor": "#E5ECF6",
            "gridcolor": "white",
            "gridwidth": 2,
            "linecolor": "white",
            "showbackground": true,
            "ticks": "",
            "zerolinecolor": "white"
           },
           "yaxis": {
            "backgroundcolor": "#E5ECF6",
            "gridcolor": "white",
            "gridwidth": 2,
            "linecolor": "white",
            "showbackground": true,
            "ticks": "",
            "zerolinecolor": "white"
           },
           "zaxis": {
            "backgroundcolor": "#E5ECF6",
            "gridcolor": "white",
            "gridwidth": 2,
            "linecolor": "white",
            "showbackground": true,
            "ticks": "",
            "zerolinecolor": "white"
           }
          },
          "shapedefaults": {
           "line": {
            "color": "#2a3f5f"
           }
          },
          "ternary": {
           "aaxis": {
            "gridcolor": "white",
            "linecolor": "white",
            "ticks": ""
           },
           "baxis": {
            "gridcolor": "white",
            "linecolor": "white",
            "ticks": ""
           },
           "bgcolor": "#E5ECF6",
           "caxis": {
            "gridcolor": "white",
            "linecolor": "white",
            "ticks": ""
           }
          },
          "title": {
           "x": 0.05
          },
          "xaxis": {
           "automargin": true,
           "gridcolor": "white",
           "linecolor": "white",
           "ticks": "",
           "title": {
            "standoff": 15
           },
           "zerolinecolor": "white",
           "zerolinewidth": 2
          },
          "yaxis": {
           "automargin": true,
           "gridcolor": "white",
           "linecolor": "white",
           "ticks": "",
           "title": {
            "standoff": 15
           },
           "zerolinecolor": "white",
           "zerolinewidth": 2
          }
         }
        },
        "title": {
         "text": "Reviews and price distribution by city (logarithmic scale)"
        },
        "xaxis": {
         "anchor": "y",
         "domain": [
          0,
          1
         ],
         "title": {
          "text": "Price per night (log scale)"
         },
         "type": "log"
        },
        "yaxis": {
         "anchor": "x",
         "domain": [
          0,
          1
         ],
         "title": {
          "text": "Reviews (log scale)"
         },
         "type": "log"
        }
       }
      }
     },
     "metadata": {},
     "output_type": "display_data"
    }
   ],
   "source": [
    "reviews_price_distr_log = px.scatter(\n",
    "    data_frame=airbnb_data,\n",
    "    x=\"price_per_night\",\n",
    "    y=\"reviews\",\n",
    "    hover_data=[\"city\", \"rating\", \"category\"],\n",
    "    hover_name=\"name\",\n",
    "    color=\"city\",\n",
    "    opacity=0.5,\n",
    "    log_x=True,\n",
    "    log_y=True,\n",
    "    size=\"rating\",\n",
    "    size_max=5,\n",
    "    title=\"Reviews and price distribution by city (logarithmic scale)\",\n",
    "    labels={\n",
    "        \"price_per_night\": \"Price per night (log scale)\",\n",
    "        \"reviews\": \"Reviews (log scale)\",\n",
    "        \"city\": \"City\",\n",
    "    },\n",
    ")\n",
    "\n",
    "reviews_price_distr_log.write_html(FIG_DIR / \"reviews_price_distr_log.html\")\n",
    "reviews_price_distr_log.write_image(FIG_DIR / \"reviews_price_distr_log.png\")\n",
    "\n",
    "reviews_price_distr_log.show()"
   ]
  },
  {
   "cell_type": "markdown",
   "metadata": {},
   "source": [
    "*Number of accommodations per city*"
   ]
  },
  {
   "cell_type": "code",
   "execution_count": 103,
   "metadata": {},
   "outputs": [
    {
     "data": {
      "image/png": "[encoded data removed]",
      "text/plain": [
       "<Figure size 720x432 with 1 Axes>"
      ]
     },
     "metadata": {
      "needs_background": "light"
     },
     "output_type": "display_data"
    }
   ],
   "source": [
    "fig = plt.figure(figsize=(10, 6))\n",
    "\n",
    "accom_count_per_city = sns.countplot(\n",
    "    x=\"category\", hue=\"city\", data=airbnb_data, palette=\"dark:#5A9_r\"\n",
    ")\n",
    "\n",
    "plt.title(\"Number of accomodations by city and type\")\n",
    "plt.show()\n",
    "\n",
    "accom_count_per_city.figure.savefig(FIG_DIR / \"accom_count_per_city.png\")"
   ]
  },
  {
   "cell_type": "markdown",
   "metadata": {},
   "source": [
    "*Median Price Per Night Grouped by Country*"
   ]
  },
  {
   "cell_type": "code",
   "execution_count": 108,
   "metadata": {},
   "outputs": [
    {
     "data": {
      "image/png": "[encoded data removed]",
      "text/plain": [
       "<Figure size 720x432 with 1 Axes>"
      ]
     },
     "metadata": {
      "needs_background": "light"
     },
     "output_type": "display_data"
    }
   ],
   "source": [
    "median_prices = airbnb_data.groupby(\"country\")[\"price_per_night\"].median().reset_index()\n",
    "\n",
    "# Gráfico de barras\n",
    "fig = plt.figure(figsize=(10, 6))\n",
    "plt.bar(median_prices[\"country\"], median_prices[\"price_per_night\"], color=\"cadetblue\")\n",
    "\n",
    "# Etiquetas\n",
    "plt.ylabel(\"Mediana del Precio por Noche\")\n",
    "plt.title(\"Mediana del Precio por Noche Agrupado por País\")\n",
    "plt.xticks(rotation=45, ha=\"right\")\n",
    "\n",
    "plt.savefig(FIG_DIR / \"price_median_city.png\")\n",
    "\n",
    "plt.tight_layout()\n",
    "plt.show()"
   ]
  },
  {
   "cell_type": "code",
   "execution_count": null,
   "metadata": {},
   "outputs": [],
   "source": []
  }
 ],
 "metadata": {
  "kernelspec": {
   "display_name": "base",
   "language": "python",
   "name": "python3"
  },
  "language_info": {
   "codemirror_mode": {
    "name": "ipython",
    "version": 3
   },
   "file_extension": ".py",
   "mimetype": "text/x-python",
   "name": "python",
   "nbconvert_exporter": "python",
   "pygments_lexer": "ipython3",
   "version": "3.9.12"
  }
 },
 "nbformat": 4,
 "nbformat_minor": 2
}

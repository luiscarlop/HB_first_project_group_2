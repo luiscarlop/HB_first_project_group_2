{
 "cells": [
  {
   "cell_type": "code",
   "execution_count": 1,
   "metadata": {},
   "outputs": [],
   "source": [
    "import pandas as pd\n",
    "import numpy as np\n",
    "\n",
    "import matplotlib.pyplot as plt\n",
    "import seaborn as sns\n",
    "import plotly.express as px\n",
    "\n",
    "from pathlib import Path"
   ]
  },
  {
   "cell_type": "markdown",
   "metadata": {},
   "source": [
    "***DATA CLEANING***\n"
   ]
  },
  {
   "cell_type": "code",
   "execution_count": 2,
   "metadata": {},
   "outputs": [],
   "source": [
    "# Load the data\n",
    "\n",
    "DATA_DIR = Path(\"..\") / \"data\"\n",
    "\n",
    "airbnb_data = pd.read_csv(DATA_DIR / \"airbnb_data.csv\")"
   ]
  },
  {
   "cell_type": "code",
   "execution_count": 3,
   "metadata": {},
   "outputs": [
    {
     "name": "stdout",
     "output_type": "stream",
     "text": [
      "<class 'pandas.core.frame.DataFrame'>\n",
      "RangeIndex: 756 entries, 0 to 755\n",
      "Data columns (total 7 columns):\n",
      " #   Column           Non-Null Count  Dtype  \n",
      "---  ------           --------------  -----  \n",
      " 0   Name             755 non-null    object \n",
      " 1   Type             756 non-null    object \n",
      " 2   Price per night  749 non-null    float64\n",
      " 3   Host             756 non-null    object \n",
      " 4   Rating           623 non-null    object \n",
      " 5   Reviews          531 non-null    float64\n",
      " 6   City             756 non-null    object \n",
      "dtypes: float64(2), object(5)\n",
      "memory usage: 41.5+ KB\n"
     ]
    }
   ],
   "source": [
    "airbnb_data.info()"
   ]
  },
  {
   "cell_type": "code",
   "execution_count": 4,
   "metadata": {},
   "outputs": [
    {
     "data": {
      "text/html": [
       "<div>\n",
       "<style scoped>\n",
       "    .dataframe tbody tr th:only-of-type {\n",
       "        vertical-align: middle;\n",
       "    }\n",
       "\n",
       "    .dataframe tbody tr th {\n",
       "        vertical-align: top;\n",
       "    }\n",
       "\n",
       "    .dataframe thead th {\n",
       "        text-align: right;\n",
       "    }\n",
       "</style>\n",
       "<table border=\"1\" class=\"dataframe\">\n",
       "  <thead>\n",
       "    <tr style=\"text-align: right;\">\n",
       "      <th></th>\n",
       "      <th>Name</th>\n",
       "      <th>Type</th>\n",
       "      <th>Price per night</th>\n",
       "      <th>Host</th>\n",
       "      <th>Rating</th>\n",
       "      <th>Reviews</th>\n",
       "      <th>City</th>\n",
       "    </tr>\n",
       "  </thead>\n",
       "  <tbody>\n",
       "    <tr>\n",
       "      <th>0</th>\n",
       "      <td>Acogedor apartamento privado en el centro de B...</td>\n",
       "      <td>Alojamiento entero: piso en Bern, Suiza</td>\n",
       "      <td>43.0</td>\n",
       "      <td>Anfitrión: Marcos</td>\n",
       "      <td>4,68</td>\n",
       "      <td>19.0</td>\n",
       "      <td>bern</td>\n",
       "    </tr>\n",
       "    <tr>\n",
       "      <th>1</th>\n",
       "      <td>Exclusivo departamento urbano</td>\n",
       "      <td>Alojamiento entero: piso en Bern, Suiza</td>\n",
       "      <td>473.0</td>\n",
       "      <td>Anfitrión: Stephan</td>\n",
       "      <td>NaN</td>\n",
       "      <td>NaN</td>\n",
       "      <td>bern</td>\n",
       "    </tr>\n",
       "    <tr>\n",
       "      <th>2</th>\n",
       "      <td>Sala de estar en Berna</td>\n",
       "      <td>Habitación en Bern, Suiza</td>\n",
       "      <td>36.0</td>\n",
       "      <td>Quédate con Arwen</td>\n",
       "      <td>5,0</td>\n",
       "      <td>5.0</td>\n",
       "      <td>bern</td>\n",
       "    </tr>\n",
       "    <tr>\n",
       "      <th>3</th>\n",
       "      <td>Apartamento en el casco antiguo</td>\n",
       "      <td>Alojamiento entero: piso en Bern, Suiza</td>\n",
       "      <td>125.0</td>\n",
       "      <td>Anfitrión: Kai</td>\n",
       "      <td>4,84</td>\n",
       "      <td>339.0</td>\n",
       "      <td>bern</td>\n",
       "    </tr>\n",
       "    <tr>\n",
       "      <th>4</th>\n",
       "      <td>Habitación en Freimettigen</td>\n",
       "      <td>Habitación en Freimettigen, Suiza</td>\n",
       "      <td>36.0</td>\n",
       "      <td>Anfitrión: Urs</td>\n",
       "      <td>NaN</td>\n",
       "      <td>NaN</td>\n",
       "      <td>bern</td>\n",
       "    </tr>\n",
       "  </tbody>\n",
       "</table>\n",
       "</div>"
      ],
      "text/plain": [
       "                                                Name  \\\n",
       "0  Acogedor apartamento privado en el centro de B...   \n",
       "1                      Exclusivo departamento urbano   \n",
       "2                             Sala de estar en Berna   \n",
       "3                    Apartamento en el casco antiguo   \n",
       "4                         Habitación en Freimettigen   \n",
       "\n",
       "                                      Type  Price per night  \\\n",
       "0  Alojamiento entero: piso en Bern, Suiza             43.0   \n",
       "1  Alojamiento entero: piso en Bern, Suiza            473.0   \n",
       "2                Habitación en Bern, Suiza             36.0   \n",
       "3  Alojamiento entero: piso en Bern, Suiza            125.0   \n",
       "4        Habitación en Freimettigen, Suiza             36.0   \n",
       "\n",
       "                 Host Rating  Reviews  City  \n",
       "0   Anfitrión: Marcos   4,68     19.0  bern  \n",
       "1  Anfitrión: Stephan    NaN      NaN  bern  \n",
       "2   Quédate con Arwen    5,0      5.0  bern  \n",
       "3      Anfitrión: Kai   4,84    339.0  bern  \n",
       "4      Anfitrión: Urs    NaN      NaN  bern  "
      ]
     },
     "execution_count": 4,
     "metadata": {},
     "output_type": "execute_result"
    }
   ],
   "source": [
    "airbnb_data.head()"
   ]
  },
  {
   "cell_type": "code",
   "execution_count": 5,
   "metadata": {},
   "outputs": [],
   "source": [
    "# Define a function to format the category column\n",
    "\n",
    "\n",
    "def category(value):\n",
    "    if \"Alojamiento entero\" in value:\n",
    "        return \"Alojamiento entero\"\n",
    "    elif \"Habitación\" in value:\n",
    "        return \"Habitación\"\n",
    "    else:\n",
    "        return \"otro\""
   ]
  },
  {
   "cell_type": "code",
   "execution_count": 6,
   "metadata": {},
   "outputs": [],
   "source": [
    "# Creamos la columna Country en funcion a \"Type\"\n",
    "airbnb_data[\"Country\"] = airbnb_data[\"Type\"].str.split(\",\").str[-1].str.strip()\n",
    "\n",
    "# agregar columna \"categoria\" en funcion a Type\n",
    "airbnb_data[\"Type\"] = airbnb_data[\"Type\"].apply(category)\n",
    "airbnb_data.rename(columns={\"Type\": \"Category\"}, inplace=True)"
   ]
  },
  {
   "cell_type": "code",
   "execution_count": 7,
   "metadata": {},
   "outputs": [
    {
     "data": {
      "text/html": [
       "<div>\n",
       "<style scoped>\n",
       "    .dataframe tbody tr th:only-of-type {\n",
       "        vertical-align: middle;\n",
       "    }\n",
       "\n",
       "    .dataframe tbody tr th {\n",
       "        vertical-align: top;\n",
       "    }\n",
       "\n",
       "    .dataframe thead th {\n",
       "        text-align: right;\n",
       "    }\n",
       "</style>\n",
       "<table border=\"1\" class=\"dataframe\">\n",
       "  <thead>\n",
       "    <tr style=\"text-align: right;\">\n",
       "      <th></th>\n",
       "      <th>Name</th>\n",
       "      <th>Category</th>\n",
       "      <th>Price per night</th>\n",
       "      <th>Host</th>\n",
       "      <th>Rating</th>\n",
       "      <th>Reviews</th>\n",
       "      <th>City</th>\n",
       "      <th>Country</th>\n",
       "    </tr>\n",
       "  </thead>\n",
       "  <tbody>\n",
       "    <tr>\n",
       "      <th>0</th>\n",
       "      <td>Acogedor apartamento privado en el centro de B...</td>\n",
       "      <td>Alojamiento entero</td>\n",
       "      <td>43.0</td>\n",
       "      <td>Anfitrión: Marcos</td>\n",
       "      <td>4,68</td>\n",
       "      <td>19.0</td>\n",
       "      <td>bern</td>\n",
       "      <td>Suiza</td>\n",
       "    </tr>\n",
       "    <tr>\n",
       "      <th>1</th>\n",
       "      <td>Exclusivo departamento urbano</td>\n",
       "      <td>Alojamiento entero</td>\n",
       "      <td>473.0</td>\n",
       "      <td>Anfitrión: Stephan</td>\n",
       "      <td>NaN</td>\n",
       "      <td>NaN</td>\n",
       "      <td>bern</td>\n",
       "      <td>Suiza</td>\n",
       "    </tr>\n",
       "    <tr>\n",
       "      <th>2</th>\n",
       "      <td>Sala de estar en Berna</td>\n",
       "      <td>Habitación</td>\n",
       "      <td>36.0</td>\n",
       "      <td>Quédate con Arwen</td>\n",
       "      <td>5,0</td>\n",
       "      <td>5.0</td>\n",
       "      <td>bern</td>\n",
       "      <td>Suiza</td>\n",
       "    </tr>\n",
       "    <tr>\n",
       "      <th>3</th>\n",
       "      <td>Apartamento en el casco antiguo</td>\n",
       "      <td>Alojamiento entero</td>\n",
       "      <td>125.0</td>\n",
       "      <td>Anfitrión: Kai</td>\n",
       "      <td>4,84</td>\n",
       "      <td>339.0</td>\n",
       "      <td>bern</td>\n",
       "      <td>Suiza</td>\n",
       "    </tr>\n",
       "    <tr>\n",
       "      <th>4</th>\n",
       "      <td>Habitación en Freimettigen</td>\n",
       "      <td>Habitación</td>\n",
       "      <td>36.0</td>\n",
       "      <td>Anfitrión: Urs</td>\n",
       "      <td>NaN</td>\n",
       "      <td>NaN</td>\n",
       "      <td>bern</td>\n",
       "      <td>Suiza</td>\n",
       "    </tr>\n",
       "    <tr>\n",
       "      <th>5</th>\n",
       "      <td>Ice Attic-Apt, casco antiguo, a 3 minutos de l...</td>\n",
       "      <td>Habitación</td>\n",
       "      <td>113.0</td>\n",
       "      <td>Anfitrión: Kai</td>\n",
       "      <td>4,84</td>\n",
       "      <td>218.0</td>\n",
       "      <td>bern</td>\n",
       "      <td>Suiza</td>\n",
       "    </tr>\n",
       "    <tr>\n",
       "      <th>6</th>\n",
       "      <td>N.º 2 apartamento acogedor y céntrico</td>\n",
       "      <td>Alojamiento entero</td>\n",
       "      <td>71.0</td>\n",
       "      <td>Anfitrión: Bess</td>\n",
       "      <td>4,87</td>\n",
       "      <td>NaN</td>\n",
       "      <td>bern</td>\n",
       "      <td>Suiza</td>\n",
       "    </tr>\n",
       "    <tr>\n",
       "      <th>7</th>\n",
       "      <td>Habitación en el espejo BE, a 10 de Berna</td>\n",
       "      <td>Alojamiento entero</td>\n",
       "      <td>62.0</td>\n",
       "      <td>Anfitrión: Chantal</td>\n",
       "      <td>5,0</td>\n",
       "      <td>13.0</td>\n",
       "      <td>bern</td>\n",
       "      <td>Suiza</td>\n",
       "    </tr>\n",
       "    <tr>\n",
       "      <th>8</th>\n",
       "      <td>Habitación soleada, súper central, estación de...</td>\n",
       "      <td>Habitación</td>\n",
       "      <td>68.0</td>\n",
       "      <td>Quédate con Kai</td>\n",
       "      <td>4,93</td>\n",
       "      <td>877.0</td>\n",
       "      <td>bern</td>\n",
       "      <td>Suiza</td>\n",
       "    </tr>\n",
       "    <tr>\n",
       "      <th>9</th>\n",
       "      <td>Como si estuvieras en casa</td>\n",
       "      <td>Habitación</td>\n",
       "      <td>42.0</td>\n",
       "      <td>Quédate con Aline Karina</td>\n",
       "      <td>NaN</td>\n",
       "      <td>NaN</td>\n",
       "      <td>bern</td>\n",
       "      <td>Suiza</td>\n",
       "    </tr>\n",
       "  </tbody>\n",
       "</table>\n",
       "</div>"
      ],
      "text/plain": [
       "                                                Name            Category  \\\n",
       "0  Acogedor apartamento privado en el centro de B...  Alojamiento entero   \n",
       "1                      Exclusivo departamento urbano  Alojamiento entero   \n",
       "2                             Sala de estar en Berna          Habitación   \n",
       "3                    Apartamento en el casco antiguo  Alojamiento entero   \n",
       "4                         Habitación en Freimettigen          Habitación   \n",
       "5  Ice Attic-Apt, casco antiguo, a 3 minutos de l...          Habitación   \n",
       "6              N.º 2 apartamento acogedor y céntrico  Alojamiento entero   \n",
       "7          Habitación en el espejo BE, a 10 de Berna  Alojamiento entero   \n",
       "8  Habitación soleada, súper central, estación de...          Habitación   \n",
       "9                         Como si estuvieras en casa          Habitación   \n",
       "\n",
       "   Price per night                      Host Rating  Reviews  City Country  \n",
       "0             43.0         Anfitrión: Marcos   4,68     19.0  bern   Suiza  \n",
       "1            473.0        Anfitrión: Stephan    NaN      NaN  bern   Suiza  \n",
       "2             36.0         Quédate con Arwen    5,0      5.0  bern   Suiza  \n",
       "3            125.0            Anfitrión: Kai   4,84    339.0  bern   Suiza  \n",
       "4             36.0            Anfitrión: Urs    NaN      NaN  bern   Suiza  \n",
       "5            113.0            Anfitrión: Kai   4,84    218.0  bern   Suiza  \n",
       "6             71.0           Anfitrión: Bess   4,87      NaN  bern   Suiza  \n",
       "7             62.0        Anfitrión: Chantal    5,0     13.0  bern   Suiza  \n",
       "8             68.0           Quédate con Kai   4,93    877.0  bern   Suiza  \n",
       "9             42.0  Quédate con Aline Karina    NaN      NaN  bern   Suiza  "
      ]
     },
     "execution_count": 7,
     "metadata": {},
     "output_type": "execute_result"
    }
   ],
   "source": [
    "airbnb_data.head(10)"
   ]
  },
  {
   "cell_type": "code",
   "execution_count": 8,
   "metadata": {},
   "outputs": [],
   "source": [
    "# Limpiamos los nombres de \"Host\"\n",
    "airbnb_data[\"Host\"] = (\n",
    "    airbnb_data[\"Host\"].str.replace(\"Anfitrión:\", \"\").str.replace(\"Quédate con \", \"\")\n",
    ")\n",
    "\n",
    "# reemplazamos las comas por puntos en Rating\n",
    "airbnb_data[\"Rating\"] = airbnb_data[\"Rating\"].str.replace(\",\", \".\").astype(float)\n",
    "\n",
    "# asignamos 0 a los casos que no tienen ni Rating ni Reviews.\n",
    "airbnb_data[\"Rating\"] = airbnb_data[\"Rating\"].fillna(0).astype(float)\n",
    "airbnb_data[\"Reviews\"] = airbnb_data[\"Reviews\"].fillna(0)\n",
    "\n",
    "\n",
    "# .capitalize() para la columna City\n",
    "airbnb_data[\"City\"] = airbnb_data[\"City\"].str.capitalize()"
   ]
  },
  {
   "cell_type": "code",
   "execution_count": 9,
   "metadata": {},
   "outputs": [],
   "source": [
    "airbnb_data.columns = airbnb_data.columns.str.lower().str.replace(\" \", \"_\")"
   ]
  },
  {
   "cell_type": "code",
   "execution_count": 10,
   "metadata": {},
   "outputs": [
    {
     "data": {
      "text/html": [
       "<div>\n",
       "<style scoped>\n",
       "    .dataframe tbody tr th:only-of-type {\n",
       "        vertical-align: middle;\n",
       "    }\n",
       "\n",
       "    .dataframe tbody tr th {\n",
       "        vertical-align: top;\n",
       "    }\n",
       "\n",
       "    .dataframe thead th {\n",
       "        text-align: right;\n",
       "    }\n",
       "</style>\n",
       "<table border=\"1\" class=\"dataframe\">\n",
       "  <thead>\n",
       "    <tr style=\"text-align: right;\">\n",
       "      <th></th>\n",
       "      <th>name</th>\n",
       "      <th>category</th>\n",
       "      <th>price_per_night</th>\n",
       "      <th>host</th>\n",
       "      <th>rating</th>\n",
       "      <th>reviews</th>\n",
       "      <th>city</th>\n",
       "      <th>country</th>\n",
       "    </tr>\n",
       "  </thead>\n",
       "  <tbody>\n",
       "    <tr>\n",
       "      <th>0</th>\n",
       "      <td>Acogedor apartamento privado en el centro de B...</td>\n",
       "      <td>Alojamiento entero</td>\n",
       "      <td>43.0</td>\n",
       "      <td>Marcos</td>\n",
       "      <td>4.68</td>\n",
       "      <td>19.0</td>\n",
       "      <td>Bern</td>\n",
       "      <td>Suiza</td>\n",
       "    </tr>\n",
       "    <tr>\n",
       "      <th>1</th>\n",
       "      <td>Exclusivo departamento urbano</td>\n",
       "      <td>Alojamiento entero</td>\n",
       "      <td>473.0</td>\n",
       "      <td>Stephan</td>\n",
       "      <td>0.00</td>\n",
       "      <td>0.0</td>\n",
       "      <td>Bern</td>\n",
       "      <td>Suiza</td>\n",
       "    </tr>\n",
       "    <tr>\n",
       "      <th>2</th>\n",
       "      <td>Sala de estar en Berna</td>\n",
       "      <td>Habitación</td>\n",
       "      <td>36.0</td>\n",
       "      <td>Arwen</td>\n",
       "      <td>5.00</td>\n",
       "      <td>5.0</td>\n",
       "      <td>Bern</td>\n",
       "      <td>Suiza</td>\n",
       "    </tr>\n",
       "    <tr>\n",
       "      <th>3</th>\n",
       "      <td>Apartamento en el casco antiguo</td>\n",
       "      <td>Alojamiento entero</td>\n",
       "      <td>125.0</td>\n",
       "      <td>Kai</td>\n",
       "      <td>4.84</td>\n",
       "      <td>339.0</td>\n",
       "      <td>Bern</td>\n",
       "      <td>Suiza</td>\n",
       "    </tr>\n",
       "    <tr>\n",
       "      <th>4</th>\n",
       "      <td>Habitación en Freimettigen</td>\n",
       "      <td>Habitación</td>\n",
       "      <td>36.0</td>\n",
       "      <td>Urs</td>\n",
       "      <td>0.00</td>\n",
       "      <td>0.0</td>\n",
       "      <td>Bern</td>\n",
       "      <td>Suiza</td>\n",
       "    </tr>\n",
       "    <tr>\n",
       "      <th>5</th>\n",
       "      <td>Ice Attic-Apt, casco antiguo, a 3 minutos de l...</td>\n",
       "      <td>Habitación</td>\n",
       "      <td>113.0</td>\n",
       "      <td>Kai</td>\n",
       "      <td>4.84</td>\n",
       "      <td>218.0</td>\n",
       "      <td>Bern</td>\n",
       "      <td>Suiza</td>\n",
       "    </tr>\n",
       "    <tr>\n",
       "      <th>6</th>\n",
       "      <td>N.º 2 apartamento acogedor y céntrico</td>\n",
       "      <td>Alojamiento entero</td>\n",
       "      <td>71.0</td>\n",
       "      <td>Bess</td>\n",
       "      <td>4.87</td>\n",
       "      <td>0.0</td>\n",
       "      <td>Bern</td>\n",
       "      <td>Suiza</td>\n",
       "    </tr>\n",
       "    <tr>\n",
       "      <th>7</th>\n",
       "      <td>Habitación en el espejo BE, a 10 de Berna</td>\n",
       "      <td>Alojamiento entero</td>\n",
       "      <td>62.0</td>\n",
       "      <td>Chantal</td>\n",
       "      <td>5.00</td>\n",
       "      <td>13.0</td>\n",
       "      <td>Bern</td>\n",
       "      <td>Suiza</td>\n",
       "    </tr>\n",
       "    <tr>\n",
       "      <th>8</th>\n",
       "      <td>Habitación soleada, súper central, estación de...</td>\n",
       "      <td>Habitación</td>\n",
       "      <td>68.0</td>\n",
       "      <td>Kai</td>\n",
       "      <td>4.93</td>\n",
       "      <td>877.0</td>\n",
       "      <td>Bern</td>\n",
       "      <td>Suiza</td>\n",
       "    </tr>\n",
       "    <tr>\n",
       "      <th>9</th>\n",
       "      <td>Como si estuvieras en casa</td>\n",
       "      <td>Habitación</td>\n",
       "      <td>42.0</td>\n",
       "      <td>Aline Karina</td>\n",
       "      <td>0.00</td>\n",
       "      <td>0.0</td>\n",
       "      <td>Bern</td>\n",
       "      <td>Suiza</td>\n",
       "    </tr>\n",
       "  </tbody>\n",
       "</table>\n",
       "</div>"
      ],
      "text/plain": [
       "                                                name            category  \\\n",
       "0  Acogedor apartamento privado en el centro de B...  Alojamiento entero   \n",
       "1                      Exclusivo departamento urbano  Alojamiento entero   \n",
       "2                             Sala de estar en Berna          Habitación   \n",
       "3                    Apartamento en el casco antiguo  Alojamiento entero   \n",
       "4                         Habitación en Freimettigen          Habitación   \n",
       "5  Ice Attic-Apt, casco antiguo, a 3 minutos de l...          Habitación   \n",
       "6              N.º 2 apartamento acogedor y céntrico  Alojamiento entero   \n",
       "7          Habitación en el espejo BE, a 10 de Berna  Alojamiento entero   \n",
       "8  Habitación soleada, súper central, estación de...          Habitación   \n",
       "9                         Como si estuvieras en casa          Habitación   \n",
       "\n",
       "   price_per_night          host  rating  reviews  city country  \n",
       "0             43.0        Marcos    4.68     19.0  Bern   Suiza  \n",
       "1            473.0       Stephan    0.00      0.0  Bern   Suiza  \n",
       "2             36.0         Arwen    5.00      5.0  Bern   Suiza  \n",
       "3            125.0           Kai    4.84    339.0  Bern   Suiza  \n",
       "4             36.0           Urs    0.00      0.0  Bern   Suiza  \n",
       "5            113.0           Kai    4.84    218.0  Bern   Suiza  \n",
       "6             71.0          Bess    4.87      0.0  Bern   Suiza  \n",
       "7             62.0       Chantal    5.00     13.0  Bern   Suiza  \n",
       "8             68.0           Kai    4.93    877.0  Bern   Suiza  \n",
       "9             42.0  Aline Karina    0.00      0.0  Bern   Suiza  "
      ]
     },
     "execution_count": 10,
     "metadata": {},
     "output_type": "execute_result"
    }
   ],
   "source": [
    "airbnb_data.head(10)"
   ]
  },
  {
   "cell_type": "code",
   "execution_count": 11,
   "metadata": {},
   "outputs": [],
   "source": [
    "# Guardamos en un nuevo csv\n",
    "airbnb_data.to_csv(DATA_DIR / \"airbnb_limpio.csv\", sep=\";\", index=False)"
   ]
  },
  {
   "cell_type": "markdown",
   "metadata": {},
   "source": [
    "***VISUALIZATIONS***"
   ]
  },
  {
   "cell_type": "code",
   "execution_count": 12,
   "metadata": {},
   "outputs": [
    {
     "data": {
      "application/vnd.plotly.v1+json": {
       "config": {
        "plotlyServerURL": "https://plot.ly"
       },
       "data": [
        {
         "hovertemplate": "color=Alojamiento entero<br>Rating=%{x}<br>Price per night=%{y}<extra></extra>",
         "legendgroup": "Alojamiento entero",
         "marker": {
          "color": "#636efa",
          "symbol": "circle"
         },
         "mode": "markers",
         "name": "Alojamiento entero",
         "orientation": "v",
         "showlegend": true,
         "type": "scatter",
         "x": [
          4.68,
          0,
          4.84,
          4.87,
          5,
          4.86,
          4.91,
          5,
          0,
          4.99,
          4.93,
          4.95,
          4.92,
          4.89,
          5,
          4.76,
          5,
          4.81,
          4.64,
          0,
          4.7,
          4.93,
          0,
          4.7,
          4.68,
          4.75,
          4.81,
          4.73,
          4.82,
          0,
          4.9,
          4.86,
          0,
          0,
          4.68,
          4.98,
          5,
          4.81,
          5,
          4.96,
          4.73,
          4.75,
          4.91,
          4.9,
          4.94,
          5,
          4.97,
          4.91,
          4.98,
          4.95,
          4.95,
          5,
          4.88,
          4.8,
          4.8,
          4.8,
          4.67,
          4.94,
          4.7,
          4.75,
          4.72,
          4.81,
          5,
          4.67,
          4.58,
          4.71,
          4.82,
          4.6,
          4.82,
          5,
          5,
          5,
          5,
          0,
          0,
          5,
          5,
          5,
          5,
          4.99,
          4.99,
          4.98,
          5,
          4.87,
          4.98,
          0,
          4.99,
          4.95,
          0,
          5,
          4.8,
          5,
          5,
          4.94,
          4.94,
          4.98,
          5,
          4.99,
          5,
          5,
          4.94,
          5,
          5,
          4.98,
          4.97,
          4.98,
          4.93,
          4.99,
          4.92,
          4.98,
          4.98,
          5,
          5,
          4.98,
          4.96,
          5,
          4.93,
          4.94,
          4.88,
          5,
          4.98,
          4.98,
          5,
          5,
          4.88,
          5,
          4.98,
          4.98,
          5,
          4.84,
          5,
          5,
          4.96,
          4.82,
          5,
          5,
          5,
          5,
          5,
          5,
          4.8,
          0,
          4.88,
          4.98,
          5,
          4.85,
          5,
          5,
          0,
          4.98,
          5,
          4.91,
          4.83,
          4.96,
          5,
          4.99,
          4.91,
          4.98,
          4.95,
          5,
          4.99,
          4.97,
          4.98,
          4.75,
          0,
          4.94,
          4.96,
          0,
          4.98,
          4.89,
          4.98,
          4.86,
          4.98,
          4.75,
          4.97,
          0,
          5,
          4.99,
          4.74,
          4.96,
          4.95,
          4.94,
          5,
          4.96,
          5,
          4.82,
          4.95,
          4.91,
          4.97,
          0,
          4.97,
          4.78,
          4.97,
          4.89,
          4.96,
          0,
          4.4,
          4.86,
          4.9,
          5,
          4.99,
          0,
          0,
          0,
          4.79,
          4.92,
          4.92,
          0,
          0,
          5,
          5,
          5,
          4.98,
          4.97,
          5,
          4.66,
          5,
          0,
          5,
          0,
          4.96,
          5,
          0,
          4.82,
          0,
          5,
          4.92,
          5,
          4.79,
          0,
          4.76,
          4.9,
          4.63,
          0,
          0,
          4.93,
          4.8,
          4.9,
          4.95,
          5,
          4.94,
          4.97,
          0,
          5,
          4.99,
          4.87,
          5,
          4.87,
          4.91,
          4.79,
          5,
          4.95,
          4.76,
          4.97,
          4.92,
          5,
          4.9,
          5,
          4.89,
          4.9,
          4.83,
          5,
          4.63,
          4.77,
          4.88,
          0,
          5,
          5,
          4.79,
          4.82,
          4.79,
          0,
          4.87,
          4.59,
          4.75,
          0,
          4.6,
          4.5,
          0,
          4.72,
          4.33,
          0,
          0,
          4.43,
          4.43,
          4.86,
          0,
          0,
          4.44,
          4.5,
          4.2,
          4.32,
          5,
          0,
          0,
          5,
          0,
          5,
          0,
          5,
          5,
          4.95,
          5,
          4.95,
          5,
          0,
          5,
          5,
          5,
          4.95,
          4.97,
          0,
          4.94,
          5,
          5,
          4.91,
          5,
          5,
          5,
          4.92,
          4.91,
          5,
          5,
          5,
          4.92,
          5,
          4.95,
          4.98,
          4.95,
          5,
          5,
          4.99,
          0,
          4.96,
          5,
          4.95,
          4.98,
          5,
          5,
          5,
          5,
          4.94,
          0,
          5,
          5,
          5,
          4.9,
          4.94,
          4.94,
          4.97,
          4.97,
          4.95,
          4.97,
          4.66,
          4.94,
          4.94,
          4.93,
          4.96,
          4.89,
          5,
          4.98,
          4.91,
          5,
          0,
          5,
          4.88,
          0,
          4.89,
          5,
          4.92,
          5,
          4.67,
          5,
          4.91,
          0,
          0,
          4.96,
          5,
          5,
          4.98,
          5,
          4.96,
          0,
          4.96,
          5,
          5,
          4.94,
          4.96,
          5,
          0,
          4.88,
          4.91,
          5,
          4.9,
          4.96,
          4.92,
          4.88,
          4.94,
          4.98,
          4.82,
          4.94,
          4.82,
          0,
          4.84,
          5,
          4.97,
          4.93,
          4.98,
          4.92,
          0,
          0,
          4.96,
          0,
          0,
          5,
          5,
          4.93,
          4.99,
          0,
          4.94,
          4.98,
          4.94,
          0,
          0,
          4.91,
          4.99,
          4.98,
          0,
          0,
          0,
          4.94,
          0,
          5,
          0,
          4.83,
          0,
          0,
          0,
          0,
          5,
          4.92,
          4.97,
          0,
          0,
          4.94,
          0,
          5,
          5,
          4.96,
          4.98,
          5,
          5,
          4.97,
          0,
          3.67,
          4.94,
          0,
          5,
          5,
          5,
          5,
          5,
          4.98,
          0,
          0,
          0,
          5,
          4.71,
          0,
          0,
          0,
          5,
          5,
          0,
          0,
          0,
          4.78,
          4.6,
          5,
          5,
          4.79,
          0,
          5,
          5,
          5,
          5,
          0,
          0,
          0,
          0,
          4.6,
          4.88,
          4.97,
          4.94,
          0,
          0,
          4.94,
          4.96,
          0,
          4.94,
          4.96,
          0,
          4.9,
          4.99,
          4.81,
          0,
          0,
          4.55,
          4.78,
          4.92,
          4.6,
          4.55,
          0,
          0,
          0,
          0,
          0,
          4.89,
          4.89,
          0,
          4.69,
          4.56,
          4.27,
          0,
          5,
          0,
          5,
          5,
          5,
          5,
          5,
          4.63,
          4.67,
          5,
          5,
          5,
          0,
          0,
          5,
          5,
          5,
          5,
          5,
          5,
          5,
          5,
          5,
          4.92,
          5,
          4.9,
          5,
          5,
          0,
          4.9,
          5,
          5,
          5,
          4.93,
          4.94,
          0,
          4.94,
          5,
          4.88,
          4.98,
          4.98,
          4.94,
          4.99,
          4.87,
          5,
          4.96,
          4.95,
          4.99,
          5,
          4.86,
          5,
          4.86,
          5,
          5,
          5,
          4.9,
          5,
          4.96,
          0,
          4.99,
          0,
          5,
          0,
          4.88,
          4.85,
          5,
          4.96,
          4.65,
          4.92,
          4.93,
          0,
          4.97,
          4.97,
          4.98,
          4.71,
          4.99,
          4.96,
          4.8,
          4.99,
          0,
          4.83,
          4.94,
          4.89,
          4.91,
          4.95,
          5,
          4.65,
          5,
          0,
          4.98,
          5,
          4.9,
          5,
          5,
          4.88,
          4.86,
          4.92,
          0,
          4.86,
          0,
          5,
          0,
          5,
          5,
          4.76,
          4.92,
          4.96,
          4.88,
          4.96,
          0,
          4.95,
          4.92,
          4.92,
          5,
          0,
          4.86,
          0,
          4.94,
          4.75,
          5,
          4.92,
          5,
          5,
          0,
          4.87,
          5,
          5,
          4.85,
          4.95,
          4.91,
          4.85,
          4.95,
          5,
          5,
          4.75,
          4.96,
          0,
          0,
          5,
          4.9,
          0,
          4.94,
          4.86,
          4.88,
          4.96,
          4.94,
          4.82,
          4.8
         ],
         "xaxis": "x",
         "y": [
          43,
          473,
          125,
          71,
          62,
          76,
          83,
          43,
          97,
          98,
          124,
          98,
          100,
          49,
          133,
          111,
          133,
          100,
          83,
          109,
          83,
          130,
          109,
          83,
          102,
          140,
          117,
          103,
          129,
          107,
          98,
          141,
          124,
          124,
          102,
          290,
          77,
          99,
          93,
          54,
          103,
          194,
          94,
          95,
          139,
          124,
          101,
          188,
          379,
          98,
          145,
          194,
          56,
          162,
          114,
          103,
          127,
          169,
          124,
          66,
          121,
          99,
          88,
          127,
          259,
          129,
          161,
          118,
          78,
          168,
          81,
          88,
          206,
          74,
          176,
          168,
          129,
          169,
          169,
          78,
          108,
          98,
          103,
          85,
          82,
          168,
          69,
          181,
          185,
          71,
          179,
          145,
          250,
          189,
          169,
          440,
          114,
          93,
          186,
          88,
          92,
          122,
          117,
          62,
          171,
          54,
          101,
          92,
          114,
          78,
          67,
          202,
          78,
          101,
          128,
          434,
          145,
          78,
          67,
          89,
          103,
          125,
          103,
          83,
          67,
          434,
          125,
          103,
          103,
          83,
          78,
          125,
          78,
          172,
          83,
          153,
          89,
          276,
          103,
          111,
          74,
          78,
          71,
          202,
          78,
          109,
          103,
          202,
          124,
          78,
          89,
          433,
          83,
          233,
          155,
          83,
          433,
          78,
          80,
          103,
          62,
          103,
          359,
          233,
          81,
          67,
          233,
          88,
          150,
          186,
          78,
          251,
          202,
          233,
          103,
          124,
          153,
          62,
          128,
          233,
          80,
          198,
          155,
          111,
          155,
          88,
          80,
          102,
          119,
          81,
          130,
          102,
          114,
          78,
          187,
          123,
          58,
          55,
          61,
          128,
          207,
          53,
          77,
          75,
          214,
          205,
          99,
          190,
          80,
          149,
          92,
          195,
          200,
          89,
          189,
          129,
          131,
          198,
          164,
          228,
          180,
          114,
          139,
          91,
          300,
          90,
          121,
          213,
          61,
          null,
          68,
          140,
          108,
          null,
          80,
          121,
          123,
          266,
          138,
          194,
          122,
          90,
          97,
          128,
          132,
          134,
          130,
          158,
          95,
          94,
          139,
          149,
          68,
          200,
          89,
          194,
          138,
          88,
          70,
          150,
          76,
          203,
          108,
          87,
          121,
          72,
          125,
          139,
          99,
          115,
          61,
          95,
          122,
          92,
          102,
          181,
          150,
          70,
          84,
          78,
          89,
          249,
          100,
          97,
          97,
          115,
          80,
          76,
          71,
          147,
          91,
          79,
          119,
          222,
          150,
          110,
          112,
          81,
          520,
          220,
          132,
          130,
          114,
          145,
          80,
          159,
          316,
          160,
          110,
          120,
          135,
          124,
          114,
          200,
          230,
          88,
          62,
          154,
          62,
          143,
          88,
          154,
          230,
          99,
          63,
          110,
          191,
          129,
          277,
          160,
          129,
          192,
          134,
          84,
          200,
          80,
          206,
          170,
          141,
          87,
          70,
          77,
          81,
          150,
          140,
          249,
          139,
          81,
          100,
          89,
          112,
          211,
          89,
          115,
          88,
          213,
          249,
          174,
          137,
          110,
          65,
          89,
          150,
          119,
          95,
          90,
          90,
          70,
          118,
          110,
          120,
          71,
          140,
          86,
          104,
          264,
          265,
          245,
          92,
          141,
          231,
          170,
          99,
          104,
          284,
          140,
          238,
          170,
          245,
          141,
          121,
          120,
          231,
          137,
          105,
          86,
          97,
          120,
          141,
          106,
          120,
          115,
          95,
          155,
          129,
          84,
          149,
          141,
          240,
          104,
          232,
          104,
          150,
          120,
          86,
          72,
          110,
          78,
          130,
          100,
          149,
          77,
          80,
          249,
          125,
          90,
          225,
          92,
          68,
          174,
          379,
          100,
          89,
          130,
          86,
          86,
          300,
          250,
          240,
          265,
          130,
          110,
          99,
          null,
          210,
          164,
          179,
          179,
          308,
          140,
          145,
          138,
          110,
          null,
          87,
          180,
          168,
          140,
          191,
          152,
          128,
          190,
          130,
          136,
          261,
          120,
          180,
          188,
          219,
          null,
          176,
          67,
          95,
          289,
          220,
          219,
          182,
          196,
          130,
          198,
          160,
          280,
          155,
          196,
          90,
          120,
          117,
          140,
          95,
          176,
          196,
          115,
          140,
          281,
          220,
          164,
          71,
          180,
          220,
          71,
          180,
          160,
          70,
          91,
          247,
          220,
          140,
          179,
          182,
          205,
          214,
          187,
          90,
          223,
          299,
          176,
          223,
          481,
          180,
          null,
          251,
          272,
          140,
          70,
          325,
          444,
          114,
          319,
          70,
          135,
          130,
          218,
          184,
          540,
          235,
          54,
          114,
          349,
          120,
          205,
          279,
          220,
          269,
          189,
          110,
          715,
          65,
          68,
          180,
          140,
          165,
          315,
          286,
          140,
          234,
          290,
          350,
          150,
          124,
          124,
          250,
          169,
          100,
          210,
          178,
          140,
          216,
          96,
          378,
          240,
          184,
          216,
          378,
          143,
          110,
          220,
          350,
          280,
          80,
          596,
          82,
          200,
          92,
          124,
          160,
          301,
          150,
          295,
          100,
          135,
          162,
          212,
          150,
          83,
          159,
          75,
          154,
          275,
          180,
          100,
          85,
          170,
          100,
          159,
          96,
          229,
          134,
          72,
          396,
          260,
          212,
          145,
          90,
          250,
          137,
          228,
          138,
          315,
          69,
          150,
          258,
          62,
          110,
          117,
          453,
          144,
          250,
          190,
          130,
          288,
          533,
          125,
          129,
          null,
          601,
          120,
          228,
          143,
          86,
          140,
          299,
          191,
          276,
          150,
          408,
          125,
          45,
          240,
          134,
          71,
          130,
          150,
          292,
          426,
          150,
          110,
          325,
          320,
          162,
          180,
          59,
          140,
          100,
          145,
          109,
          200,
          111,
          199,
          107,
          230,
          101,
          190
         ],
         "yaxis": "y"
        },
        {
         "hovertemplate": "color=Habitación<br>Rating=%{x}<br>Price per night=%{y}<extra></extra>",
         "legendgroup": "Habitación",
         "marker": {
          "color": "#EF553B",
          "symbol": "circle"
         },
         "mode": "markers",
         "name": "Habitación",
         "orientation": "v",
         "showlegend": true,
         "type": "scatter",
         "x": [
          5,
          0,
          4.84,
          4.93,
          0,
          4.94,
          4.82,
          5,
          4.93,
          4.82,
          4.81,
          4.86,
          0,
          4.97,
          4.81,
          4.72,
          4.72,
          4.57,
          4.83,
          4.94,
          4.79,
          4.96,
          4.97,
          0,
          4.82,
          4.93,
          4.94,
          4.88,
          4.82,
          0,
          4.82,
          4.97,
          0,
          5,
          4.98,
          4.88,
          5,
          4.98,
          4.97,
          4.98,
          4.85,
          4.97,
          4.97,
          0,
          4.83,
          4.53,
          4.99,
          4.97,
          0,
          4.77,
          4.57,
          4.97,
          0,
          0,
          4.9,
          5,
          4.97,
          4.92,
          4.94,
          4.94,
          4.92,
          5,
          4.94,
          4.92,
          4.81,
          5,
          4.96,
          5,
          4.9,
          4.95,
          4.97,
          4.97,
          4.9,
          4.95,
          4.98,
          4.98,
          4.92
         ],
         "xaxis": "x",
         "y": [
          36,
          36,
          113,
          68,
          42,
          53,
          55,
          78,
          88,
          60,
          127,
          70,
          55,
          62,
          80,
          73,
          52,
          52,
          46,
          61,
          62,
          78,
          62,
          42,
          60,
          88,
          103,
          166,
          250,
          42,
          52,
          116,
          68,
          69,
          67,
          228,
          39,
          67,
          61,
          67,
          74,
          61,
          61,
          72,
          197,
          117,
          99,
          97,
          65,
          100,
          110,
          97,
          69,
          69,
          44,
          77,
          84,
          55,
          65,
          65,
          55,
          82,
          65,
          55,
          71,
          82,
          120,
          186,
          280,
          130,
          163,
          163,
          150,
          100,
          100,
          100,
          169
         ],
         "yaxis": "y"
        },
        {
         "hovertemplate": "color=otro<br>Rating=%{x}<br>Price per night=%{y}<extra></extra>",
         "legendgroup": "otro",
         "marker": {
          "color": "#00cc96",
          "symbol": "circle"
         },
         "mode": "markers",
         "name": "otro",
         "orientation": "v",
         "showlegend": true,
         "type": "scatter",
         "x": [
          4.95,
          5,
          5,
          5,
          4.98,
          5,
          4.97
         ],
         "xaxis": "x",
         "y": [
          155,
          134,
          157,
          157,
          155,
          72,
          237
         ],
         "yaxis": "y"
        }
       ],
       "layout": {
        "legend": {
         "title": {
          "text": "color"
         },
         "tracegroupgap": 0
        },
        "template": {
         "data": {
          "bar": [
           {
            "error_x": {
             "color": "#2a3f5f"
            },
            "error_y": {
             "color": "#2a3f5f"
            },
            "marker": {
             "line": {
              "color": "#E5ECF6",
              "width": 0.5
             },
             "pattern": {
              "fillmode": "overlay",
              "size": 10,
              "solidity": 0.2
             }
            },
            "type": "bar"
           }
          ],
          "barpolar": [
           {
            "marker": {
             "line": {
              "color": "#E5ECF6",
              "width": 0.5
             },
             "pattern": {
              "fillmode": "overlay",
              "size": 10,
              "solidity": 0.2
             }
            },
            "type": "barpolar"
           }
          ],
          "carpet": [
           {
            "aaxis": {
             "endlinecolor": "#2a3f5f",
             "gridcolor": "white",
             "linecolor": "white",
             "minorgridcolor": "white",
             "startlinecolor": "#2a3f5f"
            },
            "baxis": {
             "endlinecolor": "#2a3f5f",
             "gridcolor": "white",
             "linecolor": "white",
             "minorgridcolor": "white",
             "startlinecolor": "#2a3f5f"
            },
            "type": "carpet"
           }
          ],
          "choropleth": [
           {
            "colorbar": {
             "outlinewidth": 0,
             "ticks": ""
            },
            "type": "choropleth"
           }
          ],
          "contour": [
           {
            "colorbar": {
             "outlinewidth": 0,
             "ticks": ""
            },
            "colorscale": [
             [
              0,
              "#0d0887"
             ],
             [
              0.1111111111111111,
              "#46039f"
             ],
             [
              0.2222222222222222,
              "#7201a8"
             ],
             [
              0.3333333333333333,
              "#9c179e"
             ],
             [
              0.4444444444444444,
              "#bd3786"
             ],
             [
              0.5555555555555556,
              "#d8576b"
             ],
             [
              0.6666666666666666,
              "#ed7953"
             ],
             [
              0.7777777777777778,
              "#fb9f3a"
             ],
             [
              0.8888888888888888,
              "#fdca26"
             ],
             [
              1,
              "#f0f921"
             ]
            ],
            "type": "contour"
           }
          ],
          "contourcarpet": [
           {
            "colorbar": {
             "outlinewidth": 0,
             "ticks": ""
            },
            "type": "contourcarpet"
           }
          ],
          "heatmap": [
           {
            "colorbar": {
             "outlinewidth": 0,
             "ticks": ""
            },
            "colorscale": [
             [
              0,
              "#0d0887"
             ],
             [
              0.1111111111111111,
              "#46039f"
             ],
             [
              0.2222222222222222,
              "#7201a8"
             ],
             [
              0.3333333333333333,
              "#9c179e"
             ],
             [
              0.4444444444444444,
              "#bd3786"
             ],
             [
              0.5555555555555556,
              "#d8576b"
             ],
             [
              0.6666666666666666,
              "#ed7953"
             ],
             [
              0.7777777777777778,
              "#fb9f3a"
             ],
             [
              0.8888888888888888,
              "#fdca26"
             ],
             [
              1,
              "#f0f921"
             ]
            ],
            "type": "heatmap"
           }
          ],
          "heatmapgl": [
           {
            "colorbar": {
             "outlinewidth": 0,
             "ticks": ""
            },
            "colorscale": [
             [
              0,
              "#0d0887"
             ],
             [
              0.1111111111111111,
              "#46039f"
             ],
             [
              0.2222222222222222,
              "#7201a8"
             ],
             [
              0.3333333333333333,
              "#9c179e"
             ],
             [
              0.4444444444444444,
              "#bd3786"
             ],
             [
              0.5555555555555556,
              "#d8576b"
             ],
             [
              0.6666666666666666,
              "#ed7953"
             ],
             [
              0.7777777777777778,
              "#fb9f3a"
             ],
             [
              0.8888888888888888,
              "#fdca26"
             ],
             [
              1,
              "#f0f921"
             ]
            ],
            "type": "heatmapgl"
           }
          ],
          "histogram": [
           {
            "marker": {
             "pattern": {
              "fillmode": "overlay",
              "size": 10,
              "solidity": 0.2
             }
            },
            "type": "histogram"
           }
          ],
          "histogram2d": [
           {
            "colorbar": {
             "outlinewidth": 0,
             "ticks": ""
            },
            "colorscale": [
             [
              0,
              "#0d0887"
             ],
             [
              0.1111111111111111,
              "#46039f"
             ],
             [
              0.2222222222222222,
              "#7201a8"
             ],
             [
              0.3333333333333333,
              "#9c179e"
             ],
             [
              0.4444444444444444,
              "#bd3786"
             ],
             [
              0.5555555555555556,
              "#d8576b"
             ],
             [
              0.6666666666666666,
              "#ed7953"
             ],
             [
              0.7777777777777778,
              "#fb9f3a"
             ],
             [
              0.8888888888888888,
              "#fdca26"
             ],
             [
              1,
              "#f0f921"
             ]
            ],
            "type": "histogram2d"
           }
          ],
          "histogram2dcontour": [
           {
            "colorbar": {
             "outlinewidth": 0,
             "ticks": ""
            },
            "colorscale": [
             [
              0,
              "#0d0887"
             ],
             [
              0.1111111111111111,
              "#46039f"
             ],
             [
              0.2222222222222222,
              "#7201a8"
             ],
             [
              0.3333333333333333,
              "#9c179e"
             ],
             [
              0.4444444444444444,
              "#bd3786"
             ],
             [
              0.5555555555555556,
              "#d8576b"
             ],
             [
              0.6666666666666666,
              "#ed7953"
             ],
             [
              0.7777777777777778,
              "#fb9f3a"
             ],
             [
              0.8888888888888888,
              "#fdca26"
             ],
             [
              1,
              "#f0f921"
             ]
            ],
            "type": "histogram2dcontour"
           }
          ],
          "mesh3d": [
           {
            "colorbar": {
             "outlinewidth": 0,
             "ticks": ""
            },
            "type": "mesh3d"
           }
          ],
          "parcoords": [
           {
            "line": {
             "colorbar": {
              "outlinewidth": 0,
              "ticks": ""
             }
            },
            "type": "parcoords"
           }
          ],
          "pie": [
           {
            "automargin": true,
            "type": "pie"
           }
          ],
          "scatter": [
           {
            "marker": {
             "colorbar": {
              "outlinewidth": 0,
              "ticks": ""
             }
            },
            "type": "scatter"
           }
          ],
          "scatter3d": [
           {
            "line": {
             "colorbar": {
              "outlinewidth": 0,
              "ticks": ""
             }
            },
            "marker": {
             "colorbar": {
              "outlinewidth": 0,
              "ticks": ""
             }
            },
            "type": "scatter3d"
           }
          ],
          "scattercarpet": [
           {
            "marker": {
             "colorbar": {
              "outlinewidth": 0,
              "ticks": ""
             }
            },
            "type": "scattercarpet"
           }
          ],
          "scattergeo": [
           {
            "marker": {
             "colorbar": {
              "outlinewidth": 0,
              "ticks": ""
             }
            },
            "type": "scattergeo"
           }
          ],
          "scattergl": [
           {
            "marker": {
             "colorbar": {
              "outlinewidth": 0,
              "ticks": ""
             }
            },
            "type": "scattergl"
           }
          ],
          "scattermapbox": [
           {
            "marker": {
             "colorbar": {
              "outlinewidth": 0,
              "ticks": ""
             }
            },
            "type": "scattermapbox"
           }
          ],
          "scatterpolar": [
           {
            "marker": {
             "colorbar": {
              "outlinewidth": 0,
              "ticks": ""
             }
            },
            "type": "scatterpolar"
           }
          ],
          "scatterpolargl": [
           {
            "marker": {
             "colorbar": {
              "outlinewidth": 0,
              "ticks": ""
             }
            },
            "type": "scatterpolargl"
           }
          ],
          "scatterternary": [
           {
            "marker": {
             "colorbar": {
              "outlinewidth": 0,
              "ticks": ""
             }
            },
            "type": "scatterternary"
           }
          ],
          "surface": [
           {
            "colorbar": {
             "outlinewidth": 0,
             "ticks": ""
            },
            "colorscale": [
             [
              0,
              "#0d0887"
             ],
             [
              0.1111111111111111,
              "#46039f"
             ],
             [
              0.2222222222222222,
              "#7201a8"
             ],
             [
              0.3333333333333333,
              "#9c179e"
             ],
             [
              0.4444444444444444,
              "#bd3786"
             ],
             [
              0.5555555555555556,
              "#d8576b"
             ],
             [
              0.6666666666666666,
              "#ed7953"
             ],
             [
              0.7777777777777778,
              "#fb9f3a"
             ],
             [
              0.8888888888888888,
              "#fdca26"
             ],
             [
              1,
              "#f0f921"
             ]
            ],
            "type": "surface"
           }
          ],
          "table": [
           {
            "cells": {
             "fill": {
              "color": "#EBF0F8"
             },
             "line": {
              "color": "white"
             }
            },
            "header": {
             "fill": {
              "color": "#C8D4E3"
             },
             "line": {
              "color": "white"
             }
            },
            "type": "table"
           }
          ]
         },
         "layout": {
          "annotationdefaults": {
           "arrowcolor": "#2a3f5f",
           "arrowhead": 0,
           "arrowwidth": 1
          },
          "autotypenumbers": "strict",
          "coloraxis": {
           "colorbar": {
            "outlinewidth": 0,
            "ticks": ""
           }
          },
          "colorscale": {
           "diverging": [
            [
             0,
             "#8e0152"
            ],
            [
             0.1,
             "#c51b7d"
            ],
            [
             0.2,
             "#de77ae"
            ],
            [
             0.3,
             "#f1b6da"
            ],
            [
             0.4,
             "#fde0ef"
            ],
            [
             0.5,
             "#f7f7f7"
            ],
            [
             0.6,
             "#e6f5d0"
            ],
            [
             0.7,
             "#b8e186"
            ],
            [
             0.8,
             "#7fbc41"
            ],
            [
             0.9,
             "#4d9221"
            ],
            [
             1,
             "#276419"
            ]
           ],
           "sequential": [
            [
             0,
             "#0d0887"
            ],
            [
             0.1111111111111111,
             "#46039f"
            ],
            [
             0.2222222222222222,
             "#7201a8"
            ],
            [
             0.3333333333333333,
             "#9c179e"
            ],
            [
             0.4444444444444444,
             "#bd3786"
            ],
            [
             0.5555555555555556,
             "#d8576b"
            ],
            [
             0.6666666666666666,
             "#ed7953"
            ],
            [
             0.7777777777777778,
             "#fb9f3a"
            ],
            [
             0.8888888888888888,
             "#fdca26"
            ],
            [
             1,
             "#f0f921"
            ]
           ],
           "sequentialminus": [
            [
             0,
             "#0d0887"
            ],
            [
             0.1111111111111111,
             "#46039f"
            ],
            [
             0.2222222222222222,
             "#7201a8"
            ],
            [
             0.3333333333333333,
             "#9c179e"
            ],
            [
             0.4444444444444444,
             "#bd3786"
            ],
            [
             0.5555555555555556,
             "#d8576b"
            ],
            [
             0.6666666666666666,
             "#ed7953"
            ],
            [
             0.7777777777777778,
             "#fb9f3a"
            ],
            [
             0.8888888888888888,
             "#fdca26"
            ],
            [
             1,
             "#f0f921"
            ]
           ]
          },
          "colorway": [
           "#636efa",
           "#EF553B",
           "#00cc96",
           "#ab63fa",
           "#FFA15A",
           "#19d3f3",
           "#FF6692",
           "#B6E880",
           "#FF97FF",
           "#FECB52"
          ],
          "font": {
           "color": "#2a3f5f"
          },
          "geo": {
           "bgcolor": "white",
           "lakecolor": "white",
           "landcolor": "#E5ECF6",
           "showlakes": true,
           "showland": true,
           "subunitcolor": "white"
          },
          "hoverlabel": {
           "align": "left"
          },
          "hovermode": "closest",
          "mapbox": {
           "style": "light"
          },
          "paper_bgcolor": "white",
          "plot_bgcolor": "#E5ECF6",
          "polar": {
           "angularaxis": {
            "gridcolor": "white",
            "linecolor": "white",
            "ticks": ""
           },
           "bgcolor": "#E5ECF6",
           "radialaxis": {
            "gridcolor": "white",
            "linecolor": "white",
            "ticks": ""
           }
          },
          "scene": {
           "xaxis": {
            "backgroundcolor": "#E5ECF6",
            "gridcolor": "white",
            "gridwidth": 2,
            "linecolor": "white",
            "showbackground": true,
            "ticks": "",
            "zerolinecolor": "white"
           },
           "yaxis": {
            "backgroundcolor": "#E5ECF6",
            "gridcolor": "white",
            "gridwidth": 2,
            "linecolor": "white",
            "showbackground": true,
            "ticks": "",
            "zerolinecolor": "white"
           },
           "zaxis": {
            "backgroundcolor": "#E5ECF6",
            "gridcolor": "white",
            "gridwidth": 2,
            "linecolor": "white",
            "showbackground": true,
            "ticks": "",
            "zerolinecolor": "white"
           }
          },
          "shapedefaults": {
           "line": {
            "color": "#2a3f5f"
           }
          },
          "ternary": {
           "aaxis": {
            "gridcolor": "white",
            "linecolor": "white",
            "ticks": ""
           },
           "baxis": {
            "gridcolor": "white",
            "linecolor": "white",
            "ticks": ""
           },
           "bgcolor": "#E5ECF6",
           "caxis": {
            "gridcolor": "white",
            "linecolor": "white",
            "ticks": ""
           }
          },
          "title": {
           "x": 0.05
          },
          "xaxis": {
           "automargin": true,
           "gridcolor": "white",
           "linecolor": "white",
           "ticks": "",
           "title": {
            "standoff": 15
           },
           "zerolinecolor": "white",
           "zerolinewidth": 2
          },
          "yaxis": {
           "automargin": true,
           "gridcolor": "white",
           "linecolor": "white",
           "ticks": "",
           "title": {
            "standoff": 15
           },
           "zerolinecolor": "white",
           "zerolinewidth": 2
          }
         }
        },
        "title": {
         "text": "Price and rating distribution by accomodation type"
        },
        "xaxis": {
         "anchor": "y",
         "domain": [
          0,
          1
         ],
         "title": {
          "text": "Rating"
         }
        },
        "yaxis": {
         "anchor": "x",
         "domain": [
          0,
          1
         ],
         "title": {
          "text": "Price per night"
         }
        }
       }
      }
     },
     "metadata": {},
     "output_type": "display_data"
    }
   ],
   "source": [
    "px.scatter(\n",
    "    x=airbnb_data[\"rating\"],\n",
    "    y=airbnb_data[\"price_per_night\"],\n",
    "    color=airbnb_data[\"category\"],\n",
    "    title=\"Price and rating distribution by accomodation type\",\n",
    "    labels={\"x\": \"Rating\", \"y\": \"Price per night\"},\n",
    ")"
   ]
  },
  {
   "cell_type": "code",
   "execution_count": 13,
   "metadata": {},
   "outputs": [
    {
     "data": {
      "application/vnd.plotly.v1+json": {
       "config": {
        "plotlyServerURL": "https://plot.ly"
       },
       "data": [
        {
         "hovertemplate": "category=Alojamiento entero<br>rating=%{x}<br>price_per_night=%{y}<extra></extra>",
         "legendgroup": "Alojamiento entero",
         "marker": {
          "color": "#636efa",
          "symbol": "circle"
         },
         "mode": "markers",
         "name": "Alojamiento entero",
         "orientation": "v",
         "showlegend": true,
         "type": "scatter",
         "x": [
          4.68,
          0,
          4.84,
          4.87,
          5,
          4.86,
          4.91,
          5,
          0,
          4.99,
          4.93,
          4.95,
          4.92,
          4.89,
          5,
          4.76,
          5,
          4.81,
          4.64,
          0,
          4.7,
          4.93,
          0,
          4.7,
          4.68,
          4.75,
          4.81,
          4.73,
          4.82,
          0,
          4.9,
          4.86,
          0,
          0,
          4.68,
          4.98,
          5,
          4.81,
          5,
          4.96,
          4.73,
          4.75,
          4.91,
          4.9,
          4.94,
          5,
          4.97,
          4.91,
          4.98,
          4.95,
          4.95,
          5,
          4.88,
          4.8,
          4.8,
          4.8,
          4.67,
          4.94,
          4.7,
          4.75,
          4.72,
          4.81,
          5,
          4.67,
          4.58,
          4.71,
          4.82,
          4.6,
          4.82,
          5,
          5,
          5,
          5,
          0,
          0,
          5,
          5,
          5,
          5,
          4.99,
          4.99,
          4.98,
          5,
          4.87,
          4.98,
          0,
          4.99,
          4.95,
          0,
          5,
          4.8,
          5,
          5,
          4.94,
          4.94,
          4.98,
          5,
          4.99,
          5,
          5,
          4.94,
          5,
          5,
          4.98,
          4.97,
          4.98,
          4.93,
          4.99,
          4.92,
          4.98,
          4.98,
          5,
          5,
          4.98,
          4.96,
          5,
          4.93,
          4.94,
          4.88,
          5,
          4.98,
          4.98,
          5,
          5,
          4.88,
          5,
          4.98,
          4.98,
          5,
          4.84,
          5,
          5,
          4.96,
          4.82,
          5,
          5,
          5,
          5,
          5,
          5,
          4.8,
          0,
          4.88,
          4.98,
          5,
          4.85,
          5,
          5,
          0,
          4.98,
          5,
          4.91,
          4.83,
          4.96,
          5,
          4.99,
          4.91,
          4.98,
          4.95,
          5,
          4.99,
          4.97,
          4.98,
          4.75,
          0,
          4.94,
          4.96,
          0,
          4.98,
          4.89,
          4.98,
          4.86,
          4.98,
          4.75,
          4.97,
          0,
          5,
          4.99,
          4.74,
          4.96,
          4.95,
          4.94,
          5,
          4.96,
          5,
          4.82,
          4.95,
          4.91,
          4.97,
          0,
          4.97,
          4.78,
          4.97,
          4.89,
          4.96,
          0,
          4.4,
          4.86,
          4.9,
          5,
          4.99,
          0,
          0,
          0,
          4.79,
          4.92,
          4.92,
          0,
          0,
          5,
          5,
          5,
          4.98,
          4.97,
          5,
          4.66,
          5,
          0,
          5,
          0,
          4.96,
          5,
          0,
          4.82,
          0,
          5,
          4.92,
          5,
          4.79,
          0,
          4.76,
          4.9,
          4.63,
          0,
          0,
          4.93,
          4.8,
          4.9,
          4.95,
          5,
          4.94,
          4.97,
          0,
          5,
          4.99,
          4.87,
          5,
          4.87,
          4.91,
          4.79,
          5,
          4.95,
          4.76,
          4.97,
          4.92,
          5,
          4.9,
          5,
          4.89,
          4.9,
          4.83,
          5,
          4.63,
          4.77,
          4.88,
          0,
          5,
          5,
          4.79,
          4.82,
          4.79,
          0,
          4.87,
          4.59,
          4.75,
          0,
          4.6,
          4.5,
          0,
          4.72,
          4.33,
          0,
          0,
          4.43,
          4.43,
          4.86,
          0,
          0,
          4.44,
          4.5,
          4.2,
          4.32,
          5,
          0,
          0,
          5,
          0,
          5,
          0,
          5,
          5,
          4.95,
          5,
          4.95,
          5,
          0,
          5,
          5,
          5,
          4.95,
          4.97,
          0,
          4.94,
          5,
          5,
          4.91,
          5,
          5,
          5,
          4.92,
          4.91,
          5,
          5,
          5,
          4.92,
          5,
          4.95,
          4.98,
          4.95,
          5,
          5,
          4.99,
          0,
          4.96,
          5,
          4.95,
          4.98,
          5,
          5,
          5,
          5,
          4.94,
          0,
          5,
          5,
          5,
          4.9,
          4.94,
          4.94,
          4.97,
          4.97,
          4.95,
          4.97,
          4.66,
          4.94,
          4.94,
          4.93,
          4.96,
          4.89,
          5,
          4.98,
          4.91,
          5,
          0,
          5,
          4.88,
          0,
          4.89,
          5,
          4.92,
          5,
          4.67,
          5,
          4.91,
          0,
          0,
          4.96,
          5,
          5,
          4.98,
          5,
          4.96,
          0,
          4.96,
          5,
          5,
          4.94,
          4.96,
          5,
          0,
          4.88,
          4.91,
          5,
          4.9,
          4.96,
          4.92,
          4.88,
          4.94,
          4.98,
          4.82,
          4.94,
          4.82,
          0,
          4.84,
          5,
          4.97,
          4.93,
          4.98,
          4.92,
          0,
          0,
          4.96,
          0,
          0,
          5,
          5,
          4.93,
          4.99,
          0,
          4.94,
          4.98,
          4.94,
          0,
          0,
          4.91,
          4.99,
          4.98,
          0,
          0,
          0,
          4.94,
          0,
          5,
          0,
          4.83,
          0,
          0,
          0,
          0,
          5,
          4.92,
          4.97,
          0,
          0,
          4.94,
          0,
          5,
          5,
          4.96,
          4.98,
          5,
          5,
          4.97,
          0,
          3.67,
          4.94,
          0,
          5,
          5,
          5,
          5,
          5,
          4.98,
          0,
          0,
          0,
          5,
          4.71,
          0,
          0,
          0,
          5,
          5,
          0,
          0,
          0,
          4.78,
          4.6,
          5,
          5,
          4.79,
          0,
          5,
          5,
          5,
          5,
          0,
          0,
          0,
          0,
          4.6,
          4.88,
          4.97,
          4.94,
          0,
          0,
          4.94,
          4.96,
          0,
          4.94,
          4.96,
          0,
          4.9,
          4.99,
          4.81,
          0,
          0,
          4.55,
          4.78,
          4.92,
          4.6,
          4.55,
          0,
          0,
          0,
          0,
          0,
          4.89,
          4.89,
          0,
          4.69,
          4.56,
          4.27,
          0,
          5,
          0,
          5,
          5,
          5,
          5,
          5,
          4.63,
          4.67,
          5,
          5,
          5,
          0,
          0,
          5,
          5,
          5,
          5,
          5,
          5,
          5,
          5,
          5,
          4.92,
          5,
          4.9,
          5,
          5,
          0,
          4.9,
          5,
          5,
          5,
          4.93,
          4.94,
          0,
          4.94,
          5,
          4.88,
          4.98,
          4.98,
          4.94,
          4.99,
          4.87,
          5,
          4.96,
          4.95,
          4.99,
          5,
          4.86,
          5,
          4.86,
          5,
          5,
          5,
          4.9,
          5,
          4.96,
          0,
          4.99,
          0,
          5,
          0,
          4.88,
          4.85,
          5,
          4.96,
          4.65,
          4.92,
          4.93,
          0,
          4.97,
          4.97,
          4.98,
          4.71,
          4.99,
          4.96,
          4.8,
          4.99,
          0,
          4.83,
          4.94,
          4.89,
          4.91,
          4.95,
          5,
          4.65,
          5,
          0,
          4.98,
          5,
          4.9,
          5,
          5,
          4.88,
          4.86,
          4.92,
          0,
          4.86,
          0,
          5,
          0,
          5,
          5,
          4.76,
          4.92,
          4.96,
          4.88,
          4.96,
          0,
          4.95,
          4.92,
          4.92,
          5,
          0,
          4.86,
          0,
          4.94,
          4.75,
          5,
          4.92,
          5,
          5,
          0,
          4.87,
          5,
          5,
          4.85,
          4.95,
          4.91,
          4.85,
          4.95,
          5,
          5,
          4.75,
          4.96,
          0,
          0,
          5,
          4.9,
          0,
          4.94,
          4.86,
          4.88,
          4.96,
          4.94,
          4.82,
          4.8
         ],
         "xaxis": "x",
         "y": [
          43,
          473,
          125,
          71,
          62,
          76,
          83,
          43,
          97,
          98,
          124,
          98,
          100,
          49,
          133,
          111,
          133,
          100,
          83,
          109,
          83,
          130,
          109,
          83,
          102,
          140,
          117,
          103,
          129,
          107,
          98,
          141,
          124,
          124,
          102,
          290,
          77,
          99,
          93,
          54,
          103,
          194,
          94,
          95,
          139,
          124,
          101,
          188,
          379,
          98,
          145,
          194,
          56,
          162,
          114,
          103,
          127,
          169,
          124,
          66,
          121,
          99,
          88,
          127,
          259,
          129,
          161,
          118,
          78,
          168,
          81,
          88,
          206,
          74,
          176,
          168,
          129,
          169,
          169,
          78,
          108,
          98,
          103,
          85,
          82,
          168,
          69,
          181,
          185,
          71,
          179,
          145,
          250,
          189,
          169,
          440,
          114,
          93,
          186,
          88,
          92,
          122,
          117,
          62,
          171,
          54,
          101,
          92,
          114,
          78,
          67,
          202,
          78,
          101,
          128,
          434,
          145,
          78,
          67,
          89,
          103,
          125,
          103,
          83,
          67,
          434,
          125,
          103,
          103,
          83,
          78,
          125,
          78,
          172,
          83,
          153,
          89,
          276,
          103,
          111,
          74,
          78,
          71,
          202,
          78,
          109,
          103,
          202,
          124,
          78,
          89,
          433,
          83,
          233,
          155,
          83,
          433,
          78,
          80,
          103,
          62,
          103,
          359,
          233,
          81,
          67,
          233,
          88,
          150,
          186,
          78,
          251,
          202,
          233,
          103,
          124,
          153,
          62,
          128,
          233,
          80,
          198,
          155,
          111,
          155,
          88,
          80,
          102,
          119,
          81,
          130,
          102,
          114,
          78,
          187,
          123,
          58,
          55,
          61,
          128,
          207,
          53,
          77,
          75,
          214,
          205,
          99,
          190,
          80,
          149,
          92,
          195,
          200,
          89,
          189,
          129,
          131,
          198,
          164,
          228,
          180,
          114,
          139,
          91,
          300,
          90,
          121,
          213,
          61,
          null,
          68,
          140,
          108,
          null,
          80,
          121,
          123,
          266,
          138,
          194,
          122,
          90,
          97,
          128,
          132,
          134,
          130,
          158,
          95,
          94,
          139,
          149,
          68,
          200,
          89,
          194,
          138,
          88,
          70,
          150,
          76,
          203,
          108,
          87,
          121,
          72,
          125,
          139,
          99,
          115,
          61,
          95,
          122,
          92,
          102,
          181,
          150,
          70,
          84,
          78,
          89,
          249,
          100,
          97,
          97,
          115,
          80,
          76,
          71,
          147,
          91,
          79,
          119,
          222,
          150,
          110,
          112,
          81,
          520,
          220,
          132,
          130,
          114,
          145,
          80,
          159,
          316,
          160,
          110,
          120,
          135,
          124,
          114,
          200,
          230,
          88,
          62,
          154,
          62,
          143,
          88,
          154,
          230,
          99,
          63,
          110,
          191,
          129,
          277,
          160,
          129,
          192,
          134,
          84,
          200,
          80,
          206,
          170,
          141,
          87,
          70,
          77,
          81,
          150,
          140,
          249,
          139,
          81,
          100,
          89,
          112,
          211,
          89,
          115,
          88,
          213,
          249,
          174,
          137,
          110,
          65,
          89,
          150,
          119,
          95,
          90,
          90,
          70,
          118,
          110,
          120,
          71,
          140,
          86,
          104,
          264,
          265,
          245,
          92,
          141,
          231,
          170,
          99,
          104,
          284,
          140,
          238,
          170,
          245,
          141,
          121,
          120,
          231,
          137,
          105,
          86,
          97,
          120,
          141,
          106,
          120,
          115,
          95,
          155,
          129,
          84,
          149,
          141,
          240,
          104,
          232,
          104,
          150,
          120,
          86,
          72,
          110,
          78,
          130,
          100,
          149,
          77,
          80,
          249,
          125,
          90,
          225,
          92,
          68,
          174,
          379,
          100,
          89,
          130,
          86,
          86,
          300,
          250,
          240,
          265,
          130,
          110,
          99,
          null,
          210,
          164,
          179,
          179,
          308,
          140,
          145,
          138,
          110,
          null,
          87,
          180,
          168,
          140,
          191,
          152,
          128,
          190,
          130,
          136,
          261,
          120,
          180,
          188,
          219,
          null,
          176,
          67,
          95,
          289,
          220,
          219,
          182,
          196,
          130,
          198,
          160,
          280,
          155,
          196,
          90,
          120,
          117,
          140,
          95,
          176,
          196,
          115,
          140,
          281,
          220,
          164,
          71,
          180,
          220,
          71,
          180,
          160,
          70,
          91,
          247,
          220,
          140,
          179,
          182,
          205,
          214,
          187,
          90,
          223,
          299,
          176,
          223,
          481,
          180,
          null,
          251,
          272,
          140,
          70,
          325,
          444,
          114,
          319,
          70,
          135,
          130,
          218,
          184,
          540,
          235,
          54,
          114,
          349,
          120,
          205,
          279,
          220,
          269,
          189,
          110,
          715,
          65,
          68,
          180,
          140,
          165,
          315,
          286,
          140,
          234,
          290,
          350,
          150,
          124,
          124,
          250,
          169,
          100,
          210,
          178,
          140,
          216,
          96,
          378,
          240,
          184,
          216,
          378,
          143,
          110,
          220,
          350,
          280,
          80,
          596,
          82,
          200,
          92,
          124,
          160,
          301,
          150,
          295,
          100,
          135,
          162,
          212,
          150,
          83,
          159,
          75,
          154,
          275,
          180,
          100,
          85,
          170,
          100,
          159,
          96,
          229,
          134,
          72,
          396,
          260,
          212,
          145,
          90,
          250,
          137,
          228,
          138,
          315,
          69,
          150,
          258,
          62,
          110,
          117,
          453,
          144,
          250,
          190,
          130,
          288,
          533,
          125,
          129,
          null,
          601,
          120,
          228,
          143,
          86,
          140,
          299,
          191,
          276,
          150,
          408,
          125,
          45,
          240,
          134,
          71,
          130,
          150,
          292,
          426,
          150,
          110,
          325,
          320,
          162,
          180,
          59,
          140,
          100,
          145,
          109,
          200,
          111,
          199,
          107,
          230,
          101,
          190
         ],
         "yaxis": "y"
        },
        {
         "hovertemplate": "category=Habitación<br>rating=%{x}<br>price_per_night=%{y}<extra></extra>",
         "legendgroup": "Habitación",
         "marker": {
          "color": "#EF553B",
          "symbol": "circle"
         },
         "mode": "markers",
         "name": "Habitación",
         "orientation": "v",
         "showlegend": true,
         "type": "scatter",
         "x": [
          5,
          0,
          4.84,
          4.93,
          0,
          4.94,
          4.82,
          5,
          4.93,
          4.82,
          4.81,
          4.86,
          0,
          4.97,
          4.81,
          4.72,
          4.72,
          4.57,
          4.83,
          4.94,
          4.79,
          4.96,
          4.97,
          0,
          4.82,
          4.93,
          4.94,
          4.88,
          4.82,
          0,
          4.82,
          4.97,
          0,
          5,
          4.98,
          4.88,
          5,
          4.98,
          4.97,
          4.98,
          4.85,
          4.97,
          4.97,
          0,
          4.83,
          4.53,
          4.99,
          4.97,
          0,
          4.77,
          4.57,
          4.97,
          0,
          0,
          4.9,
          5,
          4.97,
          4.92,
          4.94,
          4.94,
          4.92,
          5,
          4.94,
          4.92,
          4.81,
          5,
          4.96,
          5,
          4.9,
          4.95,
          4.97,
          4.97,
          4.9,
          4.95,
          4.98,
          4.98,
          4.92
         ],
         "xaxis": "x",
         "y": [
          36,
          36,
          113,
          68,
          42,
          53,
          55,
          78,
          88,
          60,
          127,
          70,
          55,
          62,
          80,
          73,
          52,
          52,
          46,
          61,
          62,
          78,
          62,
          42,
          60,
          88,
          103,
          166,
          250,
          42,
          52,
          116,
          68,
          69,
          67,
          228,
          39,
          67,
          61,
          67,
          74,
          61,
          61,
          72,
          197,
          117,
          99,
          97,
          65,
          100,
          110,
          97,
          69,
          69,
          44,
          77,
          84,
          55,
          65,
          65,
          55,
          82,
          65,
          55,
          71,
          82,
          120,
          186,
          280,
          130,
          163,
          163,
          150,
          100,
          100,
          100,
          169
         ],
         "yaxis": "y"
        },
        {
         "hovertemplate": "category=otro<br>rating=%{x}<br>price_per_night=%{y}<extra></extra>",
         "legendgroup": "otro",
         "marker": {
          "color": "#00cc96",
          "symbol": "circle"
         },
         "mode": "markers",
         "name": "otro",
         "orientation": "v",
         "showlegend": true,
         "type": "scatter",
         "x": [
          4.95,
          5,
          5,
          5,
          4.98,
          5,
          4.97
         ],
         "xaxis": "x",
         "y": [
          155,
          134,
          157,
          157,
          155,
          72,
          237
         ],
         "yaxis": "y"
        }
       ],
       "layout": {
        "legend": {
         "title": {
          "text": "category"
         },
         "tracegroupgap": 0
        },
        "template": {
         "data": {
          "bar": [
           {
            "error_x": {
             "color": "#2a3f5f"
            },
            "error_y": {
             "color": "#2a3f5f"
            },
            "marker": {
             "line": {
              "color": "#E5ECF6",
              "width": 0.5
             },
             "pattern": {
              "fillmode": "overlay",
              "size": 10,
              "solidity": 0.2
             }
            },
            "type": "bar"
           }
          ],
          "barpolar": [
           {
            "marker": {
             "line": {
              "color": "#E5ECF6",
              "width": 0.5
             },
             "pattern": {
              "fillmode": "overlay",
              "size": 10,
              "solidity": 0.2
             }
            },
            "type": "barpolar"
           }
          ],
          "carpet": [
           {
            "aaxis": {
             "endlinecolor": "#2a3f5f",
             "gridcolor": "white",
             "linecolor": "white",
             "minorgridcolor": "white",
             "startlinecolor": "#2a3f5f"
            },
            "baxis": {
             "endlinecolor": "#2a3f5f",
             "gridcolor": "white",
             "linecolor": "white",
             "minorgridcolor": "white",
             "startlinecolor": "#2a3f5f"
            },
            "type": "carpet"
           }
          ],
          "choropleth": [
           {
            "colorbar": {
             "outlinewidth": 0,
             "ticks": ""
            },
            "type": "choropleth"
           }
          ],
          "contour": [
           {
            "colorbar": {
             "outlinewidth": 0,
             "ticks": ""
            },
            "colorscale": [
             [
              0,
              "#0d0887"
             ],
             [
              0.1111111111111111,
              "#46039f"
             ],
             [
              0.2222222222222222,
              "#7201a8"
             ],
             [
              0.3333333333333333,
              "#9c179e"
             ],
             [
              0.4444444444444444,
              "#bd3786"
             ],
             [
              0.5555555555555556,
              "#d8576b"
             ],
             [
              0.6666666666666666,
              "#ed7953"
             ],
             [
              0.7777777777777778,
              "#fb9f3a"
             ],
             [
              0.8888888888888888,
              "#fdca26"
             ],
             [
              1,
              "#f0f921"
             ]
            ],
            "type": "contour"
           }
          ],
          "contourcarpet": [
           {
            "colorbar": {
             "outlinewidth": 0,
             "ticks": ""
            },
            "type": "contourcarpet"
           }
          ],
          "heatmap": [
           {
            "colorbar": {
             "outlinewidth": 0,
             "ticks": ""
            },
            "colorscale": [
             [
              0,
              "#0d0887"
             ],
             [
              0.1111111111111111,
              "#46039f"
             ],
             [
              0.2222222222222222,
              "#7201a8"
             ],
             [
              0.3333333333333333,
              "#9c179e"
             ],
             [
              0.4444444444444444,
              "#bd3786"
             ],
             [
              0.5555555555555556,
              "#d8576b"
             ],
             [
              0.6666666666666666,
              "#ed7953"
             ],
             [
              0.7777777777777778,
              "#fb9f3a"
             ],
             [
              0.8888888888888888,
              "#fdca26"
             ],
             [
              1,
              "#f0f921"
             ]
            ],
            "type": "heatmap"
           }
          ],
          "heatmapgl": [
           {
            "colorbar": {
             "outlinewidth": 0,
             "ticks": ""
            },
            "colorscale": [
             [
              0,
              "#0d0887"
             ],
             [
              0.1111111111111111,
              "#46039f"
             ],
             [
              0.2222222222222222,
              "#7201a8"
             ],
             [
              0.3333333333333333,
              "#9c179e"
             ],
             [
              0.4444444444444444,
              "#bd3786"
             ],
             [
              0.5555555555555556,
              "#d8576b"
             ],
             [
              0.6666666666666666,
              "#ed7953"
             ],
             [
              0.7777777777777778,
              "#fb9f3a"
             ],
             [
              0.8888888888888888,
              "#fdca26"
             ],
             [
              1,
              "#f0f921"
             ]
            ],
            "type": "heatmapgl"
           }
          ],
          "histogram": [
           {
            "marker": {
             "pattern": {
              "fillmode": "overlay",
              "size": 10,
              "solidity": 0.2
             }
            },
            "type": "histogram"
           }
          ],
          "histogram2d": [
           {
            "colorbar": {
             "outlinewidth": 0,
             "ticks": ""
            },
            "colorscale": [
             [
              0,
              "#0d0887"
             ],
             [
              0.1111111111111111,
              "#46039f"
             ],
             [
              0.2222222222222222,
              "#7201a8"
             ],
             [
              0.3333333333333333,
              "#9c179e"
             ],
             [
              0.4444444444444444,
              "#bd3786"
             ],
             [
              0.5555555555555556,
              "#d8576b"
             ],
             [
              0.6666666666666666,
              "#ed7953"
             ],
             [
              0.7777777777777778,
              "#fb9f3a"
             ],
             [
              0.8888888888888888,
              "#fdca26"
             ],
             [
              1,
              "#f0f921"
             ]
            ],
            "type": "histogram2d"
           }
          ],
          "histogram2dcontour": [
           {
            "colorbar": {
             "outlinewidth": 0,
             "ticks": ""
            },
            "colorscale": [
             [
              0,
              "#0d0887"
             ],
             [
              0.1111111111111111,
              "#46039f"
             ],
             [
              0.2222222222222222,
              "#7201a8"
             ],
             [
              0.3333333333333333,
              "#9c179e"
             ],
             [
              0.4444444444444444,
              "#bd3786"
             ],
             [
              0.5555555555555556,
              "#d8576b"
             ],
             [
              0.6666666666666666,
              "#ed7953"
             ],
             [
              0.7777777777777778,
              "#fb9f3a"
             ],
             [
              0.8888888888888888,
              "#fdca26"
             ],
             [
              1,
              "#f0f921"
             ]
            ],
            "type": "histogram2dcontour"
           }
          ],
          "mesh3d": [
           {
            "colorbar": {
             "outlinewidth": 0,
             "ticks": ""
            },
            "type": "mesh3d"
           }
          ],
          "parcoords": [
           {
            "line": {
             "colorbar": {
              "outlinewidth": 0,
              "ticks": ""
             }
            },
            "type": "parcoords"
           }
          ],
          "pie": [
           {
            "automargin": true,
            "type": "pie"
           }
          ],
          "scatter": [
           {
            "marker": {
             "colorbar": {
              "outlinewidth": 0,
              "ticks": ""
             }
            },
            "type": "scatter"
           }
          ],
          "scatter3d": [
           {
            "line": {
             "colorbar": {
              "outlinewidth": 0,
              "ticks": ""
             }
            },
            "marker": {
             "colorbar": {
              "outlinewidth": 0,
              "ticks": ""
             }
            },
            "type": "scatter3d"
           }
          ],
          "scattercarpet": [
           {
            "marker": {
             "colorbar": {
              "outlinewidth": 0,
              "ticks": ""
             }
            },
            "type": "scattercarpet"
           }
          ],
          "scattergeo": [
           {
            "marker": {
             "colorbar": {
              "outlinewidth": 0,
              "ticks": ""
             }
            },
            "type": "scattergeo"
           }
          ],
          "scattergl": [
           {
            "marker": {
             "colorbar": {
              "outlinewidth": 0,
              "ticks": ""
             }
            },
            "type": "scattergl"
           }
          ],
          "scattermapbox": [
           {
            "marker": {
             "colorbar": {
              "outlinewidth": 0,
              "ticks": ""
             }
            },
            "type": "scattermapbox"
           }
          ],
          "scatterpolar": [
           {
            "marker": {
             "colorbar": {
              "outlinewidth": 0,
              "ticks": ""
             }
            },
            "type": "scatterpolar"
           }
          ],
          "scatterpolargl": [
           {
            "marker": {
             "colorbar": {
              "outlinewidth": 0,
              "ticks": ""
             }
            },
            "type": "scatterpolargl"
           }
          ],
          "scatterternary": [
           {
            "marker": {
             "colorbar": {
              "outlinewidth": 0,
              "ticks": ""
             }
            },
            "type": "scatterternary"
           }
          ],
          "surface": [
           {
            "colorbar": {
             "outlinewidth": 0,
             "ticks": ""
            },
            "colorscale": [
             [
              0,
              "#0d0887"
             ],
             [
              0.1111111111111111,
              "#46039f"
             ],
             [
              0.2222222222222222,
              "#7201a8"
             ],
             [
              0.3333333333333333,
              "#9c179e"
             ],
             [
              0.4444444444444444,
              "#bd3786"
             ],
             [
              0.5555555555555556,
              "#d8576b"
             ],
             [
              0.6666666666666666,
              "#ed7953"
             ],
             [
              0.7777777777777778,
              "#fb9f3a"
             ],
             [
              0.8888888888888888,
              "#fdca26"
             ],
             [
              1,
              "#f0f921"
             ]
            ],
            "type": "surface"
           }
          ],
          "table": [
           {
            "cells": {
             "fill": {
              "color": "#EBF0F8"
             },
             "line": {
              "color": "white"
             }
            },
            "header": {
             "fill": {
              "color": "#C8D4E3"
             },
             "line": {
              "color": "white"
             }
            },
            "type": "table"
           }
          ]
         },
         "layout": {
          "annotationdefaults": {
           "arrowcolor": "#2a3f5f",
           "arrowhead": 0,
           "arrowwidth": 1
          },
          "autotypenumbers": "strict",
          "coloraxis": {
           "colorbar": {
            "outlinewidth": 0,
            "ticks": ""
           }
          },
          "colorscale": {
           "diverging": [
            [
             0,
             "#8e0152"
            ],
            [
             0.1,
             "#c51b7d"
            ],
            [
             0.2,
             "#de77ae"
            ],
            [
             0.3,
             "#f1b6da"
            ],
            [
             0.4,
             "#fde0ef"
            ],
            [
             0.5,
             "#f7f7f7"
            ],
            [
             0.6,
             "#e6f5d0"
            ],
            [
             0.7,
             "#b8e186"
            ],
            [
             0.8,
             "#7fbc41"
            ],
            [
             0.9,
             "#4d9221"
            ],
            [
             1,
             "#276419"
            ]
           ],
           "sequential": [
            [
             0,
             "#0d0887"
            ],
            [
             0.1111111111111111,
             "#46039f"
            ],
            [
             0.2222222222222222,
             "#7201a8"
            ],
            [
             0.3333333333333333,
             "#9c179e"
            ],
            [
             0.4444444444444444,
             "#bd3786"
            ],
            [
             0.5555555555555556,
             "#d8576b"
            ],
            [
             0.6666666666666666,
             "#ed7953"
            ],
            [
             0.7777777777777778,
             "#fb9f3a"
            ],
            [
             0.8888888888888888,
             "#fdca26"
            ],
            [
             1,
             "#f0f921"
            ]
           ],
           "sequentialminus": [
            [
             0,
             "#0d0887"
            ],
            [
             0.1111111111111111,
             "#46039f"
            ],
            [
             0.2222222222222222,
             "#7201a8"
            ],
            [
             0.3333333333333333,
             "#9c179e"
            ],
            [
             0.4444444444444444,
             "#bd3786"
            ],
            [
             0.5555555555555556,
             "#d8576b"
            ],
            [
             0.6666666666666666,
             "#ed7953"
            ],
            [
             0.7777777777777778,
             "#fb9f3a"
            ],
            [
             0.8888888888888888,
             "#fdca26"
            ],
            [
             1,
             "#f0f921"
            ]
           ]
          },
          "colorway": [
           "#636efa",
           "#EF553B",
           "#00cc96",
           "#ab63fa",
           "#FFA15A",
           "#19d3f3",
           "#FF6692",
           "#B6E880",
           "#FF97FF",
           "#FECB52"
          ],
          "font": {
           "color": "#2a3f5f"
          },
          "geo": {
           "bgcolor": "white",
           "lakecolor": "white",
           "landcolor": "#E5ECF6",
           "showlakes": true,
           "showland": true,
           "subunitcolor": "white"
          },
          "hoverlabel": {
           "align": "left"
          },
          "hovermode": "closest",
          "mapbox": {
           "style": "light"
          },
          "paper_bgcolor": "white",
          "plot_bgcolor": "#E5ECF6",
          "polar": {
           "angularaxis": {
            "gridcolor": "white",
            "linecolor": "white",
            "ticks": ""
           },
           "bgcolor": "#E5ECF6",
           "radialaxis": {
            "gridcolor": "white",
            "linecolor": "white",
            "ticks": ""
           }
          },
          "scene": {
           "xaxis": {
            "backgroundcolor": "#E5ECF6",
            "gridcolor": "white",
            "gridwidth": 2,
            "linecolor": "white",
            "showbackground": true,
            "ticks": "",
            "zerolinecolor": "white"
           },
           "yaxis": {
            "backgroundcolor": "#E5ECF6",
            "gridcolor": "white",
            "gridwidth": 2,
            "linecolor": "white",
            "showbackground": true,
            "ticks": "",
            "zerolinecolor": "white"
           },
           "zaxis": {
            "backgroundcolor": "#E5ECF6",
            "gridcolor": "white",
            "gridwidth": 2,
            "linecolor": "white",
            "showbackground": true,
            "ticks": "",
            "zerolinecolor": "white"
           }
          },
          "shapedefaults": {
           "line": {
            "color": "#2a3f5f"
           }
          },
          "ternary": {
           "aaxis": {
            "gridcolor": "white",
            "linecolor": "white",
            "ticks": ""
           },
           "baxis": {
            "gridcolor": "white",
            "linecolor": "white",
            "ticks": ""
           },
           "bgcolor": "#E5ECF6",
           "caxis": {
            "gridcolor": "white",
            "linecolor": "white",
            "ticks": ""
           }
          },
          "title": {
           "x": 0.05
          },
          "xaxis": {
           "automargin": true,
           "gridcolor": "white",
           "linecolor": "white",
           "ticks": "",
           "title": {
            "standoff": 15
           },
           "zerolinecolor": "white",
           "zerolinewidth": 2
          },
          "yaxis": {
           "automargin": true,
           "gridcolor": "white",
           "linecolor": "white",
           "ticks": "",
           "title": {
            "standoff": 15
           },
           "zerolinecolor": "white",
           "zerolinewidth": 2
          }
         }
        },
        "title": {
         "text": "Price and rating distribution by accomodation type (logarithmic scale)"
        },
        "xaxis": {
         "anchor": "y",
         "domain": [
          0,
          1
         ],
         "title": {
          "text": "rating"
         },
         "type": "log"
        },
        "yaxis": {
         "anchor": "x",
         "domain": [
          0,
          1
         ],
         "title": {
          "text": "price_per_night"
         }
        }
       }
      }
     },
     "metadata": {},
     "output_type": "display_data"
    }
   ],
   "source": [
    "px.scatter(\n",
    "    data_frame=airbnb_data,\n",
    "    x=\"rating\",\n",
    "    y=\"price_per_night\",\n",
    "    log_x=True,\n",
    "    color=\"category\",\n",
    "    title=\"Price and rating distribution by accomodation type (logarithmic scale)\",\n",
    "    labels={\"x\": \"Rating (log scale)\", \"y\": \"Price per night\"},\n",
    ")"
   ]
  },
  {
   "cell_type": "code",
   "execution_count": 14,
   "metadata": {},
   "outputs": [
    {
     "data": {
      "application/vnd.plotly.v1+json": {
       "config": {
        "plotlyServerURL": "https://plot.ly"
       },
       "data": [
        {
         "hovertemplate": "category=Alojamiento entero<br>rating=%{x}<br>reviews=%{y}<extra></extra>",
         "legendgroup": "Alojamiento entero",
         "marker": {
          "color": "#636efa",
          "symbol": "circle"
         },
         "mode": "markers",
         "name": "Alojamiento entero",
         "orientation": "v",
         "showlegend": true,
         "type": "scatter",
         "x": [
          4.68,
          0,
          4.84,
          4.87,
          5,
          4.86,
          4.91,
          5,
          0,
          4.99,
          4.93,
          4.95,
          4.92,
          4.89,
          5,
          4.76,
          5,
          4.81,
          4.64,
          0,
          4.7,
          4.93,
          0,
          4.7,
          4.68,
          4.75,
          4.81,
          4.73,
          4.82,
          0,
          4.9,
          4.86,
          0,
          0,
          4.68,
          4.98,
          5,
          4.81,
          5,
          4.96,
          4.73,
          4.75,
          4.91,
          4.9,
          4.94,
          5,
          4.97,
          4.91,
          4.98,
          4.95,
          4.95,
          5,
          4.88,
          4.8,
          4.8,
          4.8,
          4.67,
          4.94,
          4.7,
          4.75,
          4.72,
          4.81,
          5,
          4.67,
          4.58,
          4.71,
          4.82,
          4.6,
          4.82,
          5,
          5,
          5,
          5,
          0,
          0,
          5,
          5,
          5,
          5,
          4.99,
          4.99,
          4.98,
          5,
          4.87,
          4.98,
          0,
          4.99,
          4.95,
          0,
          5,
          4.8,
          5,
          5,
          4.94,
          4.94,
          4.98,
          5,
          4.99,
          5,
          5,
          4.94,
          5,
          5,
          4.98,
          4.97,
          4.98,
          4.93,
          4.99,
          4.92,
          4.98,
          4.98,
          5,
          5,
          4.98,
          4.96,
          5,
          4.93,
          4.94,
          4.88,
          5,
          4.98,
          4.98,
          5,
          5,
          4.88,
          5,
          4.98,
          4.98,
          5,
          4.84,
          5,
          5,
          4.96,
          4.82,
          5,
          5,
          5,
          5,
          5,
          5,
          4.8,
          0,
          4.88,
          4.98,
          5,
          4.85,
          5,
          5,
          0,
          4.98,
          5,
          4.91,
          4.83,
          4.96,
          5,
          4.99,
          4.91,
          4.98,
          4.95,
          5,
          4.99,
          4.97,
          4.98,
          4.75,
          0,
          4.94,
          4.96,
          0,
          4.98,
          4.89,
          4.98,
          4.86,
          4.98,
          4.75,
          4.97,
          0,
          5,
          4.99,
          4.74,
          4.96,
          4.95,
          4.94,
          5,
          4.96,
          5,
          4.82,
          4.95,
          4.91,
          4.97,
          0,
          4.97,
          4.78,
          4.97,
          4.89,
          4.96,
          0,
          4.4,
          4.86,
          4.9,
          5,
          4.99,
          0,
          0,
          0,
          4.79,
          4.92,
          4.92,
          0,
          0,
          5,
          5,
          5,
          4.98,
          4.97,
          5,
          4.66,
          5,
          0,
          5,
          0,
          4.96,
          5,
          0,
          4.82,
          0,
          5,
          4.92,
          5,
          4.79,
          0,
          4.76,
          4.9,
          4.63,
          0,
          0,
          4.93,
          4.8,
          4.9,
          4.95,
          5,
          4.94,
          4.97,
          0,
          5,
          4.99,
          4.87,
          5,
          4.87,
          4.91,
          4.79,
          5,
          4.95,
          4.76,
          4.97,
          4.92,
          5,
          4.9,
          5,
          4.89,
          4.9,
          4.83,
          5,
          4.63,
          4.77,
          4.88,
          0,
          5,
          5,
          4.79,
          4.82,
          4.79,
          0,
          4.87,
          4.59,
          4.75,
          0,
          4.6,
          4.5,
          0,
          4.72,
          4.33,
          0,
          0,
          4.43,
          4.43,
          4.86,
          0,
          0,
          4.44,
          4.5,
          4.2,
          4.32,
          5,
          0,
          0,
          5,
          0,
          5,
          0,
          5,
          5,
          4.95,
          5,
          4.95,
          5,
          0,
          5,
          5,
          5,
          4.95,
          4.97,
          0,
          4.94,
          5,
          5,
          4.91,
          5,
          5,
          5,
          4.92,
          4.91,
          5,
          5,
          5,
          4.92,
          5,
          4.95,
          4.98,
          4.95,
          5,
          5,
          4.99,
          0,
          4.96,
          5,
          4.95,
          4.98,
          5,
          5,
          5,
          5,
          4.94,
          0,
          5,
          5,
          5,
          4.9,
          4.94,
          4.94,
          4.97,
          4.97,
          4.95,
          4.97,
          4.66,
          4.94,
          4.94,
          4.93,
          4.96,
          4.89,
          5,
          4.98,
          4.91,
          5,
          0,
          5,
          4.88,
          0,
          4.89,
          5,
          4.92,
          5,
          4.67,
          5,
          4.91,
          0,
          0,
          4.96,
          5,
          5,
          4.98,
          5,
          4.96,
          0,
          4.96,
          5,
          5,
          4.94,
          4.96,
          5,
          0,
          4.88,
          4.91,
          5,
          4.9,
          4.96,
          4.92,
          4.88,
          4.94,
          4.98,
          4.82,
          4.94,
          4.82,
          0,
          4.84,
          5,
          4.97,
          4.93,
          4.98,
          4.92,
          0,
          0,
          4.96,
          0,
          0,
          5,
          5,
          4.93,
          4.99,
          0,
          4.94,
          4.98,
          4.94,
          0,
          0,
          4.91,
          4.99,
          4.98,
          0,
          0,
          0,
          4.94,
          0,
          5,
          0,
          4.83,
          0,
          0,
          0,
          0,
          5,
          4.92,
          4.97,
          0,
          0,
          4.94,
          0,
          5,
          5,
          4.96,
          4.98,
          5,
          5,
          4.97,
          0,
          3.67,
          4.94,
          0,
          5,
          5,
          5,
          5,
          5,
          4.98,
          0,
          0,
          0,
          5,
          4.71,
          0,
          0,
          0,
          5,
          5,
          0,
          0,
          0,
          4.78,
          4.6,
          5,
          5,
          4.79,
          0,
          5,
          5,
          5,
          5,
          0,
          0,
          0,
          0,
          4.6,
          4.88,
          4.97,
          4.94,
          0,
          0,
          4.94,
          4.96,
          0,
          4.94,
          4.96,
          0,
          4.9,
          4.99,
          4.81,
          0,
          0,
          4.55,
          4.78,
          4.92,
          4.6,
          4.55,
          0,
          0,
          0,
          0,
          0,
          4.89,
          4.89,
          0,
          4.69,
          4.56,
          4.27,
          0,
          5,
          0,
          5,
          5,
          5,
          5,
          5,
          4.63,
          4.67,
          5,
          5,
          5,
          0,
          0,
          5,
          5,
          5,
          5,
          5,
          5,
          5,
          5,
          5,
          4.92,
          5,
          4.9,
          5,
          5,
          0,
          4.9,
          5,
          5,
          5,
          4.93,
          4.94,
          0,
          4.94,
          5,
          4.88,
          4.98,
          4.98,
          4.94,
          4.99,
          4.87,
          5,
          4.96,
          4.95,
          4.99,
          5,
          4.86,
          5,
          4.86,
          5,
          5,
          5,
          4.9,
          5,
          4.96,
          0,
          4.99,
          0,
          5,
          0,
          4.88,
          4.85,
          5,
          4.96,
          4.65,
          4.92,
          4.93,
          0,
          4.97,
          4.97,
          4.98,
          4.71,
          4.99,
          4.96,
          4.8,
          4.99,
          0,
          4.83,
          4.94,
          4.89,
          4.91,
          4.95,
          5,
          4.65,
          5,
          0,
          4.98,
          5,
          4.9,
          5,
          5,
          4.88,
          4.86,
          4.92,
          0,
          4.86,
          0,
          5,
          0,
          5,
          5,
          4.76,
          4.92,
          4.96,
          4.88,
          4.96,
          0,
          4.95,
          4.92,
          4.92,
          5,
          0,
          4.86,
          0,
          4.94,
          4.75,
          5,
          4.92,
          5,
          5,
          0,
          4.87,
          5,
          5,
          4.85,
          4.95,
          4.91,
          4.85,
          4.95,
          5,
          5,
          4.75,
          4.96,
          0,
          0,
          5,
          4.9,
          0,
          4.94,
          4.86,
          4.88,
          4.96,
          4.94,
          4.82,
          4.8
         ],
         "xaxis": "x",
         "y": [
          19,
          0,
          339,
          0,
          13,
          86,
          145,
          17,
          0,
          199,
          121,
          84,
          87,
          36,
          0,
          592,
          5,
          120,
          14,
          0,
          466,
          337,
          0,
          466,
          95,
          750,
          16,
          169,
          95,
          0,
          10,
          14,
          0,
          0,
          95,
          52,
          21,
          208,
          13,
          70,
          169,
          145,
          65,
          41,
          63,
          4,
          231,
          74,
          52,
          22,
          21,
          3,
          0,
          733,
          10,
          15,
          0,
          0,
          821,
          413,
          53,
          208,
          0,
          0,
          40,
          0,
          17,
          5,
          11,
          4,
          0,
          34,
          56,
          0,
          0,
          31,
          21,
          0,
          0,
          92,
          0,
          54,
          0,
          30,
          255,
          0,
          188,
          22,
          0,
          9,
          35,
          34,
          0,
          0,
          0,
          185,
          6,
          183,
          52,
          66,
          117,
          18,
          17,
          195,
          95,
          200,
          61,
          72,
          86,
          59,
          342,
          7,
          9,
          196,
          53,
          21,
          76,
          160,
          8,
          5,
          163,
          176,
          0,
          52,
          8,
          21,
          176,
          163,
          9,
          43,
          9,
          14,
          25,
          17,
          52,
          11,
          5,
          25,
          0,
          0,
          0,
          0,
          0,
          0,
          9,
          34,
          0,
          7,
          0,
          350,
          5,
          390,
          12,
          53,
          19,
          108,
          390,
          350,
          199,
          0,
          92,
          88,
          44,
          0,
          0,
          104,
          53,
          0,
          121,
          0,
          350,
          0,
          0,
          0,
          88,
          0,
          11,
          92,
          34,
          53,
          199,
          62,
          19,
          82,
          19,
          168,
          199,
          81,
          35,
          0,
          144,
          23,
          106,
          9,
          23,
          0,
          5,
          58,
          41,
          11,
          313,
          0,
          0,
          0,
          419,
          25,
          12,
          0,
          0,
          15,
          30,
          12,
          49,
          276,
          43,
          130,
          10,
          0,
          204,
          0,
          26,
          4,
          0,
          88,
          0,
          24,
          26,
          51,
          327,
          0,
          228,
          73,
          0,
          0,
          0,
          299,
          44,
          20,
          148,
          3,
          119,
          31,
          0,
          5,
          69,
          0,
          32,
          134,
          70,
          197,
          5,
          21,
          228,
          114,
          97,
          3,
          104,
          8,
          9,
          20,
          60,
          27,
          0,
          0,
          24,
          0,
          0,
          5,
          0,
          324,
          327,
          0,
          79,
          59,
          16,
          0,
          15,
          0,
          0,
          457,
          3,
          0,
          0,
          51,
          51,
          7,
          0,
          0,
          27,
          8,
          0,
          65,
          11,
          0,
          0,
          16,
          0,
          94,
          0,
          0,
          4,
          22,
          0,
          367,
          26,
          0,
          0,
          41,
          48,
          101,
          36,
          0,
          394,
          17,
          17,
          0,
          18,
          17,
          18,
          74,
          0,
          17,
          17,
          41,
          292,
          10,
          99,
          43,
          196,
          4,
          7,
          96,
          0,
          107,
          9,
          37,
          61,
          20,
          37,
          7,
          22,
          100,
          0,
          8,
          7,
          0,
          185,
          0,
          162,
          143,
          140,
          60,
          143,
          44,
          35,
          31,
          28,
          28,
          267,
          10,
          40,
          32,
          15,
          0,
          10,
          8,
          0,
          9,
          0,
          0,
          6,
          3,
          3,
          11,
          0,
          0,
          26,
          9,
          31,
          81,
          21,
          27,
          0,
          74,
          22,
          3,
          52,
          27,
          9,
          0,
          24,
          22,
          21,
          217,
          46,
          157,
          240,
          36,
          81,
          76,
          36,
          324,
          0,
          132,
          5,
          37,
          0,
          81,
          89,
          0,
          0,
          74,
          0,
          0,
          11,
          4,
          134,
          142,
          0,
          83,
          43,
          16,
          0,
          0,
          0,
          67,
          112,
          0,
          0,
          0,
          196,
          0,
          0,
          0,
          0,
          0,
          0,
          0,
          0,
          20,
          62,
          174,
          0,
          0,
          18,
          0,
          9,
          9,
          24,
          0,
          17,
          0,
          29,
          0,
          3,
          17,
          0,
          0,
          4,
          3,
          17,
          3,
          87,
          0,
          0,
          0,
          24,
          0,
          0,
          0,
          0,
          5,
          8,
          0,
          0,
          0,
          27,
          0,
          5,
          29,
          14,
          0,
          6,
          31,
          17,
          6,
          0,
          0,
          0,
          0,
          0,
          16,
          91,
          150,
          0,
          0,
          0,
          25,
          0,
          0,
          25,
          0,
          10,
          0,
          132,
          0,
          0,
          121,
          27,
          62,
          0,
          0,
          0,
          0,
          0,
          0,
          0,
          27,
          9,
          0,
          0,
          0,
          11,
          0,
          0,
          0,
          6,
          52,
          3,
          3,
          5,
          0,
          0,
          18,
          25,
          18,
          0,
          0,
          7,
          22,
          0,
          3,
          67,
          45,
          12,
          0,
          24,
          257,
          29,
          10,
          3,
          0,
          0,
          10,
          6,
          0,
          8,
          472,
          72,
          0,
          17,
          10,
          416,
          42,
          135,
          16,
          124,
          30,
          0,
          23,
          21,
          124,
          0,
          29,
          10,
          304,
          3,
          21,
          4,
          80,
          0,
          114,
          0,
          99,
          0,
          56,
          0,
          230,
          86,
          3,
          100,
          0,
          97,
          107,
          0,
          32,
          32,
          51,
          7,
          83,
          224,
          20,
          83,
          0,
          47,
          16,
          9,
          23,
          22,
          19,
          0,
          25,
          0,
          148,
          20,
          0,
          10,
          12,
          223,
          29,
          152,
          0,
          0,
          0,
          8,
          0,
          37,
          29,
          29,
          215,
          0,
          32,
          138,
          0,
          138,
          13,
          132,
          0,
          0,
          84,
          0,
          154,
          0,
          3,
          0,
          19,
          4,
          0,
          0,
          34,
          34,
          20,
          366,
          99,
          20,
          79,
          0,
          16,
          4,
          26,
          0,
          0,
          0,
          30,
          0,
          18,
          0,
          182,
          0,
          18,
          17,
          241
         ],
         "yaxis": "y"
        },
        {
         "hovertemplate": "category=Habitación<br>rating=%{x}<br>reviews=%{y}<extra></extra>",
         "legendgroup": "Habitación",
         "marker": {
          "color": "#EF553B",
          "symbol": "circle"
         },
         "mode": "markers",
         "name": "Habitación",
         "orientation": "v",
         "showlegend": true,
         "type": "scatter",
         "x": [
          5,
          0,
          4.84,
          4.93,
          0,
          4.94,
          4.82,
          5,
          4.93,
          4.82,
          4.81,
          4.86,
          0,
          4.97,
          4.81,
          4.72,
          4.72,
          4.57,
          4.83,
          4.94,
          4.79,
          4.96,
          4.97,
          0,
          4.82,
          4.93,
          4.94,
          4.88,
          4.82,
          0,
          4.82,
          4.97,
          0,
          5,
          4.98,
          4.88,
          5,
          4.98,
          4.97,
          4.98,
          4.85,
          4.97,
          4.97,
          0,
          4.83,
          4.53,
          4.99,
          4.97,
          0,
          4.77,
          4.57,
          4.97,
          0,
          0,
          4.9,
          5,
          4.97,
          4.92,
          4.94,
          4.94,
          4.92,
          5,
          4.94,
          4.92,
          4.81,
          5,
          4.96,
          5,
          4.9,
          4.95,
          4.97,
          4.97,
          4.9,
          4.95,
          4.98,
          4.98,
          4.92
         ],
         "xaxis": "x",
         "y": [
          5,
          0,
          218,
          877,
          0,
          16,
          68,
          0,
          15,
          218,
          203,
          212,
          0,
          60,
          477,
          866,
          25,
          7,
          221,
          0,
          304,
          72,
          60,
          0,
          218,
          15,
          17,
          174,
          233,
          0,
          11,
          163,
          0,
          5,
          64,
          206,
          9,
          64,
          30,
          64,
          39,
          30,
          30,
          0,
          570,
          0,
          518,
          445,
          0,
          0,
          0,
          34,
          0,
          0,
          10,
          13,
          31,
          403,
          78,
          78,
          403,
          3,
          78,
          403,
          0,
          3,
          193,
          34,
          230,
          186,
          331,
          331,
          249,
          354,
          60,
          60,
          79
         ],
         "yaxis": "y"
        },
        {
         "hovertemplate": "category=otro<br>rating=%{x}<br>reviews=%{y}<extra></extra>",
         "legendgroup": "otro",
         "marker": {
          "color": "#00cc96",
          "symbol": "circle"
         },
         "mode": "markers",
         "name": "otro",
         "orientation": "v",
         "showlegend": true,
         "type": "scatter",
         "x": [
          4.95,
          5,
          5,
          5,
          4.98,
          5,
          4.97
         ],
         "xaxis": "x",
         "y": [
          61,
          33,
          60,
          60,
          179,
          5,
          147
         ],
         "yaxis": "y"
        }
       ],
       "layout": {
        "legend": {
         "title": {
          "text": "category"
         },
         "tracegroupgap": 0
        },
        "template": {
         "data": {
          "bar": [
           {
            "error_x": {
             "color": "#2a3f5f"
            },
            "error_y": {
             "color": "#2a3f5f"
            },
            "marker": {
             "line": {
              "color": "#E5ECF6",
              "width": 0.5
             },
             "pattern": {
              "fillmode": "overlay",
              "size": 10,
              "solidity": 0.2
             }
            },
            "type": "bar"
           }
          ],
          "barpolar": [
           {
            "marker": {
             "line": {
              "color": "#E5ECF6",
              "width": 0.5
             },
             "pattern": {
              "fillmode": "overlay",
              "size": 10,
              "solidity": 0.2
             }
            },
            "type": "barpolar"
           }
          ],
          "carpet": [
           {
            "aaxis": {
             "endlinecolor": "#2a3f5f",
             "gridcolor": "white",
             "linecolor": "white",
             "minorgridcolor": "white",
             "startlinecolor": "#2a3f5f"
            },
            "baxis": {
             "endlinecolor": "#2a3f5f",
             "gridcolor": "white",
             "linecolor": "white",
             "minorgridcolor": "white",
             "startlinecolor": "#2a3f5f"
            },
            "type": "carpet"
           }
          ],
          "choropleth": [
           {
            "colorbar": {
             "outlinewidth": 0,
             "ticks": ""
            },
            "type": "choropleth"
           }
          ],
          "contour": [
           {
            "colorbar": {
             "outlinewidth": 0,
             "ticks": ""
            },
            "colorscale": [
             [
              0,
              "#0d0887"
             ],
             [
              0.1111111111111111,
              "#46039f"
             ],
             [
              0.2222222222222222,
              "#7201a8"
             ],
             [
              0.3333333333333333,
              "#9c179e"
             ],
             [
              0.4444444444444444,
              "#bd3786"
             ],
             [
              0.5555555555555556,
              "#d8576b"
             ],
             [
              0.6666666666666666,
              "#ed7953"
             ],
             [
              0.7777777777777778,
              "#fb9f3a"
             ],
             [
              0.8888888888888888,
              "#fdca26"
             ],
             [
              1,
              "#f0f921"
             ]
            ],
            "type": "contour"
           }
          ],
          "contourcarpet": [
           {
            "colorbar": {
             "outlinewidth": 0,
             "ticks": ""
            },
            "type": "contourcarpet"
           }
          ],
          "heatmap": [
           {
            "colorbar": {
             "outlinewidth": 0,
             "ticks": ""
            },
            "colorscale": [
             [
              0,
              "#0d0887"
             ],
             [
              0.1111111111111111,
              "#46039f"
             ],
             [
              0.2222222222222222,
              "#7201a8"
             ],
             [
              0.3333333333333333,
              "#9c179e"
             ],
             [
              0.4444444444444444,
              "#bd3786"
             ],
             [
              0.5555555555555556,
              "#d8576b"
             ],
             [
              0.6666666666666666,
              "#ed7953"
             ],
             [
              0.7777777777777778,
              "#fb9f3a"
             ],
             [
              0.8888888888888888,
              "#fdca26"
             ],
             [
              1,
              "#f0f921"
             ]
            ],
            "type": "heatmap"
           }
          ],
          "heatmapgl": [
           {
            "colorbar": {
             "outlinewidth": 0,
             "ticks": ""
            },
            "colorscale": [
             [
              0,
              "#0d0887"
             ],
             [
              0.1111111111111111,
              "#46039f"
             ],
             [
              0.2222222222222222,
              "#7201a8"
             ],
             [
              0.3333333333333333,
              "#9c179e"
             ],
             [
              0.4444444444444444,
              "#bd3786"
             ],
             [
              0.5555555555555556,
              "#d8576b"
             ],
             [
              0.6666666666666666,
              "#ed7953"
             ],
             [
              0.7777777777777778,
              "#fb9f3a"
             ],
             [
              0.8888888888888888,
              "#fdca26"
             ],
             [
              1,
              "#f0f921"
             ]
            ],
            "type": "heatmapgl"
           }
          ],
          "histogram": [
           {
            "marker": {
             "pattern": {
              "fillmode": "overlay",
              "size": 10,
              "solidity": 0.2
             }
            },
            "type": "histogram"
           }
          ],
          "histogram2d": [
           {
            "colorbar": {
             "outlinewidth": 0,
             "ticks": ""
            },
            "colorscale": [
             [
              0,
              "#0d0887"
             ],
             [
              0.1111111111111111,
              "#46039f"
             ],
             [
              0.2222222222222222,
              "#7201a8"
             ],
             [
              0.3333333333333333,
              "#9c179e"
             ],
             [
              0.4444444444444444,
              "#bd3786"
             ],
             [
              0.5555555555555556,
              "#d8576b"
             ],
             [
              0.6666666666666666,
              "#ed7953"
             ],
             [
              0.7777777777777778,
              "#fb9f3a"
             ],
             [
              0.8888888888888888,
              "#fdca26"
             ],
             [
              1,
              "#f0f921"
             ]
            ],
            "type": "histogram2d"
           }
          ],
          "histogram2dcontour": [
           {
            "colorbar": {
             "outlinewidth": 0,
             "ticks": ""
            },
            "colorscale": [
             [
              0,
              "#0d0887"
             ],
             [
              0.1111111111111111,
              "#46039f"
             ],
             [
              0.2222222222222222,
              "#7201a8"
             ],
             [
              0.3333333333333333,
              "#9c179e"
             ],
             [
              0.4444444444444444,
              "#bd3786"
             ],
             [
              0.5555555555555556,
              "#d8576b"
             ],
             [
              0.6666666666666666,
              "#ed7953"
             ],
             [
              0.7777777777777778,
              "#fb9f3a"
             ],
             [
              0.8888888888888888,
              "#fdca26"
             ],
             [
              1,
              "#f0f921"
             ]
            ],
            "type": "histogram2dcontour"
           }
          ],
          "mesh3d": [
           {
            "colorbar": {
             "outlinewidth": 0,
             "ticks": ""
            },
            "type": "mesh3d"
           }
          ],
          "parcoords": [
           {
            "line": {
             "colorbar": {
              "outlinewidth": 0,
              "ticks": ""
             }
            },
            "type": "parcoords"
           }
          ],
          "pie": [
           {
            "automargin": true,
            "type": "pie"
           }
          ],
          "scatter": [
           {
            "marker": {
             "colorbar": {
              "outlinewidth": 0,
              "ticks": ""
             }
            },
            "type": "scatter"
           }
          ],
          "scatter3d": [
           {
            "line": {
             "colorbar": {
              "outlinewidth": 0,
              "ticks": ""
             }
            },
            "marker": {
             "colorbar": {
              "outlinewidth": 0,
              "ticks": ""
             }
            },
            "type": "scatter3d"
           }
          ],
          "scattercarpet": [
           {
            "marker": {
             "colorbar": {
              "outlinewidth": 0,
              "ticks": ""
             }
            },
            "type": "scattercarpet"
           }
          ],
          "scattergeo": [
           {
            "marker": {
             "colorbar": {
              "outlinewidth": 0,
              "ticks": ""
             }
            },
            "type": "scattergeo"
           }
          ],
          "scattergl": [
           {
            "marker": {
             "colorbar": {
              "outlinewidth": 0,
              "ticks": ""
             }
            },
            "type": "scattergl"
           }
          ],
          "scattermapbox": [
           {
            "marker": {
             "colorbar": {
              "outlinewidth": 0,
              "ticks": ""
             }
            },
            "type": "scattermapbox"
           }
          ],
          "scatterpolar": [
           {
            "marker": {
             "colorbar": {
              "outlinewidth": 0,
              "ticks": ""
             }
            },
            "type": "scatterpolar"
           }
          ],
          "scatterpolargl": [
           {
            "marker": {
             "colorbar": {
              "outlinewidth": 0,
              "ticks": ""
             }
            },
            "type": "scatterpolargl"
           }
          ],
          "scatterternary": [
           {
            "marker": {
             "colorbar": {
              "outlinewidth": 0,
              "ticks": ""
             }
            },
            "type": "scatterternary"
           }
          ],
          "surface": [
           {
            "colorbar": {
             "outlinewidth": 0,
             "ticks": ""
            },
            "colorscale": [
             [
              0,
              "#0d0887"
             ],
             [
              0.1111111111111111,
              "#46039f"
             ],
             [
              0.2222222222222222,
              "#7201a8"
             ],
             [
              0.3333333333333333,
              "#9c179e"
             ],
             [
              0.4444444444444444,
              "#bd3786"
             ],
             [
              0.5555555555555556,
              "#d8576b"
             ],
             [
              0.6666666666666666,
              "#ed7953"
             ],
             [
              0.7777777777777778,
              "#fb9f3a"
             ],
             [
              0.8888888888888888,
              "#fdca26"
             ],
             [
              1,
              "#f0f921"
             ]
            ],
            "type": "surface"
           }
          ],
          "table": [
           {
            "cells": {
             "fill": {
              "color": "#EBF0F8"
             },
             "line": {
              "color": "white"
             }
            },
            "header": {
             "fill": {
              "color": "#C8D4E3"
             },
             "line": {
              "color": "white"
             }
            },
            "type": "table"
           }
          ]
         },
         "layout": {
          "annotationdefaults": {
           "arrowcolor": "#2a3f5f",
           "arrowhead": 0,
           "arrowwidth": 1
          },
          "autotypenumbers": "strict",
          "coloraxis": {
           "colorbar": {
            "outlinewidth": 0,
            "ticks": ""
           }
          },
          "colorscale": {
           "diverging": [
            [
             0,
             "#8e0152"
            ],
            [
             0.1,
             "#c51b7d"
            ],
            [
             0.2,
             "#de77ae"
            ],
            [
             0.3,
             "#f1b6da"
            ],
            [
             0.4,
             "#fde0ef"
            ],
            [
             0.5,
             "#f7f7f7"
            ],
            [
             0.6,
             "#e6f5d0"
            ],
            [
             0.7,
             "#b8e186"
            ],
            [
             0.8,
             "#7fbc41"
            ],
            [
             0.9,
             "#4d9221"
            ],
            [
             1,
             "#276419"
            ]
           ],
           "sequential": [
            [
             0,
             "#0d0887"
            ],
            [
             0.1111111111111111,
             "#46039f"
            ],
            [
             0.2222222222222222,
             "#7201a8"
            ],
            [
             0.3333333333333333,
             "#9c179e"
            ],
            [
             0.4444444444444444,
             "#bd3786"
            ],
            [
             0.5555555555555556,
             "#d8576b"
            ],
            [
             0.6666666666666666,
             "#ed7953"
            ],
            [
             0.7777777777777778,
             "#fb9f3a"
            ],
            [
             0.8888888888888888,
             "#fdca26"
            ],
            [
             1,
             "#f0f921"
            ]
           ],
           "sequentialminus": [
            [
             0,
             "#0d0887"
            ],
            [
             0.1111111111111111,
             "#46039f"
            ],
            [
             0.2222222222222222,
             "#7201a8"
            ],
            [
             0.3333333333333333,
             "#9c179e"
            ],
            [
             0.4444444444444444,
             "#bd3786"
            ],
            [
             0.5555555555555556,
             "#d8576b"
            ],
            [
             0.6666666666666666,
             "#ed7953"
            ],
            [
             0.7777777777777778,
             "#fb9f3a"
            ],
            [
             0.8888888888888888,
             "#fdca26"
            ],
            [
             1,
             "#f0f921"
            ]
           ]
          },
          "colorway": [
           "#636efa",
           "#EF553B",
           "#00cc96",
           "#ab63fa",
           "#FFA15A",
           "#19d3f3",
           "#FF6692",
           "#B6E880",
           "#FF97FF",
           "#FECB52"
          ],
          "font": {
           "color": "#2a3f5f"
          },
          "geo": {
           "bgcolor": "white",
           "lakecolor": "white",
           "landcolor": "#E5ECF6",
           "showlakes": true,
           "showland": true,
           "subunitcolor": "white"
          },
          "hoverlabel": {
           "align": "left"
          },
          "hovermode": "closest",
          "mapbox": {
           "style": "light"
          },
          "paper_bgcolor": "white",
          "plot_bgcolor": "#E5ECF6",
          "polar": {
           "angularaxis": {
            "gridcolor": "white",
            "linecolor": "white",
            "ticks": ""
           },
           "bgcolor": "#E5ECF6",
           "radialaxis": {
            "gridcolor": "white",
            "linecolor": "white",
            "ticks": ""
           }
          },
          "scene": {
           "xaxis": {
            "backgroundcolor": "#E5ECF6",
            "gridcolor": "white",
            "gridwidth": 2,
            "linecolor": "white",
            "showbackground": true,
            "ticks": "",
            "zerolinecolor": "white"
           },
           "yaxis": {
            "backgroundcolor": "#E5ECF6",
            "gridcolor": "white",
            "gridwidth": 2,
            "linecolor": "white",
            "showbackground": true,
            "ticks": "",
            "zerolinecolor": "white"
           },
           "zaxis": {
            "backgroundcolor": "#E5ECF6",
            "gridcolor": "white",
            "gridwidth": 2,
            "linecolor": "white",
            "showbackground": true,
            "ticks": "",
            "zerolinecolor": "white"
           }
          },
          "shapedefaults": {
           "line": {
            "color": "#2a3f5f"
           }
          },
          "ternary": {
           "aaxis": {
            "gridcolor": "white",
            "linecolor": "white",
            "ticks": ""
           },
           "baxis": {
            "gridcolor": "white",
            "linecolor": "white",
            "ticks": ""
           },
           "bgcolor": "#E5ECF6",
           "caxis": {
            "gridcolor": "white",
            "linecolor": "white",
            "ticks": ""
           }
          },
          "title": {
           "x": 0.05
          },
          "xaxis": {
           "automargin": true,
           "gridcolor": "white",
           "linecolor": "white",
           "ticks": "",
           "title": {
            "standoff": 15
           },
           "zerolinecolor": "white",
           "zerolinewidth": 2
          },
          "yaxis": {
           "automargin": true,
           "gridcolor": "white",
           "linecolor": "white",
           "ticks": "",
           "title": {
            "standoff": 15
           },
           "zerolinecolor": "white",
           "zerolinewidth": 2
          }
         }
        },
        "title": {
         "text": "Reviews and rating distribution by accomodation type (logarithmic scale)"
        },
        "xaxis": {
         "anchor": "y",
         "domain": [
          0,
          1
         ],
         "title": {
          "text": "rating"
         },
         "type": "log"
        },
        "yaxis": {
         "anchor": "x",
         "domain": [
          0,
          1
         ],
         "title": {
          "text": "reviews"
         }
        }
       }
      }
     },
     "metadata": {},
     "output_type": "display_data"
    }
   ],
   "source": [
    "px.scatter(\n",
    "    data_frame=airbnb_data,\n",
    "    x=\"rating\",\n",
    "    y=\"reviews\",\n",
    "    log_x=True,\n",
    "    color=\"category\",\n",
    "    title=\"Reviews and rating distribution by accomodation type (logarithmic scale)\",\n",
    "    labels={\"x\": \"Rating\", \"y\": \"Reviews\"},\n",
    ")"
   ]
  },
  {
   "cell_type": "code",
   "execution_count": 15,
   "metadata": {},
   "outputs": [
    {
     "data": {
      "application/vnd.plotly.v1+json": {
       "config": {
        "plotlyServerURL": "https://plot.ly"
       },
       "data": [
        {
         "alignmentgroup": "True",
         "bingroup": "x",
         "hovertemplate": "city=Bern<br>Price per night=%{x}<br>count=%{y}<extra></extra>",
         "legendgroup": "Bern",
         "marker": {
          "color": "#636efa",
          "pattern": {
           "shape": ""
          }
         },
         "name": "Bern",
         "nbinsx": 100,
         "offsetgroup": "Bern",
         "orientation": "v",
         "showlegend": true,
         "type": "histogram",
         "x": [
          43,
          473,
          36,
          125,
          36,
          113,
          71,
          62,
          68,
          42,
          53,
          55,
          76,
          83,
          43,
          97,
          78,
          98,
          124,
          98,
          100,
          88,
          60,
          49,
          133,
          127,
          70,
          111,
          133,
          100,
          55,
          62,
          83,
          80,
          109,
          83,
          130,
          73,
          109,
          83,
          52,
          102,
          140,
          117,
          52,
          103,
          129,
          107,
          46,
          98,
          141,
          61,
          124,
          62,
          124,
          78,
          102,
          290,
          77,
          99,
          93,
          62,
          54,
          103,
          42,
          194,
          60,
          88,
          94,
          95,
          139,
          103,
          124,
          101,
          188,
          379,
          98,
          145,
          166,
          250,
          194,
          56,
          42,
          162,
          114,
          103,
          127,
          169,
          124,
          66,
          121,
          99,
          88,
          127,
          259,
          129,
          161,
          118,
          78,
          168,
          81,
          88,
          206,
          74,
          176,
          168,
          129,
          169,
          169,
          78,
          108,
          98,
          103,
          52,
          85,
          82,
          168,
          69,
          116,
          181,
          185,
          71,
          179,
          145,
          250,
          189,
          169,
          440,
          114,
          93,
          186,
          88,
          92,
          68,
          122,
          117,
          62,
          171,
          54,
          155,
          101,
          92,
          114,
          78,
          67,
          202,
          78,
          101,
          128,
          434,
          69,
          145,
          78,
          67,
          67,
          89,
          103,
          228,
          39,
          125,
          103,
          83,
          67,
          434,
          125,
          103,
          103,
          83,
          78,
          125,
          134,
          78,
          67,
          172,
          83,
          153,
          89,
          276,
          103,
          111,
          74,
          78,
          71,
          202,
          78,
          157,
          61,
          109,
          103,
          67,
          202,
          124,
          78,
          89,
          433,
          83,
          233,
          155,
          83,
          157,
          155,
          74,
          433,
          61,
          78,
          80,
          103,
          62,
          103,
          359,
          233,
          81,
          67,
          233,
          88,
          150,
          61,
          72,
          186,
          78,
          251,
          202,
          233,
          72,
          103,
          124,
          153,
          62,
          128,
          233,
          80,
          198,
          155,
          111,
          155,
          88,
          80,
          102,
          119,
          81,
          130,
          102,
          114,
          78,
          187,
          123,
          58,
          55,
          61,
          197,
          128,
          207
         ],
         "xaxis": "x",
         "yaxis": "y"
        },
        {
         "alignmentgroup": "True",
         "bingroup": "x",
         "hovertemplate": "city=Berlin<br>Price per night=%{x}<br>count=%{y}<extra></extra>",
         "legendgroup": "Berlin",
         "marker": {
          "color": "#EF553B",
          "pattern": {
           "shape": ""
          }
         },
         "name": "Berlin",
         "nbinsx": 100,
         "offsetgroup": "Berlin",
         "orientation": "v",
         "showlegend": true,
         "type": "histogram",
         "x": [
          53,
          77,
          75,
          214,
          117,
          205,
          99,
          190,
          80,
          149,
          92,
          195,
          200,
          89,
          189,
          129,
          131,
          198,
          164,
          228,
          180,
          114,
          99,
          139,
          91,
          300,
          90,
          121,
          213,
          61,
          null,
          68,
          140,
          108,
          null,
          80,
          121,
          123,
          266,
          138,
          194,
          122,
          90,
          97,
          128,
          132,
          134,
          97,
          237,
          130,
          158,
          95,
          94,
          139,
          149,
          68,
          200,
          89,
          194,
          138,
          88,
          70,
          150,
          76,
          203,
          108,
          87,
          121,
          72,
          125,
          139,
          99,
          115,
          65,
          61,
          95,
          122,
          100,
          92,
          102,
          181,
          150,
          70,
          84,
          78,
          89,
          110,
          249,
          100,
          97,
          97,
          115,
          80,
          76,
          71,
          147,
          91,
          79,
          119,
          222,
          150,
          110,
          112,
          81,
          520,
          220,
          132,
          130,
          114,
          145,
          80,
          159,
          316,
          160,
          110,
          120,
          97,
          135,
          124,
          114,
          200,
          230,
          88,
          62,
          154,
          69,
          62,
          143,
          88,
          154,
          230,
          99,
          69,
          63,
          44,
          110,
          191,
          129,
          277,
          160,
          129,
          192,
          134,
          84,
          200,
          80,
          206,
          170,
          141,
          77,
          87,
          70,
          77,
          81,
          150,
          140,
          249,
          139,
          81,
          100,
          89,
          112,
          211,
          89,
          115,
          88,
          213,
          249,
          174,
          137,
          110,
          65,
          89,
          150,
          119,
          84,
          95,
          90,
          90,
          70,
          118,
          110,
          120,
          71,
          140,
          86,
          104,
          264,
          55,
          265,
          65,
          245,
          92,
          141,
          231,
          170,
          99,
          104,
          284,
          140,
          238,
          170,
          245,
          141,
          121,
          120,
          231,
          137,
          65,
          105,
          55,
          86,
          97,
          120,
          82,
          141,
          106,
          120,
          115,
          95,
          155,
          65,
          129,
          84,
          149,
          55,
          71,
          141,
          240,
          104,
          232,
          104,
          150,
          120,
          86,
          72,
          82,
          110,
          78,
          130,
          100,
          149,
          77,
          80,
          249,
          125,
          90,
          120,
          225,
          92,
          68,
          174
         ],
         "xaxis": "x",
         "yaxis": "y"
        },
        {
         "alignmentgroup": "True",
         "bingroup": "x",
         "hovertemplate": "city=Paris<br>Price per night=%{x}<br>count=%{y}<extra></extra>",
         "legendgroup": "Paris",
         "marker": {
          "color": "#00cc96",
          "pattern": {
           "shape": ""
          }
         },
         "name": "Paris",
         "nbinsx": 100,
         "offsetgroup": "Paris",
         "orientation": "v",
         "showlegend": true,
         "type": "histogram",
         "x": [
          186,
          379,
          100,
          89,
          130,
          86,
          86,
          300,
          250,
          240,
          265,
          130,
          110,
          99,
          null,
          210,
          164,
          179,
          179,
          308,
          140,
          145,
          138,
          110,
          280,
          null,
          87,
          180,
          168,
          140,
          191,
          152,
          128,
          190,
          130,
          136,
          261,
          120,
          180,
          188,
          219,
          null,
          176,
          67,
          95,
          289,
          220,
          219,
          182,
          196,
          130,
          198,
          160,
          280,
          155,
          196,
          90,
          120,
          130,
          117,
          163,
          140,
          95,
          176,
          196,
          115,
          140,
          281,
          220,
          164,
          71,
          180,
          220,
          71,
          180,
          160,
          70,
          91,
          247,
          220,
          140,
          179,
          182,
          205,
          214,
          187,
          90,
          223,
          299,
          176,
          223,
          481,
          180,
          null,
          251,
          272,
          140,
          70,
          325,
          444,
          114,
          319,
          70,
          135,
          130,
          218,
          184,
          163,
          540,
          235,
          54,
          114,
          349,
          120,
          205,
          279,
          220,
          269,
          189,
          110,
          715,
          65,
          68,
          180,
          140,
          165,
          315,
          286,
          140,
          234,
          290,
          350,
          150,
          124,
          124,
          250,
          169,
          100,
          210,
          178,
          140,
          216,
          96,
          378,
          240,
          184,
          216,
          378,
          143,
          110,
          220,
          350,
          280,
          80,
          596,
          82,
          150,
          200,
          92,
          124,
          160,
          301,
          100,
          150,
          295,
          100,
          135,
          162,
          212,
          150,
          83,
          159,
          75,
          154,
          275,
          180,
          100,
          100,
          85,
          170,
          100,
          159,
          96,
          229,
          134,
          72,
          100,
          396,
          260,
          212,
          145,
          90,
          169,
          250,
          137,
          228,
          138,
          315,
          69,
          150,
          258,
          62,
          110,
          117,
          453,
          144,
          250,
          190,
          130,
          288,
          533,
          125,
          129,
          null,
          601,
          120,
          228,
          143,
          86,
          140,
          299,
          191,
          276,
          150,
          408,
          125,
          45,
          240,
          134,
          71,
          130,
          150,
          292,
          426,
          150,
          110,
          325,
          320,
          162,
          180,
          59,
          140,
          100,
          145,
          109,
          200,
          111,
          199,
          107,
          230,
          101,
          190
         ],
         "xaxis": "x",
         "yaxis": "y"
        }
       ],
       "layout": {
        "barmode": "relative",
        "legend": {
         "title": {
          "text": "city"
         },
         "tracegroupgap": 0
        },
        "template": {
         "data": {
          "bar": [
           {
            "error_x": {
             "color": "#2a3f5f"
            },
            "error_y": {
             "color": "#2a3f5f"
            },
            "marker": {
             "line": {
              "color": "#E5ECF6",
              "width": 0.5
             },
             "pattern": {
              "fillmode": "overlay",
              "size": 10,
              "solidity": 0.2
             }
            },
            "type": "bar"
           }
          ],
          "barpolar": [
           {
            "marker": {
             "line": {
              "color": "#E5ECF6",
              "width": 0.5
             },
             "pattern": {
              "fillmode": "overlay",
              "size": 10,
              "solidity": 0.2
             }
            },
            "type": "barpolar"
           }
          ],
          "carpet": [
           {
            "aaxis": {
             "endlinecolor": "#2a3f5f",
             "gridcolor": "white",
             "linecolor": "white",
             "minorgridcolor": "white",
             "startlinecolor": "#2a3f5f"
            },
            "baxis": {
             "endlinecolor": "#2a3f5f",
             "gridcolor": "white",
             "linecolor": "white",
             "minorgridcolor": "white",
             "startlinecolor": "#2a3f5f"
            },
            "type": "carpet"
           }
          ],
          "choropleth": [
           {
            "colorbar": {
             "outlinewidth": 0,
             "ticks": ""
            },
            "type": "choropleth"
           }
          ],
          "contour": [
           {
            "colorbar": {
             "outlinewidth": 0,
             "ticks": ""
            },
            "colorscale": [
             [
              0,
              "#0d0887"
             ],
             [
              0.1111111111111111,
              "#46039f"
             ],
             [
              0.2222222222222222,
              "#7201a8"
             ],
             [
              0.3333333333333333,
              "#9c179e"
             ],
             [
              0.4444444444444444,
              "#bd3786"
             ],
             [
              0.5555555555555556,
              "#d8576b"
             ],
             [
              0.6666666666666666,
              "#ed7953"
             ],
             [
              0.7777777777777778,
              "#fb9f3a"
             ],
             [
              0.8888888888888888,
              "#fdca26"
             ],
             [
              1,
              "#f0f921"
             ]
            ],
            "type": "contour"
           }
          ],
          "contourcarpet": [
           {
            "colorbar": {
             "outlinewidth": 0,
             "ticks": ""
            },
            "type": "contourcarpet"
           }
          ],
          "heatmap": [
           {
            "colorbar": {
             "outlinewidth": 0,
             "ticks": ""
            },
            "colorscale": [
             [
              0,
              "#0d0887"
             ],
             [
              0.1111111111111111,
              "#46039f"
             ],
             [
              0.2222222222222222,
              "#7201a8"
             ],
             [
              0.3333333333333333,
              "#9c179e"
             ],
             [
              0.4444444444444444,
              "#bd3786"
             ],
             [
              0.5555555555555556,
              "#d8576b"
             ],
             [
              0.6666666666666666,
              "#ed7953"
             ],
             [
              0.7777777777777778,
              "#fb9f3a"
             ],
             [
              0.8888888888888888,
              "#fdca26"
             ],
             [
              1,
              "#f0f921"
             ]
            ],
            "type": "heatmap"
           }
          ],
          "heatmapgl": [
           {
            "colorbar": {
             "outlinewidth": 0,
             "ticks": ""
            },
            "colorscale": [
             [
              0,
              "#0d0887"
             ],
             [
              0.1111111111111111,
              "#46039f"
             ],
             [
              0.2222222222222222,
              "#7201a8"
             ],
             [
              0.3333333333333333,
              "#9c179e"
             ],
             [
              0.4444444444444444,
              "#bd3786"
             ],
             [
              0.5555555555555556,
              "#d8576b"
             ],
             [
              0.6666666666666666,
              "#ed7953"
             ],
             [
              0.7777777777777778,
              "#fb9f3a"
             ],
             [
              0.8888888888888888,
              "#fdca26"
             ],
             [
              1,
              "#f0f921"
             ]
            ],
            "type": "heatmapgl"
           }
          ],
          "histogram": [
           {
            "marker": {
             "pattern": {
              "fillmode": "overlay",
              "size": 10,
              "solidity": 0.2
             }
            },
            "type": "histogram"
           }
          ],
          "histogram2d": [
           {
            "colorbar": {
             "outlinewidth": 0,
             "ticks": ""
            },
            "colorscale": [
             [
              0,
              "#0d0887"
             ],
             [
              0.1111111111111111,
              "#46039f"
             ],
             [
              0.2222222222222222,
              "#7201a8"
             ],
             [
              0.3333333333333333,
              "#9c179e"
             ],
             [
              0.4444444444444444,
              "#bd3786"
             ],
             [
              0.5555555555555556,
              "#d8576b"
             ],
             [
              0.6666666666666666,
              "#ed7953"
             ],
             [
              0.7777777777777778,
              "#fb9f3a"
             ],
             [
              0.8888888888888888,
              "#fdca26"
             ],
             [
              1,
              "#f0f921"
             ]
            ],
            "type": "histogram2d"
           }
          ],
          "histogram2dcontour": [
           {
            "colorbar": {
             "outlinewidth": 0,
             "ticks": ""
            },
            "colorscale": [
             [
              0,
              "#0d0887"
             ],
             [
              0.1111111111111111,
              "#46039f"
             ],
             [
              0.2222222222222222,
              "#7201a8"
             ],
             [
              0.3333333333333333,
              "#9c179e"
             ],
             [
              0.4444444444444444,
              "#bd3786"
             ],
             [
              0.5555555555555556,
              "#d8576b"
             ],
             [
              0.6666666666666666,
              "#ed7953"
             ],
             [
              0.7777777777777778,
              "#fb9f3a"
             ],
             [
              0.8888888888888888,
              "#fdca26"
             ],
             [
              1,
              "#f0f921"
             ]
            ],
            "type": "histogram2dcontour"
           }
          ],
          "mesh3d": [
           {
            "colorbar": {
             "outlinewidth": 0,
             "ticks": ""
            },
            "type": "mesh3d"
           }
          ],
          "parcoords": [
           {
            "line": {
             "colorbar": {
              "outlinewidth": 0,
              "ticks": ""
             }
            },
            "type": "parcoords"
           }
          ],
          "pie": [
           {
            "automargin": true,
            "type": "pie"
           }
          ],
          "scatter": [
           {
            "marker": {
             "colorbar": {
              "outlinewidth": 0,
              "ticks": ""
             }
            },
            "type": "scatter"
           }
          ],
          "scatter3d": [
           {
            "line": {
             "colorbar": {
              "outlinewidth": 0,
              "ticks": ""
             }
            },
            "marker": {
             "colorbar": {
              "outlinewidth": 0,
              "ticks": ""
             }
            },
            "type": "scatter3d"
           }
          ],
          "scattercarpet": [
           {
            "marker": {
             "colorbar": {
              "outlinewidth": 0,
              "ticks": ""
             }
            },
            "type": "scattercarpet"
           }
          ],
          "scattergeo": [
           {
            "marker": {
             "colorbar": {
              "outlinewidth": 0,
              "ticks": ""
             }
            },
            "type": "scattergeo"
           }
          ],
          "scattergl": [
           {
            "marker": {
             "colorbar": {
              "outlinewidth": 0,
              "ticks": ""
             }
            },
            "type": "scattergl"
           }
          ],
          "scattermapbox": [
           {
            "marker": {
             "colorbar": {
              "outlinewidth": 0,
              "ticks": ""
             }
            },
            "type": "scattermapbox"
           }
          ],
          "scatterpolar": [
           {
            "marker": {
             "colorbar": {
              "outlinewidth": 0,
              "ticks": ""
             }
            },
            "type": "scatterpolar"
           }
          ],
          "scatterpolargl": [
           {
            "marker": {
             "colorbar": {
              "outlinewidth": 0,
              "ticks": ""
             }
            },
            "type": "scatterpolargl"
           }
          ],
          "scatterternary": [
           {
            "marker": {
             "colorbar": {
              "outlinewidth": 0,
              "ticks": ""
             }
            },
            "type": "scatterternary"
           }
          ],
          "surface": [
           {
            "colorbar": {
             "outlinewidth": 0,
             "ticks": ""
            },
            "colorscale": [
             [
              0,
              "#0d0887"
             ],
             [
              0.1111111111111111,
              "#46039f"
             ],
             [
              0.2222222222222222,
              "#7201a8"
             ],
             [
              0.3333333333333333,
              "#9c179e"
             ],
             [
              0.4444444444444444,
              "#bd3786"
             ],
             [
              0.5555555555555556,
              "#d8576b"
             ],
             [
              0.6666666666666666,
              "#ed7953"
             ],
             [
              0.7777777777777778,
              "#fb9f3a"
             ],
             [
              0.8888888888888888,
              "#fdca26"
             ],
             [
              1,
              "#f0f921"
             ]
            ],
            "type": "surface"
           }
          ],
          "table": [
           {
            "cells": {
             "fill": {
              "color": "#EBF0F8"
             },
             "line": {
              "color": "white"
             }
            },
            "header": {
             "fill": {
              "color": "#C8D4E3"
             },
             "line": {
              "color": "white"
             }
            },
            "type": "table"
           }
          ]
         },
         "layout": {
          "annotationdefaults": {
           "arrowcolor": "#2a3f5f",
           "arrowhead": 0,
           "arrowwidth": 1
          },
          "autotypenumbers": "strict",
          "coloraxis": {
           "colorbar": {
            "outlinewidth": 0,
            "ticks": ""
           }
          },
          "colorscale": {
           "diverging": [
            [
             0,
             "#8e0152"
            ],
            [
             0.1,
             "#c51b7d"
            ],
            [
             0.2,
             "#de77ae"
            ],
            [
             0.3,
             "#f1b6da"
            ],
            [
             0.4,
             "#fde0ef"
            ],
            [
             0.5,
             "#f7f7f7"
            ],
            [
             0.6,
             "#e6f5d0"
            ],
            [
             0.7,
             "#b8e186"
            ],
            [
             0.8,
             "#7fbc41"
            ],
            [
             0.9,
             "#4d9221"
            ],
            [
             1,
             "#276419"
            ]
           ],
           "sequential": [
            [
             0,
             "#0d0887"
            ],
            [
             0.1111111111111111,
             "#46039f"
            ],
            [
             0.2222222222222222,
             "#7201a8"
            ],
            [
             0.3333333333333333,
             "#9c179e"
            ],
            [
             0.4444444444444444,
             "#bd3786"
            ],
            [
             0.5555555555555556,
             "#d8576b"
            ],
            [
             0.6666666666666666,
             "#ed7953"
            ],
            [
             0.7777777777777778,
             "#fb9f3a"
            ],
            [
             0.8888888888888888,
             "#fdca26"
            ],
            [
             1,
             "#f0f921"
            ]
           ],
           "sequentialminus": [
            [
             0,
             "#0d0887"
            ],
            [
             0.1111111111111111,
             "#46039f"
            ],
            [
             0.2222222222222222,
             "#7201a8"
            ],
            [
             0.3333333333333333,
             "#9c179e"
            ],
            [
             0.4444444444444444,
             "#bd3786"
            ],
            [
             0.5555555555555556,
             "#d8576b"
            ],
            [
             0.6666666666666666,
             "#ed7953"
            ],
            [
             0.7777777777777778,
             "#fb9f3a"
            ],
            [
             0.8888888888888888,
             "#fdca26"
            ],
            [
             1,
             "#f0f921"
            ]
           ]
          },
          "colorway": [
           "#636efa",
           "#EF553B",
           "#00cc96",
           "#ab63fa",
           "#FFA15A",
           "#19d3f3",
           "#FF6692",
           "#B6E880",
           "#FF97FF",
           "#FECB52"
          ],
          "font": {
           "color": "#2a3f5f"
          },
          "geo": {
           "bgcolor": "white",
           "lakecolor": "white",
           "landcolor": "#E5ECF6",
           "showlakes": true,
           "showland": true,
           "subunitcolor": "white"
          },
          "hoverlabel": {
           "align": "left"
          },
          "hovermode": "closest",
          "mapbox": {
           "style": "light"
          },
          "paper_bgcolor": "white",
          "plot_bgcolor": "#E5ECF6",
          "polar": {
           "angularaxis": {
            "gridcolor": "white",
            "linecolor": "white",
            "ticks": ""
           },
           "bgcolor": "#E5ECF6",
           "radialaxis": {
            "gridcolor": "white",
            "linecolor": "white",
            "ticks": ""
           }
          },
          "scene": {
           "xaxis": {
            "backgroundcolor": "#E5ECF6",
            "gridcolor": "white",
            "gridwidth": 2,
            "linecolor": "white",
            "showbackground": true,
            "ticks": "",
            "zerolinecolor": "white"
           },
           "yaxis": {
            "backgroundcolor": "#E5ECF6",
            "gridcolor": "white",
            "gridwidth": 2,
            "linecolor": "white",
            "showbackground": true,
            "ticks": "",
            "zerolinecolor": "white"
           },
           "zaxis": {
            "backgroundcolor": "#E5ECF6",
            "gridcolor": "white",
            "gridwidth": 2,
            "linecolor": "white",
            "showbackground": true,
            "ticks": "",
            "zerolinecolor": "white"
           }
          },
          "shapedefaults": {
           "line": {
            "color": "#2a3f5f"
           }
          },
          "ternary": {
           "aaxis": {
            "gridcolor": "white",
            "linecolor": "white",
            "ticks": ""
           },
           "baxis": {
            "gridcolor": "white",
            "linecolor": "white",
            "ticks": ""
           },
           "bgcolor": "#E5ECF6",
           "caxis": {
            "gridcolor": "white",
            "linecolor": "white",
            "ticks": ""
           }
          },
          "title": {
           "x": 0.05
          },
          "xaxis": {
           "automargin": true,
           "gridcolor": "white",
           "linecolor": "white",
           "ticks": "",
           "title": {
            "standoff": 15
           },
           "zerolinecolor": "white",
           "zerolinewidth": 2
          },
          "yaxis": {
           "automargin": true,
           "gridcolor": "white",
           "linecolor": "white",
           "ticks": "",
           "title": {
            "standoff": 15
           },
           "zerolinecolor": "white",
           "zerolinewidth": 2
          }
         }
        },
        "title": {
         "text": "Pricing distribution by city"
        },
        "xaxis": {
         "anchor": "y",
         "domain": [
          0,
          1
         ],
         "title": {
          "text": "Price per night"
         }
        },
        "yaxis": {
         "anchor": "x",
         "domain": [
          0,
          1
         ],
         "title": {
          "text": "count"
         }
        }
       }
      }
     },
     "metadata": {},
     "output_type": "display_data"
    }
   ],
   "source": [
    "px.histogram(\n",
    "    airbnb_data,\n",
    "    x=\"price_per_night\",\n",
    "    color=\"city\",\n",
    "    title=\"Pricing distribution by city\",\n",
    "    labels={\"price_per_night\": \"Price per night\"},\n",
    "    nbins=100,\n",
    ")"
   ]
  },
  {
   "cell_type": "code",
   "execution_count": 16,
   "metadata": {},
   "outputs": [
    {
     "data": {
      "application/vnd.plotly.v1+json": {
       "config": {
        "plotlyServerURL": "https://plot.ly"
       },
       "data": [
        {
         "alignmentgroup": "True",
         "bingroup": "x",
         "hovertemplate": "city=Bern<br>Price per night=%{x}<br>count=%{y}<extra></extra>",
         "legendgroup": "Bern",
         "marker": {
          "color": "#636efa",
          "pattern": {
           "shape": ""
          }
         },
         "name": "Bern",
         "nbinsx": 100,
         "offsetgroup": "Bern",
         "orientation": "v",
         "showlegend": true,
         "type": "histogram",
         "x": [
          43,
          473,
          36,
          125,
          36,
          113,
          71,
          62,
          68,
          42,
          53,
          55,
          76,
          83,
          43,
          97,
          78,
          98,
          124,
          98,
          100,
          88,
          60,
          49,
          133,
          127,
          70,
          111,
          133,
          100,
          55,
          62,
          83,
          80,
          109,
          83,
          130,
          73,
          109,
          83,
          52,
          102,
          140,
          117,
          52,
          103,
          129,
          107,
          46,
          98,
          141,
          61,
          124,
          62,
          124,
          78,
          102,
          290,
          77,
          99,
          93,
          62,
          54,
          103,
          42,
          194,
          60,
          88,
          94,
          95,
          139,
          103,
          124,
          101,
          188,
          379,
          98,
          145,
          166,
          250,
          194,
          56,
          42,
          162,
          114,
          103,
          127,
          169,
          124,
          66,
          121,
          99,
          88,
          127,
          259,
          129,
          161,
          118,
          78,
          168,
          81,
          88,
          206,
          74,
          176,
          168,
          129,
          169,
          169,
          78,
          108,
          98,
          103,
          52,
          85,
          82,
          168,
          69,
          116,
          181,
          185,
          71,
          179,
          145,
          250,
          189,
          169,
          440,
          114,
          93,
          186,
          88,
          92,
          68,
          122,
          117,
          62,
          171,
          54,
          155,
          101,
          92,
          114,
          78,
          67,
          202,
          78,
          101,
          128,
          434,
          69,
          145,
          78,
          67,
          67,
          89,
          103,
          228,
          39,
          125,
          103,
          83,
          67,
          434,
          125,
          103,
          103,
          83,
          78,
          125,
          134,
          78,
          67,
          172,
          83,
          153,
          89,
          276,
          103,
          111,
          74,
          78,
          71,
          202,
          78,
          157,
          61,
          109,
          103,
          67,
          202,
          124,
          78,
          89,
          433,
          83,
          233,
          155,
          83,
          157,
          155,
          74,
          433,
          61,
          78,
          80,
          103,
          62,
          103,
          359,
          233,
          81,
          67,
          233,
          88,
          150,
          61,
          72,
          186,
          78,
          251,
          202,
          233,
          72,
          103,
          124,
          153,
          62,
          128,
          233,
          80,
          198,
          155,
          111,
          155,
          88,
          80,
          102,
          119,
          81,
          130,
          102,
          114,
          78,
          187,
          123,
          58,
          55,
          61,
          197,
          128,
          207
         ],
         "xaxis": "x",
         "yaxis": "y"
        },
        {
         "alignmentgroup": "True",
         "bingroup": "x",
         "hovertemplate": "city=Berlin<br>Price per night=%{x}<br>count=%{y}<extra></extra>",
         "legendgroup": "Berlin",
         "marker": {
          "color": "#EF553B",
          "pattern": {
           "shape": ""
          }
         },
         "name": "Berlin",
         "nbinsx": 100,
         "offsetgroup": "Berlin",
         "orientation": "v",
         "showlegend": true,
         "type": "histogram",
         "x": [
          53,
          77,
          75,
          214,
          117,
          205,
          99,
          190,
          80,
          149,
          92,
          195,
          200,
          89,
          189,
          129,
          131,
          198,
          164,
          228,
          180,
          114,
          99,
          139,
          91,
          300,
          90,
          121,
          213,
          61,
          null,
          68,
          140,
          108,
          null,
          80,
          121,
          123,
          266,
          138,
          194,
          122,
          90,
          97,
          128,
          132,
          134,
          97,
          237,
          130,
          158,
          95,
          94,
          139,
          149,
          68,
          200,
          89,
          194,
          138,
          88,
          70,
          150,
          76,
          203,
          108,
          87,
          121,
          72,
          125,
          139,
          99,
          115,
          65,
          61,
          95,
          122,
          100,
          92,
          102,
          181,
          150,
          70,
          84,
          78,
          89,
          110,
          249,
          100,
          97,
          97,
          115,
          80,
          76,
          71,
          147,
          91,
          79,
          119,
          222,
          150,
          110,
          112,
          81,
          520,
          220,
          132,
          130,
          114,
          145,
          80,
          159,
          316,
          160,
          110,
          120,
          97,
          135,
          124,
          114,
          200,
          230,
          88,
          62,
          154,
          69,
          62,
          143,
          88,
          154,
          230,
          99,
          69,
          63,
          44,
          110,
          191,
          129,
          277,
          160,
          129,
          192,
          134,
          84,
          200,
          80,
          206,
          170,
          141,
          77,
          87,
          70,
          77,
          81,
          150,
          140,
          249,
          139,
          81,
          100,
          89,
          112,
          211,
          89,
          115,
          88,
          213,
          249,
          174,
          137,
          110,
          65,
          89,
          150,
          119,
          84,
          95,
          90,
          90,
          70,
          118,
          110,
          120,
          71,
          140,
          86,
          104,
          264,
          55,
          265,
          65,
          245,
          92,
          141,
          231,
          170,
          99,
          104,
          284,
          140,
          238,
          170,
          245,
          141,
          121,
          120,
          231,
          137,
          65,
          105,
          55,
          86,
          97,
          120,
          82,
          141,
          106,
          120,
          115,
          95,
          155,
          65,
          129,
          84,
          149,
          55,
          71,
          141,
          240,
          104,
          232,
          104,
          150,
          120,
          86,
          72,
          82,
          110,
          78,
          130,
          100,
          149,
          77,
          80,
          249,
          125,
          90,
          120,
          225,
          92,
          68,
          174
         ],
         "xaxis": "x",
         "yaxis": "y"
        },
        {
         "alignmentgroup": "True",
         "bingroup": "x",
         "hovertemplate": "city=Paris<br>Price per night=%{x}<br>count=%{y}<extra></extra>",
         "legendgroup": "Paris",
         "marker": {
          "color": "#00cc96",
          "pattern": {
           "shape": ""
          }
         },
         "name": "Paris",
         "nbinsx": 100,
         "offsetgroup": "Paris",
         "orientation": "v",
         "showlegend": true,
         "type": "histogram",
         "x": [
          186,
          379,
          100,
          89,
          130,
          86,
          86,
          300,
          250,
          240,
          265,
          130,
          110,
          99,
          null,
          210,
          164,
          179,
          179,
          308,
          140,
          145,
          138,
          110,
          280,
          null,
          87,
          180,
          168,
          140,
          191,
          152,
          128,
          190,
          130,
          136,
          261,
          120,
          180,
          188,
          219,
          null,
          176,
          67,
          95,
          289,
          220,
          219,
          182,
          196,
          130,
          198,
          160,
          280,
          155,
          196,
          90,
          120,
          130,
          117,
          163,
          140,
          95,
          176,
          196,
          115,
          140,
          281,
          220,
          164,
          71,
          180,
          220,
          71,
          180,
          160,
          70,
          91,
          247,
          220,
          140,
          179,
          182,
          205,
          214,
          187,
          90,
          223,
          299,
          176,
          223,
          481,
          180,
          null,
          251,
          272,
          140,
          70,
          325,
          444,
          114,
          319,
          70,
          135,
          130,
          218,
          184,
          163,
          540,
          235,
          54,
          114,
          349,
          120,
          205,
          279,
          220,
          269,
          189,
          110,
          715,
          65,
          68,
          180,
          140,
          165,
          315,
          286,
          140,
          234,
          290,
          350,
          150,
          124,
          124,
          250,
          169,
          100,
          210,
          178,
          140,
          216,
          96,
          378,
          240,
          184,
          216,
          378,
          143,
          110,
          220,
          350,
          280,
          80,
          596,
          82,
          150,
          200,
          92,
          124,
          160,
          301,
          100,
          150,
          295,
          100,
          135,
          162,
          212,
          150,
          83,
          159,
          75,
          154,
          275,
          180,
          100,
          100,
          85,
          170,
          100,
          159,
          96,
          229,
          134,
          72,
          100,
          396,
          260,
          212,
          145,
          90,
          169,
          250,
          137,
          228,
          138,
          315,
          69,
          150,
          258,
          62,
          110,
          117,
          453,
          144,
          250,
          190,
          130,
          288,
          533,
          125,
          129,
          null,
          601,
          120,
          228,
          143,
          86,
          140,
          299,
          191,
          276,
          150,
          408,
          125,
          45,
          240,
          134,
          71,
          130,
          150,
          292,
          426,
          150,
          110,
          325,
          320,
          162,
          180,
          59,
          140,
          100,
          145,
          109,
          200,
          111,
          199,
          107,
          230,
          101,
          190
         ],
         "xaxis": "x",
         "yaxis": "y"
        }
       ],
       "layout": {
        "barmode": "relative",
        "legend": {
         "title": {
          "text": "city"
         },
         "tracegroupgap": 0
        },
        "template": {
         "data": {
          "bar": [
           {
            "error_x": {
             "color": "#2a3f5f"
            },
            "error_y": {
             "color": "#2a3f5f"
            },
            "marker": {
             "line": {
              "color": "#E5ECF6",
              "width": 0.5
             },
             "pattern": {
              "fillmode": "overlay",
              "size": 10,
              "solidity": 0.2
             }
            },
            "type": "bar"
           }
          ],
          "barpolar": [
           {
            "marker": {
             "line": {
              "color": "#E5ECF6",
              "width": 0.5
             },
             "pattern": {
              "fillmode": "overlay",
              "size": 10,
              "solidity": 0.2
             }
            },
            "type": "barpolar"
           }
          ],
          "carpet": [
           {
            "aaxis": {
             "endlinecolor": "#2a3f5f",
             "gridcolor": "white",
             "linecolor": "white",
             "minorgridcolor": "white",
             "startlinecolor": "#2a3f5f"
            },
            "baxis": {
             "endlinecolor": "#2a3f5f",
             "gridcolor": "white",
             "linecolor": "white",
             "minorgridcolor": "white",
             "startlinecolor": "#2a3f5f"
            },
            "type": "carpet"
           }
          ],
          "choropleth": [
           {
            "colorbar": {
             "outlinewidth": 0,
             "ticks": ""
            },
            "type": "choropleth"
           }
          ],
          "contour": [
           {
            "colorbar": {
             "outlinewidth": 0,
             "ticks": ""
            },
            "colorscale": [
             [
              0,
              "#0d0887"
             ],
             [
              0.1111111111111111,
              "#46039f"
             ],
             [
              0.2222222222222222,
              "#7201a8"
             ],
             [
              0.3333333333333333,
              "#9c179e"
             ],
             [
              0.4444444444444444,
              "#bd3786"
             ],
             [
              0.5555555555555556,
              "#d8576b"
             ],
             [
              0.6666666666666666,
              "#ed7953"
             ],
             [
              0.7777777777777778,
              "#fb9f3a"
             ],
             [
              0.8888888888888888,
              "#fdca26"
             ],
             [
              1,
              "#f0f921"
             ]
            ],
            "type": "contour"
           }
          ],
          "contourcarpet": [
           {
            "colorbar": {
             "outlinewidth": 0,
             "ticks": ""
            },
            "type": "contourcarpet"
           }
          ],
          "heatmap": [
           {
            "colorbar": {
             "outlinewidth": 0,
             "ticks": ""
            },
            "colorscale": [
             [
              0,
              "#0d0887"
             ],
             [
              0.1111111111111111,
              "#46039f"
             ],
             [
              0.2222222222222222,
              "#7201a8"
             ],
             [
              0.3333333333333333,
              "#9c179e"
             ],
             [
              0.4444444444444444,
              "#bd3786"
             ],
             [
              0.5555555555555556,
              "#d8576b"
             ],
             [
              0.6666666666666666,
              "#ed7953"
             ],
             [
              0.7777777777777778,
              "#fb9f3a"
             ],
             [
              0.8888888888888888,
              "#fdca26"
             ],
             [
              1,
              "#f0f921"
             ]
            ],
            "type": "heatmap"
           }
          ],
          "heatmapgl": [
           {
            "colorbar": {
             "outlinewidth": 0,
             "ticks": ""
            },
            "colorscale": [
             [
              0,
              "#0d0887"
             ],
             [
              0.1111111111111111,
              "#46039f"
             ],
             [
              0.2222222222222222,
              "#7201a8"
             ],
             [
              0.3333333333333333,
              "#9c179e"
             ],
             [
              0.4444444444444444,
              "#bd3786"
             ],
             [
              0.5555555555555556,
              "#d8576b"
             ],
             [
              0.6666666666666666,
              "#ed7953"
             ],
             [
              0.7777777777777778,
              "#fb9f3a"
             ],
             [
              0.8888888888888888,
              "#fdca26"
             ],
             [
              1,
              "#f0f921"
             ]
            ],
            "type": "heatmapgl"
           }
          ],
          "histogram": [
           {
            "marker": {
             "pattern": {
              "fillmode": "overlay",
              "size": 10,
              "solidity": 0.2
             }
            },
            "type": "histogram"
           }
          ],
          "histogram2d": [
           {
            "colorbar": {
             "outlinewidth": 0,
             "ticks": ""
            },
            "colorscale": [
             [
              0,
              "#0d0887"
             ],
             [
              0.1111111111111111,
              "#46039f"
             ],
             [
              0.2222222222222222,
              "#7201a8"
             ],
             [
              0.3333333333333333,
              "#9c179e"
             ],
             [
              0.4444444444444444,
              "#bd3786"
             ],
             [
              0.5555555555555556,
              "#d8576b"
             ],
             [
              0.6666666666666666,
              "#ed7953"
             ],
             [
              0.7777777777777778,
              "#fb9f3a"
             ],
             [
              0.8888888888888888,
              "#fdca26"
             ],
             [
              1,
              "#f0f921"
             ]
            ],
            "type": "histogram2d"
           }
          ],
          "histogram2dcontour": [
           {
            "colorbar": {
             "outlinewidth": 0,
             "ticks": ""
            },
            "colorscale": [
             [
              0,
              "#0d0887"
             ],
             [
              0.1111111111111111,
              "#46039f"
             ],
             [
              0.2222222222222222,
              "#7201a8"
             ],
             [
              0.3333333333333333,
              "#9c179e"
             ],
             [
              0.4444444444444444,
              "#bd3786"
             ],
             [
              0.5555555555555556,
              "#d8576b"
             ],
             [
              0.6666666666666666,
              "#ed7953"
             ],
             [
              0.7777777777777778,
              "#fb9f3a"
             ],
             [
              0.8888888888888888,
              "#fdca26"
             ],
             [
              1,
              "#f0f921"
             ]
            ],
            "type": "histogram2dcontour"
           }
          ],
          "mesh3d": [
           {
            "colorbar": {
             "outlinewidth": 0,
             "ticks": ""
            },
            "type": "mesh3d"
           }
          ],
          "parcoords": [
           {
            "line": {
             "colorbar": {
              "outlinewidth": 0,
              "ticks": ""
             }
            },
            "type": "parcoords"
           }
          ],
          "pie": [
           {
            "automargin": true,
            "type": "pie"
           }
          ],
          "scatter": [
           {
            "marker": {
             "colorbar": {
              "outlinewidth": 0,
              "ticks": ""
             }
            },
            "type": "scatter"
           }
          ],
          "scatter3d": [
           {
            "line": {
             "colorbar": {
              "outlinewidth": 0,
              "ticks": ""
             }
            },
            "marker": {
             "colorbar": {
              "outlinewidth": 0,
              "ticks": ""
             }
            },
            "type": "scatter3d"
           }
          ],
          "scattercarpet": [
           {
            "marker": {
             "colorbar": {
              "outlinewidth": 0,
              "ticks": ""
             }
            },
            "type": "scattercarpet"
           }
          ],
          "scattergeo": [
           {
            "marker": {
             "colorbar": {
              "outlinewidth": 0,
              "ticks": ""
             }
            },
            "type": "scattergeo"
           }
          ],
          "scattergl": [
           {
            "marker": {
             "colorbar": {
              "outlinewidth": 0,
              "ticks": ""
             }
            },
            "type": "scattergl"
           }
          ],
          "scattermapbox": [
           {
            "marker": {
             "colorbar": {
              "outlinewidth": 0,
              "ticks": ""
             }
            },
            "type": "scattermapbox"
           }
          ],
          "scatterpolar": [
           {
            "marker": {
             "colorbar": {
              "outlinewidth": 0,
              "ticks": ""
             }
            },
            "type": "scatterpolar"
           }
          ],
          "scatterpolargl": [
           {
            "marker": {
             "colorbar": {
              "outlinewidth": 0,
              "ticks": ""
             }
            },
            "type": "scatterpolargl"
           }
          ],
          "scatterternary": [
           {
            "marker": {
             "colorbar": {
              "outlinewidth": 0,
              "ticks": ""
             }
            },
            "type": "scatterternary"
           }
          ],
          "surface": [
           {
            "colorbar": {
             "outlinewidth": 0,
             "ticks": ""
            },
            "colorscale": [
             [
              0,
              "#0d0887"
             ],
             [
              0.1111111111111111,
              "#46039f"
             ],
             [
              0.2222222222222222,
              "#7201a8"
             ],
             [
              0.3333333333333333,
              "#9c179e"
             ],
             [
              0.4444444444444444,
              "#bd3786"
             ],
             [
              0.5555555555555556,
              "#d8576b"
             ],
             [
              0.6666666666666666,
              "#ed7953"
             ],
             [
              0.7777777777777778,
              "#fb9f3a"
             ],
             [
              0.8888888888888888,
              "#fdca26"
             ],
             [
              1,
              "#f0f921"
             ]
            ],
            "type": "surface"
           }
          ],
          "table": [
           {
            "cells": {
             "fill": {
              "color": "#EBF0F8"
             },
             "line": {
              "color": "white"
             }
            },
            "header": {
             "fill": {
              "color": "#C8D4E3"
             },
             "line": {
              "color": "white"
             }
            },
            "type": "table"
           }
          ]
         },
         "layout": {
          "annotationdefaults": {
           "arrowcolor": "#2a3f5f",
           "arrowhead": 0,
           "arrowwidth": 1
          },
          "autotypenumbers": "strict",
          "coloraxis": {
           "colorbar": {
            "outlinewidth": 0,
            "ticks": ""
           }
          },
          "colorscale": {
           "diverging": [
            [
             0,
             "#8e0152"
            ],
            [
             0.1,
             "#c51b7d"
            ],
            [
             0.2,
             "#de77ae"
            ],
            [
             0.3,
             "#f1b6da"
            ],
            [
             0.4,
             "#fde0ef"
            ],
            [
             0.5,
             "#f7f7f7"
            ],
            [
             0.6,
             "#e6f5d0"
            ],
            [
             0.7,
             "#b8e186"
            ],
            [
             0.8,
             "#7fbc41"
            ],
            [
             0.9,
             "#4d9221"
            ],
            [
             1,
             "#276419"
            ]
           ],
           "sequential": [
            [
             0,
             "#0d0887"
            ],
            [
             0.1111111111111111,
             "#46039f"
            ],
            [
             0.2222222222222222,
             "#7201a8"
            ],
            [
             0.3333333333333333,
             "#9c179e"
            ],
            [
             0.4444444444444444,
             "#bd3786"
            ],
            [
             0.5555555555555556,
             "#d8576b"
            ],
            [
             0.6666666666666666,
             "#ed7953"
            ],
            [
             0.7777777777777778,
             "#fb9f3a"
            ],
            [
             0.8888888888888888,
             "#fdca26"
            ],
            [
             1,
             "#f0f921"
            ]
           ],
           "sequentialminus": [
            [
             0,
             "#0d0887"
            ],
            [
             0.1111111111111111,
             "#46039f"
            ],
            [
             0.2222222222222222,
             "#7201a8"
            ],
            [
             0.3333333333333333,
             "#9c179e"
            ],
            [
             0.4444444444444444,
             "#bd3786"
            ],
            [
             0.5555555555555556,
             "#d8576b"
            ],
            [
             0.6666666666666666,
             "#ed7953"
            ],
            [
             0.7777777777777778,
             "#fb9f3a"
            ],
            [
             0.8888888888888888,
             "#fdca26"
            ],
            [
             1,
             "#f0f921"
            ]
           ]
          },
          "colorway": [
           "#636efa",
           "#EF553B",
           "#00cc96",
           "#ab63fa",
           "#FFA15A",
           "#19d3f3",
           "#FF6692",
           "#B6E880",
           "#FF97FF",
           "#FECB52"
          ],
          "font": {
           "color": "#2a3f5f"
          },
          "geo": {
           "bgcolor": "white",
           "lakecolor": "white",
           "landcolor": "#E5ECF6",
           "showlakes": true,
           "showland": true,
           "subunitcolor": "white"
          },
          "hoverlabel": {
           "align": "left"
          },
          "hovermode": "closest",
          "mapbox": {
           "style": "light"
          },
          "paper_bgcolor": "white",
          "plot_bgcolor": "#E5ECF6",
          "polar": {
           "angularaxis": {
            "gridcolor": "white",
            "linecolor": "white",
            "ticks": ""
           },
           "bgcolor": "#E5ECF6",
           "radialaxis": {
            "gridcolor": "white",
            "linecolor": "white",
            "ticks": ""
           }
          },
          "scene": {
           "xaxis": {
            "backgroundcolor": "#E5ECF6",
            "gridcolor": "white",
            "gridwidth": 2,
            "linecolor": "white",
            "showbackground": true,
            "ticks": "",
            "zerolinecolor": "white"
           },
           "yaxis": {
            "backgroundcolor": "#E5ECF6",
            "gridcolor": "white",
            "gridwidth": 2,
            "linecolor": "white",
            "showbackground": true,
            "ticks": "",
            "zerolinecolor": "white"
           },
           "zaxis": {
            "backgroundcolor": "#E5ECF6",
            "gridcolor": "white",
            "gridwidth": 2,
            "linecolor": "white",
            "showbackground": true,
            "ticks": "",
            "zerolinecolor": "white"
           }
          },
          "shapedefaults": {
           "line": {
            "color": "#2a3f5f"
           }
          },
          "ternary": {
           "aaxis": {
            "gridcolor": "white",
            "linecolor": "white",
            "ticks": ""
           },
           "baxis": {
            "gridcolor": "white",
            "linecolor": "white",
            "ticks": ""
           },
           "bgcolor": "#E5ECF6",
           "caxis": {
            "gridcolor": "white",
            "linecolor": "white",
            "ticks": ""
           }
          },
          "title": {
           "x": 0.05
          },
          "xaxis": {
           "automargin": true,
           "gridcolor": "white",
           "linecolor": "white",
           "ticks": "",
           "title": {
            "standoff": 15
           },
           "zerolinecolor": "white",
           "zerolinewidth": 2
          },
          "yaxis": {
           "automargin": true,
           "gridcolor": "white",
           "linecolor": "white",
           "ticks": "",
           "title": {
            "standoff": 15
           },
           "zerolinecolor": "white",
           "zerolinewidth": 2
          }
         }
        },
        "title": {
         "text": "Pricing distribution by city (logarithmic scale)"
        },
        "xaxis": {
         "anchor": "y",
         "domain": [
          0,
          1
         ],
         "title": {
          "text": "Price per night"
         },
         "type": "log"
        },
        "yaxis": {
         "anchor": "x",
         "domain": [
          0,
          1
         ],
         "title": {
          "text": "count"
         }
        }
       }
      }
     },
     "metadata": {},
     "output_type": "display_data"
    }
   ],
   "source": [
    "px.histogram(\n",
    "    airbnb_data,\n",
    "    x=\"price_per_night\",\n",
    "    log_x=True,\n",
    "    color=\"city\",\n",
    "    title=\"Pricing distribution by city (logarithmic scale)\",\n",
    "    labels={\"price_per_night\": \"Price per night\"},\n",
    "    nbins=100,\n",
    ")"
   ]
  },
  {
   "cell_type": "code",
   "execution_count": 17,
   "metadata": {},
   "outputs": [
    {
     "data": {
      "application/vnd.plotly.v1+json": {
       "config": {
        "plotlyServerURL": "https://plot.ly"
       },
       "data": [
        {
         "customdata": [
          [
           "Bern",
           4.68,
           "Alojamiento entero"
          ],
          [
           "Bern",
           0,
           "Alojamiento entero"
          ],
          [
           "Bern",
           5,
           "Habitación"
          ],
          [
           "Bern",
           4.84,
           "Alojamiento entero"
          ],
          [
           "Bern",
           0,
           "Habitación"
          ],
          [
           "Bern",
           4.84,
           "Habitación"
          ],
          [
           "Bern",
           4.87,
           "Alojamiento entero"
          ],
          [
           "Bern",
           5,
           "Alojamiento entero"
          ],
          [
           "Bern",
           4.93,
           "Habitación"
          ],
          [
           "Bern",
           0,
           "Habitación"
          ],
          [
           "Bern",
           4.94,
           "Habitación"
          ],
          [
           "Bern",
           4.82,
           "Habitación"
          ],
          [
           "Bern",
           4.86,
           "Alojamiento entero"
          ],
          [
           "Bern",
           4.91,
           "Alojamiento entero"
          ],
          [
           "Bern",
           5,
           "Alojamiento entero"
          ],
          [
           "Bern",
           0,
           "Alojamiento entero"
          ],
          [
           "Bern",
           5,
           "Habitación"
          ],
          [
           "Bern",
           4.99,
           "Alojamiento entero"
          ],
          [
           "Bern",
           4.93,
           "Alojamiento entero"
          ],
          [
           "Bern",
           4.95,
           "Alojamiento entero"
          ],
          [
           "Bern",
           4.92,
           "Alojamiento entero"
          ],
          [
           "Bern",
           4.93,
           "Habitación"
          ],
          [
           "Bern",
           4.82,
           "Habitación"
          ],
          [
           "Bern",
           4.89,
           "Alojamiento entero"
          ],
          [
           "Bern",
           5,
           "Alojamiento entero"
          ],
          [
           "Bern",
           4.81,
           "Habitación"
          ],
          [
           "Bern",
           4.86,
           "Habitación"
          ],
          [
           "Bern",
           4.76,
           "Alojamiento entero"
          ],
          [
           "Bern",
           5,
           "Alojamiento entero"
          ],
          [
           "Bern",
           4.81,
           "Alojamiento entero"
          ],
          [
           "Bern",
           0,
           "Habitación"
          ],
          [
           "Bern",
           4.97,
           "Habitación"
          ],
          [
           "Bern",
           4.64,
           "Alojamiento entero"
          ],
          [
           "Bern",
           4.81,
           "Habitación"
          ],
          [
           "Bern",
           0,
           "Alojamiento entero"
          ],
          [
           "Bern",
           4.7,
           "Alojamiento entero"
          ],
          [
           "Bern",
           4.93,
           "Alojamiento entero"
          ],
          [
           "Bern",
           4.72,
           "Habitación"
          ],
          [
           "Bern",
           0,
           "Alojamiento entero"
          ],
          [
           "Bern",
           4.7,
           "Alojamiento entero"
          ],
          [
           "Bern",
           4.72,
           "Habitación"
          ],
          [
           "Bern",
           4.68,
           "Alojamiento entero"
          ],
          [
           "Bern",
           4.75,
           "Alojamiento entero"
          ],
          [
           "Bern",
           4.81,
           "Alojamiento entero"
          ],
          [
           "Bern",
           4.57,
           "Habitación"
          ],
          [
           "Bern",
           4.73,
           "Alojamiento entero"
          ],
          [
           "Bern",
           4.82,
           "Alojamiento entero"
          ],
          [
           "Bern",
           0,
           "Alojamiento entero"
          ],
          [
           "Bern",
           4.83,
           "Habitación"
          ],
          [
           "Bern",
           4.9,
           "Alojamiento entero"
          ],
          [
           "Bern",
           4.86,
           "Alojamiento entero"
          ],
          [
           "Bern",
           4.94,
           "Habitación"
          ],
          [
           "Bern",
           0,
           "Alojamiento entero"
          ],
          [
           "Bern",
           4.79,
           "Habitación"
          ],
          [
           "Bern",
           0,
           "Alojamiento entero"
          ],
          [
           "Bern",
           4.96,
           "Habitación"
          ],
          [
           "Bern",
           4.68,
           "Alojamiento entero"
          ],
          [
           "Bern",
           4.98,
           "Alojamiento entero"
          ],
          [
           "Bern",
           5,
           "Alojamiento entero"
          ],
          [
           "Bern",
           4.81,
           "Alojamiento entero"
          ],
          [
           "Bern",
           5,
           "Alojamiento entero"
          ],
          [
           "Bern",
           4.97,
           "Habitación"
          ],
          [
           "Bern",
           4.96,
           "Alojamiento entero"
          ],
          [
           "Bern",
           4.73,
           "Alojamiento entero"
          ],
          [
           "Bern",
           0,
           "Habitación"
          ],
          [
           "Bern",
           4.75,
           "Alojamiento entero"
          ],
          [
           "Bern",
           4.82,
           "Habitación"
          ],
          [
           "Bern",
           4.93,
           "Habitación"
          ],
          [
           "Bern",
           4.91,
           "Alojamiento entero"
          ],
          [
           "Bern",
           4.9,
           "Alojamiento entero"
          ],
          [
           "Bern",
           4.94,
           "Alojamiento entero"
          ],
          [
           "Bern",
           4.94,
           "Habitación"
          ],
          [
           "Bern",
           5,
           "Alojamiento entero"
          ],
          [
           "Bern",
           4.97,
           "Alojamiento entero"
          ],
          [
           "Bern",
           4.91,
           "Alojamiento entero"
          ],
          [
           "Bern",
           4.98,
           "Alojamiento entero"
          ],
          [
           "Bern",
           4.95,
           "Alojamiento entero"
          ],
          [
           "Bern",
           4.95,
           "Alojamiento entero"
          ],
          [
           "Bern",
           4.88,
           "Habitación"
          ],
          [
           "Bern",
           4.82,
           "Habitación"
          ],
          [
           "Bern",
           5,
           "Alojamiento entero"
          ],
          [
           "Bern",
           4.88,
           "Alojamiento entero"
          ],
          [
           "Bern",
           0,
           "Habitación"
          ],
          [
           "Bern",
           4.8,
           "Alojamiento entero"
          ],
          [
           "Bern",
           4.8,
           "Alojamiento entero"
          ],
          [
           "Bern",
           4.8,
           "Alojamiento entero"
          ],
          [
           "Bern",
           4.67,
           "Alojamiento entero"
          ],
          [
           "Bern",
           4.94,
           "Alojamiento entero"
          ],
          [
           "Bern",
           4.7,
           "Alojamiento entero"
          ],
          [
           "Bern",
           4.75,
           "Alojamiento entero"
          ],
          [
           "Bern",
           4.72,
           "Alojamiento entero"
          ],
          [
           "Bern",
           4.81,
           "Alojamiento entero"
          ],
          [
           "Bern",
           5,
           "Alojamiento entero"
          ],
          [
           "Bern",
           4.67,
           "Alojamiento entero"
          ],
          [
           "Bern",
           4.58,
           "Alojamiento entero"
          ],
          [
           "Bern",
           4.71,
           "Alojamiento entero"
          ],
          [
           "Bern",
           4.82,
           "Alojamiento entero"
          ],
          [
           "Bern",
           4.6,
           "Alojamiento entero"
          ],
          [
           "Bern",
           4.82,
           "Alojamiento entero"
          ],
          [
           "Bern",
           5,
           "Alojamiento entero"
          ],
          [
           "Bern",
           5,
           "Alojamiento entero"
          ],
          [
           "Bern",
           5,
           "Alojamiento entero"
          ],
          [
           "Bern",
           5,
           "Alojamiento entero"
          ],
          [
           "Bern",
           0,
           "Alojamiento entero"
          ],
          [
           "Bern",
           0,
           "Alojamiento entero"
          ],
          [
           "Bern",
           5,
           "Alojamiento entero"
          ],
          [
           "Bern",
           5,
           "Alojamiento entero"
          ],
          [
           "Bern",
           5,
           "Alojamiento entero"
          ],
          [
           "Bern",
           5,
           "Alojamiento entero"
          ],
          [
           "Bern",
           4.99,
           "Alojamiento entero"
          ],
          [
           "Bern",
           4.99,
           "Alojamiento entero"
          ],
          [
           "Bern",
           4.98,
           "Alojamiento entero"
          ],
          [
           "Bern",
           5,
           "Alojamiento entero"
          ],
          [
           "Bern",
           4.82,
           "Habitación"
          ],
          [
           "Bern",
           4.87,
           "Alojamiento entero"
          ],
          [
           "Bern",
           4.98,
           "Alojamiento entero"
          ],
          [
           "Bern",
           0,
           "Alojamiento entero"
          ],
          [
           "Bern",
           4.99,
           "Alojamiento entero"
          ],
          [
           "Bern",
           4.97,
           "Habitación"
          ],
          [
           "Bern",
           4.95,
           "Alojamiento entero"
          ],
          [
           "Bern",
           0,
           "Alojamiento entero"
          ],
          [
           "Bern",
           5,
           "Alojamiento entero"
          ],
          [
           "Bern",
           4.8,
           "Alojamiento entero"
          ],
          [
           "Bern",
           5,
           "Alojamiento entero"
          ],
          [
           "Bern",
           5,
           "Alojamiento entero"
          ],
          [
           "Bern",
           4.94,
           "Alojamiento entero"
          ],
          [
           "Bern",
           4.94,
           "Alojamiento entero"
          ],
          [
           "Bern",
           4.98,
           "Alojamiento entero"
          ],
          [
           "Bern",
           5,
           "Alojamiento entero"
          ],
          [
           "Bern",
           4.99,
           "Alojamiento entero"
          ],
          [
           "Bern",
           5,
           "Alojamiento entero"
          ],
          [
           "Bern",
           5,
           "Alojamiento entero"
          ],
          [
           "Bern",
           4.94,
           "Alojamiento entero"
          ],
          [
           "Bern",
           0,
           "Habitación"
          ],
          [
           "Bern",
           5,
           "Alojamiento entero"
          ],
          [
           "Bern",
           5,
           "Alojamiento entero"
          ],
          [
           "Bern",
           4.98,
           "Alojamiento entero"
          ],
          [
           "Bern",
           4.97,
           "Alojamiento entero"
          ],
          [
           "Bern",
           4.98,
           "Alojamiento entero"
          ],
          [
           "Bern",
           4.95,
           "otro"
          ],
          [
           "Bern",
           4.93,
           "Alojamiento entero"
          ],
          [
           "Bern",
           4.99,
           "Alojamiento entero"
          ],
          [
           "Bern",
           4.92,
           "Alojamiento entero"
          ],
          [
           "Bern",
           4.98,
           "Alojamiento entero"
          ],
          [
           "Bern",
           4.98,
           "Alojamiento entero"
          ],
          [
           "Bern",
           5,
           "Alojamiento entero"
          ],
          [
           "Bern",
           5,
           "Alojamiento entero"
          ],
          [
           "Bern",
           4.98,
           "Alojamiento entero"
          ],
          [
           "Bern",
           4.96,
           "Alojamiento entero"
          ],
          [
           "Bern",
           5,
           "Alojamiento entero"
          ],
          [
           "Bern",
           5,
           "Habitación"
          ],
          [
           "Bern",
           4.93,
           "Alojamiento entero"
          ],
          [
           "Bern",
           4.94,
           "Alojamiento entero"
          ],
          [
           "Bern",
           4.98,
           "Habitación"
          ],
          [
           "Bern",
           4.88,
           "Alojamiento entero"
          ],
          [
           "Bern",
           5,
           "Alojamiento entero"
          ],
          [
           "Bern",
           4.98,
           "Alojamiento entero"
          ],
          [
           "Bern",
           4.88,
           "Habitación"
          ],
          [
           "Bern",
           5,
           "Habitación"
          ],
          [
           "Bern",
           4.98,
           "Alojamiento entero"
          ],
          [
           "Bern",
           5,
           "Alojamiento entero"
          ],
          [
           "Bern",
           5,
           "Alojamiento entero"
          ],
          [
           "Bern",
           4.88,
           "Alojamiento entero"
          ],
          [
           "Bern",
           5,
           "Alojamiento entero"
          ],
          [
           "Bern",
           4.98,
           "Alojamiento entero"
          ],
          [
           "Bern",
           4.98,
           "Alojamiento entero"
          ],
          [
           "Bern",
           5,
           "Alojamiento entero"
          ],
          [
           "Bern",
           4.84,
           "Alojamiento entero"
          ],
          [
           "Bern",
           5,
           "Alojamiento entero"
          ],
          [
           "Bern",
           5,
           "Alojamiento entero"
          ],
          [
           "Bern",
           5,
           "otro"
          ],
          [
           "Bern",
           4.96,
           "Alojamiento entero"
          ],
          [
           "Bern",
           4.98,
           "Habitación"
          ],
          [
           "Bern",
           4.82,
           "Alojamiento entero"
          ],
          [
           "Bern",
           5,
           "Alojamiento entero"
          ],
          [
           "Bern",
           5,
           "Alojamiento entero"
          ],
          [
           "Bern",
           5,
           "Alojamiento entero"
          ],
          [
           "Bern",
           5,
           "Alojamiento entero"
          ],
          [
           "Bern",
           5,
           "Alojamiento entero"
          ],
          [
           "Bern",
           5,
           "Alojamiento entero"
          ],
          [
           "Bern",
           4.8,
           "Alojamiento entero"
          ],
          [
           "Bern",
           0,
           "Alojamiento entero"
          ],
          [
           "Bern",
           4.88,
           "Alojamiento entero"
          ],
          [
           "Bern",
           4.98,
           "Alojamiento entero"
          ],
          [
           "Bern",
           5,
           "Alojamiento entero"
          ],
          [
           "Bern",
           5,
           "otro"
          ],
          [
           "Bern",
           4.97,
           "Habitación"
          ],
          [
           "Bern",
           4.85,
           "Alojamiento entero"
          ],
          [
           "Bern",
           5,
           "Alojamiento entero"
          ],
          [
           "Bern",
           4.98,
           "Habitación"
          ],
          [
           "Bern",
           5,
           "Alojamiento entero"
          ],
          [
           "Bern",
           0,
           "Alojamiento entero"
          ],
          [
           "Bern",
           4.98,
           "Alojamiento entero"
          ],
          [
           "Bern",
           5,
           "Alojamiento entero"
          ],
          [
           "Bern",
           4.91,
           "Alojamiento entero"
          ],
          [
           "Bern",
           4.83,
           "Alojamiento entero"
          ],
          [
           "Bern",
           4.96,
           "Alojamiento entero"
          ],
          [
           "Bern",
           5,
           "Alojamiento entero"
          ],
          [
           "Bern",
           4.99,
           "Alojamiento entero"
          ],
          [
           "Bern",
           5,
           "otro"
          ],
          [
           "Bern",
           4.98,
           "otro"
          ],
          [
           "Bern",
           4.85,
           "Habitación"
          ],
          [
           "Bern",
           4.91,
           "Alojamiento entero"
          ],
          [
           "Bern",
           4.97,
           "Habitación"
          ],
          [
           "Bern",
           4.98,
           "Alojamiento entero"
          ],
          [
           "Bern",
           4.95,
           "Alojamiento entero"
          ],
          [
           "Bern",
           5,
           "Alojamiento entero"
          ],
          [
           "Bern",
           4.99,
           "Alojamiento entero"
          ],
          [
           "Bern",
           4.97,
           "Alojamiento entero"
          ],
          [
           "Bern",
           4.98,
           "Alojamiento entero"
          ],
          [
           "Bern",
           4.75,
           "Alojamiento entero"
          ],
          [
           "Bern",
           0,
           "Alojamiento entero"
          ],
          [
           "Bern",
           4.94,
           "Alojamiento entero"
          ],
          [
           "Bern",
           4.96,
           "Alojamiento entero"
          ],
          [
           "Bern",
           0,
           "Alojamiento entero"
          ],
          [
           "Bern",
           4.98,
           "Alojamiento entero"
          ],
          [
           "Bern",
           4.97,
           "Habitación"
          ],
          [
           "Bern",
           0,
           "Habitación"
          ],
          [
           "Bern",
           4.89,
           "Alojamiento entero"
          ],
          [
           "Bern",
           4.98,
           "Alojamiento entero"
          ],
          [
           "Bern",
           4.86,
           "Alojamiento entero"
          ],
          [
           "Bern",
           4.98,
           "Alojamiento entero"
          ],
          [
           "Bern",
           4.75,
           "Alojamiento entero"
          ],
          [
           "Bern",
           5,
           "otro"
          ],
          [
           "Bern",
           4.97,
           "Alojamiento entero"
          ],
          [
           "Bern",
           0,
           "Alojamiento entero"
          ],
          [
           "Bern",
           5,
           "Alojamiento entero"
          ],
          [
           "Bern",
           4.99,
           "Alojamiento entero"
          ],
          [
           "Bern",
           4.74,
           "Alojamiento entero"
          ],
          [
           "Bern",
           4.96,
           "Alojamiento entero"
          ],
          [
           "Bern",
           4.95,
           "Alojamiento entero"
          ],
          [
           "Bern",
           4.94,
           "Alojamiento entero"
          ],
          [
           "Bern",
           5,
           "Alojamiento entero"
          ],
          [
           "Bern",
           4.96,
           "Alojamiento entero"
          ],
          [
           "Bern",
           5,
           "Alojamiento entero"
          ],
          [
           "Bern",
           4.82,
           "Alojamiento entero"
          ],
          [
           "Bern",
           4.95,
           "Alojamiento entero"
          ],
          [
           "Bern",
           4.91,
           "Alojamiento entero"
          ],
          [
           "Bern",
           4.97,
           "Alojamiento entero"
          ],
          [
           "Bern",
           0,
           "Alojamiento entero"
          ],
          [
           "Bern",
           4.97,
           "Alojamiento entero"
          ],
          [
           "Bern",
           4.78,
           "Alojamiento entero"
          ],
          [
           "Bern",
           4.97,
           "Alojamiento entero"
          ],
          [
           "Bern",
           4.89,
           "Alojamiento entero"
          ],
          [
           "Bern",
           4.96,
           "Alojamiento entero"
          ],
          [
           "Bern",
           0,
           "Alojamiento entero"
          ],
          [
           "Bern",
           4.4,
           "Alojamiento entero"
          ],
          [
           "Bern",
           4.86,
           "Alojamiento entero"
          ],
          [
           "Bern",
           4.9,
           "Alojamiento entero"
          ],
          [
           "Bern",
           4.83,
           "Habitación"
          ],
          [
           "Bern",
           5,
           "Alojamiento entero"
          ],
          [
           "Bern",
           4.99,
           "Alojamiento entero"
          ]
         ],
         "hovertemplate": "city=%{customdata[0]}<br>price_per_night=%{x}<br>reviews=%{y}<br>rating=%{customdata[1]}<br>category=%{customdata[2]}<extra></extra>",
         "legendgroup": "Bern",
         "marker": {
          "color": "#636efa",
          "symbol": "circle"
         },
         "mode": "markers",
         "name": "Bern",
         "orientation": "v",
         "showlegend": true,
         "type": "scatter",
         "x": [
          43,
          473,
          36,
          125,
          36,
          113,
          71,
          62,
          68,
          42,
          53,
          55,
          76,
          83,
          43,
          97,
          78,
          98,
          124,
          98,
          100,
          88,
          60,
          49,
          133,
          127,
          70,
          111,
          133,
          100,
          55,
          62,
          83,
          80,
          109,
          83,
          130,
          73,
          109,
          83,
          52,
          102,
          140,
          117,
          52,
          103,
          129,
          107,
          46,
          98,
          141,
          61,
          124,
          62,
          124,
          78,
          102,
          290,
          77,
          99,
          93,
          62,
          54,
          103,
          42,
          194,
          60,
          88,
          94,
          95,
          139,
          103,
          124,
          101,
          188,
          379,
          98,
          145,
          166,
          250,
          194,
          56,
          42,
          162,
          114,
          103,
          127,
          169,
          124,
          66,
          121,
          99,
          88,
          127,
          259,
          129,
          161,
          118,
          78,
          168,
          81,
          88,
          206,
          74,
          176,
          168,
          129,
          169,
          169,
          78,
          108,
          98,
          103,
          52,
          85,
          82,
          168,
          69,
          116,
          181,
          185,
          71,
          179,
          145,
          250,
          189,
          169,
          440,
          114,
          93,
          186,
          88,
          92,
          68,
          122,
          117,
          62,
          171,
          54,
          155,
          101,
          92,
          114,
          78,
          67,
          202,
          78,
          101,
          128,
          434,
          69,
          145,
          78,
          67,
          67,
          89,
          103,
          228,
          39,
          125,
          103,
          83,
          67,
          434,
          125,
          103,
          103,
          83,
          78,
          125,
          134,
          78,
          67,
          172,
          83,
          153,
          89,
          276,
          103,
          111,
          74,
          78,
          71,
          202,
          78,
          157,
          61,
          109,
          103,
          67,
          202,
          124,
          78,
          89,
          433,
          83,
          233,
          155,
          83,
          157,
          155,
          74,
          433,
          61,
          78,
          80,
          103,
          62,
          103,
          359,
          233,
          81,
          67,
          233,
          88,
          150,
          61,
          72,
          186,
          78,
          251,
          202,
          233,
          72,
          103,
          124,
          153,
          62,
          128,
          233,
          80,
          198,
          155,
          111,
          155,
          88,
          80,
          102,
          119,
          81,
          130,
          102,
          114,
          78,
          187,
          123,
          58,
          55,
          61,
          197,
          128,
          207
         ],
         "xaxis": "x",
         "y": [
          19,
          0,
          5,
          339,
          0,
          218,
          0,
          13,
          877,
          0,
          16,
          68,
          86,
          145,
          17,
          0,
          0,
          199,
          121,
          84,
          87,
          15,
          218,
          36,
          0,
          203,
          212,
          592,
          5,
          120,
          0,
          60,
          14,
          477,
          0,
          466,
          337,
          866,
          0,
          466,
          25,
          95,
          750,
          16,
          7,
          169,
          95,
          0,
          221,
          10,
          14,
          0,
          0,
          304,
          0,
          72,
          95,
          52,
          21,
          208,
          13,
          60,
          70,
          169,
          0,
          145,
          218,
          15,
          65,
          41,
          63,
          17,
          4,
          231,
          74,
          52,
          22,
          21,
          174,
          233,
          3,
          0,
          0,
          733,
          10,
          15,
          0,
          0,
          821,
          413,
          53,
          208,
          0,
          0,
          40,
          0,
          17,
          5,
          11,
          4,
          0,
          34,
          56,
          0,
          0,
          31,
          21,
          0,
          0,
          92,
          0,
          54,
          0,
          11,
          30,
          255,
          0,
          188,
          163,
          22,
          0,
          9,
          35,
          34,
          0,
          0,
          0,
          185,
          6,
          183,
          52,
          66,
          117,
          0,
          18,
          17,
          195,
          95,
          200,
          61,
          61,
          72,
          86,
          59,
          342,
          7,
          9,
          196,
          53,
          21,
          5,
          76,
          160,
          64,
          8,
          5,
          163,
          206,
          9,
          176,
          0,
          52,
          8,
          21,
          176,
          163,
          9,
          43,
          9,
          14,
          33,
          25,
          64,
          17,
          52,
          11,
          5,
          25,
          0,
          0,
          0,
          0,
          0,
          0,
          9,
          60,
          30,
          34,
          0,
          64,
          7,
          0,
          350,
          5,
          390,
          12,
          53,
          19,
          108,
          60,
          179,
          39,
          390,
          30,
          350,
          199,
          0,
          92,
          88,
          44,
          0,
          0,
          104,
          53,
          0,
          121,
          30,
          0,
          0,
          350,
          0,
          0,
          0,
          5,
          88,
          0,
          11,
          92,
          34,
          53,
          199,
          62,
          19,
          82,
          19,
          168,
          199,
          81,
          35,
          0,
          144,
          23,
          106,
          9,
          23,
          0,
          5,
          58,
          41,
          570,
          11,
          313
         ],
         "yaxis": "y"
        },
        {
         "customdata": [
          [
           "Berlin",
           0,
           "Alojamiento entero"
          ],
          [
           "Berlin",
           0,
           "Alojamiento entero"
          ],
          [
           "Berlin",
           0,
           "Alojamiento entero"
          ],
          [
           "Berlin",
           4.79,
           "Alojamiento entero"
          ],
          [
           "Berlin",
           4.53,
           "Habitación"
          ],
          [
           "Berlin",
           4.92,
           "Alojamiento entero"
          ],
          [
           "Berlin",
           4.92,
           "Alojamiento entero"
          ],
          [
           "Berlin",
           0,
           "Alojamiento entero"
          ],
          [
           "Berlin",
           0,
           "Alojamiento entero"
          ],
          [
           "Berlin",
           5,
           "Alojamiento entero"
          ],
          [
           "Berlin",
           5,
           "Alojamiento entero"
          ],
          [
           "Berlin",
           5,
           "Alojamiento entero"
          ],
          [
           "Berlin",
           4.98,
           "Alojamiento entero"
          ],
          [
           "Berlin",
           4.97,
           "Alojamiento entero"
          ],
          [
           "Berlin",
           5,
           "Alojamiento entero"
          ],
          [
           "Berlin",
           4.66,
           "Alojamiento entero"
          ],
          [
           "Berlin",
           5,
           "Alojamiento entero"
          ],
          [
           "Berlin",
           0,
           "Alojamiento entero"
          ],
          [
           "Berlin",
           5,
           "Alojamiento entero"
          ],
          [
           "Berlin",
           0,
           "Alojamiento entero"
          ],
          [
           "Berlin",
           4.96,
           "Alojamiento entero"
          ],
          [
           "Berlin",
           5,
           "Alojamiento entero"
          ],
          [
           "Berlin",
           4.99,
           "Habitación"
          ],
          [
           "Berlin",
           0,
           "Alojamiento entero"
          ],
          [
           "Berlin",
           4.82,
           "Alojamiento entero"
          ],
          [
           "Berlin",
           0,
           "Alojamiento entero"
          ],
          [
           "Berlin",
           5,
           "Alojamiento entero"
          ],
          [
           "Berlin",
           4.92,
           "Alojamiento entero"
          ],
          [
           "Berlin",
           5,
           "Alojamiento entero"
          ],
          [
           "Berlin",
           4.79,
           "Alojamiento entero"
          ],
          [
           "Berlin",
           0,
           "Alojamiento entero"
          ],
          [
           "Berlin",
           4.76,
           "Alojamiento entero"
          ],
          [
           "Berlin",
           4.9,
           "Alojamiento entero"
          ],
          [
           "Berlin",
           4.63,
           "Alojamiento entero"
          ],
          [
           "Berlin",
           0,
           "Alojamiento entero"
          ],
          [
           "Berlin",
           0,
           "Alojamiento entero"
          ],
          [
           "Berlin",
           4.93,
           "Alojamiento entero"
          ],
          [
           "Berlin",
           4.8,
           "Alojamiento entero"
          ],
          [
           "Berlin",
           4.9,
           "Alojamiento entero"
          ],
          [
           "Berlin",
           4.95,
           "Alojamiento entero"
          ],
          [
           "Berlin",
           5,
           "Alojamiento entero"
          ],
          [
           "Berlin",
           4.94,
           "Alojamiento entero"
          ],
          [
           "Berlin",
           4.97,
           "Alojamiento entero"
          ],
          [
           "Berlin",
           0,
           "Alojamiento entero"
          ],
          [
           "Berlin",
           5,
           "Alojamiento entero"
          ],
          [
           "Berlin",
           4.99,
           "Alojamiento entero"
          ],
          [
           "Berlin",
           4.87,
           "Alojamiento entero"
          ],
          [
           "Berlin",
           4.97,
           "Habitación"
          ],
          [
           "Berlin",
           4.97,
           "otro"
          ],
          [
           "Berlin",
           5,
           "Alojamiento entero"
          ],
          [
           "Berlin",
           4.87,
           "Alojamiento entero"
          ],
          [
           "Berlin",
           4.91,
           "Alojamiento entero"
          ],
          [
           "Berlin",
           4.79,
           "Alojamiento entero"
          ],
          [
           "Berlin",
           5,
           "Alojamiento entero"
          ],
          [
           "Berlin",
           4.95,
           "Alojamiento entero"
          ],
          [
           "Berlin",
           4.76,
           "Alojamiento entero"
          ],
          [
           "Berlin",
           4.97,
           "Alojamiento entero"
          ],
          [
           "Berlin",
           4.92,
           "Alojamiento entero"
          ],
          [
           "Berlin",
           5,
           "Alojamiento entero"
          ],
          [
           "Berlin",
           4.9,
           "Alojamiento entero"
          ],
          [
           "Berlin",
           5,
           "Alojamiento entero"
          ],
          [
           "Berlin",
           4.89,
           "Alojamiento entero"
          ],
          [
           "Berlin",
           4.9,
           "Alojamiento entero"
          ],
          [
           "Berlin",
           4.83,
           "Alojamiento entero"
          ],
          [
           "Berlin",
           5,
           "Alojamiento entero"
          ],
          [
           "Berlin",
           4.63,
           "Alojamiento entero"
          ],
          [
           "Berlin",
           4.77,
           "Alojamiento entero"
          ],
          [
           "Berlin",
           4.88,
           "Alojamiento entero"
          ],
          [
           "Berlin",
           0,
           "Alojamiento entero"
          ],
          [
           "Berlin",
           5,
           "Alojamiento entero"
          ],
          [
           "Berlin",
           5,
           "Alojamiento entero"
          ],
          [
           "Berlin",
           4.79,
           "Alojamiento entero"
          ],
          [
           "Berlin",
           4.82,
           "Alojamiento entero"
          ],
          [
           "Berlin",
           0,
           "Habitación"
          ],
          [
           "Berlin",
           4.79,
           "Alojamiento entero"
          ],
          [
           "Berlin",
           0,
           "Alojamiento entero"
          ],
          [
           "Berlin",
           4.87,
           "Alojamiento entero"
          ],
          [
           "Berlin",
           4.77,
           "Habitación"
          ],
          [
           "Berlin",
           4.59,
           "Alojamiento entero"
          ],
          [
           "Berlin",
           4.75,
           "Alojamiento entero"
          ],
          [
           "Berlin",
           0,
           "Alojamiento entero"
          ],
          [
           "Berlin",
           4.6,
           "Alojamiento entero"
          ],
          [
           "Berlin",
           4.5,
           "Alojamiento entero"
          ],
          [
           "Berlin",
           0,
           "Alojamiento entero"
          ],
          [
           "Berlin",
           4.72,
           "Alojamiento entero"
          ],
          [
           "Berlin",
           4.33,
           "Alojamiento entero"
          ],
          [
           "Berlin",
           4.57,
           "Habitación"
          ],
          [
           "Berlin",
           0,
           "Alojamiento entero"
          ],
          [
           "Berlin",
           0,
           "Alojamiento entero"
          ],
          [
           "Berlin",
           4.43,
           "Alojamiento entero"
          ],
          [
           "Berlin",
           4.43,
           "Alojamiento entero"
          ],
          [
           "Berlin",
           4.86,
           "Alojamiento entero"
          ],
          [
           "Berlin",
           0,
           "Alojamiento entero"
          ],
          [
           "Berlin",
           0,
           "Alojamiento entero"
          ],
          [
           "Berlin",
           4.44,
           "Alojamiento entero"
          ],
          [
           "Berlin",
           4.5,
           "Alojamiento entero"
          ],
          [
           "Berlin",
           4.2,
           "Alojamiento entero"
          ],
          [
           "Berlin",
           4.32,
           "Alojamiento entero"
          ],
          [
           "Berlin",
           5,
           "Alojamiento entero"
          ],
          [
           "Berlin",
           0,
           "Alojamiento entero"
          ],
          [
           "Berlin",
           0,
           "Alojamiento entero"
          ],
          [
           "Berlin",
           5,
           "Alojamiento entero"
          ],
          [
           "Berlin",
           0,
           "Alojamiento entero"
          ],
          [
           "Berlin",
           5,
           "Alojamiento entero"
          ],
          [
           "Berlin",
           0,
           "Alojamiento entero"
          ],
          [
           "Berlin",
           5,
           "Alojamiento entero"
          ],
          [
           "Berlin",
           5,
           "Alojamiento entero"
          ],
          [
           "Berlin",
           4.95,
           "Alojamiento entero"
          ],
          [
           "Berlin",
           5,
           "Alojamiento entero"
          ],
          [
           "Berlin",
           4.95,
           "Alojamiento entero"
          ],
          [
           "Berlin",
           5,
           "Alojamiento entero"
          ],
          [
           "Berlin",
           0,
           "Alojamiento entero"
          ],
          [
           "Berlin",
           5,
           "Alojamiento entero"
          ],
          [
           "Berlin",
           5,
           "Alojamiento entero"
          ],
          [
           "Berlin",
           5,
           "Alojamiento entero"
          ],
          [
           "Berlin",
           4.95,
           "Alojamiento entero"
          ],
          [
           "Berlin",
           4.97,
           "Habitación"
          ],
          [
           "Berlin",
           4.97,
           "Alojamiento entero"
          ],
          [
           "Berlin",
           0,
           "Alojamiento entero"
          ],
          [
           "Berlin",
           4.94,
           "Alojamiento entero"
          ],
          [
           "Berlin",
           5,
           "Alojamiento entero"
          ],
          [
           "Berlin",
           5,
           "Alojamiento entero"
          ],
          [
           "Berlin",
           4.91,
           "Alojamiento entero"
          ],
          [
           "Berlin",
           5,
           "Alojamiento entero"
          ],
          [
           "Berlin",
           5,
           "Alojamiento entero"
          ],
          [
           "Berlin",
           0,
           "Habitación"
          ],
          [
           "Berlin",
           5,
           "Alojamiento entero"
          ],
          [
           "Berlin",
           4.92,
           "Alojamiento entero"
          ],
          [
           "Berlin",
           4.91,
           "Alojamiento entero"
          ],
          [
           "Berlin",
           5,
           "Alojamiento entero"
          ],
          [
           "Berlin",
           5,
           "Alojamiento entero"
          ],
          [
           "Berlin",
           5,
           "Alojamiento entero"
          ],
          [
           "Berlin",
           0,
           "Habitación"
          ],
          [
           "Berlin",
           4.92,
           "Alojamiento entero"
          ],
          [
           "Berlin",
           4.9,
           "Habitación"
          ],
          [
           "Berlin",
           5,
           "Alojamiento entero"
          ],
          [
           "Berlin",
           4.95,
           "Alojamiento entero"
          ],
          [
           "Berlin",
           4.98,
           "Alojamiento entero"
          ],
          [
           "Berlin",
           4.95,
           "Alojamiento entero"
          ],
          [
           "Berlin",
           5,
           "Alojamiento entero"
          ],
          [
           "Berlin",
           5,
           "Alojamiento entero"
          ],
          [
           "Berlin",
           4.99,
           "Alojamiento entero"
          ],
          [
           "Berlin",
           0,
           "Alojamiento entero"
          ],
          [
           "Berlin",
           4.96,
           "Alojamiento entero"
          ],
          [
           "Berlin",
           5,
           "Alojamiento entero"
          ],
          [
           "Berlin",
           4.95,
           "Alojamiento entero"
          ],
          [
           "Berlin",
           4.98,
           "Alojamiento entero"
          ],
          [
           "Berlin",
           5,
           "Alojamiento entero"
          ],
          [
           "Berlin",
           5,
           "Alojamiento entero"
          ],
          [
           "Berlin",
           5,
           "Habitación"
          ],
          [
           "Berlin",
           5,
           "Alojamiento entero"
          ],
          [
           "Berlin",
           5,
           "Alojamiento entero"
          ],
          [
           "Berlin",
           4.94,
           "Alojamiento entero"
          ],
          [
           "Berlin",
           0,
           "Alojamiento entero"
          ],
          [
           "Berlin",
           5,
           "Alojamiento entero"
          ],
          [
           "Berlin",
           5,
           "Alojamiento entero"
          ],
          [
           "Berlin",
           5,
           "Alojamiento entero"
          ],
          [
           "Berlin",
           4.9,
           "Alojamiento entero"
          ],
          [
           "Berlin",
           4.94,
           "Alojamiento entero"
          ],
          [
           "Berlin",
           4.94,
           "Alojamiento entero"
          ],
          [
           "Berlin",
           4.97,
           "Alojamiento entero"
          ],
          [
           "Berlin",
           4.97,
           "Alojamiento entero"
          ],
          [
           "Berlin",
           4.95,
           "Alojamiento entero"
          ],
          [
           "Berlin",
           4.97,
           "Alojamiento entero"
          ],
          [
           "Berlin",
           4.66,
           "Alojamiento entero"
          ],
          [
           "Berlin",
           4.94,
           "Alojamiento entero"
          ],
          [
           "Berlin",
           4.94,
           "Alojamiento entero"
          ],
          [
           "Berlin",
           4.93,
           "Alojamiento entero"
          ],
          [
           "Berlin",
           4.96,
           "Alojamiento entero"
          ],
          [
           "Berlin",
           4.89,
           "Alojamiento entero"
          ],
          [
           "Berlin",
           5,
           "Alojamiento entero"
          ],
          [
           "Berlin",
           4.98,
           "Alojamiento entero"
          ],
          [
           "Berlin",
           4.91,
           "Alojamiento entero"
          ],
          [
           "Berlin",
           5,
           "Alojamiento entero"
          ],
          [
           "Berlin",
           0,
           "Alojamiento entero"
          ],
          [
           "Berlin",
           4.97,
           "Habitación"
          ],
          [
           "Berlin",
           5,
           "Alojamiento entero"
          ],
          [
           "Berlin",
           4.88,
           "Alojamiento entero"
          ],
          [
           "Berlin",
           0,
           "Alojamiento entero"
          ],
          [
           "Berlin",
           4.89,
           "Alojamiento entero"
          ],
          [
           "Berlin",
           5,
           "Alojamiento entero"
          ],
          [
           "Berlin",
           4.92,
           "Alojamiento entero"
          ],
          [
           "Berlin",
           5,
           "Alojamiento entero"
          ],
          [
           "Berlin",
           4.67,
           "Alojamiento entero"
          ],
          [
           "Berlin",
           5,
           "Alojamiento entero"
          ],
          [
           "Berlin",
           4.91,
           "Alojamiento entero"
          ],
          [
           "Berlin",
           0,
           "Alojamiento entero"
          ],
          [
           "Berlin",
           0,
           "Alojamiento entero"
          ],
          [
           "Berlin",
           4.92,
           "Habitación"
          ],
          [
           "Berlin",
           4.96,
           "Alojamiento entero"
          ],
          [
           "Berlin",
           4.94,
           "Habitación"
          ],
          [
           "Berlin",
           5,
           "Alojamiento entero"
          ],
          [
           "Berlin",
           5,
           "Alojamiento entero"
          ],
          [
           "Berlin",
           4.98,
           "Alojamiento entero"
          ],
          [
           "Berlin",
           5,
           "Alojamiento entero"
          ],
          [
           "Berlin",
           4.96,
           "Alojamiento entero"
          ],
          [
           "Berlin",
           0,
           "Alojamiento entero"
          ],
          [
           "Berlin",
           4.96,
           "Alojamiento entero"
          ],
          [
           "Berlin",
           5,
           "Alojamiento entero"
          ],
          [
           "Berlin",
           5,
           "Alojamiento entero"
          ],
          [
           "Berlin",
           4.94,
           "Alojamiento entero"
          ],
          [
           "Berlin",
           4.96,
           "Alojamiento entero"
          ],
          [
           "Berlin",
           5,
           "Alojamiento entero"
          ],
          [
           "Berlin",
           0,
           "Alojamiento entero"
          ],
          [
           "Berlin",
           4.88,
           "Alojamiento entero"
          ],
          [
           "Berlin",
           4.91,
           "Alojamiento entero"
          ],
          [
           "Berlin",
           5,
           "Alojamiento entero"
          ],
          [
           "Berlin",
           4.9,
           "Alojamiento entero"
          ],
          [
           "Berlin",
           4.94,
           "Habitación"
          ],
          [
           "Berlin",
           4.96,
           "Alojamiento entero"
          ],
          [
           "Berlin",
           4.92,
           "Habitación"
          ],
          [
           "Berlin",
           4.92,
           "Alojamiento entero"
          ],
          [
           "Berlin",
           4.88,
           "Alojamiento entero"
          ],
          [
           "Berlin",
           4.94,
           "Alojamiento entero"
          ],
          [
           "Berlin",
           5,
           "Habitación"
          ],
          [
           "Berlin",
           4.98,
           "Alojamiento entero"
          ],
          [
           "Berlin",
           4.82,
           "Alojamiento entero"
          ],
          [
           "Berlin",
           4.94,
           "Alojamiento entero"
          ],
          [
           "Berlin",
           4.82,
           "Alojamiento entero"
          ],
          [
           "Berlin",
           0,
           "Alojamiento entero"
          ],
          [
           "Berlin",
           4.84,
           "Alojamiento entero"
          ],
          [
           "Berlin",
           4.94,
           "Habitación"
          ],
          [
           "Berlin",
           5,
           "Alojamiento entero"
          ],
          [
           "Berlin",
           4.97,
           "Alojamiento entero"
          ],
          [
           "Berlin",
           4.93,
           "Alojamiento entero"
          ],
          [
           "Berlin",
           4.92,
           "Habitación"
          ],
          [
           "Berlin",
           4.81,
           "Habitación"
          ],
          [
           "Berlin",
           4.98,
           "Alojamiento entero"
          ],
          [
           "Berlin",
           4.92,
           "Alojamiento entero"
          ],
          [
           "Berlin",
           0,
           "Alojamiento entero"
          ],
          [
           "Berlin",
           0,
           "Alojamiento entero"
          ],
          [
           "Berlin",
           4.96,
           "Alojamiento entero"
          ],
          [
           "Berlin",
           0,
           "Alojamiento entero"
          ],
          [
           "Berlin",
           0,
           "Alojamiento entero"
          ],
          [
           "Berlin",
           5,
           "Alojamiento entero"
          ],
          [
           "Berlin",
           5,
           "Alojamiento entero"
          ],
          [
           "Berlin",
           5,
           "Habitación"
          ],
          [
           "Berlin",
           4.93,
           "Alojamiento entero"
          ],
          [
           "Berlin",
           4.99,
           "Alojamiento entero"
          ],
          [
           "Berlin",
           0,
           "Alojamiento entero"
          ],
          [
           "Berlin",
           4.94,
           "Alojamiento entero"
          ],
          [
           "Berlin",
           4.98,
           "Alojamiento entero"
          ],
          [
           "Berlin",
           4.94,
           "Alojamiento entero"
          ],
          [
           "Berlin",
           0,
           "Alojamiento entero"
          ],
          [
           "Berlin",
           0,
           "Alojamiento entero"
          ],
          [
           "Berlin",
           4.91,
           "Alojamiento entero"
          ],
          [
           "Berlin",
           4.99,
           "Alojamiento entero"
          ],
          [
           "Berlin",
           4.96,
           "Habitación"
          ],
          [
           "Berlin",
           4.98,
           "Alojamiento entero"
          ],
          [
           "Berlin",
           0,
           "Alojamiento entero"
          ],
          [
           "Berlin",
           0,
           "Alojamiento entero"
          ],
          [
           "Berlin",
           0,
           "Alojamiento entero"
          ]
         ],
         "hovertemplate": "city=%{customdata[0]}<br>price_per_night=%{x}<br>reviews=%{y}<br>rating=%{customdata[1]}<br>category=%{customdata[2]}<extra></extra>",
         "legendgroup": "Berlin",
         "marker": {
          "color": "#EF553B",
          "symbol": "circle"
         },
         "mode": "markers",
         "name": "Berlin",
         "orientation": "v",
         "showlegend": true,
         "type": "scatter",
         "x": [
          53,
          77,
          75,
          214,
          117,
          205,
          99,
          190,
          80,
          149,
          92,
          195,
          200,
          89,
          189,
          129,
          131,
          198,
          164,
          228,
          180,
          114,
          99,
          139,
          91,
          300,
          90,
          121,
          213,
          61,
          null,
          68,
          140,
          108,
          null,
          80,
          121,
          123,
          266,
          138,
          194,
          122,
          90,
          97,
          128,
          132,
          134,
          97,
          237,
          130,
          158,
          95,
          94,
          139,
          149,
          68,
          200,
          89,
          194,
          138,
          88,
          70,
          150,
          76,
          203,
          108,
          87,
          121,
          72,
          125,
          139,
          99,
          115,
          65,
          61,
          95,
          122,
          100,
          92,
          102,
          181,
          150,
          70,
          84,
          78,
          89,
          110,
          249,
          100,
          97,
          97,
          115,
          80,
          76,
          71,
          147,
          91,
          79,
          119,
          222,
          150,
          110,
          112,
          81,
          520,
          220,
          132,
          130,
          114,
          145,
          80,
          159,
          316,
          160,
          110,
          120,
          97,
          135,
          124,
          114,
          200,
          230,
          88,
          62,
          154,
          69,
          62,
          143,
          88,
          154,
          230,
          99,
          69,
          63,
          44,
          110,
          191,
          129,
          277,
          160,
          129,
          192,
          134,
          84,
          200,
          80,
          206,
          170,
          141,
          77,
          87,
          70,
          77,
          81,
          150,
          140,
          249,
          139,
          81,
          100,
          89,
          112,
          211,
          89,
          115,
          88,
          213,
          249,
          174,
          137,
          110,
          65,
          89,
          150,
          119,
          84,
          95,
          90,
          90,
          70,
          118,
          110,
          120,
          71,
          140,
          86,
          104,
          264,
          55,
          265,
          65,
          245,
          92,
          141,
          231,
          170,
          99,
          104,
          284,
          140,
          238,
          170,
          245,
          141,
          121,
          120,
          231,
          137,
          65,
          105,
          55,
          86,
          97,
          120,
          82,
          141,
          106,
          120,
          115,
          95,
          155,
          65,
          129,
          84,
          149,
          55,
          71,
          141,
          240,
          104,
          232,
          104,
          150,
          120,
          86,
          72,
          82,
          110,
          78,
          130,
          100,
          149,
          77,
          80,
          249,
          125,
          90,
          120,
          225,
          92,
          68,
          174
         ],
         "xaxis": "x",
         "y": [
          0,
          0,
          0,
          419,
          0,
          25,
          12,
          0,
          0,
          15,
          30,
          12,
          49,
          276,
          43,
          130,
          10,
          0,
          204,
          0,
          26,
          4,
          518,
          0,
          88,
          0,
          24,
          26,
          51,
          327,
          0,
          228,
          73,
          0,
          0,
          0,
          299,
          44,
          20,
          148,
          3,
          119,
          31,
          0,
          5,
          69,
          0,
          445,
          147,
          32,
          134,
          70,
          197,
          5,
          21,
          228,
          114,
          97,
          3,
          104,
          8,
          9,
          20,
          60,
          27,
          0,
          0,
          24,
          0,
          0,
          5,
          0,
          324,
          0,
          327,
          0,
          79,
          0,
          59,
          16,
          0,
          15,
          0,
          0,
          457,
          3,
          0,
          0,
          0,
          51,
          51,
          7,
          0,
          0,
          27,
          8,
          0,
          65,
          11,
          0,
          0,
          16,
          0,
          94,
          0,
          0,
          4,
          22,
          0,
          367,
          26,
          0,
          0,
          41,
          48,
          101,
          34,
          36,
          0,
          394,
          17,
          17,
          0,
          18,
          17,
          0,
          18,
          74,
          0,
          17,
          17,
          41,
          0,
          292,
          10,
          10,
          99,
          43,
          196,
          4,
          7,
          96,
          0,
          107,
          9,
          37,
          61,
          20,
          37,
          13,
          7,
          22,
          100,
          0,
          8,
          7,
          0,
          185,
          0,
          162,
          143,
          140,
          60,
          143,
          44,
          35,
          31,
          28,
          28,
          267,
          10,
          40,
          32,
          15,
          0,
          31,
          10,
          8,
          0,
          9,
          0,
          0,
          6,
          3,
          3,
          11,
          0,
          0,
          403,
          26,
          78,
          9,
          31,
          81,
          21,
          27,
          0,
          74,
          22,
          3,
          52,
          27,
          9,
          0,
          24,
          22,
          21,
          217,
          78,
          46,
          403,
          157,
          240,
          36,
          3,
          81,
          76,
          36,
          324,
          0,
          132,
          78,
          5,
          37,
          0,
          403,
          0,
          81,
          89,
          0,
          0,
          74,
          0,
          0,
          11,
          4,
          3,
          134,
          142,
          0,
          83,
          43,
          16,
          0,
          0,
          0,
          67,
          193,
          112,
          0,
          0,
          0
         ],
         "yaxis": "y"
        },
        {
         "customdata": [
          [
           "Paris",
           5,
           "Habitación"
          ],
          [
           "Paris",
           4.94,
           "Alojamiento entero"
          ],
          [
           "Paris",
           0,
           "Alojamiento entero"
          ],
          [
           "Paris",
           5,
           "Alojamiento entero"
          ],
          [
           "Paris",
           0,
           "Alojamiento entero"
          ],
          [
           "Paris",
           4.83,
           "Alojamiento entero"
          ],
          [
           "Paris",
           0,
           "Alojamiento entero"
          ],
          [
           "Paris",
           0,
           "Alojamiento entero"
          ],
          [
           "Paris",
           0,
           "Alojamiento entero"
          ],
          [
           "Paris",
           0,
           "Alojamiento entero"
          ],
          [
           "Paris",
           5,
           "Alojamiento entero"
          ],
          [
           "Paris",
           4.92,
           "Alojamiento entero"
          ],
          [
           "Paris",
           4.97,
           "Alojamiento entero"
          ],
          [
           "Paris",
           0,
           "Alojamiento entero"
          ],
          [
           "Paris",
           0,
           "Alojamiento entero"
          ],
          [
           "Paris",
           4.94,
           "Alojamiento entero"
          ],
          [
           "Paris",
           0,
           "Alojamiento entero"
          ],
          [
           "Paris",
           5,
           "Alojamiento entero"
          ],
          [
           "Paris",
           5,
           "Alojamiento entero"
          ],
          [
           "Paris",
           4.96,
           "Alojamiento entero"
          ],
          [
           "Paris",
           4.98,
           "Alojamiento entero"
          ],
          [
           "Paris",
           5,
           "Alojamiento entero"
          ],
          [
           "Paris",
           5,
           "Alojamiento entero"
          ],
          [
           "Paris",
           4.97,
           "Alojamiento entero"
          ],
          [
           "Paris",
           4.9,
           "Habitación"
          ],
          [
           "Paris",
           0,
           "Alojamiento entero"
          ],
          [
           "Paris",
           3.67,
           "Alojamiento entero"
          ],
          [
           "Paris",
           4.94,
           "Alojamiento entero"
          ],
          [
           "Paris",
           0,
           "Alojamiento entero"
          ],
          [
           "Paris",
           5,
           "Alojamiento entero"
          ],
          [
           "Paris",
           5,
           "Alojamiento entero"
          ],
          [
           "Paris",
           5,
           "Alojamiento entero"
          ],
          [
           "Paris",
           5,
           "Alojamiento entero"
          ],
          [
           "Paris",
           5,
           "Alojamiento entero"
          ],
          [
           "Paris",
           4.98,
           "Alojamiento entero"
          ],
          [
           "Paris",
           0,
           "Alojamiento entero"
          ],
          [
           "Paris",
           0,
           "Alojamiento entero"
          ],
          [
           "Paris",
           0,
           "Alojamiento entero"
          ],
          [
           "Paris",
           5,
           "Alojamiento entero"
          ],
          [
           "Paris",
           4.71,
           "Alojamiento entero"
          ],
          [
           "Paris",
           0,
           "Alojamiento entero"
          ],
          [
           "Paris",
           0,
           "Alojamiento entero"
          ],
          [
           "Paris",
           0,
           "Alojamiento entero"
          ],
          [
           "Paris",
           5,
           "Alojamiento entero"
          ],
          [
           "Paris",
           5,
           "Alojamiento entero"
          ],
          [
           "Paris",
           0,
           "Alojamiento entero"
          ],
          [
           "Paris",
           0,
           "Alojamiento entero"
          ],
          [
           "Paris",
           0,
           "Alojamiento entero"
          ],
          [
           "Paris",
           4.78,
           "Alojamiento entero"
          ],
          [
           "Paris",
           4.6,
           "Alojamiento entero"
          ],
          [
           "Paris",
           5,
           "Alojamiento entero"
          ],
          [
           "Paris",
           5,
           "Alojamiento entero"
          ],
          [
           "Paris",
           4.79,
           "Alojamiento entero"
          ],
          [
           "Paris",
           0,
           "Alojamiento entero"
          ],
          [
           "Paris",
           5,
           "Alojamiento entero"
          ],
          [
           "Paris",
           5,
           "Alojamiento entero"
          ],
          [
           "Paris",
           5,
           "Alojamiento entero"
          ],
          [
           "Paris",
           5,
           "Alojamiento entero"
          ],
          [
           "Paris",
           4.95,
           "Habitación"
          ],
          [
           "Paris",
           0,
           "Alojamiento entero"
          ],
          [
           "Paris",
           4.97,
           "Habitación"
          ],
          [
           "Paris",
           0,
           "Alojamiento entero"
          ],
          [
           "Paris",
           0,
           "Alojamiento entero"
          ],
          [
           "Paris",
           0,
           "Alojamiento entero"
          ],
          [
           "Paris",
           4.6,
           "Alojamiento entero"
          ],
          [
           "Paris",
           4.88,
           "Alojamiento entero"
          ],
          [
           "Paris",
           4.97,
           "Alojamiento entero"
          ],
          [
           "Paris",
           4.94,
           "Alojamiento entero"
          ],
          [
           "Paris",
           0,
           "Alojamiento entero"
          ],
          [
           "Paris",
           0,
           "Alojamiento entero"
          ],
          [
           "Paris",
           4.94,
           "Alojamiento entero"
          ],
          [
           "Paris",
           4.96,
           "Alojamiento entero"
          ],
          [
           "Paris",
           0,
           "Alojamiento entero"
          ],
          [
           "Paris",
           4.94,
           "Alojamiento entero"
          ],
          [
           "Paris",
           4.96,
           "Alojamiento entero"
          ],
          [
           "Paris",
           0,
           "Alojamiento entero"
          ],
          [
           "Paris",
           4.9,
           "Alojamiento entero"
          ],
          [
           "Paris",
           4.99,
           "Alojamiento entero"
          ],
          [
           "Paris",
           4.81,
           "Alojamiento entero"
          ],
          [
           "Paris",
           0,
           "Alojamiento entero"
          ],
          [
           "Paris",
           0,
           "Alojamiento entero"
          ],
          [
           "Paris",
           4.55,
           "Alojamiento entero"
          ],
          [
           "Paris",
           4.78,
           "Alojamiento entero"
          ],
          [
           "Paris",
           4.92,
           "Alojamiento entero"
          ],
          [
           "Paris",
           4.6,
           "Alojamiento entero"
          ],
          [
           "Paris",
           4.55,
           "Alojamiento entero"
          ],
          [
           "Paris",
           0,
           "Alojamiento entero"
          ],
          [
           "Paris",
           0,
           "Alojamiento entero"
          ],
          [
           "Paris",
           0,
           "Alojamiento entero"
          ],
          [
           "Paris",
           0,
           "Alojamiento entero"
          ],
          [
           "Paris",
           0,
           "Alojamiento entero"
          ],
          [
           "Paris",
           4.89,
           "Alojamiento entero"
          ],
          [
           "Paris",
           4.89,
           "Alojamiento entero"
          ],
          [
           "Paris",
           0,
           "Alojamiento entero"
          ],
          [
           "Paris",
           4.69,
           "Alojamiento entero"
          ],
          [
           "Paris",
           4.56,
           "Alojamiento entero"
          ],
          [
           "Paris",
           4.27,
           "Alojamiento entero"
          ],
          [
           "Paris",
           0,
           "Alojamiento entero"
          ],
          [
           "Paris",
           5,
           "Alojamiento entero"
          ],
          [
           "Paris",
           0,
           "Alojamiento entero"
          ],
          [
           "Paris",
           5,
           "Alojamiento entero"
          ],
          [
           "Paris",
           5,
           "Alojamiento entero"
          ],
          [
           "Paris",
           5,
           "Alojamiento entero"
          ],
          [
           "Paris",
           5,
           "Alojamiento entero"
          ],
          [
           "Paris",
           5,
           "Alojamiento entero"
          ],
          [
           "Paris",
           4.63,
           "Alojamiento entero"
          ],
          [
           "Paris",
           4.67,
           "Alojamiento entero"
          ],
          [
           "Paris",
           4.97,
           "Habitación"
          ],
          [
           "Paris",
           5,
           "Alojamiento entero"
          ],
          [
           "Paris",
           5,
           "Alojamiento entero"
          ],
          [
           "Paris",
           5,
           "Alojamiento entero"
          ],
          [
           "Paris",
           0,
           "Alojamiento entero"
          ],
          [
           "Paris",
           0,
           "Alojamiento entero"
          ],
          [
           "Paris",
           5,
           "Alojamiento entero"
          ],
          [
           "Paris",
           5,
           "Alojamiento entero"
          ],
          [
           "Paris",
           5,
           "Alojamiento entero"
          ],
          [
           "Paris",
           5,
           "Alojamiento entero"
          ],
          [
           "Paris",
           5,
           "Alojamiento entero"
          ],
          [
           "Paris",
           5,
           "Alojamiento entero"
          ],
          [
           "Paris",
           5,
           "Alojamiento entero"
          ],
          [
           "Paris",
           5,
           "Alojamiento entero"
          ],
          [
           "Paris",
           5,
           "Alojamiento entero"
          ],
          [
           "Paris",
           4.92,
           "Alojamiento entero"
          ],
          [
           "Paris",
           5,
           "Alojamiento entero"
          ],
          [
           "Paris",
           4.9,
           "Alojamiento entero"
          ],
          [
           "Paris",
           5,
           "Alojamiento entero"
          ],
          [
           "Paris",
           5,
           "Alojamiento entero"
          ],
          [
           "Paris",
           0,
           "Alojamiento entero"
          ],
          [
           "Paris",
           4.9,
           "Alojamiento entero"
          ],
          [
           "Paris",
           5,
           "Alojamiento entero"
          ],
          [
           "Paris",
           5,
           "Alojamiento entero"
          ],
          [
           "Paris",
           5,
           "Alojamiento entero"
          ],
          [
           "Paris",
           4.93,
           "Alojamiento entero"
          ],
          [
           "Paris",
           4.94,
           "Alojamiento entero"
          ],
          [
           "Paris",
           0,
           "Alojamiento entero"
          ],
          [
           "Paris",
           4.94,
           "Alojamiento entero"
          ],
          [
           "Paris",
           5,
           "Alojamiento entero"
          ],
          [
           "Paris",
           4.88,
           "Alojamiento entero"
          ],
          [
           "Paris",
           4.98,
           "Alojamiento entero"
          ],
          [
           "Paris",
           4.98,
           "Alojamiento entero"
          ],
          [
           "Paris",
           4.94,
           "Alojamiento entero"
          ],
          [
           "Paris",
           4.99,
           "Alojamiento entero"
          ],
          [
           "Paris",
           4.87,
           "Alojamiento entero"
          ],
          [
           "Paris",
           5,
           "Alojamiento entero"
          ],
          [
           "Paris",
           4.96,
           "Alojamiento entero"
          ],
          [
           "Paris",
           4.95,
           "Alojamiento entero"
          ],
          [
           "Paris",
           4.99,
           "Alojamiento entero"
          ],
          [
           "Paris",
           5,
           "Alojamiento entero"
          ],
          [
           "Paris",
           4.86,
           "Alojamiento entero"
          ],
          [
           "Paris",
           5,
           "Alojamiento entero"
          ],
          [
           "Paris",
           4.86,
           "Alojamiento entero"
          ],
          [
           "Paris",
           5,
           "Alojamiento entero"
          ],
          [
           "Paris",
           5,
           "Alojamiento entero"
          ],
          [
           "Paris",
           5,
           "Alojamiento entero"
          ],
          [
           "Paris",
           4.9,
           "Alojamiento entero"
          ],
          [
           "Paris",
           5,
           "Alojamiento entero"
          ],
          [
           "Paris",
           4.9,
           "Habitación"
          ],
          [
           "Paris",
           4.96,
           "Alojamiento entero"
          ],
          [
           "Paris",
           0,
           "Alojamiento entero"
          ],
          [
           "Paris",
           4.99,
           "Alojamiento entero"
          ],
          [
           "Paris",
           0,
           "Alojamiento entero"
          ],
          [
           "Paris",
           5,
           "Alojamiento entero"
          ],
          [
           "Paris",
           4.95,
           "Habitación"
          ],
          [
           "Paris",
           0,
           "Alojamiento entero"
          ],
          [
           "Paris",
           4.88,
           "Alojamiento entero"
          ],
          [
           "Paris",
           4.85,
           "Alojamiento entero"
          ],
          [
           "Paris",
           5,
           "Alojamiento entero"
          ],
          [
           "Paris",
           4.96,
           "Alojamiento entero"
          ],
          [
           "Paris",
           4.65,
           "Alojamiento entero"
          ],
          [
           "Paris",
           4.92,
           "Alojamiento entero"
          ],
          [
           "Paris",
           4.93,
           "Alojamiento entero"
          ],
          [
           "Paris",
           0,
           "Alojamiento entero"
          ],
          [
           "Paris",
           4.97,
           "Alojamiento entero"
          ],
          [
           "Paris",
           4.97,
           "Alojamiento entero"
          ],
          [
           "Paris",
           4.98,
           "Alojamiento entero"
          ],
          [
           "Paris",
           4.71,
           "Alojamiento entero"
          ],
          [
           "Paris",
           4.98,
           "Habitación"
          ],
          [
           "Paris",
           4.99,
           "Alojamiento entero"
          ],
          [
           "Paris",
           4.96,
           "Alojamiento entero"
          ],
          [
           "Paris",
           4.8,
           "Alojamiento entero"
          ],
          [
           "Paris",
           4.99,
           "Alojamiento entero"
          ],
          [
           "Paris",
           0,
           "Alojamiento entero"
          ],
          [
           "Paris",
           4.83,
           "Alojamiento entero"
          ],
          [
           "Paris",
           4.94,
           "Alojamiento entero"
          ],
          [
           "Paris",
           4.89,
           "Alojamiento entero"
          ],
          [
           "Paris",
           4.91,
           "Alojamiento entero"
          ],
          [
           "Paris",
           4.98,
           "Habitación"
          ],
          [
           "Paris",
           4.95,
           "Alojamiento entero"
          ],
          [
           "Paris",
           5,
           "Alojamiento entero"
          ],
          [
           "Paris",
           4.65,
           "Alojamiento entero"
          ],
          [
           "Paris",
           5,
           "Alojamiento entero"
          ],
          [
           "Paris",
           0,
           "Alojamiento entero"
          ],
          [
           "Paris",
           4.92,
           "Habitación"
          ],
          [
           "Paris",
           4.98,
           "Alojamiento entero"
          ],
          [
           "Paris",
           5,
           "Alojamiento entero"
          ],
          [
           "Paris",
           4.9,
           "Alojamiento entero"
          ],
          [
           "Paris",
           5,
           "Alojamiento entero"
          ],
          [
           "Paris",
           5,
           "Alojamiento entero"
          ],
          [
           "Paris",
           4.88,
           "Alojamiento entero"
          ],
          [
           "Paris",
           4.86,
           "Alojamiento entero"
          ],
          [
           "Paris",
           4.92,
           "Alojamiento entero"
          ],
          [
           "Paris",
           0,
           "Alojamiento entero"
          ],
          [
           "Paris",
           4.86,
           "Alojamiento entero"
          ],
          [
           "Paris",
           0,
           "Alojamiento entero"
          ],
          [
           "Paris",
           5,
           "Alojamiento entero"
          ],
          [
           "Paris",
           0,
           "Alojamiento entero"
          ],
          [
           "Paris",
           5,
           "Alojamiento entero"
          ],
          [
           "Paris",
           5,
           "Alojamiento entero"
          ],
          [
           "Paris",
           4.76,
           "Alojamiento entero"
          ],
          [
           "Paris",
           4.92,
           "Alojamiento entero"
          ],
          [
           "Paris",
           4.96,
           "Alojamiento entero"
          ],
          [
           "Paris",
           4.88,
           "Alojamiento entero"
          ],
          [
           "Paris",
           4.96,
           "Alojamiento entero"
          ],
          [
           "Paris",
           0,
           "Alojamiento entero"
          ],
          [
           "Paris",
           4.95,
           "Alojamiento entero"
          ],
          [
           "Paris",
           4.92,
           "Alojamiento entero"
          ],
          [
           "Paris",
           4.92,
           "Alojamiento entero"
          ],
          [
           "Paris",
           5,
           "Alojamiento entero"
          ],
          [
           "Paris",
           0,
           "Alojamiento entero"
          ],
          [
           "Paris",
           4.86,
           "Alojamiento entero"
          ],
          [
           "Paris",
           0,
           "Alojamiento entero"
          ],
          [
           "Paris",
           4.94,
           "Alojamiento entero"
          ],
          [
           "Paris",
           4.75,
           "Alojamiento entero"
          ],
          [
           "Paris",
           5,
           "Alojamiento entero"
          ],
          [
           "Paris",
           4.92,
           "Alojamiento entero"
          ],
          [
           "Paris",
           5,
           "Alojamiento entero"
          ],
          [
           "Paris",
           5,
           "Alojamiento entero"
          ],
          [
           "Paris",
           0,
           "Alojamiento entero"
          ],
          [
           "Paris",
           4.87,
           "Alojamiento entero"
          ],
          [
           "Paris",
           5,
           "Alojamiento entero"
          ],
          [
           "Paris",
           5,
           "Alojamiento entero"
          ],
          [
           "Paris",
           4.85,
           "Alojamiento entero"
          ],
          [
           "Paris",
           4.95,
           "Alojamiento entero"
          ],
          [
           "Paris",
           4.91,
           "Alojamiento entero"
          ],
          [
           "Paris",
           4.85,
           "Alojamiento entero"
          ],
          [
           "Paris",
           4.95,
           "Alojamiento entero"
          ],
          [
           "Paris",
           5,
           "Alojamiento entero"
          ],
          [
           "Paris",
           5,
           "Alojamiento entero"
          ],
          [
           "Paris",
           4.75,
           "Alojamiento entero"
          ],
          [
           "Paris",
           4.96,
           "Alojamiento entero"
          ],
          [
           "Paris",
           0,
           "Alojamiento entero"
          ],
          [
           "Paris",
           0,
           "Alojamiento entero"
          ],
          [
           "Paris",
           5,
           "Alojamiento entero"
          ],
          [
           "Paris",
           4.9,
           "Alojamiento entero"
          ],
          [
           "Paris",
           0,
           "Alojamiento entero"
          ],
          [
           "Paris",
           4.94,
           "Alojamiento entero"
          ],
          [
           "Paris",
           4.86,
           "Alojamiento entero"
          ],
          [
           "Paris",
           4.88,
           "Alojamiento entero"
          ],
          [
           "Paris",
           4.96,
           "Alojamiento entero"
          ],
          [
           "Paris",
           4.94,
           "Alojamiento entero"
          ],
          [
           "Paris",
           4.82,
           "Alojamiento entero"
          ],
          [
           "Paris",
           4.8,
           "Alojamiento entero"
          ]
         ],
         "hovertemplate": "city=%{customdata[0]}<br>price_per_night=%{x}<br>reviews=%{y}<br>rating=%{customdata[1]}<br>category=%{customdata[2]}<extra></extra>",
         "legendgroup": "Paris",
         "marker": {
          "color": "#00cc96",
          "symbol": "circle"
         },
         "mode": "markers",
         "name": "Paris",
         "orientation": "v",
         "showlegend": true,
         "type": "scatter",
         "x": [
          186,
          379,
          100,
          89,
          130,
          86,
          86,
          300,
          250,
          240,
          265,
          130,
          110,
          99,
          null,
          210,
          164,
          179,
          179,
          308,
          140,
          145,
          138,
          110,
          280,
          null,
          87,
          180,
          168,
          140,
          191,
          152,
          128,
          190,
          130,
          136,
          261,
          120,
          180,
          188,
          219,
          null,
          176,
          67,
          95,
          289,
          220,
          219,
          182,
          196,
          130,
          198,
          160,
          280,
          155,
          196,
          90,
          120,
          130,
          117,
          163,
          140,
          95,
          176,
          196,
          115,
          140,
          281,
          220,
          164,
          71,
          180,
          220,
          71,
          180,
          160,
          70,
          91,
          247,
          220,
          140,
          179,
          182,
          205,
          214,
          187,
          90,
          223,
          299,
          176,
          223,
          481,
          180,
          null,
          251,
          272,
          140,
          70,
          325,
          444,
          114,
          319,
          70,
          135,
          130,
          218,
          184,
          163,
          540,
          235,
          54,
          114,
          349,
          120,
          205,
          279,
          220,
          269,
          189,
          110,
          715,
          65,
          68,
          180,
          140,
          165,
          315,
          286,
          140,
          234,
          290,
          350,
          150,
          124,
          124,
          250,
          169,
          100,
          210,
          178,
          140,
          216,
          96,
          378,
          240,
          184,
          216,
          378,
          143,
          110,
          220,
          350,
          280,
          80,
          596,
          82,
          150,
          200,
          92,
          124,
          160,
          301,
          100,
          150,
          295,
          100,
          135,
          162,
          212,
          150,
          83,
          159,
          75,
          154,
          275,
          180,
          100,
          100,
          85,
          170,
          100,
          159,
          96,
          229,
          134,
          72,
          100,
          396,
          260,
          212,
          145,
          90,
          169,
          250,
          137,
          228,
          138,
          315,
          69,
          150,
          258,
          62,
          110,
          117,
          453,
          144,
          250,
          190,
          130,
          288,
          533,
          125,
          129,
          null,
          601,
          120,
          228,
          143,
          86,
          140,
          299,
          191,
          276,
          150,
          408,
          125,
          45,
          240,
          134,
          71,
          130,
          150,
          292,
          426,
          150,
          110,
          325,
          320,
          162,
          180,
          59,
          140,
          100,
          145,
          109,
          200,
          111,
          199,
          107,
          230,
          101,
          190
         ],
         "xaxis": "x",
         "y": [
          34,
          196,
          0,
          0,
          0,
          0,
          0,
          0,
          0,
          0,
          20,
          62,
          174,
          0,
          0,
          18,
          0,
          9,
          9,
          24,
          0,
          17,
          0,
          29,
          230,
          0,
          3,
          17,
          0,
          0,
          4,
          3,
          17,
          3,
          87,
          0,
          0,
          0,
          24,
          0,
          0,
          0,
          0,
          5,
          8,
          0,
          0,
          0,
          27,
          0,
          5,
          29,
          14,
          0,
          6,
          31,
          17,
          6,
          186,
          0,
          331,
          0,
          0,
          0,
          0,
          16,
          91,
          150,
          0,
          0,
          0,
          25,
          0,
          0,
          25,
          0,
          10,
          0,
          132,
          0,
          0,
          121,
          27,
          62,
          0,
          0,
          0,
          0,
          0,
          0,
          0,
          27,
          9,
          0,
          0,
          0,
          11,
          0,
          0,
          0,
          6,
          52,
          3,
          3,
          5,
          0,
          0,
          331,
          18,
          25,
          18,
          0,
          0,
          7,
          22,
          0,
          3,
          67,
          45,
          12,
          0,
          24,
          257,
          29,
          10,
          3,
          0,
          0,
          10,
          6,
          0,
          8,
          472,
          72,
          0,
          17,
          10,
          416,
          42,
          135,
          16,
          124,
          30,
          0,
          23,
          21,
          124,
          0,
          29,
          10,
          304,
          3,
          21,
          4,
          80,
          0,
          249,
          114,
          0,
          99,
          0,
          56,
          354,
          0,
          230,
          86,
          3,
          100,
          0,
          97,
          107,
          0,
          32,
          32,
          51,
          7,
          60,
          83,
          224,
          20,
          83,
          0,
          47,
          16,
          9,
          23,
          60,
          22,
          19,
          0,
          25,
          0,
          79,
          148,
          20,
          0,
          10,
          12,
          223,
          29,
          152,
          0,
          0,
          0,
          8,
          0,
          37,
          29,
          29,
          215,
          0,
          32,
          138,
          0,
          138,
          13,
          132,
          0,
          0,
          84,
          0,
          154,
          0,
          3,
          0,
          19,
          4,
          0,
          0,
          34,
          34,
          20,
          366,
          99,
          20,
          79,
          0,
          16,
          4,
          26,
          0,
          0,
          0,
          30,
          0,
          18,
          0,
          182,
          0,
          18,
          17,
          241
         ],
         "yaxis": "y"
        }
       ],
       "layout": {
        "legend": {
         "title": {
          "text": "city"
         },
         "tracegroupgap": 0
        },
        "margin": {
         "t": 60
        },
        "template": {
         "data": {
          "bar": [
           {
            "error_x": {
             "color": "#2a3f5f"
            },
            "error_y": {
             "color": "#2a3f5f"
            },
            "marker": {
             "line": {
              "color": "#E5ECF6",
              "width": 0.5
             },
             "pattern": {
              "fillmode": "overlay",
              "size": 10,
              "solidity": 0.2
             }
            },
            "type": "bar"
           }
          ],
          "barpolar": [
           {
            "marker": {
             "line": {
              "color": "#E5ECF6",
              "width": 0.5
             },
             "pattern": {
              "fillmode": "overlay",
              "size": 10,
              "solidity": 0.2
             }
            },
            "type": "barpolar"
           }
          ],
          "carpet": [
           {
            "aaxis": {
             "endlinecolor": "#2a3f5f",
             "gridcolor": "white",
             "linecolor": "white",
             "minorgridcolor": "white",
             "startlinecolor": "#2a3f5f"
            },
            "baxis": {
             "endlinecolor": "#2a3f5f",
             "gridcolor": "white",
             "linecolor": "white",
             "minorgridcolor": "white",
             "startlinecolor": "#2a3f5f"
            },
            "type": "carpet"
           }
          ],
          "choropleth": [
           {
            "colorbar": {
             "outlinewidth": 0,
             "ticks": ""
            },
            "type": "choropleth"
           }
          ],
          "contour": [
           {
            "colorbar": {
             "outlinewidth": 0,
             "ticks": ""
            },
            "colorscale": [
             [
              0,
              "#0d0887"
             ],
             [
              0.1111111111111111,
              "#46039f"
             ],
             [
              0.2222222222222222,
              "#7201a8"
             ],
             [
              0.3333333333333333,
              "#9c179e"
             ],
             [
              0.4444444444444444,
              "#bd3786"
             ],
             [
              0.5555555555555556,
              "#d8576b"
             ],
             [
              0.6666666666666666,
              "#ed7953"
             ],
             [
              0.7777777777777778,
              "#fb9f3a"
             ],
             [
              0.8888888888888888,
              "#fdca26"
             ],
             [
              1,
              "#f0f921"
             ]
            ],
            "type": "contour"
           }
          ],
          "contourcarpet": [
           {
            "colorbar": {
             "outlinewidth": 0,
             "ticks": ""
            },
            "type": "contourcarpet"
           }
          ],
          "heatmap": [
           {
            "colorbar": {
             "outlinewidth": 0,
             "ticks": ""
            },
            "colorscale": [
             [
              0,
              "#0d0887"
             ],
             [
              0.1111111111111111,
              "#46039f"
             ],
             [
              0.2222222222222222,
              "#7201a8"
             ],
             [
              0.3333333333333333,
              "#9c179e"
             ],
             [
              0.4444444444444444,
              "#bd3786"
             ],
             [
              0.5555555555555556,
              "#d8576b"
             ],
             [
              0.6666666666666666,
              "#ed7953"
             ],
             [
              0.7777777777777778,
              "#fb9f3a"
             ],
             [
              0.8888888888888888,
              "#fdca26"
             ],
             [
              1,
              "#f0f921"
             ]
            ],
            "type": "heatmap"
           }
          ],
          "heatmapgl": [
           {
            "colorbar": {
             "outlinewidth": 0,
             "ticks": ""
            },
            "colorscale": [
             [
              0,
              "#0d0887"
             ],
             [
              0.1111111111111111,
              "#46039f"
             ],
             [
              0.2222222222222222,
              "#7201a8"
             ],
             [
              0.3333333333333333,
              "#9c179e"
             ],
             [
              0.4444444444444444,
              "#bd3786"
             ],
             [
              0.5555555555555556,
              "#d8576b"
             ],
             [
              0.6666666666666666,
              "#ed7953"
             ],
             [
              0.7777777777777778,
              "#fb9f3a"
             ],
             [
              0.8888888888888888,
              "#fdca26"
             ],
             [
              1,
              "#f0f921"
             ]
            ],
            "type": "heatmapgl"
           }
          ],
          "histogram": [
           {
            "marker": {
             "pattern": {
              "fillmode": "overlay",
              "size": 10,
              "solidity": 0.2
             }
            },
            "type": "histogram"
           }
          ],
          "histogram2d": [
           {
            "colorbar": {
             "outlinewidth": 0,
             "ticks": ""
            },
            "colorscale": [
             [
              0,
              "#0d0887"
             ],
             [
              0.1111111111111111,
              "#46039f"
             ],
             [
              0.2222222222222222,
              "#7201a8"
             ],
             [
              0.3333333333333333,
              "#9c179e"
             ],
             [
              0.4444444444444444,
              "#bd3786"
             ],
             [
              0.5555555555555556,
              "#d8576b"
             ],
             [
              0.6666666666666666,
              "#ed7953"
             ],
             [
              0.7777777777777778,
              "#fb9f3a"
             ],
             [
              0.8888888888888888,
              "#fdca26"
             ],
             [
              1,
              "#f0f921"
             ]
            ],
            "type": "histogram2d"
           }
          ],
          "histogram2dcontour": [
           {
            "colorbar": {
             "outlinewidth": 0,
             "ticks": ""
            },
            "colorscale": [
             [
              0,
              "#0d0887"
             ],
             [
              0.1111111111111111,
              "#46039f"
             ],
             [
              0.2222222222222222,
              "#7201a8"
             ],
             [
              0.3333333333333333,
              "#9c179e"
             ],
             [
              0.4444444444444444,
              "#bd3786"
             ],
             [
              0.5555555555555556,
              "#d8576b"
             ],
             [
              0.6666666666666666,
              "#ed7953"
             ],
             [
              0.7777777777777778,
              "#fb9f3a"
             ],
             [
              0.8888888888888888,
              "#fdca26"
             ],
             [
              1,
              "#f0f921"
             ]
            ],
            "type": "histogram2dcontour"
           }
          ],
          "mesh3d": [
           {
            "colorbar": {
             "outlinewidth": 0,
             "ticks": ""
            },
            "type": "mesh3d"
           }
          ],
          "parcoords": [
           {
            "line": {
             "colorbar": {
              "outlinewidth": 0,
              "ticks": ""
             }
            },
            "type": "parcoords"
           }
          ],
          "pie": [
           {
            "automargin": true,
            "type": "pie"
           }
          ],
          "scatter": [
           {
            "marker": {
             "colorbar": {
              "outlinewidth": 0,
              "ticks": ""
             }
            },
            "type": "scatter"
           }
          ],
          "scatter3d": [
           {
            "line": {
             "colorbar": {
              "outlinewidth": 0,
              "ticks": ""
             }
            },
            "marker": {
             "colorbar": {
              "outlinewidth": 0,
              "ticks": ""
             }
            },
            "type": "scatter3d"
           }
          ],
          "scattercarpet": [
           {
            "marker": {
             "colorbar": {
              "outlinewidth": 0,
              "ticks": ""
             }
            },
            "type": "scattercarpet"
           }
          ],
          "scattergeo": [
           {
            "marker": {
             "colorbar": {
              "outlinewidth": 0,
              "ticks": ""
             }
            },
            "type": "scattergeo"
           }
          ],
          "scattergl": [
           {
            "marker": {
             "colorbar": {
              "outlinewidth": 0,
              "ticks": ""
             }
            },
            "type": "scattergl"
           }
          ],
          "scattermapbox": [
           {
            "marker": {
             "colorbar": {
              "outlinewidth": 0,
              "ticks": ""
             }
            },
            "type": "scattermapbox"
           }
          ],
          "scatterpolar": [
           {
            "marker": {
             "colorbar": {
              "outlinewidth": 0,
              "ticks": ""
             }
            },
            "type": "scatterpolar"
           }
          ],
          "scatterpolargl": [
           {
            "marker": {
             "colorbar": {
              "outlinewidth": 0,
              "ticks": ""
             }
            },
            "type": "scatterpolargl"
           }
          ],
          "scatterternary": [
           {
            "marker": {
             "colorbar": {
              "outlinewidth": 0,
              "ticks": ""
             }
            },
            "type": "scatterternary"
           }
          ],
          "surface": [
           {
            "colorbar": {
             "outlinewidth": 0,
             "ticks": ""
            },
            "colorscale": [
             [
              0,
              "#0d0887"
             ],
             [
              0.1111111111111111,
              "#46039f"
             ],
             [
              0.2222222222222222,
              "#7201a8"
             ],
             [
              0.3333333333333333,
              "#9c179e"
             ],
             [
              0.4444444444444444,
              "#bd3786"
             ],
             [
              0.5555555555555556,
              "#d8576b"
             ],
             [
              0.6666666666666666,
              "#ed7953"
             ],
             [
              0.7777777777777778,
              "#fb9f3a"
             ],
             [
              0.8888888888888888,
              "#fdca26"
             ],
             [
              1,
              "#f0f921"
             ]
            ],
            "type": "surface"
           }
          ],
          "table": [
           {
            "cells": {
             "fill": {
              "color": "#EBF0F8"
             },
             "line": {
              "color": "white"
             }
            },
            "header": {
             "fill": {
              "color": "#C8D4E3"
             },
             "line": {
              "color": "white"
             }
            },
            "type": "table"
           }
          ]
         },
         "layout": {
          "annotationdefaults": {
           "arrowcolor": "#2a3f5f",
           "arrowhead": 0,
           "arrowwidth": 1
          },
          "autotypenumbers": "strict",
          "coloraxis": {
           "colorbar": {
            "outlinewidth": 0,
            "ticks": ""
           }
          },
          "colorscale": {
           "diverging": [
            [
             0,
             "#8e0152"
            ],
            [
             0.1,
             "#c51b7d"
            ],
            [
             0.2,
             "#de77ae"
            ],
            [
             0.3,
             "#f1b6da"
            ],
            [
             0.4,
             "#fde0ef"
            ],
            [
             0.5,
             "#f7f7f7"
            ],
            [
             0.6,
             "#e6f5d0"
            ],
            [
             0.7,
             "#b8e186"
            ],
            [
             0.8,
             "#7fbc41"
            ],
            [
             0.9,
             "#4d9221"
            ],
            [
             1,
             "#276419"
            ]
           ],
           "sequential": [
            [
             0,
             "#0d0887"
            ],
            [
             0.1111111111111111,
             "#46039f"
            ],
            [
             0.2222222222222222,
             "#7201a8"
            ],
            [
             0.3333333333333333,
             "#9c179e"
            ],
            [
             0.4444444444444444,
             "#bd3786"
            ],
            [
             0.5555555555555556,
             "#d8576b"
            ],
            [
             0.6666666666666666,
             "#ed7953"
            ],
            [
             0.7777777777777778,
             "#fb9f3a"
            ],
            [
             0.8888888888888888,
             "#fdca26"
            ],
            [
             1,
             "#f0f921"
            ]
           ],
           "sequentialminus": [
            [
             0,
             "#0d0887"
            ],
            [
             0.1111111111111111,
             "#46039f"
            ],
            [
             0.2222222222222222,
             "#7201a8"
            ],
            [
             0.3333333333333333,
             "#9c179e"
            ],
            [
             0.4444444444444444,
             "#bd3786"
            ],
            [
             0.5555555555555556,
             "#d8576b"
            ],
            [
             0.6666666666666666,
             "#ed7953"
            ],
            [
             0.7777777777777778,
             "#fb9f3a"
            ],
            [
             0.8888888888888888,
             "#fdca26"
            ],
            [
             1,
             "#f0f921"
            ]
           ]
          },
          "colorway": [
           "#636efa",
           "#EF553B",
           "#00cc96",
           "#ab63fa",
           "#FFA15A",
           "#19d3f3",
           "#FF6692",
           "#B6E880",
           "#FF97FF",
           "#FECB52"
          ],
          "font": {
           "color": "#2a3f5f"
          },
          "geo": {
           "bgcolor": "white",
           "lakecolor": "white",
           "landcolor": "#E5ECF6",
           "showlakes": true,
           "showland": true,
           "subunitcolor": "white"
          },
          "hoverlabel": {
           "align": "left"
          },
          "hovermode": "closest",
          "mapbox": {
           "style": "light"
          },
          "paper_bgcolor": "white",
          "plot_bgcolor": "#E5ECF6",
          "polar": {
           "angularaxis": {
            "gridcolor": "white",
            "linecolor": "white",
            "ticks": ""
           },
           "bgcolor": "#E5ECF6",
           "radialaxis": {
            "gridcolor": "white",
            "linecolor": "white",
            "ticks": ""
           }
          },
          "scene": {
           "xaxis": {
            "backgroundcolor": "#E5ECF6",
            "gridcolor": "white",
            "gridwidth": 2,
            "linecolor": "white",
            "showbackground": true,
            "ticks": "",
            "zerolinecolor": "white"
           },
           "yaxis": {
            "backgroundcolor": "#E5ECF6",
            "gridcolor": "white",
            "gridwidth": 2,
            "linecolor": "white",
            "showbackground": true,
            "ticks": "",
            "zerolinecolor": "white"
           },
           "zaxis": {
            "backgroundcolor": "#E5ECF6",
            "gridcolor": "white",
            "gridwidth": 2,
            "linecolor": "white",
            "showbackground": true,
            "ticks": "",
            "zerolinecolor": "white"
           }
          },
          "shapedefaults": {
           "line": {
            "color": "#2a3f5f"
           }
          },
          "ternary": {
           "aaxis": {
            "gridcolor": "white",
            "linecolor": "white",
            "ticks": ""
           },
           "baxis": {
            "gridcolor": "white",
            "linecolor": "white",
            "ticks": ""
           },
           "bgcolor": "#E5ECF6",
           "caxis": {
            "gridcolor": "white",
            "linecolor": "white",
            "ticks": ""
           }
          },
          "title": {
           "x": 0.05
          },
          "xaxis": {
           "automargin": true,
           "gridcolor": "white",
           "linecolor": "white",
           "ticks": "",
           "title": {
            "standoff": 15
           },
           "zerolinecolor": "white",
           "zerolinewidth": 2
          },
          "yaxis": {
           "automargin": true,
           "gridcolor": "white",
           "linecolor": "white",
           "ticks": "",
           "title": {
            "standoff": 15
           },
           "zerolinecolor": "white",
           "zerolinewidth": 2
          }
         }
        },
        "xaxis": {
         "anchor": "y",
         "domain": [
          0,
          1
         ],
         "title": {
          "text": "price_per_night"
         }
        },
        "yaxis": {
         "anchor": "x",
         "domain": [
          0,
          1
         ],
         "title": {
          "text": "reviews"
         }
        }
       }
      }
     },
     "metadata": {},
     "output_type": "display_data"
    }
   ],
   "source": [
    "px.scatter(\n",
    "    data_frame=airbnb_data,\n",
    "    x=\"price_per_night\",\n",
    "    y=\"reviews\",\n",
    "    hover_data=[\"city\", \"rating\", \"category\"],\n",
    "    color=\"city\",\n",
    ")"
   ]
  },
  {
   "cell_type": "markdown",
   "metadata": {},
   "source": [
    "*Number of accommodations per city*"
   ]
  },
  {
   "cell_type": "code",
   "execution_count": 18,
   "metadata": {},
   "outputs": [
    {
     "data": {
      "image/png": "[encoded data removed]",
      "text/plain": [
       "<Figure size 720x432 with 1 Axes>"
      ]
     },
     "metadata": {
      "needs_background": "light"
     },
     "output_type": "display_data"
    }
   ],
   "source": [
    "fig = plt.figure(figsize=(10, 6))\n",
    "\n",
    "sns.countplot(x=\"category\", hue=\"city\", data=airbnb_data, palette=\"dark:#5A9_r\")\n",
    "\n",
    "plt.title(\"Number of accomodations by city and type\")\n",
    "plt.show()"
   ]
  },
  {
   "cell_type": "markdown",
   "metadata": {},
   "source": [
    "*Median Price Per Night Grouped by Country*"
   ]
  },
  {
   "cell_type": "code",
   "execution_count": 19,
   "metadata": {},
   "outputs": [
    {
     "data": {
      "image/png": "[encoded data removed]",
      "text/plain": [
       "<Figure size 720x432 with 1 Axes>"
      ]
     },
     "metadata": {
      "needs_background": "light"
     },
     "output_type": "display_data"
    }
   ],
   "source": [
    "median_prices = airbnb_data.groupby(\"country\")[\"price_per_night\"].median().reset_index()\n",
    "\n",
    "# Gráfico de barras\n",
    "plt.figure(figsize=(10, 6))\n",
    "plt.bar(median_prices[\"country\"], median_prices[\"price_per_night\"], color=\"cadetblue\")\n",
    "\n",
    "# Etiquetas\n",
    "plt.ylabel(\"Mediana del Precio por Noche\")\n",
    "plt.title(\"Mediana del Precio por Noche Agrupado por País\")\n",
    "plt.xticks(rotation=45, ha=\"right\")\n",
    "\n",
    "\n",
    "plt.tight_layout()\n",
    "plt.show()"
   ]
  }
 ],
 "metadata": {
  "kernelspec": {
   "display_name": "base",
   "language": "python",
   "name": "python3"
  },
  "language_info": {
   "codemirror_mode": {
    "name": "ipython",
    "version": 3
   },
   "file_extension": ".py",
   "mimetype": "text/x-python",
   "name": "python",
   "nbconvert_exporter": "python",
   "pygments_lexer": "ipython3",
   "version": "3.9.12"
  }
 },
 "nbformat": 4,
 "nbformat_minor": 2
}
